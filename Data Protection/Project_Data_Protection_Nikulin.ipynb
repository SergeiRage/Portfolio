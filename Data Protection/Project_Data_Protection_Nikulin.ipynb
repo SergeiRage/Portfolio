{
 "cells": [
  {
   "cell_type": "markdown",
   "metadata": {
    "toc": true
   },
   "source": [
    "<h1>Содержание<span class=\"tocSkip\"></span></h1>\n",
    "<div class=\"toc\"><ul class=\"toc-item\"><li><span><a href=\"#Загрузка-данных\" data-toc-modified-id=\"Загрузка-данных-1\"><span class=\"toc-item-num\">1&nbsp;&nbsp;</span>Загрузка данных</a></span></li><li><span><a href=\"#Умножение-матриц\" data-toc-modified-id=\"Умножение-матриц-2\"><span class=\"toc-item-num\">2&nbsp;&nbsp;</span>Умножение матриц</a></span></li><li><span><a href=\"#Алгоритм-преобразования\" data-toc-modified-id=\"Алгоритм-преобразования-3\"><span class=\"toc-item-num\">3&nbsp;&nbsp;</span>Алгоритм преобразования</a></span></li><li><span><a href=\"#Проверка-алгоритма\" data-toc-modified-id=\"Проверка-алгоритма-4\"><span class=\"toc-item-num\">4&nbsp;&nbsp;</span>Проверка алгоритма</a></span></li><li><span><a href=\"#Общий-вывод\" data-toc-modified-id=\"Общий-вывод-5\"><span class=\"toc-item-num\">5&nbsp;&nbsp;</span>Общий вывод</a></span></li><li><span><a href=\"#Чек-лист-проверки\" data-toc-modified-id=\"Чек-лист-проверки-6\"><span class=\"toc-item-num\">6&nbsp;&nbsp;</span>Чек-лист проверки</a></span></li></ul></div>"
   ]
  },
  {
   "cell_type": "markdown",
   "metadata": {},
   "source": [
    "# Защита персональных данных клиентов"
   ]
  },
  {
   "cell_type": "markdown",
   "metadata": {},
   "source": [
    "Вам нужно защитить данные клиентов страховой компании «Хоть потоп». Разработайте такой метод преобразования данных, чтобы по ним было сложно восстановить персональную информацию. Обоснуйте корректность его работы.\n",
    "\n",
    "Нужно защитить данные, чтобы при преобразовании качество моделей машинного обучения не ухудшилось. Подбирать наилучшую модель не требуется."
   ]
  },
  {
   "cell_type": "markdown",
   "metadata": {},
   "source": [
    " ** **Защита персональных данных клиентов** \n",
    " \n",
    "В работе необходимо построить систему преобразования данных, позволяющую зашифровать исходные данные о клиентах страховой компании \"Хоть потоп\". Данные необходимо преобразовать таким образом, чтобы это не повлияло на качество моделей машинного обучения.\n",
    "Основная задача проекта заключается в разработке метода преобразования данных.\n",
    "\n",
    " **Цель исследования**\n",
    " \n",
    "Цель проекта заключается в разработке метода преобразования данных для их защиты, а именно:\n",
    "1. Проанализировать основную информацию о клиентах.\n",
    "2. Ответить на вопрос о влиянии умножения данных на обратимую матрицу на качество линейной регрессии.\n",
    "3. Предложить метод преобразования данных.\n",
    "4. Проверить предложенный метод и качество моделей до и после преобразования данных.\n",
    "\n",
    "**Ход исследования**\n",
    "\n",
    "Данные для исследования получены из одного датафрейма. В нашем распоряжении данные о клиентах, такие как пол, возраст и т.д. .\n",
    "\n",
    "Таким образом, исследование будет состоять из следующих этапов:\n",
    "- обзор данных;\n",
    "- предобработка данных (при необходимости);\n",
    "- анализ влияния умножения данных на обратимую матрицу на качество линейной регрессии;\n",
    "- разработка метода преобразования данных;\n",
    "- применение метода преобразования данных;\n",
    "- проверка качества модели до и после преобразования данных по метрике R2;\n",
    "- основные выводы."
   ]
  },
  {
   "cell_type": "markdown",
   "metadata": {},
   "source": [
    "## Загрузка данных"
   ]
  },
  {
   "cell_type": "code",
   "execution_count": 1,
   "metadata": {},
   "outputs": [],
   "source": [
    "!pip install -q phik"
   ]
  },
  {
   "cell_type": "markdown",
   "metadata": {},
   "source": [
    "Загрузка библиотек."
   ]
  },
  {
   "cell_type": "code",
   "execution_count": 2,
   "metadata": {},
   "outputs": [],
   "source": [
    "import pandas as pd\n",
    "import numpy as np\n",
    "import seaborn as sns\n",
    "import warnings\n",
    "import matplotlib.pyplot as plt\n",
    "\n",
    "from sklearn.linear_model import LinearRegression\n",
    "from sklearn.metrics import r2_score\n",
    "from sklearn.model_selection import train_test_split\n",
    "\n",
    "import phik\n",
    "from phik import resources, report\n",
    "from phik.report import plot_correlation_matrix\n",
    "\n",
    "warnings.filterwarnings('ignore')"
   ]
  },
  {
   "cell_type": "markdown",
   "metadata": {},
   "source": [
    "Прочитаем файл и посмотрим основную информацию."
   ]
  },
  {
   "cell_type": "code",
   "execution_count": 3,
   "metadata": {},
   "outputs": [],
   "source": [
    "data = pd.read_csv('/datasets/insurance.csv')"
   ]
  },
  {
   "cell_type": "code",
   "execution_count": 4,
   "metadata": {},
   "outputs": [
    {
     "name": "stdout",
     "output_type": "stream",
     "text": [
      "<class 'pandas.core.frame.DataFrame'>\n",
      "RangeIndex: 5000 entries, 0 to 4999\n",
      "Data columns (total 5 columns):\n",
      " #   Column             Non-Null Count  Dtype  \n",
      "---  ------             --------------  -----  \n",
      " 0   Пол                5000 non-null   int64  \n",
      " 1   Возраст            5000 non-null   float64\n",
      " 2   Зарплата           5000 non-null   float64\n",
      " 3   Члены семьи        5000 non-null   int64  \n",
      " 4   Страховые выплаты  5000 non-null   int64  \n",
      "dtypes: float64(2), int64(3)\n",
      "memory usage: 195.4 KB\n"
     ]
    }
   ],
   "source": [
    "data.info()"
   ]
  },
  {
   "cell_type": "code",
   "execution_count": 5,
   "metadata": {},
   "outputs": [
    {
     "data": {
      "text/html": [
       "<div>\n",
       "<style scoped>\n",
       "    .dataframe tbody tr th:only-of-type {\n",
       "        vertical-align: middle;\n",
       "    }\n",
       "\n",
       "    .dataframe tbody tr th {\n",
       "        vertical-align: top;\n",
       "    }\n",
       "\n",
       "    .dataframe thead th {\n",
       "        text-align: right;\n",
       "    }\n",
       "</style>\n",
       "<table border=\"1\" class=\"dataframe\">\n",
       "  <thead>\n",
       "    <tr style=\"text-align: right;\">\n",
       "      <th></th>\n",
       "      <th>Пол</th>\n",
       "      <th>Возраст</th>\n",
       "      <th>Зарплата</th>\n",
       "      <th>Члены семьи</th>\n",
       "      <th>Страховые выплаты</th>\n",
       "    </tr>\n",
       "  </thead>\n",
       "  <tbody>\n",
       "    <tr>\n",
       "      <th>0</th>\n",
       "      <td>1</td>\n",
       "      <td>41.0</td>\n",
       "      <td>49600.0</td>\n",
       "      <td>1</td>\n",
       "      <td>0</td>\n",
       "    </tr>\n",
       "    <tr>\n",
       "      <th>1</th>\n",
       "      <td>0</td>\n",
       "      <td>46.0</td>\n",
       "      <td>38000.0</td>\n",
       "      <td>1</td>\n",
       "      <td>1</td>\n",
       "    </tr>\n",
       "    <tr>\n",
       "      <th>2</th>\n",
       "      <td>0</td>\n",
       "      <td>29.0</td>\n",
       "      <td>21000.0</td>\n",
       "      <td>0</td>\n",
       "      <td>0</td>\n",
       "    </tr>\n",
       "    <tr>\n",
       "      <th>3</th>\n",
       "      <td>0</td>\n",
       "      <td>21.0</td>\n",
       "      <td>41700.0</td>\n",
       "      <td>2</td>\n",
       "      <td>0</td>\n",
       "    </tr>\n",
       "    <tr>\n",
       "      <th>4</th>\n",
       "      <td>1</td>\n",
       "      <td>28.0</td>\n",
       "      <td>26100.0</td>\n",
       "      <td>0</td>\n",
       "      <td>0</td>\n",
       "    </tr>\n",
       "  </tbody>\n",
       "</table>\n",
       "</div>"
      ],
      "text/plain": [
       "   Пол  Возраст  Зарплата  Члены семьи  Страховые выплаты\n",
       "0    1     41.0   49600.0            1                  0\n",
       "1    0     46.0   38000.0            1                  1\n",
       "2    0     29.0   21000.0            0                  0\n",
       "3    0     21.0   41700.0            2                  0\n",
       "4    1     28.0   26100.0            0                  0"
      ]
     },
     "execution_count": 5,
     "metadata": {},
     "output_type": "execute_result"
    }
   ],
   "source": [
    "data.head(5)"
   ]
  },
  {
   "cell_type": "code",
   "execution_count": 6,
   "metadata": {
    "scrolled": true
   },
   "outputs": [
    {
     "data": {
      "text/html": [
       "<div>\n",
       "<style scoped>\n",
       "    .dataframe tbody tr th:only-of-type {\n",
       "        vertical-align: middle;\n",
       "    }\n",
       "\n",
       "    .dataframe tbody tr th {\n",
       "        vertical-align: top;\n",
       "    }\n",
       "\n",
       "    .dataframe thead th {\n",
       "        text-align: right;\n",
       "    }\n",
       "</style>\n",
       "<table border=\"1\" class=\"dataframe\">\n",
       "  <thead>\n",
       "    <tr style=\"text-align: right;\">\n",
       "      <th></th>\n",
       "      <th>Пол</th>\n",
       "      <th>Возраст</th>\n",
       "      <th>Зарплата</th>\n",
       "      <th>Члены семьи</th>\n",
       "      <th>Страховые выплаты</th>\n",
       "    </tr>\n",
       "  </thead>\n",
       "  <tbody>\n",
       "    <tr>\n",
       "      <th>count</th>\n",
       "      <td>5000.000000</td>\n",
       "      <td>5000.000000</td>\n",
       "      <td>5000.000000</td>\n",
       "      <td>5000.000000</td>\n",
       "      <td>5000.000000</td>\n",
       "    </tr>\n",
       "    <tr>\n",
       "      <th>mean</th>\n",
       "      <td>0.499000</td>\n",
       "      <td>30.952800</td>\n",
       "      <td>39916.360000</td>\n",
       "      <td>1.194200</td>\n",
       "      <td>0.148000</td>\n",
       "    </tr>\n",
       "    <tr>\n",
       "      <th>std</th>\n",
       "      <td>0.500049</td>\n",
       "      <td>8.440807</td>\n",
       "      <td>9900.083569</td>\n",
       "      <td>1.091387</td>\n",
       "      <td>0.463183</td>\n",
       "    </tr>\n",
       "    <tr>\n",
       "      <th>min</th>\n",
       "      <td>0.000000</td>\n",
       "      <td>18.000000</td>\n",
       "      <td>5300.000000</td>\n",
       "      <td>0.000000</td>\n",
       "      <td>0.000000</td>\n",
       "    </tr>\n",
       "    <tr>\n",
       "      <th>25%</th>\n",
       "      <td>0.000000</td>\n",
       "      <td>24.000000</td>\n",
       "      <td>33300.000000</td>\n",
       "      <td>0.000000</td>\n",
       "      <td>0.000000</td>\n",
       "    </tr>\n",
       "    <tr>\n",
       "      <th>50%</th>\n",
       "      <td>0.000000</td>\n",
       "      <td>30.000000</td>\n",
       "      <td>40200.000000</td>\n",
       "      <td>1.000000</td>\n",
       "      <td>0.000000</td>\n",
       "    </tr>\n",
       "    <tr>\n",
       "      <th>75%</th>\n",
       "      <td>1.000000</td>\n",
       "      <td>37.000000</td>\n",
       "      <td>46600.000000</td>\n",
       "      <td>2.000000</td>\n",
       "      <td>0.000000</td>\n",
       "    </tr>\n",
       "    <tr>\n",
       "      <th>max</th>\n",
       "      <td>1.000000</td>\n",
       "      <td>65.000000</td>\n",
       "      <td>79000.000000</td>\n",
       "      <td>6.000000</td>\n",
       "      <td>5.000000</td>\n",
       "    </tr>\n",
       "  </tbody>\n",
       "</table>\n",
       "</div>"
      ],
      "text/plain": [
       "               Пол      Возраст      Зарплата  Члены семьи  Страховые выплаты\n",
       "count  5000.000000  5000.000000   5000.000000  5000.000000        5000.000000\n",
       "mean      0.499000    30.952800  39916.360000     1.194200           0.148000\n",
       "std       0.500049     8.440807   9900.083569     1.091387           0.463183\n",
       "min       0.000000    18.000000   5300.000000     0.000000           0.000000\n",
       "25%       0.000000    24.000000  33300.000000     0.000000           0.000000\n",
       "50%       0.000000    30.000000  40200.000000     1.000000           0.000000\n",
       "75%       1.000000    37.000000  46600.000000     2.000000           0.000000\n",
       "max       1.000000    65.000000  79000.000000     6.000000           5.000000"
      ]
     },
     "execution_count": 6,
     "metadata": {},
     "output_type": "execute_result"
    }
   ],
   "source": [
    "data.describe()"
   ]
  },
  {
   "cell_type": "markdown",
   "metadata": {},
   "source": [
    "Изменим тип данных в столбцах возраст и зарплата на целочисленный."
   ]
  },
  {
   "cell_type": "code",
   "execution_count": 7,
   "metadata": {},
   "outputs": [],
   "source": [
    "data['Возраст'] = data['Возраст'].astype(int)\n",
    "data['Зарплата'] = data['Зарплата'].astype(int)"
   ]
  },
  {
   "cell_type": "markdown",
   "metadata": {},
   "source": [
    "Проверим данные на пропуски и дубликаты."
   ]
  },
  {
   "cell_type": "code",
   "execution_count": 8,
   "metadata": {},
   "outputs": [
    {
     "data": {
      "text/plain": [
       "Пол                  0\n",
       "Возраст              0\n",
       "Зарплата             0\n",
       "Члены семьи          0\n",
       "Страховые выплаты    0\n",
       "dtype: int64"
      ]
     },
     "execution_count": 8,
     "metadata": {},
     "output_type": "execute_result"
    }
   ],
   "source": [
    "data.isna().sum()"
   ]
  },
  {
   "cell_type": "code",
   "execution_count": 9,
   "metadata": {},
   "outputs": [
    {
     "data": {
      "text/plain": [
       "153"
      ]
     },
     "execution_count": 9,
     "metadata": {},
     "output_type": "execute_result"
    }
   ],
   "source": [
    "data.duplicated().sum()"
   ]
  },
  {
   "cell_type": "markdown",
   "metadata": {},
   "source": [
    "Проверим корреляцию между основными признаками."
   ]
  },
  {
   "cell_type": "code",
   "execution_count": 10,
   "metadata": {},
   "outputs": [
    {
     "data": {
      "text/html": [
       "<div>\n",
       "<style scoped>\n",
       "    .dataframe tbody tr th:only-of-type {\n",
       "        vertical-align: middle;\n",
       "    }\n",
       "\n",
       "    .dataframe tbody tr th {\n",
       "        vertical-align: top;\n",
       "    }\n",
       "\n",
       "    .dataframe thead th {\n",
       "        text-align: right;\n",
       "    }\n",
       "</style>\n",
       "<table border=\"1\" class=\"dataframe\">\n",
       "  <thead>\n",
       "    <tr style=\"text-align: right;\">\n",
       "      <th></th>\n",
       "      <th>Пол</th>\n",
       "      <th>Возраст</th>\n",
       "      <th>Зарплата</th>\n",
       "      <th>Члены семьи</th>\n",
       "      <th>Страховые выплаты</th>\n",
       "    </tr>\n",
       "  </thead>\n",
       "  <tbody>\n",
       "    <tr>\n",
       "      <th>Пол</th>\n",
       "      <td>1.000000</td>\n",
       "      <td>0.002074</td>\n",
       "      <td>0.014910</td>\n",
       "      <td>-0.008991</td>\n",
       "      <td>0.010140</td>\n",
       "    </tr>\n",
       "    <tr>\n",
       "      <th>Возраст</th>\n",
       "      <td>0.002074</td>\n",
       "      <td>1.000000</td>\n",
       "      <td>-0.019093</td>\n",
       "      <td>-0.006692</td>\n",
       "      <td>0.651030</td>\n",
       "    </tr>\n",
       "    <tr>\n",
       "      <th>Зарплата</th>\n",
       "      <td>0.014910</td>\n",
       "      <td>-0.019093</td>\n",
       "      <td>1.000000</td>\n",
       "      <td>-0.030296</td>\n",
       "      <td>-0.014963</td>\n",
       "    </tr>\n",
       "    <tr>\n",
       "      <th>Члены семьи</th>\n",
       "      <td>-0.008991</td>\n",
       "      <td>-0.006692</td>\n",
       "      <td>-0.030296</td>\n",
       "      <td>1.000000</td>\n",
       "      <td>-0.036290</td>\n",
       "    </tr>\n",
       "    <tr>\n",
       "      <th>Страховые выплаты</th>\n",
       "      <td>0.010140</td>\n",
       "      <td>0.651030</td>\n",
       "      <td>-0.014963</td>\n",
       "      <td>-0.036290</td>\n",
       "      <td>1.000000</td>\n",
       "    </tr>\n",
       "  </tbody>\n",
       "</table>\n",
       "</div>"
      ],
      "text/plain": [
       "                        Пол   Возраст  Зарплата  Члены семьи  \\\n",
       "Пол                1.000000  0.002074  0.014910    -0.008991   \n",
       "Возраст            0.002074  1.000000 -0.019093    -0.006692   \n",
       "Зарплата           0.014910 -0.019093  1.000000    -0.030296   \n",
       "Члены семьи       -0.008991 -0.006692 -0.030296     1.000000   \n",
       "Страховые выплаты  0.010140  0.651030 -0.014963    -0.036290   \n",
       "\n",
       "                   Страховые выплаты  \n",
       "Пол                         0.010140  \n",
       "Возраст                     0.651030  \n",
       "Зарплата                   -0.014963  \n",
       "Члены семьи                -0.036290  \n",
       "Страховые выплаты           1.000000  "
      ]
     },
     "metadata": {},
     "output_type": "display_data"
    },
    {
     "data": {
      "text/plain": [
       "<AxesSubplot:>"
      ]
     },
     "metadata": {},
     "output_type": "display_data"
    },
    {
     "data": {
      "image/png": "[encoded data removed]",
      "text/plain": [
       "<Figure size 432x288 with 2 Axes>"
      ]
     },
     "metadata": {
      "needs_background": "light"
     },
     "output_type": "display_data"
    }
   ],
   "source": [
    "display(data.corr(), sns.heatmap(data.corr(), annot=True));\n",
    "plt.show();"
   ]
  },
  {
   "cell_type": "code",
   "execution_count": 11,
   "metadata": {},
   "outputs": [
    {
     "name": "stdout",
     "output_type": "stream",
     "text": [
      "interval columns not set, guessing: ['Пол', 'Возраст', 'Зарплата', 'Члены семьи', 'Страховые выплаты']\n"
     ]
    },
    {
     "data": {
      "text/html": [
       "<div>\n",
       "<style scoped>\n",
       "    .dataframe tbody tr th:only-of-type {\n",
       "        vertical-align: middle;\n",
       "    }\n",
       "\n",
       "    .dataframe tbody tr th {\n",
       "        vertical-align: top;\n",
       "    }\n",
       "\n",
       "    .dataframe thead th {\n",
       "        text-align: right;\n",
       "    }\n",
       "</style>\n",
       "<table border=\"1\" class=\"dataframe\">\n",
       "  <thead>\n",
       "    <tr style=\"text-align: right;\">\n",
       "      <th></th>\n",
       "      <th>Пол</th>\n",
       "      <th>Возраст</th>\n",
       "      <th>Зарплата</th>\n",
       "      <th>Члены семьи</th>\n",
       "      <th>Страховые выплаты</th>\n",
       "    </tr>\n",
       "  </thead>\n",
       "  <tbody>\n",
       "    <tr>\n",
       "      <th>Пол</th>\n",
       "      <td>1.000000</td>\n",
       "      <td>0.000000</td>\n",
       "      <td>0.000000</td>\n",
       "      <td>0.0</td>\n",
       "      <td>0.032181</td>\n",
       "    </tr>\n",
       "    <tr>\n",
       "      <th>Возраст</th>\n",
       "      <td>0.000000</td>\n",
       "      <td>1.000000</td>\n",
       "      <td>0.069098</td>\n",
       "      <td>0.0</td>\n",
       "      <td>0.884865</td>\n",
       "    </tr>\n",
       "    <tr>\n",
       "      <th>Зарплата</th>\n",
       "      <td>0.000000</td>\n",
       "      <td>0.069098</td>\n",
       "      <td>1.000000</td>\n",
       "      <td>0.0</td>\n",
       "      <td>0.000000</td>\n",
       "    </tr>\n",
       "    <tr>\n",
       "      <th>Члены семьи</th>\n",
       "      <td>0.000000</td>\n",
       "      <td>0.000000</td>\n",
       "      <td>0.000000</td>\n",
       "      <td>1.0</td>\n",
       "      <td>0.000000</td>\n",
       "    </tr>\n",
       "    <tr>\n",
       "      <th>Страховые выплаты</th>\n",
       "      <td>0.032181</td>\n",
       "      <td>0.884865</td>\n",
       "      <td>0.000000</td>\n",
       "      <td>0.0</td>\n",
       "      <td>1.000000</td>\n",
       "    </tr>\n",
       "  </tbody>\n",
       "</table>\n",
       "</div>"
      ],
      "text/plain": [
       "                        Пол   Возраст  Зарплата  Члены семьи  \\\n",
       "Пол                1.000000  0.000000  0.000000          0.0   \n",
       "Возраст            0.000000  1.000000  0.069098          0.0   \n",
       "Зарплата           0.000000  0.069098  1.000000          0.0   \n",
       "Члены семьи        0.000000  0.000000  0.000000          1.0   \n",
       "Страховые выплаты  0.032181  0.884865  0.000000          0.0   \n",
       "\n",
       "                   Страховые выплаты  \n",
       "Пол                         0.032181  \n",
       "Возраст                     0.884865  \n",
       "Зарплата                    0.000000  \n",
       "Члены семьи                 0.000000  \n",
       "Страховые выплаты           1.000000  "
      ]
     },
     "execution_count": 11,
     "metadata": {},
     "output_type": "execute_result"
    }
   ],
   "source": [
    "data.phik_matrix() "
   ]
  },
  {
   "cell_type": "code",
   "execution_count": 12,
   "metadata": {},
   "outputs": [
    {
     "name": "stdout",
     "output_type": "stream",
     "text": [
      "interval columns not set, guessing: ['Пол', 'Возраст', 'Зарплата', 'Члены семьи', 'Страховые выплаты']\n"
     ]
    },
    {
     "data": {
      "text/plain": [
       "<AxesSubplot:>"
      ]
     },
     "execution_count": 12,
     "metadata": {},
     "output_type": "execute_result"
    },
    {
     "data": {
      "image/png": "[encoded data removed]",
      "text/plain": [
       "<Figure size 432x288 with 2 Axes>"
      ]
     },
     "metadata": {
      "needs_background": "light"
     },
     "output_type": "display_data"
    }
   ],
   "source": [
    "sns.heatmap(data.phik_matrix(), cmap='coolwarm')"
   ]
  },
  {
   "cell_type": "code",
   "execution_count": 13,
   "metadata": {},
   "outputs": [],
   "source": [
    "phik_overview = data.phik_matrix(interval_cols=['Пол', 'Возраст', 'Зарплата', 'Члены семьи', 'Страховые выплаты']) "
   ]
  },
  {
   "cell_type": "code",
   "execution_count": 14,
   "metadata": {},
   "outputs": [
    {
     "data": {
      "image/png": "[encoded data removed]",
      "text/plain": [
       "<Figure size 1152x576 with 2 Axes>"
      ]
     },
     "metadata": {
      "needs_background": "light"
     },
     "output_type": "display_data"
    }
   ],
   "source": [
    "plot_correlation_matrix(phik_overview.values, \n",
    "                        x_labels=phik_overview.columns, \n",
    "                        y_labels=phik_overview.index, \n",
    "                        vmin=0, vmax=1, color_map=\"Greens\", \n",
    "                        title=r\"correlation $\\phi_K$\", \n",
    "                        fontsize_factor=1.5, \n",
    "                        figsize=(16, 8))\n",
    "plt.tight_layout()"
   ]
  },
  {
   "cell_type": "markdown",
   "metadata": {},
   "source": [
    "Данные успешно загружены и имеют подходящий тип данных. Возраст и зарплата переведены в целочисленный формат. В таблице отсутствуют лишние столбцы и пропущенные значения. В данных присутствуют дубликаты. Проверка основных статистических показателей не выявила явных выбросов. Наблюдается высокая корреляция между возрастом и страховыми выплатами."
   ]
  },
  {
   "cell_type": "markdown",
   "metadata": {},
   "source": [
    "## Умножение матриц"
   ]
  },
  {
   "cell_type": "markdown",
   "metadata": {},
   "source": [
    "В этом задании вы можете записывать формулы в *Jupyter Notebook.*\n",
    "\n",
    "Чтобы записать формулу внутри текста, окружите её символами доллара \\\\$; если снаружи —  двойными символами \\\\$\\\\$. Эти формулы записываются на языке вёрстки *LaTeX.* \n",
    "\n",
    "Для примера мы записали формулы линейной регрессии. Можете их скопировать и отредактировать, чтобы решить задачу.\n",
    "\n",
    "Работать в *LaTeX* необязательно."
   ]
  },
  {
   "cell_type": "markdown",
   "metadata": {},
   "source": [
    "Обозначения:\n",
    "\n",
    "- $X$ — матрица признаков (нулевой столбец состоит из единиц)\n",
    "\n",
    "- $y$ — вектор целевого признака\n",
    "\n",
    "- $P$ — матрица, на которую умножаются признаки\n",
    "\n",
    "- $w$ — вектор весов линейной регрессии (нулевой элемент равен сдвигу)"
   ]
  },
  {
   "cell_type": "markdown",
   "metadata": {},
   "source": [
    "Предсказания:\n",
    "\n",
    "$$\n",
    "a = Xw\n",
    "$$\n",
    "\n",
    "Задача обучения:\n",
    "\n",
    "$$\n",
    "w = \\arg\\min_w MSE(Xw, y)\n",
    "$$\n",
    "\n",
    "Формула обучения:\n",
    "\n",
    "$$\n",
    "w = (X^T X)^{-1} X^T y\n",
    "$$"
   ]
  },
  {
   "cell_type": "markdown",
   "metadata": {},
   "source": [
    "**Ответ:** не изменится\n",
    "\n",
    "\n",
    "\n",
    "**Обоснование:** \n",
    "Задача обучения линейной регрессии такая\n",
    "<br><center>$w=argmin MSE(Xw,y)$</center></br>\n",
    "\n",
    "$y$ — вектор значений целевого признака для обучающей выборки  \n",
    "\n",
    "$argmin( )$ — функция, которая находит минимум и возвращает, при каком аргументе\n",
    "он был достигнут.\n",
    "\n",
    "Минимальное значение MSE получается, когда веса равны этой величине:\n",
    "<br><center>$w=(X^TX)^{-1}X^Ty$</center></br>\n",
    "\n",
    "\n",
    "1. Представим новую матрицу признаков  как произведение старой  на матрицу  (обратимую):\n",
    "\n",
    "$$\n",
    "X1 =  XP\n",
    "$$\n",
    "\n",
    "2. Подставим новое значение $X1$ в формулу $w1$:\n",
    "\n",
    "$$\n",
    "w1 = ((X P)^T X P)^{-1} (X P)^T y\n",
    "$$\n",
    "\n",
    "3. Раскроем первое произведение $ (XP)^T $:\n",
    "\n",
    "$$\n",
    "w1 = (P^T X^T X P)^{-1} P^T X^T y\n",
    "$$\n",
    "\n",
    "4. Перегруппируем множители в скобках, чтобы это выглядело как произведение трех множителей:\n",
    "\n",
    "$$\n",
    "w1 = (P^T (X^T X) P)^{-1} P^T X^T y\n",
    "$$\n",
    "\n",
    "5. Раскроем скобки $ (P^T (X^T X) P)^{-1} $:\n",
    "\n",
    "$$\n",
    "w1 = P^{-1} (X^T X)^{-1} (P^T)^{-1} P^T X^T y\n",
    "$$\n",
    "\n",
    "6. Так как $P$ по условию обратимая, то произведение $(P^T)^{-1} P^T$ равно $E$ (единичная матрица):\n",
    "\n",
    "$$\n",
    "w1 = P^{-1} (X^T X)^{-1} E X^T y = P^{-1} (X^T X)^{-1} X^T y\n",
    "$$\n",
    "\n",
    "7. Можно заметить, что справа получилась формула для $w$:\n",
    "\n",
    "$$\n",
    "w1 = P^{-1} (X^T X)^{-1} X^T y = P^{-1} w\n",
    "$$\n",
    "\n",
    "8. Подставим новое значение весов  𝑤1  в формулу для предсказаний линейной регрессии.\n",
    "Предсказания модели расчитываются по формуле:\n",
    "\n",
    "$$\n",
    "a = Xw\n",
    "$$\n",
    "\n",
    "9. И получается, что $(X^T* X)^{-1} * X^T *  y = w$, и наша формула предсказаний регрессии вернулась к исходному виду:\n",
    "\n",
    "$$\n",
    "a = Xw\n",
    "$$\n",
    "\n",
    "10. Подставим в эту формулу значения $X1$ и $w1$ для того, чтобы на их основе вычислить предсказания модели $a1$:\n",
    "\n",
    "$$\n",
    "a1 = X1w1 = XPP^{-1} w\n",
    "$$\n",
    "\n",
    "11. Так как $P$ по условию обратимая, то произведение $PP^{-1}$ снова равно $E$:\n",
    "\n",
    "$$\n",
    "a1 = XPP^{-1} w = X E w = X w = a\n",
    "$$\n",
    "\n",
    "Мы доказали, что предсказания $a1$ для матрицы признаков, умноженных на обратимую матрицу $P$ равны предсказаниям $a$.<br>\n",
    "Следовательно, отвечая на вопрос изменится ли качество линейной регрессии при умножении признаков на обратимую матрицу - нет, не изменится. В данном случае, параметры линейной регрессии в исходной задаче $w$ и в преобразованной $w1$ связаны следующим образом:\n",
    "\n",
    "$$\n",
    "w1 = P^{-1} w\n",
    "$$\n",
    "\n",
    "Способ №2\n",
    "\n",
    "Для функции $w=argmin MSE(XPw1,y)$ применим полученное ранее соотношение $w1 = P^{-1} w$\n",
    "\n",
    "Ранее было доказано, что роизведение $(P^T)^{-1} P^T$ равно $E$, следовательно формула упроститься до\n",
    "\n",
    "$$\n",
    "w=argmin MSE(Xw,y)\n",
    "$$\n"
   ]
  },
  {
   "cell_type": "markdown",
   "metadata": {},
   "source": [
    "## Алгоритм преобразования"
   ]
  },
  {
   "cell_type": "markdown",
   "metadata": {},
   "source": [
    "**Алгоритм**\n",
    "\n",
    "Создадим квадратную матрицу, размер которой соответствует количеству признаков, и заполним ее случайными числами. Затем проверим, является ли эта матрица обратимой, то есть имеет обратную матрицу. Если матрица обратима, умножим наши признаки на эту матрицу.\n",
    "\n",
    "Важно отметить, что требуется, чтобы матрица была обратимой для успешно восстановления исходных данных. В противном случае, если матрица необратима, мы не сможем расшифровать наши данные."
   ]
  },
  {
   "cell_type": "markdown",
   "metadata": {},
   "source": [
    "1. Создаём рандомную матрицу $P$<br>\n",
    "2. Проверяем её на обратимость <br>\n",
    "3. Создаём новую матрицу данных $M$ <br>\n",
    "4. Ищем метрики качества $R2 score$ на исходных данных и на преобразованных<br>\n",
    "5. Опишем вывод полученных результатов"
   ]
  },
  {
   "cell_type": "markdown",
   "metadata": {},
   "source": [
    "**Обоснование**\n",
    "\n",
    "Мы можем ожидать, что качество линейной регрессии будет одинаковым до и после преобразования данных. Преобразование данных не влияет на способность модели предсказывать целевой признак. Однако, эти действия имеют важное значение для защиты персональных данных клиентов. В случае возможной утечки данных, преобразование матрицы признаков обеспечивает дополнительную безопасность, поскольку злоумышленникам эти данные будут бесполезны.\n",
    "\n",
    "Как было доказано, умножение признаков на какую-либо обратимую матрицу не приводит к изменению предсказаний, поэтому результаты R2 должны оказаться равны."
   ]
  },
  {
   "cell_type": "markdown",
   "metadata": {},
   "source": [
    "## Проверка алгоритма"
   ]
  },
  {
   "cell_type": "markdown",
   "metadata": {},
   "source": [
    "Выделим целевой показатель и признаки."
   ]
  },
  {
   "cell_type": "code",
   "execution_count": 15,
   "metadata": {},
   "outputs": [
    {
     "data": {
      "text/plain": [
       "((5000, 4), (5000,))"
      ]
     },
     "execution_count": 15,
     "metadata": {},
     "output_type": "execute_result"
    }
   ],
   "source": [
    "features = data.drop([\"Страховые выплаты\"], axis=1)\n",
    "target = data[\"Страховые выплаты\"]\n",
    "features.shape, target.shape"
   ]
  },
  {
   "cell_type": "markdown",
   "metadata": {},
   "source": [
    "Разделим данные на обучающую и тестовую выборки в соотношении 80:20:"
   ]
  },
  {
   "cell_type": "code",
   "execution_count": 16,
   "metadata": {},
   "outputs": [],
   "source": [
    "features_train, features_test, target_train, target_test = train_test_split(\n",
    "    features, target, test_size=0.2, random_state=42)"
   ]
  },
  {
   "cell_type": "markdown",
   "metadata": {},
   "source": [
    "Сгенерируем матрицу.Необходимо создать обратимую матрицу размером 4 на 4. Потому что при умножении важно, чтобы число столбцов было равно числу строк первой марицы - матрицы признаков.\n",
    "\n",
    "При этом важно не создать случайно необратимую матрицу. Для существования обратимой матрицы необходимо, чтобы ее определитель не был равен нулю."
   ]
  },
  {
   "cell_type": "code",
   "execution_count": 17,
   "metadata": {},
   "outputs": [
    {
     "data": {
      "text/plain": [
       "array([[77, 96, 88, 73],\n",
       "       [30, 31, 68, 59],\n",
       "       [14, 32, 81, 13],\n",
       "       [11, 32,  9, 42]])"
      ]
     },
     "execution_count": 17,
     "metadata": {},
     "output_type": "execute_result"
    }
   ],
   "source": [
    "matrix = np.random.randint(100,size = (4, 4))\n",
    "matrix"
   ]
  },
  {
   "cell_type": "markdown",
   "metadata": {},
   "source": [
    "Получим обратную матрицу."
   ]
  },
  {
   "cell_type": "code",
   "execution_count": 18,
   "metadata": {},
   "outputs": [
    {
     "data": {
      "text/plain": [
       "array([[ 0.01892896,  0.01275575, -0.0265395 , -0.04260453],\n",
       "       [ 0.00450903, -0.03075604,  0.0175966 ,  0.02992122],\n",
       "       [-0.00383798,  0.00696052,  0.01140957, -0.00663862],\n",
       "       [-0.00757061,  0.01860084, -0.00890102,  0.0135933 ]])"
      ]
     },
     "execution_count": 18,
     "metadata": {},
     "output_type": "execute_result"
    }
   ],
   "source": [
    "matrix_inv = np.linalg.inv(matrix)\n",
    "matrix_inv"
   ]
  },
  {
   "cell_type": "code",
   "execution_count": 19,
   "metadata": {},
   "outputs": [
    {
     "data": {
      "text/plain": [
       "-1.9473241040556555e-07"
      ]
     },
     "execution_count": 19,
     "metadata": {},
     "output_type": "execute_result"
    }
   ],
   "source": [
    "det = np.linalg.det(matrix_inv)\n",
    "det"
   ]
  },
  {
   "cell_type": "code",
   "execution_count": 20,
   "metadata": {},
   "outputs": [
    {
     "name": "stdout",
     "output_type": "stream",
     "text": [
      "Матрица P:\n",
      " [[-3.50711977e-01  6.59923218e-01 -9.87337188e-01  5.75352108e-02]\n",
      " [-1.05557220e-02 -1.90700182e+00  6.46217376e-02 -2.05949229e-01]\n",
      " [ 3.97551005e-01  5.27126997e-01 -6.23309550e-04 -6.97342864e-01]\n",
      " [-1.97615695e-01 -1.65822074e+00  5.61452879e-03 -1.59674898e+00]]\n",
      "\n",
      "Проверка на единичную матрицу:\n"
     ]
    },
    {
     "data": {
      "text/plain": [
       "array([[ 1.,  0.,  0.,  0.],\n",
       "       [ 0.,  1., -0.,  0.],\n",
       "       [-0., -0.,  1., -0.],\n",
       "       [ 0., -0., -0.,  1.]])"
      ]
     },
     "metadata": {},
     "output_type": "display_data"
    }
   ],
   "source": [
    "def get_rand_matrix():\n",
    "    det = 0\n",
    "    while det == 0:\n",
    "        \n",
    "        matrix = np.random.normal(size=(data.shape[1]-1, \n",
    "                                        data.shape[1]-1))\n",
    "        det = np.linalg.det(matrix)\n",
    "    return matrix\n",
    "    \n",
    "\n",
    "P = get_rand_matrix()\n",
    "print('Матрица P:\\n', P)\n",
    "\n",
    "print('\\nПроверка на единичную матрицу:')\n",
    "display((P @ np.linalg.inv(P)).round(3))"
   ]
  },
  {
   "cell_type": "markdown",
   "metadata": {},
   "source": [
    "Обучим модель линейной регресии."
   ]
  },
  {
   "cell_type": "code",
   "execution_count": 21,
   "metadata": {},
   "outputs": [
    {
     "name": "stdout",
     "output_type": "stream",
     "text": [
      "R2_score: 0.4208028774219\n"
     ]
    }
   ],
   "source": [
    "model = LinearRegression(normalize=True).fit(features_train, target_train)\n",
    "predictions = model.predict(features_train)\n",
    "r2_score_value = r2_score(target_train, predictions)\n",
    "print(f\"R2_score: {r2_score_value:.13f}\")"
   ]
  },
  {
   "cell_type": "markdown",
   "metadata": {},
   "source": [
    "Зашифруем признаки."
   ]
  },
  {
   "cell_type": "code",
   "execution_count": 22,
   "metadata": {},
   "outputs": [
    {
     "data": {
      "text/html": [
       "<div>\n",
       "<style scoped>\n",
       "    .dataframe tbody tr th:only-of-type {\n",
       "        vertical-align: middle;\n",
       "    }\n",
       "\n",
       "    .dataframe tbody tr th {\n",
       "        vertical-align: top;\n",
       "    }\n",
       "\n",
       "    .dataframe thead th {\n",
       "        text-align: right;\n",
       "    }\n",
       "</style>\n",
       "<table border=\"1\" class=\"dataframe\">\n",
       "  <thead>\n",
       "    <tr style=\"text-align: right;\">\n",
       "      <th></th>\n",
       "      <th>0</th>\n",
       "      <th>1</th>\n",
       "      <th>2</th>\n",
       "      <th>3</th>\n",
       "    </tr>\n",
       "  </thead>\n",
       "  <tbody>\n",
       "    <tr>\n",
       "      <th>4227</th>\n",
       "      <td>-189.522673</td>\n",
       "      <td>343.314447</td>\n",
       "      <td>563.940431</td>\n",
       "      <td>-327.395781</td>\n",
       "    </tr>\n",
       "    <tr>\n",
       "      <th>4676</th>\n",
       "      <td>-243.140790</td>\n",
       "      <td>440.128540</td>\n",
       "      <td>724.017353</td>\n",
       "      <td>-419.750757</td>\n",
       "    </tr>\n",
       "    <tr>\n",
       "      <th>800</th>\n",
       "      <td>-111.891748</td>\n",
       "      <td>202.004649</td>\n",
       "      <td>333.871906</td>\n",
       "      <td>-192.607417</td>\n",
       "    </tr>\n",
       "    <tr>\n",
       "      <th>3671</th>\n",
       "      <td>-142.582069</td>\n",
       "      <td>257.596504</td>\n",
       "      <td>425.201229</td>\n",
       "      <td>-245.626634</td>\n",
       "    </tr>\n",
       "    <tr>\n",
       "      <th>4193</th>\n",
       "      <td>-148.412633</td>\n",
       "      <td>268.572284</td>\n",
       "      <td>442.007741</td>\n",
       "      <td>-256.136743</td>\n",
       "    </tr>\n",
       "  </tbody>\n",
       "</table>\n",
       "</div>"
      ],
      "text/plain": [
       "               0           1           2           3\n",
       "4227 -189.522673  343.314447  563.940431 -327.395781\n",
       "4676 -243.140790  440.128540  724.017353 -419.750757\n",
       "800  -111.891748  202.004649  333.871906 -192.607417\n",
       "3671 -142.582069  257.596504  425.201229 -245.626634\n",
       "4193 -148.412633  268.572284  442.007741 -256.136743"
      ]
     },
     "execution_count": 22,
     "metadata": {},
     "output_type": "execute_result"
    }
   ],
   "source": [
    "features_2 = features_train @ matrix_inv\n",
    "features_2.head()"
   ]
  },
  {
   "cell_type": "markdown",
   "metadata": {},
   "source": [
    "Произведем моделирование на измененных признаках."
   ]
  },
  {
   "cell_type": "code",
   "execution_count": 23,
   "metadata": {},
   "outputs": [
    {
     "name": "stdout",
     "output_type": "stream",
     "text": [
      "Метрика R2 для матрицы XP равняется 0.4208028774218867\n"
     ]
    }
   ],
   "source": [
    "model_2 = LinearRegression()\n",
    "model_2.fit(features_2, target_train)\n",
    "predictions = model_2.predict(features_2)\n",
    "r2_2 = r2_score(target_train, predictions)\n",
    "print(f'Метрика R2 для матрицы XP равняется {r2_2}')"
   ]
  },
  {
   "cell_type": "markdown",
   "metadata": {},
   "source": [
    "Метрики R2 обеих моделей почти одинаковые, следовательно умножение исходных данных на случайную обратимую матрицу может быть применено для их шифрования."
   ]
  },
  {
   "cell_type": "markdown",
   "metadata": {},
   "source": [
    "## Общий вывод"
   ]
  },
  {
   "cell_type": "markdown",
   "metadata": {},
   "source": [
    "В работе необходимо было построить систему преобразования данных, позволяющую зашифровать исходные данные о клиентах страховой компании \"Хоть потоп\". Целью работы заключалась в разработке метода преобразования данных для их защиты, не влияющего на качество моделей машинного обучения.\n",
    "\n",
    "В ходе работы был исследован исходный датасет, содержащий данные клиентах страховой компании. Данные по возрасту и зарплате переведены в целочисленный формат. Установлено, что в таблице отсутствуют лишние столбцы и пропущенные значения. В данных присутствуют дубликаты, оставленные ьез изменения. Проверка основных статистических показателей не выявила явных выбросов. Наблюдается высокая корреляция между возрастом клиентов и страховыми выплатами.\n",
    "\n",
    "Дано математическое обоснование отсутсвия влияния умножения данных на обратимую матрицу на качество линейной регрессии.\n",
    "\n",
    "Представлен алгоритм преобразования данных, заключающийся в создании квадратной матрицы, размер которой соответствует количеству признаков, и заполнении ее случайными числами, последующей проверке является ли эта матрица обратимой. Если матрица обратима, возможно умножение признаков на данную матрицу.\n",
    "\n",
    "\n",
    "Проведена проверка алгоритма, заключающаяся в получении моделей линенйной регрессии до и после преобразования данных. Метрики R2 обеих моделей почти идентичные, следовательно умножение исходных данных на случайную обратимую матрицу может быть применено для их шифрования.\n",
    "\n"
   ]
  }
 ],
 "metadata": {
  "ExecuteTimeLog": [
   {
    "duration": 1610,
    "start_time": "2024-02-22T05:57:59.606Z"
   },
   {
    "duration": 74,
    "start_time": "2024-02-22T05:59:55.126Z"
   },
   {
    "duration": 12,
    "start_time": "2024-02-22T06:05:27.938Z"
   },
   {
    "duration": 12,
    "start_time": "2024-02-22T06:05:53.214Z"
   },
   {
    "duration": 6,
    "start_time": "2024-02-22T06:06:08.735Z"
   },
   {
    "duration": 23,
    "start_time": "2024-02-22T06:06:39.784Z"
   },
   {
    "duration": 5,
    "start_time": "2024-02-22T06:15:32.716Z"
   },
   {
    "duration": 103,
    "start_time": "2024-02-22T06:16:16.854Z"
   },
   {
    "duration": 6,
    "start_time": "2024-02-22T06:16:42.334Z"
   },
   {
    "duration": 440,
    "start_time": "2024-02-22T06:18:36.882Z"
   },
   {
    "duration": 3078,
    "start_time": "2024-02-22T06:27:54.876Z"
   },
   {
    "duration": 15,
    "start_time": "2024-02-22T06:29:08.157Z"
   },
   {
    "duration": 83,
    "start_time": "2024-02-22T06:29:57.257Z"
   },
   {
    "duration": 28,
    "start_time": "2024-02-22T06:29:57.971Z"
   },
   {
    "duration": 12,
    "start_time": "2024-02-22T06:29:58.202Z"
   },
   {
    "duration": 9,
    "start_time": "2024-02-22T06:29:58.422Z"
   },
   {
    "duration": 23,
    "start_time": "2024-02-22T06:29:58.654Z"
   },
   {
    "duration": 5,
    "start_time": "2024-02-22T06:29:59.094Z"
   },
   {
    "duration": 6,
    "start_time": "2024-02-22T06:29:59.523Z"
   },
   {
    "duration": 6,
    "start_time": "2024-02-22T06:29:59.823Z"
   },
   {
    "duration": 393,
    "start_time": "2024-02-22T06:30:00.724Z"
   },
   {
    "duration": 2297,
    "start_time": "2024-02-22T06:30:02.189Z"
   },
   {
    "duration": 96,
    "start_time": "2024-02-22T06:30:04.488Z"
   },
   {
    "duration": 13,
    "start_time": "2024-02-22T06:30:44.943Z"
   },
   {
    "duration": 435,
    "start_time": "2024-02-22T06:30:54.094Z"
   },
   {
    "duration": 81,
    "start_time": "2024-02-22T06:31:31.297Z"
   },
   {
    "duration": 586,
    "start_time": "2024-02-22T06:31:45.006Z"
   },
   {
    "duration": 4,
    "start_time": "2024-02-22T06:32:38.605Z"
   },
   {
    "duration": 27,
    "start_time": "2024-02-22T06:32:39.343Z"
   },
   {
    "duration": 10,
    "start_time": "2024-02-22T06:32:39.633Z"
   },
   {
    "duration": 8,
    "start_time": "2024-02-22T06:32:39.853Z"
   },
   {
    "duration": 20,
    "start_time": "2024-02-22T06:32:40.052Z"
   },
   {
    "duration": 4,
    "start_time": "2024-02-22T06:32:40.478Z"
   },
   {
    "duration": 5,
    "start_time": "2024-02-22T06:32:40.903Z"
   },
   {
    "duration": 5,
    "start_time": "2024-02-22T06:32:41.117Z"
   },
   {
    "duration": 394,
    "start_time": "2024-02-22T06:32:41.572Z"
   },
   {
    "duration": 2318,
    "start_time": "2024-02-22T06:32:42.214Z"
   },
   {
    "duration": 96,
    "start_time": "2024-02-22T06:32:44.535Z"
   },
   {
    "duration": 420,
    "start_time": "2024-02-22T06:32:44.632Z"
   },
   {
    "duration": 86,
    "start_time": "2024-02-22T06:32:45.054Z"
   },
   {
    "duration": 449,
    "start_time": "2024-02-22T06:32:45.142Z"
   },
   {
    "duration": 5,
    "start_time": "2024-02-22T06:53:50.653Z"
   },
   {
    "duration": 5,
    "start_time": "2024-02-22T06:54:19.898Z"
   },
   {
    "duration": 5,
    "start_time": "2024-02-22T06:55:07.438Z"
   },
   {
    "duration": 12,
    "start_time": "2024-02-22T06:56:16.868Z"
   },
   {
    "duration": 5,
    "start_time": "2024-02-22T06:59:00.227Z"
   },
   {
    "duration": 4,
    "start_time": "2024-02-22T07:00:00.474Z"
   },
   {
    "duration": 8,
    "start_time": "2024-02-22T07:01:36.138Z"
   },
   {
    "duration": 9,
    "start_time": "2024-02-22T07:03:02.797Z"
   },
   {
    "duration": 11,
    "start_time": "2024-02-22T07:03:41.691Z"
   },
   {
    "duration": 3796,
    "start_time": "2024-02-22T07:52:04.909Z"
   },
   {
    "duration": 72,
    "start_time": "2024-02-22T07:52:08.706Z"
   },
   {
    "duration": 11,
    "start_time": "2024-02-22T07:52:08.779Z"
   },
   {
    "duration": 13,
    "start_time": "2024-02-22T07:52:08.792Z"
   },
   {
    "duration": 36,
    "start_time": "2024-02-22T07:52:08.807Z"
   },
   {
    "duration": 5,
    "start_time": "2024-02-22T07:52:08.845Z"
   },
   {
    "duration": 7,
    "start_time": "2024-02-22T07:52:08.853Z"
   },
   {
    "duration": 7,
    "start_time": "2024-02-22T07:52:08.861Z"
   },
   {
    "duration": 379,
    "start_time": "2024-02-22T07:52:08.869Z"
   },
   {
    "duration": 2379,
    "start_time": "2024-02-22T07:52:09.250Z"
   },
   {
    "duration": 108,
    "start_time": "2024-02-22T07:52:11.632Z"
   },
   {
    "duration": 455,
    "start_time": "2024-02-22T07:52:11.742Z"
   },
   {
    "duration": 95,
    "start_time": "2024-02-22T07:52:12.199Z"
   },
   {
    "duration": 552,
    "start_time": "2024-02-22T07:52:12.296Z"
   },
   {
    "duration": 5,
    "start_time": "2024-02-22T07:52:12.850Z"
   },
   {
    "duration": 115,
    "start_time": "2024-02-22T07:52:12.857Z"
   },
   {
    "duration": 0,
    "start_time": "2024-02-22T07:52:12.974Z"
   },
   {
    "duration": 0,
    "start_time": "2024-02-22T07:52:12.975Z"
   },
   {
    "duration": 0,
    "start_time": "2024-02-22T07:52:12.976Z"
   },
   {
    "duration": 0,
    "start_time": "2024-02-22T07:52:12.977Z"
   },
   {
    "duration": 54,
    "start_time": "2024-02-22T09:29:45.883Z"
   },
   {
    "duration": 1627,
    "start_time": "2024-02-22T09:29:56.836Z"
   },
   {
    "duration": 0,
    "start_time": "2024-02-22T09:29:58.464Z"
   },
   {
    "duration": 0,
    "start_time": "2024-02-22T09:29:58.465Z"
   },
   {
    "duration": 0,
    "start_time": "2024-02-22T09:29:58.467Z"
   },
   {
    "duration": 9,
    "start_time": "2024-02-22T09:29:58.639Z"
   },
   {
    "duration": 9,
    "start_time": "2024-02-22T09:30:09.161Z"
   },
   {
    "duration": 9,
    "start_time": "2024-02-22T09:30:09.203Z"
   },
   {
    "duration": 25,
    "start_time": "2024-02-22T09:30:09.230Z"
   },
   {
    "duration": 9,
    "start_time": "2024-02-22T09:30:09.304Z"
   },
   {
    "duration": 3242,
    "start_time": "2024-02-22T09:30:09.369Z"
   },
   {
    "duration": 21,
    "start_time": "2024-02-22T09:30:12.614Z"
   },
   {
    "duration": 0,
    "start_time": "2024-02-22T09:30:12.638Z"
   },
   {
    "duration": 0,
    "start_time": "2024-02-22T09:30:12.640Z"
   },
   {
    "duration": 0,
    "start_time": "2024-02-22T09:30:12.641Z"
   },
   {
    "duration": 0,
    "start_time": "2024-02-22T09:30:12.643Z"
   },
   {
    "duration": 0,
    "start_time": "2024-02-22T09:30:12.645Z"
   },
   {
    "duration": 0,
    "start_time": "2024-02-22T09:30:12.647Z"
   },
   {
    "duration": 0,
    "start_time": "2024-02-22T09:30:12.648Z"
   },
   {
    "duration": 0,
    "start_time": "2024-02-22T09:30:12.649Z"
   },
   {
    "duration": 0,
    "start_time": "2024-02-22T09:30:12.651Z"
   },
   {
    "duration": 2384,
    "start_time": "2024-02-22T09:33:14.876Z"
   },
   {
    "duration": 36,
    "start_time": "2024-02-22T09:33:22.845Z"
   },
   {
    "duration": 76,
    "start_time": "2024-02-22T09:33:24.437Z"
   },
   {
    "duration": 11,
    "start_time": "2024-02-22T09:33:25.037Z"
   },
   {
    "duration": 12,
    "start_time": "2024-02-22T09:33:25.358Z"
   },
   {
    "duration": 25,
    "start_time": "2024-02-22T09:33:25.874Z"
   },
   {
    "duration": 4,
    "start_time": "2024-02-22T09:33:26.559Z"
   },
   {
    "duration": 7,
    "start_time": "2024-02-22T09:33:27.846Z"
   },
   {
    "duration": 5,
    "start_time": "2024-02-22T09:33:28.399Z"
   },
   {
    "duration": 457,
    "start_time": "2024-02-22T09:33:29.316Z"
   },
   {
    "duration": 335,
    "start_time": "2024-02-22T09:34:04.198Z"
   },
   {
    "duration": 387,
    "start_time": "2024-02-22T09:34:34.834Z"
   },
   {
    "duration": 87,
    "start_time": "2024-02-22T09:34:51.579Z"
   },
   {
    "duration": 375,
    "start_time": "2024-02-22T09:35:04.876Z"
   },
   {
    "duration": 90,
    "start_time": "2024-02-22T09:35:20.370Z"
   },
   {
    "duration": 402,
    "start_time": "2024-02-22T09:35:20.768Z"
   },
   {
    "duration": 94,
    "start_time": "2024-02-22T09:35:21.172Z"
   },
   {
    "duration": 639,
    "start_time": "2024-02-22T09:35:21.503Z"
   },
   {
    "duration": 5,
    "start_time": "2024-02-22T09:38:37.926Z"
   },
   {
    "duration": 2372,
    "start_time": "2024-02-22T09:38:50.748Z"
   },
   {
    "duration": 3,
    "start_time": "2024-02-22T09:38:53.123Z"
   },
   {
    "duration": 43,
    "start_time": "2024-02-22T09:38:53.128Z"
   },
   {
    "duration": 12,
    "start_time": "2024-02-22T09:38:53.173Z"
   },
   {
    "duration": 11,
    "start_time": "2024-02-22T09:38:53.187Z"
   },
   {
    "duration": 27,
    "start_time": "2024-02-22T09:38:53.199Z"
   },
   {
    "duration": 4,
    "start_time": "2024-02-22T09:38:53.227Z"
   },
   {
    "duration": 16,
    "start_time": "2024-02-22T09:38:53.232Z"
   },
   {
    "duration": 17,
    "start_time": "2024-02-22T09:38:53.249Z"
   },
   {
    "duration": 401,
    "start_time": "2024-02-22T09:38:53.268Z"
   },
   {
    "duration": 103,
    "start_time": "2024-02-22T09:38:53.671Z"
   },
   {
    "duration": 392,
    "start_time": "2024-02-22T09:38:53.776Z"
   },
   {
    "duration": 80,
    "start_time": "2024-02-22T09:38:54.170Z"
   },
   {
    "duration": 466,
    "start_time": "2024-02-22T09:38:54.252Z"
   },
   {
    "duration": 5,
    "start_time": "2024-02-22T09:38:54.720Z"
   },
   {
    "duration": 20,
    "start_time": "2024-02-22T09:38:54.727Z"
   },
   {
    "duration": 38,
    "start_time": "2024-02-22T09:38:54.748Z"
   },
   {
    "duration": 81,
    "start_time": "2024-02-22T09:38:54.788Z"
   },
   {
    "duration": 99,
    "start_time": "2024-02-22T09:38:54.870Z"
   },
   {
    "duration": 195,
    "start_time": "2024-02-22T09:38:54.971Z"
   },
   {
    "duration": 9,
    "start_time": "2024-02-22T09:38:55.168Z"
   },
   {
    "duration": 3337,
    "start_time": "2024-02-26T05:53:43.443Z"
   },
   {
    "duration": 1547,
    "start_time": "2024-02-26T05:53:46.782Z"
   },
   {
    "duration": 79,
    "start_time": "2024-02-26T05:53:48.330Z"
   },
   {
    "duration": 12,
    "start_time": "2024-02-26T05:53:48.411Z"
   },
   {
    "duration": 13,
    "start_time": "2024-02-26T05:53:48.424Z"
   },
   {
    "duration": 31,
    "start_time": "2024-02-26T05:53:48.439Z"
   },
   {
    "duration": 5,
    "start_time": "2024-02-26T05:53:48.471Z"
   },
   {
    "duration": 7,
    "start_time": "2024-02-26T05:53:48.478Z"
   },
   {
    "duration": 8,
    "start_time": "2024-02-26T05:53:48.487Z"
   },
   {
    "duration": 468,
    "start_time": "2024-02-26T05:53:48.497Z"
   },
   {
    "duration": 98,
    "start_time": "2024-02-26T05:53:48.966Z"
   },
   {
    "duration": 389,
    "start_time": "2024-02-26T05:53:49.065Z"
   },
   {
    "duration": 95,
    "start_time": "2024-02-26T05:53:49.456Z"
   },
   {
    "duration": 567,
    "start_time": "2024-02-26T05:53:49.552Z"
   },
   {
    "duration": 4,
    "start_time": "2024-02-26T05:53:50.121Z"
   },
   {
    "duration": 9,
    "start_time": "2024-02-26T05:53:50.127Z"
   },
   {
    "duration": 20,
    "start_time": "2024-02-26T05:53:50.137Z"
   },
   {
    "duration": 78,
    "start_time": "2024-02-26T05:53:50.159Z"
   },
   {
    "duration": 102,
    "start_time": "2024-02-26T05:53:50.244Z"
   },
   {
    "duration": 94,
    "start_time": "2024-02-26T05:53:50.355Z"
   },
   {
    "duration": 10,
    "start_time": "2024-02-26T05:53:50.451Z"
   },
   {
    "duration": 113,
    "start_time": "2024-02-26T05:56:32.867Z"
   },
   {
    "duration": 381,
    "start_time": "2024-02-26T05:57:26.035Z"
   },
   {
    "duration": 14,
    "start_time": "2024-02-26T06:01:22.276Z"
   },
   {
    "duration": 91,
    "start_time": "2024-02-26T06:01:35.989Z"
   },
   {
    "duration": 536,
    "start_time": "2024-02-26T06:01:40.127Z"
   },
   {
    "duration": 9,
    "start_time": "2024-02-26T06:13:46.525Z"
   },
   {
    "duration": 10,
    "start_time": "2024-02-26T06:20:31.588Z"
   },
   {
    "duration": 3,
    "start_time": "2024-02-26T06:21:07.762Z"
   },
   {
    "duration": 9,
    "start_time": "2024-02-26T06:21:30.129Z"
   },
   {
    "duration": 6,
    "start_time": "2024-02-26T06:21:38.721Z"
   },
   {
    "duration": 4,
    "start_time": "2024-02-26T06:24:00.091Z"
   },
   {
    "duration": 5,
    "start_time": "2024-02-26T06:24:02.371Z"
   },
   {
    "duration": 4,
    "start_time": "2024-02-26T06:24:02.745Z"
   },
   {
    "duration": 76,
    "start_time": "2024-02-26T06:24:05.105Z"
   },
   {
    "duration": 64,
    "start_time": "2024-02-26T06:25:17.320Z"
   },
   {
    "duration": 9,
    "start_time": "2024-02-26T06:25:28.101Z"
   },
   {
    "duration": 9,
    "start_time": "2024-02-26T06:26:04.740Z"
   },
   {
    "duration": 8,
    "start_time": "2024-02-26T06:26:12.221Z"
   },
   {
    "duration": 11,
    "start_time": "2024-02-26T06:26:30.371Z"
   },
   {
    "duration": 2484,
    "start_time": "2024-02-26T06:45:25.382Z"
   },
   {
    "duration": 5,
    "start_time": "2024-02-26T06:45:27.868Z"
   },
   {
    "duration": 32,
    "start_time": "2024-02-26T06:45:27.874Z"
   },
   {
    "duration": 11,
    "start_time": "2024-02-26T06:45:27.907Z"
   },
   {
    "duration": 9,
    "start_time": "2024-02-26T06:45:27.920Z"
   },
   {
    "duration": 33,
    "start_time": "2024-02-26T06:45:27.931Z"
   },
   {
    "duration": 4,
    "start_time": "2024-02-26T06:45:27.965Z"
   },
   {
    "duration": 7,
    "start_time": "2024-02-26T06:45:27.970Z"
   },
   {
    "duration": 5,
    "start_time": "2024-02-26T06:45:27.978Z"
   },
   {
    "duration": 430,
    "start_time": "2024-02-26T06:45:27.984Z"
   },
   {
    "duration": 93,
    "start_time": "2024-02-26T06:45:28.416Z"
   },
   {
    "duration": 426,
    "start_time": "2024-02-26T06:45:28.510Z"
   },
   {
    "duration": 84,
    "start_time": "2024-02-26T06:45:28.937Z"
   },
   {
    "duration": 440,
    "start_time": "2024-02-26T06:45:29.024Z"
   },
   {
    "duration": 5,
    "start_time": "2024-02-26T06:45:29.466Z"
   },
   {
    "duration": 18,
    "start_time": "2024-02-26T06:45:29.472Z"
   },
   {
    "duration": 20,
    "start_time": "2024-02-26T06:45:29.491Z"
   },
   {
    "duration": 33,
    "start_time": "2024-02-26T06:45:29.513Z"
   },
   {
    "duration": 17,
    "start_time": "2024-02-26T06:45:29.549Z"
   },
   {
    "duration": 24,
    "start_time": "2024-02-26T06:45:29.639Z"
   },
   {
    "duration": 106,
    "start_time": "2024-02-26T06:45:29.733Z"
   },
   {
    "duration": 117,
    "start_time": "2024-02-26T06:45:29.841Z"
   },
   {
    "duration": 111,
    "start_time": "2024-02-26T06:45:29.961Z"
   },
   {
    "duration": 3117,
    "start_time": "2024-02-26T07:59:11.125Z"
   },
   {
    "duration": 3558,
    "start_time": "2024-02-26T07:59:14.244Z"
   },
   {
    "duration": 77,
    "start_time": "2024-02-26T07:59:17.804Z"
   },
   {
    "duration": 11,
    "start_time": "2024-02-26T07:59:17.883Z"
   },
   {
    "duration": 17,
    "start_time": "2024-02-26T07:59:17.895Z"
   },
   {
    "duration": 21,
    "start_time": "2024-02-26T07:59:17.914Z"
   },
   {
    "duration": 4,
    "start_time": "2024-02-26T07:59:17.937Z"
   },
   {
    "duration": 35,
    "start_time": "2024-02-26T07:59:17.942Z"
   },
   {
    "duration": 9,
    "start_time": "2024-02-26T07:59:17.979Z"
   },
   {
    "duration": 456,
    "start_time": "2024-02-26T07:59:17.991Z"
   },
   {
    "duration": 102,
    "start_time": "2024-02-26T07:59:18.448Z"
   },
   {
    "duration": 365,
    "start_time": "2024-02-26T07:59:18.552Z"
   },
   {
    "duration": 79,
    "start_time": "2024-02-26T07:59:18.918Z"
   },
   {
    "duration": 500,
    "start_time": "2024-02-26T07:59:18.998Z"
   },
   {
    "duration": 5,
    "start_time": "2024-02-26T07:59:19.500Z"
   },
   {
    "duration": 16,
    "start_time": "2024-02-26T07:59:19.506Z"
   },
   {
    "duration": 16,
    "start_time": "2024-02-26T07:59:19.524Z"
   },
   {
    "duration": 6,
    "start_time": "2024-02-26T07:59:19.541Z"
   },
   {
    "duration": 9,
    "start_time": "2024-02-26T07:59:19.549Z"
   },
   {
    "duration": 62,
    "start_time": "2024-02-26T07:59:19.560Z"
   },
   {
    "duration": 94,
    "start_time": "2024-02-26T07:59:19.623Z"
   },
   {
    "duration": 104,
    "start_time": "2024-02-26T07:59:19.719Z"
   },
   {
    "duration": 98,
    "start_time": "2024-02-26T07:59:19.825Z"
   },
   {
    "duration": 343,
    "start_time": "2024-02-26T07:59:32.057Z"
   },
   {
    "duration": 85,
    "start_time": "2024-02-26T07:59:45.433Z"
   },
   {
    "duration": 395,
    "start_time": "2024-02-26T07:59:49.625Z"
   },
   {
    "duration": 296,
    "start_time": "2024-02-26T07:59:59.609Z"
   }
  ],
  "kernelspec": {
   "display_name": "Python 3 (ipykernel)",
   "language": "python",
   "name": "python3"
  },
  "language_info": {
   "codemirror_mode": {
    "name": "ipython",
    "version": 3
   },
   "file_extension": ".py",
   "mimetype": "text/x-python",
   "name": "python",
   "nbconvert_exporter": "python",
   "pygments_lexer": "ipython3",
   "version": "3.9.5"
  },
  "toc": {
   "base_numbering": 1,
   "nav_menu": {},
   "number_sections": true,
   "sideBar": true,
   "skip_h1_title": true,
   "title_cell": "Содержание",
   "title_sidebar": "Contents",
   "toc_cell": true,
   "toc_position": {},
   "toc_section_display": true,
   "toc_window_display": true
  }
 },
 "nbformat": 4,
 "nbformat_minor": 2
}
