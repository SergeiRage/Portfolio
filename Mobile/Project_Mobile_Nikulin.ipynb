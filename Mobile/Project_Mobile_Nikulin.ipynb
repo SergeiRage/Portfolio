{
 "cells": [
  {
   "cell_type": "markdown",
   "metadata": {},
   "source": [
    "# Рекомендация тарифов"
   ]
  },
  {
   "cell_type": "markdown",
   "metadata": {},
   "source": [
    "В вашем распоряжении данные о поведении клиентов, которые уже перешли на эти тарифы (из проекта курса «Статистический анализ данных»). Нужно построить модель для задачи классификации, которая выберет подходящий тариф. Предобработка данных не понадобится — вы её уже сделали.\n",
    "\n",
    "Постройте модель с максимально большим значением *accuracy*. Чтобы сдать проект успешно, нужно довести долю правильных ответов по крайней мере до 0.75. Проверьте *accuracy* на тестовой выборке самостоятельно."
   ]
  },
  {
   "cell_type": "markdown",
   "metadata": {},
   "source": [
    " **Исследование поведения клиентов сотовой связи** \n",
    " \n",
    "Оператор мобильной связи «Мегалайн» выяснил: многие клиенты пользуются архивными тарифами. Они хотят построить систему, способную проанализировать поведение клиентов и предложить пользователям новый тариф: «Смарт» или «Ультра».\n",
    "В нашем распоряжении данные о поведении клиентов, которые уже перешли на эти тарифы.  Основная задача проекта заключается в построении модели, которая позволит подобрать новый тариф для старых пользователей.\n",
    "\n",
    " **Цель исследования**\n",
    " \n",
    "Цель проекта заключается в анализе данных оператора мобильной связи, а именно:\n",
    "1. Проанализировать основную информацию о пользователях тарифами.\n",
    "2. Разбить данные на три части: обучающую, валидационную и тестовую.\n",
    "3. Провести исследование моделей.\n",
    "4. Проверить модели на тестовой выборке.\n",
    "\n",
    "**Ход исследования**\n",
    "\n",
    "Данные для исследования получены из одного датафрейма. В  данных есть информация о пользователях, а именно сколько времени они тратят на звонки, какое количество СМС отправляют, величина используемоего интернет-траффика, а также о наименовании тарифа,каким он пользовался в течение месяца.\n",
    "\n",
    "Таким образом, исследование будет состоять из следующих этапов:\n",
    "- обзор данных;\n",
    "- предобработка данных (принеобходимости);\n",
    "- разбиение данных на выборки;\n",
    "- исследование трех видов моделей (Модель \"Решающее дерево\", Модель \"Случайный лес\",Модель \"Логистическая регрессия\");\n",
    "- проверка моделей на тестовой выборке;\n",
    "- проверка модели на адекватность;\n",
    "- основные выводы.\n"
   ]
  },
  {
   "cell_type": "markdown",
   "metadata": {},
   "source": [
    "## Откройте и изучите файл"
   ]
  },
  {
   "cell_type": "code",
   "execution_count": 94,
   "metadata": {},
   "outputs": [],
   "source": [
    "import pandas as pd\n",
    "import numpy as np\n",
    "import matplotlib.pyplot as plt\n",
    "\n",
    "from sklearn.model_selection import train_test_split\n",
    "from sklearn.metrics import accuracy_score\n",
    "\n",
    "from sklearn.tree import DecisionTreeClassifier\n",
    "from sklearn.ensemble import RandomForestClassifier\n",
    "from sklearn.linear_model import LogisticRegression\n",
    "from sklearn.dummy import DummyClassifier"
   ]
  },
  {
   "cell_type": "code",
   "execution_count": 95,
   "metadata": {},
   "outputs": [],
   "source": [
    "df = pd.read_csv('/datasets/users_behavior.csv')"
   ]
  },
  {
   "cell_type": "code",
   "execution_count": 96,
   "metadata": {
    "scrolled": true
   },
   "outputs": [
    {
     "data": {
      "text/html": [
       "<div>\n",
       "<style scoped>\n",
       "    .dataframe tbody tr th:only-of-type {\n",
       "        vertical-align: middle;\n",
       "    }\n",
       "\n",
       "    .dataframe tbody tr th {\n",
       "        vertical-align: top;\n",
       "    }\n",
       "\n",
       "    .dataframe thead th {\n",
       "        text-align: right;\n",
       "    }\n",
       "</style>\n",
       "<table border=\"1\" class=\"dataframe\">\n",
       "  <thead>\n",
       "    <tr style=\"text-align: right;\">\n",
       "      <th></th>\n",
       "      <th>calls</th>\n",
       "      <th>minutes</th>\n",
       "      <th>messages</th>\n",
       "      <th>mb_used</th>\n",
       "      <th>is_ultra</th>\n",
       "    </tr>\n",
       "  </thead>\n",
       "  <tbody>\n",
       "    <tr>\n",
       "      <th>0</th>\n",
       "      <td>40.0</td>\n",
       "      <td>311.90</td>\n",
       "      <td>83.0</td>\n",
       "      <td>19915.42</td>\n",
       "      <td>0</td>\n",
       "    </tr>\n",
       "    <tr>\n",
       "      <th>1</th>\n",
       "      <td>85.0</td>\n",
       "      <td>516.75</td>\n",
       "      <td>56.0</td>\n",
       "      <td>22696.96</td>\n",
       "      <td>0</td>\n",
       "    </tr>\n",
       "    <tr>\n",
       "      <th>2</th>\n",
       "      <td>77.0</td>\n",
       "      <td>467.66</td>\n",
       "      <td>86.0</td>\n",
       "      <td>21060.45</td>\n",
       "      <td>0</td>\n",
       "    </tr>\n",
       "    <tr>\n",
       "      <th>3</th>\n",
       "      <td>106.0</td>\n",
       "      <td>745.53</td>\n",
       "      <td>81.0</td>\n",
       "      <td>8437.39</td>\n",
       "      <td>1</td>\n",
       "    </tr>\n",
       "    <tr>\n",
       "      <th>4</th>\n",
       "      <td>66.0</td>\n",
       "      <td>418.74</td>\n",
       "      <td>1.0</td>\n",
       "      <td>14502.75</td>\n",
       "      <td>0</td>\n",
       "    </tr>\n",
       "  </tbody>\n",
       "</table>\n",
       "</div>"
      ],
      "text/plain": [
       "   calls  minutes  messages   mb_used  is_ultra\n",
       "0   40.0   311.90      83.0  19915.42         0\n",
       "1   85.0   516.75      56.0  22696.96         0\n",
       "2   77.0   467.66      86.0  21060.45         0\n",
       "3  106.0   745.53      81.0   8437.39         1\n",
       "4   66.0   418.74       1.0  14502.75         0"
      ]
     },
     "execution_count": 96,
     "metadata": {},
     "output_type": "execute_result"
    }
   ],
   "source": [
    "df.head(5)"
   ]
  },
  {
   "cell_type": "markdown",
   "metadata": {},
   "source": [
    "Проверим тип данных."
   ]
  },
  {
   "cell_type": "code",
   "execution_count": 97,
   "metadata": {
    "scrolled": true
   },
   "outputs": [
    {
     "name": "stdout",
     "output_type": "stream",
     "text": [
      "<class 'pandas.core.frame.DataFrame'>\n",
      "RangeIndex: 3214 entries, 0 to 3213\n",
      "Data columns (total 5 columns):\n",
      " #   Column    Non-Null Count  Dtype  \n",
      "---  ------    --------------  -----  \n",
      " 0   calls     3214 non-null   float64\n",
      " 1   minutes   3214 non-null   float64\n",
      " 2   messages  3214 non-null   float64\n",
      " 3   mb_used   3214 non-null   float64\n",
      " 4   is_ultra  3214 non-null   int64  \n",
      "dtypes: float64(4), int64(1)\n",
      "memory usage: 125.7 KB\n"
     ]
    }
   ],
   "source": [
    "df.info()"
   ]
  },
  {
   "cell_type": "markdown",
   "metadata": {},
   "source": [
    "Приведем тип данных в столбцах calls и messages к int64 и проверим данные на явные дубликаты."
   ]
  },
  {
   "cell_type": "code",
   "execution_count": 98,
   "metadata": {},
   "outputs": [],
   "source": [
    "for column in df[['calls','messages']]:\n",
    "    df[column] = df[column].astype(\"int\")  \n",
    " "
   ]
  },
  {
   "cell_type": "code",
   "execution_count": 99,
   "metadata": {
    "scrolled": true
   },
   "outputs": [
    {
     "name": "stdout",
     "output_type": "stream",
     "text": [
      "<class 'pandas.core.frame.DataFrame'>\n",
      "RangeIndex: 3214 entries, 0 to 3213\n",
      "Data columns (total 5 columns):\n",
      " #   Column    Non-Null Count  Dtype  \n",
      "---  ------    --------------  -----  \n",
      " 0   calls     3214 non-null   int64  \n",
      " 1   minutes   3214 non-null   float64\n",
      " 2   messages  3214 non-null   int64  \n",
      " 3   mb_used   3214 non-null   float64\n",
      " 4   is_ultra  3214 non-null   int64  \n",
      "dtypes: float64(2), int64(3)\n",
      "memory usage: 125.7 KB\n"
     ]
    }
   ],
   "source": [
    "df.info()"
   ]
  },
  {
   "cell_type": "code",
   "execution_count": 100,
   "metadata": {
    "scrolled": true
   },
   "outputs": [
    {
     "data": {
      "text/plain": [
       "0"
      ]
     },
     "execution_count": 100,
     "metadata": {},
     "output_type": "execute_result"
    }
   ],
   "source": [
    "df.duplicated().sum()"
   ]
  },
  {
   "cell_type": "code",
   "execution_count": 101,
   "metadata": {
    "scrolled": true
   },
   "outputs": [
    {
     "data": {
      "text/html": [
       "<div>\n",
       "<style scoped>\n",
       "    .dataframe tbody tr th:only-of-type {\n",
       "        vertical-align: middle;\n",
       "    }\n",
       "\n",
       "    .dataframe tbody tr th {\n",
       "        vertical-align: top;\n",
       "    }\n",
       "\n",
       "    .dataframe thead th {\n",
       "        text-align: right;\n",
       "    }\n",
       "</style>\n",
       "<table border=\"1\" class=\"dataframe\">\n",
       "  <thead>\n",
       "    <tr style=\"text-align: right;\">\n",
       "      <th></th>\n",
       "      <th>calls</th>\n",
       "      <th>minutes</th>\n",
       "      <th>messages</th>\n",
       "      <th>mb_used</th>\n",
       "      <th>is_ultra</th>\n",
       "    </tr>\n",
       "  </thead>\n",
       "  <tbody>\n",
       "    <tr>\n",
       "      <th>count</th>\n",
       "      <td>3214.000000</td>\n",
       "      <td>3214.000000</td>\n",
       "      <td>3214.000000</td>\n",
       "      <td>3214.000000</td>\n",
       "      <td>3214.000000</td>\n",
       "    </tr>\n",
       "    <tr>\n",
       "      <th>mean</th>\n",
       "      <td>63.038892</td>\n",
       "      <td>438.208787</td>\n",
       "      <td>38.281269</td>\n",
       "      <td>17207.673836</td>\n",
       "      <td>0.306472</td>\n",
       "    </tr>\n",
       "    <tr>\n",
       "      <th>std</th>\n",
       "      <td>33.236368</td>\n",
       "      <td>234.569872</td>\n",
       "      <td>36.148326</td>\n",
       "      <td>7570.968246</td>\n",
       "      <td>0.461100</td>\n",
       "    </tr>\n",
       "    <tr>\n",
       "      <th>min</th>\n",
       "      <td>0.000000</td>\n",
       "      <td>0.000000</td>\n",
       "      <td>0.000000</td>\n",
       "      <td>0.000000</td>\n",
       "      <td>0.000000</td>\n",
       "    </tr>\n",
       "    <tr>\n",
       "      <th>25%</th>\n",
       "      <td>40.000000</td>\n",
       "      <td>274.575000</td>\n",
       "      <td>9.000000</td>\n",
       "      <td>12491.902500</td>\n",
       "      <td>0.000000</td>\n",
       "    </tr>\n",
       "    <tr>\n",
       "      <th>50%</th>\n",
       "      <td>62.000000</td>\n",
       "      <td>430.600000</td>\n",
       "      <td>30.000000</td>\n",
       "      <td>16943.235000</td>\n",
       "      <td>0.000000</td>\n",
       "    </tr>\n",
       "    <tr>\n",
       "      <th>75%</th>\n",
       "      <td>82.000000</td>\n",
       "      <td>571.927500</td>\n",
       "      <td>57.000000</td>\n",
       "      <td>21424.700000</td>\n",
       "      <td>1.000000</td>\n",
       "    </tr>\n",
       "    <tr>\n",
       "      <th>max</th>\n",
       "      <td>244.000000</td>\n",
       "      <td>1632.060000</td>\n",
       "      <td>224.000000</td>\n",
       "      <td>49745.730000</td>\n",
       "      <td>1.000000</td>\n",
       "    </tr>\n",
       "  </tbody>\n",
       "</table>\n",
       "</div>"
      ],
      "text/plain": [
       "             calls      minutes     messages       mb_used     is_ultra\n",
       "count  3214.000000  3214.000000  3214.000000   3214.000000  3214.000000\n",
       "mean     63.038892   438.208787    38.281269  17207.673836     0.306472\n",
       "std      33.236368   234.569872    36.148326   7570.968246     0.461100\n",
       "min       0.000000     0.000000     0.000000      0.000000     0.000000\n",
       "25%      40.000000   274.575000     9.000000  12491.902500     0.000000\n",
       "50%      62.000000   430.600000    30.000000  16943.235000     0.000000\n",
       "75%      82.000000   571.927500    57.000000  21424.700000     1.000000\n",
       "max     244.000000  1632.060000   224.000000  49745.730000     1.000000"
      ]
     },
     "execution_count": 101,
     "metadata": {},
     "output_type": "execute_result"
    }
   ],
   "source": [
    "df.describe()"
   ]
  },
  {
   "cell_type": "code",
   "execution_count": 102,
   "metadata": {
    "scrolled": true
   },
   "outputs": [
    {
     "data": {
      "text/plain": [
       "(3214, 5)"
      ]
     },
     "execution_count": 102,
     "metadata": {},
     "output_type": "execute_result"
    }
   ],
   "source": [
    "df.shape"
   ]
  },
  {
   "cell_type": "markdown",
   "metadata": {},
   "source": [
    "## Разбейте данные на выборки"
   ]
  },
  {
   "cell_type": "markdown",
   "metadata": {},
   "source": [
    "### Проведем первоначальную оценку данных с разбиением их по тарифам."
   ]
  },
  {
   "cell_type": "code",
   "execution_count": 103,
   "metadata": {},
   "outputs": [],
   "source": [
    "data1 = df[df['is_ultra'] == 1]"
   ]
  },
  {
   "cell_type": "code",
   "execution_count": 104,
   "metadata": {},
   "outputs": [
    {
     "data": {
      "text/html": [
       "<div>\n",
       "<style scoped>\n",
       "    .dataframe tbody tr th:only-of-type {\n",
       "        vertical-align: middle;\n",
       "    }\n",
       "\n",
       "    .dataframe tbody tr th {\n",
       "        vertical-align: top;\n",
       "    }\n",
       "\n",
       "    .dataframe thead th {\n",
       "        text-align: right;\n",
       "    }\n",
       "</style>\n",
       "<table border=\"1\" class=\"dataframe\">\n",
       "  <thead>\n",
       "    <tr style=\"text-align: right;\">\n",
       "      <th></th>\n",
       "      <th>calls</th>\n",
       "      <th>minutes</th>\n",
       "      <th>messages</th>\n",
       "      <th>mb_used</th>\n",
       "      <th>is_ultra</th>\n",
       "    </tr>\n",
       "  </thead>\n",
       "  <tbody>\n",
       "    <tr>\n",
       "      <th>count</th>\n",
       "      <td>985.000000</td>\n",
       "      <td>985.000000</td>\n",
       "      <td>985.000000</td>\n",
       "      <td>985.000000</td>\n",
       "      <td>985.0</td>\n",
       "    </tr>\n",
       "    <tr>\n",
       "      <th>mean</th>\n",
       "      <td>73.392893</td>\n",
       "      <td>511.224569</td>\n",
       "      <td>49.363452</td>\n",
       "      <td>19468.823228</td>\n",
       "      <td>1.0</td>\n",
       "    </tr>\n",
       "    <tr>\n",
       "      <th>std</th>\n",
       "      <td>43.916853</td>\n",
       "      <td>308.031100</td>\n",
       "      <td>47.804457</td>\n",
       "      <td>10087.178654</td>\n",
       "      <td>0.0</td>\n",
       "    </tr>\n",
       "    <tr>\n",
       "      <th>min</th>\n",
       "      <td>0.000000</td>\n",
       "      <td>0.000000</td>\n",
       "      <td>0.000000</td>\n",
       "      <td>0.000000</td>\n",
       "      <td>1.0</td>\n",
       "    </tr>\n",
       "    <tr>\n",
       "      <th>25%</th>\n",
       "      <td>41.000000</td>\n",
       "      <td>276.030000</td>\n",
       "      <td>6.000000</td>\n",
       "      <td>11770.280000</td>\n",
       "      <td>1.0</td>\n",
       "    </tr>\n",
       "    <tr>\n",
       "      <th>50%</th>\n",
       "      <td>74.000000</td>\n",
       "      <td>502.550000</td>\n",
       "      <td>38.000000</td>\n",
       "      <td>19308.010000</td>\n",
       "      <td>1.0</td>\n",
       "    </tr>\n",
       "    <tr>\n",
       "      <th>75%</th>\n",
       "      <td>104.000000</td>\n",
       "      <td>730.050000</td>\n",
       "      <td>79.000000</td>\n",
       "      <td>26837.720000</td>\n",
       "      <td>1.0</td>\n",
       "    </tr>\n",
       "    <tr>\n",
       "      <th>max</th>\n",
       "      <td>244.000000</td>\n",
       "      <td>1632.060000</td>\n",
       "      <td>224.000000</td>\n",
       "      <td>49745.730000</td>\n",
       "      <td>1.0</td>\n",
       "    </tr>\n",
       "  </tbody>\n",
       "</table>\n",
       "</div>"
      ],
      "text/plain": [
       "            calls      minutes    messages       mb_used  is_ultra\n",
       "count  985.000000   985.000000  985.000000    985.000000     985.0\n",
       "mean    73.392893   511.224569   49.363452  19468.823228       1.0\n",
       "std     43.916853   308.031100   47.804457  10087.178654       0.0\n",
       "min      0.000000     0.000000    0.000000      0.000000       1.0\n",
       "25%     41.000000   276.030000    6.000000  11770.280000       1.0\n",
       "50%     74.000000   502.550000   38.000000  19308.010000       1.0\n",
       "75%    104.000000   730.050000   79.000000  26837.720000       1.0\n",
       "max    244.000000  1632.060000  224.000000  49745.730000       1.0"
      ]
     },
     "execution_count": 104,
     "metadata": {},
     "output_type": "execute_result"
    }
   ],
   "source": [
    "data1.describe()"
   ]
  },
  {
   "cell_type": "code",
   "execution_count": 105,
   "metadata": {},
   "outputs": [],
   "source": [
    "data0 = df[df['is_ultra'] == 0]"
   ]
  },
  {
   "cell_type": "code",
   "execution_count": 106,
   "metadata": {},
   "outputs": [
    {
     "data": {
      "text/html": [
       "<div>\n",
       "<style scoped>\n",
       "    .dataframe tbody tr th:only-of-type {\n",
       "        vertical-align: middle;\n",
       "    }\n",
       "\n",
       "    .dataframe tbody tr th {\n",
       "        vertical-align: top;\n",
       "    }\n",
       "\n",
       "    .dataframe thead th {\n",
       "        text-align: right;\n",
       "    }\n",
       "</style>\n",
       "<table border=\"1\" class=\"dataframe\">\n",
       "  <thead>\n",
       "    <tr style=\"text-align: right;\">\n",
       "      <th></th>\n",
       "      <th>calls</th>\n",
       "      <th>minutes</th>\n",
       "      <th>messages</th>\n",
       "      <th>mb_used</th>\n",
       "      <th>is_ultra</th>\n",
       "    </tr>\n",
       "  </thead>\n",
       "  <tbody>\n",
       "    <tr>\n",
       "      <th>count</th>\n",
       "      <td>2229.000000</td>\n",
       "      <td>2229.000000</td>\n",
       "      <td>2229.000000</td>\n",
       "      <td>2229.000000</td>\n",
       "      <td>2229.0</td>\n",
       "    </tr>\n",
       "    <tr>\n",
       "      <th>mean</th>\n",
       "      <td>58.463437</td>\n",
       "      <td>405.942952</td>\n",
       "      <td>33.384029</td>\n",
       "      <td>16208.466949</td>\n",
       "      <td>0.0</td>\n",
       "    </tr>\n",
       "    <tr>\n",
       "      <th>std</th>\n",
       "      <td>25.939858</td>\n",
       "      <td>184.512604</td>\n",
       "      <td>28.227876</td>\n",
       "      <td>5870.498853</td>\n",
       "      <td>0.0</td>\n",
       "    </tr>\n",
       "    <tr>\n",
       "      <th>min</th>\n",
       "      <td>0.000000</td>\n",
       "      <td>0.000000</td>\n",
       "      <td>0.000000</td>\n",
       "      <td>0.000000</td>\n",
       "      <td>0.0</td>\n",
       "    </tr>\n",
       "    <tr>\n",
       "      <th>25%</th>\n",
       "      <td>40.000000</td>\n",
       "      <td>274.230000</td>\n",
       "      <td>10.000000</td>\n",
       "      <td>12643.050000</td>\n",
       "      <td>0.0</td>\n",
       "    </tr>\n",
       "    <tr>\n",
       "      <th>50%</th>\n",
       "      <td>60.000000</td>\n",
       "      <td>410.560000</td>\n",
       "      <td>28.000000</td>\n",
       "      <td>16506.930000</td>\n",
       "      <td>0.0</td>\n",
       "    </tr>\n",
       "    <tr>\n",
       "      <th>75%</th>\n",
       "      <td>76.000000</td>\n",
       "      <td>529.510000</td>\n",
       "      <td>51.000000</td>\n",
       "      <td>20043.060000</td>\n",
       "      <td>0.0</td>\n",
       "    </tr>\n",
       "    <tr>\n",
       "      <th>max</th>\n",
       "      <td>198.000000</td>\n",
       "      <td>1390.220000</td>\n",
       "      <td>143.000000</td>\n",
       "      <td>38552.620000</td>\n",
       "      <td>0.0</td>\n",
       "    </tr>\n",
       "  </tbody>\n",
       "</table>\n",
       "</div>"
      ],
      "text/plain": [
       "             calls      minutes     messages       mb_used  is_ultra\n",
       "count  2229.000000  2229.000000  2229.000000   2229.000000    2229.0\n",
       "mean     58.463437   405.942952    33.384029  16208.466949       0.0\n",
       "std      25.939858   184.512604    28.227876   5870.498853       0.0\n",
       "min       0.000000     0.000000     0.000000      0.000000       0.0\n",
       "25%      40.000000   274.230000    10.000000  12643.050000       0.0\n",
       "50%      60.000000   410.560000    28.000000  16506.930000       0.0\n",
       "75%      76.000000   529.510000    51.000000  20043.060000       0.0\n",
       "max     198.000000  1390.220000   143.000000  38552.620000       0.0"
      ]
     },
     "execution_count": 106,
     "metadata": {},
     "output_type": "execute_result"
    }
   ],
   "source": [
    "data0.describe()"
   ]
  },
  {
   "cell_type": "markdown",
   "metadata": {},
   "source": [
    "Данных по тарифу Смарт более чем в 2 раза больше чем данных Ультра. Это не очень хорошо, т.к. при разбиении датасета на выборки мы можем получить, например, очень малое количество данных Ультра в обучающей выборке и модель плохо обучится."
   ]
  },
  {
   "cell_type": "markdown",
   "metadata": {},
   "source": [
    "### Разделим исходные данные на обучающую, валидационную и тестовую выборки."
   ]
  },
  {
   "cell_type": "markdown",
   "metadata": {},
   "source": [
    "Разделим данные на целевой столбец и признаки."
   ]
  },
  {
   "cell_type": "code",
   "execution_count": 107,
   "metadata": {},
   "outputs": [],
   "source": [
    "features = df.drop(['is_ultra'], axis=1)\n",
    "target = df['is_ultra']"
   ]
  },
  {
   "cell_type": "markdown",
   "metadata": {},
   "source": [
    "Выделим набор данных для обучающей, валидационной и тестовой выборки в два этапа.\n",
    "Отделим сначала обучающую выборку, равной 60% от исходных данных. Зададим параметр random_state чтобы можно было воспроизвести это псевдослучайное разбиение данных."
   ]
  },
  {
   "cell_type": "code",
   "execution_count": 108,
   "metadata": {},
   "outputs": [],
   "source": [
    "df_train, df_check = train_test_split(df, test_size=0.4, random_state=12345)\n"
   ]
  },
  {
   "cell_type": "markdown",
   "metadata": {},
   "source": [
    "Затем проверочный набор поделим пополам на валидационный набор и тестовый."
   ]
  },
  {
   "cell_type": "code",
   "execution_count": 109,
   "metadata": {},
   "outputs": [],
   "source": [
    "df_valid, df_test = train_test_split(df_check, test_size=0.5, random_state=12345)"
   ]
  },
  {
   "cell_type": "code",
   "execution_count": 110,
   "metadata": {},
   "outputs": [
    {
     "name": "stdout",
     "output_type": "stream",
     "text": [
      "(1928, 5)\n",
      "(643, 5)\n",
      "(643, 5)\n"
     ]
    }
   ],
   "source": [
    "print(df_train.shape)\n",
    "print(df_valid.shape)\n",
    "print(df_test.shape)"
   ]
  },
  {
   "cell_type": "markdown",
   "metadata": {},
   "source": [
    "Провели первоначальную оценку данных с разбиением их по тарифам, которая позволила установить, что данных по тарифу Смарт более чем в 2 раза больше чем данных Ультра. Это не очень хорошо, т.к. при разбиении датасета на выборки мы можем получить, например, очень малое количество данных Ультра в обучающей выборке и модель плохо обучится.\n",
    "Далее данные были разделены на обучающую и проверочную выборки в пропорции 60% на 40%. Затем проверочный набор поделили пополам на валидационный набор и тестовый."
   ]
  },
  {
   "cell_type": "markdown",
   "metadata": {},
   "source": [
    "## Исследуйте модели"
   ]
  },
  {
   "cell_type": "markdown",
   "metadata": {},
   "source": [
    "Рассмотрим наши данные с точки зрения построения прогностической модели.\n",
    "\n",
    "В качестве целевого признака выступает столбец \"is_ultra\". Т.к. в нем отражено какой тариф использует клиент, Смарт или Ультра, следовательно этот признак является категориальным. Следовательно нам необходимо решить задачу классификации, а точнее бинарной классификации (т.к. целевых признаков всего два).\n",
    "\n",
    "Чтобы предложить клиенту новый тариф мы должны предположить как работают взаимосвязи признаков у пользователей этих новых тарифов. На основании этих предположений сможем предсказать какой тариф предложить клиенту. Если эти предсказания соответсвуют реальности, то мы на верном пути и наши предположения верны.\n",
    "Такой подход называется моделированием, а сами предположения и способы предсказания — моделями машинного обучения.\n",
    "\n",
    "В процессе моделирования будем использовать следующие модели машинного обучения:\n",
    "\n",
    "Решающее дерево\n",
    "Случайный лес\n",
    "Логистическая регрессия\n",
    "У \"Решающего дерева\" и \"Случайного леса\" есть гиперпараметры, меняя которые можно подобрать наилучшую модель. У \"Решающего дерева\" это максимальная глубина дерева max_depth. У \"Случайного леса\" к максимальной глубине добавляется еще один гиперпараметр количество деревьев n_estimators.\n",
    "\n",
    "Каждую модель обучим на обучающем наборе и проверим на валидационной выборке. Таким образом определим лучшую модель."
   ]
  },
  {
   "cell_type": "markdown",
   "metadata": {},
   "source": [
    "Объявим переменные features и target (признаки и целевой признак), которым присвоим соответствующие им признаки."
   ]
  },
  {
   "cell_type": "code",
   "execution_count": 111,
   "metadata": {},
   "outputs": [],
   "source": [
    "features_train = df_train.drop(['is_ultra'], axis=1)\n",
    "target_train = df_train['is_ultra']"
   ]
  },
  {
   "cell_type": "code",
   "execution_count": 112,
   "metadata": {},
   "outputs": [],
   "source": [
    "features_valid = df_valid.drop(['is_ultra'], axis=1)\n",
    "target_valid = df_valid['is_ultra']"
   ]
  },
  {
   "cell_type": "code",
   "execution_count": 113,
   "metadata": {},
   "outputs": [],
   "source": [
    "features_test = df_test.drop(['is_ultra'], axis=1)\n",
    "target_test = df_test['is_ultra']"
   ]
  },
  {
   "cell_type": "markdown",
   "metadata": {},
   "source": [
    "### Модель \"Решающее дерево\""
   ]
  },
  {
   "cell_type": "code",
   "execution_count": 114,
   "metadata": {},
   "outputs": [
    {
     "name": "stdout",
     "output_type": "stream",
     "text": [
      "Accuracy лучшей модели: 0.7853810264385692\n",
      "Depth лучшей модели: 3\n"
     ]
    }
   ],
   "source": [
    "best_model_tree = None\n",
    "best_result_tree = 0\n",
    "\n",
    "for depth in range(1, 15):\n",
    "    model_tree = DecisionTreeClassifier(random_state=12345, max_depth=depth) # обучение модели с заданной глубиной деревьев\n",
    "    model_tree.fit(features_train, target_train) # обучение модели\n",
    "    predictions_tree = model_tree.predict(features_valid) # получение предсказания модели\n",
    "    result_tree = accuracy_score(target_valid, predictions_tree) # определение качества модели\n",
    "    if result_tree > best_result_tree:\n",
    "        best_model_tree = model_tree\n",
    "        best_result_tree = result_tree\n",
    "        best_depth = depth \n",
    "        \n",
    "print(\"Accuracy лучшей модели:\", best_result_tree)\n",
    "print(\"Depth лучшей модели:\", best_depth)"
   ]
  },
  {
   "cell_type": "markdown",
   "metadata": {},
   "source": [
    "### Модель \"Случайный лес\""
   ]
  },
  {
   "cell_type": "code",
   "execution_count": 115,
   "metadata": {},
   "outputs": [
    {
     "name": "stdout",
     "output_type": "stream",
     "text": [
      "Accuracy наилучшей модели на валидационной выборке: 0.8055987558320373\n",
      "Глубина дерева: 7\n",
      "N_estimators лучшей модели: 25\n",
      "Мин. объектов в узле: 3\n"
     ]
    }
   ],
   "source": [
    "best_accuracy_forest = 0\n",
    "best_depth_forest = 0\n",
    "for depth in range(1,10):\n",
    "    for est in range(5,45,5):\n",
    "        for sample in range(2,5):\n",
    "            model_forest = RandomForestClassifier(max_depth=depth, n_estimators=est, \n",
    "                                           min_samples_leaf=sample, random_state=1515)\n",
    "            model_forest.fit(features_train, target_train)\n",
    "            accuracy_forest = model_forest.score(features_valid, target_valid)\n",
    "            if accuracy_forest > best_accuracy_forest:\n",
    "                best_accuracy_forest = accuracy_forest\n",
    "                best_depth_forest = depth\n",
    "                best_est_forest = est\n",
    "                best_sample_forest = sample\n",
    "                best_model_forest = model_forest\n",
    "\n",
    "\n",
    "print(\"Accuracy наилучшей модели на валидационной выборке:\", best_accuracy_forest)\n",
    "print(\"Глубина дерева:\", best_depth_forest)\n",
    "print(\"N_estimators лучшей модели:\", best_est_forest)\n",
    "print('Мин. объектов в узле:', best_sample_forest)"
   ]
  },
  {
   "cell_type": "markdown",
   "metadata": {},
   "source": [
    "### Модель \"Логистическая регрессия\""
   ]
  },
  {
   "cell_type": "code",
   "execution_count": 116,
   "metadata": {
    "scrolled": true
   },
   "outputs": [
    {
     "name": "stdout",
     "output_type": "stream",
     "text": [
      "Accuracy наилучшей модели на валидационной выборке: 0.7107309486780715\n"
     ]
    }
   ],
   "source": [
    "model_log = LogisticRegression(random_state=12345, solver='lbfgs', max_iter=1000) #обучим модель\n",
    "model_log.fit(features_train, target_train) # обучим модель на тренировочной выборке\n",
    "predictions_log = model_log.predict(features_valid) # получим предсказания модели\n",
    "result_log = accuracy_score(target_valid, predictions_log)  # посчитаем качество модели для предсказания\n",
    "\n",
    "print(\"Accuracy наилучшей модели на валидационной выборке:\", result_log)"
   ]
  },
  {
   "cell_type": "markdown",
   "metadata": {},
   "source": [
    "Основываясь на показателе точности, можно прийти к выводу, что наиболее качественные результаты прогнозирует модель \"случайного леса\" с показателем accuracy 0.8. Модель \"Решающее дерево\" немного уступает в точности, но требует меньшей производительности при выполнении расчетов. Модель \"Логистическая регрессия\" показала наименьшую точность в 0.71."
   ]
  },
  {
   "cell_type": "markdown",
   "metadata": {},
   "source": [
    "## Проверьте модель на тестовой выборке"
   ]
  },
  {
   "cell_type": "markdown",
   "metadata": {},
   "source": [
    "### Модель \"Логистическая регрессия\""
   ]
  },
  {
   "cell_type": "code",
   "execution_count": 117,
   "metadata": {},
   "outputs": [
    {
     "name": "stdout",
     "output_type": "stream",
     "text": [
      "Качество: 0.6842923794712286\n"
     ]
    }
   ],
   "source": [
    "model_lr = LogisticRegression(random_state=12345, solver='lbfgs', max_iter=1000) \n",
    "model_lr.fit(features_train, target_train)\n",
    "accuracy = model_lr.score(features_test, target_test)\n",
    "print(\"Качество:\", accuracy)"
   ]
  },
  {
   "cell_type": "code",
   "execution_count": 118,
   "metadata": {
    "scrolled": true
   },
   "outputs": [
    {
     "data": {
      "text/plain": [
       "0.6843"
      ]
     },
     "execution_count": 118,
     "metadata": {},
     "output_type": "execute_result"
    }
   ],
   "source": [
    "predictions_lr_test = model_lr.predict(features_test)\n",
    "accuracy_lr_test = round(accuracy_score(target_test, predictions_lr_test), 4)\n",
    "accuracy_lr_test"
   ]
  },
  {
   "cell_type": "code",
   "execution_count": 119,
   "metadata": {},
   "outputs": [
    {
     "name": "stdout",
     "output_type": "stream",
     "text": [
      "Логистическая регрессия: 0.6842923794712286\n"
     ]
    }
   ],
   "source": [
    "prediction_test_LR = model_log.predict(features_test)\n",
    "accuracy_LR_test = accuracy_score(prediction_test_LR, target_test)\n",
    "print(f'Логистическая регрессия: {accuracy_LR_test}')"
   ]
  },
  {
   "cell_type": "markdown",
   "metadata": {},
   "source": [
    "### Модель \"Решающее дерево\""
   ]
  },
  {
   "cell_type": "code",
   "execution_count": 120,
   "metadata": {
    "scrolled": true
   },
   "outputs": [
    {
     "name": "stdout",
     "output_type": "stream",
     "text": [
      "Качество: 0.7791601866251944\n"
     ]
    }
   ],
   "source": [
    "model = DecisionTreeClassifier(max_depth=3, random_state=1515)\n",
    "model.fit(features_train, target_train)\n",
    "accuracy = model.score(features_test, target_test)\n",
    "print(\"Качество:\", accuracy)"
   ]
  },
  {
   "cell_type": "code",
   "execution_count": 121,
   "metadata": {},
   "outputs": [
    {
     "name": "stdout",
     "output_type": "stream",
     "text": [
      "Решающее дерево: 0.7791601866251944\n"
     ]
    }
   ],
   "source": [
    "prediction_test_DT = best_model_tree.predict(features_test)\n",
    "accuracy_DT_test = accuracy_score(prediction_test_DT, target_test)\n",
    "print(f'Решающее дерево: {accuracy_DT_test}')\n",
    "\n"
   ]
  },
  {
   "cell_type": "markdown",
   "metadata": {},
   "source": [
    "### Модель \"Случайный лес\""
   ]
  },
  {
   "cell_type": "code",
   "execution_count": 122,
   "metadata": {},
   "outputs": [
    {
     "name": "stdout",
     "output_type": "stream",
     "text": [
      "Качество: 0.7993779160186625\n"
     ]
    }
   ],
   "source": [
    "model = RandomForestClassifier(max_depth=7, n_estimators=25, min_samples_leaf=3, random_state=1515)\n",
    "model.fit(features_train, target_train)\n",
    "accuracy = model.score(features_test, target_test)\n",
    "print(\"Качество:\", accuracy)"
   ]
  },
  {
   "cell_type": "code",
   "execution_count": 123,
   "metadata": {},
   "outputs": [
    {
     "name": "stdout",
     "output_type": "stream",
     "text": [
      "Случайный лес: 0.7993779160186625\n"
     ]
    }
   ],
   "source": [
    "prediction_test_RF = best_model_forest.predict(features_test)\n",
    "accuracy_RF_test = accuracy_score(prediction_test_RF, target_test)\n",
    "print(f'Случайный лес: {accuracy_RF_test}')"
   ]
  },
  {
   "cell_type": "markdown",
   "metadata": {},
   "source": [
    "По результатам проверки моделей на тестовой выборке подтвердилось, что модель \"Случайного леса\" обладает наибольшей точностью. Значения модели \"Решающего дерева\" близки к показателям модели \"Случайного леса\". Наименее точной является модель логистической регрессии. Таким образом можно использовать модель \"Случайного леса\" для выбора тарифа (\"Смарт\" или \"Ультра\") и предложения его клиентам заказчика."
   ]
  },
  {
   "cell_type": "markdown",
   "metadata": {},
   "source": [
    "## (Бонус)"
   ]
  },
  {
   "cell_type": "code",
   "execution_count": 124,
   "metadata": {},
   "outputs": [
    {
     "name": "stdout",
     "output_type": "stream",
     "text": [
      "Качество наивного прогноза : 0.5800933125972006\n",
      "Качество нашего прогноза : 0.7993779160186625\n"
     ]
    }
   ],
   "source": [
    "dmb = DummyClassifier(strategy=\"stratified\" ,random_state=1515)\n",
    "dmb.fit(features_train, target_train)\n",
    "acc = dmb.score(features_test, target_test)\n",
    "print(\"Качество наивного прогноза :\", acc)\n",
    "print(\"Качество нашего прогноза :\", accuracy)"
   ]
  },
  {
   "cell_type": "markdown",
   "metadata": {},
   "source": [
    "Качество нашего прогноза гораздо выше."
   ]
  },
  {
   "cell_type": "markdown",
   "metadata": {},
   "source": [
    "## Выводы по работе"
   ]
  },
  {
   "cell_type": "markdown",
   "metadata": {},
   "source": [
    "По результатам исследования была выполнена задача по построению модели для задачи классификации, которая способна подобрать подходящий тариф. Был рассмотрен массив данных о поведении клиентов, которые уже перешли на предлагаемые тарифы. В целом данные чистые, была лишь произведена замена типа данных в calls и messages на int64.\n",
    "Далее данные были разделены на обучающую и проверочную выборки в пропорции 60% на 40%. Затем проверочный набор поделили пополам на валидационный набор и тестовый.\n",
    "\n",
    "Данные были рассмотрены с точки зрения построения прогностической модели. В качестве целевого признака выступает столбец \"is_ultra\". Т.к. в нем отражено какой тариф использует клиент, Смарт или Ультра, следовательно этот признак является категориальным. Необходимо решить задачу бинарной классификации.\n",
    "\n",
    "Исследованы качество разных моделей и получены следующие результаты:\n",
    "Дерево решений с точностью 78% и глубиной дерева (max_depth) - 3;\n",
    "Случайный лес с точностью 80% и количеством деревьев (n_estimators) - 25;\n",
    "Логистическая регрессия (гиперпараметры по умолчанию) с точностью 71%.\n",
    "Качество моделей проверено на тестовой выборке и получены следующие результаты:\n",
    "Дерево решений - точность 78%;\n",
    "Случайный лес - точность 79%;\n",
    "Логистическая регрессия - точность 68%.\n",
    "\n",
    "Соответственно, модель \"Случайного леса\" может быть использована для подбора тарифа.\n",
    "Сравнив данную модель со случайными предсказаниями и оценив ее качество на тестовом наборе данных (результат составил 80% правильных ответов) было подтверждено, что данная модель подходит для задачи заказчика. Таким образом можно использовать данную модель для предложения клиентам заказчика нового тарифа (\"Смарт\" или \"Ультра\")."
   ]
  }
 ],
 "metadata": {
  "ExecuteTimeLog": [
   {
    "duration": 1835,
    "start_time": "2023-09-24T09:46:04.781Z"
   },
   {
    "duration": 114,
    "start_time": "2023-09-24T09:46:41.310Z"
   },
   {
    "duration": 16,
    "start_time": "2023-09-24T09:46:57.523Z"
   },
   {
    "duration": 13,
    "start_time": "2023-09-24T09:48:07.053Z"
   },
   {
    "duration": 13,
    "start_time": "2023-09-24T09:50:16.270Z"
   },
   {
    "duration": 1142,
    "start_time": "2023-09-24T09:53:17.418Z"
   },
   {
    "duration": 124,
    "start_time": "2023-09-24T09:53:43.219Z"
   },
   {
    "duration": 76,
    "start_time": "2023-09-24T09:53:49.155Z"
   },
   {
    "duration": 75,
    "start_time": "2023-09-24T09:54:03.967Z"
   },
   {
    "duration": 92,
    "start_time": "2023-09-24T09:54:50.980Z"
   },
   {
    "duration": 8,
    "start_time": "2023-09-24T09:54:56.244Z"
   },
   {
    "duration": 13,
    "start_time": "2023-09-24T09:55:18.502Z"
   },
   {
    "duration": 134,
    "start_time": "2023-09-24T09:55:45.723Z"
   },
   {
    "duration": 7,
    "start_time": "2023-09-24T09:56:04.943Z"
   },
   {
    "duration": 35,
    "start_time": "2023-09-24T09:56:40.662Z"
   },
   {
    "duration": 11,
    "start_time": "2023-09-24T09:57:58.107Z"
   },
   {
    "duration": 5,
    "start_time": "2023-09-24T09:58:02.957Z"
   },
   {
    "duration": 84,
    "start_time": "2023-09-24T10:03:22.386Z"
   },
   {
    "duration": 6,
    "start_time": "2023-09-24T10:04:53.928Z"
   },
   {
    "duration": 30,
    "start_time": "2023-09-24T10:05:06.283Z"
   },
   {
    "duration": 12,
    "start_time": "2023-09-24T10:05:46.317Z"
   },
   {
    "duration": 5,
    "start_time": "2023-09-24T10:05:54.289Z"
   },
   {
    "duration": 34,
    "start_time": "2023-09-24T10:05:54.729Z"
   },
   {
    "duration": 3,
    "start_time": "2023-09-24T10:12:46.193Z"
   },
   {
    "duration": 6,
    "start_time": "2023-09-24T10:14:57.688Z"
   },
   {
    "duration": 5,
    "start_time": "2023-09-24T10:22:24.137Z"
   },
   {
    "duration": 7,
    "start_time": "2023-09-24T10:23:26.297Z"
   },
   {
    "duration": 6,
    "start_time": "2023-09-24T10:26:18.369Z"
   },
   {
    "duration": 109,
    "start_time": "2023-09-24T10:26:20.336Z"
   },
   {
    "duration": 11,
    "start_time": "2023-09-24T10:26:25.818Z"
   },
   {
    "duration": 5,
    "start_time": "2023-09-24T10:26:28.159Z"
   },
   {
    "duration": 113,
    "start_time": "2023-09-24T10:26:28.593Z"
   },
   {
    "duration": 4,
    "start_time": "2023-09-24T10:26:43.685Z"
   },
   {
    "duration": 35,
    "start_time": "2023-09-24T10:26:44.255Z"
   },
   {
    "duration": 13,
    "start_time": "2023-09-24T10:26:44.292Z"
   },
   {
    "duration": 16,
    "start_time": "2023-09-24T10:26:44.359Z"
   },
   {
    "duration": 6,
    "start_time": "2023-09-24T10:26:44.432Z"
   },
   {
    "duration": 16,
    "start_time": "2023-09-24T10:26:44.466Z"
   },
   {
    "duration": 11,
    "start_time": "2023-09-24T10:26:44.538Z"
   },
   {
    "duration": 111,
    "start_time": "2023-09-24T10:26:44.552Z"
   },
   {
    "duration": 4,
    "start_time": "2023-09-24T10:26:45.195Z"
   },
   {
    "duration": 4,
    "start_time": "2023-09-24T10:26:46.473Z"
   },
   {
    "duration": 25,
    "start_time": "2023-09-24T10:26:46.740Z"
   },
   {
    "duration": 5,
    "start_time": "2023-09-24T10:26:47.061Z"
   },
   {
    "duration": 44,
    "start_time": "2023-09-24T10:26:47.421Z"
   },
   {
    "duration": 4,
    "start_time": "2023-09-24T10:26:48.847Z"
   },
   {
    "duration": 6,
    "start_time": "2023-09-24T10:26:49.596Z"
   },
   {
    "duration": 115,
    "start_time": "2023-09-24T10:26:50.122Z"
   },
   {
    "duration": 5,
    "start_time": "2023-09-24T10:27:57.238Z"
   },
   {
    "duration": 8,
    "start_time": "2023-09-24T10:28:48.209Z"
   },
   {
    "duration": 4,
    "start_time": "2023-09-24T10:29:01.848Z"
   },
   {
    "duration": 5,
    "start_time": "2023-09-24T10:29:12.553Z"
   },
   {
    "duration": 5,
    "start_time": "2023-09-24T10:29:12.937Z"
   },
   {
    "duration": 6,
    "start_time": "2023-09-24T10:34:22.526Z"
   },
   {
    "duration": 4,
    "start_time": "2023-09-24T10:34:22.971Z"
   },
   {
    "duration": 5,
    "start_time": "2023-09-24T10:34:23.331Z"
   },
   {
    "duration": 1770,
    "start_time": "2023-09-26T12:09:18.767Z"
   },
   {
    "duration": 133,
    "start_time": "2023-09-26T12:09:20.539Z"
   },
   {
    "duration": 14,
    "start_time": "2023-09-26T12:09:20.674Z"
   },
   {
    "duration": 59,
    "start_time": "2023-09-26T12:09:20.689Z"
   },
   {
    "duration": 6,
    "start_time": "2023-09-26T12:09:21.726Z"
   },
   {
    "duration": 15,
    "start_time": "2023-09-26T12:09:21.946Z"
   },
   {
    "duration": 8,
    "start_time": "2023-09-26T12:09:22.196Z"
   },
   {
    "duration": 23,
    "start_time": "2023-09-26T12:09:22.378Z"
   },
   {
    "duration": 8,
    "start_time": "2023-09-26T12:09:22.939Z"
   },
   {
    "duration": 6,
    "start_time": "2023-09-26T12:09:23.095Z"
   },
   {
    "duration": 44,
    "start_time": "2023-09-26T12:09:23.125Z"
   },
   {
    "duration": 66,
    "start_time": "2023-09-26T12:09:23.184Z"
   },
   {
    "duration": 29,
    "start_time": "2023-09-26T12:09:23.769Z"
   },
   {
    "duration": 11,
    "start_time": "2023-09-26T12:09:24.443Z"
   },
   {
    "duration": 6,
    "start_time": "2023-09-26T12:09:24.586Z"
   },
   {
    "duration": 9,
    "start_time": "2023-09-26T12:09:24.595Z"
   },
   {
    "duration": 11,
    "start_time": "2023-09-26T12:09:24.606Z"
   },
   {
    "duration": 7,
    "start_time": "2023-09-26T12:09:26.945Z"
   },
   {
    "duration": 4,
    "start_time": "2023-09-26T12:09:27.172Z"
   },
   {
    "duration": 4,
    "start_time": "2023-09-26T12:09:27.426Z"
   },
   {
    "duration": 137,
    "start_time": "2023-09-26T12:19:15.159Z"
   },
   {
    "duration": 31,
    "start_time": "2023-09-26T12:19:27.260Z"
   },
   {
    "duration": 34,
    "start_time": "2023-09-26T12:19:59.078Z"
   },
   {
    "duration": 32,
    "start_time": "2023-09-26T12:30:25.882Z"
   },
   {
    "duration": 38,
    "start_time": "2023-09-26T12:30:33.137Z"
   },
   {
    "duration": 49,
    "start_time": "2023-09-26T12:30:59.080Z"
   },
   {
    "duration": 39,
    "start_time": "2023-09-26T12:31:53.939Z"
   },
   {
    "duration": 305,
    "start_time": "2023-09-26T12:34:32.871Z"
   },
   {
    "duration": 33751,
    "start_time": "2023-09-26T12:34:58.825Z"
   },
   {
    "duration": 73,
    "start_time": "2023-09-26T12:36:16.539Z"
   },
   {
    "duration": 112,
    "start_time": "2023-09-26T12:36:21.908Z"
   },
   {
    "duration": 33705,
    "start_time": "2023-09-26T12:36:28.317Z"
   },
   {
    "duration": 31,
    "start_time": "2023-09-26T12:42:04.110Z"
   },
   {
    "duration": 399,
    "start_time": "2023-09-26T12:48:26.882Z"
   },
   {
    "duration": 13605,
    "start_time": "2023-09-26T12:48:43.672Z"
   },
   {
    "duration": 12612,
    "start_time": "2023-09-26T12:51:07.711Z"
   },
   {
    "duration": 27,
    "start_time": "2023-09-26T13:16:42.661Z"
   },
   {
    "duration": 8,
    "start_time": "2023-09-26T13:21:28.701Z"
   },
   {
    "duration": 24,
    "start_time": "2023-09-26T13:21:33.593Z"
   },
   {
    "duration": 6,
    "start_time": "2023-09-26T13:21:34.990Z"
   },
   {
    "duration": 25,
    "start_time": "2023-09-26T13:22:09.823Z"
   },
   {
    "duration": 7,
    "start_time": "2023-09-26T13:22:10.794Z"
   },
   {
    "duration": 10,
    "start_time": "2023-09-26T13:23:20.878Z"
   },
   {
    "duration": 120,
    "start_time": "2023-09-26T13:24:07.452Z"
   },
   {
    "duration": 12146,
    "start_time": "2023-09-26T13:35:39.925Z"
   },
   {
    "duration": 83,
    "start_time": "2023-09-26T13:36:08.668Z"
   },
   {
    "duration": 22,
    "start_time": "2023-09-26T13:36:56.567Z"
   },
   {
    "duration": 25,
    "start_time": "2023-09-26T13:39:10.562Z"
   },
   {
    "duration": 122,
    "start_time": "2023-09-26T13:40:13.995Z"
   },
   {
    "duration": 13245,
    "start_time": "2023-09-26T13:40:14.720Z"
   },
   {
    "duration": 24,
    "start_time": "2023-09-26T13:40:27.970Z"
   },
   {
    "duration": 23,
    "start_time": "2023-09-26T13:44:20.793Z"
   },
   {
    "duration": 49,
    "start_time": "2023-09-26T13:44:44.834Z"
   },
   {
    "duration": 30,
    "start_time": "2023-09-26T13:44:49.558Z"
   },
   {
    "duration": 6,
    "start_time": "2023-09-26T13:51:15.438Z"
   },
   {
    "duration": 16,
    "start_time": "2023-09-26T13:53:20.561Z"
   },
   {
    "duration": 6,
    "start_time": "2023-09-26T13:53:21.222Z"
   },
   {
    "duration": 4,
    "start_time": "2023-09-26T13:53:21.743Z"
   },
   {
    "duration": 87,
    "start_time": "2023-09-26T13:53:51.783Z"
   },
   {
    "duration": 8,
    "start_time": "2023-09-26T13:55:32.002Z"
   },
   {
    "duration": 11,
    "start_time": "2023-09-26T13:56:05.752Z"
   },
   {
    "duration": 4,
    "start_time": "2023-09-26T14:04:50.072Z"
   },
   {
    "duration": 29,
    "start_time": "2023-09-26T14:04:50.342Z"
   },
   {
    "duration": 11,
    "start_time": "2023-09-26T14:04:50.692Z"
   },
   {
    "duration": 15,
    "start_time": "2023-09-26T14:04:51.323Z"
   },
   {
    "duration": 6,
    "start_time": "2023-09-26T14:04:51.943Z"
   },
   {
    "duration": 15,
    "start_time": "2023-09-26T14:04:52.294Z"
   },
   {
    "duration": 9,
    "start_time": "2023-09-26T14:04:52.584Z"
   },
   {
    "duration": 33,
    "start_time": "2023-09-26T14:04:52.872Z"
   },
   {
    "duration": 6,
    "start_time": "2023-09-26T14:04:53.187Z"
   },
   {
    "duration": 5,
    "start_time": "2023-09-26T14:04:54.257Z"
   },
   {
    "duration": 29,
    "start_time": "2023-09-26T14:04:54.526Z"
   },
   {
    "duration": 5,
    "start_time": "2023-09-26T14:04:54.812Z"
   },
   {
    "duration": 26,
    "start_time": "2023-09-26T14:04:55.170Z"
   },
   {
    "duration": 4,
    "start_time": "2023-09-26T14:04:56.311Z"
   },
   {
    "duration": 5,
    "start_time": "2023-09-26T14:04:56.842Z"
   },
   {
    "duration": 5,
    "start_time": "2023-09-26T14:04:57.392Z"
   },
   {
    "duration": 4,
    "start_time": "2023-09-26T14:04:57.692Z"
   },
   {
    "duration": 5,
    "start_time": "2023-09-26T14:04:59.492Z"
   },
   {
    "duration": 5,
    "start_time": "2023-09-26T14:04:59.960Z"
   },
   {
    "duration": 4,
    "start_time": "2023-09-26T14:05:00.256Z"
   },
   {
    "duration": 108,
    "start_time": "2023-09-26T14:05:00.757Z"
   },
   {
    "duration": 12729,
    "start_time": "2023-09-26T14:05:01.588Z"
   },
   {
    "duration": 32,
    "start_time": "2023-09-26T14:05:14.319Z"
   },
   {
    "duration": 30,
    "start_time": "2023-09-26T14:05:14.353Z"
   },
   {
    "duration": 7,
    "start_time": "2023-09-26T14:05:14.385Z"
   },
   {
    "duration": 14,
    "start_time": "2023-09-26T14:05:14.394Z"
   },
   {
    "duration": 38,
    "start_time": "2023-09-26T14:05:14.410Z"
   },
   {
    "duration": 10,
    "start_time": "2023-09-26T14:05:14.450Z"
   },
   {
    "duration": 119,
    "start_time": "2023-09-26T14:05:14.461Z"
   },
   {
    "duration": 12,
    "start_time": "2023-09-26T14:05:14.582Z"
   },
   {
    "duration": 79,
    "start_time": "2023-09-26T14:14:39.284Z"
   },
   {
    "duration": 18,
    "start_time": "2023-09-26T14:20:23.760Z"
   },
   {
    "duration": 3,
    "start_time": "2023-09-26T14:20:51.106Z"
   },
   {
    "duration": 28,
    "start_time": "2023-09-26T14:20:51.572Z"
   },
   {
    "duration": 10,
    "start_time": "2023-09-26T14:20:52.096Z"
   },
   {
    "duration": 10,
    "start_time": "2023-09-26T14:20:52.188Z"
   },
   {
    "duration": 6,
    "start_time": "2023-09-26T14:20:52.236Z"
   },
   {
    "duration": 11,
    "start_time": "2023-09-26T14:20:52.275Z"
   },
   {
    "duration": 67,
    "start_time": "2023-09-26T14:20:52.289Z"
   },
   {
    "duration": 55,
    "start_time": "2023-09-26T14:20:52.358Z"
   },
   {
    "duration": 15,
    "start_time": "2023-09-26T14:20:52.415Z"
   },
   {
    "duration": 4,
    "start_time": "2023-09-26T14:20:52.586Z"
   },
   {
    "duration": 82,
    "start_time": "2023-09-26T14:20:52.619Z"
   },
   {
    "duration": 52,
    "start_time": "2023-09-26T14:20:52.703Z"
   },
   {
    "duration": 45,
    "start_time": "2023-09-26T14:20:52.757Z"
   },
   {
    "duration": 30,
    "start_time": "2023-09-26T14:20:52.804Z"
   },
   {
    "duration": 43,
    "start_time": "2023-09-26T14:20:52.836Z"
   },
   {
    "duration": 40,
    "start_time": "2023-09-26T14:20:52.884Z"
   },
   {
    "duration": 42,
    "start_time": "2023-09-26T14:20:52.925Z"
   },
   {
    "duration": 5,
    "start_time": "2023-09-26T14:20:53.093Z"
   },
   {
    "duration": 14,
    "start_time": "2023-09-26T14:20:53.118Z"
   },
   {
    "duration": 8,
    "start_time": "2023-09-26T14:20:53.166Z"
   },
   {
    "duration": 120,
    "start_time": "2023-09-26T14:20:53.206Z"
   },
   {
    "duration": 14737,
    "start_time": "2023-09-26T14:20:53.328Z"
   },
   {
    "duration": 41,
    "start_time": "2023-09-26T14:21:08.068Z"
   },
   {
    "duration": 50,
    "start_time": "2023-09-26T14:21:08.111Z"
   },
   {
    "duration": 11,
    "start_time": "2023-09-26T14:21:08.164Z"
   },
   {
    "duration": 32,
    "start_time": "2023-09-26T14:21:08.177Z"
   },
   {
    "duration": 46,
    "start_time": "2023-09-26T14:21:08.212Z"
   },
   {
    "duration": 26,
    "start_time": "2023-09-26T14:21:08.260Z"
   },
   {
    "duration": 119,
    "start_time": "2023-09-26T14:21:08.288Z"
   },
   {
    "duration": 15,
    "start_time": "2023-09-26T14:21:08.409Z"
   },
   {
    "duration": 40,
    "start_time": "2023-09-26T14:21:08.427Z"
   }
  ],
  "kernelspec": {
   "display_name": "Python 3 (ipykernel)",
   "language": "python",
   "name": "python3"
  },
  "language_info": {
   "codemirror_mode": {
    "name": "ipython",
    "version": 3
   },
   "file_extension": ".py",
   "mimetype": "text/x-python",
   "name": "python",
   "nbconvert_exporter": "python",
   "pygments_lexer": "ipython3",
   "version": "3.9.5"
  },
  "toc": {
   "base_numbering": 1,
   "nav_menu": {},
   "number_sections": true,
   "sideBar": true,
   "skip_h1_title": true,
   "title_cell": "Table of Contents",
   "title_sidebar": "Contents",
   "toc_cell": false,
   "toc_position": {
    "height": "calc(100% - 180px)",
    "left": "10px",
    "top": "150px",
    "width": "246px"
   },
   "toc_section_display": true,
   "toc_window_display": true
  }
 },
 "nbformat": 4,
 "nbformat_minor": 2
}
