{
 "cells": [
  {
   "cell_type": "markdown",
   "id": "GEqQaHzsZ_bA",
   "metadata": {
    "id": "GEqQaHzsZ_bA"
   },
   "source": [
    "## Предсказание стоимости жилья\n",
    "\n",
    "В проекте вам нужно обучить модель линейной регрессии на данных о жилье в Калифорнии в 1990 году. На основе данных нужно предсказать медианную стоимость дома в жилом массиве. Обучите модель и сделайте предсказания на тестовой выборке. Для оценки качества модели используйте метрики RMSE, MAE и R2."
   ]
  },
  {
   "cell_type": "markdown",
   "id": "5c79a0ff",
   "metadata": {},
   "source": [
    "\n",
    " \n",
    "Основная задача проекта заключается в обучении модели линейной регрессии на данных о жилье в Калифорнии в 1990 году для предсказания медианной стоимости дома. В колонках датасета содержатся следующие данные:\n",
    "\n",
    "longitude — широта;\n",
    "latitude — долгота;\n",
    "housing_median_age — медианный возраст домов в жилом массиве;\n",
    "total_rooms — общее количество комнат в домах жилого массива;\n",
    "total_bedrooms — общее количество спален в домах жилого массива;\n",
    "population — количество человек, которые проживают в жилом массиве;\n",
    "households — количество домовладений в жилом массиве;\n",
    "median_income — медианный доход жителей жилого массива;\n",
    "median_house_value — медианная стоимость дома в жилом массиве;\n",
    "ocean_proximity — близость к океану.\n",
    "\n",
    " **Цель исследования**\n",
    " \n",
    "Цель проекта заключается в анализе данных о жилье в Калифорнии в 1990 году, а именно:\n",
    "1. Проанализировать основную информацию о жилье.\n",
    "2. Провести предобработку и подготовку данных.\n",
    "3. Провести обучение моделей на всех признаках и на только на числовых признаках.\n",
    "4. Проверить качество моделей по метрикам RMSE, MAE и R2.\n",
    "\n",
    "**Ход исследования**\n",
    "\n",
    "Данные для исследования получены из одного датафрейма. В  данных есть информация о координатах жилья, его основных параметрах и данные о жильцах. \n",
    "\n",
    "Таким образом, исследование будет состоять из следующих этапов:\n",
    "- обзор данных;\n",
    "- предобработка данных (при необходимости);\n",
    "- исследование моделей линейной регрессии на всех признаках и на только на числовых признаках;\n",
    "- сравнение качества моделей по метрикам RMSE, MAE и R2;\n",
    "- основные выводы."
   ]
  },
  {
   "cell_type": "markdown",
   "id": "53871372",
   "metadata": {
    "id": "53871372"
   },
   "source": [
    "# Подготовка данных"
   ]
  },
  {
   "cell_type": "markdown",
   "id": "4c0add63",
   "metadata": {
    "id": "df92e3ec"
   },
   "source": [
    "Подключение библиотек, инициализация Spark-сессии."
   ]
  },
  {
   "cell_type": "code",
   "execution_count": 1,
   "id": "112dafe2",
   "metadata": {},
   "outputs": [],
   "source": [
    "import pandas as pd \n",
    "import numpy as np\n",
    "\n",
    "import seaborn as sns\n",
    "\n",
    "import pyspark\n",
    "from pyspark.sql import SparkSession\n",
    "from pyspark.sql.types import *\n",
    "import pyspark.sql.functions as F\n",
    "\n",
    "from pyspark.ml.feature import StringIndexer, VectorAssembler, StandardScaler\n",
    "from pyspark.ml.stat import Correlation\n",
    "from pyspark.ml.feature import OneHotEncoder\n",
    "from pyspark.ml.regression import LinearRegression\n",
    "from pyspark.mllib.evaluation import RegressionMetrics\n",
    "\n",
    "RANDOM_SEED = 42\n",
    "pd.set_option('display.float_format', lambda x: '%.3f' % x)"
   ]
  },
  {
   "cell_type": "code",
   "execution_count": 2,
   "id": "ccaae7ad",
   "metadata": {},
   "outputs": [],
   "source": [
    "spark = SparkSession.builder \\\n",
    "                    .master(\"local\") \\\n",
    "                    .appName(\"California Housing\") \\\n",
    "                    .getOrCreate()"
   ]
  },
  {
   "cell_type": "markdown",
   "id": "c450ed5f",
   "metadata": {},
   "source": [
    "Загрузка данных."
   ]
  },
  {
   "cell_type": "code",
   "execution_count": 3,
   "id": "c14aaca0",
   "metadata": {},
   "outputs": [
    {
     "name": "stderr",
     "output_type": "stream",
     "text": [
      "[Stage 1:>                                                          (0 + 1) / 1]\r"
     ]
    },
    {
     "name": "stdout",
     "output_type": "stream",
     "text": [
      "root\n",
      " |-- longitude: double (nullable = true)\n",
      " |-- latitude: double (nullable = true)\n",
      " |-- housing_median_age: double (nullable = true)\n",
      " |-- total_rooms: double (nullable = true)\n",
      " |-- total_bedrooms: double (nullable = true)\n",
      " |-- population: double (nullable = true)\n",
      " |-- households: double (nullable = true)\n",
      " |-- median_income: double (nullable = true)\n",
      " |-- median_house_value: double (nullable = true)\n",
      " |-- ocean_proximity: string (nullable = true)\n",
      "\n"
     ]
    },
    {
     "name": "stderr",
     "output_type": "stream",
     "text": [
      "                                                                                \r"
     ]
    }
   ],
   "source": [
    "df_housing = spark.read.load('/datasets/housing.csv',\n",
    "                                        format='csv',\n",
    "                                             sep=',',\n",
    "                                    inferSchema=True,\n",
    "                                         header=True)\n",
    "\n",
    "#вывод схемы датафрейма\n",
    "df_housing.printSchema()"
   ]
  },
  {
   "cell_type": "markdown",
   "id": "6ad20f06",
   "metadata": {},
   "source": [
    "Вывод типов данных колонок и их названий."
   ]
  },
  {
   "cell_type": "code",
   "execution_count": 4,
   "id": "a650efaf",
   "metadata": {},
   "outputs": [
    {
     "name": "stdout",
     "output_type": "stream",
     "text": [
      "               column    type\n",
      "0           longitude  double\n",
      "1            latitude  double\n",
      "2  housing_median_age  double\n",
      "3         total_rooms  double\n",
      "4      total_bedrooms  double\n",
      "5          population  double\n",
      "6          households  double\n",
      "7       median_income  double\n",
      "8  median_house_value  double\n",
      "9     ocean_proximity  string\n"
     ]
    }
   ],
   "source": [
    "print(pd.DataFrame(df_housing.dtypes, columns=['column', 'type']))"
   ]
  },
  {
   "cell_type": "markdown",
   "id": "63149107",
   "metadata": {},
   "source": [
    "# Анализ данных"
   ]
  },
  {
   "cell_type": "markdown",
   "id": "f406c162",
   "metadata": {},
   "source": [
    "Вывод первых строк датафрейма."
   ]
  },
  {
   "cell_type": "code",
   "execution_count": 5,
   "id": "3530e8c0",
   "metadata": {},
   "outputs": [
    {
     "data": {
      "text/html": [
       "<div>\n",
       "<style scoped>\n",
       "    .dataframe tbody tr th:only-of-type {\n",
       "        vertical-align: middle;\n",
       "    }\n",
       "\n",
       "    .dataframe tbody tr th {\n",
       "        vertical-align: top;\n",
       "    }\n",
       "\n",
       "    .dataframe thead th {\n",
       "        text-align: right;\n",
       "    }\n",
       "</style>\n",
       "<table border=\"1\" class=\"dataframe\">\n",
       "  <thead>\n",
       "    <tr style=\"text-align: right;\">\n",
       "      <th></th>\n",
       "      <th>longitude</th>\n",
       "      <th>latitude</th>\n",
       "      <th>housing_median_age</th>\n",
       "      <th>total_rooms</th>\n",
       "      <th>total_bedrooms</th>\n",
       "      <th>population</th>\n",
       "      <th>households</th>\n",
       "      <th>median_income</th>\n",
       "      <th>median_house_value</th>\n",
       "      <th>ocean_proximity</th>\n",
       "    </tr>\n",
       "  </thead>\n",
       "  <tbody>\n",
       "    <tr>\n",
       "      <th>0</th>\n",
       "      <td>-122.230</td>\n",
       "      <td>37.880</td>\n",
       "      <td>41.000</td>\n",
       "      <td>880.000</td>\n",
       "      <td>129.000</td>\n",
       "      <td>322.000</td>\n",
       "      <td>126.000</td>\n",
       "      <td>8.325</td>\n",
       "      <td>452600.000</td>\n",
       "      <td>NEAR BAY</td>\n",
       "    </tr>\n",
       "    <tr>\n",
       "      <th>1</th>\n",
       "      <td>-122.220</td>\n",
       "      <td>37.860</td>\n",
       "      <td>21.000</td>\n",
       "      <td>7099.000</td>\n",
       "      <td>1106.000</td>\n",
       "      <td>2401.000</td>\n",
       "      <td>1138.000</td>\n",
       "      <td>8.301</td>\n",
       "      <td>358500.000</td>\n",
       "      <td>NEAR BAY</td>\n",
       "    </tr>\n",
       "    <tr>\n",
       "      <th>2</th>\n",
       "      <td>-122.240</td>\n",
       "      <td>37.850</td>\n",
       "      <td>52.000</td>\n",
       "      <td>1467.000</td>\n",
       "      <td>190.000</td>\n",
       "      <td>496.000</td>\n",
       "      <td>177.000</td>\n",
       "      <td>7.257</td>\n",
       "      <td>352100.000</td>\n",
       "      <td>NEAR BAY</td>\n",
       "    </tr>\n",
       "    <tr>\n",
       "      <th>3</th>\n",
       "      <td>-122.250</td>\n",
       "      <td>37.850</td>\n",
       "      <td>52.000</td>\n",
       "      <td>1274.000</td>\n",
       "      <td>235.000</td>\n",
       "      <td>558.000</td>\n",
       "      <td>219.000</td>\n",
       "      <td>5.643</td>\n",
       "      <td>341300.000</td>\n",
       "      <td>NEAR BAY</td>\n",
       "    </tr>\n",
       "    <tr>\n",
       "      <th>4</th>\n",
       "      <td>-122.250</td>\n",
       "      <td>37.850</td>\n",
       "      <td>52.000</td>\n",
       "      <td>1627.000</td>\n",
       "      <td>280.000</td>\n",
       "      <td>565.000</td>\n",
       "      <td>259.000</td>\n",
       "      <td>3.846</td>\n",
       "      <td>342200.000</td>\n",
       "      <td>NEAR BAY</td>\n",
       "    </tr>\n",
       "  </tbody>\n",
       "</table>\n",
       "</div>"
      ],
      "text/plain": [
       "   longitude  latitude  housing_median_age  total_rooms  total_bedrooms  \\\n",
       "0   -122.230    37.880              41.000      880.000         129.000   \n",
       "1   -122.220    37.860              21.000     7099.000        1106.000   \n",
       "2   -122.240    37.850              52.000     1467.000         190.000   \n",
       "3   -122.250    37.850              52.000     1274.000         235.000   \n",
       "4   -122.250    37.850              52.000     1627.000         280.000   \n",
       "\n",
       "   population  households  median_income  median_house_value ocean_proximity  \n",
       "0     322.000     126.000          8.325          452600.000        NEAR BAY  \n",
       "1    2401.000    1138.000          8.301          358500.000        NEAR BAY  \n",
       "2     496.000     177.000          7.257          352100.000        NEAR BAY  \n",
       "3     558.000     219.000          5.643          341300.000        NEAR BAY  \n",
       "4     565.000     259.000          3.846          342200.000        NEAR BAY  "
      ]
     },
     "execution_count": 5,
     "metadata": {},
     "output_type": "execute_result"
    }
   ],
   "source": [
    "pd.DataFrame(df_housing.take(5), columns=df_housing.columns)"
   ]
  },
  {
   "cell_type": "markdown",
   "id": "61af7d4f",
   "metadata": {},
   "source": [
    "Просмотрим значения, содержащиеся в категориальной переменной."
   ]
  },
  {
   "cell_type": "code",
   "execution_count": 6,
   "id": "23a16f64",
   "metadata": {},
   "outputs": [
    {
     "name": "stderr",
     "output_type": "stream",
     "text": [
      "                                                                                \r"
     ]
    },
    {
     "data": {
      "text/html": [
       "<div>\n",
       "<style scoped>\n",
       "    .dataframe tbody tr th:only-of-type {\n",
       "        vertical-align: middle;\n",
       "    }\n",
       "\n",
       "    .dataframe tbody tr th {\n",
       "        vertical-align: top;\n",
       "    }\n",
       "\n",
       "    .dataframe thead th {\n",
       "        text-align: right;\n",
       "    }\n",
       "</style>\n",
       "<table border=\"1\" class=\"dataframe\">\n",
       "  <thead>\n",
       "    <tr style=\"text-align: right;\">\n",
       "      <th></th>\n",
       "      <th>ocean_proximity</th>\n",
       "      <th>count</th>\n",
       "    </tr>\n",
       "  </thead>\n",
       "  <tbody>\n",
       "    <tr>\n",
       "      <th>0</th>\n",
       "      <td>ISLAND</td>\n",
       "      <td>5</td>\n",
       "    </tr>\n",
       "    <tr>\n",
       "      <th>1</th>\n",
       "      <td>NEAR OCEAN</td>\n",
       "      <td>2658</td>\n",
       "    </tr>\n",
       "    <tr>\n",
       "      <th>2</th>\n",
       "      <td>NEAR BAY</td>\n",
       "      <td>2290</td>\n",
       "    </tr>\n",
       "    <tr>\n",
       "      <th>3</th>\n",
       "      <td>&lt;1H OCEAN</td>\n",
       "      <td>9136</td>\n",
       "    </tr>\n",
       "    <tr>\n",
       "      <th>4</th>\n",
       "      <td>INLAND</td>\n",
       "      <td>6551</td>\n",
       "    </tr>\n",
       "  </tbody>\n",
       "</table>\n",
       "</div>"
      ],
      "text/plain": [
       "  ocean_proximity  count\n",
       "0          ISLAND      5\n",
       "1      NEAR OCEAN   2658\n",
       "2        NEAR BAY   2290\n",
       "3       <1H OCEAN   9136\n",
       "4          INLAND   6551"
      ]
     },
     "execution_count": 6,
     "metadata": {},
     "output_type": "execute_result"
    }
   ],
   "source": [
    "df_housing.groupBy('ocean_proximity').count().toPandas()"
   ]
  },
  {
   "cell_type": "markdown",
   "id": "ef9179e2",
   "metadata": {},
   "source": [
    "Посмотрим описательную статистику числовых данных."
   ]
  },
  {
   "cell_type": "code",
   "execution_count": 7,
   "id": "112dda49",
   "metadata": {},
   "outputs": [
    {
     "name": "stderr",
     "output_type": "stream",
     "text": [
      "                                                                                \r"
     ]
    },
    {
     "data": {
      "text/html": [
       "<div>\n",
       "<style scoped>\n",
       "    .dataframe tbody tr th:only-of-type {\n",
       "        vertical-align: middle;\n",
       "    }\n",
       "\n",
       "    .dataframe tbody tr th {\n",
       "        vertical-align: top;\n",
       "    }\n",
       "\n",
       "    .dataframe thead th {\n",
       "        text-align: right;\n",
       "    }\n",
       "</style>\n",
       "<table border=\"1\" class=\"dataframe\">\n",
       "  <thead>\n",
       "    <tr style=\"text-align: right;\">\n",
       "      <th></th>\n",
       "      <th>summary</th>\n",
       "      <th>longitude</th>\n",
       "      <th>latitude</th>\n",
       "      <th>housing_median_age</th>\n",
       "      <th>total_rooms</th>\n",
       "      <th>total_bedrooms</th>\n",
       "      <th>population</th>\n",
       "      <th>households</th>\n",
       "      <th>median_income</th>\n",
       "      <th>median_house_value</th>\n",
       "      <th>ocean_proximity</th>\n",
       "    </tr>\n",
       "  </thead>\n",
       "  <tbody>\n",
       "    <tr>\n",
       "      <th>0</th>\n",
       "      <td>count</td>\n",
       "      <td>20640</td>\n",
       "      <td>20640</td>\n",
       "      <td>20640</td>\n",
       "      <td>20640</td>\n",
       "      <td>20433</td>\n",
       "      <td>20640</td>\n",
       "      <td>20640</td>\n",
       "      <td>20640</td>\n",
       "      <td>20640</td>\n",
       "      <td>20640</td>\n",
       "    </tr>\n",
       "    <tr>\n",
       "      <th>1</th>\n",
       "      <td>mean</td>\n",
       "      <td>-119.56970445736148</td>\n",
       "      <td>35.6318614341087</td>\n",
       "      <td>28.639486434108527</td>\n",
       "      <td>2635.7630813953488</td>\n",
       "      <td>537.8705525375618</td>\n",
       "      <td>1425.4767441860465</td>\n",
       "      <td>499.5396802325581</td>\n",
       "      <td>3.8706710029070246</td>\n",
       "      <td>206855.81690891474</td>\n",
       "      <td>None</td>\n",
       "    </tr>\n",
       "    <tr>\n",
       "      <th>2</th>\n",
       "      <td>stddev</td>\n",
       "      <td>2.003531723502584</td>\n",
       "      <td>2.135952397457101</td>\n",
       "      <td>12.58555761211163</td>\n",
       "      <td>2181.6152515827944</td>\n",
       "      <td>421.38507007403115</td>\n",
       "      <td>1132.46212176534</td>\n",
       "      <td>382.3297528316098</td>\n",
       "      <td>1.899821717945263</td>\n",
       "      <td>115395.61587441359</td>\n",
       "      <td>None</td>\n",
       "    </tr>\n",
       "    <tr>\n",
       "      <th>3</th>\n",
       "      <td>min</td>\n",
       "      <td>-124.35</td>\n",
       "      <td>32.54</td>\n",
       "      <td>1.0</td>\n",
       "      <td>2.0</td>\n",
       "      <td>1.0</td>\n",
       "      <td>3.0</td>\n",
       "      <td>1.0</td>\n",
       "      <td>0.4999</td>\n",
       "      <td>14999.0</td>\n",
       "      <td>&lt;1H OCEAN</td>\n",
       "    </tr>\n",
       "    <tr>\n",
       "      <th>4</th>\n",
       "      <td>max</td>\n",
       "      <td>-114.31</td>\n",
       "      <td>41.95</td>\n",
       "      <td>52.0</td>\n",
       "      <td>39320.0</td>\n",
       "      <td>6445.0</td>\n",
       "      <td>35682.0</td>\n",
       "      <td>6082.0</td>\n",
       "      <td>15.0001</td>\n",
       "      <td>500001.0</td>\n",
       "      <td>NEAR OCEAN</td>\n",
       "    </tr>\n",
       "  </tbody>\n",
       "</table>\n",
       "</div>"
      ],
      "text/plain": [
       "  summary            longitude           latitude  housing_median_age  \\\n",
       "0   count                20640              20640               20640   \n",
       "1    mean  -119.56970445736148   35.6318614341087  28.639486434108527   \n",
       "2  stddev    2.003531723502584  2.135952397457101   12.58555761211163   \n",
       "3     min              -124.35              32.54                 1.0   \n",
       "4     max              -114.31              41.95                52.0   \n",
       "\n",
       "          total_rooms      total_bedrooms          population  \\\n",
       "0               20640               20433               20640   \n",
       "1  2635.7630813953488   537.8705525375618  1425.4767441860465   \n",
       "2  2181.6152515827944  421.38507007403115    1132.46212176534   \n",
       "3                 2.0                 1.0                 3.0   \n",
       "4             39320.0              6445.0             35682.0   \n",
       "\n",
       "          households       median_income  median_house_value ocean_proximity  \n",
       "0              20640               20640               20640           20640  \n",
       "1  499.5396802325581  3.8706710029070246  206855.81690891474            None  \n",
       "2  382.3297528316098   1.899821717945263  115395.61587441359            None  \n",
       "3                1.0              0.4999             14999.0       <1H OCEAN  \n",
       "4             6082.0             15.0001            500001.0      NEAR OCEAN  "
      ]
     },
     "execution_count": 7,
     "metadata": {},
     "output_type": "execute_result"
    }
   ],
   "source": [
    "df_housing.describe().toPandas()"
   ]
  },
  {
   "cell_type": "markdown",
   "id": "3f018010",
   "metadata": {},
   "source": [
    "Исследуем данные на наличие пропусков."
   ]
  },
  {
   "cell_type": "code",
   "execution_count": 8,
   "id": "2e00caae",
   "metadata": {},
   "outputs": [
    {
     "name": "stdout",
     "output_type": "stream",
     "text": [
      "longitude 0\n",
      "latitude 0\n",
      "housing_median_age 0\n",
      "total_rooms 0\n",
      "total_bedrooms 207\n",
      "population 0\n",
      "households 0\n",
      "median_income 0\n",
      "median_house_value 0\n",
      "ocean_proximity 0\n"
     ]
    }
   ],
   "source": [
    "columns = df_housing.columns\n",
    "\n",
    "\n",
    "for column in columns:\n",
    "    print(column, df_housing.where(F.isnan(column) | F.col(column).isNull()).count())"
   ]
  },
  {
   "cell_type": "markdown",
   "id": "dd4b784f",
   "metadata": {},
   "source": [
    "Пропуски есть в колонке total_bedrooms. Так как по условиям задачи необходимо использовать линейную регрессию, то пропуски следует заполнить. Так как пропусков всего примерно один процент (207 из 20433), то заполним такие значения медианным значением признака.\n",
    "\n",
    "Получим медианное значение и выведем его на экран."
   ]
  },
  {
   "cell_type": "code",
   "execution_count": 9,
   "id": "de48383a",
   "metadata": {},
   "outputs": [
    {
     "data": {
      "text/plain": [
       "435.0"
      ]
     },
     "execution_count": 9,
     "metadata": {},
     "output_type": "execute_result"
    }
   ],
   "source": [
    "total_bedrooms_median = df_housing.approxQuantile('total_bedrooms', [0.5], 0)[0]\n",
    "\n",
    "total_bedrooms_median"
   ]
  },
  {
   "cell_type": "markdown",
   "id": "61f50794",
   "metadata": {},
   "source": [
    "Заполним пропущенные значения."
   ]
  },
  {
   "cell_type": "code",
   "execution_count": 10,
   "id": "276a6dbb",
   "metadata": {},
   "outputs": [
    {
     "data": {
      "text/html": [
       "<div>\n",
       "<style scoped>\n",
       "    .dataframe tbody tr th:only-of-type {\n",
       "        vertical-align: middle;\n",
       "    }\n",
       "\n",
       "    .dataframe tbody tr th {\n",
       "        vertical-align: top;\n",
       "    }\n",
       "\n",
       "    .dataframe thead th {\n",
       "        text-align: right;\n",
       "    }\n",
       "</style>\n",
       "<table border=\"1\" class=\"dataframe\">\n",
       "  <thead>\n",
       "    <tr style=\"text-align: right;\">\n",
       "      <th></th>\n",
       "      <th>NA</th>\n",
       "    </tr>\n",
       "  </thead>\n",
       "  <tbody>\n",
       "    <tr>\n",
       "      <th>longitude</th>\n",
       "      <td>0</td>\n",
       "    </tr>\n",
       "    <tr>\n",
       "      <th>latitude</th>\n",
       "      <td>0</td>\n",
       "    </tr>\n",
       "    <tr>\n",
       "      <th>housing_median_age</th>\n",
       "      <td>0</td>\n",
       "    </tr>\n",
       "    <tr>\n",
       "      <th>total_rooms</th>\n",
       "      <td>0</td>\n",
       "    </tr>\n",
       "    <tr>\n",
       "      <th>total_bedrooms</th>\n",
       "      <td>0</td>\n",
       "    </tr>\n",
       "    <tr>\n",
       "      <th>population</th>\n",
       "      <td>0</td>\n",
       "    </tr>\n",
       "    <tr>\n",
       "      <th>households</th>\n",
       "      <td>0</td>\n",
       "    </tr>\n",
       "    <tr>\n",
       "      <th>median_income</th>\n",
       "      <td>0</td>\n",
       "    </tr>\n",
       "    <tr>\n",
       "      <th>median_house_value</th>\n",
       "      <td>0</td>\n",
       "    </tr>\n",
       "    <tr>\n",
       "      <th>ocean_proximity</th>\n",
       "      <td>0</td>\n",
       "    </tr>\n",
       "  </tbody>\n",
       "</table>\n",
       "</div>"
      ],
      "text/plain": [
       "                    NA\n",
       "longitude            0\n",
       "latitude             0\n",
       "housing_median_age   0\n",
       "total_rooms          0\n",
       "total_bedrooms       0\n",
       "population           0\n",
       "households           0\n",
       "median_income        0\n",
       "median_house_value   0\n",
       "ocean_proximity      0"
      ]
     },
     "execution_count": 10,
     "metadata": {},
     "output_type": "execute_result"
    }
   ],
   "source": [
    "df_housing = df_housing.fillna(total_bedrooms_median, subset=['total_bedrooms'])\n",
    "df_housing.select(\n",
    "    [F.count(F.when(F.isnan(c) | F.col(c).isNull(), c)).alias(c) for c in df_housing.columns]\n",
    "    ).toPandas().T.rename(columns={0:'NA'})"
   ]
  },
  {
   "cell_type": "markdown",
   "id": "056925f2",
   "metadata": {},
   "source": [
    "Рассмотрим корреляцию признаков, исключив целевой и категориальный признаки."
   ]
  },
  {
   "cell_type": "markdown",
   "id": "5f347fbc",
   "metadata": {},
   "source": [
    "Выделим признаки."
   ]
  },
  {
   "cell_type": "code",
   "execution_count": 11,
   "id": "f74f3b3c",
   "metadata": {},
   "outputs": [],
   "source": [
    "num_columns = [c for c in df_housing.columns if c != 'ocean_proximity']"
   ]
  },
  {
   "cell_type": "code",
   "execution_count": 12,
   "id": "1aa07b22",
   "metadata": {},
   "outputs": [
    {
     "name": "stderr",
     "output_type": "stream",
     "text": [
      "24/02/02 16:03:49 WARN BLAS: Failed to load implementation from: com.github.fommil.netlib.NativeSystemBLAS\n",
      "24/02/02 16:03:49 WARN BLAS: Failed to load implementation from: com.github.fommil.netlib.NativeRefBLAS\n",
      "                                                                                \r"
     ]
    },
    {
     "data": {
      "text/plain": [
       "<AxesSubplot:>"
      ]
     },
     "execution_count": 12,
     "metadata": {},
     "output_type": "execute_result"
    },
    {
     "data": {
      "image/png": "[encoded data removed]",
      "text/plain": [
       "<Figure size 432x288 with 2 Axes>"
      ]
     },
     "metadata": {
      "needs_background": "light"
     },
     "output_type": "display_data"
    }
   ],
   "source": [
    "\n",
    "corr_columns = [c for c in num_columns if c != 'median_house_value']\n",
    "num_columns = [c for c in df_housing.columns if c != 'ocean_proximity']\n",
    "#преобразуем данные в `Vector`\n",
    "vector_col = 'corr_features'\n",
    "assembler = VectorAssembler(inputCols=corr_columns, outputCol=vector_col)\n",
    "df_vector = assembler.setHandleInvalid(\"skip\").transform(df_housing[corr_columns]).select(vector_col)\n",
    "\n",
    "#создаем матрицу\n",
    "matrix = Correlation.corr(df_vector, vector_col)\n",
    "cor_np = matrix.collect()[0][matrix.columns[0]].toArray()\n",
    "\n",
    "\n",
    "matrix_df = pd.DataFrame(cor_np, columns=corr_columns)\n",
    "matrix_df.index = corr_columns\n",
    "\n",
    "#делаем \"уголок\" и выводим график корреляции в виде heatmap\n",
    "matrix_mask = np.triu(matrix_df)\n",
    "sns.heatmap(matrix_df,\n",
    "           annot=True,\n",
    "     mask=matrix_mask,\n",
    "              vmin=-1,\n",
    "               vmax=1,\n",
    "      cmap='coolwarm')"
   ]
  },
  {
   "cell_type": "markdown",
   "id": "28ce5d75",
   "metadata": {},
   "source": [
    "Коррелируют между собой: кол-во спален, кол-во комнат, кол-во человек в жилом массиве, кол-во домовладений."
   ]
  },
  {
   "cell_type": "markdown",
   "id": "e2c36f06",
   "metadata": {},
   "source": [
    "Проведен предварительный анализ данных. Установлено, что данные адекватны. Выявленные пропуски в столбце с общим количеством спален заменены на медианное значение. Определена корреляция между признаками. Коррелируют между собой: кол-во спален, кол-во комнат, кол-во человек в жилом массиве, кол-во домовладений."
   ]
  },
  {
   "cell_type": "markdown",
   "id": "9f0a82f3",
   "metadata": {
    "id": "9f0a82f3"
   },
   "source": [
    "# Обучение моделей"
   ]
  },
  {
   "cell_type": "markdown",
   "id": "50a9bdae",
   "metadata": {
    "id": "bddb08c4"
   },
   "source": [
    "Подготовка данных к моделированию."
   ]
  },
  {
   "cell_type": "markdown",
   "id": "57c62c88",
   "metadata": {},
   "source": [
    "Разделим признаки по типу."
   ]
  },
  {
   "cell_type": "code",
   "execution_count": 13,
   "id": "86b5f7fe",
   "metadata": {},
   "outputs": [],
   "source": [
    "cat_features = 'ocean_proximity'\n",
    "num_features = [c for c in num_columns if c != 'median_house_value']\n",
    "target = 'median_house_value'"
   ]
  },
  {
   "cell_type": "markdown",
   "id": "68d04fdf",
   "metadata": {},
   "source": [
    "Разделим данные на тренировочные и тестовые."
   ]
  },
  {
   "cell_type": "code",
   "execution_count": 14,
   "id": "c0034a0d",
   "metadata": {},
   "outputs": [],
   "source": [
    "train, test = df_housing.randomSplit([.8,.2], seed=RANDOM_SEED)"
   ]
  },
  {
   "cell_type": "markdown",
   "id": "356cf71b",
   "metadata": {},
   "source": [
    "Трансформируем категориальные признаки с помощью StringIndexer."
   ]
  },
  {
   "cell_type": "code",
   "execution_count": 15,
   "id": "3354c610",
   "metadata": {},
   "outputs": [
    {
     "name": "stderr",
     "output_type": "stream",
     "text": [
      "                                                                                \r"
     ]
    }
   ],
   "source": [
    "indexer = StringIndexer(inputCol=cat_features,\n",
    "                        outputCol=cat_features+'_idx',\n",
    "                       handleInvalid = 'error')\n",
    "df_housing_train1 = indexer.fit(train).transform(train)"
   ]
  },
  {
   "cell_type": "code",
   "execution_count": 16,
   "id": "97de3351",
   "metadata": {},
   "outputs": [
    {
     "name": "stdout",
     "output_type": "stream",
     "text": [
      "+---------------+-------------------+\n",
      "|ocean_proximity|ocean_proximity_idx|\n",
      "+---------------+-------------------+\n",
      "|     NEAR OCEAN|                2.0|\n",
      "|     NEAR OCEAN|                2.0|\n",
      "|     NEAR OCEAN|                2.0|\n",
      "|     NEAR OCEAN|                2.0|\n",
      "|     NEAR OCEAN|                2.0|\n",
      "+---------------+-------------------+\n",
      "only showing top 5 rows\n",
      "\n"
     ]
    }
   ],
   "source": [
    "cols = [c for c in df_housing_train1.columns if c.startswith(cat_features)]\n",
    "df_housing_train1.select(cols).show(5)"
   ]
  },
  {
   "cell_type": "markdown",
   "id": "cb4f42f6",
   "metadata": {},
   "source": [
    "Применим OHE-кодирование."
   ]
  },
  {
   "cell_type": "code",
   "execution_count": 17,
   "id": "3c986af0",
   "metadata": {},
   "outputs": [],
   "source": [
    "encoder = OneHotEncoder(inputCol='ocean_proximity_idx',\n",
    "                        outputCol=cat_features+'_ohe')\n",
    "df_housing_train2 = encoder.fit(df_housing_train1).transform(df_housing_train1)"
   ]
  },
  {
   "cell_type": "code",
   "execution_count": 18,
   "id": "ec7e11e1",
   "metadata": {},
   "outputs": [
    {
     "name": "stdout",
     "output_type": "stream",
     "text": [
      "+---------------+-------------------+-------------------+\n",
      "|ocean_proximity|ocean_proximity_idx|ocean_proximity_ohe|\n",
      "+---------------+-------------------+-------------------+\n",
      "|     NEAR OCEAN|                2.0|      (4,[2],[1.0])|\n",
      "|     NEAR OCEAN|                2.0|      (4,[2],[1.0])|\n",
      "|     NEAR OCEAN|                2.0|      (4,[2],[1.0])|\n",
      "|     NEAR OCEAN|                2.0|      (4,[2],[1.0])|\n",
      "|     NEAR OCEAN|                2.0|      (4,[2],[1.0])|\n",
      "+---------------+-------------------+-------------------+\n",
      "only showing top 5 rows\n",
      "\n"
     ]
    }
   ],
   "source": [
    "cols = [c for c in df_housing_train2.columns if c.startswith(cat_features)]\n",
    "df_housing_train2.select(cols).show(5)"
   ]
  },
  {
   "cell_type": "markdown",
   "id": "617dcbb1",
   "metadata": {},
   "source": [
    "Преобразуем этот признак в один вектор."
   ]
  },
  {
   "cell_type": "code",
   "execution_count": 19,
   "id": "5d2a68bb",
   "metadata": {},
   "outputs": [],
   "source": [
    "categorical_assembler = \\\n",
    "    VectorAssembler(inputCols=['ocean_proximity_ohe'],\n",
    "                    outputCol='categorical_features')\n",
    "df_housing_train3 = categorical_assembler.transform(df_housing_train2)"
   ]
  },
  {
   "cell_type": "code",
   "execution_count": 20,
   "id": "1bac7357",
   "metadata": {},
   "outputs": [
    {
     "data": {
      "text/html": [
       "<div>\n",
       "<style scoped>\n",
       "    .dataframe tbody tr th:only-of-type {\n",
       "        vertical-align: middle;\n",
       "    }\n",
       "\n",
       "    .dataframe tbody tr th {\n",
       "        vertical-align: top;\n",
       "    }\n",
       "\n",
       "    .dataframe thead th {\n",
       "        text-align: right;\n",
       "    }\n",
       "</style>\n",
       "<table border=\"1\" class=\"dataframe\">\n",
       "  <thead>\n",
       "    <tr style=\"text-align: right;\">\n",
       "      <th></th>\n",
       "      <th>longitude</th>\n",
       "      <th>latitude</th>\n",
       "      <th>housing_median_age</th>\n",
       "      <th>total_rooms</th>\n",
       "      <th>total_bedrooms</th>\n",
       "      <th>population</th>\n",
       "      <th>households</th>\n",
       "      <th>median_income</th>\n",
       "      <th>median_house_value</th>\n",
       "      <th>ocean_proximity</th>\n",
       "      <th>ocean_proximity_idx</th>\n",
       "      <th>ocean_proximity_ohe</th>\n",
       "      <th>categorical_features</th>\n",
       "    </tr>\n",
       "  </thead>\n",
       "  <tbody>\n",
       "    <tr>\n",
       "      <th>0</th>\n",
       "      <td>-124.350</td>\n",
       "      <td>40.540</td>\n",
       "      <td>52.000</td>\n",
       "      <td>1820.000</td>\n",
       "      <td>300.000</td>\n",
       "      <td>806.000</td>\n",
       "      <td>270.000</td>\n",
       "      <td>3.015</td>\n",
       "      <td>94600.000</td>\n",
       "      <td>NEAR OCEAN</td>\n",
       "      <td>2.000</td>\n",
       "      <td>(0.0, 0.0, 1.0, 0.0)</td>\n",
       "      <td>(0.0, 0.0, 1.0, 0.0)</td>\n",
       "    </tr>\n",
       "    <tr>\n",
       "      <th>1</th>\n",
       "      <td>-124.300</td>\n",
       "      <td>41.800</td>\n",
       "      <td>19.000</td>\n",
       "      <td>2672.000</td>\n",
       "      <td>552.000</td>\n",
       "      <td>1298.000</td>\n",
       "      <td>478.000</td>\n",
       "      <td>1.980</td>\n",
       "      <td>85800.000</td>\n",
       "      <td>NEAR OCEAN</td>\n",
       "      <td>2.000</td>\n",
       "      <td>(0.0, 0.0, 1.0, 0.0)</td>\n",
       "      <td>(0.0, 0.0, 1.0, 0.0)</td>\n",
       "    </tr>\n",
       "    <tr>\n",
       "      <th>2</th>\n",
       "      <td>-124.270</td>\n",
       "      <td>40.690</td>\n",
       "      <td>36.000</td>\n",
       "      <td>2349.000</td>\n",
       "      <td>528.000</td>\n",
       "      <td>1194.000</td>\n",
       "      <td>465.000</td>\n",
       "      <td>2.518</td>\n",
       "      <td>79000.000</td>\n",
       "      <td>NEAR OCEAN</td>\n",
       "      <td>2.000</td>\n",
       "      <td>(0.0, 0.0, 1.0, 0.0)</td>\n",
       "      <td>(0.0, 0.0, 1.0, 0.0)</td>\n",
       "    </tr>\n",
       "    <tr>\n",
       "      <th>3</th>\n",
       "      <td>-124.260</td>\n",
       "      <td>40.580</td>\n",
       "      <td>52.000</td>\n",
       "      <td>2217.000</td>\n",
       "      <td>394.000</td>\n",
       "      <td>907.000</td>\n",
       "      <td>369.000</td>\n",
       "      <td>2.357</td>\n",
       "      <td>111400.000</td>\n",
       "      <td>NEAR OCEAN</td>\n",
       "      <td>2.000</td>\n",
       "      <td>(0.0, 0.0, 1.0, 0.0)</td>\n",
       "      <td>(0.0, 0.0, 1.0, 0.0)</td>\n",
       "    </tr>\n",
       "    <tr>\n",
       "      <th>4</th>\n",
       "      <td>-124.250</td>\n",
       "      <td>40.280</td>\n",
       "      <td>32.000</td>\n",
       "      <td>1430.000</td>\n",
       "      <td>419.000</td>\n",
       "      <td>434.000</td>\n",
       "      <td>187.000</td>\n",
       "      <td>1.942</td>\n",
       "      <td>76100.000</td>\n",
       "      <td>NEAR OCEAN</td>\n",
       "      <td>2.000</td>\n",
       "      <td>(0.0, 0.0, 1.0, 0.0)</td>\n",
       "      <td>(0.0, 0.0, 1.0, 0.0)</td>\n",
       "    </tr>\n",
       "  </tbody>\n",
       "</table>\n",
       "</div>"
      ],
      "text/plain": [
       "   longitude  latitude  housing_median_age  total_rooms  total_bedrooms  \\\n",
       "0   -124.350    40.540              52.000     1820.000         300.000   \n",
       "1   -124.300    41.800              19.000     2672.000         552.000   \n",
       "2   -124.270    40.690              36.000     2349.000         528.000   \n",
       "3   -124.260    40.580              52.000     2217.000         394.000   \n",
       "4   -124.250    40.280              32.000     1430.000         419.000   \n",
       "\n",
       "   population  households  median_income  median_house_value ocean_proximity  \\\n",
       "0     806.000     270.000          3.015           94600.000      NEAR OCEAN   \n",
       "1    1298.000     478.000          1.980           85800.000      NEAR OCEAN   \n",
       "2    1194.000     465.000          2.518           79000.000      NEAR OCEAN   \n",
       "3     907.000     369.000          2.357          111400.000      NEAR OCEAN   \n",
       "4     434.000     187.000          1.942           76100.000      NEAR OCEAN   \n",
       "\n",
       "   ocean_proximity_idx   ocean_proximity_ohe  categorical_features  \n",
       "0                2.000  (0.0, 0.0, 1.0, 0.0)  (0.0, 0.0, 1.0, 0.0)  \n",
       "1                2.000  (0.0, 0.0, 1.0, 0.0)  (0.0, 0.0, 1.0, 0.0)  \n",
       "2                2.000  (0.0, 0.0, 1.0, 0.0)  (0.0, 0.0, 1.0, 0.0)  \n",
       "3                2.000  (0.0, 0.0, 1.0, 0.0)  (0.0, 0.0, 1.0, 0.0)  \n",
       "4                2.000  (0.0, 0.0, 1.0, 0.0)  (0.0, 0.0, 1.0, 0.0)  "
      ]
     },
     "execution_count": 20,
     "metadata": {},
     "output_type": "execute_result"
    }
   ],
   "source": [
    "pd.DataFrame(df_housing_train3.take(5),\n",
    "             columns=df_housing_train3.columns)"
   ]
  },
  {
   "cell_type": "markdown",
   "id": "f888ff85",
   "metadata": {},
   "source": [
    "Трансформация числовых признаков."
   ]
  },
  {
   "cell_type": "markdown",
   "id": "defb526a",
   "metadata": {},
   "source": [
    "Для числовых признаков применим шкалирование значений, чтобы сильные выбросы не смещали предсказания модели."
   ]
  },
  {
   "cell_type": "code",
   "execution_count": 21,
   "id": "0b58f781",
   "metadata": {},
   "outputs": [],
   "source": [
    "numerical_assembler = VectorAssembler(inputCols=num_features,\n",
    "                                      outputCol='numerical_features')"
   ]
  },
  {
   "cell_type": "code",
   "execution_count": 22,
   "id": "01520680",
   "metadata": {},
   "outputs": [],
   "source": [
    "df_housing_train4 = numerical_assembler.transform(df_housing_train3)"
   ]
  },
  {
   "cell_type": "code",
   "execution_count": 23,
   "id": "4cc65d59",
   "metadata": {},
   "outputs": [],
   "source": [
    "standard_scaler = StandardScaler(inputCol='numerical_features',\n",
    "                                 outputCol='numerical_features_scaled')"
   ]
  },
  {
   "cell_type": "code",
   "execution_count": 24,
   "id": "31d4af9a",
   "metadata": {},
   "outputs": [],
   "source": [
    "df_housing_train5 = standard_scaler.fit(df_housing_train4).transform(df_housing_train4)"
   ]
  },
  {
   "cell_type": "markdown",
   "id": "63db9866",
   "metadata": {},
   "source": [
    "Проверим получившиеся признаки."
   ]
  },
  {
   "cell_type": "code",
   "execution_count": 25,
   "id": "ffcbaad4",
   "metadata": {},
   "outputs": [
    {
     "data": {
      "text/plain": [
       "[('longitude', 'double'),\n",
       " ('latitude', 'double'),\n",
       " ('housing_median_age', 'double'),\n",
       " ('total_rooms', 'double'),\n",
       " ('total_bedrooms', 'double'),\n",
       " ('population', 'double'),\n",
       " ('households', 'double'),\n",
       " ('median_income', 'double'),\n",
       " ('median_house_value', 'double'),\n",
       " ('ocean_proximity', 'string'),\n",
       " ('ocean_proximity_idx', 'double'),\n",
       " ('ocean_proximity_ohe', 'vector'),\n",
       " ('categorical_features', 'vector'),\n",
       " ('numerical_features', 'vector'),\n",
       " ('numerical_features_scaled', 'vector')]"
      ]
     },
     "execution_count": 25,
     "metadata": {},
     "output_type": "execute_result"
    }
   ],
   "source": [
    "df_housing_train5.dtypes"
   ]
  },
  {
   "cell_type": "markdown",
   "id": "6816a88b",
   "metadata": {},
   "source": [
    "Преобразование категориальных и численных признаков в один вектор."
   ]
  },
  {
   "cell_type": "code",
   "execution_count": 26,
   "id": "37d3ad9b",
   "metadata": {},
   "outputs": [],
   "source": [
    "all_features = ['categorical_features', 'numerical_features_scaled']"
   ]
  },
  {
   "cell_type": "code",
   "execution_count": 27,
   "id": "5ea6934d",
   "metadata": {},
   "outputs": [],
   "source": [
    "final_assembler = VectorAssembler(inputCols=all_features,\n",
    "                                  outputCol='all_features')"
   ]
  },
  {
   "cell_type": "code",
   "execution_count": 28,
   "id": "b0b86833",
   "metadata": {},
   "outputs": [],
   "source": [
    "df_housing_train6 = final_assembler.transform(df_housing_train5)"
   ]
  },
  {
   "cell_type": "code",
   "execution_count": 29,
   "id": "7de69646",
   "metadata": {},
   "outputs": [
    {
     "name": "stdout",
     "output_type": "stream",
     "text": [
      "+--------------------+\n",
      "|        all_features|\n",
      "+--------------------+\n",
      "|[0.0,0.0,1.0,0.0,...|\n",
      "|[0.0,0.0,1.0,0.0,...|\n",
      "|[0.0,0.0,1.0,0.0,...|\n",
      "|[0.0,0.0,1.0,0.0,...|\n",
      "|[0.0,0.0,1.0,0.0,...|\n",
      "+--------------------+\n",
      "only showing top 5 rows\n",
      "\n"
     ]
    }
   ],
   "source": [
    "df_housing_train6.select('all_features').show(5)"
   ]
  },
  {
   "cell_type": "markdown",
   "id": "762076f6",
   "metadata": {},
   "source": [
    "Проведем данные процедуры для тестового датасета."
   ]
  },
  {
   "cell_type": "markdown",
   "id": "4a681f46",
   "metadata": {},
   "source": [
    "Трансформируем категориальные признаки с помощью StringIndexer."
   ]
  },
  {
   "cell_type": "code",
   "execution_count": 30,
   "id": "ec97b405",
   "metadata": {},
   "outputs": [],
   "source": [
    "df_housing_test = indexer.fit(train).transform(test)"
   ]
  },
  {
   "cell_type": "code",
   "execution_count": 31,
   "id": "8fca124a",
   "metadata": {},
   "outputs": [
    {
     "name": "stdout",
     "output_type": "stream",
     "text": [
      "+---------------+-------------------+\n",
      "|ocean_proximity|ocean_proximity_idx|\n",
      "+---------------+-------------------+\n",
      "|     NEAR OCEAN|                2.0|\n",
      "|     NEAR OCEAN|                2.0|\n",
      "|     NEAR OCEAN|                2.0|\n",
      "|     NEAR OCEAN|                2.0|\n",
      "|     NEAR OCEAN|                2.0|\n",
      "+---------------+-------------------+\n",
      "only showing top 5 rows\n",
      "\n"
     ]
    }
   ],
   "source": [
    "cols = [c for c in df_housing_test.columns if c.startswith(cat_features)]\n",
    "df_housing_test.select(cols).show(5)"
   ]
  },
  {
   "cell_type": "markdown",
   "id": "461dbfd8",
   "metadata": {},
   "source": [
    "Применим OHE-кодирование."
   ]
  },
  {
   "cell_type": "code",
   "execution_count": 32,
   "id": "47086e00",
   "metadata": {},
   "outputs": [],
   "source": [
    "df_housing_test = encoder.fit(df_housing_train1).transform(df_housing_test)"
   ]
  },
  {
   "cell_type": "code",
   "execution_count": 33,
   "id": "c61fcaf2",
   "metadata": {},
   "outputs": [
    {
     "name": "stdout",
     "output_type": "stream",
     "text": [
      "+---------------+-------------------+-------------------+\n",
      "|ocean_proximity|ocean_proximity_idx|ocean_proximity_ohe|\n",
      "+---------------+-------------------+-------------------+\n",
      "|     NEAR OCEAN|                2.0|      (4,[2],[1.0])|\n",
      "|     NEAR OCEAN|                2.0|      (4,[2],[1.0])|\n",
      "|     NEAR OCEAN|                2.0|      (4,[2],[1.0])|\n",
      "|     NEAR OCEAN|                2.0|      (4,[2],[1.0])|\n",
      "|     NEAR OCEAN|                2.0|      (4,[2],[1.0])|\n",
      "+---------------+-------------------+-------------------+\n",
      "only showing top 5 rows\n",
      "\n"
     ]
    }
   ],
   "source": [
    "cols = [c for c in df_housing_test.columns if c.startswith(cat_features)]\n",
    "df_housing_test.select(cols).show(5)"
   ]
  },
  {
   "cell_type": "markdown",
   "id": "a1d9ae70",
   "metadata": {},
   "source": [
    "Преобразуем этот признак в один вектор."
   ]
  },
  {
   "cell_type": "code",
   "execution_count": 34,
   "id": "4d39708f",
   "metadata": {},
   "outputs": [],
   "source": [
    "df_housing_test = categorical_assembler.transform(df_housing_test)"
   ]
  },
  {
   "cell_type": "code",
   "execution_count": 35,
   "id": "f6f74917",
   "metadata": {},
   "outputs": [
    {
     "data": {
      "text/html": [
       "<div>\n",
       "<style scoped>\n",
       "    .dataframe tbody tr th:only-of-type {\n",
       "        vertical-align: middle;\n",
       "    }\n",
       "\n",
       "    .dataframe tbody tr th {\n",
       "        vertical-align: top;\n",
       "    }\n",
       "\n",
       "    .dataframe thead th {\n",
       "        text-align: right;\n",
       "    }\n",
       "</style>\n",
       "<table border=\"1\" class=\"dataframe\">\n",
       "  <thead>\n",
       "    <tr style=\"text-align: right;\">\n",
       "      <th></th>\n",
       "      <th>longitude</th>\n",
       "      <th>latitude</th>\n",
       "      <th>housing_median_age</th>\n",
       "      <th>total_rooms</th>\n",
       "      <th>total_bedrooms</th>\n",
       "      <th>population</th>\n",
       "      <th>households</th>\n",
       "      <th>median_income</th>\n",
       "      <th>median_house_value</th>\n",
       "      <th>ocean_proximity</th>\n",
       "      <th>ocean_proximity_idx</th>\n",
       "      <th>ocean_proximity_ohe</th>\n",
       "      <th>categorical_features</th>\n",
       "    </tr>\n",
       "  </thead>\n",
       "  <tbody>\n",
       "    <tr>\n",
       "      <th>0</th>\n",
       "      <td>-124.300</td>\n",
       "      <td>41.840</td>\n",
       "      <td>17.000</td>\n",
       "      <td>2677.000</td>\n",
       "      <td>531.000</td>\n",
       "      <td>1244.000</td>\n",
       "      <td>456.000</td>\n",
       "      <td>3.031</td>\n",
       "      <td>103600.000</td>\n",
       "      <td>NEAR OCEAN</td>\n",
       "      <td>2.000</td>\n",
       "      <td>(0.0, 0.0, 1.0, 0.0)</td>\n",
       "      <td>(0.0, 0.0, 1.0, 0.0)</td>\n",
       "    </tr>\n",
       "    <tr>\n",
       "      <th>1</th>\n",
       "      <td>-124.230</td>\n",
       "      <td>40.540</td>\n",
       "      <td>52.000</td>\n",
       "      <td>2694.000</td>\n",
       "      <td>453.000</td>\n",
       "      <td>1152.000</td>\n",
       "      <td>435.000</td>\n",
       "      <td>3.081</td>\n",
       "      <td>106700.000</td>\n",
       "      <td>NEAR OCEAN</td>\n",
       "      <td>2.000</td>\n",
       "      <td>(0.0, 0.0, 1.0, 0.0)</td>\n",
       "      <td>(0.0, 0.0, 1.0, 0.0)</td>\n",
       "    </tr>\n",
       "    <tr>\n",
       "      <th>2</th>\n",
       "      <td>-124.230</td>\n",
       "      <td>41.750</td>\n",
       "      <td>11.000</td>\n",
       "      <td>3159.000</td>\n",
       "      <td>616.000</td>\n",
       "      <td>1343.000</td>\n",
       "      <td>479.000</td>\n",
       "      <td>2.481</td>\n",
       "      <td>73200.000</td>\n",
       "      <td>NEAR OCEAN</td>\n",
       "      <td>2.000</td>\n",
       "      <td>(0.0, 0.0, 1.0, 0.0)</td>\n",
       "      <td>(0.0, 0.0, 1.0, 0.0)</td>\n",
       "    </tr>\n",
       "    <tr>\n",
       "      <th>3</th>\n",
       "      <td>-124.190</td>\n",
       "      <td>40.730</td>\n",
       "      <td>21.000</td>\n",
       "      <td>5694.000</td>\n",
       "      <td>1056.000</td>\n",
       "      <td>2907.000</td>\n",
       "      <td>972.000</td>\n",
       "      <td>3.536</td>\n",
       "      <td>90100.000</td>\n",
       "      <td>NEAR OCEAN</td>\n",
       "      <td>2.000</td>\n",
       "      <td>(0.0, 0.0, 1.0, 0.0)</td>\n",
       "      <td>(0.0, 0.0, 1.0, 0.0)</td>\n",
       "    </tr>\n",
       "    <tr>\n",
       "      <th>4</th>\n",
       "      <td>-124.180</td>\n",
       "      <td>40.780</td>\n",
       "      <td>34.000</td>\n",
       "      <td>1592.000</td>\n",
       "      <td>364.000</td>\n",
       "      <td>950.000</td>\n",
       "      <td>317.000</td>\n",
       "      <td>2.161</td>\n",
       "      <td>67000.000</td>\n",
       "      <td>NEAR OCEAN</td>\n",
       "      <td>2.000</td>\n",
       "      <td>(0.0, 0.0, 1.0, 0.0)</td>\n",
       "      <td>(0.0, 0.0, 1.0, 0.0)</td>\n",
       "    </tr>\n",
       "  </tbody>\n",
       "</table>\n",
       "</div>"
      ],
      "text/plain": [
       "   longitude  latitude  housing_median_age  total_rooms  total_bedrooms  \\\n",
       "0   -124.300    41.840              17.000     2677.000         531.000   \n",
       "1   -124.230    40.540              52.000     2694.000         453.000   \n",
       "2   -124.230    41.750              11.000     3159.000         616.000   \n",
       "3   -124.190    40.730              21.000     5694.000        1056.000   \n",
       "4   -124.180    40.780              34.000     1592.000         364.000   \n",
       "\n",
       "   population  households  median_income  median_house_value ocean_proximity  \\\n",
       "0    1244.000     456.000          3.031          103600.000      NEAR OCEAN   \n",
       "1    1152.000     435.000          3.081          106700.000      NEAR OCEAN   \n",
       "2    1343.000     479.000          2.481           73200.000      NEAR OCEAN   \n",
       "3    2907.000     972.000          3.536           90100.000      NEAR OCEAN   \n",
       "4     950.000     317.000          2.161           67000.000      NEAR OCEAN   \n",
       "\n",
       "   ocean_proximity_idx   ocean_proximity_ohe  categorical_features  \n",
       "0                2.000  (0.0, 0.0, 1.0, 0.0)  (0.0, 0.0, 1.0, 0.0)  \n",
       "1                2.000  (0.0, 0.0, 1.0, 0.0)  (0.0, 0.0, 1.0, 0.0)  \n",
       "2                2.000  (0.0, 0.0, 1.0, 0.0)  (0.0, 0.0, 1.0, 0.0)  \n",
       "3                2.000  (0.0, 0.0, 1.0, 0.0)  (0.0, 0.0, 1.0, 0.0)  \n",
       "4                2.000  (0.0, 0.0, 1.0, 0.0)  (0.0, 0.0, 1.0, 0.0)  "
      ]
     },
     "execution_count": 35,
     "metadata": {},
     "output_type": "execute_result"
    }
   ],
   "source": [
    "pd.DataFrame(df_housing_test.take(5),\n",
    "             columns=df_housing_test.columns)"
   ]
  },
  {
   "cell_type": "markdown",
   "id": "35bedbb3",
   "metadata": {},
   "source": [
    "Трансформируем числовые признаки."
   ]
  },
  {
   "cell_type": "code",
   "execution_count": 36,
   "id": "57203235",
   "metadata": {},
   "outputs": [],
   "source": [
    "df_housing_test = numerical_assembler.transform(df_housing_test)"
   ]
  },
  {
   "cell_type": "code",
   "execution_count": 37,
   "id": "c45d4f44",
   "metadata": {},
   "outputs": [
    {
     "data": {
      "text/plain": [
       "[('longitude', 'double'),\n",
       " ('latitude', 'double'),\n",
       " ('housing_median_age', 'double'),\n",
       " ('total_rooms', 'double'),\n",
       " ('total_bedrooms', 'double'),\n",
       " ('population', 'double'),\n",
       " ('households', 'double'),\n",
       " ('median_income', 'double'),\n",
       " ('median_house_value', 'double'),\n",
       " ('ocean_proximity', 'string'),\n",
       " ('ocean_proximity_idx', 'double'),\n",
       " ('ocean_proximity_ohe', 'vector'),\n",
       " ('categorical_features', 'vector'),\n",
       " ('numerical_features', 'vector')]"
      ]
     },
     "execution_count": 37,
     "metadata": {},
     "output_type": "execute_result"
    }
   ],
   "source": [
    "df_housing_test.dtypes"
   ]
  },
  {
   "cell_type": "markdown",
   "id": "1819dc95",
   "metadata": {},
   "source": [
    "Для числовых признаков применим шкалирование значений, чтобы сильные выбросы не смещали предсказания модели."
   ]
  },
  {
   "cell_type": "code",
   "execution_count": 38,
   "id": "e9c3b13a",
   "metadata": {},
   "outputs": [],
   "source": [
    "df_housing_test = standard_scaler.fit(df_housing_train4).transform(df_housing_test)"
   ]
  },
  {
   "cell_type": "markdown",
   "id": "92efaa27",
   "metadata": {},
   "source": [
    "Преобразование категориальных и численных признаков в один вектор."
   ]
  },
  {
   "cell_type": "code",
   "execution_count": 39,
   "id": "b7e6d8d1",
   "metadata": {
    "scrolled": true
   },
   "outputs": [],
   "source": [
    "df_housing_test = final_assembler.transform(df_housing_test)"
   ]
  },
  {
   "cell_type": "code",
   "execution_count": 40,
   "id": "09069b47",
   "metadata": {},
   "outputs": [
    {
     "name": "stdout",
     "output_type": "stream",
     "text": [
      "+--------------------+\n",
      "|        all_features|\n",
      "+--------------------+\n",
      "|[0.0,0.0,1.0,0.0,...|\n",
      "|[0.0,0.0,1.0,0.0,...|\n",
      "|[0.0,0.0,1.0,0.0,...|\n",
      "|[0.0,0.0,1.0,0.0,...|\n",
      "|[0.0,0.0,1.0,0.0,...|\n",
      "+--------------------+\n",
      "only showing top 5 rows\n",
      "\n"
     ]
    }
   ],
   "source": [
    "df_housing_test.select('all_features').show(5)"
   ]
  },
  {
   "cell_type": "markdown",
   "id": "eadcab7e",
   "metadata": {},
   "source": [
    "Перейдем к обучению моделей."
   ]
  },
  {
   "cell_type": "markdown",
   "id": "96a78067",
   "metadata": {},
   "source": [
    "По условиям задачи необходимо сравнить метрики RMSE, MAE, R2 на следующих вариациях датасета:\n",
    "\n",
    "- со всеми признаками;\n",
    "\n",
    "- без категориального признака.\n",
    "\n",
    "В первом случае для обучения будем использовать вектор all_features, а во втором - numerical_features_scaled. \n",
    "\n",
    "Все полученные данные сохраним в список."
   ]
  },
  {
   "cell_type": "code",
   "execution_count": 41,
   "id": "11560cc1",
   "metadata": {},
   "outputs": [
    {
     "name": "stderr",
     "output_type": "stream",
     "text": [
      "24/02/02 16:04:00 WARN Instrumentation: [7aeacf82] regParam is zero, which might cause numerical instability and overfitting.\n",
      "24/02/02 16:04:01 WARN LAPACK: Failed to load implementation from: com.github.fommil.netlib.NativeSystemLAPACK\n",
      "24/02/02 16:04:01 WARN LAPACK: Failed to load implementation from: com.github.fommil.netlib.NativeRefLAPACK\n",
      "24/02/02 16:04:06 WARN Instrumentation: [e067c353] regParam is zero, which might cause numerical instability and overfitting.\n"
     ]
    }
   ],
   "source": [
    "# Создаем список, куда будем вносить результаты\n",
    "data_table = [\n",
    "    ['features_used', 'RMSE', 'MAE', 'R2']\n",
    "]\n",
    "\n",
    "# Перебираем варианты используемых признаков\n",
    "for col in ['all_features', 'numerical_features_scaled']:\n",
    "    # обучаем модель\n",
    "    lr = LinearRegression(featuresCol=col, labelCol=target)\n",
    "    model = lr.fit(df_housing_train6)\n",
    "    \n",
    "    #запишем предсказания на тестовой выборке\n",
    "    predictions = model.transform(df_housing_test)\n",
    "    \n",
    "    #выделим предсказания и ответы в отдельную переменную\n",
    "    results = predictions.select(['prediction', target])\n",
    "    \n",
    "    #соберем все в RDD\n",
    "    results_collect = results.collect()\n",
    "    results_list = [ (float(i[0]), float(i[1])) for i in results_collect]\n",
    "    scoreAndLabels = spark.sparkContext.parallelize(results_list)\n",
    "    \n",
    "    #запишем метрики в отдельную переменную\n",
    "    metrics = RegressionMetrics(scoreAndLabels)\n",
    "    \n",
    "    #добавим результаты в список\n",
    "    data_table.append([col,\n",
    "                       metrics.rootMeanSquaredError,\n",
    "                       metrics.meanAbsoluteError,\n",
    "                       metrics.r2])"
   ]
  },
  {
   "cell_type": "markdown",
   "id": "757fd103",
   "metadata": {
    "id": "757fd103"
   },
   "source": [
    "# Анализ результатов"
   ]
  },
  {
   "cell_type": "code",
   "execution_count": 42,
   "id": "f676c37c",
   "metadata": {
    "scrolled": false
   },
   "outputs": [
    {
     "data": {
      "text/html": [
       "<div>\n",
       "<style scoped>\n",
       "    .dataframe tbody tr th:only-of-type {\n",
       "        vertical-align: middle;\n",
       "    }\n",
       "\n",
       "    .dataframe tbody tr th {\n",
       "        vertical-align: top;\n",
       "    }\n",
       "\n",
       "    .dataframe thead th {\n",
       "        text-align: right;\n",
       "    }\n",
       "</style>\n",
       "<table border=\"1\" class=\"dataframe\">\n",
       "  <thead>\n",
       "    <tr style=\"text-align: right;\">\n",
       "      <th></th>\n",
       "      <th>features_used</th>\n",
       "      <th>RMSE</th>\n",
       "      <th>MAE</th>\n",
       "      <th>R2</th>\n",
       "    </tr>\n",
       "  </thead>\n",
       "  <tbody>\n",
       "    <tr>\n",
       "      <th>0</th>\n",
       "      <td>all_features</td>\n",
       "      <td>70786.462</td>\n",
       "      <td>50863.551</td>\n",
       "      <td>0.638</td>\n",
       "    </tr>\n",
       "    <tr>\n",
       "      <th>1</th>\n",
       "      <td>numerical_features_scaled</td>\n",
       "      <td>71791.284</td>\n",
       "      <td>51804.393</td>\n",
       "      <td>0.627</td>\n",
       "    </tr>\n",
       "  </tbody>\n",
       "</table>\n",
       "</div>"
      ],
      "text/plain": [
       "               features_used      RMSE       MAE    R2\n",
       "0               all_features 70786.462 50863.551 0.638\n",
       "1  numerical_features_scaled 71791.284 51804.393 0.627"
      ]
     },
     "execution_count": 42,
     "metadata": {},
     "output_type": "execute_result"
    }
   ],
   "source": [
    "pd.DataFrame(data_table[1:], columns=data_table[0])"
   ]
  },
  {
   "cell_type": "code",
   "execution_count": 43,
   "id": "53605c86",
   "metadata": {},
   "outputs": [],
   "source": [
    "spark.stop()"
   ]
  },
  {
   "cell_type": "markdown",
   "id": "a70e6947",
   "metadata": {},
   "source": [
    "Исходя из полученных результатов, можно сказать, что модель обучается лучше на всех признаках без исключения."
   ]
  },
  {
   "cell_type": "markdown",
   "id": "e687f75d",
   "metadata": {},
   "source": [
    "# Выводы:"
   ]
  },
  {
   "cell_type": "markdown",
   "id": "7bbb55cb",
   "metadata": {},
   "source": [
    "\n",
    "В рамках данной работы было выполнено следующее:\n",
    "\n",
    "Инициализирована локальная Spark-сессия. Проведена предобработка данных, используя методы pySpark.\n",
    "Проведен предварительный анализ данных. Установлено, что данные адекватны. Выявленные пропуски в столбце с общим количеством спален заменены на медианное значение. Определена корреляция между признаками. Коррелируют между собой: кол-во спален, кол-во комнат, кол-во человек в жилом массиве, кол-во домовладений.\n",
    "Категориальные признаки трансформированы с помощью StringIndexer. Колонка с категориальными значениями преобразована техникой One hot encoding.\n",
    "Проведена стандартизация количественных признаков. Построены две модели линейной регрессии на разных наборах данных:\n",
    "\n",
    "используя все данные из файла;\n",
    "\n",
    "используя только числовые переменные, исключив категориальные.\n",
    "\n",
    "По результатам исследования установлено, что согласно всем трем метрикам RMSE, MAE и R2 точнее работает первая модель, использующая все данные из файла."
   ]
  }
 ],
 "metadata": {
  "ExecuteTimeLog": [
   {
    "duration": 1452,
    "start_time": "2024-01-30T05:50:29.315Z"
   },
   {
    "duration": 16038,
    "start_time": "2024-01-30T05:50:58.770Z"
   },
   {
    "duration": 8317,
    "start_time": "2024-01-30T05:51:45.792Z"
   },
   {
    "duration": 41,
    "start_time": "2024-01-30T05:55:10.859Z"
   },
   {
    "duration": 436,
    "start_time": "2024-01-30T05:57:05.561Z"
   },
   {
    "duration": 6040,
    "start_time": "2024-01-30T05:59:24.044Z"
   },
   {
    "duration": 3044,
    "start_time": "2024-01-30T06:00:16.860Z"
   },
   {
    "duration": 3388,
    "start_time": "2024-01-30T06:03:00.212Z"
   },
   {
    "duration": 530,
    "start_time": "2024-01-30T06:05:49.581Z"
   },
   {
    "duration": 965,
    "start_time": "2024-01-30T06:06:56.861Z"
   },
   {
    "duration": 846,
    "start_time": "2024-01-30T06:08:25.454Z"
   },
   {
    "duration": 125,
    "start_time": "2024-01-30T06:09:59.625Z"
   },
   {
    "duration": 13,
    "start_time": "2024-01-30T06:11:18.982Z"
   },
   {
    "duration": 3,
    "start_time": "2024-01-30T06:11:41.040Z"
   },
   {
    "duration": 3829,
    "start_time": "2024-01-30T06:11:41.953Z"
   },
   {
    "duration": 3,
    "start_time": "2024-01-30T06:51:34.030Z"
   },
   {
    "duration": 1141,
    "start_time": "2024-01-30T06:52:13.049Z"
   },
   {
    "duration": 176,
    "start_time": "2024-01-30T06:52:55.820Z"
   },
   {
    "duration": 155,
    "start_time": "2024-01-30T06:53:07.630Z"
   },
   {
    "duration": 56,
    "start_time": "2024-01-30T06:54:43.951Z"
   },
   {
    "duration": 264,
    "start_time": "2024-01-30T06:55:08.485Z"
   },
   {
    "duration": 20,
    "start_time": "2024-01-30T06:55:59.092Z"
   },
   {
    "duration": 281,
    "start_time": "2024-01-30T06:56:12.370Z"
   },
   {
    "duration": 185,
    "start_time": "2024-01-30T06:56:19.625Z"
   },
   {
    "duration": 7,
    "start_time": "2024-01-30T06:57:56.780Z"
   },
   {
    "duration": 23,
    "start_time": "2024-01-30T06:58:21.076Z"
   },
   {
    "duration": 13,
    "start_time": "2024-01-30T06:58:34.409Z"
   },
   {
    "duration": 759,
    "start_time": "2024-01-30T06:58:48.049Z"
   },
   {
    "duration": 6,
    "start_time": "2024-01-30T06:59:28.586Z"
   },
   {
    "duration": 2,
    "start_time": "2024-01-30T07:00:36.450Z"
   },
   {
    "duration": 10,
    "start_time": "2024-01-30T07:00:57.080Z"
   },
   {
    "duration": 19,
    "start_time": "2024-01-30T07:01:15.020Z"
   },
   {
    "duration": 333,
    "start_time": "2024-01-30T07:01:32.951Z"
   },
   {
    "duration": 3380,
    "start_time": "2024-01-30T07:02:52.323Z"
   },
   {
    "duration": 10644,
    "start_time": "2024-01-30T07:06:36.543Z"
   },
   {
    "duration": 11,
    "start_time": "2024-01-30T07:07:08.651Z"
   },
   {
    "duration": 10,
    "start_time": "2024-01-30T07:12:40.240Z"
   },
   {
    "duration": 59,
    "start_time": "2024-02-01T05:19:07.334Z"
   },
   {
    "duration": 1674,
    "start_time": "2024-02-01T05:19:19.107Z"
   },
   {
    "duration": 16339,
    "start_time": "2024-02-01T05:19:20.783Z"
   },
   {
    "duration": 9791,
    "start_time": "2024-02-01T05:19:37.125Z"
   },
   {
    "duration": 33,
    "start_time": "2024-02-01T05:19:46.981Z"
   },
   {
    "duration": 582,
    "start_time": "2024-02-01T05:19:47.016Z"
   },
   {
    "duration": 6882,
    "start_time": "2024-02-01T05:19:47.600Z"
   },
   {
    "duration": 3717,
    "start_time": "2024-02-01T05:19:54.484Z"
   },
   {
    "duration": 4345,
    "start_time": "2024-02-01T05:19:58.203Z"
   },
   {
    "duration": 640,
    "start_time": "2024-02-01T05:20:02.551Z"
   },
   {
    "duration": 1286,
    "start_time": "2024-02-01T05:20:03.194Z"
   },
   {
    "duration": 5,
    "start_time": "2024-02-01T05:20:04.483Z"
   },
   {
    "duration": 4803,
    "start_time": "2024-02-01T05:20:04.490Z"
   },
   {
    "duration": 5,
    "start_time": "2024-02-01T05:20:09.295Z"
   },
   {
    "duration": 33,
    "start_time": "2024-02-01T05:20:09.302Z"
   },
   {
    "duration": 1612,
    "start_time": "2024-02-01T05:21:38.796Z"
   },
   {
    "duration": 453,
    "start_time": "2024-02-01T05:22:30.939Z"
   },
   {
    "duration": 83,
    "start_time": "2024-02-01T05:22:51.700Z"
   },
   {
    "duration": 617,
    "start_time": "2024-02-01T05:23:30.773Z"
   },
   {
    "duration": 21,
    "start_time": "2024-02-01T05:23:44.364Z"
   },
   {
    "duration": 550,
    "start_time": "2024-02-01T05:23:56.367Z"
   },
   {
    "duration": 77,
    "start_time": "2024-02-01T05:24:18.536Z"
   },
   {
    "duration": 9,
    "start_time": "2024-02-01T05:24:23.048Z"
   },
   {
    "duration": 19,
    "start_time": "2024-02-01T05:24:23.517Z"
   },
   {
    "duration": 9,
    "start_time": "2024-02-01T05:24:27.230Z"
   },
   {
    "duration": 936,
    "start_time": "2024-02-01T05:24:43.084Z"
   },
   {
    "duration": 7,
    "start_time": "2024-02-01T05:24:48.526Z"
   },
   {
    "duration": 2,
    "start_time": "2024-02-01T05:24:59.406Z"
   },
   {
    "duration": 8,
    "start_time": "2024-02-01T05:24:59.717Z"
   },
   {
    "duration": 21,
    "start_time": "2024-02-01T05:25:12.116Z"
   },
   {
    "duration": 510,
    "start_time": "2024-02-01T05:25:17.196Z"
   },
   {
    "duration": 3243,
    "start_time": "2024-02-01T05:25:47.251Z"
   },
   {
    "duration": 603,
    "start_time": "2024-02-01T05:28:57.093Z"
   },
   {
    "duration": 392,
    "start_time": "2024-02-01T05:30:00.745Z"
   },
   {
    "duration": 106,
    "start_time": "2024-02-01T05:31:14.037Z"
   },
   {
    "duration": 40,
    "start_time": "2024-02-01T05:31:18.709Z"
   },
   {
    "duration": 443,
    "start_time": "2024-02-01T05:31:46.937Z"
   },
   {
    "duration": 18,
    "start_time": "2024-02-01T05:32:37.558Z"
   },
   {
    "duration": 488,
    "start_time": "2024-02-01T05:33:18.115Z"
   },
   {
    "duration": 26,
    "start_time": "2024-02-01T05:34:08.766Z"
   },
   {
    "duration": 567,
    "start_time": "2024-02-01T05:34:50.631Z"
   },
   {
    "duration": 9,
    "start_time": "2024-02-01T05:36:51.037Z"
   },
   {
    "duration": 19,
    "start_time": "2024-02-01T05:37:51.547Z"
   },
   {
    "duration": 443,
    "start_time": "2024-02-01T05:38:20.347Z"
   },
   {
    "duration": 1818,
    "start_time": "2024-02-01T05:38:24.845Z"
   },
   {
    "duration": 6154,
    "start_time": "2024-02-01T05:39:11.239Z"
   },
   {
    "duration": 9,
    "start_time": "2024-02-01T05:39:30.597Z"
   },
   {
    "duration": 1146,
    "start_time": "2024-02-01T14:03:07.177Z"
   },
   {
    "duration": 14240,
    "start_time": "2024-02-01T14:03:08.325Z"
   },
   {
    "duration": 7200,
    "start_time": "2024-02-01T14:03:22.567Z"
   },
   {
    "duration": 83,
    "start_time": "2024-02-01T14:03:29.769Z"
   },
   {
    "duration": 393,
    "start_time": "2024-02-01T14:03:29.854Z"
   },
   {
    "duration": 5200,
    "start_time": "2024-02-01T14:03:30.249Z"
   },
   {
    "duration": 2710,
    "start_time": "2024-02-01T14:03:35.450Z"
   },
   {
    "duration": 2994,
    "start_time": "2024-02-01T14:03:38.162Z"
   },
   {
    "duration": 594,
    "start_time": "2024-02-01T14:03:41.158Z"
   },
   {
    "duration": 894,
    "start_time": "2024-02-01T14:03:41.755Z"
   },
   {
    "duration": 3,
    "start_time": "2024-02-01T14:03:42.650Z"
   },
   {
    "duration": 3183,
    "start_time": "2024-02-01T14:03:42.654Z"
   },
   {
    "duration": 2,
    "start_time": "2024-02-01T14:03:45.844Z"
   },
   {
    "duration": 37,
    "start_time": "2024-02-01T14:03:45.848Z"
   },
   {
    "duration": 1559,
    "start_time": "2024-02-01T14:03:45.887Z"
   },
   {
    "duration": 602,
    "start_time": "2024-02-01T14:03:47.448Z"
   },
   {
    "duration": 100,
    "start_time": "2024-02-01T14:03:48.051Z"
   },
   {
    "duration": 431,
    "start_time": "2024-02-01T14:03:48.153Z"
   },
   {
    "duration": 76,
    "start_time": "2024-02-01T14:03:48.585Z"
   },
   {
    "duration": 504,
    "start_time": "2024-02-01T14:03:48.663Z"
   },
   {
    "duration": 7,
    "start_time": "2024-02-01T14:03:49.169Z"
   },
   {
    "duration": 86,
    "start_time": "2024-02-01T14:03:49.177Z"
   },
   {
    "duration": 8,
    "start_time": "2024-02-01T14:03:49.265Z"
   },
   {
    "duration": 797,
    "start_time": "2024-02-01T14:03:49.275Z"
   },
   {
    "duration": 7,
    "start_time": "2024-02-01T14:03:50.073Z"
   },
   {
    "duration": 2,
    "start_time": "2024-02-01T14:03:50.144Z"
   },
   {
    "duration": 33,
    "start_time": "2024-02-01T14:03:50.148Z"
   },
   {
    "duration": 15,
    "start_time": "2024-02-01T14:03:50.184Z"
   },
   {
    "duration": 446,
    "start_time": "2024-02-01T14:03:50.201Z"
   },
   {
    "duration": 510,
    "start_time": "2024-02-01T14:03:50.648Z"
   },
   {
    "duration": 340,
    "start_time": "2024-02-01T14:03:51.160Z"
   },
   {
    "duration": 62,
    "start_time": "2024-02-01T14:03:51.501Z"
   },
   {
    "duration": 419,
    "start_time": "2024-02-01T14:03:51.564Z"
   },
   {
    "duration": 70,
    "start_time": "2024-02-01T14:03:51.985Z"
   },
   {
    "duration": 390,
    "start_time": "2024-02-01T14:03:52.057Z"
   },
   {
    "duration": 17,
    "start_time": "2024-02-01T14:03:52.449Z"
   },
   {
    "duration": 600,
    "start_time": "2024-02-01T14:03:52.467Z"
   },
   {
    "duration": 4,
    "start_time": "2024-02-01T14:03:53.069Z"
   },
   {
    "duration": 84,
    "start_time": "2024-02-01T14:03:53.074Z"
   },
   {
    "duration": 500,
    "start_time": "2024-02-01T14:03:53.160Z"
   },
   {
    "duration": 6895,
    "start_time": "2024-02-01T14:03:53.661Z"
   },
   {
    "duration": 10,
    "start_time": "2024-02-01T14:04:00.557Z"
   },
   {
    "duration": 991,
    "start_time": "2024-02-01T14:04:00.568Z"
   },
   {
    "duration": 1441,
    "start_time": "2024-02-02T05:13:33.206Z"
   },
   {
    "duration": 15249,
    "start_time": "2024-02-02T05:13:34.649Z"
   },
   {
    "duration": 8498,
    "start_time": "2024-02-02T05:13:49.900Z"
   },
   {
    "duration": 97,
    "start_time": "2024-02-02T05:13:58.400Z"
   },
   {
    "duration": 486,
    "start_time": "2024-02-02T05:13:58.499Z"
   },
   {
    "duration": 6195,
    "start_time": "2024-02-02T05:13:58.987Z"
   },
   {
    "duration": 3204,
    "start_time": "2024-02-02T05:14:05.184Z"
   },
   {
    "duration": 3326,
    "start_time": "2024-02-02T05:14:08.390Z"
   },
   {
    "duration": 585,
    "start_time": "2024-02-02T05:14:11.718Z"
   },
   {
    "duration": 1120,
    "start_time": "2024-02-02T05:14:12.306Z"
   },
   {
    "duration": 3,
    "start_time": "2024-02-02T05:14:13.428Z"
   },
   {
    "duration": 3953,
    "start_time": "2024-02-02T05:14:13.432Z"
   },
   {
    "duration": 3,
    "start_time": "2024-02-02T05:14:17.387Z"
   },
   {
    "duration": 64,
    "start_time": "2024-02-02T05:14:17.391Z"
   },
   {
    "duration": 1818,
    "start_time": "2024-02-02T05:14:17.458Z"
   },
   {
    "duration": 466,
    "start_time": "2024-02-02T05:14:29.925Z"
   },
   {
    "duration": 61,
    "start_time": "2024-02-02T05:14:31.650Z"
   },
   {
    "duration": 405,
    "start_time": "2024-02-02T05:14:33.218Z"
   },
   {
    "duration": 22,
    "start_time": "2024-02-02T05:14:35.104Z"
   },
   {
    "duration": 359,
    "start_time": "2024-02-02T05:14:35.548Z"
   },
   {
    "duration": 7,
    "start_time": "2024-02-02T05:14:38.329Z"
   },
   {
    "duration": 19,
    "start_time": "2024-02-02T05:14:38.618Z"
   },
   {
    "duration": 17,
    "start_time": "2024-02-02T05:14:38.915Z"
   },
   {
    "duration": 756,
    "start_time": "2024-02-02T05:14:39.141Z"
   },
   {
    "duration": 8,
    "start_time": "2024-02-02T05:14:40.685Z"
   },
   {
    "duration": 2,
    "start_time": "2024-02-02T05:14:42.165Z"
   },
   {
    "duration": 7,
    "start_time": "2024-02-02T05:14:42.640Z"
   },
   {
    "duration": 20,
    "start_time": "2024-02-02T05:14:43.051Z"
   },
   {
    "duration": 557,
    "start_time": "2024-02-02T05:14:43.459Z"
   },
   {
    "duration": 546,
    "start_time": "2024-02-02T05:14:45.564Z"
   },
   {
    "duration": 115,
    "start_time": "2024-02-02T05:15:04.969Z"
   },
   {
    "duration": 496,
    "start_time": "2024-02-02T05:15:37.298Z"
   },
   {
    "duration": 9,
    "start_time": "2024-02-02T05:17:06.399Z"
   },
   {
    "duration": 6,
    "start_time": "2024-02-02T05:17:18.640Z"
   },
   {
    "duration": 3,
    "start_time": "2024-02-02T05:17:18.708Z"
   },
   {
    "duration": 607,
    "start_time": "2024-02-02T05:17:18.769Z"
   },
   {
    "duration": 7,
    "start_time": "2024-02-02T05:17:19.378Z"
   },
   {
    "duration": 200,
    "start_time": "2024-02-02T05:17:19.386Z"
   },
   {
    "duration": 2721,
    "start_time": "2024-02-02T05:17:19.588Z"
   },
   {
    "duration": 1411,
    "start_time": "2024-02-02T05:17:22.374Z"
   },
   {
    "duration": 2045,
    "start_time": "2024-02-02T05:17:23.787Z"
   },
   {
    "duration": 358,
    "start_time": "2024-02-02T05:17:25.833Z"
   },
   {
    "duration": 608,
    "start_time": "2024-02-02T05:17:26.193Z"
   },
   {
    "duration": 3,
    "start_time": "2024-02-02T05:17:26.802Z"
   },
   {
    "duration": 1509,
    "start_time": "2024-02-02T05:17:26.807Z"
   },
   {
    "duration": 3,
    "start_time": "2024-02-02T05:17:28.318Z"
   },
   {
    "duration": 11,
    "start_time": "2024-02-02T05:17:28.322Z"
   },
   {
    "duration": 551,
    "start_time": "2024-02-02T05:17:28.335Z"
   },
   {
    "duration": 290,
    "start_time": "2024-02-02T05:17:28.887Z"
   },
   {
    "duration": 27,
    "start_time": "2024-02-02T05:17:29.178Z"
   },
   {
    "duration": 301,
    "start_time": "2024-02-02T05:17:29.207Z"
   },
   {
    "duration": 21,
    "start_time": "2024-02-02T05:17:29.510Z"
   },
   {
    "duration": 315,
    "start_time": "2024-02-02T05:17:29.532Z"
   },
   {
    "duration": 26,
    "start_time": "2024-02-02T05:17:29.849Z"
   },
   {
    "duration": 18,
    "start_time": "2024-02-02T05:17:29.877Z"
   },
   {
    "duration": 20,
    "start_time": "2024-02-02T05:17:29.897Z"
   },
   {
    "duration": 479,
    "start_time": "2024-02-02T05:17:29.918Z"
   },
   {
    "duration": 75,
    "start_time": "2024-02-02T05:17:30.399Z"
   },
   {
    "duration": 25,
    "start_time": "2024-02-02T05:17:30.475Z"
   },
   {
    "duration": 71,
    "start_time": "2024-02-02T05:17:30.502Z"
   },
   {
    "duration": 51,
    "start_time": "2024-02-02T05:17:30.577Z"
   },
   {
    "duration": 377,
    "start_time": "2024-02-02T05:17:30.630Z"
   },
   {
    "duration": 10,
    "start_time": "2024-02-02T05:17:31.009Z"
   },
   {
    "duration": 0,
    "start_time": "2024-02-02T05:17:31.020Z"
   },
   {
    "duration": 8,
    "start_time": "2024-02-02T05:18:00.396Z"
   },
   {
    "duration": 4,
    "start_time": "2024-02-02T05:18:26.313Z"
   },
   {
    "duration": 4,
    "start_time": "2024-02-02T05:18:27.963Z"
   },
   {
    "duration": 461,
    "start_time": "2024-02-02T05:18:28.918Z"
   },
   {
    "duration": 9,
    "start_time": "2024-02-02T05:18:30.577Z"
   },
   {
    "duration": 100,
    "start_time": "2024-02-02T05:18:32.166Z"
   },
   {
    "duration": 2277,
    "start_time": "2024-02-02T05:18:33.707Z"
   },
   {
    "duration": 975,
    "start_time": "2024-02-02T05:18:37.128Z"
   },
   {
    "duration": 1826,
    "start_time": "2024-02-02T05:18:42.297Z"
   },
   {
    "duration": 182,
    "start_time": "2024-02-02T05:18:46.327Z"
   },
   {
    "duration": 819,
    "start_time": "2024-02-02T05:18:48.378Z"
   },
   {
    "duration": 3,
    "start_time": "2024-02-02T05:18:51.397Z"
   },
   {
    "duration": 1119,
    "start_time": "2024-02-02T05:18:52.306Z"
   },
   {
    "duration": 3,
    "start_time": "2024-02-02T05:18:56.277Z"
   },
   {
    "duration": 9,
    "start_time": "2024-02-02T05:18:57.970Z"
   },
   {
    "duration": 419,
    "start_time": "2024-02-02T05:18:59.267Z"
   },
   {
    "duration": 216,
    "start_time": "2024-02-02T05:19:04.999Z"
   },
   {
    "duration": 28,
    "start_time": "2024-02-02T05:19:06.493Z"
   },
   {
    "duration": 218,
    "start_time": "2024-02-02T05:19:07.608Z"
   },
   {
    "duration": 16,
    "start_time": "2024-02-02T05:19:08.708Z"
   },
   {
    "duration": 240,
    "start_time": "2024-02-02T05:19:09.198Z"
   },
   {
    "duration": 7,
    "start_time": "2024-02-02T05:19:10.658Z"
   },
   {
    "duration": 14,
    "start_time": "2024-02-02T05:19:11.148Z"
   },
   {
    "duration": 8,
    "start_time": "2024-02-02T05:19:11.616Z"
   },
   {
    "duration": 401,
    "start_time": "2024-02-02T05:19:12.087Z"
   },
   {
    "duration": 10,
    "start_time": "2024-02-02T05:19:13.179Z"
   },
   {
    "duration": 3,
    "start_time": "2024-02-02T05:19:14.328Z"
   },
   {
    "duration": 6,
    "start_time": "2024-02-02T05:19:14.767Z"
   },
   {
    "duration": 15,
    "start_time": "2024-02-02T05:19:15.216Z"
   },
   {
    "duration": 234,
    "start_time": "2024-02-02T05:19:15.708Z"
   },
   {
    "duration": 9,
    "start_time": "2024-02-02T05:19:18.868Z"
   },
   {
    "duration": 322,
    "start_time": "2024-02-02T05:19:27.376Z"
   },
   {
    "duration": 9,
    "start_time": "2024-02-02T05:19:50.504Z"
   },
   {
    "duration": 12,
    "start_time": "2024-02-02T05:20:41.946Z"
   },
   {
    "duration": 398,
    "start_time": "2024-02-02T05:29:01.676Z"
   },
   {
    "duration": 272,
    "start_time": "2024-02-02T05:29:05.062Z"
   },
   {
    "duration": 94,
    "start_time": "2024-02-02T05:29:30.911Z"
   },
   {
    "duration": 100,
    "start_time": "2024-02-02T05:29:40.767Z"
   },
   {
    "duration": 254,
    "start_time": "2024-02-02T05:31:04.654Z"
   },
   {
    "duration": 329,
    "start_time": "2024-02-02T05:31:06.887Z"
   },
   {
    "duration": 226,
    "start_time": "2024-02-02T05:31:20.105Z"
   },
   {
    "duration": 310,
    "start_time": "2024-02-02T05:31:37.673Z"
   },
   {
    "duration": 246,
    "start_time": "2024-02-02T05:31:42.285Z"
   },
   {
    "duration": 24,
    "start_time": "2024-02-02T05:31:48.946Z"
   },
   {
    "duration": 218,
    "start_time": "2024-02-02T05:31:55.842Z"
   },
   {
    "duration": 112,
    "start_time": "2024-02-02T05:32:40.233Z"
   },
   {
    "duration": 27,
    "start_time": "2024-02-02T05:32:51.375Z"
   },
   {
    "duration": 194,
    "start_time": "2024-02-02T05:33:03.333Z"
   },
   {
    "duration": 25,
    "start_time": "2024-02-02T05:33:39.433Z"
   },
   {
    "duration": 542,
    "start_time": "2024-02-02T05:33:41.754Z"
   },
   {
    "duration": 233,
    "start_time": "2024-02-02T05:33:45.554Z"
   },
   {
    "duration": 185,
    "start_time": "2024-02-02T05:33:50.804Z"
   },
   {
    "duration": 7,
    "start_time": "2024-02-02T05:33:55.665Z"
   },
   {
    "duration": 16,
    "start_time": "2024-02-02T05:36:26.734Z"
   },
   {
    "duration": 14,
    "start_time": "2024-02-02T05:36:28.383Z"
   },
   {
    "duration": 295,
    "start_time": "2024-02-02T05:36:40.405Z"
   },
   {
    "duration": 7,
    "start_time": "2024-02-02T05:36:48.423Z"
   },
   {
    "duration": 4,
    "start_time": "2024-02-02T05:36:53.405Z"
   },
   {
    "duration": 13,
    "start_time": "2024-02-02T05:37:23.433Z"
   },
   {
    "duration": 200,
    "start_time": "2024-02-02T05:37:28.433Z"
   },
   {
    "duration": 317,
    "start_time": "2024-02-02T05:37:34.573Z"
   },
   {
    "duration": 232,
    "start_time": "2024-02-02T05:37:39.482Z"
   },
   {
    "duration": 24,
    "start_time": "2024-02-02T05:37:47.172Z"
   },
   {
    "duration": 237,
    "start_time": "2024-02-02T05:37:51.693Z"
   },
   {
    "duration": 13,
    "start_time": "2024-02-02T05:38:11.591Z"
   },
   {
    "duration": 305,
    "start_time": "2024-02-02T05:38:19.874Z"
   },
   {
    "duration": 15,
    "start_time": "2024-02-02T05:38:29.742Z"
   },
   {
    "duration": 632,
    "start_time": "2024-02-02T05:38:32.352Z"
   },
   {
    "duration": 487,
    "start_time": "2024-02-02T05:39:23.765Z"
   },
   {
    "duration": 97,
    "start_time": "2024-02-02T05:39:30.034Z"
   },
   {
    "duration": 95,
    "start_time": "2024-02-02T05:39:35.103Z"
   },
   {
    "duration": 105,
    "start_time": "2024-02-02T05:39:44.172Z"
   },
   {
    "duration": 90,
    "start_time": "2024-02-02T05:39:48.013Z"
   },
   {
    "duration": 350,
    "start_time": "2024-02-02T05:40:57.263Z"
   },
   {
    "duration": 11,
    "start_time": "2024-02-02T05:41:12.243Z"
   },
   {
    "duration": 3,
    "start_time": "2024-02-02T05:41:22.965Z"
   },
   {
    "duration": 5,
    "start_time": "2024-02-02T05:41:24.834Z"
   },
   {
    "duration": 16,
    "start_time": "2024-02-02T05:41:28.834Z"
   },
   {
    "duration": 332,
    "start_time": "2024-02-02T05:41:30.885Z"
   },
   {
    "duration": 7214,
    "start_time": "2024-02-02T05:41:49.894Z"
   },
   {
    "duration": 9,
    "start_time": "2024-02-02T05:42:09.493Z"
   },
   {
    "duration": 264,
    "start_time": "2024-02-02T05:44:16.248Z"
   },
   {
    "duration": 63,
    "start_time": "2024-02-02T05:44:16.514Z"
   },
   {
    "duration": 167,
    "start_time": "2024-02-02T05:44:17.133Z"
   },
   {
    "duration": 15,
    "start_time": "2024-02-02T05:44:19.082Z"
   },
   {
    "duration": 244,
    "start_time": "2024-02-02T05:44:19.668Z"
   },
   {
    "duration": 8,
    "start_time": "2024-02-02T05:44:21.834Z"
   },
   {
    "duration": 17,
    "start_time": "2024-02-02T05:44:22.110Z"
   },
   {
    "duration": 8,
    "start_time": "2024-02-02T05:44:22.896Z"
   },
   {
    "duration": 316,
    "start_time": "2024-02-02T05:44:23.093Z"
   },
   {
    "duration": 6,
    "start_time": "2024-02-02T05:44:23.686Z"
   },
   {
    "duration": 2,
    "start_time": "2024-02-02T05:44:24.261Z"
   },
   {
    "duration": 7,
    "start_time": "2024-02-02T05:44:24.521Z"
   },
   {
    "duration": 15,
    "start_time": "2024-02-02T05:44:24.711Z"
   },
   {
    "duration": 193,
    "start_time": "2024-02-02T05:44:24.923Z"
   },
   {
    "duration": 297,
    "start_time": "2024-02-02T05:44:28.096Z"
   },
   {
    "duration": 1272,
    "start_time": "2024-02-02T15:50:13.052Z"
   },
   {
    "duration": 15556,
    "start_time": "2024-02-02T15:50:14.326Z"
   },
   {
    "duration": 8922,
    "start_time": "2024-02-02T15:50:29.884Z"
   },
   {
    "duration": 84,
    "start_time": "2024-02-02T15:50:38.808Z"
   },
   {
    "duration": 381,
    "start_time": "2024-02-02T15:50:38.894Z"
   },
   {
    "duration": 5806,
    "start_time": "2024-02-02T15:50:39.277Z"
   },
   {
    "duration": 4105,
    "start_time": "2024-02-02T15:50:45.085Z"
   },
   {
    "duration": 4907,
    "start_time": "2024-02-02T15:50:49.192Z"
   },
   {
    "duration": 885,
    "start_time": "2024-02-02T15:50:54.101Z"
   },
   {
    "duration": 1126,
    "start_time": "2024-02-02T15:50:54.990Z"
   },
   {
    "duration": 63,
    "start_time": "2024-02-02T15:50:56.118Z"
   },
   {
    "duration": 5019,
    "start_time": "2024-02-02T15:50:56.183Z"
   },
   {
    "duration": 4,
    "start_time": "2024-02-02T15:51:01.204Z"
   },
   {
    "duration": 46,
    "start_time": "2024-02-02T15:51:01.210Z"
   },
   {
    "duration": 1825,
    "start_time": "2024-02-02T15:51:01.258Z"
   },
   {
    "duration": 623,
    "start_time": "2024-02-02T15:51:03.085Z"
   },
   {
    "duration": 186,
    "start_time": "2024-02-02T15:51:03.710Z"
   },
   {
    "duration": 684,
    "start_time": "2024-02-02T15:51:03.898Z"
   },
   {
    "duration": 23,
    "start_time": "2024-02-02T15:51:04.584Z"
   },
   {
    "duration": 680,
    "start_time": "2024-02-02T15:51:04.609Z"
   },
   {
    "duration": 6,
    "start_time": "2024-02-02T15:51:05.291Z"
   },
   {
    "duration": 18,
    "start_time": "2024-02-02T15:51:05.299Z"
   },
   {
    "duration": 18,
    "start_time": "2024-02-02T15:51:05.389Z"
   },
   {
    "duration": 875,
    "start_time": "2024-02-02T15:51:05.409Z"
   },
   {
    "duration": 10,
    "start_time": "2024-02-02T15:51:06.285Z"
   },
   {
    "duration": 3,
    "start_time": "2024-02-02T15:51:06.297Z"
   },
   {
    "duration": 12,
    "start_time": "2024-02-02T15:51:06.301Z"
   },
   {
    "duration": 78,
    "start_time": "2024-02-02T15:51:06.317Z"
   },
   {
    "duration": 524,
    "start_time": "2024-02-02T15:51:06.397Z"
   },
   {
    "duration": 601,
    "start_time": "2024-02-02T15:51:06.980Z"
   },
   {
    "duration": 414,
    "start_time": "2024-02-02T15:51:07.583Z"
   },
   {
    "duration": 98,
    "start_time": "2024-02-02T15:51:07.998Z"
   },
   {
    "duration": 436,
    "start_time": "2024-02-02T15:51:08.098Z"
   },
   {
    "duration": 45,
    "start_time": "2024-02-02T15:51:08.536Z"
   },
   {
    "duration": 400,
    "start_time": "2024-02-02T15:51:08.583Z"
   },
   {
    "duration": 17,
    "start_time": "2024-02-02T15:51:08.985Z"
   },
   {
    "duration": 75,
    "start_time": "2024-02-02T15:51:09.005Z"
   },
   {
    "duration": 252,
    "start_time": "2024-02-02T15:51:09.082Z"
   },
   {
    "duration": 0,
    "start_time": "2024-02-02T15:51:09.336Z"
   },
   {
    "duration": 0,
    "start_time": "2024-02-02T15:51:09.337Z"
   },
   {
    "duration": 0,
    "start_time": "2024-02-02T15:51:09.339Z"
   },
   {
    "duration": 0,
    "start_time": "2024-02-02T15:51:09.340Z"
   },
   {
    "duration": 1383,
    "start_time": "2024-02-02T16:00:13.566Z"
   },
   {
    "duration": 15875,
    "start_time": "2024-02-02T16:00:14.951Z"
   },
   {
    "duration": 9099,
    "start_time": "2024-02-02T16:00:30.882Z"
   },
   {
    "duration": 39,
    "start_time": "2024-02-02T16:00:39.982Z"
   },
   {
    "duration": 436,
    "start_time": "2024-02-02T16:00:40.082Z"
   },
   {
    "duration": 6315,
    "start_time": "2024-02-02T16:00:40.580Z"
   },
   {
    "duration": 3407,
    "start_time": "2024-02-02T16:00:46.896Z"
   },
   {
    "duration": 3703,
    "start_time": "2024-02-02T16:00:50.305Z"
   },
   {
    "duration": 599,
    "start_time": "2024-02-02T16:00:54.012Z"
   },
   {
    "duration": 1182,
    "start_time": "2024-02-02T16:00:54.612Z"
   },
   {
    "duration": 3,
    "start_time": "2024-02-02T16:00:55.796Z"
   },
   {
    "duration": 4500,
    "start_time": "2024-02-02T16:00:55.801Z"
   },
   {
    "duration": 4,
    "start_time": "2024-02-02T16:01:00.302Z"
   },
   {
    "duration": 88,
    "start_time": "2024-02-02T16:01:00.310Z"
   },
   {
    "duration": 1893,
    "start_time": "2024-02-02T16:01:00.400Z"
   },
   {
    "duration": 703,
    "start_time": "2024-02-02T16:01:02.295Z"
   },
   {
    "duration": 125,
    "start_time": "2024-02-02T16:01:03.000Z"
   },
   {
    "duration": 658,
    "start_time": "2024-02-02T16:01:03.127Z"
   },
   {
    "duration": 20,
    "start_time": "2024-02-02T16:01:03.787Z"
   },
   {
    "duration": 484,
    "start_time": "2024-02-02T16:01:03.810Z"
   },
   {
    "duration": 7,
    "start_time": "2024-02-02T16:01:04.295Z"
   },
   {
    "duration": 85,
    "start_time": "2024-02-02T16:01:04.304Z"
   },
   {
    "duration": 10,
    "start_time": "2024-02-02T16:01:04.392Z"
   },
   {
    "duration": 978,
    "start_time": "2024-02-02T16:01:04.404Z"
   },
   {
    "duration": 7,
    "start_time": "2024-02-02T16:01:05.384Z"
   },
   {
    "duration": 21,
    "start_time": "2024-02-02T16:01:05.393Z"
   },
   {
    "duration": 70,
    "start_time": "2024-02-02T16:01:05.415Z"
   },
   {
    "duration": 25,
    "start_time": "2024-02-02T16:01:05.486Z"
   },
   {
    "duration": 581,
    "start_time": "2024-02-02T16:01:05.513Z"
   },
   {
    "duration": 712,
    "start_time": "2024-02-02T16:01:06.096Z"
   },
   {
    "duration": 580,
    "start_time": "2024-02-02T16:01:06.810Z"
   },
   {
    "duration": 91,
    "start_time": "2024-02-02T16:01:07.392Z"
   },
   {
    "duration": 606,
    "start_time": "2024-02-02T16:01:07.486Z"
   },
   {
    "duration": 17,
    "start_time": "2024-02-02T16:01:08.094Z"
   },
   {
    "duration": 702,
    "start_time": "2024-02-02T16:01:08.113Z"
   },
   {
    "duration": 29,
    "start_time": "2024-02-02T16:01:08.880Z"
   },
   {
    "duration": 74,
    "start_time": "2024-02-02T16:01:08.912Z"
   },
   {
    "duration": 411,
    "start_time": "2024-02-02T16:01:08.988Z"
   },
   {
    "duration": 0,
    "start_time": "2024-02-02T16:01:09.401Z"
   },
   {
    "duration": 0,
    "start_time": "2024-02-02T16:01:09.402Z"
   },
   {
    "duration": 0,
    "start_time": "2024-02-02T16:01:09.403Z"
   },
   {
    "duration": 0,
    "start_time": "2024-02-02T16:01:09.405Z"
   },
   {
    "duration": 0,
    "start_time": "2024-02-02T16:01:09.406Z"
   },
   {
    "duration": 557,
    "start_time": "2024-02-02T16:01:58.553Z"
   },
   {
    "duration": 21,
    "start_time": "2024-02-02T16:02:01.520Z"
   },
   {
    "duration": 476,
    "start_time": "2024-02-02T16:02:04.170Z"
   },
   {
    "duration": 8218,
    "start_time": "2024-02-02T16:02:09.665Z"
   },
   {
    "duration": 11,
    "start_time": "2024-02-02T16:02:50.247Z"
   },
   {
    "duration": 847,
    "start_time": "2024-02-02T16:02:52.072Z"
   },
   {
    "duration": 1275,
    "start_time": "2024-02-02T16:03:04.895Z"
   },
   {
    "duration": 15139,
    "start_time": "2024-02-02T16:03:06.172Z"
   },
   {
    "duration": 9273,
    "start_time": "2024-02-02T16:03:21.313Z"
   },
   {
    "duration": 99,
    "start_time": "2024-02-02T16:03:30.590Z"
   },
   {
    "duration": 601,
    "start_time": "2024-02-02T16:03:30.691Z"
   },
   {
    "duration": 5904,
    "start_time": "2024-02-02T16:03:31.294Z"
   },
   {
    "duration": 3116,
    "start_time": "2024-02-02T16:03:37.200Z"
   },
   {
    "duration": 4419,
    "start_time": "2024-02-02T16:03:40.381Z"
   },
   {
    "duration": 681,
    "start_time": "2024-02-02T16:03:44.802Z"
   },
   {
    "duration": 1030,
    "start_time": "2024-02-02T16:03:45.485Z"
   },
   {
    "duration": 3,
    "start_time": "2024-02-02T16:03:46.517Z"
   },
   {
    "duration": 3886,
    "start_time": "2024-02-02T16:03:46.581Z"
   },
   {
    "duration": 3,
    "start_time": "2024-02-02T16:03:50.468Z"
   },
   {
    "duration": 20,
    "start_time": "2024-02-02T16:03:50.480Z"
   },
   {
    "duration": 1881,
    "start_time": "2024-02-02T16:03:50.502Z"
   },
   {
    "duration": 537,
    "start_time": "2024-02-02T16:03:52.385Z"
   },
   {
    "duration": 169,
    "start_time": "2024-02-02T16:03:52.924Z"
   },
   {
    "duration": 602,
    "start_time": "2024-02-02T16:03:53.095Z"
   },
   {
    "duration": 83,
    "start_time": "2024-02-02T16:03:53.699Z"
   },
   {
    "duration": 600,
    "start_time": "2024-02-02T16:03:53.784Z"
   },
   {
    "duration": 7,
    "start_time": "2024-02-02T16:03:54.386Z"
   },
   {
    "duration": 91,
    "start_time": "2024-02-02T16:03:54.395Z"
   },
   {
    "duration": 10,
    "start_time": "2024-02-02T16:03:54.488Z"
   },
   {
    "duration": 909,
    "start_time": "2024-02-02T16:03:54.501Z"
   },
   {
    "duration": 70,
    "start_time": "2024-02-02T16:03:55.411Z"
   },
   {
    "duration": 3,
    "start_time": "2024-02-02T16:03:55.483Z"
   },
   {
    "duration": 35,
    "start_time": "2024-02-02T16:03:55.487Z"
   },
   {
    "duration": 55,
    "start_time": "2024-02-02T16:03:55.525Z"
   },
   {
    "duration": 618,
    "start_time": "2024-02-02T16:03:55.582Z"
   },
   {
    "duration": 782,
    "start_time": "2024-02-02T16:03:56.202Z"
   },
   {
    "duration": 532,
    "start_time": "2024-02-02T16:03:56.986Z"
   },
   {
    "duration": 86,
    "start_time": "2024-02-02T16:03:57.520Z"
   },
   {
    "duration": 447,
    "start_time": "2024-02-02T16:03:57.608Z"
   },
   {
    "duration": 39,
    "start_time": "2024-02-02T16:03:58.057Z"
   },
   {
    "duration": 632,
    "start_time": "2024-02-02T16:03:58.098Z"
   },
   {
    "duration": 71,
    "start_time": "2024-02-02T16:03:58.732Z"
   },
   {
    "duration": 10,
    "start_time": "2024-02-02T16:03:58.805Z"
   },
   {
    "duration": 712,
    "start_time": "2024-02-02T16:03:58.880Z"
   },
   {
    "duration": 17,
    "start_time": "2024-02-02T16:03:59.593Z"
   },
   {
    "duration": 570,
    "start_time": "2024-02-02T16:03:59.612Z"
   },
   {
    "duration": 8413,
    "start_time": "2024-02-02T16:04:00.184Z"
   },
   {
    "duration": 9,
    "start_time": "2024-02-02T16:04:08.599Z"
   },
   {
    "duration": 990,
    "start_time": "2024-02-02T16:04:08.610Z"
   }
  ],
  "colab": {
   "name": "PySparkSprint.ipynb",
   "provenance": []
  },
  "kernelspec": {
   "display_name": "Python 3 (ipykernel)",
   "language": "python",
   "name": "python3"
  },
  "language_info": {
   "codemirror_mode": {
    "name": "ipython",
    "version": 3
   },
   "file_extension": ".py",
   "mimetype": "text/x-python",
   "name": "python",
   "nbconvert_exporter": "python",
   "pygments_lexer": "ipython3",
   "version": "3.9.5"
  },
  "toc": {
   "base_numbering": 1,
   "nav_menu": {},
   "number_sections": true,
   "sideBar": true,
   "skip_h1_title": true,
   "title_cell": "Table of Contents",
   "title_sidebar": "Contents",
   "toc_cell": false,
   "toc_position": {},
   "toc_section_display": true,
   "toc_window_display": false
  }
 },
 "nbformat": 4,
 "nbformat_minor": 5
}
