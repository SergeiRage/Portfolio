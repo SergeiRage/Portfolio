{
 "cells": [
  {
   "cell_type": "markdown",
   "id": "c6002cd8",
   "metadata": {
    "id": "c6002cd8"
   },
   "source": [
    "# Оценка возможности прогнозирования ДТП"
   ]
  },
  {
   "cell_type": "markdown",
   "id": "f696184d",
   "metadata": {
    "id": "f696184d"
   },
   "source": [
    "Цель работы заключается в создании системы для каршеринговой компании, которая могла бы оценить риск ДТП по совокупности факторов. Под риском понимается вероятность ДТП с любым повреждением транспортного средства. Как только водитель забронировал автомобиль, сел за руль и выбрал маршрут, система должна оценить уровень риска. Если уровень риска высок, водитель увидит предупреждение и рекомендации по маршруту.\n",
    "\n",
    "Идея создания такой системы находится в стадии предварительного обсуждения и проработки. Чёткого алгоритма работы и подобных решений на рынке ещё не существует. Текущая задача — понять, возможно ли предсказывать виновность в ДТП, опираясь на исторические данные одного из регионов.\n",
    "\n",
    "Идея решения задачи от заказчика:\n",
    "\n",
    "Создать модель предсказания ДТП (целевое значение — at_fault (виновник) в таблице parties)\n",
    "    Для модели выбрать тип виновника — только машина (car).\n",
    "    Выбрать случаи, когда ДТП привело к любым повреждениям транспортного средства, кроме типа SCRATCH (царапина).\n",
    "    Для моделирования ограничиться данными за 2012 год — они самые свежие.\n",
    "    Обязательное условие — учесть фактор возраста автомобиля.\n",
    "На основе модели исследовать основные факторы ДТП.\n",
    "Понять, помогут ли результаты моделирования и анализ важности факторов ответить на вопросы:\n",
    "    Возможно ли создать адекватную системы оценки водительского риска при выдаче авто?\n",
    "    Какие ещё факторы нужно учесть?\n",
    "    Нужно ли оборудовать автомобиль какими-либо датчиками или камерой?\n",
    "    \n",
    "Таким образом, исследование будет состоять из следующих этапов:\n",
    "\n",
    "обзор данных;\n",
    "\n",
    "предобработка данных;\n",
    "\n",
    "исследовательский анализ данных;\n",
    "\n",
    "проведение статистического анализа факторов ДТП;\n",
    "\n",
    "разработка ML - модели оценки водительского риска;\n",
    "\n",
    "анализ важности факторов ДТП;\n",
    "\n",
    "основные выводы."
   ]
  },
  {
   "cell_type": "markdown",
   "id": "dc9e7639",
   "metadata": {
    "id": "dc9e7639"
   },
   "source": [
    "Краткое описание таблиц\n",
    "\n",
    "collisions — общая информация о ДТП. Имеет уникальный case_id. Эта таблица описывает общую информацию о ДТП. Например, где оно произошло и когда.\n",
    "\n",
    "parties — информация об участниках ДТП. Имеет неуникальный case_id, который сопоставляется с соответствующим ДТП в таблице collisions. Каждая строка здесь описывает одну из сторон, участвующих в ДТП. Если столкнулись две машины, в этой таблице должно быть две строки с совпадением case_id. Если нужен уникальный идентификатор, это case_id and party_number.\n",
    "\n",
    "vehicles — информация о пострадавших машинах. Имеет неуникальные case_id и неуникальные party_number, которые сопоставляются с таблицей collisions и таблицей parties. Если нужен уникальный идентификатор, это case_id and party_number."
   ]
  },
  {
   "cell_type": "markdown",
   "id": "68c5db19",
   "metadata": {
    "ExecuteTime": {
     "end_time": "2022-05-05T04:58:05.692448Z",
     "start_time": "2022-05-05T04:58:05.688565Z"
    },
    "id": "68c5db19"
   },
   "source": [
    "## Подключитесь к базе. Загрузите таблицы sql"
   ]
  },
  {
   "cell_type": "markdown",
   "id": "f7f18a25",
   "metadata": {
    "id": "f7f18a25"
   },
   "source": [
    "## Загрузка библиотек"
   ]
  },
  {
   "cell_type": "code",
   "execution_count": null,
   "id": "030e5987",
   "metadata": {
    "colab": {
     "base_uri": "https://localhost:8080/"
    },
    "id": "030e5987",
    "outputId": "5d2b58e4-ba12-4137-a219-74ef28b9d290"
   },
   "outputs": [],
   "source": [
    "!pip install phik -q\n",
    "!pip install sweetviz -q"
   ]
  },
  {
   "cell_type": "code",
   "execution_count": null,
   "id": "4dcf6eb9",
   "metadata": {
    "colab": {
     "base_uri": "https://localhost:8080/"
    },
    "id": "4dcf6eb9",
    "outputId": "94027fbd-dcd0-473c-815a-b68b22c1df3b"
   },
   "outputs": [],
   "source": [
    "!pip install pandas_profiling -q\n",
    "!pip install shap -q"
   ]
  },
  {
   "cell_type": "code",
   "execution_count": null,
   "id": "385f70a0",
   "metadata": {},
   "outputs": [],
   "source": [
    "!pip install -U scikit-learn"
   ]
  },
  {
   "cell_type": "code",
   "execution_count": null,
   "id": "2c7777a8",
   "metadata": {
    "id": "2c7777a8"
   },
   "outputs": [],
   "source": [
    "import warnings\n",
    "warnings.filterwarnings('ignore')"
   ]
  },
  {
   "cell_type": "code",
   "execution_count": null,
   "id": "e089d173",
   "metadata": {
    "id": "e089d173"
   },
   "outputs": [],
   "source": [
    "import lightgbm as lgb\n",
    "import matplotlib.pyplot as plt\n",
    "import numpy as np\n",
    "import pandas as pd\n",
    "import plotly.express as px\n",
    "import seaborn as sns\n",
    "import statistics as st\n",
    "import sweetviz as sv\n",
    "import phik\n",
    "from phik.report import plot_correlation_matrix\n",
    "from phik import report\n",
    "\n",
    "\n",
    "import math\n",
    "import random\n",
    "import shap\n",
    "import time\n",
    "import xgboost\n",
    "\n",
    "\n",
    "from sqlalchemy import create_engine\n",
    "from sklearn.impute import SimpleImputer\n",
    "from sklearn.metrics import confusion_matrix, ConfusionMatrixDisplay\n",
    "from sklearn.metrics import classification_report\n",
    "from sklearn.metrics import precision_recall_curve, PrecisionRecallDisplay\n",
    "from sklearn.metrics import f1_score, precision_score, recall_score\n",
    "from sklearn.model_selection import train_test_split, GridSearchCV\n",
    "from sklearn.preprocessing import OrdinalEncoder, StandardScaler\n",
    "from sklearn.preprocessing import OneHotEncoder,  LabelEncoder\n",
    "from sklearn.dummy import DummyClassifier\n",
    "from sklearn.compose import make_column_transformer, make_column_selector\n",
    "from sklearn.pipeline import make_pipeline\n",
    "from sklearn.model_selection import GridSearchCV\n",
    "\n",
    "\n",
    "\n",
    "from catboost import CatBoostClassifier\n",
    "from sklearn.ensemble import RandomForestClassifier\n",
    "from sklearn.tree import DecisionTreeClassifier\n",
    "from xgboost import XGBClassifier\n",
    "from sklearn.linear_model import LogisticRegression\n",
    "\n",
    "SEED = 42\n",
    "\n",
    "pd.set_option('display.float_format', lambda x: '%.2f' % x)"
   ]
  },
  {
   "cell_type": "markdown",
   "id": "14509d49",
   "metadata": {
    "id": "14509d49"
   },
   "source": [
    "## Подключение к серверу"
   ]
  },
  {
   "cell_type": "markdown",
   "id": "36896afc",
   "metadata": {
    "id": "36896afc"
   },
   "source": [
    "Объявим конфигурацию для подключения к серверу."
   ]
  },
  {
   "cell_type": "code",
   "execution_count": null,
   "id": "ee673850",
   "metadata": {
    "id": "ee673850"
   },
   "outputs": [],
   "source": [
    "db_config = {\n",
    "    'user': 'praktikum_student', # имя пользователя\n",
    "    'pwd': 'Sdf4$2;d-d30pp', # пароль\n",
    "    'host': 'rc1b-wcoijxj3yxfsf3fs.mdb.yandexcloud.net',\n",
    "    'port': 6432, # порт подключения\n",
    "    'db': 'data-science-vehicle-db' # название базы данных\n",
    "}"
   ]
  },
  {
   "cell_type": "markdown",
   "id": "e62ccd94",
   "metadata": {
    "id": "e62ccd94"
   },
   "source": [
    "Формируем строку для подключения."
   ]
  },
  {
   "cell_type": "code",
   "execution_count": null,
   "id": "80fe15b1",
   "metadata": {
    "id": "80fe15b1"
   },
   "outputs": [],
   "source": [
    "connection_string = 'postgresql://{}:{}@{}:{}/{}'.format(\n",
    "    db_config['user'],\n",
    "    db_config['pwd'],\n",
    "    db_config['host'],\n",
    "    db_config['port'],\n",
    "    db_config['db']\n",
    ")"
   ]
  },
  {
   "cell_type": "markdown",
   "id": "fcc051f9",
   "metadata": {
    "id": "fcc051f9"
   },
   "source": [
    "Создадим соединение."
   ]
  },
  {
   "cell_type": "code",
   "execution_count": null,
   "id": "843ac227",
   "metadata": {
    "id": "843ac227"
   },
   "outputs": [],
   "source": [
    "engine = create_engine(connection_string)"
   ]
  },
  {
   "cell_type": "markdown",
   "id": "4f5616f0",
   "metadata": {
    "id": "4f5616f0"
   },
   "source": [
    "Создадим пробный запрос."
   ]
  },
  {
   "cell_type": "code",
   "execution_count": null,
   "id": "86e32581",
   "metadata": {
    "colab": {
     "base_uri": "https://localhost:8080/",
     "height": 81
    },
    "id": "86e32581",
    "outputId": "ce58494c-6ae6-432b-a0b6-3fed3f3aba5e"
   },
   "outputs": [],
   "source": [
    "query = '''\n",
    "SELECT COUNT(DISTINCT id) AS count_parties\n",
    "  FROM parties\n",
    " WHERE at_fault = 1;\n",
    "'''\n",
    "df = pd.read_sql_query(query, con=engine)\n",
    "df.head()"
   ]
  },
  {
   "cell_type": "markdown",
   "id": "b3ca6cd8",
   "metadata": {
    "id": "b3ca6cd8"
   },
   "source": [
    "Вывод:\n",
    "\n",
    "Проведено успешное подключение к серверу и выполнен подсчет всех уникальных виновников ДТП. Перейдём к исследованию таблиц."
   ]
  },
  {
   "cell_type": "markdown",
   "id": "e90a8a9c",
   "metadata": {
    "id": "e90a8a9c"
   },
   "source": [
    "## Проведите первичное исследование таблиц"
   ]
  },
  {
   "cell_type": "markdown",
   "id": "a361844a",
   "metadata": {
    "id": "a361844a"
   },
   "source": [
    "Посмотрим на размер БД."
   ]
  },
  {
   "cell_type": "code",
   "execution_count": null,
   "id": "d0789d93",
   "metadata": {
    "colab": {
     "base_uri": "https://localhost:8080/",
     "height": 81
    },
    "id": "d0789d93",
    "outputId": "2389fadf-0c61-4baa-d6cf-ca2225779ae2"
   },
   "outputs": [],
   "source": [
    "query = '''\n",
    "SELECT pg_size_pretty(pg_database_size(current_database()));\n",
    "'''\n",
    "df = pd.read_sql_query(query, con=engine)\n",
    "df"
   ]
  },
  {
   "cell_type": "markdown",
   "id": "2e9d4930",
   "metadata": {
    "id": "2e9d4930"
   },
   "source": [
    "Посмотрим названия таблиц в БД."
   ]
  },
  {
   "cell_type": "code",
   "execution_count": null,
   "id": "943f118f",
   "metadata": {
    "colab": {
     "base_uri": "https://localhost:8080/",
     "height": 175
    },
    "id": "943f118f",
    "outputId": "30159705-0d28-489d-a184-b17fae7748d5"
   },
   "outputs": [],
   "source": [
    "query = '''\n",
    "SELECT table_name\n",
    "  FROM information_schema.tables\n",
    " WHERE table_schema NOT IN ('information_schema','pg_catalog');\n",
    "'''\n",
    "df = pd.read_sql_query(query, con=engine)\n",
    "df"
   ]
  },
  {
   "cell_type": "markdown",
   "id": "ac069ba4",
   "metadata": {
    "id": "ac069ba4"
   },
   "source": [
    "Посмотрим какие колонки имеются в наших таблицах и какой тип данных они имеют."
   ]
  },
  {
   "cell_type": "code",
   "execution_count": null,
   "id": "cf1c7119",
   "metadata": {
    "colab": {
     "base_uri": "https://localhost:8080/",
     "height": 1000
    },
    "id": "cf1c7119",
    "outputId": "1dd0034b-298d-4426-f05c-fd006b74d68b"
   },
   "outputs": [],
   "source": [
    "query = '''\n",
    "SELECT table_name,\n",
    "       column_name,\n",
    "       data_type\n",
    "  FROM information_schema.columns\n",
    " WHERE table_name IN ('case_ids', 'collisions', 'parties', 'vehicles');\n",
    "'''\n",
    "df = pd.read_sql_query(query, con=engine)\n",
    "df"
   ]
  },
  {
   "cell_type": "markdown",
   "id": "a824dca1",
   "metadata": {},
   "source": []
  },
  {
   "cell_type": "markdown",
   "id": "509c5ed6",
   "metadata": {
    "id": "509c5ed6"
   },
   "source": [
    "Посмотрим информацию по таблицам."
   ]
  },
  {
   "cell_type": "code",
   "execution_count": null,
   "id": "702ab0d9",
   "metadata": {
    "id": "702ab0d9"
   },
   "outputs": [],
   "source": [
    "collisions = '''\n",
    "\n",
    "SELECT *\n",
    "FROM collisions\n",
    "\n",
    "'''\n",
    "\n",
    "parties = '''\n",
    "\n",
    "SELECT *\n",
    "FROM parties\n",
    "\n",
    "'''\n",
    "\n",
    "vehicles = '''\n",
    "\n",
    "SELECT *\n",
    "FROM vehicles\n",
    "\n",
    "'''\n",
    "\n",
    "case_ids = '''\n",
    "\n",
    "SELECT *\n",
    "FROM case_ids\n",
    "\n",
    "'''"
   ]
  },
  {
   "cell_type": "markdown",
   "id": "32a3310c",
   "metadata": {
    "id": "32a3310c"
   },
   "source": [
    "Выгрузим таблицу collisions в датафрейм и запросим информацию о ней."
   ]
  },
  {
   "cell_type": "code",
   "execution_count": null,
   "id": "130b69ad",
   "metadata": {
    "id": "130b69ad"
   },
   "outputs": [],
   "source": [
    "collisions = pd.read_sql_query(collisions, con = engine)"
   ]
  },
  {
   "cell_type": "code",
   "execution_count": null,
   "id": "2720cc0c",
   "metadata": {
    "colab": {
     "base_uri": "https://localhost:8080/"
    },
    "id": "2720cc0c",
    "outputId": "202c60cb-a0da-429d-9972-ebc0807312d8"
   },
   "outputs": [],
   "source": [
    "collisions.info()"
   ]
  },
  {
   "cell_type": "code",
   "execution_count": null,
   "id": "6b70bfb8",
   "metadata": {
    "colab": {
     "base_uri": "https://localhost:8080/",
     "height": 330
    },
    "id": "6b70bfb8",
    "outputId": "19fab280-abab-402d-84eb-74f0a07662f4"
   },
   "outputs": [],
   "source": [
    "collisions.head(5)"
   ]
  },
  {
   "cell_type": "code",
   "execution_count": null,
   "id": "bb05d1c4",
   "metadata": {
    "colab": {
     "base_uri": "https://localhost:8080/",
     "height": 300
    },
    "id": "bb05d1c4",
    "outputId": "f8e6095b-87a0-4ec9-c6cf-fe6cc0b20712"
   },
   "outputs": [],
   "source": [
    "collisions.describe()"
   ]
  },
  {
   "cell_type": "markdown",
   "id": "0692a0ce",
   "metadata": {
    "id": "0692a0ce"
   },
   "source": [
    "Выгрузим таблицу parties в датафрейм и запросим информацию о ней."
   ]
  },
  {
   "cell_type": "code",
   "execution_count": null,
   "id": "b0a93cdd",
   "metadata": {
    "id": "b0a93cdd"
   },
   "outputs": [],
   "source": [
    "parties = pd.read_sql_query(parties, con = engine)"
   ]
  },
  {
   "cell_type": "code",
   "execution_count": null,
   "id": "3e0acb1d",
   "metadata": {
    "colab": {
     "base_uri": "https://localhost:8080/"
    },
    "id": "3e0acb1d",
    "outputId": "8b26f791-1f3c-44e9-fd10-7a098ac34977"
   },
   "outputs": [],
   "source": [
    "parties.info()"
   ]
  },
  {
   "cell_type": "code",
   "execution_count": null,
   "id": "8367c77e",
   "metadata": {
    "colab": {
     "base_uri": "https://localhost:8080/",
     "height": 206
    },
    "id": "8367c77e",
    "outputId": "8e8652e2-a49c-462c-e1b1-fdcf34b94107"
   },
   "outputs": [],
   "source": [
    "parties.head(5)"
   ]
  },
  {
   "cell_type": "code",
   "execution_count": null,
   "id": "1c6352c0",
   "metadata": {
    "colab": {
     "base_uri": "https://localhost:8080/",
     "height": 300
    },
    "id": "1c6352c0",
    "outputId": "62bf23cb-32b3-4009-e4ce-2b01e61c703b"
   },
   "outputs": [],
   "source": [
    "parties.describe()"
   ]
  },
  {
   "cell_type": "markdown",
   "id": "90a1eb50",
   "metadata": {
    "id": "90a1eb50"
   },
   "source": [
    "Выгрузим таблицу vehicles в датафрейм и запросим информацию о ней."
   ]
  },
  {
   "cell_type": "code",
   "execution_count": null,
   "id": "f652d39e",
   "metadata": {
    "id": "f652d39e"
   },
   "outputs": [],
   "source": [
    "vehicles = pd.read_sql_query(vehicles, con = engine)"
   ]
  },
  {
   "cell_type": "code",
   "execution_count": null,
   "id": "7c09ddaf",
   "metadata": {
    "colab": {
     "base_uri": "https://localhost:8080/"
    },
    "id": "7c09ddaf",
    "outputId": "8807f785-7f7e-47e9-8075-a8715d0cf6f4"
   },
   "outputs": [],
   "source": [
    "vehicles.info()"
   ]
  },
  {
   "cell_type": "code",
   "execution_count": null,
   "id": "78a8cce8",
   "metadata": {
    "colab": {
     "base_uri": "https://localhost:8080/",
     "height": 206
    },
    "id": "78a8cce8",
    "outputId": "cb858b38-c6b8-4799-abf7-d65533d4b9cd"
   },
   "outputs": [],
   "source": [
    "vehicles.head(5)"
   ]
  },
  {
   "cell_type": "code",
   "execution_count": null,
   "id": "852cb8dc",
   "metadata": {
    "colab": {
     "base_uri": "https://localhost:8080/",
     "height": 300
    },
    "id": "852cb8dc",
    "outputId": "f40adb6e-aa9e-48e7-f6f8-b34700d6a75b"
   },
   "outputs": [],
   "source": [
    "vehicles.describe()"
   ]
  },
  {
   "cell_type": "markdown",
   "id": "c804b7d1",
   "metadata": {
    "id": "c804b7d1"
   },
   "source": [
    "Выгрузим таблицу case_ids в датафрейм и запросим информацию о ней."
   ]
  },
  {
   "cell_type": "code",
   "execution_count": null,
   "id": "da084e74",
   "metadata": {
    "id": "da084e74"
   },
   "outputs": [],
   "source": [
    "case_ids = pd.read_sql_query(case_ids, con = engine)"
   ]
  },
  {
   "cell_type": "code",
   "execution_count": null,
   "id": "4e7c3e20",
   "metadata": {
    "colab": {
     "base_uri": "https://localhost:8080/"
    },
    "id": "4e7c3e20",
    "outputId": "e7e61789-7e62-40a3-bf2a-953d64a18710"
   },
   "outputs": [],
   "source": [
    "case_ids.info()"
   ]
  },
  {
   "cell_type": "code",
   "execution_count": null,
   "id": "9ed0d68f",
   "metadata": {
    "colab": {
     "base_uri": "https://localhost:8080/",
     "height": 206
    },
    "id": "9ed0d68f",
    "outputId": "f07ae7eb-ba6b-4692-80a0-925c53050fec"
   },
   "outputs": [],
   "source": [
    "case_ids.head(5)"
   ]
  },
  {
   "cell_type": "markdown",
   "id": "bb862c09",
   "metadata": {
    "id": "bb862c09"
   },
   "source": [
    "Похоже, что в таблице collisions отсутствует первичный ключ. Проверим уникальность значений столбца case_id."
   ]
  },
  {
   "cell_type": "code",
   "execution_count": null,
   "id": "276e37d8",
   "metadata": {
    "colab": {
     "base_uri": "https://localhost:8080/",
     "height": 81
    },
    "id": "276e37d8",
    "outputId": "edd41533-8ec1-4a1c-cf6a-fa4ca7ed2641"
   },
   "outputs": [],
   "source": [
    "query = '''\n",
    "SELECT COUNT(case_id) AS total_ids,\n",
    "       COUNT(DISTINCT case_id) AS unique_ids\n",
    "  FROM collisions;\n",
    "'''\n",
    "df = pd.read_sql_query(query, con=engine)\n",
    "df"
   ]
  },
  {
   "cell_type": "markdown",
   "id": "ed108fa4",
   "metadata": {
    "id": "ed108fa4"
   },
   "source": [
    "Значения уникальны.\n",
    "\n",
    "Также стоит отметить, что первичный ключ в таблицах parties и vehicles не совпадает с внешним ключом к таблице case_ids, т.к. одному case_id может быть сопоставлено несколько id из этих таблиц."
   ]
  },
  {
   "cell_type": "markdown",
   "id": "18b82d34",
   "metadata": {
    "id": "18b82d34"
   },
   "source": [
    "Выводы\n",
    "\n",
    "Нам представлена БД с описанием дорожно транспортных проишествий на 4 таблицы, одна из которых является связывающей (case_ids), остальные - информационные объекты, которые несут в себе характиристики машины (Vehicles), участников (Parties) и самого проишествия (collisions). Все таблицы имеют данные, необходимые для обучения моделей и решения поставленной задачи. Наблюдений в каждой сущности свыше 1.000.000, что будет лишь положительно влиять на нашу тренировку. Мы осмотрели данные и убедились что с ними всё в порядке. Содержимое некоторых столбцов не использует буквенные сокращения, как представлено в описании. Перейдём к статистическому анализу."
   ]
  },
  {
   "cell_type": "markdown",
   "id": "700a72b0",
   "metadata": {
    "id": "700a72b0"
   },
   "source": [
    "##  Проведите статистический анализ факторов ДТП"
   ]
  },
  {
   "cell_type": "markdown",
   "id": "2a95b7b7",
   "metadata": {
    "id": "2a95b7b7"
   },
   "source": [
    "## Выявление наиболее аварийных месяцев"
   ]
  },
  {
   "cell_type": "markdown",
   "id": "86dbd11e",
   "metadata": {
    "id": "86dbd11e"
   },
   "source": [
    "Выясним, в какие месяцы происходит наибольшее количество аварий. Для этого выгрузим нужные столбцы из таблицы collisions, посчитаем количество case_id и сгруппируем по месяцам."
   ]
  },
  {
   "cell_type": "code",
   "execution_count": null,
   "id": "699f2bd6",
   "metadata": {
    "colab": {
     "base_uri": "https://localhost:8080/",
     "height": 426
    },
    "id": "699f2bd6",
    "outputId": "70e03b4a-2fe0-402e-c5f5-79aca61e0336"
   },
   "outputs": [],
   "source": [
    "query = '''\n",
    "\n",
    "SELECT DISTINCT extract(MONTH FROM cast(collision_date AS date))::int AS collision_month,\n",
    "                count(case_id) AS case_count\n",
    "FROM collisions\n",
    "GROUP BY 1\n",
    "'''\n",
    "coll_count_df = pd.read_sql_query(query, con=engine)\n",
    "coll_count_df"
   ]
  },
  {
   "cell_type": "markdown",
   "id": "d8e0ede6",
   "metadata": {
    "id": "d8e0ede6"
   },
   "source": [
    "Построим график по полученной таблице:"
   ]
  },
  {
   "cell_type": "code",
   "execution_count": null,
   "id": "2bc7394f",
   "metadata": {
    "colab": {
     "base_uri": "https://localhost:8080/",
     "height": 564
    },
    "id": "2bc7394f",
    "outputId": "e1ef2b45-563d-4977-d393-0eabc49eb59a"
   },
   "outputs": [],
   "source": [
    "plt.figure(figsize=[15,6])\n",
    "sns.lineplot(data=coll_count_df, x='collision_month', y='case_count', label='Число ДТП', color='red')\n",
    "plt.legend()\n",
    "plt.title('Число ДТП по месяцам')\n",
    "plt.xlabel('Месяц')\n",
    "plt.ylabel('Количество ДТП')\n",
    "plt.grid()\n",
    "plt.show()"
   ]
  },
  {
   "cell_type": "markdown",
   "id": "907c81c1",
   "metadata": {
    "id": "907c81c1"
   },
   "source": [
    "Наибольшее количество ДТП наблюдается в период с января по май, дальше идет резкое снижение, пик приходится на март. Такой всплеск может быть связан с неблагоприятными погодными условиями и состоянием дорог в зимне-весенний период или с разным количеством данных по месяцам, что необходимо проверить."
   ]
  },
  {
   "cell_type": "code",
   "execution_count": null,
   "id": "5547d216",
   "metadata": {
    "id": "5547d216"
   },
   "outputs": [],
   "source": [
    "query = '''\n",
    "SELECT COUNT(case_id) AS total_ids,\n",
    "       DATE_TRUNC('month', collision_date)::date AS month\n",
    "FROM collisions\n",
    "GROUP BY DATE_TRUNC('month', collision_date)\n",
    "ORDER BY DATE_TRUNC('month', collision_date);\n",
    "'''\n",
    "df = pd.read_sql_query(query, con=engine)"
   ]
  },
  {
   "cell_type": "code",
   "execution_count": null,
   "id": "6b0a5d0c",
   "metadata": {
    "colab": {
     "base_uri": "https://localhost:8080/",
     "height": 542
    },
    "id": "6b0a5d0c",
    "outputId": "0bfe2ff5-4124-47d0-d772-c25b0129d7c9"
   },
   "outputs": [],
   "source": [
    "fig = px.bar(\n",
    "    df, x='month', y='total_ids',\n",
    "    barmode='group',\n",
    "    title=('Статистика происшествий по месяцам')\n",
    ")\n",
    "fig.show()"
   ]
  },
  {
   "cell_type": "markdown",
   "id": "474d3c5f",
   "metadata": {
    "id": "474d3c5f"
   },
   "source": [
    "Из графика видно, что статистика собрана в полной мере только до мая 2012, затем в данных существенный провис.\n",
    "\n",
    "Если рассматривать зону с большим покрытием (до мая 2012), то видно несколько трендов:\n",
    "\n",
    "меньшее количество аварий происходит в январе-феврале;\n",
    "\n",
    "пик аварий все три года приходится на октябрь, что может быть связано с первыми заморозками и снегом, а также не успевшими адаптироваться водителями."
   ]
  },
  {
   "cell_type": "markdown",
   "id": "c976207c",
   "metadata": {
    "id": "c976207c"
   },
   "source": [
    "## Постановка задач для рабочей группы"
   ]
  },
  {
   "cell_type": "markdown",
   "id": "32c33f68",
   "metadata": {
    "id": "32c33f68"
   },
   "source": [
    "Список задач:\n",
    "\n",
    "1. Определить серьёзность повреждений ТС в зависимости от года выпуска автомобиля (таблицы vehicles и collisions).\n",
    "\n",
    "2. Оценить серьёзность повреждений ТС, исходя из состояния водителя (таблицы parties и collisions).\n",
    "\n",
    "3. Автомобили какого типа чаще всего попадают в дорожно-транспортные происшествия. Какие типы нарушений для них являются причинами аварий (таблицы vehicles и collisions).\n",
    "\n",
    "4. Серьёзность повреждений ТС в зависимости от года выпуска автомобиля (таблицы vehicles и collisions).\n",
    "\n",
    "5. Найти ДТП с числом участников больше 2, в которых водитель разговаривал по телефону (таблицы parties и collisions).\n",
    "\n",
    "6. Как связаны качество дорожного покрытия и тип коробки передач автомобиля, попавшего в аварию (таблицы vehicles и collisions)."
   ]
  },
  {
   "cell_type": "markdown",
   "id": "0c300bef",
   "metadata": {
    "id": "0c300bef"
   },
   "source": [
    "Решение задачи \"Определить серьёзность повреждений ТС в зависимости от года выпуска автомобиля\"."
   ]
  },
  {
   "cell_type": "code",
   "execution_count": null,
   "id": "866adc64",
   "metadata": {
    "id": "866adc64"
   },
   "outputs": [],
   "source": [
    "query = '''\n",
    "SELECT c.collision_damage,\n",
    "       v.vehicle_age\n",
    "  FROM collisions AS c\n",
    "       JOIN vehicles AS v ON c.case_id = v.case_id;\n",
    "'''\n",
    "df = pd.read_sql_query(query, con=engine)"
   ]
  },
  {
   "cell_type": "markdown",
   "id": "c144c302",
   "metadata": {
    "id": "c144c302"
   },
   "source": [
    "Уберем возраст автомобилей старше 20 лет."
   ]
  },
  {
   "cell_type": "code",
   "execution_count": null,
   "id": "a11b0557",
   "metadata": {
    "id": "a11b0557"
   },
   "outputs": [],
   "source": [
    "df.drop(index=df[df['vehicle_age'] > 20].index, inplace=True)"
   ]
  },
  {
   "cell_type": "code",
   "execution_count": null,
   "id": "387ed2e4",
   "metadata": {
    "colab": {
     "base_uri": "https://localhost:8080/",
     "height": 1000
    },
    "id": "387ed2e4",
    "outputId": "7935455b-ad82-4f4d-d89a-9f1f96680d10"
   },
   "outputs": [],
   "source": [
    "fig = px.histogram(\n",
    "    df, x='vehicle_age', color='collision_damage',\n",
    "    barmode='group',\n",
    "    title='Зависимость тяжести ДТП от возраста ТС (количество)',\n",
    "    histfunc='count',\n",
    "    category_orders={\n",
    "        'collision_damage': ['fatal', 'severe damage', 'middle damage', 'small damage', 'scratch']\n",
    "    }\n",
    ")\n",
    "fig2 = px.histogram(\n",
    "    df, x='vehicle_age', color='collision_damage',\n",
    "    barmode='group',\n",
    "    title='Зависимость тяжести ДТП от возраста ТС (проценты)',\n",
    "    histfunc='count',\n",
    "    histnorm='percent',\n",
    "    category_orders={\n",
    "        'collision_damage': ['fatal', 'severe damage', 'middle damage', 'small damage', 'scratch']\n",
    "    }\n",
    ")\n",
    "fig.show()\n",
    "fig2.show()"
   ]
  },
  {
   "cell_type": "markdown",
   "id": "0d7153b5",
   "metadata": {
    "id": "0d7153b5"
   },
   "source": [
    "Из гистограмм мы можем сделать следующие выводы:\n",
    "\n",
    "Начиная с третьего года владения ТС доля аварий с незначительными повреждениями scratch сильно вырастает, что может быть связано с тем что автомобилисты бережней относятся к явно более новым машинам.\n",
    "\n",
    "Начиная с четвертого года владения увеличивается доля ДТП с фатальными повреждениями.\n",
    "\n",
    "С возрастом постепенно меняется соотношение типов аварий, становится меньше лёгких и больше тяжёлых аварий, возможно, сказывается техническое состояние автомобилей."
   ]
  },
  {
   "cell_type": "markdown",
   "id": "de154323",
   "metadata": {
    "id": "de154323"
   },
   "source": [
    "Решение задачи \"Оценить серьёзность повреждений ТС, исходя из состояния водителя\"."
   ]
  },
  {
   "cell_type": "code",
   "execution_count": null,
   "id": "640329c7",
   "metadata": {
    "id": "640329c7"
   },
   "outputs": [],
   "source": [
    "query = '''\n",
    "SELECT c.collision_damage,\n",
    "       p.party_drug_physical\n",
    "FROM collisions AS c\n",
    "JOIN parties AS p ON c.case_id = p.case_id\n",
    "WHERE p.party_drug_physical IN ('not applicable', 'G');\n",
    "'''\n",
    "df = pd.read_sql_query(query, con=engine)"
   ]
  },
  {
   "cell_type": "code",
   "execution_count": null,
   "id": "bb5db615",
   "metadata": {
    "colab": {
     "base_uri": "https://localhost:8080/",
     "height": 542
    },
    "id": "bb5db615",
    "outputId": "da30b0f8-fc0b-4ae7-f93f-809153e578e0"
   },
   "outputs": [],
   "source": [
    "fig = px.histogram(\n",
    "    df, x='party_drug_physical', color='collision_damage',\n",
    "    barmode='group',\n",
    "    title='Зависимость тяжести ДТП от физического состояния водителя (количество)',\n",
    "    histfunc='count',\n",
    "    category_orders={\n",
    "        'collision_damage': ['fatal', 'severe damage', 'middle damage', 'small damage', 'scratch']\n",
    "    }\n",
    ")\n",
    "fig.show()"
   ]
  },
  {
   "cell_type": "markdown",
   "id": "f27c95b0",
   "metadata": {
    "id": "f27c95b0"
   },
   "source": [
    "В случаях, когда состояние о физическом состоянии неизвестно или не оценивалось - статистика видов повреждения очень похожа. Большая часть аварий заканчивается малыми повреждениями или царапинами."
   ]
  },
  {
   "cell_type": "code",
   "execution_count": null,
   "id": "b68ea8e6",
   "metadata": {
    "id": "b68ea8e6"
   },
   "outputs": [],
   "source": [
    "query = '''\n",
    "SELECT c.collision_damage,\n",
    "       p.party_drug_physical\n",
    "FROM collisions AS c\n",
    "JOIN parties AS p ON c.case_id = p.case_id\n",
    "WHERE p.party_drug_physical IN ('under drug influence', 'sleepy/fatigued', 'impairment - physical');\n",
    "'''\n",
    "df = pd.read_sql_query(query, con=engine)"
   ]
  },
  {
   "cell_type": "code",
   "execution_count": null,
   "id": "11ebba77",
   "metadata": {
    "colab": {
     "base_uri": "https://localhost:8080/",
     "height": 1000
    },
    "id": "11ebba77",
    "outputId": "0ac42fad-aee8-403f-fcf5-47a2afdbe64d"
   },
   "outputs": [],
   "source": [
    "fig = px.histogram(\n",
    "    df, x='party_drug_physical', color='collision_damage',\n",
    "    barmode='group',\n",
    "    title='Зависимость тяжести ДТП от физического состояния водителя (количество)',\n",
    "    histfunc='count',\n",
    "    category_orders={\n",
    "        'collision_damage': ['fatal', 'severe damage', 'middle damage', 'small damage', 'scratch']\n",
    "    }\n",
    ")\n",
    "fig2 = px.histogram(\n",
    "    df, x='party_drug_physical', color='collision_damage',\n",
    "    barmode='group',\n",
    "    title='Зависимость тяжести ДТП от физического состояния водителя (проценты)',\n",
    "    histfunc='count',\n",
    "    histnorm='percent',\n",
    "    category_orders={\n",
    "        'collision_damage': ['fatal', 'severe damage', 'middle damage', 'small damage', 'scratch']\n",
    "    }\n",
    ")\n",
    "fig.show()\n",
    "fig2.show()"
   ]
  },
  {
   "cell_type": "markdown",
   "id": "c347064d",
   "metadata": {
    "id": "c347064d"
   },
   "source": [
    "Количество аварий с фатальными повреждениями ТС существенно выше в случае если водитель находится под воздействием лекарств (на них приходится больше 90% всех случаев), усталость и сонливость почти не влияют на риск ДТП с тяжёлыми последствиями. Количество ДТП с участниками под лекарственными веществами и в сонном состоянии в количественном соотношении равны. Количество ДТП связанных с ухудшением физического состояния ощутимо меньше. В целом соотношение типов ДТП совпадает за исключением процента тяжёлых транспортных проишествий."
   ]
  },
  {
   "cell_type": "markdown",
   "id": "46f55e7d",
   "metadata": {
    "id": "46f55e7d"
   },
   "source": [
    "## Создайте модель для оценки водительского риска"
   ]
  },
  {
   "cell_type": "markdown",
   "id": "98f49482",
   "metadata": {
    "id": "98f49482"
   },
   "source": [
    "## Выявление признаков и выгрузка данных"
   ]
  },
  {
   "cell_type": "markdown",
   "id": "a89654ca",
   "metadata": {
    "id": "a89654ca"
   },
   "source": [
    "Выгрузим данные по заданию заказчика:\n",
    "\n",
    "тип виновника - car;\n",
    "\n",
    "степень повреждений ТС - все кроме scratch;\n",
    "\n",
    "дата столкновения - 2012 год."
   ]
  },
  {
   "cell_type": "code",
   "execution_count": null,
   "id": "3892e360",
   "metadata": {
    "colab": {
     "base_uri": "https://localhost:8080/",
     "height": 206
    },
    "id": "3892e360",
    "outputId": "93f08174-5d4c-4899-b3f9-c71a1c2a20bd"
   },
   "outputs": [],
   "source": [
    "query = \"\"\"\n",
    "    SELECT\n",
    "        c.weather_1,\n",
    "        c.road_surface,\n",
    "        c.road_condition_1,\n",
    "        c.lighting,\n",
    "        p.party_sobriety,\n",
    "        p.party_drug_physical,\n",
    "        p.cellphone_in_use,\n",
    "        p.at_fault,\n",
    "        p.case_id,\n",
    "        v.vehicle_age,\n",
    "        v.vehicle_transmission\n",
    "    FROM\n",
    "        collisions c\n",
    "    JOIN\n",
    "        parties p ON c.case_id = p.case_id\n",
    "    JOIN\n",
    "        vehicles v ON p.case_id = v.case_id AND p.party_number = v.party_number\n",
    "    WHERE\n",
    "        p.party_type = 'car'\n",
    "        AND c.collision_damage != 'scratch'\n",
    "        AND EXTRACT(YEAR FROM c.collision_date) = 2012\n",
    "\"\"\"\n",
    "\n",
    "df = pd.read_sql(query, engine)\n",
    "df.head(5)"
   ]
  },
  {
   "cell_type": "code",
   "execution_count": null,
   "id": "54aa4557",
   "metadata": {
    "colab": {
     "base_uri": "https://localhost:8080/"
    },
    "id": "54aa4557",
    "outputId": "810aecb4-627f-4b6a-a21f-5c9aada505cd",
    "scrolled": true
   },
   "outputs": [],
   "source": [
    "df.info()"
   ]
  },
  {
   "cell_type": "markdown",
   "id": "2b1bc5a5",
   "metadata": {
    "id": "2b1bc5a5"
   },
   "source": [
    "Учитывая набор данных и характер вождения, на вероятность аварии могут повлиять следующие факторы:\n",
    "\n",
    "weather_1: погодные условия могут существенно повлиять на безопасность вождения;\n",
    "\n",
    "road_surface: состояние дорожного покрытия может повлиять на сцепление и устойчивость;\n",
    "\n",
    "road_condition_1: дорожные условия, такие как влажная, обледенелая или строящаяся дорога, могут влиять на риск вождения;\n",
    "\n",
    "lighting: плохое освещение может ухудшить видимость и повысить риск несчастных случаев;\n",
    "\n",
    "party_sobriety: уровень трезвости водителя является решающим фактором безопасности вождения;\n",
    "\n",
    "party_drug_physical: влияние наркотиков или физическое состояние водителя могут ухудшить его способности к вождению;\n",
    "\n",
    "cellphone_in_use: использование мобильного телефона во время вождения может отвлекать водителя;\n",
    "\n",
    "vehicle_age: в старых автомобилях могут отсутствовать современные функции безопасности, что увеличивает риск;\n",
    "\n",
    "vehicle_transmission: тип коробки передач может влиять на стиль вождения и время реакции."
   ]
  },
  {
   "cell_type": "markdown",
   "id": "46701aa3",
   "metadata": {
    "id": "46701aa3"
   },
   "source": [
    "Обработка пропущенных значений требует решений, специфичных для предметной области. Вот общий подход, который мы можем использовать, исходя из недостающего процента пропущенных значений:\n",
    "\n",
    "Удаление столбцов. Для столбцов с высоким процентом пропущенных значений (например, party_drug_physical) может иметь смысл вообще удалить столбец, особенно если уровень пропущенных данных превышает 90%.\n",
    "\n",
    "Заполнить с помощью наиболее частого значения: для категориальных переменных с более низким процентом пропущенных значений мы можем заполнить пропущенные значения с помощью mode (наиболее частого значения) столбца.\n",
    "\n",
    "Заполнить медианой: для непрерывных переменных, таких как vehicle_age, мы можем заполнить недостающие значения медианой столбца.\n",
    "\n",
    "Особые случаи: для таких столбцов, как cellphone_in_use, которые выглядят как двоичный индикатор (0 или 1), возможно, имеет смысл рассматривать пропущенные значения как «неизвестные» или заполнять специальным значением."
   ]
  },
  {
   "cell_type": "code",
   "execution_count": null,
   "id": "d149b399",
   "metadata": {
    "colab": {
     "base_uri": "https://localhost:8080/"
    },
    "id": "d149b399",
    "outputId": "2cad14a1-c5ee-4c77-9597-0cb6236c7e28"
   },
   "outputs": [],
   "source": [
    "df = df.drop(columns=['party_drug_physical'])\n",
    "\n",
    "categorical_columns = ['weather_1', 'road_surface', 'road_condition_1', 'lighting', 'party_sobriety', 'vehicle_transmission']\n",
    "for column in categorical_columns:\n",
    "    mode_value = df[column].mode()[0]\n",
    "    df[column] = df[column].fillna(mode_value)\n",
    "\n",
    "df['vehicle_age'] = df['vehicle_age'].fillna(df['vehicle_age'].median())\n",
    "\n",
    "# Для «cellphone_in_use» заполним пропущенные значения специальным значением (2), указывающим «неизвестно».\n",
    "df['cellphone_in_use'] = df['cellphone_in_use'].fillna(2)\n",
    "\n",
    "remaining_missing = df.isnull().sum()\n",
    "remaining_missing"
   ]
  },
  {
   "cell_type": "markdown",
   "id": "c9601149",
   "metadata": {},
   "source": [
    "Проверим дубликаты."
   ]
  },
  {
   "cell_type": "code",
   "execution_count": null,
   "id": "3f9b3dfd",
   "metadata": {},
   "outputs": [],
   "source": [
    "df.duplicated().sum()"
   ]
  },
  {
   "cell_type": "markdown",
   "id": "ee37a7e5",
   "metadata": {},
   "source": [
    "Удалим дубликаты."
   ]
  },
  {
   "cell_type": "code",
   "execution_count": null,
   "id": "a9959da1",
   "metadata": {},
   "outputs": [],
   "source": [
    "df.drop_duplicates(inplace=True, ignore_index=True)"
   ]
  },
  {
   "cell_type": "code",
   "execution_count": null,
   "id": "53e6efe9",
   "metadata": {},
   "outputs": [],
   "source": [
    "df = df.drop(columns=['case_id'])"
   ]
  },
  {
   "cell_type": "markdown",
   "id": "0d03332f",
   "metadata": {
    "id": "0d03332f"
   },
   "source": [
    "Переименуем столбцы к принятому виду."
   ]
  },
  {
   "cell_type": "code",
   "execution_count": null,
   "id": "95385da5",
   "metadata": {
    "id": "95385da5"
   },
   "outputs": [],
   "source": [
    "df.rename(columns={'weather_1':'weather', 'road_condition_1':'road_condition'}, inplace=True)"
   ]
  },
  {
   "cell_type": "code",
   "execution_count": null,
   "id": "ebf86b33",
   "metadata": {
    "colab": {
     "base_uri": "https://localhost:8080/",
     "height": 803,
     "referenced_widgets": [
      "8dbacfd344b34eb5b5f358af80f675d5",
      "cdc018e7e81d40d4a494b45f25d09f4c",
      "bc5a1a7a1d454a68b5f10d8753534f17",
      "ef8901ab842a4ffc8637eb506fc33ba6",
      "915e482c103d401eb3399c1b6b36df44",
      "ad9f2723bf894c4b96d0046facbe9d7b",
      "ff9e666a687e4b45b01fcec5f4e95ef3",
      "c3cec9c912194cb8b5d54a39d300de7f",
      "f84b4be704d446f59f9bfde0987effac",
      "418afcc22b9447e7aadafbb3ce2f40bb",
      "4fae08f33b624c688ea4b16e537ab76b"
     ]
    },
    "id": "ebf86b33",
    "outputId": "ebce1181-28da-4fd6-ffdb-2b6b69746f54"
   },
   "outputs": [],
   "source": [
    "my_report = sv.analyze(df)\n",
    "my_report.show_notebook(  w=None,\n",
    "                h=None,\n",
    "                scale=None,\n",
    "                layout='widescreen',\n",
    "                filepath=None)"
   ]
  },
  {
   "cell_type": "markdown",
   "id": "20d311a9",
   "metadata": {
    "id": "20d311a9"
   },
   "source": [
    "Выводы из графиков:\n",
    "\n",
    "weather_1: Большинство несчастных случаев происходит в ясную погоду, что вполне ожидаемо, поскольку ясная погода является наиболее распространенным явлением;\n",
    "\n",
    "road_surface: Судя по всему, на сухих дорогах происходит большинство аварий, что на первый взгляд может показаться нелогичным. Однако это может быть связано с тем, что большая часть вождения приходится на засушливые дни;\n",
    "\n",
    "road_condition_1: Аналогично, большинство аварий происходит на дорогах без ям;\n",
    "\n",
    "lighting: при дневном свете происходит наибольшее количество аварий, за ним следует темнота c уличным освещением;\n",
    "\n",
    "party_sobriety: В большинстве аварий участвуют водители, не употреблявшие алкоголь. Однако это также может быть связано с тем, что большинство водителей на дороге трезвы;\n",
    "\n",
    "cellphone_in_use: Небольшая часть ДТП связана с использованием мобильного телефона;\n",
    "\n",
    "vehicle_transmission: Автомобили с автоматической коробкой передач участвуют в большем количестве аварий, но это может быть связано с преобладанием автомобилей с автоматической коробкой передач;\n",
    "\n",
    "vehicle_age: В большинстве аварий участвуют автомобили возрастом от 0 до 10 лет, с пиком около 2-3 лет.\n",
    "\n",
    "Наблюдения и корректировки:\n",
    "\n",
    "Важными факторами могут быть погода, дорожное покрытие и освещение. Несмотря на то, что большинство аварий происходит в ясную погоду и на сухих дорогах, это связано с тем, что такие условия являются наиболее распространенными. Чтобы получить истинную картину, нам нужно будет нормализовать общее количество поездок в каждом состоянии;\n",
    "\n",
    "Трезвость являются решающим фактором. Несмотря на то, что в большинстве аварий участвуют трезвые водители, важно понимать соотношение трезвых и нетрезвых водителей на дороге;\n",
    "\n",
    "Использование мобильных телефонов, хотя и меньшинство, может быть важным фактором, учитывая потенциальное отвлечение;\n",
    "\n",
    "Возраст автомобиля также может играть роль: новые автомобили могут иметь лучшие функции безопасности, но на них также чаще ездят."
   ]
  },
  {
   "cell_type": "code",
   "execution_count": null,
   "id": "c13815d5",
   "metadata": {
    "colab": {
     "base_uri": "https://localhost:8080/",
     "height": 112
    },
    "id": "c13815d5",
    "outputId": "ab2106ae-2ff3-424d-a59f-3190cf5b6e6a",
    "scrolled": true
   },
   "outputs": [],
   "source": [
    "df.head(2)"
   ]
  },
  {
   "cell_type": "code",
   "execution_count": null,
   "id": "659d57cf",
   "metadata": {
    "id": "659d57cf"
   },
   "outputs": [],
   "source": [
    "numeric = [\n",
    "    'at_fault', 'vehicle_age', 'cellphone_in_use'\n",
    "]\n",
    "\n",
    "category = [\n",
    "    'party_sobriety',\n",
    "    'vehicle_transmission',\n",
    "    'weather',\n",
    "    'road_surface', 'lighting', 'road_condition'\n",
    "]\n",
    "\n",
    "df = df.astype({\n",
    "    **{_:'int' for _ in numeric},\n",
    "    **{_:'category' for _ in category}\n",
    "})"
   ]
  },
  {
   "cell_type": "code",
   "execution_count": null,
   "id": "5b068e01",
   "metadata": {
    "colab": {
     "base_uri": "https://localhost:8080/"
    },
    "id": "5b068e01",
    "outputId": "7f5ccb44-3306-404c-c7c4-084950b91ee8"
   },
   "outputs": [],
   "source": [
    "df.info()"
   ]
  },
  {
   "cell_type": "code",
   "execution_count": null,
   "id": "3d57d192",
   "metadata": {
    "id": "3d57d192"
   },
   "outputs": [],
   "source": [
    "df_copy = df.copy()"
   ]
  },
  {
   "cell_type": "markdown",
   "id": "2c021393",
   "metadata": {
    "id": "2c021393"
   },
   "source": [
    "Разделим данные на обучающие и тестовые для features(X) и target(y)."
   ]
  },
  {
   "cell_type": "code",
   "execution_count": null,
   "id": "4f5cf685",
   "metadata": {
    "id": "4f5cf685"
   },
   "outputs": [],
   "source": [
    "X = df.drop(['at_fault'], axis=1)\n",
    "y = df['at_fault']\n",
    "\n",
    "X, X_test, y, y_test = train_test_split(\n",
    "    X, y,\n",
    "    test_size=.2,\n",
    "    random_state=SEED,\n",
    "    stratify=y\n",
    ")"
   ]
  },
  {
   "cell_type": "markdown",
   "id": "af973555",
   "metadata": {
    "id": "af973555"
   },
   "source": [
    "Проверим корректность разделения на выборки."
   ]
  },
  {
   "cell_type": "code",
   "execution_count": null,
   "id": "dc1a9c6b",
   "metadata": {
    "colab": {
     "base_uri": "https://localhost:8080/"
    },
    "id": "dc1a9c6b",
    "outputId": "2b7e8745-e3d1-4357-cedf-6cf3ab813cb2"
   },
   "outputs": [],
   "source": [
    "print(f'Доля тренировочных признаков: {X.shape[0]/df.shape[0]:.2f}')\n",
    "print(f'Доля тренировочных целей: {y.shape[0]/df.shape[0]:.2f}')\n",
    "print(f'Доля тестовых признаков: {X_test.shape[0]/df.shape[0]:.2f}')\n",
    "print(f'Доля тестовых целей: {y_test.shape[0]/df.shape[0]:.2f}')\n",
    "print(f'Доля положительных целей на тренировочных данных: {y.astype(\"int\").mean():.2f}')\n",
    "print(f'Доля положительных целей на тестовых данных: {y_test.astype(\"int\").mean():.2f}')"
   ]
  },
  {
   "cell_type": "markdown",
   "id": "1112c5bd",
   "metadata": {
    "id": "1112c5bd"
   },
   "source": [
    "Выводы\n",
    "\n",
    "Мы подготовили набор данных на основе требований заказчика. Обработали данные: убрали аномалии, почистили, заполнили где это возможно. Избавились от пропусков и дубликатов, поменяли типы данных на более рациональные, что позволило значительно уменьшить размер базы данных.\n",
    "\n",
    "Можно переходить к работе с моделями машинного обучения."
   ]
  },
  {
   "cell_type": "markdown",
   "id": "324d1009",
   "metadata": {
    "id": "324d1009"
   },
   "source": [
    "## Найдём лучшую модель"
   ]
  },
  {
   "cell_type": "markdown",
   "id": "4832b440",
   "metadata": {
    "id": "4832b440"
   },
   "source": [
    "Смоделируем не менее 3-х типов моделей с перебором гиперпараметров. 3 модели из классического машинного обучения; 1 модель из бустингов. Оформим вывод в виде сравнительной таблицы."
   ]
  },
  {
   "cell_type": "markdown",
   "id": "f5280b6c",
   "metadata": {},
   "source": [
    "В данном исследовании стоит задача бинарной классификации, для неё подходят следующие метрики оценки качества моделей: precision, recall и f1 мера.\n",
    "\n",
    "Precision можно интерпретировать как долю объектов, названных классификатором положительными и при этом действительно являющимися положительными.\n",
    "\n",
    "Recall показывает, какую долю объектов положительного класса из всех объектов положительного класса нашел алгоритм.\n",
    "\n",
    "Так как у нас необходимо угадать будет ли являться наш клиент виновником проишествия, то мы выберем метрику f1 как основную, так как она связывает отношение между precision и recall."
   ]
  },
  {
   "cell_type": "markdown",
   "id": "4252292b",
   "metadata": {
    "id": "4252292b"
   },
   "source": [
    "### DummyClassifier"
   ]
  },
  {
   "cell_type": "code",
   "execution_count": null,
   "id": "925bdd17",
   "metadata": {
    "colab": {
     "base_uri": "https://localhost:8080/"
    },
    "id": "925bdd17",
    "outputId": "28d50965-d710-41ad-f75b-efb0575a634e"
   },
   "outputs": [],
   "source": [
    "%%time\n",
    "\n",
    "model_dc = DummyClassifier(strategy='most_frequent')\n",
    "model_dc.fit(X, y)\n",
    "prediction_dc = model_dc.predict(X_test)"
   ]
  },
  {
   "cell_type": "code",
   "execution_count": null,
   "id": "48f32361",
   "metadata": {
    "colab": {
     "base_uri": "https://localhost:8080/",
     "height": 206
    },
    "id": "48f32361",
    "outputId": "0f568242-0eb3-494b-8f9f-7877778e55cb"
   },
   "outputs": [],
   "source": [
    "cr_dc = classification_report(\n",
    "    y_test, prediction_dc,\n",
    "    output_dict=True, zero_division=0\n",
    ")\n",
    "\n",
    "results = {} # словарь со сводными результатами для всех моделей\n",
    "results['Dummy Classifier (most frequent)'] = cr_dc['weighted avg']\n",
    "\n",
    "pd.DataFrame(cr_dc).round(decimals=3).transpose()"
   ]
  },
  {
   "cell_type": "markdown",
   "id": "05b66582",
   "metadata": {
    "id": "05b66582"
   },
   "source": [
    "Результат неудовлетворительный. Посмотрим на модель логистической регрессии."
   ]
  },
  {
   "cell_type": "markdown",
   "id": "6e833f02",
   "metadata": {
    "id": "6e833f02"
   },
   "source": [
    "### LogisticRegression"
   ]
  },
  {
   "cell_type": "markdown",
   "id": "10d1be5c",
   "metadata": {
    "id": "10d1be5c"
   },
   "source": [
    "Создадим трансформер для различных колонок, в случае с \"линейными\" моделями к категориальным применим OHE, к числовым - StandardScaler."
   ]
  },
  {
   "cell_type": "code",
   "execution_count": null,
   "id": "b688ec29",
   "metadata": {
    "id": "b688ec29"
   },
   "outputs": [],
   "source": [
    "linear_transformer = make_column_transformer(\n",
    "    (\n",
    "        OneHotEncoder(\n",
    "            dtype='uint8',\n",
    "            handle_unknown='ignore', drop='first'\n",
    "        ), make_column_selector(dtype_include=['category', 'object'])\n",
    "    ),\n",
    "    (\n",
    "        StandardScaler(\n",
    "        ), make_column_selector(dtype_include='number')\n",
    "    ),\n",
    "    remainder='passthrough'\n",
    ")"
   ]
  },
  {
   "cell_type": "markdown",
   "id": "f6b12538",
   "metadata": {
    "id": "f6b12538"
   },
   "source": [
    "Соберём pipeline для линейной регрессии."
   ]
  },
  {
   "cell_type": "code",
   "execution_count": null,
   "id": "d1be7f88",
   "metadata": {
    "id": "d1be7f88"
   },
   "outputs": [],
   "source": [
    "pipe_lr = make_pipeline(\n",
    "    linear_transformer,\n",
    "    LogisticRegression(\n",
    "        class_weight='balanced',\n",
    "        random_state=SEED,\n",
    "        n_jobs=-1\n",
    "    )\n",
    ")"
   ]
  },
  {
   "cell_type": "markdown",
   "id": "515a9c64",
   "metadata": {
    "id": "515a9c64"
   },
   "source": [
    "Зададим сетку параметров и создадим estimator."
   ]
  },
  {
   "cell_type": "code",
   "execution_count": null,
   "id": "125b6a26",
   "metadata": {
    "id": "125b6a26"
   },
   "outputs": [],
   "source": [
    "scoring = {'PRECISION': 'precision', 'F1': 'f1', 'RECALL': 'recall'}\n",
    "\n",
    "param_grid = {\n",
    "    'logisticregression__solver':['newton-cg', 'lbfgs', 'liblinear', 'sag', 'saga'],\n",
    "    'logisticregression__C':[.001, .01],\n",
    "    'logisticregression__max_iter':[500, 1000]\n",
    "}\n",
    "\n",
    "gs_lr = GridSearchCV(\n",
    "    pipe_lr,\n",
    "    param_grid,\n",
    "    scoring=scoring,\n",
    "    refit = 'F1',\n",
    "    return_train_score=True,\n",
    "    n_jobs=-1,\n",
    "    verbose=1\n",
    ")"
   ]
  },
  {
   "cell_type": "markdown",
   "id": "7bb1a06f",
   "metadata": {
    "id": "7bb1a06f"
   },
   "source": [
    "Проведём обучение с кросс-валидацией выбранного оценщика."
   ]
  },
  {
   "cell_type": "code",
   "execution_count": null,
   "id": "d0e40c06",
   "metadata": {
    "colab": {
     "base_uri": "https://localhost:8080/"
    },
    "id": "d0e40c06",
    "outputId": "c691d323-9987-46c4-e939-4a62fb96f2a4"
   },
   "outputs": [],
   "source": [
    "%time gs_lr.fit(X, y)\n",
    "None"
   ]
  },
  {
   "cell_type": "code",
   "execution_count": null,
   "id": "eb9ac56f",
   "metadata": {},
   "outputs": [],
   "source": [
    "best_params = gs_lr.best_params_\n",
    "best_estimator = gs_lr.best_estimator_\n",
    "best_score = gs_lr.best_score_\n",
    "print(best_params)\n",
    "print(best_estimator) \n",
    "print(best_score)  "
   ]
  },
  {
   "cell_type": "code",
   "execution_count": null,
   "id": "31304658",
   "metadata": {},
   "outputs": [],
   "source": [
    "scores = pd.DataFrame(gs_lr.cv_results_)\n",
    "scores.head(2)"
   ]
  },
  {
   "cell_type": "code",
   "execution_count": null,
   "id": "a6e22b4b",
   "metadata": {},
   "outputs": [],
   "source": [
    "print(gs_lr.cv_results_['split0_test_PRECISION'][gs_lr.best_index_], gs_lr.cv_results_['mean_test_RECALL'][gs_lr.best_index_], gs_lr.cv_results_['split0_train_RECALL'][gs_lr.best_index_])"
   ]
  },
  {
   "cell_type": "markdown",
   "id": "9e4eba75",
   "metadata": {
    "id": "9e4eba75"
   },
   "source": [
    "Посмотрим на результаты лучшей модели и залогируем результат."
   ]
  },
  {
   "cell_type": "markdown",
   "id": "441ac78b",
   "metadata": {
    "id": "441ac78b"
   },
   "source": [
    "### RandomForestClassifier"
   ]
  },
  {
   "cell_type": "markdown",
   "id": "90a813a8",
   "metadata": {
    "id": "90a813a8"
   },
   "source": [
    "Создадим трансформер для различных колонок, в случае с \"деревянными моделями\" к категориальным применим OE, числовые оставим как есть."
   ]
  },
  {
   "cell_type": "code",
   "execution_count": null,
   "id": "0ab59a91",
   "metadata": {
    "id": "0ab59a91"
   },
   "outputs": [],
   "source": [
    "ensemble_transformer = make_column_transformer(\n",
    "    (\n",
    "        OrdinalEncoder(\n",
    "            dtype='int16',\n",
    "            handle_unknown='use_encoded_value',\n",
    "            unknown_value=-1\n",
    "        ), make_column_selector(dtype_include=['category', 'object'])\n",
    "    ),\n",
    "    remainder='passthrough'\n",
    ")"
   ]
  },
  {
   "cell_type": "markdown",
   "id": "f90e7942",
   "metadata": {
    "id": "f90e7942"
   },
   "source": [
    "Создадим pipeline для классификатора RandomForestClassifier()."
   ]
  },
  {
   "cell_type": "code",
   "execution_count": null,
   "id": "08a22819",
   "metadata": {
    "id": "08a22819"
   },
   "outputs": [],
   "source": [
    "pipe_rf = make_pipeline(\n",
    "    ensemble_transformer,\n",
    "    RandomForestClassifier(\n",
    "        random_state=SEED,\n",
    "        n_jobs=-1,\n",
    "        class_weight='balanced',\n",
    "        verbose=0\n",
    "    )\n",
    ")"
   ]
  },
  {
   "cell_type": "markdown",
   "id": "fbb1b00f",
   "metadata": {
    "id": "fbb1b00f"
   },
   "source": [
    "Зададим сетку параметров и создадим estimator."
   ]
  },
  {
   "cell_type": "code",
   "execution_count": null,
   "id": "d291243d",
   "metadata": {
    "id": "d291243d"
   },
   "outputs": [],
   "source": [
    "param_grid = {\n",
    "    'randomforestclassifier__n_estimators':np.arange(100, 151, 50),\n",
    "    'randomforestclassifier__max_depth':np.arange(1, 10, 2),\n",
    "}\n",
    "\n",
    "gs_rf = GridSearchCV(\n",
    "    pipe_rf,\n",
    "    param_grid,\n",
    "    scoring=scoring,\n",
    "    refit = 'F1',\n",
    "    return_train_score=True,\n",
    "    n_jobs=-1,\n",
    "    verbose=1\n",
    ")"
   ]
  },
  {
   "cell_type": "markdown",
   "id": "f64d0d15",
   "metadata": {
    "id": "f64d0d15"
   },
   "source": [
    "Проведём обучение с кросс-валидацией выбранного оценщика."
   ]
  },
  {
   "cell_type": "code",
   "execution_count": null,
   "id": "e1f5bbea",
   "metadata": {
    "colab": {
     "base_uri": "https://localhost:8080/"
    },
    "id": "e1f5bbea",
    "outputId": "cbaa61f1-3a9c-4d50-c94f-43ad0a295085"
   },
   "outputs": [],
   "source": [
    "%time gs_rf.fit(X, y)\n",
    "None"
   ]
  },
  {
   "cell_type": "markdown",
   "id": "3d8b7366",
   "metadata": {
    "id": "3d8b7366"
   },
   "source": [
    "Посмотрим на результаты лучшей модели и залогируем результат."
   ]
  },
  {
   "cell_type": "code",
   "execution_count": null,
   "id": "51a8a102",
   "metadata": {},
   "outputs": [],
   "source": [
    "best_params = gs_rf.best_params_\n",
    "best_estimator = gs_rf.best_estimator_\n",
    "best_score = gs_rf.best_score_\n",
    "print(best_params)\n",
    "print(best_estimator) \n",
    "print(best_score)  "
   ]
  },
  {
   "cell_type": "code",
   "execution_count": null,
   "id": "e039d6c4",
   "metadata": {},
   "outputs": [],
   "source": [
    "scores = pd.DataFrame(gs_rf.cv_results_)\n",
    "scores.head(2)"
   ]
  },
  {
   "cell_type": "code",
   "execution_count": null,
   "id": "4100bf42",
   "metadata": {},
   "outputs": [],
   "source": [
    "print(gs_rf.cv_results_['split0_test_PRECISION'][gs_rf.best_index_], gs_rf.cv_results_['mean_test_RECALL'][gs_rf.best_index_], gs_rf.cv_results_['split0_train_RECALL'][gs_rf.best_index_])"
   ]
  },
  {
   "cell_type": "markdown",
   "id": "f52b7b94",
   "metadata": {
    "id": "f52b7b94"
   },
   "source": [
    "Результаты сходные с логистической регрессией."
   ]
  },
  {
   "cell_type": "markdown",
   "id": "b9db38b5",
   "metadata": {
    "id": "b9db38b5"
   },
   "source": [
    "### LightGBM"
   ]
  },
  {
   "cell_type": "markdown",
   "id": "f9daca8c",
   "metadata": {
    "id": "f9daca8c"
   },
   "source": [
    "Для работы с библиотекой необходимо перевести все категориальные признаки в целые числа. Воспользуемся определённым ранее трансформером для ансамблей.\n",
    "\n",
    "Создадим pipeline для классификатора LightGBM."
   ]
  },
  {
   "cell_type": "code",
   "execution_count": null,
   "id": "b66b1a6a",
   "metadata": {
    "id": "b66b1a6a"
   },
   "outputs": [],
   "source": [
    "pipe_gbm = make_pipeline(\n",
    "    ensemble_transformer,\n",
    "    lgb.LGBMClassifier(\n",
    "        objective='binary',\n",
    "        metric='f1',\n",
    "        n_jobs=-1,\n",
    "        verbosity=-1,\n",
    "        random_state=SEED\n",
    "    )\n",
    ")"
   ]
  },
  {
   "cell_type": "markdown",
   "id": "b8f1447a",
   "metadata": {
    "id": "b8f1447a"
   },
   "source": [
    "Зададим сетку параметров и создадим estimator."
   ]
  },
  {
   "cell_type": "code",
   "execution_count": null,
   "id": "3b65172e",
   "metadata": {
    "id": "3b65172e"
   },
   "outputs": [],
   "source": [
    "param_grid = {\n",
    "    'lgbmclassifier__max_depth':[-1, 10, 20],\n",
    "    'lgbmclassifier__num_leaves':[10, 31],\n",
    "    'lgbmclassifier__learning_rate':[.1, .5]\n",
    "}\n",
    "\n",
    "gs_gbm = GridSearchCV(\n",
    "    pipe_gbm,\n",
    "    param_grid,\n",
    "    scoring=scoring,\n",
    "    refit = 'F1',\n",
    "    return_train_score=True,\n",
    "    n_jobs=-1,\n",
    "    verbose=1\n",
    ")"
   ]
  },
  {
   "cell_type": "markdown",
   "id": "acc080ad",
   "metadata": {
    "id": "acc080ad"
   },
   "source": [
    "Проведём обучение с кросс-валидацией выбранного оценщика."
   ]
  },
  {
   "cell_type": "code",
   "execution_count": null,
   "id": "ac5f4c53",
   "metadata": {
    "colab": {
     "base_uri": "https://localhost:8080/"
    },
    "id": "ac5f4c53",
    "outputId": "549067a9-c78d-4ced-cab5-6ce5627ac336"
   },
   "outputs": [],
   "source": [
    "%time gs_gbm.fit(X, y)\n",
    "None"
   ]
  },
  {
   "cell_type": "code",
   "execution_count": null,
   "id": "8b40907b",
   "metadata": {},
   "outputs": [],
   "source": [
    "best_params = gs_gbm.best_params_\n",
    "best_estimator = gs_gbm.best_estimator_\n",
    "best_score = gs_gbm.best_score_\n",
    "print(best_params)\n",
    "print(best_estimator) \n",
    "print(best_score)  "
   ]
  },
  {
   "cell_type": "code",
   "execution_count": null,
   "id": "91ee8699",
   "metadata": {},
   "outputs": [],
   "source": [
    "scores = pd.DataFrame(gs_gbm.cv_results_)\n",
    "scores.head(2)"
   ]
  },
  {
   "cell_type": "code",
   "execution_count": null,
   "id": "443db814",
   "metadata": {},
   "outputs": [],
   "source": [
    "print(gs_gbm.cv_results_['split0_test_PRECISION'][gs_gbm.best_index_], gs_gbm.cv_results_['mean_test_RECALL'][gs_gbm.best_index_], gs_rf.cv_results_['split0_train_RECALL'][gs_gbm.best_index_])"
   ]
  },
  {
   "cell_type": "markdown",
   "id": "56afeadb",
   "metadata": {
    "id": "56afeadb"
   },
   "source": [
    "По показателям метрик видно, что лучше всех с нашей задачей справился бустинг LightGBM. Выберем модель бустинга, как наилучшую."
   ]
  },
  {
   "cell_type": "markdown",
   "id": "5d821936",
   "metadata": {
    "id": "5d821936"
   },
   "source": [
    "### Проверим лучшую модель в работе"
   ]
  },
  {
   "cell_type": "markdown",
   "id": "05b2f286",
   "metadata": {
    "id": "05b2f286"
   },
   "source": [
    "Проведём графический анализ «Матрица ошибок». Выведем полноту и точность на график."
   ]
  },
  {
   "cell_type": "code",
   "execution_count": null,
   "id": "5053326c",
   "metadata": {},
   "outputs": [],
   "source": [
    "prediction_gbm = gs_gbm.predict(X_test)\n",
    "\n",
    "cr_gbm = classification_report(\n",
    "    y_test, prediction_gbm,\n",
    "    output_dict=True, zero_division=0\n",
    ")"
   ]
  },
  {
   "cell_type": "code",
   "execution_count": null,
   "id": "c4dbcec8",
   "metadata": {
    "colab": {
     "base_uri": "https://localhost:8080/",
     "height": 482
    },
    "id": "c4dbcec8",
    "outputId": "aeb41916-5d36-42e8-e911-975f61e286b7",
    "scrolled": false
   },
   "outputs": [],
   "source": [
    "cm = confusion_matrix(y_test, prediction_gbm, labels=gs_gbm.classes_)\n",
    "\n",
    "fig, (ax1, ax2) = plt.subplots(1, 2, figsize=(15, 5))\n",
    "cmd = ConfusionMatrixDisplay(cm, display_labels=gs_gbm.classes_)\n",
    "cmd.plot(ax=ax1)\n",
    "ax1.set_title('Матрица ошибок')\n",
    "prec, recall, _ = precision_recall_curve(y_test, prediction_gbm)\n",
    "PrecisionRecallDisplay(prec, recall).plot(ax=ax2)\n",
    "ax2.set_title('График полнота-точность')\n",
    "plt.show()"
   ]
  },
  {
   "cell_type": "markdown",
   "id": "1f024382",
   "metadata": {},
   "source": [
    "Матрица ошибок позволяет оценить, как модель классифицирует положительные и отрицательные случаи. Зная эти значения, можно вычислить другие метрики, такие как полнота, точность, специфичность и F1-мера, для оценки производительности модели.\n",
    "\n",
    "Значения в матрице ошибок:\n",
    "\n",
    "Верхняя левая ячейка | True Negative (TN=4132) - количество правильно классифицированных отрицательных случаев. Оно указывает на количество случаев, которые модель правильно предсказала как отрицательные, когда они действительно являются отрицательными.\n",
    "\n",
    "Верхняя правая ячейка | False Positive (FP=1412) - количество неправильно классифицированных положительных случаев. Это количество случаев, которые модель неправильно предсказала как положительные, когда они являются отрицательными.\n",
    "\n",
    "Нижняя левая ячейка | False Negative (FN=2875) - количество неправильно классифицированных отрицательных случаев. Оно указывает на количество случаев, которые модель неправильно предсказала как отрицательные, когда они являются положительными.\n",
    "\n",
    "Нижняя правая ячейка | True Positive (TP=2800) - количество правильно классифицированных положительных случаев. Оно указывает на количество случаев, которые модель правильно предсказала как положительные, и они действительно являются положительными.\n",
    "\n",
    "Модель эффективно идентифицирует истинно отрицательные случаи (36%), однако допускает значительное количество ложноотрицательных (25%) и ложноположительных (13%) ошибок. Точность истинноположительных предсказаний составляет 26%, что указывает на потенциальные слабые стороны в распознавании положительных классов. Такая ситуация может потребовать применения более сложных моделей для улучшения точности предсказаний."
   ]
  },
  {
   "cell_type": "markdown",
   "id": "ee2b4690",
   "metadata": {
    "id": "ee2b4690"
   },
   "source": [
    "## Проведите анализ важности факторов ДТП"
   ]
  },
  {
   "cell_type": "markdown",
   "id": "50e8009b",
   "metadata": {
    "id": "50e8009b"
   },
   "source": [
    "Для анализа факторов влияющих на вероятность стать виновником ДТП воспользуемся библиотекой SHAP."
   ]
  },
  {
   "cell_type": "code",
   "execution_count": null,
   "id": "11ffac8f",
   "metadata": {
    "colab": {
     "base_uri": "https://localhost:8080/",
     "height": 476
    },
    "id": "11ffac8f",
    "outputId": "e0f97758-7d54-4001-b2c4-365f1cd04688"
   },
   "outputs": [],
   "source": [
    "X_encoded = gs_gbm.best_estimator_['columntransformer'].fit_transform(X)\n",
    "model = gs_gbm.best_estimator_['lgbmclassifier'].fit(X_encoded, y)\n",
    "\n",
    "explainer = shap.TreeExplainer(model)\n",
    "shap_values = explainer.shap_values(X_encoded)\n",
    "\n",
    "shap.summary_plot(shap_values, X, show=False)\n",
    "plt.title('Важность признаков (SHAP)')\n",
    "plt.ylabel(\"Признаки\")\n",
    "plt.show()"
   ]
  },
  {
   "cell_type": "code",
   "execution_count": null,
   "id": "6a739006",
   "metadata": {},
   "outputs": [],
   "source": [
    "X_encoded = gs_gbm.best_estimator_['columntransformer'].fit_transform(X)\n",
    "model = gs_gbm.best_estimator_['lgbmclassifier'].fit(X_encoded, y)\n",
    "# инициализация Explainer\n",
    "explainer = shap.Explainer(model)\n",
    "\n",
    "# получение значений SHAP для тестовых данных\n",
    "shap_values = explainer.shap_values(X_test)\n",
    "\n",
    "# визуализация SHAP значений\n",
    "shap.summary_plot(shap_values, X_test, plot_type='bar', show=False, color='teal')\n",
    "plt.title('Важность признаков (SHAP)')\n",
    "plt.ylabel(\"Признаки\")\n",
    "plt.show()"
   ]
  },
  {
   "cell_type": "markdown",
   "id": "8d57ce03",
   "metadata": {},
   "source": [
    "Как видно из графика, самым главным признаком, влияющий на фак аварии является party_sobriety - трезвость участника, при предобработки данных мы разделили записи в зависимости от степени опьянения. Посмотрим зависимость вероятности стать виновником ДТП от уровня опьянения:"
   ]
  },
  {
   "cell_type": "markdown",
   "id": "9e552a6c",
   "metadata": {},
   "source": [
    "Посмотрим уникальные значения в столбце и распределим их по степени опьянения."
   ]
  },
  {
   "cell_type": "code",
   "execution_count": null,
   "id": "9d4ae099",
   "metadata": {},
   "outputs": [],
   "source": [
    "df['party_sobriety'].unique()"
   ]
  },
  {
   "cell_type": "code",
   "execution_count": null,
   "id": "84e71609",
   "metadata": {},
   "outputs": [],
   "source": [
    "def replace_sobriety(x):\n",
    "    if x in ['had not been drinking', 'impairment unknown', 'not applicable']: return 0\n",
    "    elif x == 'had been drinking, not under influence': return 1\n",
    "    elif x == 'had been drinking, impairment unknown' : return 2\n",
    "    else: return 3\n",
    "\n",
    "df['party_sobriety'] = df['party_sobriety'].apply(replace_sobriety)"
   ]
  },
  {
   "cell_type": "code",
   "execution_count": null,
   "id": "c969db61",
   "metadata": {
    "scrolled": false
   },
   "outputs": [],
   "source": [
    "# сводная таблица для среднего значения 'at_fault' по уровню опьянения 'party_sobriety'\n",
    "mean_at_fault = df.groupby('party_sobriety')['at_fault'].mean()\n",
    "\n",
    "# построение графика\n",
    "sns.set_style(\"whitegrid\")\n",
    "plt.figure(figsize=(8, 4))\n",
    "sns.lineplot(x=mean_at_fault.index, y=mean_at_fault.values, marker='o', color='b')\n",
    "plt.xlabel('Уровень опьянения (party_sobriety)')\n",
    "plt.ylabel('Среднее значение at_fault')\n",
    "plt.title('Зависимость вероятности стать виновником ДТП от уровня опьянения')\n",
    "plt.xticks(mean_at_fault.index)\n",
    "plt.show()"
   ]
  },
  {
   "cell_type": "markdown",
   "id": "b6acb296",
   "metadata": {},
   "source": [
    "Из графика видно, что с увеличением уровня опьянения (от 0 до 3) вероятность стать виновником ДТП увеличивается. Чем выше уровень опьянения, тем больше вероятность попадания в аварию, где водитель считается виновным.\n",
    "\n",
    "Чтобы учесть этот фактор во время посадки водителя, можно использовать различные технические средства и системы, такие как:\n",
    "\n",
    "Алкотестеры: Установка алкотестеров в автомобиле позволит водителю проверить свой уровень опьянения перед поездкой и принять решение о том, стоит ли ему садиться за руль.\n",
    "\n",
    "Автоматические системы блокировки двигателя: Эти системы могут быть настроены на блокировку двигателя, если уровень опьянения водителя превышает определенный уровень.\n",
    "\n",
    "Системы предупреждения о состоянии водителя: Использование камер и сенсоров для мониторинга поведения водителя и выявления признаков усталости или опьянения.\n",
    "\n",
    "Эти технологии и системы могут помочь снизить вероятность аварий, связанных с опьянением водителей, и повысить безопасность дорожного движения. Однако следует помнить, что самое эффективное средство предотвращения аварий - это не садиться за руль в состоянии опьянения."
   ]
  },
  {
   "cell_type": "markdown",
   "id": "f2ae15f4",
   "metadata": {
    "id": "f2ae15f4"
   },
   "source": [
    "## Выводы"
   ]
  },
  {
   "cell_type": "markdown",
   "id": "31f5252a",
   "metadata": {
    "id": "31f5252a"
   },
   "source": [
    "В данной работе мы попытались создать систему для каршеринговой компании, которая могла бы оценить риск ДТП по совокупности факторов.\n",
    "\n",
    "Мы исследовали предоставленную базу, провели статистический анализ некоторых факторов.\n",
    "\n",
    "Подготовили данные для анализа за 2012 год. Опробовали ряд моделей классического машинного обучения и бустингов.\n",
    "\n",
    "Испытанные модели показали, что внедрение данных систем позволит в некоторой степени улучшить вероятность опознать потенциального виновника ДТП по ряду признаков.\n",
    "\n",
    "Мы увидели что самыми влияющими факторами являются :\n",
    "\n",
    "трезвость и состояние водителя,\n",
    "\n",
    "время суток,\n",
    "состояние дороги и погодные условия.\n",
    "\n",
    "\n",
    "Общий вклад трезвости довольно велик и его стоит учитывать. В машины стоит установить контрольное устройство. Возможно, добавить в камеру систему определения физического состояния водителя по времени реакции на раздражители, скорость моргания и сфокусированность зрения на дороге с включением звуковой сигнализации если водитель начинает спать или долго не смотрит на дорогу.\n",
    "\n",
    "Нам удалось обучить модель на тестовых данных и получить метрику Recall равную 62%, precision - 59%,  Это недостаточно хороший показатель, однако на предсказаниях мы имеем:\n",
    "\n",
    "неправильно угадываем парядка 24% данных, которые относятся к первому классу\n",
    "чаще всего мы будем угадывать класс 1 - в районе 29% данных. Это не может не радовать.\n",
    "класс 0 мы будем угадывать в 24% от случая.\n",
    "а наименьший процент из всех представленных - неудачные предсказания класса 0 (19%)\n",
    "Если отвечать на первоначальный вопрос: \"Возможно ли прогнозировать?\", я бы сказал нет, точнее, не на этих данных. Будем честны, большинство факторов из выборки будут известны уже после проишествия. Нам же нужны совсем иные данные, которые мы будем знать только, когда человек сел в машину и выбрал маршрут. К примеру, я бы добавил в таблицу характеристик клиента следующие факторы:\n",
    "\n",
    "возраст водителя, который будет прямо влиять на время реакции,\n",
    "стаж, от этого будет зависить как он поведёт себя в той или иной ситуации,\n",
    "среднюю сокорость вождения,\n",
    "количество нарушений за всё время за рулём,\n",
    "возможно, можно провести исследования и добавить сюда место работы."
   ]
  }
 ],
 "metadata": {
  "ExecuteTimeLog": [
   {
    "duration": 9,
    "start_time": "2024-05-14T05:17:34.319Z"
   },
   {
    "duration": 1759,
    "start_time": "2024-05-14T05:18:11.632Z"
   },
   {
    "duration": 9892,
    "start_time": "2024-05-14T05:23:11.310Z"
   },
   {
    "duration": 30258,
    "start_time": "2024-05-14T05:23:24.609Z"
   },
   {
    "duration": 3,
    "start_time": "2024-05-14T05:24:56.429Z"
   },
   {
    "duration": 804,
    "start_time": "2024-05-14T05:24:57.584Z"
   },
   {
    "duration": 3,
    "start_time": "2024-05-14T05:28:22.372Z"
   },
   {
    "duration": 3,
    "start_time": "2024-05-14T05:29:12.354Z"
   },
   {
    "duration": 7444,
    "start_time": "2024-05-14T05:30:07.689Z"
   },
   {
    "duration": 631,
    "start_time": "2024-05-14T05:31:00.630Z"
   },
   {
    "duration": 11,
    "start_time": "2024-05-14T05:49:42.715Z"
   },
   {
    "duration": 11,
    "start_time": "2024-05-14T05:54:12.557Z"
   },
   {
    "duration": 18,
    "start_time": "2024-05-14T05:59:48.478Z"
   },
   {
    "duration": 16,
    "start_time": "2024-05-14T06:14:48.722Z"
   },
   {
    "duration": 3,
    "start_time": "2024-05-14T06:24:09.070Z"
   },
   {
    "duration": 16216,
    "start_time": "2024-05-14T06:24:43.079Z"
   },
   {
    "duration": 2602,
    "start_time": "2024-05-14T06:25:40.820Z"
   },
   {
    "duration": 16,
    "start_time": "2024-05-14T06:33:54.844Z"
   },
   {
    "duration": 167,
    "start_time": "2024-05-14T06:34:18.664Z"
   },
   {
    "duration": 11722,
    "start_time": "2024-05-14T06:36:08.604Z"
   },
   {
    "duration": 9,
    "start_time": "2024-05-14T06:36:20.327Z"
   },
   {
    "duration": 11,
    "start_time": "2024-05-14T06:37:55.314Z"
   },
   {
    "duration": 622,
    "start_time": "2024-05-14T06:38:10.084Z"
   },
   {
    "duration": 3355,
    "start_time": "2024-05-14T06:39:05.788Z"
   },
   {
    "duration": 50,
    "start_time": "2024-05-14T06:39:19.249Z"
   },
   {
    "duration": 220,
    "start_time": "2024-05-14T06:39:26.397Z"
   },
   {
    "duration": 9,
    "start_time": "2024-05-14T06:40:34.685Z"
   },
   {
    "duration": 115,
    "start_time": "2024-05-14T06:40:44.326Z"
   },
   {
    "duration": 3622,
    "start_time": "2024-05-14T06:42:38.828Z"
   },
   {
    "duration": 204,
    "start_time": "2024-05-14T06:42:56.366Z"
   },
   {
    "duration": 7,
    "start_time": "2024-05-14T06:43:16.694Z"
   },
   {
    "duration": 15,
    "start_time": "2024-05-14T06:45:37.418Z"
   },
   {
    "duration": 704,
    "start_time": "2024-05-14T06:47:38.408Z"
   },
   {
    "duration": 245,
    "start_time": "2024-05-14T06:56:37.730Z"
   },
   {
    "duration": 204,
    "start_time": "2024-05-14T06:58:08.010Z"
   },
   {
    "duration": 274,
    "start_time": "2024-05-14T07:00:40.097Z"
   },
   {
    "duration": 443,
    "start_time": "2024-05-14T07:00:52.076Z"
   },
   {
    "duration": 5751,
    "start_time": "2024-05-14T07:42:39.229Z"
   },
   {
    "duration": 15089,
    "start_time": "2024-05-14T07:43:25.939Z"
   },
   {
    "duration": 96,
    "start_time": "2024-05-14T07:45:27.725Z"
   },
   {
    "duration": 14692,
    "start_time": "2024-05-14T07:45:29.627Z"
   },
   {
    "duration": 1770,
    "start_time": "2024-05-14T07:52:33.596Z"
   },
   {
    "duration": 3273,
    "start_time": "2024-05-14T07:53:09.727Z"
   },
   {
    "duration": 608,
    "start_time": "2024-05-14T07:54:45.918Z"
   },
   {
    "duration": 712,
    "start_time": "2024-05-14T07:55:38.210Z"
   },
   {
    "duration": 1478,
    "start_time": "2024-05-14T08:07:00.699Z"
   },
   {
    "duration": 133,
    "start_time": "2024-05-14T08:10:52.129Z"
   },
   {
    "duration": 119,
    "start_time": "2024-05-14T08:11:08.769Z"
   },
   {
    "duration": 141,
    "start_time": "2024-05-14T08:11:42.279Z"
   },
   {
    "duration": 69,
    "start_time": "2024-05-14T08:19:18.065Z"
   },
   {
    "duration": 218,
    "start_time": "2024-05-14T08:19:31.905Z"
   },
   {
    "duration": 38,
    "start_time": "2024-05-14T08:23:51.835Z"
   },
   {
    "duration": 31,
    "start_time": "2024-05-14T08:24:57.285Z"
   },
   {
    "duration": 13959,
    "start_time": "2024-05-14T08:29:05.031Z"
   },
   {
    "duration": 553,
    "start_time": "2024-05-14T08:29:28.647Z"
   },
   {
    "duration": 53,
    "start_time": "2024-05-14T08:31:51.855Z"
   },
   {
    "duration": 8,
    "start_time": "2024-05-14T08:32:00.971Z"
   },
   {
    "duration": 7,
    "start_time": "2024-05-14T08:32:20.765Z"
   },
   {
    "duration": 49,
    "start_time": "2024-05-14T08:33:46.722Z"
   },
   {
    "duration": 8,
    "start_time": "2024-05-14T08:34:05.219Z"
   },
   {
    "duration": 9376,
    "start_time": "2024-05-14T08:34:14.217Z"
   },
   {
    "duration": 7722,
    "start_time": "2024-05-14T08:34:23.596Z"
   },
   {
    "duration": 3,
    "start_time": "2024-05-14T08:34:31.320Z"
   },
   {
    "duration": 4527,
    "start_time": "2024-05-14T08:34:31.325Z"
   },
   {
    "duration": 3,
    "start_time": "2024-05-14T08:34:35.854Z"
   },
   {
    "duration": 191,
    "start_time": "2024-05-14T08:34:35.858Z"
   },
   {
    "duration": 7419,
    "start_time": "2024-05-14T08:34:36.051Z"
   },
   {
    "duration": 616,
    "start_time": "2024-05-14T08:34:43.471Z"
   },
   {
    "duration": 9,
    "start_time": "2024-05-14T08:34:44.089Z"
   },
   {
    "duration": 28,
    "start_time": "2024-05-14T08:34:44.100Z"
   },
   {
    "duration": 27,
    "start_time": "2024-05-14T08:34:44.130Z"
   },
   {
    "duration": 7,
    "start_time": "2024-05-14T08:34:44.159Z"
   },
   {
    "duration": 16819,
    "start_time": "2024-05-14T08:34:44.167Z"
   },
   {
    "duration": 2637,
    "start_time": "2024-05-14T08:35:00.988Z"
   },
   {
    "duration": 18,
    "start_time": "2024-05-14T08:35:03.627Z"
   },
   {
    "duration": 310,
    "start_time": "2024-05-14T08:35:03.646Z"
   },
   {
    "duration": 11832,
    "start_time": "2024-05-14T08:35:03.958Z"
   },
   {
    "duration": 8,
    "start_time": "2024-05-14T08:35:15.792Z"
   },
   {
    "duration": 53,
    "start_time": "2024-05-14T08:35:15.802Z"
   },
   {
    "duration": 609,
    "start_time": "2024-05-14T08:35:15.857Z"
   },
   {
    "duration": 3224,
    "start_time": "2024-05-14T08:35:16.469Z"
   },
   {
    "duration": 216,
    "start_time": "2024-05-14T08:35:19.695Z"
   },
   {
    "duration": 12,
    "start_time": "2024-05-14T08:35:19.913Z"
   },
   {
    "duration": 136,
    "start_time": "2024-05-14T08:35:19.926Z"
   },
   {
    "duration": 3516,
    "start_time": "2024-05-14T08:35:20.064Z"
   },
   {
    "duration": 187,
    "start_time": "2024-05-14T08:35:23.582Z"
   },
   {
    "duration": 7,
    "start_time": "2024-05-14T08:35:23.771Z"
   },
   {
    "duration": 746,
    "start_time": "2024-05-14T08:35:23.781Z"
   },
   {
    "duration": 250,
    "start_time": "2024-05-14T08:35:24.529Z"
   },
   {
    "duration": 215,
    "start_time": "2024-05-14T08:35:24.780Z"
   },
   {
    "duration": 288,
    "start_time": "2024-05-14T08:35:24.996Z"
   },
   {
    "duration": 359,
    "start_time": "2024-05-14T08:35:25.286Z"
   },
   {
    "duration": 5421,
    "start_time": "2024-05-14T08:35:25.646Z"
   },
   {
    "duration": 88,
    "start_time": "2024-05-14T08:35:31.069Z"
   },
   {
    "duration": 14843,
    "start_time": "2024-05-14T08:35:31.158Z"
   },
   {
    "duration": 1735,
    "start_time": "2024-05-14T08:35:46.003Z"
   },
   {
    "duration": 3331,
    "start_time": "2024-05-14T08:35:47.740Z"
   },
   {
    "duration": 468,
    "start_time": "2024-05-14T08:35:51.073Z"
   },
   {
    "duration": 557,
    "start_time": "2024-05-14T08:35:51.543Z"
   },
   {
    "duration": 14324,
    "start_time": "2024-05-14T08:35:52.101Z"
   },
   {
    "duration": 548,
    "start_time": "2024-05-14T08:36:06.426Z"
   },
   {
    "duration": 97,
    "start_time": "2024-05-14T08:36:06.976Z"
   },
   {
    "duration": 376,
    "start_time": "2024-05-14T08:36:07.075Z"
   },
   {
    "duration": 457,
    "start_time": "2024-05-14T08:36:07.452Z"
   },
   {
    "duration": 15,
    "start_time": "2024-05-14T08:36:07.911Z"
   },
   {
    "duration": 200,
    "start_time": "2024-05-14T08:36:07.928Z"
   },
   {
    "duration": 0,
    "start_time": "2024-05-14T08:36:08.130Z"
   },
   {
    "duration": 8,
    "start_time": "2024-05-14T08:36:51.628Z"
   },
   {
    "duration": 4,
    "start_time": "2024-05-14T08:38:22.368Z"
   },
   {
    "duration": 13,
    "start_time": "2024-05-14T08:38:37.419Z"
   },
   {
    "duration": 12,
    "start_time": "2024-05-14T08:39:24.839Z"
   },
   {
    "duration": 113,
    "start_time": "2024-05-14T08:40:35.251Z"
   },
   {
    "duration": 17,
    "start_time": "2024-05-14T08:40:42.929Z"
   },
   {
    "duration": 12522,
    "start_time": "2024-05-14T08:40:50.150Z"
   },
   {
    "duration": 31,
    "start_time": "2024-05-14T08:45:18.563Z"
   },
   {
    "duration": 6,
    "start_time": "2024-05-14T08:45:58.753Z"
   },
   {
    "duration": 33,
    "start_time": "2024-05-14T08:46:08.309Z"
   },
   {
    "duration": 18,
    "start_time": "2024-05-14T08:47:07.053Z"
   },
   {
    "duration": 29,
    "start_time": "2024-05-14T08:47:22.069Z"
   },
   {
    "duration": 6774,
    "start_time": "2024-05-14T10:32:04.398Z"
   },
   {
    "duration": 33541,
    "start_time": "2024-05-14T10:32:11.174Z"
   },
   {
    "duration": 2,
    "start_time": "2024-05-14T10:32:44.718Z"
   },
   {
    "duration": 2420,
    "start_time": "2024-05-14T10:32:44.722Z"
   },
   {
    "duration": 3,
    "start_time": "2024-05-14T10:32:47.145Z"
   },
   {
    "duration": 19,
    "start_time": "2024-05-14T10:32:47.149Z"
   },
   {
    "duration": 4313,
    "start_time": "2024-05-14T10:32:47.170Z"
   },
   {
    "duration": 798,
    "start_time": "2024-05-14T10:32:51.485Z"
   },
   {
    "duration": 40,
    "start_time": "2024-05-14T10:32:52.284Z"
   },
   {
    "duration": 41,
    "start_time": "2024-05-14T10:32:52.325Z"
   },
   {
    "duration": 46,
    "start_time": "2024-05-14T10:32:52.369Z"
   },
   {
    "duration": 2,
    "start_time": "2024-05-14T10:32:52.417Z"
   },
   {
    "duration": 16619,
    "start_time": "2024-05-14T10:32:52.421Z"
   },
   {
    "duration": 2409,
    "start_time": "2024-05-14T10:33:09.041Z"
   },
   {
    "duration": 20,
    "start_time": "2024-05-14T10:33:11.457Z"
   },
   {
    "duration": 202,
    "start_time": "2024-05-14T10:33:11.479Z"
   },
   {
    "duration": 11537,
    "start_time": "2024-05-14T10:33:11.682Z"
   },
   {
    "duration": 9,
    "start_time": "2024-05-14T10:33:23.220Z"
   },
   {
    "duration": 19,
    "start_time": "2024-05-14T10:33:23.230Z"
   },
   {
    "duration": 609,
    "start_time": "2024-05-14T10:33:23.250Z"
   },
   {
    "duration": 3130,
    "start_time": "2024-05-14T10:33:23.860Z"
   },
   {
    "duration": 220,
    "start_time": "2024-05-14T10:33:26.992Z"
   },
   {
    "duration": 8,
    "start_time": "2024-05-14T10:33:27.213Z"
   },
   {
    "duration": 134,
    "start_time": "2024-05-14T10:33:27.223Z"
   },
   {
    "duration": 3608,
    "start_time": "2024-05-14T10:33:27.359Z"
   },
   {
    "duration": 194,
    "start_time": "2024-05-14T10:33:30.968Z"
   },
   {
    "duration": 47,
    "start_time": "2024-05-14T10:33:31.164Z"
   },
   {
    "duration": 788,
    "start_time": "2024-05-14T10:33:31.213Z"
   },
   {
    "duration": 282,
    "start_time": "2024-05-14T10:33:32.005Z"
   },
   {
    "duration": 202,
    "start_time": "2024-05-14T10:33:32.289Z"
   },
   {
    "duration": 308,
    "start_time": "2024-05-14T10:33:32.493Z"
   },
   {
    "duration": 382,
    "start_time": "2024-05-14T10:33:32.803Z"
   },
   {
    "duration": 5873,
    "start_time": "2024-05-14T10:33:33.186Z"
   },
   {
    "duration": 74,
    "start_time": "2024-05-14T10:33:39.061Z"
   },
   {
    "duration": 13625,
    "start_time": "2024-05-14T10:33:39.137Z"
   },
   {
    "duration": 3699,
    "start_time": "2024-05-14T10:33:52.763Z"
   },
   {
    "duration": 3357,
    "start_time": "2024-05-14T10:33:56.463Z"
   },
   {
    "duration": 514,
    "start_time": "2024-05-14T10:33:59.821Z"
   },
   {
    "duration": 541,
    "start_time": "2024-05-14T10:34:00.336Z"
   },
   {
    "duration": 13589,
    "start_time": "2024-05-14T10:34:00.879Z"
   },
   {
    "duration": 524,
    "start_time": "2024-05-14T10:34:14.469Z"
   },
   {
    "duration": 100,
    "start_time": "2024-05-14T10:34:14.995Z"
   },
   {
    "duration": 790,
    "start_time": "2024-05-14T10:34:15.097Z"
   },
   {
    "duration": 3,
    "start_time": "2024-05-14T10:34:15.889Z"
   },
   {
    "duration": 182769,
    "start_time": "2024-05-14T10:34:15.894Z"
   },
   {
    "duration": 893,
    "start_time": "2024-05-14T10:38:20.094Z"
   },
   {
    "duration": 3,
    "start_time": "2024-05-14T10:38:23.606Z"
   },
   {
    "duration": 1902,
    "start_time": "2024-05-14T10:38:31.109Z"
   },
   {
    "duration": 768,
    "start_time": "2024-05-14T10:38:34.037Z"
   },
   {
    "duration": 37,
    "start_time": "2024-05-14T10:38:35.134Z"
   },
   {
    "duration": 44,
    "start_time": "2024-05-14T10:46:07.898Z"
   },
   {
    "duration": 2,
    "start_time": "2024-05-14T10:46:16.927Z"
   },
   {
    "duration": 2779,
    "start_time": "2024-05-14T10:46:17.442Z"
   },
   {
    "duration": 2,
    "start_time": "2024-05-14T10:46:23.650Z"
   },
   {
    "duration": 2,
    "start_time": "2024-05-14T10:46:24.568Z"
   },
   {
    "duration": 4209,
    "start_time": "2024-05-14T10:46:25.338Z"
   },
   {
    "duration": 783,
    "start_time": "2024-05-14T10:46:29.549Z"
   },
   {
    "duration": 39,
    "start_time": "2024-05-14T10:46:31.847Z"
   },
   {
    "duration": 42,
    "start_time": "2024-05-14T10:46:33.538Z"
   },
   {
    "duration": 47,
    "start_time": "2024-05-14T10:46:35.208Z"
   },
   {
    "duration": 2,
    "start_time": "2024-05-14T10:46:36.729Z"
   },
   {
    "duration": 16652,
    "start_time": "2024-05-14T10:46:37.907Z"
   },
   {
    "duration": 2449,
    "start_time": "2024-05-14T10:46:54.561Z"
   },
   {
    "duration": 17,
    "start_time": "2024-05-14T10:46:58.298Z"
   },
   {
    "duration": 170,
    "start_time": "2024-05-14T10:46:59.848Z"
   },
   {
    "duration": 11898,
    "start_time": "2024-05-14T10:47:00.166Z"
   },
   {
    "duration": 8,
    "start_time": "2024-05-14T10:47:12.066Z"
   },
   {
    "duration": 14,
    "start_time": "2024-05-14T10:47:13.267Z"
   },
   {
    "duration": 576,
    "start_time": "2024-05-14T10:47:13.797Z"
   },
   {
    "duration": 3147,
    "start_time": "2024-05-14T10:47:14.647Z"
   },
   {
    "duration": 219,
    "start_time": "2024-05-14T10:47:18.457Z"
   },
   {
    "duration": 9,
    "start_time": "2024-05-14T10:47:19.256Z"
   },
   {
    "duration": 124,
    "start_time": "2024-05-14T10:47:19.918Z"
   },
   {
    "duration": 3507,
    "start_time": "2024-05-14T10:47:21.169Z"
   },
   {
    "duration": 198,
    "start_time": "2024-05-14T10:47:25.406Z"
   },
   {
    "duration": 7,
    "start_time": "2024-05-14T10:47:26.227Z"
   },
   {
    "duration": 735,
    "start_time": "2024-05-14T10:47:27.338Z"
   },
   {
    "duration": 284,
    "start_time": "2024-05-14T10:47:30.348Z"
   },
   {
    "duration": 193,
    "start_time": "2024-05-14T10:47:31.898Z"
   },
   {
    "duration": 309,
    "start_time": "2024-05-14T10:47:33.518Z"
   },
   {
    "duration": 395,
    "start_time": "2024-05-14T10:47:40.797Z"
   },
   {
    "duration": 4823,
    "start_time": "2024-05-14T10:47:53.347Z"
   },
   {
    "duration": 80,
    "start_time": "2024-05-14T10:47:59.367Z"
   },
   {
    "duration": 14050,
    "start_time": "2024-05-14T10:48:00.279Z"
   },
   {
    "duration": 1634,
    "start_time": "2024-05-14T10:48:56.308Z"
   },
   {
    "duration": 3050,
    "start_time": "2024-05-14T10:48:59.738Z"
   },
   {
    "duration": 628,
    "start_time": "2024-05-14T10:49:41.330Z"
   },
   {
    "duration": 656,
    "start_time": "2024-05-14T10:49:43.341Z"
   },
   {
    "duration": 15032,
    "start_time": "2024-05-14T10:49:49.374Z"
   },
   {
    "duration": 561,
    "start_time": "2024-05-14T10:50:07.328Z"
   },
   {
    "duration": 91,
    "start_time": "2024-05-14T10:50:10.742Z"
   },
   {
    "duration": 859,
    "start_time": "2024-05-14T10:50:12.148Z"
   },
   {
    "duration": 878,
    "start_time": "2024-05-14T10:50:13.627Z"
   },
   {
    "duration": 3,
    "start_time": "2024-05-14T10:50:15.789Z"
   },
   {
    "duration": 161746,
    "start_time": "2024-05-14T10:50:22.118Z"
   },
   {
    "duration": 48,
    "start_time": "2024-05-14T10:58:54.320Z"
   },
   {
    "duration": 7,
    "start_time": "2024-05-14T11:08:48.068Z"
   },
   {
    "duration": 5033,
    "start_time": "2024-05-14T11:08:58.538Z"
   },
   {
    "duration": 5121,
    "start_time": "2024-05-14T11:09:03.573Z"
   },
   {
    "duration": 3,
    "start_time": "2024-05-14T11:09:08.696Z"
   },
   {
    "duration": 2709,
    "start_time": "2024-05-14T11:09:08.700Z"
   },
   {
    "duration": 2,
    "start_time": "2024-05-14T11:09:11.411Z"
   },
   {
    "duration": 16,
    "start_time": "2024-05-14T11:09:11.415Z"
   },
   {
    "duration": 4955,
    "start_time": "2024-05-14T11:09:11.432Z"
   },
   {
    "duration": 765,
    "start_time": "2024-05-14T11:09:16.389Z"
   },
   {
    "duration": 40,
    "start_time": "2024-05-14T11:09:17.155Z"
   },
   {
    "duration": 42,
    "start_time": "2024-05-14T11:09:17.196Z"
   },
   {
    "duration": 47,
    "start_time": "2024-05-14T11:09:17.240Z"
   },
   {
    "duration": 3,
    "start_time": "2024-05-14T11:09:17.289Z"
   },
   {
    "duration": 15762,
    "start_time": "2024-05-14T11:09:17.294Z"
   },
   {
    "duration": 2318,
    "start_time": "2024-05-14T11:09:33.059Z"
   },
   {
    "duration": 15,
    "start_time": "2024-05-14T11:09:35.378Z"
   },
   {
    "duration": 175,
    "start_time": "2024-05-14T11:09:35.395Z"
   },
   {
    "duration": 11119,
    "start_time": "2024-05-14T11:09:35.572Z"
   },
   {
    "duration": 8,
    "start_time": "2024-05-14T11:09:46.693Z"
   },
   {
    "duration": 13,
    "start_time": "2024-05-14T11:09:46.703Z"
   },
   {
    "duration": 587,
    "start_time": "2024-05-14T11:09:46.718Z"
   },
   {
    "duration": 3058,
    "start_time": "2024-05-14T11:09:47.306Z"
   },
   {
    "duration": 209,
    "start_time": "2024-05-14T11:09:50.365Z"
   },
   {
    "duration": 8,
    "start_time": "2024-05-14T11:09:50.575Z"
   },
   {
    "duration": 123,
    "start_time": "2024-05-14T11:09:50.585Z"
   },
   {
    "duration": 3470,
    "start_time": "2024-05-14T11:09:50.710Z"
   },
   {
    "duration": 189,
    "start_time": "2024-05-14T11:09:54.182Z"
   },
   {
    "duration": 33,
    "start_time": "2024-05-14T11:09:54.373Z"
   },
   {
    "duration": 735,
    "start_time": "2024-05-14T11:09:54.408Z"
   },
   {
    "duration": 272,
    "start_time": "2024-05-14T11:09:55.144Z"
   },
   {
    "duration": 181,
    "start_time": "2024-05-14T11:09:55.418Z"
   },
   {
    "duration": 294,
    "start_time": "2024-05-14T11:09:55.601Z"
   },
   {
    "duration": 319,
    "start_time": "2024-05-14T11:09:55.896Z"
   },
   {
    "duration": 5015,
    "start_time": "2024-05-14T11:09:56.216Z"
   },
   {
    "duration": 84,
    "start_time": "2024-05-14T11:10:01.232Z"
   },
   {
    "duration": 13911,
    "start_time": "2024-05-14T11:10:01.317Z"
   },
   {
    "duration": 1791,
    "start_time": "2024-05-14T11:10:15.230Z"
   },
   {
    "duration": 3241,
    "start_time": "2024-05-14T11:10:17.022Z"
   },
   {
    "duration": 511,
    "start_time": "2024-05-14T11:10:20.265Z"
   },
   {
    "duration": 522,
    "start_time": "2024-05-14T11:10:20.777Z"
   },
   {
    "duration": 13805,
    "start_time": "2024-05-14T11:10:21.300Z"
   },
   {
    "duration": 516,
    "start_time": "2024-05-14T11:10:35.109Z"
   },
   {
    "duration": 96,
    "start_time": "2024-05-14T11:10:35.627Z"
   },
   {
    "duration": 800,
    "start_time": "2024-05-14T11:10:35.725Z"
   },
   {
    "duration": 880,
    "start_time": "2024-05-14T11:10:36.527Z"
   },
   {
    "duration": 3,
    "start_time": "2024-05-14T11:10:37.409Z"
   },
   {
    "duration": 46,
    "start_time": "2024-05-14T11:12:21.986Z"
   },
   {
    "duration": 4888,
    "start_time": "2024-05-14T11:12:32.776Z"
   },
   {
    "duration": 4893,
    "start_time": "2024-05-14T11:12:37.666Z"
   },
   {
    "duration": 3,
    "start_time": "2024-05-14T11:12:42.561Z"
   },
   {
    "duration": 2617,
    "start_time": "2024-05-14T11:12:42.565Z"
   },
   {
    "duration": 3,
    "start_time": "2024-05-14T11:12:45.184Z"
   },
   {
    "duration": 38,
    "start_time": "2024-05-14T11:12:45.188Z"
   },
   {
    "duration": 4749,
    "start_time": "2024-05-14T11:12:45.228Z"
   },
   {
    "duration": 772,
    "start_time": "2024-05-14T11:12:49.979Z"
   },
   {
    "duration": 40,
    "start_time": "2024-05-14T11:12:50.753Z"
   },
   {
    "duration": 41,
    "start_time": "2024-05-14T11:12:50.794Z"
   },
   {
    "duration": 47,
    "start_time": "2024-05-14T11:12:50.837Z"
   },
   {
    "duration": 3,
    "start_time": "2024-05-14T11:12:50.886Z"
   },
   {
    "duration": 16243,
    "start_time": "2024-05-14T11:12:50.890Z"
   },
   {
    "duration": 2354,
    "start_time": "2024-05-14T11:13:07.137Z"
   },
   {
    "duration": 16,
    "start_time": "2024-05-14T11:13:09.493Z"
   },
   {
    "duration": 183,
    "start_time": "2024-05-14T11:13:09.510Z"
   },
   {
    "duration": 11335,
    "start_time": "2024-05-14T11:13:09.695Z"
   },
   {
    "duration": 9,
    "start_time": "2024-05-14T11:13:21.032Z"
   },
   {
    "duration": 34,
    "start_time": "2024-05-14T11:13:21.043Z"
   },
   {
    "duration": 635,
    "start_time": "2024-05-14T11:13:21.079Z"
   },
   {
    "duration": 3166,
    "start_time": "2024-05-14T11:13:21.717Z"
   },
   {
    "duration": 217,
    "start_time": "2024-05-14T11:13:24.884Z"
   },
   {
    "duration": 8,
    "start_time": "2024-05-14T11:13:25.102Z"
   },
   {
    "duration": 123,
    "start_time": "2024-05-14T11:13:25.111Z"
   },
   {
    "duration": 3562,
    "start_time": "2024-05-14T11:13:25.235Z"
   },
   {
    "duration": 204,
    "start_time": "2024-05-14T11:13:28.799Z"
   },
   {
    "duration": 8,
    "start_time": "2024-05-14T11:13:29.004Z"
   },
   {
    "duration": 1072,
    "start_time": "2024-05-14T11:13:29.013Z"
   },
   {
    "duration": 275,
    "start_time": "2024-05-14T11:13:30.087Z"
   },
   {
    "duration": 207,
    "start_time": "2024-05-14T11:13:30.363Z"
   },
   {
    "duration": 304,
    "start_time": "2024-05-14T11:13:30.572Z"
   },
   {
    "duration": 370,
    "start_time": "2024-05-14T11:13:30.878Z"
   },
   {
    "duration": 3709,
    "start_time": "2024-05-14T11:13:31.252Z"
   },
   {
    "duration": 77,
    "start_time": "2024-05-14T11:13:34.962Z"
   },
   {
    "duration": 13835,
    "start_time": "2024-05-14T11:13:35.040Z"
   },
   {
    "duration": 2626,
    "start_time": "2024-05-14T11:13:48.878Z"
   },
   {
    "duration": 3350,
    "start_time": "2024-05-14T11:13:51.506Z"
   },
   {
    "duration": 503,
    "start_time": "2024-05-14T11:13:54.858Z"
   },
   {
    "duration": 545,
    "start_time": "2024-05-14T11:13:55.363Z"
   },
   {
    "duration": 14956,
    "start_time": "2024-05-14T11:13:55.909Z"
   },
   {
    "duration": 578,
    "start_time": "2024-05-14T11:14:10.868Z"
   },
   {
    "duration": 109,
    "start_time": "2024-05-14T11:14:11.448Z"
   },
   {
    "duration": 843,
    "start_time": "2024-05-14T11:14:11.558Z"
   },
   {
    "duration": 926,
    "start_time": "2024-05-14T11:14:12.402Z"
   },
   {
    "duration": 3,
    "start_time": "2024-05-14T11:14:13.330Z"
   },
   {
    "duration": 174590,
    "start_time": "2024-05-14T11:14:13.334Z"
   },
   {
    "duration": 2013,
    "start_time": "2024-05-14T11:17:07.925Z"
   },
   {
    "duration": 833,
    "start_time": "2024-05-14T11:17:09.940Z"
   },
   {
    "duration": 36,
    "start_time": "2024-05-14T11:17:10.774Z"
   },
   {
    "duration": 199,
    "start_time": "2024-05-14T11:18:11.319Z"
   },
   {
    "duration": 110,
    "start_time": "2024-05-14T11:18:40.459Z"
   },
   {
    "duration": 5,
    "start_time": "2024-05-14T11:19:07.423Z"
   },
   {
    "duration": 5034,
    "start_time": "2024-05-14T11:32:55.755Z"
   },
   {
    "duration": 5562,
    "start_time": "2024-05-14T11:33:00.792Z"
   },
   {
    "duration": 3,
    "start_time": "2024-05-14T11:33:06.356Z"
   },
   {
    "duration": 2892,
    "start_time": "2024-05-14T11:33:06.360Z"
   },
   {
    "duration": 3,
    "start_time": "2024-05-14T11:33:09.254Z"
   },
   {
    "duration": 11,
    "start_time": "2024-05-14T11:33:09.258Z"
   },
   {
    "duration": 4381,
    "start_time": "2024-05-14T11:33:09.270Z"
   },
   {
    "duration": 810,
    "start_time": "2024-05-14T11:33:13.653Z"
   },
   {
    "duration": 42,
    "start_time": "2024-05-14T11:33:14.465Z"
   },
   {
    "duration": 42,
    "start_time": "2024-05-14T11:33:14.508Z"
   },
   {
    "duration": 47,
    "start_time": "2024-05-14T11:33:14.552Z"
   },
   {
    "duration": 3,
    "start_time": "2024-05-14T11:33:14.600Z"
   },
   {
    "duration": 16213,
    "start_time": "2024-05-14T11:33:14.604Z"
   },
   {
    "duration": 2489,
    "start_time": "2024-05-14T11:33:30.821Z"
   },
   {
    "duration": 15,
    "start_time": "2024-05-14T11:33:33.311Z"
   },
   {
    "duration": 187,
    "start_time": "2024-05-14T11:33:33.327Z"
   },
   {
    "duration": 11582,
    "start_time": "2024-05-14T11:33:33.516Z"
   },
   {
    "duration": 9,
    "start_time": "2024-05-14T11:33:45.100Z"
   },
   {
    "duration": 47,
    "start_time": "2024-05-14T11:33:45.111Z"
   },
   {
    "duration": 609,
    "start_time": "2024-05-14T11:33:45.160Z"
   },
   {
    "duration": 3357,
    "start_time": "2024-05-14T11:33:45.771Z"
   },
   {
    "duration": 213,
    "start_time": "2024-05-14T11:33:49.130Z"
   },
   {
    "duration": 12,
    "start_time": "2024-05-14T11:33:49.345Z"
   },
   {
    "duration": 118,
    "start_time": "2024-05-14T11:33:49.358Z"
   },
   {
    "duration": 3525,
    "start_time": "2024-05-14T11:33:49.477Z"
   },
   {
    "duration": 210,
    "start_time": "2024-05-14T11:33:53.004Z"
   },
   {
    "duration": 20,
    "start_time": "2024-05-14T11:33:53.215Z"
   },
   {
    "duration": 1280,
    "start_time": "2024-05-14T11:33:53.237Z"
   },
   {
    "duration": 281,
    "start_time": "2024-05-14T11:33:54.519Z"
   },
   {
    "duration": 184,
    "start_time": "2024-05-14T11:33:54.801Z"
   },
   {
    "duration": 310,
    "start_time": "2024-05-14T11:33:54.986Z"
   },
   {
    "duration": 351,
    "start_time": "2024-05-14T11:33:55.298Z"
   },
   {
    "duration": 5096,
    "start_time": "2024-05-14T11:33:55.651Z"
   },
   {
    "duration": 86,
    "start_time": "2024-05-14T11:34:00.749Z"
   },
   {
    "duration": 14104,
    "start_time": "2024-05-14T11:34:00.836Z"
   },
   {
    "duration": 1795,
    "start_time": "2024-05-14T11:34:14.943Z"
   },
   {
    "duration": 3339,
    "start_time": "2024-05-14T11:34:16.739Z"
   },
   {
    "duration": 531,
    "start_time": "2024-05-14T11:34:20.080Z"
   },
   {
    "duration": 562,
    "start_time": "2024-05-14T11:34:20.613Z"
   },
   {
    "duration": 13824,
    "start_time": "2024-05-14T11:34:21.177Z"
   },
   {
    "duration": 578,
    "start_time": "2024-05-14T11:34:35.006Z"
   },
   {
    "duration": 107,
    "start_time": "2024-05-14T11:34:35.586Z"
   },
   {
    "duration": 880,
    "start_time": "2024-05-14T11:34:35.695Z"
   },
   {
    "duration": 911,
    "start_time": "2024-05-14T11:34:36.576Z"
   },
   {
    "duration": 4,
    "start_time": "2024-05-14T11:34:37.489Z"
   },
   {
    "duration": 7,
    "start_time": "2024-05-14T11:36:10.881Z"
   },
   {
    "duration": 4878,
    "start_time": "2024-05-14T11:36:10.890Z"
   },
   {
    "duration": 3,
    "start_time": "2024-05-14T11:36:15.769Z"
   },
   {
    "duration": 26,
    "start_time": "2024-05-14T11:36:15.773Z"
   },
   {
    "duration": 5735,
    "start_time": "2024-05-14T11:36:15.801Z"
   },
   {
    "duration": 794,
    "start_time": "2024-05-14T11:36:21.537Z"
   },
   {
    "duration": 40,
    "start_time": "2024-05-14T11:36:22.333Z"
   },
   {
    "duration": 41,
    "start_time": "2024-05-14T11:36:22.374Z"
   },
   {
    "duration": 47,
    "start_time": "2024-05-14T11:36:22.417Z"
   },
   {
    "duration": 3,
    "start_time": "2024-05-14T11:36:22.465Z"
   },
   {
    "duration": 25327,
    "start_time": "2024-05-14T11:36:22.469Z"
   },
   {
    "duration": 4702,
    "start_time": "2024-05-14T11:36:47.798Z"
   },
   {
    "duration": 64,
    "start_time": "2024-05-14T11:36:52.502Z"
   },
   {
    "duration": 387,
    "start_time": "2024-05-14T11:36:52.569Z"
   },
   {
    "duration": 91,
    "start_time": "2024-05-14T11:37:07.305Z"
   },
   {
    "duration": 0,
    "start_time": "2024-05-14T11:37:07.398Z"
   },
   {
    "duration": 0,
    "start_time": "2024-05-14T11:37:07.399Z"
   },
   {
    "duration": 0,
    "start_time": "2024-05-14T11:37:07.400Z"
   },
   {
    "duration": 0,
    "start_time": "2024-05-14T11:37:07.456Z"
   },
   {
    "duration": 0,
    "start_time": "2024-05-14T11:37:07.458Z"
   },
   {
    "duration": 0,
    "start_time": "2024-05-14T11:37:07.459Z"
   },
   {
    "duration": 0,
    "start_time": "2024-05-14T11:37:07.459Z"
   },
   {
    "duration": 0,
    "start_time": "2024-05-14T11:37:07.460Z"
   },
   {
    "duration": 0,
    "start_time": "2024-05-14T11:37:07.461Z"
   },
   {
    "duration": 0,
    "start_time": "2024-05-14T11:37:07.462Z"
   },
   {
    "duration": 0,
    "start_time": "2024-05-14T11:37:07.463Z"
   },
   {
    "duration": 6,
    "start_time": "2024-05-14T11:37:33.263Z"
   },
   {
    "duration": 5,
    "start_time": "2024-05-14T11:37:43.747Z"
   },
   {
    "duration": 4960,
    "start_time": "2024-05-14T11:49:49.199Z"
   },
   {
    "duration": 5121,
    "start_time": "2024-05-14T11:49:54.161Z"
   },
   {
    "duration": 3,
    "start_time": "2024-05-14T11:49:59.284Z"
   },
   {
    "duration": 3603,
    "start_time": "2024-05-14T11:49:59.289Z"
   },
   {
    "duration": 2,
    "start_time": "2024-05-14T11:50:02.895Z"
   },
   {
    "duration": 26,
    "start_time": "2024-05-14T11:50:02.899Z"
   },
   {
    "duration": 4702,
    "start_time": "2024-05-14T11:50:02.927Z"
   },
   {
    "duration": 788,
    "start_time": "2024-05-14T11:50:07.630Z"
   },
   {
    "duration": 39,
    "start_time": "2024-05-14T11:50:08.419Z"
   },
   {
    "duration": 40,
    "start_time": "2024-05-14T11:50:08.461Z"
   },
   {
    "duration": 47,
    "start_time": "2024-05-14T11:50:08.503Z"
   },
   {
    "duration": 3,
    "start_time": "2024-05-14T11:50:08.551Z"
   },
   {
    "duration": 16387,
    "start_time": "2024-05-14T11:50:08.555Z"
   },
   {
    "duration": 2409,
    "start_time": "2024-05-14T11:50:24.944Z"
   },
   {
    "duration": 16,
    "start_time": "2024-05-14T11:50:27.356Z"
   },
   {
    "duration": 177,
    "start_time": "2024-05-14T11:50:27.374Z"
   },
   {
    "duration": 11346,
    "start_time": "2024-05-14T11:50:27.553Z"
   },
   {
    "duration": 10,
    "start_time": "2024-05-14T11:50:38.900Z"
   },
   {
    "duration": 29,
    "start_time": "2024-05-14T11:50:38.911Z"
   },
   {
    "duration": 575,
    "start_time": "2024-05-14T11:50:38.942Z"
   },
   {
    "duration": 3061,
    "start_time": "2024-05-14T11:50:39.518Z"
   },
   {
    "duration": 203,
    "start_time": "2024-05-14T11:50:42.581Z"
   },
   {
    "duration": 8,
    "start_time": "2024-05-14T11:50:42.786Z"
   },
   {
    "duration": 136,
    "start_time": "2024-05-14T11:50:42.795Z"
   },
   {
    "duration": 3535,
    "start_time": "2024-05-14T11:50:42.933Z"
   },
   {
    "duration": 198,
    "start_time": "2024-05-14T11:50:46.469Z"
   },
   {
    "duration": 8,
    "start_time": "2024-05-14T11:50:46.670Z"
   },
   {
    "duration": 770,
    "start_time": "2024-05-14T11:50:46.683Z"
   },
   {
    "duration": 277,
    "start_time": "2024-05-14T11:50:47.454Z"
   },
   {
    "duration": 206,
    "start_time": "2024-05-14T11:50:47.733Z"
   },
   {
    "duration": 315,
    "start_time": "2024-05-14T11:50:47.941Z"
   },
   {
    "duration": 341,
    "start_time": "2024-05-14T11:50:48.258Z"
   },
   {
    "duration": 3610,
    "start_time": "2024-05-14T11:50:48.601Z"
   },
   {
    "duration": 83,
    "start_time": "2024-05-14T11:50:52.213Z"
   },
   {
    "duration": 13938,
    "start_time": "2024-05-14T11:50:52.297Z"
   },
   {
    "duration": 1951,
    "start_time": "2024-05-14T11:51:06.238Z"
   },
   {
    "duration": 3260,
    "start_time": "2024-05-14T11:51:08.191Z"
   },
   {
    "duration": 513,
    "start_time": "2024-05-14T11:51:11.458Z"
   },
   {
    "duration": 595,
    "start_time": "2024-05-14T11:51:11.973Z"
   },
   {
    "duration": 11844,
    "start_time": "2024-05-14T11:51:12.569Z"
   },
   {
    "duration": 544,
    "start_time": "2024-05-14T11:51:24.415Z"
   },
   {
    "duration": 83,
    "start_time": "2024-05-14T11:51:24.960Z"
   },
   {
    "duration": 790,
    "start_time": "2024-05-14T11:51:25.045Z"
   },
   {
    "duration": 838,
    "start_time": "2024-05-14T11:51:25.837Z"
   },
   {
    "duration": 4,
    "start_time": "2024-05-14T11:51:26.676Z"
   },
   {
    "duration": 44,
    "start_time": "2024-05-14T11:51:26.681Z"
   },
   {
    "duration": 0,
    "start_time": "2024-05-14T11:51:26.726Z"
   },
   {
    "duration": 0,
    "start_time": "2024-05-14T11:51:26.727Z"
   },
   {
    "duration": 0,
    "start_time": "2024-05-14T11:51:26.729Z"
   },
   {
    "duration": 0,
    "start_time": "2024-05-14T11:51:26.730Z"
   },
   {
    "duration": 0,
    "start_time": "2024-05-14T11:51:26.731Z"
   },
   {
    "duration": 0,
    "start_time": "2024-05-14T11:51:26.732Z"
   },
   {
    "duration": 0,
    "start_time": "2024-05-14T11:51:26.733Z"
   },
   {
    "duration": 0,
    "start_time": "2024-05-14T11:51:26.734Z"
   },
   {
    "duration": 0,
    "start_time": "2024-05-14T11:51:26.735Z"
   },
   {
    "duration": 0,
    "start_time": "2024-05-14T11:51:26.736Z"
   },
   {
    "duration": 0,
    "start_time": "2024-05-14T11:51:26.737Z"
   },
   {
    "duration": 0,
    "start_time": "2024-05-14T11:51:26.738Z"
   },
   {
    "duration": 1815,
    "start_time": "2024-05-14T11:51:38.178Z"
   },
   {
    "duration": 797,
    "start_time": "2024-05-14T11:51:40.047Z"
   },
   {
    "duration": 35,
    "start_time": "2024-05-14T11:51:41.666Z"
   },
   {
    "duration": 105,
    "start_time": "2024-05-14T11:55:44.342Z"
   },
   {
    "duration": 7,
    "start_time": "2024-05-14T11:55:45.554Z"
   },
   {
    "duration": 29,
    "start_time": "2024-05-14T11:55:47.333Z"
   },
   {
    "duration": 182,
    "start_time": "2024-05-14T11:55:47.914Z"
   },
   {
    "duration": 49,
    "start_time": "2024-05-14T11:56:11.264Z"
   },
   {
    "duration": 5,
    "start_time": "2024-05-14T11:56:43.284Z"
   },
   {
    "duration": 9,
    "start_time": "2024-05-14T11:56:55.962Z"
   },
   {
    "duration": 14,
    "start_time": "2024-05-14T11:56:59.392Z"
   },
   {
    "duration": 7639,
    "start_time": "2024-05-14T13:10:47.000Z"
   },
   {
    "duration": 32883,
    "start_time": "2024-05-14T13:10:54.641Z"
   },
   {
    "duration": 3,
    "start_time": "2024-05-14T13:11:27.526Z"
   },
   {
    "duration": 2634,
    "start_time": "2024-05-14T13:11:27.530Z"
   },
   {
    "duration": 3,
    "start_time": "2024-05-14T13:11:30.166Z"
   },
   {
    "duration": 313,
    "start_time": "2024-05-14T13:11:30.171Z"
   },
   {
    "duration": 5319,
    "start_time": "2024-05-14T13:11:30.486Z"
   },
   {
    "duration": 802,
    "start_time": "2024-05-14T13:11:35.807Z"
   },
   {
    "duration": 42,
    "start_time": "2024-05-14T13:11:36.611Z"
   },
   {
    "duration": 44,
    "start_time": "2024-05-14T13:11:36.654Z"
   },
   {
    "duration": 49,
    "start_time": "2024-05-14T13:11:36.700Z"
   },
   {
    "duration": 3,
    "start_time": "2024-05-14T13:11:36.751Z"
   },
   {
    "duration": 16896,
    "start_time": "2024-05-14T13:11:36.755Z"
   },
   {
    "duration": 2540,
    "start_time": "2024-05-14T13:11:53.655Z"
   },
   {
    "duration": 17,
    "start_time": "2024-05-14T13:11:56.197Z"
   },
   {
    "duration": 196,
    "start_time": "2024-05-14T13:11:56.216Z"
   },
   {
    "duration": 11724,
    "start_time": "2024-05-14T13:11:56.414Z"
   },
   {
    "duration": 10,
    "start_time": "2024-05-14T13:12:08.140Z"
   },
   {
    "duration": 20,
    "start_time": "2024-05-14T13:12:08.151Z"
   },
   {
    "duration": 633,
    "start_time": "2024-05-14T13:12:08.172Z"
   },
   {
    "duration": 3206,
    "start_time": "2024-05-14T13:12:08.807Z"
   },
   {
    "duration": 218,
    "start_time": "2024-05-14T13:12:12.015Z"
   },
   {
    "duration": 9,
    "start_time": "2024-05-14T13:12:12.234Z"
   },
   {
    "duration": 132,
    "start_time": "2024-05-14T13:12:12.244Z"
   },
   {
    "duration": 3665,
    "start_time": "2024-05-14T13:12:12.378Z"
   },
   {
    "duration": 197,
    "start_time": "2024-05-14T13:12:16.045Z"
   },
   {
    "duration": 18,
    "start_time": "2024-05-14T13:12:16.243Z"
   },
   {
    "duration": 749,
    "start_time": "2024-05-14T13:12:16.263Z"
   },
   {
    "duration": 280,
    "start_time": "2024-05-14T13:12:17.014Z"
   },
   {
    "duration": 208,
    "start_time": "2024-05-14T13:12:17.296Z"
   },
   {
    "duration": 307,
    "start_time": "2024-05-14T13:12:17.506Z"
   },
   {
    "duration": 392,
    "start_time": "2024-05-14T13:12:17.815Z"
   },
   {
    "duration": 6494,
    "start_time": "2024-05-14T13:12:18.209Z"
   },
   {
    "duration": 83,
    "start_time": "2024-05-14T13:12:24.705Z"
   },
   {
    "duration": 14747,
    "start_time": "2024-05-14T13:12:24.790Z"
   },
   {
    "duration": 1509,
    "start_time": "2024-05-14T13:12:39.539Z"
   },
   {
    "duration": 3412,
    "start_time": "2024-05-14T13:12:41.050Z"
   },
   {
    "duration": 511,
    "start_time": "2024-05-14T13:12:44.465Z"
   },
   {
    "duration": 704,
    "start_time": "2024-05-14T13:12:44.978Z"
   },
   {
    "duration": 13983,
    "start_time": "2024-05-14T13:12:45.683Z"
   },
   {
    "duration": 524,
    "start_time": "2024-05-14T13:12:59.670Z"
   },
   {
    "duration": 106,
    "start_time": "2024-05-14T13:13:00.195Z"
   },
   {
    "duration": 893,
    "start_time": "2024-05-14T13:13:00.302Z"
   },
   {
    "duration": 903,
    "start_time": "2024-05-14T13:13:01.197Z"
   },
   {
    "duration": 3,
    "start_time": "2024-05-14T13:13:02.102Z"
   },
   {
    "duration": 39,
    "start_time": "2024-05-14T13:13:02.107Z"
   },
   {
    "duration": 0,
    "start_time": "2024-05-14T13:13:02.148Z"
   },
   {
    "duration": 0,
    "start_time": "2024-05-14T13:13:02.149Z"
   },
   {
    "duration": 0,
    "start_time": "2024-05-14T13:13:02.151Z"
   },
   {
    "duration": 0,
    "start_time": "2024-05-14T13:13:02.152Z"
   },
   {
    "duration": 0,
    "start_time": "2024-05-14T13:13:02.153Z"
   },
   {
    "duration": 0,
    "start_time": "2024-05-14T13:13:02.154Z"
   },
   {
    "duration": 0,
    "start_time": "2024-05-14T13:13:02.155Z"
   },
   {
    "duration": 0,
    "start_time": "2024-05-14T13:13:02.156Z"
   },
   {
    "duration": 0,
    "start_time": "2024-05-14T13:13:02.157Z"
   },
   {
    "duration": 0,
    "start_time": "2024-05-14T13:13:02.158Z"
   },
   {
    "duration": 0,
    "start_time": "2024-05-14T13:13:02.160Z"
   },
   {
    "duration": 0,
    "start_time": "2024-05-14T13:13:02.161Z"
   },
   {
    "duration": 1901,
    "start_time": "2024-05-14T13:14:22.596Z"
   },
   {
    "duration": 885,
    "start_time": "2024-05-14T13:14:24.499Z"
   },
   {
    "duration": 44,
    "start_time": "2024-05-14T13:14:25.386Z"
   },
   {
    "duration": 117,
    "start_time": "2024-05-14T13:14:25.432Z"
   },
   {
    "duration": 7,
    "start_time": "2024-05-14T13:14:25.551Z"
   },
   {
    "duration": 9,
    "start_time": "2024-05-14T13:14:25.754Z"
   },
   {
    "duration": 214,
    "start_time": "2024-05-14T13:14:26.305Z"
   },
   {
    "duration": 6,
    "start_time": "2024-05-14T13:15:07.925Z"
   },
   {
    "duration": 59,
    "start_time": "2024-05-14T13:15:15.675Z"
   },
   {
    "duration": 19,
    "start_time": "2024-05-14T13:15:21.707Z"
   },
   {
    "duration": 8,
    "start_time": "2024-05-14T13:15:54.607Z"
   },
   {
    "duration": 16,
    "start_time": "2024-05-14T13:16:05.571Z"
   },
   {
    "duration": 8,
    "start_time": "2024-05-14T13:16:45.578Z"
   },
   {
    "duration": 21,
    "start_time": "2024-05-14T13:16:55.755Z"
   },
   {
    "duration": 7,
    "start_time": "2024-05-14T13:17:17.891Z"
   },
   {
    "duration": 3,
    "start_time": "2024-05-14T13:17:23.598Z"
   },
   {
    "duration": 14,
    "start_time": "2024-05-14T13:17:25.814Z"
   },
   {
    "duration": 6,
    "start_time": "2024-05-14T13:18:03.986Z"
   },
   {
    "duration": 13,
    "start_time": "2024-05-14T13:18:10.750Z"
   },
   {
    "duration": 7,
    "start_time": "2024-05-14T13:18:42.524Z"
   },
   {
    "duration": 3,
    "start_time": "2024-05-14T13:18:57.055Z"
   },
   {
    "duration": 3,
    "start_time": "2024-05-14T13:18:58.104Z"
   },
   {
    "duration": 250958,
    "start_time": "2024-05-14T13:18:59.314Z"
   },
   {
    "duration": 6,
    "start_time": "2024-05-14T13:23:10.276Z"
   },
   {
    "duration": 5539,
    "start_time": "2024-05-14T13:35:35.115Z"
   },
   {
    "duration": 5602,
    "start_time": "2024-05-14T13:35:40.657Z"
   },
   {
    "duration": 6,
    "start_time": "2024-05-14T13:35:46.264Z"
   },
   {
    "duration": 3193,
    "start_time": "2024-05-14T13:35:46.274Z"
   },
   {
    "duration": 3,
    "start_time": "2024-05-14T13:35:49.477Z"
   },
   {
    "duration": 23,
    "start_time": "2024-05-14T13:35:49.482Z"
   },
   {
    "duration": 4919,
    "start_time": "2024-05-14T13:35:49.506Z"
   },
   {
    "duration": 791,
    "start_time": "2024-05-14T13:35:54.427Z"
   },
   {
    "duration": 45,
    "start_time": "2024-05-14T13:35:55.219Z"
   },
   {
    "duration": 44,
    "start_time": "2024-05-14T13:35:55.266Z"
   },
   {
    "duration": 60,
    "start_time": "2024-05-14T13:35:55.312Z"
   },
   {
    "duration": 4,
    "start_time": "2024-05-14T13:35:55.373Z"
   },
   {
    "duration": 17141,
    "start_time": "2024-05-14T13:35:55.379Z"
   },
   {
    "duration": 2624,
    "start_time": "2024-05-14T13:36:12.523Z"
   },
   {
    "duration": 27,
    "start_time": "2024-05-14T13:36:15.148Z"
   },
   {
    "duration": 245,
    "start_time": "2024-05-14T13:36:15.177Z"
   },
   {
    "duration": 12547,
    "start_time": "2024-05-14T13:36:15.424Z"
   },
   {
    "duration": 10,
    "start_time": "2024-05-14T13:36:27.973Z"
   },
   {
    "duration": 18,
    "start_time": "2024-05-14T13:36:27.986Z"
   },
   {
    "duration": 624,
    "start_time": "2024-05-14T13:36:28.006Z"
   },
   {
    "duration": 3287,
    "start_time": "2024-05-14T13:36:28.631Z"
   },
   {
    "duration": 219,
    "start_time": "2024-05-14T13:36:31.920Z"
   },
   {
    "duration": 9,
    "start_time": "2024-05-14T13:36:32.140Z"
   },
   {
    "duration": 129,
    "start_time": "2024-05-14T13:36:32.161Z"
   },
   {
    "duration": 3626,
    "start_time": "2024-05-14T13:36:32.292Z"
   },
   {
    "duration": 190,
    "start_time": "2024-05-14T13:36:35.919Z"
   },
   {
    "duration": 17,
    "start_time": "2024-05-14T13:36:36.111Z"
   },
   {
    "duration": 741,
    "start_time": "2024-05-14T13:36:36.130Z"
   },
   {
    "duration": 275,
    "start_time": "2024-05-14T13:36:36.873Z"
   },
   {
    "duration": 196,
    "start_time": "2024-05-14T13:36:37.150Z"
   },
   {
    "duration": 305,
    "start_time": "2024-05-14T13:36:37.348Z"
   },
   {
    "duration": 382,
    "start_time": "2024-05-14T13:36:37.654Z"
   },
   {
    "duration": 5429,
    "start_time": "2024-05-14T13:36:38.038Z"
   },
   {
    "duration": 79,
    "start_time": "2024-05-14T13:36:43.468Z"
   },
   {
    "duration": 14437,
    "start_time": "2024-05-14T13:36:43.548Z"
   },
   {
    "duration": 1771,
    "start_time": "2024-05-14T13:36:57.987Z"
   },
   {
    "duration": 3372,
    "start_time": "2024-05-14T13:36:59.760Z"
   },
   {
    "duration": 520,
    "start_time": "2024-05-14T13:37:03.134Z"
   },
   {
    "duration": 629,
    "start_time": "2024-05-14T13:37:03.656Z"
   },
   {
    "duration": 10604,
    "start_time": "2024-05-14T13:37:04.288Z"
   },
   {
    "duration": 523,
    "start_time": "2024-05-14T13:37:14.897Z"
   },
   {
    "duration": 90,
    "start_time": "2024-05-14T13:37:15.422Z"
   },
   {
    "duration": 815,
    "start_time": "2024-05-14T13:37:15.514Z"
   },
   {
    "duration": 874,
    "start_time": "2024-05-14T13:37:16.331Z"
   },
   {
    "duration": 4,
    "start_time": "2024-05-14T13:37:17.207Z"
   },
   {
    "duration": 182646,
    "start_time": "2024-05-14T13:37:17.212Z"
   },
   {
    "duration": 2064,
    "start_time": "2024-05-14T13:40:19.860Z"
   },
   {
    "duration": 881,
    "start_time": "2024-05-14T13:40:21.926Z"
   },
   {
    "duration": 39,
    "start_time": "2024-05-14T13:40:22.808Z"
   },
   {
    "duration": 130,
    "start_time": "2024-05-14T13:40:22.849Z"
   },
   {
    "duration": 6,
    "start_time": "2024-05-14T13:40:22.981Z"
   },
   {
    "duration": 27,
    "start_time": "2024-05-14T13:40:22.989Z"
   },
   {
    "duration": 73,
    "start_time": "2024-05-14T13:40:23.018Z"
   },
   {
    "duration": 21,
    "start_time": "2024-05-14T13:40:23.093Z"
   },
   {
    "duration": 30,
    "start_time": "2024-05-14T13:40:23.116Z"
   },
   {
    "duration": 26,
    "start_time": "2024-05-14T13:40:23.148Z"
   },
   {
    "duration": 5858,
    "start_time": "2024-05-14T14:14:40.593Z"
   },
   {
    "duration": 5966,
    "start_time": "2024-05-14T14:14:46.453Z"
   },
   {
    "duration": 3,
    "start_time": "2024-05-14T14:14:52.421Z"
   },
   {
    "duration": 3017,
    "start_time": "2024-05-14T14:14:52.426Z"
   },
   {
    "duration": 3,
    "start_time": "2024-05-14T14:14:55.445Z"
   },
   {
    "duration": 8,
    "start_time": "2024-05-14T14:14:55.449Z"
   },
   {
    "duration": 4429,
    "start_time": "2024-05-14T14:14:55.463Z"
   },
   {
    "duration": 790,
    "start_time": "2024-05-14T14:14:59.894Z"
   },
   {
    "duration": 43,
    "start_time": "2024-05-14T14:15:00.687Z"
   },
   {
    "duration": 133,
    "start_time": "2024-05-14T14:15:00.733Z"
   },
   {
    "duration": 157,
    "start_time": "2024-05-14T14:15:00.867Z"
   },
   {
    "duration": 67,
    "start_time": "2024-05-14T14:15:01.026Z"
   },
   {
    "duration": 17628,
    "start_time": "2024-05-14T14:15:01.094Z"
   },
   {
    "duration": 2694,
    "start_time": "2024-05-14T14:15:18.725Z"
   },
   {
    "duration": 16,
    "start_time": "2024-05-14T14:15:21.421Z"
   },
   {
    "duration": 208,
    "start_time": "2024-05-14T14:15:21.439Z"
   },
   {
    "duration": 12768,
    "start_time": "2024-05-14T14:15:21.649Z"
   },
   {
    "duration": 10,
    "start_time": "2024-05-14T14:15:34.419Z"
   },
   {
    "duration": 42,
    "start_time": "2024-05-14T14:15:34.431Z"
   },
   {
    "duration": 619,
    "start_time": "2024-05-14T14:15:34.477Z"
   },
   {
    "duration": 3480,
    "start_time": "2024-05-14T14:15:35.097Z"
   },
   {
    "duration": 218,
    "start_time": "2024-05-14T14:15:38.579Z"
   },
   {
    "duration": 8,
    "start_time": "2024-05-14T14:15:38.799Z"
   },
   {
    "duration": 137,
    "start_time": "2024-05-14T14:15:38.809Z"
   },
   {
    "duration": 3807,
    "start_time": "2024-05-14T14:15:38.948Z"
   },
   {
    "duration": 207,
    "start_time": "2024-05-14T14:15:42.762Z"
   },
   {
    "duration": 20,
    "start_time": "2024-05-14T14:15:42.978Z"
   },
   {
    "duration": 742,
    "start_time": "2024-05-14T14:15:42.999Z"
   },
   {
    "duration": 272,
    "start_time": "2024-05-14T14:15:43.743Z"
   },
   {
    "duration": 214,
    "start_time": "2024-05-14T14:15:44.017Z"
   },
   {
    "duration": 305,
    "start_time": "2024-05-14T14:15:44.233Z"
   },
   {
    "duration": 412,
    "start_time": "2024-05-14T14:15:44.539Z"
   },
   {
    "duration": 3795,
    "start_time": "2024-05-14T14:15:44.952Z"
   },
   {
    "duration": 83,
    "start_time": "2024-05-14T14:15:48.749Z"
   },
   {
    "duration": 14521,
    "start_time": "2024-05-14T14:15:48.834Z"
   },
   {
    "duration": 1850,
    "start_time": "2024-05-14T14:16:03.357Z"
   },
   {
    "duration": 3485,
    "start_time": "2024-05-14T14:16:05.208Z"
   },
   {
    "duration": 514,
    "start_time": "2024-05-14T14:16:08.696Z"
   },
   {
    "duration": 571,
    "start_time": "2024-05-14T14:16:09.212Z"
   },
   {
    "duration": 14065,
    "start_time": "2024-05-14T14:16:09.785Z"
   },
   {
    "duration": 525,
    "start_time": "2024-05-14T14:16:23.860Z"
   },
   {
    "duration": 86,
    "start_time": "2024-05-14T14:16:24.386Z"
   },
   {
    "duration": 777,
    "start_time": "2024-05-14T14:16:24.474Z"
   },
   {
    "duration": 841,
    "start_time": "2024-05-14T14:16:25.253Z"
   },
   {
    "duration": 3,
    "start_time": "2024-05-14T14:16:26.095Z"
   },
   {
    "duration": 173286,
    "start_time": "2024-05-14T14:16:26.100Z"
   },
   {
    "duration": 2043,
    "start_time": "2024-05-14T14:19:19.388Z"
   },
   {
    "duration": 846,
    "start_time": "2024-05-14T14:19:21.433Z"
   },
   {
    "duration": 37,
    "start_time": "2024-05-14T14:19:22.281Z"
   },
   {
    "duration": 126,
    "start_time": "2024-05-14T14:19:22.320Z"
   },
   {
    "duration": 6,
    "start_time": "2024-05-14T14:19:22.448Z"
   },
   {
    "duration": 43,
    "start_time": "2024-05-14T14:19:22.469Z"
   },
   {
    "duration": 72,
    "start_time": "2024-05-14T14:19:22.513Z"
   },
   {
    "duration": 3,
    "start_time": "2024-05-14T14:19:22.587Z"
   },
   {
    "duration": 81,
    "start_time": "2024-05-14T14:19:22.592Z"
   },
   {
    "duration": 25,
    "start_time": "2024-05-14T14:19:22.675Z"
   },
   {
    "duration": 87,
    "start_time": "2024-05-14T14:22:31.149Z"
   },
   {
    "duration": 7,
    "start_time": "2024-05-14T14:22:37.238Z"
   },
   {
    "duration": 5407,
    "start_time": "2024-05-14T14:22:51.193Z"
   },
   {
    "duration": 5590,
    "start_time": "2024-05-14T14:22:56.602Z"
   },
   {
    "duration": 4,
    "start_time": "2024-05-14T14:23:02.194Z"
   },
   {
    "duration": 3125,
    "start_time": "2024-05-14T14:23:02.200Z"
   },
   {
    "duration": 2,
    "start_time": "2024-05-14T14:23:05.328Z"
   },
   {
    "duration": 15,
    "start_time": "2024-05-14T14:23:05.332Z"
   },
   {
    "duration": 4676,
    "start_time": "2024-05-14T14:23:05.349Z"
   },
   {
    "duration": 807,
    "start_time": "2024-05-14T14:23:10.026Z"
   },
   {
    "duration": 43,
    "start_time": "2024-05-14T14:23:10.835Z"
   },
   {
    "duration": 44,
    "start_time": "2024-05-14T14:23:10.879Z"
   },
   {
    "duration": 54,
    "start_time": "2024-05-14T14:23:10.925Z"
   },
   {
    "duration": 3,
    "start_time": "2024-05-14T14:23:10.981Z"
   },
   {
    "duration": 17112,
    "start_time": "2024-05-14T14:23:10.985Z"
   },
   {
    "duration": 2587,
    "start_time": "2024-05-14T14:23:28.112Z"
   },
   {
    "duration": 19,
    "start_time": "2024-05-14T14:23:30.701Z"
   },
   {
    "duration": 304,
    "start_time": "2024-05-14T14:23:30.721Z"
   },
   {
    "duration": 12254,
    "start_time": "2024-05-14T14:23:31.026Z"
   },
   {
    "duration": 10,
    "start_time": "2024-05-14T14:23:43.281Z"
   },
   {
    "duration": 28,
    "start_time": "2024-05-14T14:23:43.292Z"
   },
   {
    "duration": 627,
    "start_time": "2024-05-14T14:23:43.322Z"
   },
   {
    "duration": 3532,
    "start_time": "2024-05-14T14:23:43.950Z"
   },
   {
    "duration": 234,
    "start_time": "2024-05-14T14:23:47.483Z"
   },
   {
    "duration": 9,
    "start_time": "2024-05-14T14:23:47.719Z"
   },
   {
    "duration": 150,
    "start_time": "2024-05-14T14:23:47.729Z"
   },
   {
    "duration": 3792,
    "start_time": "2024-05-14T14:23:47.881Z"
   },
   {
    "duration": 218,
    "start_time": "2024-05-14T14:23:51.675Z"
   },
   {
    "duration": 44,
    "start_time": "2024-05-14T14:23:51.895Z"
   },
   {
    "duration": 780,
    "start_time": "2024-05-14T14:23:51.941Z"
   },
   {
    "duration": 274,
    "start_time": "2024-05-14T14:23:52.723Z"
   },
   {
    "duration": 228,
    "start_time": "2024-05-14T14:23:52.999Z"
   },
   {
    "duration": 304,
    "start_time": "2024-05-14T14:23:53.229Z"
   },
   {
    "duration": 386,
    "start_time": "2024-05-14T14:23:53.535Z"
   },
   {
    "duration": 4923,
    "start_time": "2024-05-14T14:23:53.923Z"
   },
   {
    "duration": 85,
    "start_time": "2024-05-14T14:23:58.848Z"
   },
   {
    "duration": 15982,
    "start_time": "2024-05-14T14:23:58.934Z"
   },
   {
    "duration": 2006,
    "start_time": "2024-05-14T14:24:14.918Z"
   },
   {
    "duration": 3601,
    "start_time": "2024-05-14T14:24:16.925Z"
   },
   {
    "duration": 510,
    "start_time": "2024-05-14T14:24:20.527Z"
   },
   {
    "duration": 631,
    "start_time": "2024-05-14T14:24:21.039Z"
   },
   {
    "duration": 14931,
    "start_time": "2024-05-14T14:24:21.671Z"
   },
   {
    "duration": 604,
    "start_time": "2024-05-14T14:24:36.606Z"
   },
   {
    "duration": 108,
    "start_time": "2024-05-14T14:24:37.212Z"
   },
   {
    "duration": 897,
    "start_time": "2024-05-14T14:24:37.321Z"
   },
   {
    "duration": 957,
    "start_time": "2024-05-14T14:24:38.220Z"
   },
   {
    "duration": 4,
    "start_time": "2024-05-14T14:24:39.179Z"
   },
   {
    "duration": 184615,
    "start_time": "2024-05-14T14:24:39.185Z"
   },
   {
    "duration": 1971,
    "start_time": "2024-05-14T14:27:43.802Z"
   },
   {
    "duration": 900,
    "start_time": "2024-05-14T14:27:45.775Z"
   },
   {
    "duration": 39,
    "start_time": "2024-05-14T14:27:46.677Z"
   },
   {
    "duration": 113,
    "start_time": "2024-05-14T14:27:46.718Z"
   },
   {
    "duration": 6,
    "start_time": "2024-05-14T14:27:46.833Z"
   },
   {
    "duration": 41,
    "start_time": "2024-05-14T14:27:46.840Z"
   },
   {
    "duration": 73,
    "start_time": "2024-05-14T14:27:46.883Z"
   },
   {
    "duration": 5,
    "start_time": "2024-05-14T14:27:46.957Z"
   },
   {
    "duration": 39,
    "start_time": "2024-05-14T14:27:46.966Z"
   },
   {
    "duration": 32,
    "start_time": "2024-05-14T14:27:47.006Z"
   },
   {
    "duration": 227211,
    "start_time": "2024-05-14T14:27:47.039Z"
   },
   {
    "duration": 259,
    "start_time": "2024-05-14T14:31:34.252Z"
   },
   {
    "duration": 4,
    "start_time": "2024-05-14T14:31:34.513Z"
   },
   {
    "duration": 7,
    "start_time": "2024-05-14T14:31:34.518Z"
   },
   {
    "duration": 5,
    "start_time": "2024-05-14T14:31:34.526Z"
   },
   {
    "duration": 5259,
    "start_time": "2024-05-14T14:49:01.902Z"
   },
   {
    "duration": 5306,
    "start_time": "2024-05-14T14:49:07.164Z"
   },
   {
    "duration": 4,
    "start_time": "2024-05-14T14:49:12.472Z"
   },
   {
    "duration": 3172,
    "start_time": "2024-05-14T14:49:12.478Z"
   },
   {
    "duration": 19,
    "start_time": "2024-05-14T14:49:15.651Z"
   },
   {
    "duration": 6,
    "start_time": "2024-05-14T14:49:15.671Z"
   },
   {
    "duration": 5101,
    "start_time": "2024-05-14T14:49:15.679Z"
   },
   {
    "duration": 803,
    "start_time": "2024-05-14T14:49:20.782Z"
   },
   {
    "duration": 40,
    "start_time": "2024-05-14T14:49:21.587Z"
   },
   {
    "duration": 45,
    "start_time": "2024-05-14T14:49:21.630Z"
   },
   {
    "duration": 50,
    "start_time": "2024-05-14T14:49:21.676Z"
   },
   {
    "duration": 3,
    "start_time": "2024-05-14T14:49:21.728Z"
   },
   {
    "duration": 16773,
    "start_time": "2024-05-14T14:49:21.733Z"
   },
   {
    "duration": 2549,
    "start_time": "2024-05-14T14:49:38.508Z"
   },
   {
    "duration": 24,
    "start_time": "2024-05-14T14:49:41.059Z"
   },
   {
    "duration": 192,
    "start_time": "2024-05-14T14:49:41.084Z"
   },
   {
    "duration": 12197,
    "start_time": "2024-05-14T14:49:41.277Z"
   },
   {
    "duration": 9,
    "start_time": "2024-05-14T14:49:53.476Z"
   },
   {
    "duration": 28,
    "start_time": "2024-05-14T14:49:53.487Z"
   },
   {
    "duration": 617,
    "start_time": "2024-05-14T14:49:53.516Z"
   },
   {
    "duration": 3287,
    "start_time": "2024-05-14T14:49:54.135Z"
   },
   {
    "duration": 219,
    "start_time": "2024-05-14T14:49:57.423Z"
   },
   {
    "duration": 9,
    "start_time": "2024-05-14T14:49:57.644Z"
   },
   {
    "duration": 140,
    "start_time": "2024-05-14T14:49:57.664Z"
   },
   {
    "duration": 3742,
    "start_time": "2024-05-14T14:49:57.805Z"
   },
   {
    "duration": 196,
    "start_time": "2024-05-14T14:50:01.549Z"
   },
   {
    "duration": 111,
    "start_time": "2024-05-14T14:50:01.746Z"
   },
   {
    "duration": 780,
    "start_time": "2024-05-14T14:50:01.862Z"
   },
   {
    "duration": 277,
    "start_time": "2024-05-14T14:50:02.644Z"
   },
   {
    "duration": 268,
    "start_time": "2024-05-14T14:50:02.923Z"
   },
   {
    "duration": 309,
    "start_time": "2024-05-14T14:50:03.193Z"
   },
   {
    "duration": 400,
    "start_time": "2024-05-14T14:50:03.504Z"
   },
   {
    "duration": 5059,
    "start_time": "2024-05-14T14:50:03.906Z"
   },
   {
    "duration": 80,
    "start_time": "2024-05-14T14:50:08.970Z"
   },
   {
    "duration": 15361,
    "start_time": "2024-05-14T14:50:09.052Z"
   },
   {
    "duration": 2803,
    "start_time": "2024-05-14T14:50:24.415Z"
   },
   {
    "duration": 3390,
    "start_time": "2024-05-14T14:50:27.219Z"
   },
   {
    "duration": 527,
    "start_time": "2024-05-14T14:50:30.611Z"
   },
   {
    "duration": 635,
    "start_time": "2024-05-14T14:50:31.140Z"
   },
   {
    "duration": 15122,
    "start_time": "2024-05-14T14:50:31.777Z"
   },
   {
    "duration": 616,
    "start_time": "2024-05-14T14:50:46.900Z"
   },
   {
    "duration": 102,
    "start_time": "2024-05-14T14:50:47.517Z"
   },
   {
    "duration": 894,
    "start_time": "2024-05-14T14:50:47.621Z"
   },
   {
    "duration": 915,
    "start_time": "2024-05-14T14:50:48.517Z"
   },
   {
    "duration": 4,
    "start_time": "2024-05-14T14:50:49.434Z"
   },
   {
    "duration": 186297,
    "start_time": "2024-05-14T14:50:49.440Z"
   },
   {
    "duration": 2224,
    "start_time": "2024-05-14T14:53:55.738Z"
   },
   {
    "duration": 947,
    "start_time": "2024-05-14T14:53:57.965Z"
   },
   {
    "duration": 54,
    "start_time": "2024-05-14T14:53:58.914Z"
   },
   {
    "duration": 168,
    "start_time": "2024-05-14T14:53:58.971Z"
   },
   {
    "duration": 7,
    "start_time": "2024-05-14T14:53:59.141Z"
   },
   {
    "duration": 30,
    "start_time": "2024-05-14T14:53:59.150Z"
   },
   {
    "duration": 71,
    "start_time": "2024-05-14T14:53:59.183Z"
   },
   {
    "duration": 10,
    "start_time": "2024-05-14T14:53:59.256Z"
   },
   {
    "duration": 11,
    "start_time": "2024-05-14T14:53:59.268Z"
   },
   {
    "duration": 8,
    "start_time": "2024-05-14T14:53:59.281Z"
   },
   {
    "duration": 6794,
    "start_time": "2024-05-15T05:15:06.808Z"
   },
   {
    "duration": 25909,
    "start_time": "2024-05-15T05:15:13.604Z"
   },
   {
    "duration": 4,
    "start_time": "2024-05-15T05:15:39.515Z"
   },
   {
    "duration": 2328,
    "start_time": "2024-05-15T05:15:39.521Z"
   },
   {
    "duration": 2,
    "start_time": "2024-05-15T05:15:41.851Z"
   },
   {
    "duration": 7,
    "start_time": "2024-05-15T05:15:41.864Z"
   },
   {
    "duration": 4416,
    "start_time": "2024-05-15T05:15:41.872Z"
   },
   {
    "duration": 1000,
    "start_time": "2024-05-15T05:15:46.290Z"
   },
   {
    "duration": 39,
    "start_time": "2024-05-15T05:15:47.291Z"
   },
   {
    "duration": 39,
    "start_time": "2024-05-15T05:15:47.333Z"
   },
   {
    "duration": 45,
    "start_time": "2024-05-15T05:15:47.374Z"
   },
   {
    "duration": 2,
    "start_time": "2024-05-15T05:15:47.421Z"
   },
   {
    "duration": 17754,
    "start_time": "2024-05-15T05:15:47.424Z"
   },
   {
    "duration": 2349,
    "start_time": "2024-05-15T05:16:05.180Z"
   },
   {
    "duration": 16,
    "start_time": "2024-05-15T05:16:07.530Z"
   },
   {
    "duration": 186,
    "start_time": "2024-05-15T05:16:07.548Z"
   },
   {
    "duration": 11106,
    "start_time": "2024-05-15T05:16:07.735Z"
   },
   {
    "duration": 11,
    "start_time": "2024-05-15T05:16:18.843Z"
   },
   {
    "duration": 36,
    "start_time": "2024-05-15T05:16:18.855Z"
   },
   {
    "duration": 597,
    "start_time": "2024-05-15T05:16:18.893Z"
   },
   {
    "duration": 3075,
    "start_time": "2024-05-15T05:16:19.492Z"
   },
   {
    "duration": 209,
    "start_time": "2024-05-15T05:16:22.568Z"
   },
   {
    "duration": 9,
    "start_time": "2024-05-15T05:16:22.778Z"
   },
   {
    "duration": 117,
    "start_time": "2024-05-15T05:16:22.788Z"
   },
   {
    "duration": 3600,
    "start_time": "2024-05-15T05:16:22.907Z"
   },
   {
    "duration": 164,
    "start_time": "2024-05-15T05:16:26.509Z"
   },
   {
    "duration": 6,
    "start_time": "2024-05-15T05:16:26.675Z"
   },
   {
    "duration": 739,
    "start_time": "2024-05-15T05:16:26.686Z"
   },
   {
    "duration": 282,
    "start_time": "2024-05-15T05:16:27.426Z"
   },
   {
    "duration": 205,
    "start_time": "2024-05-15T05:16:27.709Z"
   },
   {
    "duration": 314,
    "start_time": "2024-05-15T05:16:27.916Z"
   },
   {
    "duration": 335,
    "start_time": "2024-05-15T05:16:28.232Z"
   },
   {
    "duration": 5681,
    "start_time": "2024-05-15T05:16:28.569Z"
   },
   {
    "duration": 76,
    "start_time": "2024-05-15T05:16:34.252Z"
   },
   {
    "duration": 13333,
    "start_time": "2024-05-15T05:16:34.330Z"
   },
   {
    "duration": 1920,
    "start_time": "2024-05-15T05:16:47.666Z"
   },
   {
    "duration": 2906,
    "start_time": "2024-05-15T05:16:49.588Z"
   },
   {
    "duration": 641,
    "start_time": "2024-05-15T05:16:52.496Z"
   },
   {
    "duration": 649,
    "start_time": "2024-05-15T05:16:53.139Z"
   },
   {
    "duration": 15425,
    "start_time": "2024-05-15T05:16:53.790Z"
   },
   {
    "duration": 541,
    "start_time": "2024-05-15T05:17:09.217Z"
   },
   {
    "duration": 105,
    "start_time": "2024-05-15T05:17:09.760Z"
   },
   {
    "duration": 806,
    "start_time": "2024-05-15T05:17:09.867Z"
   },
   {
    "duration": 891,
    "start_time": "2024-05-15T05:17:10.675Z"
   },
   {
    "duration": 3,
    "start_time": "2024-05-15T05:17:11.568Z"
   },
   {
    "duration": 162140,
    "start_time": "2024-05-15T05:17:11.572Z"
   },
   {
    "duration": 1890,
    "start_time": "2024-05-15T05:19:53.713Z"
   },
   {
    "duration": 805,
    "start_time": "2024-05-15T05:19:55.604Z"
   },
   {
    "duration": 37,
    "start_time": "2024-05-15T05:19:56.411Z"
   },
   {
    "duration": 106,
    "start_time": "2024-05-15T05:19:56.464Z"
   },
   {
    "duration": 6,
    "start_time": "2024-05-15T05:19:56.573Z"
   },
   {
    "duration": 17,
    "start_time": "2024-05-15T05:19:56.581Z"
   },
   {
    "duration": 81,
    "start_time": "2024-05-15T05:19:56.599Z"
   },
   {
    "duration": 3,
    "start_time": "2024-05-15T05:19:56.682Z"
   },
   {
    "duration": 8,
    "start_time": "2024-05-15T05:19:56.687Z"
   },
   {
    "duration": 9,
    "start_time": "2024-05-15T05:19:56.696Z"
   },
   {
    "duration": 49,
    "start_time": "2024-05-15T05:34:02.422Z"
   },
   {
    "duration": 4773,
    "start_time": "2024-05-15T05:34:23.506Z"
   },
   {
    "duration": 4965,
    "start_time": "2024-05-15T05:34:28.282Z"
   },
   {
    "duration": 3,
    "start_time": "2024-05-15T05:34:33.249Z"
   },
   {
    "duration": 2584,
    "start_time": "2024-05-15T05:34:33.254Z"
   },
   {
    "duration": 4,
    "start_time": "2024-05-15T05:34:35.840Z"
   },
   {
    "duration": 6,
    "start_time": "2024-05-15T05:34:35.847Z"
   },
   {
    "duration": 4390,
    "start_time": "2024-05-15T05:34:35.865Z"
   },
   {
    "duration": 788,
    "start_time": "2024-05-15T05:34:40.257Z"
   },
   {
    "duration": 40,
    "start_time": "2024-05-15T05:34:41.047Z"
   },
   {
    "duration": 40,
    "start_time": "2024-05-15T05:34:41.089Z"
   },
   {
    "duration": 46,
    "start_time": "2024-05-15T05:34:41.131Z"
   },
   {
    "duration": 3,
    "start_time": "2024-05-15T05:34:41.178Z"
   },
   {
    "duration": 16068,
    "start_time": "2024-05-15T05:34:41.182Z"
   },
   {
    "duration": 2455,
    "start_time": "2024-05-15T05:34:57.252Z"
   },
   {
    "duration": 16,
    "start_time": "2024-05-15T05:34:59.708Z"
   },
   {
    "duration": 178,
    "start_time": "2024-05-15T05:34:59.726Z"
   },
   {
    "duration": 11352,
    "start_time": "2024-05-15T05:34:59.906Z"
   },
   {
    "duration": 12,
    "start_time": "2024-05-15T05:35:11.259Z"
   },
   {
    "duration": 36,
    "start_time": "2024-05-15T05:35:11.273Z"
   },
   {
    "duration": 574,
    "start_time": "2024-05-15T05:35:11.311Z"
   },
   {
    "duration": 3084,
    "start_time": "2024-05-15T05:35:11.887Z"
   },
   {
    "duration": 220,
    "start_time": "2024-05-15T05:35:14.972Z"
   },
   {
    "duration": 8,
    "start_time": "2024-05-15T05:35:15.194Z"
   },
   {
    "duration": 131,
    "start_time": "2024-05-15T05:35:15.204Z"
   },
   {
    "duration": 3450,
    "start_time": "2024-05-15T05:35:15.337Z"
   },
   {
    "duration": 207,
    "start_time": "2024-05-15T05:35:18.789Z"
   },
   {
    "duration": 8,
    "start_time": "2024-05-15T05:35:18.997Z"
   },
   {
    "duration": 725,
    "start_time": "2024-05-15T05:35:19.008Z"
   },
   {
    "duration": 277,
    "start_time": "2024-05-15T05:35:19.734Z"
   },
   {
    "duration": 181,
    "start_time": "2024-05-15T05:35:20.013Z"
   },
   {
    "duration": 301,
    "start_time": "2024-05-15T05:35:20.196Z"
   },
   {
    "duration": 373,
    "start_time": "2024-05-15T05:35:20.498Z"
   },
   {
    "duration": 4966,
    "start_time": "2024-05-15T05:35:20.873Z"
   },
   {
    "duration": 80,
    "start_time": "2024-05-15T05:35:25.840Z"
   },
   {
    "duration": 13389,
    "start_time": "2024-05-15T05:35:25.921Z"
   },
   {
    "duration": 1788,
    "start_time": "2024-05-15T05:35:39.312Z"
   },
   {
    "duration": 3116,
    "start_time": "2024-05-15T05:35:41.101Z"
   },
   {
    "duration": 2793,
    "start_time": "2024-05-15T05:35:44.219Z"
   },
   {
    "duration": 652,
    "start_time": "2024-05-15T05:35:47.013Z"
   },
   {
    "duration": 5570,
    "start_time": "2024-05-15T05:35:47.667Z"
   },
   {
    "duration": 51,
    "start_time": "2024-05-15T05:36:03.434Z"
   },
   {
    "duration": 95,
    "start_time": "2024-05-15T05:36:32.984Z"
   },
   {
    "duration": 195,
    "start_time": "2024-05-15T05:37:35.803Z"
   },
   {
    "duration": 159,
    "start_time": "2024-05-15T05:39:17.854Z"
   },
   {
    "duration": 46,
    "start_time": "2024-05-15T05:39:43.517Z"
   },
   {
    "duration": 99,
    "start_time": "2024-05-15T05:39:55.692Z"
   },
   {
    "duration": 3,
    "start_time": "2024-05-15T05:40:09.563Z"
   },
   {
    "duration": 13473,
    "start_time": "2024-05-15T05:40:38.503Z"
   },
   {
    "duration": 68,
    "start_time": "2024-05-15T06:15:38.062Z"
   },
   {
    "duration": 5,
    "start_time": "2024-05-15T06:15:39.033Z"
   },
   {
    "duration": 7,
    "start_time": "2024-05-15T06:15:43.000Z"
   },
   {
    "duration": 27,
    "start_time": "2024-05-15T06:15:44.252Z"
   },
   {
    "duration": 4,
    "start_time": "2024-05-15T06:15:46.398Z"
   },
   {
    "duration": 3,
    "start_time": "2024-05-15T06:15:47.351Z"
   },
   {
    "duration": 4,
    "start_time": "2024-05-15T06:15:48.581Z"
   },
   {
    "duration": 129762,
    "start_time": "2024-05-15T06:15:49.521Z"
   },
   {
    "duration": 88,
    "start_time": "2024-05-15T06:26:22.525Z"
   },
   {
    "duration": 9,
    "start_time": "2024-05-15T06:27:48.205Z"
   },
   {
    "duration": 94,
    "start_time": "2024-05-15T06:44:39.565Z"
   },
   {
    "duration": 53,
    "start_time": "2024-05-15T06:44:51.484Z"
   },
   {
    "duration": 13,
    "start_time": "2024-05-15T06:44:55.634Z"
   },
   {
    "duration": 18,
    "start_time": "2024-05-15T06:45:07.987Z"
   },
   {
    "duration": 36,
    "start_time": "2024-05-15T06:45:11.944Z"
   },
   {
    "duration": 6,
    "start_time": "2024-05-15T06:45:13.326Z"
   },
   {
    "duration": 6,
    "start_time": "2024-05-15T06:45:15.565Z"
   },
   {
    "duration": 28,
    "start_time": "2024-05-15T06:45:16.195Z"
   },
   {
    "duration": 4,
    "start_time": "2024-05-15T06:45:17.716Z"
   },
   {
    "duration": 3,
    "start_time": "2024-05-15T06:45:19.015Z"
   },
   {
    "duration": 3,
    "start_time": "2024-05-15T06:45:19.887Z"
   },
   {
    "duration": 104720,
    "start_time": "2024-05-15T06:45:20.705Z"
   },
   {
    "duration": 52,
    "start_time": "2024-05-15T06:47:05.427Z"
   },
   {
    "duration": 3,
    "start_time": "2024-05-15T06:47:05.481Z"
   },
   {
    "duration": 71,
    "start_time": "2024-05-15T06:47:05.486Z"
   },
   {
    "duration": 36,
    "start_time": "2024-05-15T06:47:05.558Z"
   },
   {
    "duration": 60326,
    "start_time": "2024-05-15T06:47:05.596Z"
   },
   {
    "duration": 156,
    "start_time": "2024-05-15T06:48:05.923Z"
   },
   {
    "duration": 3,
    "start_time": "2024-05-15T06:48:06.081Z"
   },
   {
    "duration": 25,
    "start_time": "2024-05-15T06:48:06.086Z"
   },
   {
    "duration": 109459,
    "start_time": "2024-05-15T06:48:06.114Z"
   },
   {
    "duration": 119,
    "start_time": "2024-05-15T06:49:55.575Z"
   },
   {
    "duration": 10,
    "start_time": "2024-05-15T06:50:03.557Z"
   },
   {
    "duration": 301,
    "start_time": "2024-05-15T06:59:49.026Z"
   },
   {
    "duration": 12375,
    "start_time": "2024-05-15T07:00:26.972Z"
   },
   {
    "duration": 25,
    "start_time": "2024-05-15T07:02:51.848Z"
   },
   {
    "duration": 89,
    "start_time": "2024-05-15T07:03:25.637Z"
   },
   {
    "duration": 17,
    "start_time": "2024-05-15T07:03:39.188Z"
   },
   {
    "duration": 598,
    "start_time": "2024-05-15T07:07:28.794Z"
   },
   {
    "duration": 5,
    "start_time": "2024-05-15T07:11:32.781Z"
   },
   {
    "duration": 12,
    "start_time": "2024-05-15T07:12:18.552Z"
   },
   {
    "duration": 3,
    "start_time": "2024-05-15T07:12:57.599Z"
   },
   {
    "duration": 12,
    "start_time": "2024-05-15T07:13:24.049Z"
   },
   {
    "duration": 31,
    "start_time": "2024-05-15T07:14:28.860Z"
   },
   {
    "duration": 741,
    "start_time": "2024-05-15T07:14:42.377Z"
   },
   {
    "duration": 8,
    "start_time": "2024-05-15T07:22:39.426Z"
   },
   {
    "duration": 24,
    "start_time": "2024-05-15T07:22:41.349Z"
   },
   {
    "duration": 3,
    "start_time": "2024-05-15T07:22:46.108Z"
   },
   {
    "duration": 23,
    "start_time": "2024-05-15T07:22:47.179Z"
   },
   {
    "duration": 6,
    "start_time": "2024-05-15T07:22:48.220Z"
   },
   {
    "duration": 6,
    "start_time": "2024-05-15T07:22:50.519Z"
   },
   {
    "duration": 27,
    "start_time": "2024-05-15T07:22:50.980Z"
   },
   {
    "duration": 3,
    "start_time": "2024-05-15T07:22:52.549Z"
   },
   {
    "duration": 4,
    "start_time": "2024-05-15T07:22:53.440Z"
   },
   {
    "duration": 10,
    "start_time": "2024-05-15T07:22:54.568Z"
   },
   {
    "duration": 124168,
    "start_time": "2024-05-15T07:22:55.589Z"
   },
   {
    "duration": 57,
    "start_time": "2024-05-15T07:24:59.759Z"
   },
   {
    "duration": 4,
    "start_time": "2024-05-15T07:24:59.817Z"
   },
   {
    "duration": 35,
    "start_time": "2024-05-15T07:24:59.822Z"
   },
   {
    "duration": 20,
    "start_time": "2024-05-15T07:24:59.859Z"
   },
   {
    "duration": 53424,
    "start_time": "2024-05-15T07:24:59.880Z"
   },
   {
    "duration": 108,
    "start_time": "2024-05-15T07:25:53.305Z"
   },
   {
    "duration": 3,
    "start_time": "2024-05-15T07:25:53.415Z"
   },
   {
    "duration": 5,
    "start_time": "2024-05-15T07:25:53.420Z"
   },
   {
    "duration": 190540,
    "start_time": "2024-05-15T07:25:53.427Z"
   },
   {
    "duration": 115,
    "start_time": "2024-05-15T07:29:03.969Z"
   },
   {
    "duration": 10,
    "start_time": "2024-05-15T07:29:04.087Z"
   },
   {
    "duration": 323,
    "start_time": "2024-05-15T07:29:04.098Z"
   },
   {
    "duration": 12082,
    "start_time": "2024-05-15T07:29:04.423Z"
   },
   {
    "duration": 11,
    "start_time": "2024-05-15T07:29:16.507Z"
   },
   {
    "duration": 6,
    "start_time": "2024-05-15T07:29:16.519Z"
   },
   {
    "duration": 16,
    "start_time": "2024-05-15T07:29:16.526Z"
   },
   {
    "duration": 55,
    "start_time": "2024-05-15T07:29:16.543Z"
   },
   {
    "duration": 725,
    "start_time": "2024-05-15T07:29:16.600Z"
   },
   {
    "duration": 128,
    "start_time": "2024-05-15T07:34:36.075Z"
   },
   {
    "duration": 7,
    "start_time": "2024-05-15T07:36:18.802Z"
   },
   {
    "duration": 226,
    "start_time": "2024-05-15T07:36:24.888Z"
   },
   {
    "duration": 327,
    "start_time": "2024-05-15T07:51:08.913Z"
   },
   {
    "duration": 5396,
    "start_time": "2024-05-15T08:00:05.467Z"
   },
   {
    "duration": 5579,
    "start_time": "2024-05-15T08:00:10.865Z"
   },
   {
    "duration": 3,
    "start_time": "2024-05-15T08:00:16.446Z"
   },
   {
    "duration": 23,
    "start_time": "2024-05-15T08:00:16.451Z"
   },
   {
    "duration": 9,
    "start_time": "2024-05-15T08:00:16.475Z"
   },
   {
    "duration": 8,
    "start_time": "2024-05-15T08:00:16.486Z"
   },
   {
    "duration": 8,
    "start_time": "2024-05-15T08:00:16.496Z"
   },
   {
    "duration": 817,
    "start_time": "2024-05-15T08:00:16.505Z"
   },
   {
    "duration": 39,
    "start_time": "2024-05-15T08:00:17.323Z"
   },
   {
    "duration": 40,
    "start_time": "2024-05-15T08:00:17.365Z"
   },
   {
    "duration": 46,
    "start_time": "2024-05-15T08:00:17.406Z"
   },
   {
    "duration": 3,
    "start_time": "2024-05-15T08:00:17.454Z"
   },
   {
    "duration": 5185,
    "start_time": "2024-05-15T08:00:35.841Z"
   },
   {
    "duration": 5228,
    "start_time": "2024-05-15T08:00:41.028Z"
   },
   {
    "duration": 2,
    "start_time": "2024-05-15T08:00:46.259Z"
   },
   {
    "duration": 3815,
    "start_time": "2024-05-15T08:00:46.263Z"
   },
   {
    "duration": 3,
    "start_time": "2024-05-15T08:00:50.080Z"
   },
   {
    "duration": 28,
    "start_time": "2024-05-15T08:00:50.085Z"
   },
   {
    "duration": 21203,
    "start_time": "2024-05-15T08:00:50.115Z"
   },
   {
    "duration": 799,
    "start_time": "2024-05-15T08:01:11.320Z"
   },
   {
    "duration": 39,
    "start_time": "2024-05-15T08:01:12.120Z"
   },
   {
    "duration": 40,
    "start_time": "2024-05-15T08:01:12.161Z"
   },
   {
    "duration": 51,
    "start_time": "2024-05-15T08:01:12.203Z"
   },
   {
    "duration": 3,
    "start_time": "2024-05-15T08:01:12.256Z"
   },
   {
    "duration": 16475,
    "start_time": "2024-05-15T08:01:12.260Z"
   },
   {
    "duration": 2507,
    "start_time": "2024-05-15T08:01:28.736Z"
   },
   {
    "duration": 18,
    "start_time": "2024-05-15T08:01:31.244Z"
   },
   {
    "duration": 270,
    "start_time": "2024-05-15T08:01:31.265Z"
   },
   {
    "duration": 11407,
    "start_time": "2024-05-15T08:01:31.537Z"
   },
   {
    "duration": 8,
    "start_time": "2024-05-15T08:01:42.945Z"
   },
   {
    "duration": 21,
    "start_time": "2024-05-15T08:01:42.955Z"
   },
   {
    "duration": 570,
    "start_time": "2024-05-15T08:01:42.977Z"
   },
   {
    "duration": 3217,
    "start_time": "2024-05-15T08:01:43.548Z"
   },
   {
    "duration": 220,
    "start_time": "2024-05-15T08:01:46.766Z"
   },
   {
    "duration": 9,
    "start_time": "2024-05-15T08:01:46.987Z"
   },
   {
    "duration": 121,
    "start_time": "2024-05-15T08:01:46.998Z"
   },
   {
    "duration": 3517,
    "start_time": "2024-05-15T08:01:47.121Z"
   },
   {
    "duration": 176,
    "start_time": "2024-05-15T08:01:50.640Z"
   },
   {
    "duration": 15,
    "start_time": "2024-05-15T08:01:50.817Z"
   },
   {
    "duration": 785,
    "start_time": "2024-05-15T08:01:50.836Z"
   },
   {
    "duration": 286,
    "start_time": "2024-05-15T08:01:51.622Z"
   },
   {
    "duration": 204,
    "start_time": "2024-05-15T08:01:51.910Z"
   },
   {
    "duration": 319,
    "start_time": "2024-05-15T08:01:52.116Z"
   },
   {
    "duration": 388,
    "start_time": "2024-05-15T08:01:52.436Z"
   },
   {
    "duration": 4987,
    "start_time": "2024-05-15T08:01:52.826Z"
   },
   {
    "duration": 81,
    "start_time": "2024-05-15T08:01:57.815Z"
   },
   {
    "duration": 13719,
    "start_time": "2024-05-15T08:01:57.897Z"
   },
   {
    "duration": 1963,
    "start_time": "2024-05-15T08:02:11.618Z"
   },
   {
    "duration": 3258,
    "start_time": "2024-05-15T08:02:13.583Z"
   },
   {
    "duration": 518,
    "start_time": "2024-05-15T08:02:16.842Z"
   },
   {
    "duration": 544,
    "start_time": "2024-05-15T08:02:17.362Z"
   },
   {
    "duration": 1146,
    "start_time": "2024-05-15T08:02:17.907Z"
   },
   {
    "duration": 53,
    "start_time": "2024-05-15T08:02:19.055Z"
   },
   {
    "duration": 174,
    "start_time": "2024-05-15T08:02:19.109Z"
   },
   {
    "duration": 3,
    "start_time": "2024-05-15T08:02:19.285Z"
   },
   {
    "duration": 11004,
    "start_time": "2024-05-15T08:02:19.289Z"
   },
   {
    "duration": 10,
    "start_time": "2024-05-15T08:02:30.294Z"
   },
   {
    "duration": 114,
    "start_time": "2024-05-15T08:02:30.305Z"
   },
   {
    "duration": 26,
    "start_time": "2024-05-15T08:02:30.420Z"
   },
   {
    "duration": 42,
    "start_time": "2024-05-15T08:02:30.447Z"
   },
   {
    "duration": 47,
    "start_time": "2024-05-15T08:02:30.490Z"
   },
   {
    "duration": 46,
    "start_time": "2024-05-15T08:02:30.539Z"
   },
   {
    "duration": 37,
    "start_time": "2024-05-15T08:02:30.586Z"
   },
   {
    "duration": 89,
    "start_time": "2024-05-15T08:02:30.624Z"
   },
   {
    "duration": 31,
    "start_time": "2024-05-15T08:02:30.715Z"
   },
   {
    "duration": 42,
    "start_time": "2024-05-15T08:02:30.748Z"
   },
   {
    "duration": 39,
    "start_time": "2024-05-15T08:02:30.792Z"
   },
   {
    "duration": 112726,
    "start_time": "2024-05-15T08:05:48.244Z"
   },
   {
    "duration": 119,
    "start_time": "2024-05-15T08:07:40.972Z"
   },
   {
    "duration": 10,
    "start_time": "2024-05-15T08:07:41.093Z"
   },
   {
    "duration": 345,
    "start_time": "2024-05-15T08:07:41.105Z"
   },
   {
    "duration": 237,
    "start_time": "2024-05-15T08:07:41.451Z"
   },
   {
    "duration": 11270,
    "start_time": "2024-05-15T08:07:41.690Z"
   },
   {
    "duration": 10,
    "start_time": "2024-05-15T08:07:52.963Z"
   },
   {
    "duration": 17,
    "start_time": "2024-05-15T08:07:52.975Z"
   },
   {
    "duration": 15,
    "start_time": "2024-05-15T08:07:52.993Z"
   },
   {
    "duration": 37,
    "start_time": "2024-05-15T08:07:53.009Z"
   },
   {
    "duration": 753,
    "start_time": "2024-05-15T08:07:53.048Z"
   },
   {
    "duration": 4802,
    "start_time": "2024-05-15T08:10:19.930Z"
   },
   {
    "duration": 5127,
    "start_time": "2024-05-15T08:10:24.734Z"
   },
   {
    "duration": 3,
    "start_time": "2024-05-15T08:10:29.862Z"
   },
   {
    "duration": 2608,
    "start_time": "2024-05-15T08:10:29.867Z"
   },
   {
    "duration": 3,
    "start_time": "2024-05-15T08:10:32.476Z"
   },
   {
    "duration": 15,
    "start_time": "2024-05-15T08:10:32.481Z"
   },
   {
    "duration": 8009,
    "start_time": "2024-05-15T08:10:32.498Z"
   },
   {
    "duration": 788,
    "start_time": "2024-05-15T08:10:40.509Z"
   },
   {
    "duration": 43,
    "start_time": "2024-05-15T08:10:41.299Z"
   },
   {
    "duration": 43,
    "start_time": "2024-05-15T08:10:41.345Z"
   },
   {
    "duration": 47,
    "start_time": "2024-05-15T08:10:41.390Z"
   },
   {
    "duration": 2,
    "start_time": "2024-05-15T08:10:41.439Z"
   },
   {
    "duration": 16144,
    "start_time": "2024-05-15T08:10:41.443Z"
   },
   {
    "duration": 2345,
    "start_time": "2024-05-15T08:10:57.588Z"
   },
   {
    "duration": 16,
    "start_time": "2024-05-15T08:10:59.935Z"
   },
   {
    "duration": 187,
    "start_time": "2024-05-15T08:10:59.953Z"
   },
   {
    "duration": 11222,
    "start_time": "2024-05-15T08:11:00.143Z"
   },
   {
    "duration": 9,
    "start_time": "2024-05-15T08:11:11.366Z"
   },
   {
    "duration": 17,
    "start_time": "2024-05-15T08:11:11.377Z"
   },
   {
    "duration": 585,
    "start_time": "2024-05-15T08:11:11.396Z"
   },
   {
    "duration": 3087,
    "start_time": "2024-05-15T08:11:11.983Z"
   },
   {
    "duration": 210,
    "start_time": "2024-05-15T08:11:15.072Z"
   },
   {
    "duration": 9,
    "start_time": "2024-05-15T08:11:15.284Z"
   },
   {
    "duration": 144,
    "start_time": "2024-05-15T08:11:15.294Z"
   },
   {
    "duration": 3475,
    "start_time": "2024-05-15T08:11:15.440Z"
   },
   {
    "duration": 194,
    "start_time": "2024-05-15T08:11:18.916Z"
   },
   {
    "duration": 8,
    "start_time": "2024-05-15T08:11:19.112Z"
   },
   {
    "duration": 752,
    "start_time": "2024-05-15T08:11:19.124Z"
   },
   {
    "duration": 282,
    "start_time": "2024-05-15T08:11:19.877Z"
   },
   {
    "duration": 210,
    "start_time": "2024-05-15T08:11:20.161Z"
   },
   {
    "duration": 314,
    "start_time": "2024-05-15T08:11:20.373Z"
   },
   {
    "duration": 344,
    "start_time": "2024-05-15T08:11:20.688Z"
   },
   {
    "duration": 5086,
    "start_time": "2024-05-15T08:11:21.033Z"
   },
   {
    "duration": 82,
    "start_time": "2024-05-15T08:11:26.121Z"
   },
   {
    "duration": 13496,
    "start_time": "2024-05-15T08:11:26.205Z"
   },
   {
    "duration": 1933,
    "start_time": "2024-05-15T08:11:39.703Z"
   },
   {
    "duration": 3130,
    "start_time": "2024-05-15T08:11:41.638Z"
   },
   {
    "duration": 522,
    "start_time": "2024-05-15T08:11:44.770Z"
   },
   {
    "duration": 580,
    "start_time": "2024-05-15T08:11:45.294Z"
   },
   {
    "duration": 1377,
    "start_time": "2024-05-15T08:11:45.876Z"
   },
   {
    "duration": 56,
    "start_time": "2024-05-15T08:11:47.254Z"
   },
   {
    "duration": 182,
    "start_time": "2024-05-15T08:11:47.312Z"
   },
   {
    "duration": 3,
    "start_time": "2024-05-15T08:11:47.495Z"
   },
   {
    "duration": 10599,
    "start_time": "2024-05-15T08:11:47.500Z"
   },
   {
    "duration": 10,
    "start_time": "2024-05-15T08:11:58.100Z"
   },
   {
    "duration": 97,
    "start_time": "2024-05-15T08:11:58.111Z"
   },
   {
    "duration": 18,
    "start_time": "2024-05-15T08:11:58.210Z"
   },
   {
    "duration": 3,
    "start_time": "2024-05-15T08:11:58.230Z"
   },
   {
    "duration": 38,
    "start_time": "2024-05-15T08:11:58.235Z"
   },
   {
    "duration": 6,
    "start_time": "2024-05-15T08:11:58.274Z"
   },
   {
    "duration": 14,
    "start_time": "2024-05-15T08:11:58.281Z"
   },
   {
    "duration": 37,
    "start_time": "2024-05-15T08:11:58.296Z"
   },
   {
    "duration": 3,
    "start_time": "2024-05-15T08:11:58.334Z"
   },
   {
    "duration": 24,
    "start_time": "2024-05-15T08:11:58.339Z"
   },
   {
    "duration": 14,
    "start_time": "2024-05-15T08:11:58.364Z"
   },
   {
    "duration": 132213,
    "start_time": "2024-05-15T08:11:58.380Z"
   },
   {
    "duration": 47,
    "start_time": "2024-05-15T08:14:10.595Z"
   },
   {
    "duration": 3,
    "start_time": "2024-05-15T08:14:10.643Z"
   },
   {
    "duration": 18,
    "start_time": "2024-05-15T08:14:10.647Z"
   },
   {
    "duration": 4,
    "start_time": "2024-05-15T08:14:10.667Z"
   },
   {
    "duration": 51207,
    "start_time": "2024-05-15T08:14:10.673Z"
   },
   {
    "duration": 111,
    "start_time": "2024-05-15T08:15:01.882Z"
   },
   {
    "duration": 3,
    "start_time": "2024-05-15T08:15:01.995Z"
   },
   {
    "duration": 20,
    "start_time": "2024-05-15T08:15:02.000Z"
   },
   {
    "duration": 120954,
    "start_time": "2024-05-15T08:15:02.022Z"
   },
   {
    "duration": 195,
    "start_time": "2024-05-15T08:17:02.977Z"
   },
   {
    "duration": 11,
    "start_time": "2024-05-15T08:17:03.174Z"
   },
   {
    "duration": 322,
    "start_time": "2024-05-15T08:17:03.187Z"
   },
   {
    "duration": 291,
    "start_time": "2024-05-15T08:17:03.510Z"
   },
   {
    "duration": 10865,
    "start_time": "2024-05-15T08:17:03.803Z"
   },
   {
    "duration": 11,
    "start_time": "2024-05-15T08:17:14.670Z"
   },
   {
    "duration": 12,
    "start_time": "2024-05-15T08:17:14.682Z"
   },
   {
    "duration": 19,
    "start_time": "2024-05-15T08:17:14.695Z"
   },
   {
    "duration": 40,
    "start_time": "2024-05-15T08:17:14.716Z"
   },
   {
    "duration": 729,
    "start_time": "2024-05-15T08:17:14.757Z"
   },
   {
    "duration": 7869,
    "start_time": "2024-05-15T12:35:03.532Z"
   },
   {
    "duration": 23952,
    "start_time": "2024-05-15T12:35:11.403Z"
   },
   {
    "duration": 3,
    "start_time": "2024-05-15T12:35:35.357Z"
   },
   {
    "duration": 14175,
    "start_time": "2024-05-15T12:35:35.362Z"
   },
   {
    "duration": 0,
    "start_time": "2024-05-15T12:35:49.540Z"
   },
   {
    "duration": 0,
    "start_time": "2024-05-15T12:35:49.541Z"
   },
   {
    "duration": 0,
    "start_time": "2024-05-15T12:35:49.542Z"
   },
   {
    "duration": 0,
    "start_time": "2024-05-15T12:35:49.544Z"
   },
   {
    "duration": 0,
    "start_time": "2024-05-15T12:35:49.545Z"
   },
   {
    "duration": 0,
    "start_time": "2024-05-15T12:35:49.546Z"
   },
   {
    "duration": 0,
    "start_time": "2024-05-15T12:35:49.547Z"
   },
   {
    "duration": 0,
    "start_time": "2024-05-15T12:35:49.549Z"
   },
   {
    "duration": 0,
    "start_time": "2024-05-15T12:35:49.550Z"
   },
   {
    "duration": 0,
    "start_time": "2024-05-15T12:35:49.552Z"
   },
   {
    "duration": 0,
    "start_time": "2024-05-15T12:35:49.553Z"
   },
   {
    "duration": 0,
    "start_time": "2024-05-15T12:35:49.586Z"
   },
   {
    "duration": 0,
    "start_time": "2024-05-15T12:35:49.587Z"
   },
   {
    "duration": 0,
    "start_time": "2024-05-15T12:35:49.588Z"
   },
   {
    "duration": 0,
    "start_time": "2024-05-15T12:35:49.589Z"
   },
   {
    "duration": 0,
    "start_time": "2024-05-15T12:35:49.589Z"
   },
   {
    "duration": 0,
    "start_time": "2024-05-15T12:35:49.590Z"
   },
   {
    "duration": 0,
    "start_time": "2024-05-15T12:35:49.591Z"
   },
   {
    "duration": 0,
    "start_time": "2024-05-15T12:35:49.591Z"
   },
   {
    "duration": 0,
    "start_time": "2024-05-15T12:35:49.592Z"
   },
   {
    "duration": 0,
    "start_time": "2024-05-15T12:35:49.593Z"
   },
   {
    "duration": 0,
    "start_time": "2024-05-15T12:35:49.600Z"
   },
   {
    "duration": 0,
    "start_time": "2024-05-15T12:35:49.601Z"
   },
   {
    "duration": 0,
    "start_time": "2024-05-15T12:35:49.602Z"
   },
   {
    "duration": 0,
    "start_time": "2024-05-15T12:35:49.604Z"
   },
   {
    "duration": 0,
    "start_time": "2024-05-15T12:35:49.605Z"
   },
   {
    "duration": 0,
    "start_time": "2024-05-15T12:35:49.606Z"
   },
   {
    "duration": 0,
    "start_time": "2024-05-15T12:35:49.607Z"
   },
   {
    "duration": 0,
    "start_time": "2024-05-15T12:35:49.608Z"
   },
   {
    "duration": 0,
    "start_time": "2024-05-15T12:35:49.610Z"
   },
   {
    "duration": 0,
    "start_time": "2024-05-15T12:35:49.611Z"
   },
   {
    "duration": 0,
    "start_time": "2024-05-15T12:35:49.612Z"
   },
   {
    "duration": 0,
    "start_time": "2024-05-15T12:35:49.614Z"
   },
   {
    "duration": 0,
    "start_time": "2024-05-15T12:35:49.615Z"
   },
   {
    "duration": 0,
    "start_time": "2024-05-15T12:35:49.616Z"
   },
   {
    "duration": 0,
    "start_time": "2024-05-15T12:35:49.618Z"
   },
   {
    "duration": 0,
    "start_time": "2024-05-15T12:35:49.619Z"
   },
   {
    "duration": 0,
    "start_time": "2024-05-15T12:35:49.620Z"
   },
   {
    "duration": 0,
    "start_time": "2024-05-15T12:35:49.621Z"
   },
   {
    "duration": 0,
    "start_time": "2024-05-15T12:35:49.622Z"
   },
   {
    "duration": 6981,
    "start_time": "2024-05-15T12:43:10.592Z"
   },
   {
    "duration": 5547,
    "start_time": "2024-05-15T13:36:33.182Z"
   },
   {
    "duration": 15314,
    "start_time": "2024-05-15T13:36:38.732Z"
   },
   {
    "duration": 6593,
    "start_time": "2024-05-15T13:36:54.049Z"
   },
   {
    "duration": 3,
    "start_time": "2024-05-15T13:37:00.644Z"
   },
   {
    "duration": 6020,
    "start_time": "2024-05-15T13:37:00.649Z"
   },
   {
    "duration": 3,
    "start_time": "2024-05-15T13:37:06.671Z"
   },
   {
    "duration": 11,
    "start_time": "2024-05-15T13:37:06.675Z"
   },
   {
    "duration": 6471,
    "start_time": "2024-05-15T13:37:06.688Z"
   },
   {
    "duration": 819,
    "start_time": "2024-05-15T13:37:13.161Z"
   },
   {
    "duration": 39,
    "start_time": "2024-05-15T13:37:13.982Z"
   },
   {
    "duration": 41,
    "start_time": "2024-05-15T13:37:14.023Z"
   },
   {
    "duration": 47,
    "start_time": "2024-05-15T13:37:14.065Z"
   },
   {
    "duration": 3,
    "start_time": "2024-05-15T13:37:14.114Z"
   },
   {
    "duration": 4,
    "start_time": "2024-05-15T13:38:31.382Z"
   },
   {
    "duration": 66,
    "start_time": "2024-05-15T13:38:31.389Z"
   },
   {
    "duration": 53,
    "start_time": "2024-05-15T13:38:31.457Z"
   },
   {
    "duration": 42,
    "start_time": "2024-05-15T13:38:31.513Z"
   },
   {
    "duration": 8262,
    "start_time": "2024-05-15T13:38:31.557Z"
   },
   {
    "duration": 3,
    "start_time": "2024-05-15T13:38:39.821Z"
   },
   {
    "duration": 16,
    "start_time": "2024-05-15T13:38:39.826Z"
   },
   {
    "duration": 5541,
    "start_time": "2024-05-15T13:38:39.843Z"
   },
   {
    "duration": 816,
    "start_time": "2024-05-15T13:38:45.385Z"
   },
   {
    "duration": 40,
    "start_time": "2024-05-15T13:38:46.204Z"
   },
   {
    "duration": 42,
    "start_time": "2024-05-15T13:38:46.245Z"
   },
   {
    "duration": 47,
    "start_time": "2024-05-15T13:38:46.289Z"
   },
   {
    "duration": 3,
    "start_time": "2024-05-15T13:38:46.338Z"
   },
   {
    "duration": 5827,
    "start_time": "2024-05-15T13:41:14.028Z"
   },
   {
    "duration": 5796,
    "start_time": "2024-05-15T13:41:19.858Z"
   },
   {
    "duration": 6345,
    "start_time": "2024-05-15T13:41:25.656Z"
   },
   {
    "duration": 4,
    "start_time": "2024-05-15T13:41:32.004Z"
   },
   {
    "duration": 7870,
    "start_time": "2024-05-15T13:41:32.009Z"
   },
   {
    "duration": 0,
    "start_time": "2024-05-15T13:41:39.882Z"
   },
   {
    "duration": 0,
    "start_time": "2024-05-15T13:41:39.883Z"
   },
   {
    "duration": 0,
    "start_time": "2024-05-15T13:41:39.885Z"
   },
   {
    "duration": 0,
    "start_time": "2024-05-15T13:41:39.886Z"
   },
   {
    "duration": 0,
    "start_time": "2024-05-15T13:41:39.887Z"
   },
   {
    "duration": 0,
    "start_time": "2024-05-15T13:41:39.888Z"
   },
   {
    "duration": 0,
    "start_time": "2024-05-15T13:41:39.889Z"
   },
   {
    "duration": 0,
    "start_time": "2024-05-15T13:41:39.891Z"
   },
   {
    "duration": 1,
    "start_time": "2024-05-15T13:41:39.891Z"
   },
   {
    "duration": 0,
    "start_time": "2024-05-15T13:41:39.893Z"
   },
   {
    "duration": 0,
    "start_time": "2024-05-15T13:41:39.894Z"
   },
   {
    "duration": 0,
    "start_time": "2024-05-15T13:41:39.895Z"
   },
   {
    "duration": 0,
    "start_time": "2024-05-15T13:41:39.896Z"
   },
   {
    "duration": 0,
    "start_time": "2024-05-15T13:41:39.897Z"
   },
   {
    "duration": 0,
    "start_time": "2024-05-15T13:41:39.898Z"
   },
   {
    "duration": 0,
    "start_time": "2024-05-15T13:41:39.899Z"
   },
   {
    "duration": 0,
    "start_time": "2024-05-15T13:41:39.901Z"
   },
   {
    "duration": 0,
    "start_time": "2024-05-15T13:41:39.902Z"
   },
   {
    "duration": 0,
    "start_time": "2024-05-15T13:41:39.903Z"
   },
   {
    "duration": 0,
    "start_time": "2024-05-15T13:41:39.904Z"
   },
   {
    "duration": 0,
    "start_time": "2024-05-15T13:41:39.905Z"
   },
   {
    "duration": 0,
    "start_time": "2024-05-15T13:41:39.907Z"
   },
   {
    "duration": 1,
    "start_time": "2024-05-15T13:41:39.908Z"
   },
   {
    "duration": 0,
    "start_time": "2024-05-15T13:41:39.909Z"
   },
   {
    "duration": 0,
    "start_time": "2024-05-15T13:41:39.911Z"
   },
   {
    "duration": 0,
    "start_time": "2024-05-15T13:41:39.912Z"
   },
   {
    "duration": 0,
    "start_time": "2024-05-15T13:41:39.913Z"
   },
   {
    "duration": 0,
    "start_time": "2024-05-15T13:41:39.914Z"
   },
   {
    "duration": 0,
    "start_time": "2024-05-15T13:41:39.915Z"
   },
   {
    "duration": 0,
    "start_time": "2024-05-15T13:41:39.916Z"
   },
   {
    "duration": 0,
    "start_time": "2024-05-15T13:41:39.917Z"
   },
   {
    "duration": 0,
    "start_time": "2024-05-15T13:41:39.919Z"
   },
   {
    "duration": 0,
    "start_time": "2024-05-15T13:41:39.920Z"
   },
   {
    "duration": 0,
    "start_time": "2024-05-15T13:41:39.982Z"
   },
   {
    "duration": 0,
    "start_time": "2024-05-15T13:41:39.983Z"
   },
   {
    "duration": 0,
    "start_time": "2024-05-15T13:41:39.985Z"
   },
   {
    "duration": 0,
    "start_time": "2024-05-15T13:41:39.986Z"
   },
   {
    "duration": 0,
    "start_time": "2024-05-15T13:41:39.987Z"
   },
   {
    "duration": 0,
    "start_time": "2024-05-15T13:41:39.989Z"
   },
   {
    "duration": 0,
    "start_time": "2024-05-15T13:41:39.989Z"
   },
   {
    "duration": 7632,
    "start_time": "2024-05-15T13:46:07.908Z"
   },
   {
    "duration": 36585,
    "start_time": "2024-05-15T13:46:15.543Z"
   },
   {
    "duration": 4,
    "start_time": "2024-05-15T13:46:52.130Z"
   },
   {
    "duration": 2753,
    "start_time": "2024-05-15T13:46:52.136Z"
   },
   {
    "duration": 52,
    "start_time": "2024-05-16T09:14:55.740Z"
   },
   {
    "duration": 8512,
    "start_time": "2024-05-16T09:15:10.383Z"
   },
   {
    "duration": 35592,
    "start_time": "2024-05-16T09:15:18.898Z"
   },
   {
    "duration": 2801,
    "start_time": "2024-05-16T09:15:54.493Z"
   },
   {
    "duration": 3,
    "start_time": "2024-05-16T09:15:57.296Z"
   },
   {
    "duration": 2692,
    "start_time": "2024-05-16T09:15:57.301Z"
   },
   {
    "duration": 3,
    "start_time": "2024-05-16T09:15:59.995Z"
   },
   {
    "duration": 228,
    "start_time": "2024-05-16T09:16:00.000Z"
   },
   {
    "duration": 6210,
    "start_time": "2024-05-16T09:16:00.230Z"
   },
   {
    "duration": 624,
    "start_time": "2024-05-16T09:16:06.442Z"
   },
   {
    "duration": 356,
    "start_time": "2024-05-16T09:16:07.068Z"
   },
   {
    "duration": 361,
    "start_time": "2024-05-16T09:16:07.425Z"
   },
   {
    "duration": 349,
    "start_time": "2024-05-16T09:16:07.788Z"
   },
   {
    "duration": 242,
    "start_time": "2024-05-16T09:16:08.139Z"
   },
   {
    "duration": 17267,
    "start_time": "2024-05-16T09:16:08.384Z"
   },
   {
    "duration": 2485,
    "start_time": "2024-05-16T09:16:25.653Z"
   },
   {
    "duration": 18,
    "start_time": "2024-05-16T09:16:28.140Z"
   },
   {
    "duration": 230,
    "start_time": "2024-05-16T09:16:28.159Z"
   },
   {
    "duration": 12031,
    "start_time": "2024-05-16T09:16:28.390Z"
   },
   {
    "duration": 9,
    "start_time": "2024-05-16T09:16:40.422Z"
   },
   {
    "duration": 36,
    "start_time": "2024-05-16T09:16:40.432Z"
   },
   {
    "duration": 627,
    "start_time": "2024-05-16T09:16:40.469Z"
   },
   {
    "duration": 3380,
    "start_time": "2024-05-16T09:16:41.098Z"
   },
   {
    "duration": 223,
    "start_time": "2024-05-16T09:16:44.479Z"
   },
   {
    "duration": 9,
    "start_time": "2024-05-16T09:16:44.704Z"
   },
   {
    "duration": 139,
    "start_time": "2024-05-16T09:16:44.715Z"
   },
   {
    "duration": 3717,
    "start_time": "2024-05-16T09:16:44.856Z"
   },
   {
    "duration": 199,
    "start_time": "2024-05-16T09:16:48.574Z"
   },
   {
    "duration": 7,
    "start_time": "2024-05-16T09:16:48.777Z"
   },
   {
    "duration": 746,
    "start_time": "2024-05-16T09:16:48.785Z"
   },
   {
    "duration": 256,
    "start_time": "2024-05-16T09:16:49.533Z"
   },
   {
    "duration": 229,
    "start_time": "2024-05-16T09:16:49.790Z"
   },
   {
    "duration": 285,
    "start_time": "2024-05-16T09:16:50.021Z"
   },
   {
    "duration": 379,
    "start_time": "2024-05-16T09:16:50.308Z"
   },
   {
    "duration": 5875,
    "start_time": "2024-05-16T09:16:50.689Z"
   },
   {
    "duration": 86,
    "start_time": "2024-05-16T09:16:56.566Z"
   },
   {
    "duration": 15083,
    "start_time": "2024-05-16T09:16:56.654Z"
   },
   {
    "duration": 2158,
    "start_time": "2024-05-16T09:17:11.740Z"
   },
   {
    "duration": 3442,
    "start_time": "2024-05-16T09:17:13.900Z"
   },
   {
    "duration": 481,
    "start_time": "2024-05-16T09:17:17.344Z"
   },
   {
    "duration": 651,
    "start_time": "2024-05-16T09:17:17.827Z"
   },
   {
    "duration": 917,
    "start_time": "2024-05-16T09:17:18.480Z"
   },
   {
    "duration": 58,
    "start_time": "2024-05-16T09:17:19.398Z"
   },
   {
    "duration": 211,
    "start_time": "2024-05-16T09:17:19.457Z"
   },
   {
    "duration": 108,
    "start_time": "2024-05-16T09:17:19.673Z"
   },
   {
    "duration": 1120,
    "start_time": "2024-05-16T09:25:29.752Z"
   },
   {
    "duration": 70,
    "start_time": "2024-05-16T09:25:48.032Z"
   },
   {
    "duration": 207,
    "start_time": "2024-05-16T09:25:57.243Z"
   },
   {
    "duration": 139,
    "start_time": "2024-05-16T09:26:00.731Z"
   },
   {
    "duration": 102,
    "start_time": "2024-05-16T09:27:36.681Z"
   },
   {
    "duration": 129,
    "start_time": "2024-05-16T09:28:05.102Z"
   },
   {
    "duration": 21,
    "start_time": "2024-05-16T09:28:42.801Z"
   },
   {
    "duration": 3,
    "start_time": "2024-05-16T09:28:48.099Z"
   },
   {
    "duration": 11826,
    "start_time": "2024-05-16T09:29:22.841Z"
   },
   {
    "duration": 10,
    "start_time": "2024-05-16T09:29:50.192Z"
   },
   {
    "duration": 87,
    "start_time": "2024-05-16T09:29:50.721Z"
   },
   {
    "duration": 27,
    "start_time": "2024-05-16T09:29:51.419Z"
   },
   {
    "duration": 3,
    "start_time": "2024-05-16T09:29:52.021Z"
   },
   {
    "duration": 35,
    "start_time": "2024-05-16T09:29:53.789Z"
   },
   {
    "duration": 7,
    "start_time": "2024-05-16T09:29:55.720Z"
   },
   {
    "duration": 6,
    "start_time": "2024-05-16T09:32:07.462Z"
   },
   {
    "duration": 37,
    "start_time": "2024-05-16T09:32:08.112Z"
   },
   {
    "duration": 3,
    "start_time": "2024-05-16T09:32:53.671Z"
   },
   {
    "duration": 3,
    "start_time": "2024-05-16T09:32:59.395Z"
   },
   {
    "duration": 3,
    "start_time": "2024-05-16T09:33:00.533Z"
   },
   {
    "duration": 1642,
    "start_time": "2024-05-16T09:33:03.101Z"
   },
   {
    "duration": 3,
    "start_time": "2024-05-16T09:36:52.781Z"
   },
   {
    "duration": 4,
    "start_time": "2024-05-16T09:36:54.476Z"
   },
   {
    "duration": 3,
    "start_time": "2024-05-16T09:36:55.462Z"
   },
   {
    "duration": 1462,
    "start_time": "2024-05-16T09:36:57.042Z"
   },
   {
    "duration": 7516,
    "start_time": "2024-05-16T09:39:00.463Z"
   },
   {
    "duration": 2836,
    "start_time": "2024-05-16T09:39:10.674Z"
   },
   {
    "duration": 4,
    "start_time": "2024-05-16T09:39:13.513Z"
   },
   {
    "duration": 11,
    "start_time": "2024-05-16T09:39:13.725Z"
   },
   {
    "duration": 4,
    "start_time": "2024-05-16T09:39:53.152Z"
   },
   {
    "duration": 3,
    "start_time": "2024-05-16T09:39:54.642Z"
   },
   {
    "duration": 3,
    "start_time": "2024-05-16T09:39:55.803Z"
   },
   {
    "duration": 1516,
    "start_time": "2024-05-16T09:39:56.922Z"
   },
   {
    "duration": 4,
    "start_time": "2024-05-16T09:40:15.701Z"
   },
   {
    "duration": 4,
    "start_time": "2024-05-16T09:40:16.771Z"
   },
   {
    "duration": 4,
    "start_time": "2024-05-16T09:40:17.472Z"
   },
   {
    "duration": 174332,
    "start_time": "2024-05-16T09:40:18.472Z"
   },
   {
    "duration": 21,
    "start_time": "2024-05-16T10:27:26.649Z"
   },
   {
    "duration": 104,
    "start_time": "2024-05-16T10:28:15.130Z"
   },
   {
    "duration": 59,
    "start_time": "2024-05-16T10:28:54.026Z"
   },
   {
    "duration": 19,
    "start_time": "2024-05-16T10:58:00.934Z"
   },
   {
    "duration": 15,
    "start_time": "2024-05-16T10:58:09.443Z"
   },
   {
    "duration": 4,
    "start_time": "2024-05-16T10:58:18.222Z"
   },
   {
    "duration": 4,
    "start_time": "2024-05-16T10:58:19.703Z"
   },
   {
    "duration": 3,
    "start_time": "2024-05-16T10:58:20.583Z"
   },
   {
    "duration": 60792,
    "start_time": "2024-05-16T10:58:21.503Z"
   },
   {
    "duration": 136,
    "start_time": "2024-05-16T10:59:22.297Z"
   },
   {
    "duration": 3,
    "start_time": "2024-05-16T10:59:22.435Z"
   },
   {
    "duration": 17,
    "start_time": "2024-05-16T10:59:22.440Z"
   },
   {
    "duration": 316717,
    "start_time": "2024-05-16T10:59:22.459Z"
   },
   {
    "duration": 69,
    "start_time": "2024-05-16T11:04:39.308Z"
   },
   {
    "duration": 376,
    "start_time": "2024-05-16T11:04:39.379Z"
   },
   {
    "duration": 12508,
    "start_time": "2024-05-16T11:04:39.757Z"
   },
   {
    "duration": 1423,
    "start_time": "2024-05-16T11:04:52.268Z"
   },
   {
    "duration": 0,
    "start_time": "2024-05-16T11:04:53.698Z"
   },
   {
    "duration": 413,
    "start_time": "2024-05-16T11:09:40.565Z"
   },
   {
    "duration": 17,
    "start_time": "2024-05-16T11:09:48.084Z"
   },
   {
    "duration": 163,
    "start_time": "2024-05-16T11:10:09.405Z"
   },
   {
    "duration": 337,
    "start_time": "2024-05-16T11:10:46.583Z"
   },
   {
    "duration": 11,
    "start_time": "2024-05-16T11:10:57.144Z"
   },
   {
    "duration": 94,
    "start_time": "2024-05-16T11:12:36.993Z"
   },
   {
    "duration": 328,
    "start_time": "2024-05-16T11:12:38.443Z"
   },
   {
    "duration": 4155,
    "start_time": "2024-05-16T11:13:40.001Z"
   },
   {
    "duration": 4461,
    "start_time": "2024-05-16T11:16:11.136Z"
   },
   {
    "duration": 3363,
    "start_time": "2024-05-16T11:16:54.213Z"
   },
   {
    "duration": 214,
    "start_time": "2024-05-16T11:20:24.421Z"
   },
   {
    "duration": 8,
    "start_time": "2024-05-16T11:24:23.159Z"
   },
   {
    "duration": 5,
    "start_time": "2024-05-16T11:25:11.831Z"
   },
   {
    "duration": 179,
    "start_time": "2024-05-16T11:25:14.762Z"
   },
   {
    "duration": 3,
    "start_time": "2024-05-16T11:47:13.853Z"
   },
   {
    "duration": 2,
    "start_time": "2024-05-16T11:47:16.642Z"
   },
   {
    "duration": 3,
    "start_time": "2024-05-16T11:47:17.772Z"
   },
   {
    "duration": 1443,
    "start_time": "2024-05-16T11:47:19.585Z"
   },
   {
    "duration": 4,
    "start_time": "2024-05-16T11:47:31.952Z"
   },
   {
    "duration": 3,
    "start_time": "2024-05-16T11:47:32.734Z"
   },
   {
    "duration": 4,
    "start_time": "2024-05-16T11:47:33.674Z"
   },
   {
    "duration": 181175,
    "start_time": "2024-05-16T11:47:34.272Z"
   },
   {
    "duration": 3969,
    "start_time": "2024-05-16T11:54:18.606Z"
   },
   {
    "duration": 12723,
    "start_time": "2024-05-16T11:54:44.118Z"
   },
   {
    "duration": 12387,
    "start_time": "2024-05-16T11:55:48.068Z"
   },
   {
    "duration": 5769,
    "start_time": "2024-05-16T11:57:34.735Z"
   },
   {
    "duration": 11134,
    "start_time": "2024-05-16T11:57:40.507Z"
   },
   {
    "duration": 3432,
    "start_time": "2024-05-16T11:57:51.643Z"
   },
   {
    "duration": 5816,
    "start_time": "2024-05-16T11:57:55.078Z"
   },
   {
    "duration": 3,
    "start_time": "2024-05-16T11:58:00.896Z"
   },
   {
    "duration": 5397,
    "start_time": "2024-05-16T11:58:00.900Z"
   },
   {
    "duration": 3,
    "start_time": "2024-05-16T11:58:06.299Z"
   },
   {
    "duration": 71,
    "start_time": "2024-05-16T11:58:06.303Z"
   },
   {
    "duration": 7105,
    "start_time": "2024-05-16T11:58:06.376Z"
   },
   {
    "duration": 634,
    "start_time": "2024-05-16T11:58:13.484Z"
   },
   {
    "duration": 10,
    "start_time": "2024-05-16T11:58:14.120Z"
   },
   {
    "duration": 50,
    "start_time": "2024-05-16T11:58:14.132Z"
   },
   {
    "duration": 54,
    "start_time": "2024-05-16T11:58:14.184Z"
   },
   {
    "duration": 37,
    "start_time": "2024-05-16T11:58:14.240Z"
   },
   {
    "duration": 21322,
    "start_time": "2024-05-16T11:58:14.278Z"
   },
   {
    "duration": 2503,
    "start_time": "2024-05-16T11:58:35.602Z"
   },
   {
    "duration": 19,
    "start_time": "2024-05-16T11:58:38.107Z"
   },
   {
    "duration": 203,
    "start_time": "2024-05-16T11:58:38.128Z"
   },
   {
    "duration": 5680,
    "start_time": "2024-05-16T12:01:53.160Z"
   },
   {
    "duration": 6410,
    "start_time": "2024-05-16T12:01:58.842Z"
   },
   {
    "duration": 3356,
    "start_time": "2024-05-16T12:02:05.254Z"
   },
   {
    "duration": 2820,
    "start_time": "2024-05-16T12:02:08.613Z"
   },
   {
    "duration": 3,
    "start_time": "2024-05-16T12:02:11.435Z"
   },
   {
    "duration": 5084,
    "start_time": "2024-05-16T12:02:11.439Z"
   },
   {
    "duration": 3,
    "start_time": "2024-05-16T12:02:16.525Z"
   },
   {
    "duration": 41,
    "start_time": "2024-05-16T12:02:16.531Z"
   },
   {
    "duration": 5978,
    "start_time": "2024-05-16T12:02:16.574Z"
   },
   {
    "duration": 638,
    "start_time": "2024-05-16T12:02:22.555Z"
   },
   {
    "duration": 11,
    "start_time": "2024-05-16T12:02:23.194Z"
   },
   {
    "duration": 15,
    "start_time": "2024-05-16T12:02:23.207Z"
   },
   {
    "duration": 26,
    "start_time": "2024-05-16T12:02:23.224Z"
   },
   {
    "duration": 7,
    "start_time": "2024-05-16T12:02:23.251Z"
   },
   {
    "duration": 17162,
    "start_time": "2024-05-16T12:02:23.260Z"
   },
   {
    "duration": 2513,
    "start_time": "2024-05-16T12:02:40.424Z"
   },
   {
    "duration": 18,
    "start_time": "2024-05-16T12:02:42.938Z"
   },
   {
    "duration": 213,
    "start_time": "2024-05-16T12:02:42.958Z"
   },
   {
    "duration": 12536,
    "start_time": "2024-05-16T12:02:43.173Z"
   },
   {
    "duration": 17,
    "start_time": "2024-05-16T12:02:55.710Z"
   },
   {
    "duration": 39,
    "start_time": "2024-05-16T12:02:55.729Z"
   },
   {
    "duration": 657,
    "start_time": "2024-05-16T12:02:55.769Z"
   },
   {
    "duration": 3475,
    "start_time": "2024-05-16T12:02:56.427Z"
   },
   {
    "duration": 237,
    "start_time": "2024-05-16T12:02:59.904Z"
   },
   {
    "duration": 11,
    "start_time": "2024-05-16T12:03:00.143Z"
   },
   {
    "duration": 249,
    "start_time": "2024-05-16T12:03:00.156Z"
   },
   {
    "duration": 3773,
    "start_time": "2024-05-16T12:03:00.406Z"
   },
   {
    "duration": 207,
    "start_time": "2024-05-16T12:03:04.184Z"
   },
   {
    "duration": 15,
    "start_time": "2024-05-16T12:03:04.392Z"
   },
   {
    "duration": 734,
    "start_time": "2024-05-16T12:03:04.409Z"
   },
   {
    "duration": 256,
    "start_time": "2024-05-16T12:03:05.145Z"
   },
   {
    "duration": 243,
    "start_time": "2024-05-16T12:03:05.403Z"
   },
   {
    "duration": 280,
    "start_time": "2024-05-16T12:03:05.648Z"
   },
   {
    "duration": 418,
    "start_time": "2024-05-16T12:03:05.929Z"
   },
   {
    "duration": 6153,
    "start_time": "2024-05-16T12:03:06.350Z"
   },
   {
    "duration": 92,
    "start_time": "2024-05-16T12:03:12.505Z"
   },
   {
    "duration": 15598,
    "start_time": "2024-05-16T12:03:12.599Z"
   },
   {
    "duration": 1822,
    "start_time": "2024-05-16T12:03:28.199Z"
   },
   {
    "duration": 3516,
    "start_time": "2024-05-16T12:03:30.023Z"
   },
   {
    "duration": 513,
    "start_time": "2024-05-16T12:03:33.541Z"
   },
   {
    "duration": 763,
    "start_time": "2024-05-16T12:03:34.055Z"
   },
   {
    "duration": 1212,
    "start_time": "2024-05-16T12:03:34.819Z"
   },
   {
    "duration": 84,
    "start_time": "2024-05-16T12:03:36.033Z"
   },
   {
    "duration": 268,
    "start_time": "2024-05-16T12:03:36.120Z"
   },
   {
    "duration": 126,
    "start_time": "2024-05-16T12:03:36.391Z"
   },
   {
    "duration": 157,
    "start_time": "2024-05-16T12:03:36.519Z"
   },
   {
    "duration": 20,
    "start_time": "2024-05-16T12:03:36.678Z"
   },
   {
    "duration": 5,
    "start_time": "2024-05-16T12:03:36.700Z"
   },
   {
    "duration": 12627,
    "start_time": "2024-05-16T12:03:36.707Z"
   },
   {
    "duration": 13,
    "start_time": "2024-05-16T12:03:49.336Z"
   },
   {
    "duration": 110,
    "start_time": "2024-05-16T12:03:49.350Z"
   },
   {
    "duration": 38,
    "start_time": "2024-05-16T12:03:49.461Z"
   },
   {
    "duration": 4,
    "start_time": "2024-05-16T12:03:49.502Z"
   },
   {
    "duration": 48,
    "start_time": "2024-05-16T12:03:49.508Z"
   },
   {
    "duration": 17,
    "start_time": "2024-05-16T12:03:49.559Z"
   },
   {
    "duration": 21,
    "start_time": "2024-05-16T12:03:49.577Z"
   },
   {
    "duration": 41,
    "start_time": "2024-05-16T12:03:49.600Z"
   },
   {
    "duration": 3,
    "start_time": "2024-05-16T12:03:49.643Z"
   },
   {
    "duration": 26,
    "start_time": "2024-05-16T12:03:49.648Z"
   },
   {
    "duration": 14,
    "start_time": "2024-05-16T12:03:49.676Z"
   },
   {
    "duration": 33489,
    "start_time": "2024-05-16T12:03:49.692Z"
   },
   {
    "duration": 174,
    "start_time": "2024-05-16T12:04:23.183Z"
   },
   {
    "duration": 14,
    "start_time": "2024-05-16T12:04:23.359Z"
   },
   {
    "duration": 14,
    "start_time": "2024-05-16T12:04:23.375Z"
   },
   {
    "duration": 60,
    "start_time": "2024-05-16T12:04:23.391Z"
   },
   {
    "duration": 69441,
    "start_time": "2024-05-16T12:04:23.452Z"
   },
   {
    "duration": 221,
    "start_time": "2024-05-16T12:05:32.895Z"
   },
   {
    "duration": 4,
    "start_time": "2024-05-16T12:05:33.118Z"
   },
   {
    "duration": 13,
    "start_time": "2024-05-16T12:05:33.123Z"
   },
   {
    "duration": 116638,
    "start_time": "2024-05-16T12:05:33.138Z"
   },
   {
    "duration": 507,
    "start_time": "2024-05-16T12:07:29.778Z"
   },
   {
    "duration": 12,
    "start_time": "2024-05-16T12:07:30.287Z"
   },
   {
    "duration": 294,
    "start_time": "2024-05-16T12:07:30.300Z"
   },
   {
    "duration": 455,
    "start_time": "2024-05-16T12:07:30.596Z"
   },
   {
    "duration": 46432,
    "start_time": "2024-05-16T12:07:31.053Z"
   },
   {
    "duration": 13915,
    "start_time": "2024-05-16T12:08:17.487Z"
   },
   {
    "duration": 6,
    "start_time": "2024-05-16T12:08:31.404Z"
   },
   {
    "duration": 73,
    "start_time": "2024-05-16T12:08:31.412Z"
   },
   {
    "duration": 263,
    "start_time": "2024-05-16T12:08:31.486Z"
   },
   {
    "duration": 6268,
    "start_time": "2024-05-16T13:15:29.121Z"
   },
   {
    "duration": 5897,
    "start_time": "2024-05-16T13:15:35.392Z"
   },
   {
    "duration": 3520,
    "start_time": "2024-05-16T13:15:41.291Z"
   },
   {
    "duration": 2934,
    "start_time": "2024-05-16T13:15:44.814Z"
   },
   {
    "duration": 3,
    "start_time": "2024-05-16T13:15:47.751Z"
   },
   {
    "duration": 33,
    "start_time": "2024-05-16T13:15:47.756Z"
   },
   {
    "duration": 21,
    "start_time": "2024-05-16T13:15:47.790Z"
   },
   {
    "duration": 19,
    "start_time": "2024-05-16T13:15:47.813Z"
   },
   {
    "duration": 27,
    "start_time": "2024-05-16T13:15:47.834Z"
   },
   {
    "duration": 877,
    "start_time": "2024-05-16T13:15:47.863Z"
   },
   {
    "duration": 11,
    "start_time": "2024-05-16T13:15:48.742Z"
   },
   {
    "duration": 25,
    "start_time": "2024-05-16T13:15:48.755Z"
   },
   {
    "duration": 35,
    "start_time": "2024-05-16T13:15:48.781Z"
   },
   {
    "duration": 4,
    "start_time": "2024-05-16T13:15:48.819Z"
   },
   {
    "duration": 5720,
    "start_time": "2024-05-16T13:16:09.684Z"
   },
   {
    "duration": 6955,
    "start_time": "2024-05-16T13:16:15.407Z"
   },
   {
    "duration": 3331,
    "start_time": "2024-05-16T13:16:22.363Z"
   },
   {
    "duration": 2810,
    "start_time": "2024-05-16T13:16:25.697Z"
   },
   {
    "duration": 2,
    "start_time": "2024-05-16T13:16:28.509Z"
   },
   {
    "duration": 5489,
    "start_time": "2024-05-16T13:16:28.513Z"
   },
   {
    "duration": 4,
    "start_time": "2024-05-16T13:16:34.003Z"
   },
   {
    "duration": 5,
    "start_time": "2024-05-16T13:16:34.009Z"
   },
   {
    "duration": 5645,
    "start_time": "2024-05-16T13:16:34.016Z"
   },
   {
    "duration": 609,
    "start_time": "2024-05-16T13:16:39.665Z"
   },
   {
    "duration": 10,
    "start_time": "2024-05-16T13:16:40.275Z"
   },
   {
    "duration": 41,
    "start_time": "2024-05-16T13:16:40.287Z"
   },
   {
    "duration": 19,
    "start_time": "2024-05-16T13:16:40.330Z"
   },
   {
    "duration": 3,
    "start_time": "2024-05-16T13:16:40.351Z"
   },
   {
    "duration": 17318,
    "start_time": "2024-05-16T13:16:40.355Z"
   },
   {
    "duration": 2560,
    "start_time": "2024-05-16T13:16:57.675Z"
   },
   {
    "duration": 18,
    "start_time": "2024-05-16T13:17:00.237Z"
   },
   {
    "duration": 352,
    "start_time": "2024-05-16T13:17:00.257Z"
   },
   {
    "duration": 5825,
    "start_time": "2024-05-16T13:17:39.644Z"
   },
   {
    "duration": 5822,
    "start_time": "2024-05-16T13:17:45.472Z"
   },
   {
    "duration": 3478,
    "start_time": "2024-05-16T13:17:51.297Z"
   },
   {
    "duration": 2808,
    "start_time": "2024-05-16T13:17:54.777Z"
   },
   {
    "duration": 4,
    "start_time": "2024-05-16T13:17:57.588Z"
   },
   {
    "duration": 6437,
    "start_time": "2024-05-16T13:17:57.594Z"
   },
   {
    "duration": 3,
    "start_time": "2024-05-16T13:18:04.033Z"
   },
   {
    "duration": 30,
    "start_time": "2024-05-16T13:18:04.038Z"
   },
   {
    "duration": 5688,
    "start_time": "2024-05-16T13:18:04.070Z"
   },
   {
    "duration": 613,
    "start_time": "2024-05-16T13:18:09.760Z"
   },
   {
    "duration": 11,
    "start_time": "2024-05-16T13:18:10.375Z"
   },
   {
    "duration": 73,
    "start_time": "2024-05-16T13:18:10.388Z"
   },
   {
    "duration": 52,
    "start_time": "2024-05-16T13:18:10.462Z"
   },
   {
    "duration": 3,
    "start_time": "2024-05-16T13:18:10.517Z"
   },
   {
    "duration": 17306,
    "start_time": "2024-05-16T13:18:10.521Z"
   },
   {
    "duration": 2579,
    "start_time": "2024-05-16T13:18:27.829Z"
   },
   {
    "duration": 17,
    "start_time": "2024-05-16T13:18:30.410Z"
   },
   {
    "duration": 415,
    "start_time": "2024-05-16T13:18:30.429Z"
   },
   {
    "duration": 49,
    "start_time": "2024-05-16T13:19:29.189Z"
   },
   {
    "duration": 5735,
    "start_time": "2024-05-16T13:19:37.785Z"
   },
   {
    "duration": 5738,
    "start_time": "2024-05-16T13:19:43.522Z"
   },
   {
    "duration": 3385,
    "start_time": "2024-05-16T13:19:49.262Z"
   },
   {
    "duration": 2838,
    "start_time": "2024-05-16T13:19:52.649Z"
   },
   {
    "duration": 4,
    "start_time": "2024-05-16T13:19:55.489Z"
   },
   {
    "duration": 6682,
    "start_time": "2024-05-16T13:19:57.334Z"
   },
   {
    "duration": 2,
    "start_time": "2024-05-16T13:20:04.018Z"
   },
   {
    "duration": 3,
    "start_time": "2024-05-16T13:20:06.815Z"
   },
   {
    "duration": 6016,
    "start_time": "2024-05-16T13:20:07.766Z"
   },
   {
    "duration": 638,
    "start_time": "2024-05-16T13:20:16.778Z"
   },
   {
    "duration": 12,
    "start_time": "2024-05-16T13:20:19.796Z"
   },
   {
    "duration": 12,
    "start_time": "2024-05-16T13:20:20.927Z"
   },
   {
    "duration": 18,
    "start_time": "2024-05-16T13:20:22.576Z"
   },
   {
    "duration": 3,
    "start_time": "2024-05-16T13:20:26.525Z"
   },
   {
    "duration": 17308,
    "start_time": "2024-05-16T13:20:27.405Z"
   },
   {
    "duration": 2589,
    "start_time": "2024-05-16T13:20:44.715Z"
   },
   {
    "duration": 17,
    "start_time": "2024-05-16T13:20:47.306Z"
   },
   {
    "duration": 239,
    "start_time": "2024-05-16T13:20:47.325Z"
   },
   {
    "duration": 5697,
    "start_time": "2024-05-16T13:21:26.646Z"
   },
   {
    "duration": 5726,
    "start_time": "2024-05-16T13:21:32.346Z"
   },
   {
    "duration": 3424,
    "start_time": "2024-05-16T13:21:38.075Z"
   },
   {
    "duration": 2787,
    "start_time": "2024-05-16T13:21:41.501Z"
   },
   {
    "duration": 3,
    "start_time": "2024-05-16T13:21:44.291Z"
   },
   {
    "duration": 5101,
    "start_time": "2024-05-16T13:21:44.296Z"
   },
   {
    "duration": 3,
    "start_time": "2024-05-16T13:21:49.399Z"
   },
   {
    "duration": 23,
    "start_time": "2024-05-16T13:21:49.404Z"
   },
   {
    "duration": 5658,
    "start_time": "2024-05-16T13:21:49.429Z"
   },
   {
    "duration": 635,
    "start_time": "2024-05-16T13:21:55.089Z"
   },
   {
    "duration": 10,
    "start_time": "2024-05-16T13:21:55.726Z"
   },
   {
    "duration": 72,
    "start_time": "2024-05-16T13:21:55.737Z"
   },
   {
    "duration": 60,
    "start_time": "2024-05-16T13:21:55.810Z"
   },
   {
    "duration": 9,
    "start_time": "2024-05-16T13:21:55.873Z"
   },
   {
    "duration": 17472,
    "start_time": "2024-05-16T13:21:55.883Z"
   },
   {
    "duration": 2565,
    "start_time": "2024-05-16T13:22:13.357Z"
   },
   {
    "duration": 18,
    "start_time": "2024-05-16T13:22:15.923Z"
   },
   {
    "duration": 233,
    "start_time": "2024-05-16T13:22:15.942Z"
   },
   {
    "duration": 6000,
    "start_time": "2024-05-16T13:23:28.956Z"
   },
   {
    "duration": 5708,
    "start_time": "2024-05-16T13:23:34.959Z"
   },
   {
    "duration": 3471,
    "start_time": "2024-05-16T13:23:40.669Z"
   },
   {
    "duration": 2862,
    "start_time": "2024-05-16T13:23:44.142Z"
   },
   {
    "duration": 3,
    "start_time": "2024-05-16T13:23:47.006Z"
   },
   {
    "duration": 4843,
    "start_time": "2024-05-16T13:23:47.011Z"
   },
   {
    "duration": 4,
    "start_time": "2024-05-16T13:23:51.857Z"
   },
   {
    "duration": 35,
    "start_time": "2024-05-16T13:23:51.862Z"
   },
   {
    "duration": 5743,
    "start_time": "2024-05-16T13:23:51.899Z"
   },
   {
    "duration": 630,
    "start_time": "2024-05-16T13:23:57.647Z"
   },
   {
    "duration": 11,
    "start_time": "2024-05-16T13:23:58.279Z"
   },
   {
    "duration": 33,
    "start_time": "2024-05-16T13:23:58.292Z"
   },
   {
    "duration": 70,
    "start_time": "2024-05-16T13:23:58.327Z"
   },
   {
    "duration": 8,
    "start_time": "2024-05-16T13:23:58.399Z"
   },
   {
    "duration": 17482,
    "start_time": "2024-05-16T13:23:58.409Z"
   },
   {
    "duration": 2544,
    "start_time": "2024-05-16T13:24:15.893Z"
   },
   {
    "duration": 19,
    "start_time": "2024-05-16T13:24:18.438Z"
   },
   {
    "duration": 257,
    "start_time": "2024-05-16T13:24:18.472Z"
   },
   {
    "duration": 6361,
    "start_time": "2024-05-16T13:27:06.028Z"
   },
   {
    "duration": 5782,
    "start_time": "2024-05-16T13:27:12.392Z"
   },
   {
    "duration": 3401,
    "start_time": "2024-05-16T13:27:18.176Z"
   },
   {
    "duration": 2839,
    "start_time": "2024-05-16T13:27:21.579Z"
   },
   {
    "duration": 4,
    "start_time": "2024-05-16T13:27:24.420Z"
   },
   {
    "duration": 5305,
    "start_time": "2024-05-16T13:27:24.426Z"
   },
   {
    "duration": 4,
    "start_time": "2024-05-16T13:27:29.733Z"
   },
   {
    "duration": 69,
    "start_time": "2024-05-16T13:27:29.739Z"
   },
   {
    "duration": 5833,
    "start_time": "2024-05-16T13:27:29.810Z"
   },
   {
    "duration": 645,
    "start_time": "2024-05-16T13:27:35.646Z"
   },
   {
    "duration": 11,
    "start_time": "2024-05-16T13:27:36.293Z"
   },
   {
    "duration": 19,
    "start_time": "2024-05-16T13:27:36.306Z"
   },
   {
    "duration": 29,
    "start_time": "2024-05-16T13:27:36.327Z"
   },
   {
    "duration": 82,
    "start_time": "2024-05-16T13:27:36.358Z"
   },
   {
    "duration": 17407,
    "start_time": "2024-05-16T13:27:36.441Z"
   },
   {
    "duration": 2563,
    "start_time": "2024-05-16T13:27:53.850Z"
   },
   {
    "duration": 17,
    "start_time": "2024-05-16T13:27:56.415Z"
   },
   {
    "duration": 329,
    "start_time": "2024-05-16T13:27:56.433Z"
   },
   {
    "duration": 5749,
    "start_time": "2024-05-16T13:28:48.259Z"
   },
   {
    "duration": 5716,
    "start_time": "2024-05-16T13:28:54.011Z"
   },
   {
    "duration": 3467,
    "start_time": "2024-05-16T13:28:59.729Z"
   },
   {
    "duration": 2802,
    "start_time": "2024-05-16T13:29:03.199Z"
   },
   {
    "duration": 3,
    "start_time": "2024-05-16T13:29:06.004Z"
   },
   {
    "duration": 4990,
    "start_time": "2024-05-16T13:29:06.009Z"
   },
   {
    "duration": 3,
    "start_time": "2024-05-16T13:29:11.001Z"
   },
   {
    "duration": 20,
    "start_time": "2024-05-16T13:29:11.005Z"
   },
   {
    "duration": 5772,
    "start_time": "2024-05-16T13:29:11.026Z"
   },
   {
    "duration": 624,
    "start_time": "2024-05-16T13:29:16.799Z"
   },
   {
    "duration": 10,
    "start_time": "2024-05-16T13:29:17.425Z"
   },
   {
    "duration": 30,
    "start_time": "2024-05-16T13:29:17.437Z"
   },
   {
    "duration": 38,
    "start_time": "2024-05-16T13:29:17.468Z"
   },
   {
    "duration": 19,
    "start_time": "2024-05-16T13:29:17.510Z"
   },
   {
    "duration": 17409,
    "start_time": "2024-05-16T13:29:17.531Z"
   },
   {
    "duration": 2537,
    "start_time": "2024-05-16T13:29:34.942Z"
   },
   {
    "duration": 18,
    "start_time": "2024-05-16T13:29:37.481Z"
   },
   {
    "duration": 216,
    "start_time": "2024-05-16T13:29:37.501Z"
   },
   {
    "duration": 5633,
    "start_time": "2024-05-16T13:30:57.200Z"
   },
   {
    "duration": 5728,
    "start_time": "2024-05-16T13:31:02.835Z"
   },
   {
    "duration": 3372,
    "start_time": "2024-05-16T13:31:08.565Z"
   },
   {
    "duration": 2837,
    "start_time": "2024-05-16T13:31:11.938Z"
   },
   {
    "duration": 3,
    "start_time": "2024-05-16T13:31:14.779Z"
   },
   {
    "duration": 5140,
    "start_time": "2024-05-16T13:31:14.784Z"
   },
   {
    "duration": 3,
    "start_time": "2024-05-16T13:31:19.927Z"
   },
   {
    "duration": 34,
    "start_time": "2024-05-16T13:31:19.931Z"
   },
   {
    "duration": 5902,
    "start_time": "2024-05-16T13:31:19.966Z"
   },
   {
    "duration": 619,
    "start_time": "2024-05-16T13:31:25.870Z"
   },
   {
    "duration": 11,
    "start_time": "2024-05-16T13:31:26.491Z"
   },
   {
    "duration": 249,
    "start_time": "2024-05-16T13:31:26.504Z"
   },
   {
    "duration": 198,
    "start_time": "2024-05-16T13:31:26.755Z"
   },
   {
    "duration": 21,
    "start_time": "2024-05-16T13:31:26.957Z"
   },
   {
    "duration": 16991,
    "start_time": "2024-05-16T13:31:26.980Z"
   },
   {
    "duration": 2559,
    "start_time": "2024-05-16T13:31:43.973Z"
   },
   {
    "duration": 19,
    "start_time": "2024-05-16T13:31:46.534Z"
   },
   {
    "duration": 260,
    "start_time": "2024-05-16T13:31:46.554Z"
   },
   {
    "duration": 5705,
    "start_time": "2024-05-16T13:36:42.478Z"
   },
   {
    "duration": 5822,
    "start_time": "2024-05-16T13:36:48.186Z"
   },
   {
    "duration": 3497,
    "start_time": "2024-05-16T13:36:54.010Z"
   },
   {
    "duration": 2832,
    "start_time": "2024-05-16T13:36:58.237Z"
   },
   {
    "duration": 3,
    "start_time": "2024-05-16T13:37:01.072Z"
   },
   {
    "duration": 5776,
    "start_time": "2024-05-16T13:37:01.299Z"
   },
   {
    "duration": 3,
    "start_time": "2024-05-16T13:37:19.708Z"
   },
   {
    "duration": 3,
    "start_time": "2024-05-16T13:37:20.658Z"
   },
   {
    "duration": 5468,
    "start_time": "2024-05-16T13:37:21.599Z"
   },
   {
    "duration": 611,
    "start_time": "2024-05-16T13:37:27.069Z"
   },
   {
    "duration": 12,
    "start_time": "2024-05-16T13:37:30.088Z"
   },
   {
    "duration": 12,
    "start_time": "2024-05-16T13:37:31.164Z"
   },
   {
    "duration": 20,
    "start_time": "2024-05-16T13:37:34.207Z"
   },
   {
    "duration": 3,
    "start_time": "2024-05-16T13:37:35.837Z"
   },
   {
    "duration": 17635,
    "start_time": "2024-05-16T13:37:36.997Z"
   },
   {
    "duration": 2541,
    "start_time": "2024-05-16T13:37:55.367Z"
   },
   {
    "duration": 18,
    "start_time": "2024-05-16T13:37:58.837Z"
   },
   {
    "duration": 231,
    "start_time": "2024-05-16T13:38:01.587Z"
   },
   {
    "duration": 52,
    "start_time": "2024-05-16T13:39:30.018Z"
   },
   {
    "duration": 6,
    "start_time": "2024-05-16T13:39:31.008Z"
   },
   {
    "duration": 6,
    "start_time": "2024-05-16T13:39:31.368Z"
   },
   {
    "duration": 8,
    "start_time": "2024-05-16T13:39:31.609Z"
   },
   {
    "duration": 5750,
    "start_time": "2024-05-16T13:39:44.058Z"
   },
   {
    "duration": 5776,
    "start_time": "2024-05-16T13:39:49.811Z"
   },
   {
    "duration": 3385,
    "start_time": "2024-05-16T13:39:55.590Z"
   },
   {
    "duration": 3,
    "start_time": "2024-05-16T13:39:58.977Z"
   },
   {
    "duration": 6147,
    "start_time": "2024-05-16T13:39:58.982Z"
   },
   {
    "duration": 5712,
    "start_time": "2024-05-16T13:41:46.363Z"
   },
   {
    "duration": 5830,
    "start_time": "2024-05-16T13:41:52.077Z"
   },
   {
    "duration": 3492,
    "start_time": "2024-05-16T13:41:57.911Z"
   },
   {
    "duration": 4,
    "start_time": "2024-05-16T13:42:01.407Z"
   },
   {
    "duration": 2780,
    "start_time": "2024-05-16T13:42:01.413Z"
   },
   {
    "duration": 4,
    "start_time": "2024-05-16T13:42:04.195Z"
   },
   {
    "duration": 40,
    "start_time": "2024-05-16T13:42:04.201Z"
   },
   {
    "duration": 5809,
    "start_time": "2024-05-16T13:42:04.243Z"
   },
   {
    "duration": 617,
    "start_time": "2024-05-16T13:42:10.054Z"
   },
   {
    "duration": 11,
    "start_time": "2024-05-16T13:42:10.674Z"
   },
   {
    "duration": 13,
    "start_time": "2024-05-16T13:42:10.687Z"
   },
   {
    "duration": 28,
    "start_time": "2024-05-16T13:42:10.701Z"
   },
   {
    "duration": 3,
    "start_time": "2024-05-16T13:42:10.731Z"
   },
   {
    "duration": 18005,
    "start_time": "2024-05-16T13:42:10.736Z"
   },
   {
    "duration": 2595,
    "start_time": "2024-05-16T13:42:28.742Z"
   },
   {
    "duration": 19,
    "start_time": "2024-05-16T13:42:31.339Z"
   },
   {
    "duration": 424,
    "start_time": "2024-05-16T13:42:31.360Z"
   },
   {
    "duration": 52,
    "start_time": "2024-05-16T13:45:21.303Z"
   },
   {
    "duration": 7,
    "start_time": "2024-05-16T13:45:24.401Z"
   },
   {
    "duration": 5787,
    "start_time": "2024-05-16T13:45:31.151Z"
   },
   {
    "duration": 5768,
    "start_time": "2024-05-16T13:45:36.942Z"
   },
   {
    "duration": 3421,
    "start_time": "2024-05-16T13:45:42.713Z"
   },
   {
    "duration": 4,
    "start_time": "2024-05-16T13:45:46.138Z"
   },
   {
    "duration": 5059,
    "start_time": "2024-05-16T13:45:46.144Z"
   },
   {
    "duration": 3,
    "start_time": "2024-05-16T13:45:51.206Z"
   },
   {
    "duration": 40,
    "start_time": "2024-05-16T13:45:51.211Z"
   },
   {
    "duration": 6092,
    "start_time": "2024-05-16T13:45:51.253Z"
   },
   {
    "duration": 606,
    "start_time": "2024-05-16T13:45:57.346Z"
   },
   {
    "duration": 10,
    "start_time": "2024-05-16T13:45:57.954Z"
   },
   {
    "duration": 11,
    "start_time": "2024-05-16T13:45:57.966Z"
   },
   {
    "duration": 19,
    "start_time": "2024-05-16T13:45:57.979Z"
   },
   {
    "duration": 20,
    "start_time": "2024-05-16T13:45:58.000Z"
   },
   {
    "duration": 17532,
    "start_time": "2024-05-16T13:45:58.021Z"
   },
   {
    "duration": 2658,
    "start_time": "2024-05-16T13:46:15.555Z"
   },
   {
    "duration": 24,
    "start_time": "2024-05-16T13:46:18.215Z"
   },
   {
    "duration": 214,
    "start_time": "2024-05-16T13:46:18.241Z"
   },
   {
    "duration": 6045,
    "start_time": "2024-05-16T13:57:21.250Z"
   },
   {
    "duration": 5847,
    "start_time": "2024-05-16T13:57:27.298Z"
   },
   {
    "duration": 3466,
    "start_time": "2024-05-16T13:57:33.147Z"
   },
   {
    "duration": 3,
    "start_time": "2024-05-16T13:57:36.615Z"
   },
   {
    "duration": 2582,
    "start_time": "2024-05-16T13:57:36.620Z"
   },
   {
    "duration": 3,
    "start_time": "2024-05-16T13:57:39.204Z"
   },
   {
    "duration": 12,
    "start_time": "2024-05-16T13:57:39.209Z"
   },
   {
    "duration": 5719,
    "start_time": "2024-05-16T13:57:39.222Z"
   },
   {
    "duration": 619,
    "start_time": "2024-05-16T13:57:44.943Z"
   },
   {
    "duration": 13,
    "start_time": "2024-05-16T13:57:45.566Z"
   },
   {
    "duration": 16,
    "start_time": "2024-05-16T13:57:45.581Z"
   },
   {
    "duration": 34,
    "start_time": "2024-05-16T13:57:45.599Z"
   },
   {
    "duration": 10,
    "start_time": "2024-05-16T13:57:45.635Z"
   },
   {
    "duration": 17635,
    "start_time": "2024-05-16T13:57:45.647Z"
   },
   {
    "duration": 2641,
    "start_time": "2024-05-16T13:58:03.284Z"
   },
   {
    "duration": 19,
    "start_time": "2024-05-16T13:58:05.927Z"
   },
   {
    "duration": 220,
    "start_time": "2024-05-16T13:58:05.948Z"
   },
   {
    "duration": 7243,
    "start_time": "2024-05-17T05:46:13.433Z"
   },
   {
    "duration": 26478,
    "start_time": "2024-05-17T05:46:20.678Z"
   },
   {
    "duration": 6294,
    "start_time": "2024-05-17T05:46:47.158Z"
   },
   {
    "duration": 2,
    "start_time": "2024-05-17T05:46:53.454Z"
   },
   {
    "duration": 2140,
    "start_time": "2024-05-17T05:46:53.458Z"
   },
   {
    "duration": 2,
    "start_time": "2024-05-17T05:46:55.600Z"
   },
   {
    "duration": 12,
    "start_time": "2024-05-17T05:46:55.603Z"
   },
   {
    "duration": 6284,
    "start_time": "2024-05-17T05:46:55.616Z"
   },
   {
    "duration": 788,
    "start_time": "2024-05-17T05:47:01.901Z"
   },
   {
    "duration": 39,
    "start_time": "2024-05-17T05:47:02.691Z"
   },
   {
    "duration": 40,
    "start_time": "2024-05-17T05:47:02.731Z"
   },
   {
    "duration": 48,
    "start_time": "2024-05-17T05:47:02.772Z"
   },
   {
    "duration": 3,
    "start_time": "2024-05-17T05:47:02.821Z"
   },
   {
    "duration": 10973,
    "start_time": "2024-05-17T05:47:02.827Z"
   },
   {
    "duration": 1557,
    "start_time": "2024-05-17T05:47:13.801Z"
   },
   {
    "duration": 13,
    "start_time": "2024-05-17T05:47:15.359Z"
   },
   {
    "duration": 190,
    "start_time": "2024-05-17T05:47:15.373Z"
   },
   {
    "duration": 9456,
    "start_time": "2024-05-17T05:47:15.565Z"
   },
   {
    "duration": 7,
    "start_time": "2024-05-17T05:47:25.023Z"
   },
   {
    "duration": 36,
    "start_time": "2024-05-17T05:47:25.031Z"
   },
   {
    "duration": 548,
    "start_time": "2024-05-17T05:47:25.068Z"
   },
   {
    "duration": 2588,
    "start_time": "2024-05-17T05:47:25.617Z"
   },
   {
    "duration": 146,
    "start_time": "2024-05-17T05:47:28.206Z"
   },
   {
    "duration": 7,
    "start_time": "2024-05-17T05:47:28.353Z"
   },
   {
    "duration": 122,
    "start_time": "2024-05-17T05:47:28.361Z"
   },
   {
    "duration": 3129,
    "start_time": "2024-05-17T05:47:28.484Z"
   },
   {
    "duration": 118,
    "start_time": "2024-05-17T05:47:31.615Z"
   },
   {
    "duration": 31,
    "start_time": "2024-05-17T05:47:31.734Z"
   },
   {
    "duration": 788,
    "start_time": "2024-05-17T05:47:31.766Z"
   },
   {
    "duration": 277,
    "start_time": "2024-05-17T05:47:32.556Z"
   },
   {
    "duration": 163,
    "start_time": "2024-05-17T05:47:32.834Z"
   },
   {
    "duration": 313,
    "start_time": "2024-05-17T05:47:32.998Z"
   },
   {
    "duration": 292,
    "start_time": "2024-05-17T05:47:33.313Z"
   },
   {
    "duration": 5364,
    "start_time": "2024-05-17T05:47:33.606Z"
   },
   {
    "duration": 62,
    "start_time": "2024-05-17T05:47:38.971Z"
   },
   {
    "duration": 11564,
    "start_time": "2024-05-17T05:47:39.034Z"
   },
   {
    "duration": 1592,
    "start_time": "2024-05-17T05:47:50.600Z"
   },
   {
    "duration": 2541,
    "start_time": "2024-05-17T05:47:52.193Z"
   },
   {
    "duration": 494,
    "start_time": "2024-05-17T05:47:54.736Z"
   },
   {
    "duration": 400,
    "start_time": "2024-05-17T05:47:55.231Z"
   },
   {
    "duration": 935,
    "start_time": "2024-05-17T05:47:55.635Z"
   },
   {
    "duration": 37,
    "start_time": "2024-05-17T05:47:56.571Z"
   },
   {
    "duration": 139,
    "start_time": "2024-05-17T05:47:56.609Z"
   },
   {
    "duration": 76,
    "start_time": "2024-05-17T05:47:56.749Z"
   },
   {
    "duration": 81,
    "start_time": "2024-05-17T05:47:56.826Z"
   },
   {
    "duration": 14,
    "start_time": "2024-05-17T05:47:56.908Z"
   },
   {
    "duration": 24,
    "start_time": "2024-05-17T05:47:56.923Z"
   },
   {
    "duration": 8955,
    "start_time": "2024-05-17T05:47:56.949Z"
   },
   {
    "duration": 9,
    "start_time": "2024-05-17T05:48:05.905Z"
   },
   {
    "duration": 70,
    "start_time": "2024-05-17T05:48:05.915Z"
   },
   {
    "duration": 17,
    "start_time": "2024-05-17T05:48:05.986Z"
   },
   {
    "duration": 37,
    "start_time": "2024-05-17T05:48:06.005Z"
   },
   {
    "duration": 44,
    "start_time": "2024-05-17T05:48:06.043Z"
   },
   {
    "duration": 5,
    "start_time": "2024-05-17T05:48:06.088Z"
   },
   {
    "duration": 19,
    "start_time": "2024-05-17T05:48:06.094Z"
   },
   {
    "duration": 31,
    "start_time": "2024-05-17T05:48:06.114Z"
   },
   {
    "duration": 3,
    "start_time": "2024-05-17T05:48:06.146Z"
   },
   {
    "duration": 10,
    "start_time": "2024-05-17T05:48:06.150Z"
   },
   {
    "duration": 61,
    "start_time": "2024-05-17T05:48:06.161Z"
   },
   {
    "duration": 0,
    "start_time": "2024-05-17T05:48:06.223Z"
   },
   {
    "duration": 0,
    "start_time": "2024-05-17T05:48:06.224Z"
   },
   {
    "duration": 0,
    "start_time": "2024-05-17T05:48:06.225Z"
   },
   {
    "duration": 0,
    "start_time": "2024-05-17T05:48:06.226Z"
   },
   {
    "duration": 0,
    "start_time": "2024-05-17T05:48:06.227Z"
   },
   {
    "duration": 0,
    "start_time": "2024-05-17T05:48:06.228Z"
   },
   {
    "duration": 0,
    "start_time": "2024-05-17T05:48:06.228Z"
   },
   {
    "duration": 0,
    "start_time": "2024-05-17T05:48:06.229Z"
   },
   {
    "duration": 0,
    "start_time": "2024-05-17T05:48:06.230Z"
   },
   {
    "duration": 0,
    "start_time": "2024-05-17T05:48:06.231Z"
   },
   {
    "duration": 0,
    "start_time": "2024-05-17T05:48:06.231Z"
   },
   {
    "duration": 0,
    "start_time": "2024-05-17T05:48:06.232Z"
   },
   {
    "duration": 0,
    "start_time": "2024-05-17T05:48:06.233Z"
   },
   {
    "duration": 0,
    "start_time": "2024-05-17T05:48:06.234Z"
   },
   {
    "duration": 0,
    "start_time": "2024-05-17T05:48:06.235Z"
   },
   {
    "duration": 0,
    "start_time": "2024-05-17T05:48:06.236Z"
   },
   {
    "duration": 0,
    "start_time": "2024-05-17T05:48:06.236Z"
   },
   {
    "duration": 0,
    "start_time": "2024-05-17T05:48:06.237Z"
   },
   {
    "duration": 0,
    "start_time": "2024-05-17T05:48:06.238Z"
   },
   {
    "duration": 0,
    "start_time": "2024-05-17T05:48:06.239Z"
   },
   {
    "duration": 3,
    "start_time": "2024-05-17T07:21:47.694Z"
   },
   {
    "duration": 142808,
    "start_time": "2024-05-17T07:21:51.502Z"
   },
   {
    "duration": 13,
    "start_time": "2024-05-17T07:24:19.392Z"
   },
   {
    "duration": 16,
    "start_time": "2024-05-17T07:24:20.171Z"
   },
   {
    "duration": 3,
    "start_time": "2024-05-17T07:24:21.981Z"
   },
   {
    "duration": 3,
    "start_time": "2024-05-17T07:25:42.500Z"
   },
   {
    "duration": 3,
    "start_time": "2024-05-17T07:25:43.590Z"
   },
   {
    "duration": 3,
    "start_time": "2024-05-17T07:25:44.431Z"
   },
   {
    "duration": 64868,
    "start_time": "2024-05-17T07:25:45.561Z"
   },
   {
    "duration": 8,
    "start_time": "2024-05-17T07:27:00.000Z"
   },
   {
    "duration": 15,
    "start_time": "2024-05-17T07:27:02.811Z"
   },
   {
    "duration": 3,
    "start_time": "2024-05-17T07:30:11.090Z"
   },
   {
    "duration": 3,
    "start_time": "2024-05-17T07:31:06.451Z"
   },
   {
    "duration": 3,
    "start_time": "2024-05-17T07:31:07.632Z"
   },
   {
    "duration": 136163,
    "start_time": "2024-05-17T07:31:13.640Z"
   },
   {
    "duration": 9,
    "start_time": "2024-05-17T07:33:44.079Z"
   },
   {
    "duration": 15,
    "start_time": "2024-05-17T07:33:45.610Z"
   },
   {
    "duration": 3,
    "start_time": "2024-05-17T07:34:38.459Z"
   },
   {
    "duration": 224,
    "start_time": "2024-05-17T07:35:18.790Z"
   },
   {
    "duration": 241,
    "start_time": "2024-05-17T07:35:19.671Z"
   },
   {
    "duration": 10492,
    "start_time": "2024-05-17T07:35:23.993Z"
   },
   {
    "duration": 3332,
    "start_time": "2024-05-17T07:35:36.622Z"
   },
   {
    "duration": 10,
    "start_time": "2024-05-17T07:36:07.451Z"
   },
   {
    "duration": 4,
    "start_time": "2024-05-17T07:36:08.619Z"
   },
   {
    "duration": 139,
    "start_time": "2024-05-17T07:36:09.365Z"
   },
   {
    "duration": 7375,
    "start_time": "2024-05-21T05:34:05.961Z"
   },
   {
    "duration": 26708,
    "start_time": "2024-05-21T05:34:13.338Z"
   },
   {
    "duration": 5856,
    "start_time": "2024-05-21T05:34:40.048Z"
   },
   {
    "duration": 3,
    "start_time": "2024-05-21T05:34:45.906Z"
   },
   {
    "duration": 2196,
    "start_time": "2024-05-21T05:34:45.910Z"
   },
   {
    "duration": 2,
    "start_time": "2024-05-21T05:34:48.107Z"
   },
   {
    "duration": 42,
    "start_time": "2024-05-21T05:34:48.110Z"
   },
   {
    "duration": 6081,
    "start_time": "2024-05-21T05:34:48.154Z"
   },
   {
    "duration": 800,
    "start_time": "2024-05-21T05:34:54.236Z"
   },
   {
    "duration": 40,
    "start_time": "2024-05-21T05:34:55.038Z"
   },
   {
    "duration": 59,
    "start_time": "2024-05-21T05:34:55.079Z"
   },
   {
    "duration": 45,
    "start_time": "2024-05-21T05:34:55.139Z"
   },
   {
    "duration": 2,
    "start_time": "2024-05-21T05:34:55.186Z"
   },
   {
    "duration": 11801,
    "start_time": "2024-05-21T05:34:55.189Z"
   },
   {
    "duration": 1559,
    "start_time": "2024-05-21T05:35:06.992Z"
   },
   {
    "duration": 13,
    "start_time": "2024-05-21T05:35:08.552Z"
   },
   {
    "duration": 174,
    "start_time": "2024-05-21T05:35:08.566Z"
   },
   {
    "duration": 9645,
    "start_time": "2024-05-21T05:35:08.742Z"
   },
   {
    "duration": 6,
    "start_time": "2024-05-21T05:35:18.389Z"
   },
   {
    "duration": 44,
    "start_time": "2024-05-21T05:35:18.397Z"
   },
   {
    "duration": 495,
    "start_time": "2024-05-21T05:35:18.442Z"
   },
   {
    "duration": 2640,
    "start_time": "2024-05-21T05:35:18.938Z"
   },
   {
    "duration": 140,
    "start_time": "2024-05-21T05:35:21.579Z"
   },
   {
    "duration": 7,
    "start_time": "2024-05-21T05:35:21.721Z"
   },
   {
    "duration": 111,
    "start_time": "2024-05-21T05:35:21.729Z"
   },
   {
    "duration": 3039,
    "start_time": "2024-05-21T05:35:21.841Z"
   },
   {
    "duration": 123,
    "start_time": "2024-05-21T05:35:24.882Z"
   },
   {
    "duration": 5,
    "start_time": "2024-05-21T05:35:25.009Z"
   },
   {
    "duration": 743,
    "start_time": "2024-05-21T05:35:25.016Z"
   },
   {
    "duration": 268,
    "start_time": "2024-05-21T05:35:25.760Z"
   },
   {
    "duration": 166,
    "start_time": "2024-05-21T05:35:26.029Z"
   },
   {
    "duration": 306,
    "start_time": "2024-05-21T05:35:26.196Z"
   },
   {
    "duration": 305,
    "start_time": "2024-05-21T05:35:26.503Z"
   },
   {
    "duration": 4697,
    "start_time": "2024-05-21T05:35:26.809Z"
   },
   {
    "duration": 54,
    "start_time": "2024-05-21T05:35:31.507Z"
   },
   {
    "duration": 11268,
    "start_time": "2024-05-21T05:35:31.563Z"
   },
   {
    "duration": 1611,
    "start_time": "2024-05-21T05:35:42.832Z"
   },
   {
    "duration": 2477,
    "start_time": "2024-05-21T05:35:44.445Z"
   },
   {
    "duration": 482,
    "start_time": "2024-05-21T05:35:46.924Z"
   },
   {
    "duration": 423,
    "start_time": "2024-05-21T05:35:47.407Z"
   },
   {
    "duration": 1034,
    "start_time": "2024-05-21T05:35:47.831Z"
   },
   {
    "duration": 42,
    "start_time": "2024-05-21T05:35:48.866Z"
   },
   {
    "duration": 137,
    "start_time": "2024-05-21T05:35:48.909Z"
   },
   {
    "duration": 83,
    "start_time": "2024-05-21T05:35:49.048Z"
   },
   {
    "duration": 84,
    "start_time": "2024-05-21T05:35:49.132Z"
   },
   {
    "duration": 12,
    "start_time": "2024-05-21T05:35:49.217Z"
   },
   {
    "duration": 8,
    "start_time": "2024-05-21T05:35:49.230Z"
   },
   {
    "duration": 8730,
    "start_time": "2024-05-21T05:35:49.240Z"
   },
   {
    "duration": 8,
    "start_time": "2024-05-21T05:35:57.971Z"
   },
   {
    "duration": 63,
    "start_time": "2024-05-21T05:35:57.980Z"
   },
   {
    "duration": 15,
    "start_time": "2024-05-21T05:35:58.045Z"
   },
   {
    "duration": 3,
    "start_time": "2024-05-21T05:35:58.061Z"
   },
   {
    "duration": 33,
    "start_time": "2024-05-21T05:35:58.065Z"
   },
   {
    "duration": 5,
    "start_time": "2024-05-21T05:35:58.099Z"
   },
   {
    "duration": 37,
    "start_time": "2024-05-21T05:35:58.105Z"
   },
   {
    "duration": 39,
    "start_time": "2024-05-21T05:35:58.144Z"
   },
   {
    "duration": 3,
    "start_time": "2024-05-21T05:35:58.184Z"
   },
   {
    "duration": 12,
    "start_time": "2024-05-21T05:35:58.188Z"
   },
   {
    "duration": 21,
    "start_time": "2024-05-21T05:35:58.201Z"
   },
   {
    "duration": 127798,
    "start_time": "2024-05-21T05:35:58.223Z"
   },
   {
    "duration": 10,
    "start_time": "2024-05-21T05:38:06.022Z"
   },
   {
    "duration": 23,
    "start_time": "2024-05-21T05:38:06.033Z"
   },
   {
    "duration": 3,
    "start_time": "2024-05-21T05:38:06.057Z"
   },
   {
    "duration": 17,
    "start_time": "2024-05-21T05:38:06.061Z"
   },
   {
    "duration": 11,
    "start_time": "2024-05-21T05:38:06.079Z"
   },
   {
    "duration": 16,
    "start_time": "2024-05-21T05:38:06.091Z"
   },
   {
    "duration": 57269,
    "start_time": "2024-05-21T05:38:06.108Z"
   },
   {
    "duration": 8,
    "start_time": "2024-05-21T05:39:03.378Z"
   },
   {
    "duration": 22,
    "start_time": "2024-05-21T05:39:03.387Z"
   },
   {
    "duration": 11,
    "start_time": "2024-05-21T05:39:03.410Z"
   },
   {
    "duration": 5,
    "start_time": "2024-05-21T05:39:03.422Z"
   },
   {
    "duration": 5,
    "start_time": "2024-05-21T05:39:03.428Z"
   },
   {
    "duration": 113569,
    "start_time": "2024-05-21T05:39:03.435Z"
   },
   {
    "duration": 8,
    "start_time": "2024-05-21T05:40:57.007Z"
   },
   {
    "duration": 88,
    "start_time": "2024-05-21T05:40:57.016Z"
   },
   {
    "duration": 2,
    "start_time": "2024-05-21T05:40:57.106Z"
   },
   {
    "duration": 110,
    "start_time": "2024-05-21T05:40:57.109Z"
   },
   {
    "duration": 258,
    "start_time": "2024-05-21T05:40:57.221Z"
   },
   {
    "duration": 10300,
    "start_time": "2024-05-21T05:40:57.480Z"
   },
   {
    "duration": 3181,
    "start_time": "2024-05-21T05:41:07.781Z"
   },
   {
    "duration": 5,
    "start_time": "2024-05-21T05:41:10.963Z"
   },
   {
    "duration": 10,
    "start_time": "2024-05-21T05:41:10.972Z"
   },
   {
    "duration": 172,
    "start_time": "2024-05-21T05:41:10.983Z"
   },
   {
    "duration": 1192,
    "start_time": "2024-05-21T05:41:11.157Z"
   }
  ],
  "colab": {
   "provenance": []
  },
  "kernelspec": {
   "display_name": "Python 3 (ipykernel)",
   "language": "python",
   "name": "python3"
  },
  "language_info": {
   "codemirror_mode": {
    "name": "ipython",
    "version": 3
   },
   "file_extension": ".py",
   "mimetype": "text/x-python",
   "name": "python",
   "nbconvert_exporter": "python",
   "pygments_lexer": "ipython3",
   "version": "3.9.5"
  },
  "toc": {
   "base_numbering": 1,
   "nav_menu": {},
   "number_sections": false,
   "sideBar": true,
   "skip_h1_title": false,
   "title_cell": "Table of Contents",
   "title_sidebar": "Contents",
   "toc_cell": false,
   "toc_position": {},
   "toc_section_display": true,
   "toc_window_display": false
  },
  "varInspector": {
   "cols": {
    "lenName": 16,
    "lenType": 16,
    "lenVar": 40
   },
   "kernels_config": {
    "python": {
     "delete_cmd_postfix": "",
     "delete_cmd_prefix": "del ",
     "library": "var_list.py",
     "varRefreshCmd": "print(var_dic_list())"
    },
    "r": {
     "delete_cmd_postfix": ") ",
     "delete_cmd_prefix": "rm(",
     "library": "var_list.r",
     "varRefreshCmd": "cat(var_dic_list()) "
    }
   },
   "types_to_exclude": [
    "module",
    "function",
    "builtin_function_or_method",
    "instance",
    "_Feature"
   ],
   "window_display": false
  },
  "widgets": {
   "application/vnd.jupyter.widget-state+json": {
    "418afcc22b9447e7aadafbb3ce2f40bb": {
     "model_module": "@jupyter-widgets/base",
     "model_module_version": "1.2.0",
     "model_name": "LayoutModel",
     "state": {
      "_model_module": "@jupyter-widgets/base",
      "_model_module_version": "1.2.0",
      "_model_name": "LayoutModel",
      "_view_count": null,
      "_view_module": "@jupyter-widgets/base",
      "_view_module_version": "1.2.0",
      "_view_name": "LayoutView",
      "align_content": null,
      "align_items": null,
      "align_self": null,
      "border": null,
      "bottom": null,
      "display": null,
      "flex": null,
      "flex_flow": null,
      "grid_area": null,
      "grid_auto_columns": null,
      "grid_auto_flow": null,
      "grid_auto_rows": null,
      "grid_column": null,
      "grid_gap": null,
      "grid_row": null,
      "grid_template_areas": null,
      "grid_template_columns": null,
      "grid_template_rows": null,
      "height": null,
      "justify_content": null,
      "justify_items": null,
      "left": null,
      "margin": null,
      "max_height": null,
      "max_width": null,
      "min_height": null,
      "min_width": null,
      "object_fit": null,
      "object_position": null,
      "order": null,
      "overflow": null,
      "overflow_x": null,
      "overflow_y": null,
      "padding": null,
      "right": null,
      "top": null,
      "visibility": null,
      "width": null
     }
    },
    "4fae08f33b624c688ea4b16e537ab76b": {
     "model_module": "@jupyter-widgets/controls",
     "model_module_version": "1.5.0",
     "model_name": "DescriptionStyleModel",
     "state": {
      "_model_module": "@jupyter-widgets/controls",
      "_model_module_version": "1.5.0",
      "_model_name": "DescriptionStyleModel",
      "_view_count": null,
      "_view_module": "@jupyter-widgets/base",
      "_view_module_version": "1.2.0",
      "_view_name": "StyleView",
      "description_width": ""
     }
    },
    "8dbacfd344b34eb5b5f358af80f675d5": {
     "model_module": "@jupyter-widgets/controls",
     "model_module_version": "1.5.0",
     "model_name": "HBoxModel",
     "state": {
      "_dom_classes": [],
      "_model_module": "@jupyter-widgets/controls",
      "_model_module_version": "1.5.0",
      "_model_name": "HBoxModel",
      "_view_count": null,
      "_view_module": "@jupyter-widgets/controls",
      "_view_module_version": "1.5.0",
      "_view_name": "HBoxView",
      "box_style": "",
      "children": [
       "IPY_MODEL_cdc018e7e81d40d4a494b45f25d09f4c",
       "IPY_MODEL_bc5a1a7a1d454a68b5f10d8753534f17",
       "IPY_MODEL_ef8901ab842a4ffc8637eb506fc33ba6"
      ],
      "layout": "IPY_MODEL_915e482c103d401eb3399c1b6b36df44"
     }
    },
    "915e482c103d401eb3399c1b6b36df44": {
     "model_module": "@jupyter-widgets/base",
     "model_module_version": "1.2.0",
     "model_name": "LayoutModel",
     "state": {
      "_model_module": "@jupyter-widgets/base",
      "_model_module_version": "1.2.0",
      "_model_name": "LayoutModel",
      "_view_count": null,
      "_view_module": "@jupyter-widgets/base",
      "_view_module_version": "1.2.0",
      "_view_name": "LayoutView",
      "align_content": null,
      "align_items": null,
      "align_self": null,
      "border": null,
      "bottom": null,
      "display": "inline-flex",
      "flex": null,
      "flex_flow": "row wrap",
      "grid_area": null,
      "grid_auto_columns": null,
      "grid_auto_flow": null,
      "grid_auto_rows": null,
      "grid_column": null,
      "grid_gap": null,
      "grid_row": null,
      "grid_template_areas": null,
      "grid_template_columns": null,
      "grid_template_rows": null,
      "height": null,
      "justify_content": null,
      "justify_items": null,
      "left": null,
      "margin": null,
      "max_height": null,
      "max_width": null,
      "min_height": null,
      "min_width": null,
      "object_fit": null,
      "object_position": null,
      "order": null,
      "overflow": null,
      "overflow_x": null,
      "overflow_y": null,
      "padding": null,
      "right": null,
      "top": null,
      "visibility": null,
      "width": "100%"
     }
    },
    "ad9f2723bf894c4b96d0046facbe9d7b": {
     "model_module": "@jupyter-widgets/base",
     "model_module_version": "1.2.0",
     "model_name": "LayoutModel",
     "state": {
      "_model_module": "@jupyter-widgets/base",
      "_model_module_version": "1.2.0",
      "_model_name": "LayoutModel",
      "_view_count": null,
      "_view_module": "@jupyter-widgets/base",
      "_view_module_version": "1.2.0",
      "_view_name": "LayoutView",
      "align_content": null,
      "align_items": null,
      "align_self": null,
      "border": null,
      "bottom": null,
      "display": null,
      "flex": null,
      "flex_flow": null,
      "grid_area": null,
      "grid_auto_columns": null,
      "grid_auto_flow": null,
      "grid_auto_rows": null,
      "grid_column": null,
      "grid_gap": null,
      "grid_row": null,
      "grid_template_areas": null,
      "grid_template_columns": null,
      "grid_template_rows": null,
      "height": null,
      "justify_content": null,
      "justify_items": null,
      "left": null,
      "margin": null,
      "max_height": null,
      "max_width": null,
      "min_height": null,
      "min_width": null,
      "object_fit": null,
      "object_position": null,
      "order": null,
      "overflow": null,
      "overflow_x": null,
      "overflow_y": null,
      "padding": null,
      "right": null,
      "top": null,
      "visibility": null,
      "width": null
     }
    },
    "bc5a1a7a1d454a68b5f10d8753534f17": {
     "model_module": "@jupyter-widgets/controls",
     "model_module_version": "1.5.0",
     "model_name": "FloatProgressModel",
     "state": {
      "_dom_classes": [],
      "_model_module": "@jupyter-widgets/controls",
      "_model_module_version": "1.5.0",
      "_model_name": "FloatProgressModel",
      "_view_count": null,
      "_view_module": "@jupyter-widgets/controls",
      "_view_module_version": "1.5.0",
      "_view_name": "ProgressView",
      "bar_style": "success",
      "description": "",
      "description_tooltip": null,
      "layout": "IPY_MODEL_c3cec9c912194cb8b5d54a39d300de7f",
      "max": 1,
      "min": 0,
      "orientation": "horizontal",
      "style": "IPY_MODEL_f84b4be704d446f59f9bfde0987effac",
      "value": 1
     }
    },
    "c3cec9c912194cb8b5d54a39d300de7f": {
     "model_module": "@jupyter-widgets/base",
     "model_module_version": "1.2.0",
     "model_name": "LayoutModel",
     "state": {
      "_model_module": "@jupyter-widgets/base",
      "_model_module_version": "1.2.0",
      "_model_name": "LayoutModel",
      "_view_count": null,
      "_view_module": "@jupyter-widgets/base",
      "_view_module_version": "1.2.0",
      "_view_name": "LayoutView",
      "align_content": null,
      "align_items": null,
      "align_self": null,
      "border": null,
      "bottom": null,
      "display": null,
      "flex": "2",
      "flex_flow": null,
      "grid_area": null,
      "grid_auto_columns": null,
      "grid_auto_flow": null,
      "grid_auto_rows": null,
      "grid_column": null,
      "grid_gap": null,
      "grid_row": null,
      "grid_template_areas": null,
      "grid_template_columns": null,
      "grid_template_rows": null,
      "height": null,
      "justify_content": null,
      "justify_items": null,
      "left": null,
      "margin": null,
      "max_height": null,
      "max_width": null,
      "min_height": null,
      "min_width": null,
      "object_fit": null,
      "object_position": null,
      "order": null,
      "overflow": null,
      "overflow_x": null,
      "overflow_y": null,
      "padding": null,
      "right": null,
      "top": null,
      "visibility": null,
      "width": null
     }
    },
    "cdc018e7e81d40d4a494b45f25d09f4c": {
     "model_module": "@jupyter-widgets/controls",
     "model_module_version": "1.5.0",
     "model_name": "HTMLModel",
     "state": {
      "_dom_classes": [],
      "_model_module": "@jupyter-widgets/controls",
      "_model_module_version": "1.5.0",
      "_model_name": "HTMLModel",
      "_view_count": null,
      "_view_module": "@jupyter-widgets/controls",
      "_view_module_version": "1.5.0",
      "_view_name": "HTMLView",
      "description": "",
      "description_tooltip": null,
      "layout": "IPY_MODEL_ad9f2723bf894c4b96d0046facbe9d7b",
      "placeholder": "​",
      "style": "IPY_MODEL_ff9e666a687e4b45b01fcec5f4e95ef3",
      "value": "Done! Use &#x27;show&#x27; commands to display/save.   "
     }
    },
    "ef8901ab842a4ffc8637eb506fc33ba6": {
     "model_module": "@jupyter-widgets/controls",
     "model_module_version": "1.5.0",
     "model_name": "HTMLModel",
     "state": {
      "_dom_classes": [],
      "_model_module": "@jupyter-widgets/controls",
      "_model_module_version": "1.5.0",
      "_model_name": "HTMLModel",
      "_view_count": null,
      "_view_module": "@jupyter-widgets/controls",
      "_view_module_version": "1.5.0",
      "_view_name": "HTMLView",
      "description": "",
      "description_tooltip": null,
      "layout": "IPY_MODEL_418afcc22b9447e7aadafbb3ce2f40bb",
      "placeholder": "​",
      "style": "IPY_MODEL_4fae08f33b624c688ea4b16e537ab76b",
      "value": " [100%]   00:00 -&gt; (00:00 left)"
     }
    },
    "f84b4be704d446f59f9bfde0987effac": {
     "model_module": "@jupyter-widgets/controls",
     "model_module_version": "1.5.0",
     "model_name": "ProgressStyleModel",
     "state": {
      "_model_module": "@jupyter-widgets/controls",
      "_model_module_version": "1.5.0",
      "_model_name": "ProgressStyleModel",
      "_view_count": null,
      "_view_module": "@jupyter-widgets/base",
      "_view_module_version": "1.2.0",
      "_view_name": "StyleView",
      "bar_color": null,
      "description_width": ""
     }
    },
    "ff9e666a687e4b45b01fcec5f4e95ef3": {
     "model_module": "@jupyter-widgets/controls",
     "model_module_version": "1.5.0",
     "model_name": "DescriptionStyleModel",
     "state": {
      "_model_module": "@jupyter-widgets/controls",
      "_model_module_version": "1.5.0",
      "_model_name": "DescriptionStyleModel",
      "_view_count": null,
      "_view_module": "@jupyter-widgets/base",
      "_view_module_version": "1.2.0",
      "_view_name": "StyleView",
      "description_width": ""
     }
    }
   }
  }
 },
 "nbformat": 4,
 "nbformat_minor": 5
}
