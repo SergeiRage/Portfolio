{
 "cells": [
  {
   "cell_type": "markdown",
   "metadata": {},
   "source": [
    "# Определение стоимости автомобилей"
   ]
  },
  {
   "cell_type": "markdown",
   "metadata": {},
   "source": [
    "Сервис по продаже автомобилей с пробегом «Не бит, не крашен» разрабатывает приложение для привлечения новых клиентов. В нём можно быстро узнать рыночную стоимость своего автомобиля. В вашем распоряжении исторические данные: технические характеристики, комплектации и цены автомобилей. Вам нужно построить модель для определения стоимости. \n",
    "\n",
    "Заказчику важны:\n",
    "\n",
    "- качество предсказания;\n",
    "- скорость предсказания;\n",
    "- время обучения."
   ]
  },
  {
   "cell_type": "markdown",
   "metadata": {},
   "source": [
    " **Исследование прогнозирования рыночной стоимости автомобилей** \n",
    " \n",
    "В нашем распоряжении данные о технических характреристиках автомобилей и их стоимости. Имеются данные о модели автомобиля, годе выпуска, типе кузова и т.д.. Чтобы привлечь клиентов, компания разрабатывает приложение, позволяющее на основе основных данных об автомобиле, предсказать его рыночную стоимость.\n",
    "\n",
    " **Цель исследования**\n",
    " \n",
    "Цель проекта заключается в разаработке наилучшей модели предсказания стоимости автомобилей, а именно:\n",
    "1. Проанализировать основную информацию об автомобилях из базы данных.\n",
    "2. Подготовить данные для обучения моделей.\n",
    "3. Обучить разные модели и сравнить их быстродействие и качество моделей.\n",
    "4. Выбрать лучшую модель и проверить ее на тестовой выборке.\n",
    "\n",
    "**Ход исследования**\n",
    "\n",
    "Данные для исследования получены из датафрейма, содержащего данные технических характеристиках автоьобилей и их цене. О качестве данных ничего не известно, поэтому понадобится их обзор.\n",
    "\n",
    "Данные будут проверены на ошибки и пропуски. Неинформативные признаки будут удалены.\n",
    "\n",
    "Таким образом, исследование будет состоять из следующих этапов:\n",
    "- обзор данных;\n",
    "- предобработка данных;\n",
    "- исследовательский анализ данных;\n",
    "- предобработка данные для обучения моделей;\n",
    "- разработка ML - моделей определения стоимости автомобилей;\n",
    "- выделение наилучшей модели по критериям времени обучения, времени предсказания и качества моделей;\n",
    "- проверка лучшей модели на тестовой выборке;\n",
    "- основные выводы."
   ]
  },
  {
   "cell_type": "markdown",
   "metadata": {},
   "source": [
    "## Подготовка данных"
   ]
  },
  {
   "cell_type": "markdown",
   "metadata": {},
   "source": [
    "Загрузка библиотек."
   ]
  },
  {
   "cell_type": "code",
   "execution_count": 1,
   "metadata": {},
   "outputs": [],
   "source": [
    "! pip install -q phik"
   ]
  },
  {
   "cell_type": "code",
   "execution_count": 2,
   "metadata": {},
   "outputs": [
    {
     "name": "stdout",
     "output_type": "stream",
     "text": [
      "Note: you may need to restart the kernel to use updated packages.\n"
     ]
    }
   ],
   "source": [
    "pip install -q catboost"
   ]
  },
  {
   "cell_type": "code",
   "execution_count": 3,
   "metadata": {
    "scrolled": true
   },
   "outputs": [
    {
     "name": "stdout",
     "output_type": "stream",
     "text": [
      "Note: you may need to restart the kernel to use updated packages.\n"
     ]
    }
   ],
   "source": [
    "pip install pandas==1.3.2 -q # -q убирает необязательные выводы в командах Linux"
   ]
  },
  {
   "cell_type": "code",
   "execution_count": 4,
   "metadata": {},
   "outputs": [],
   "source": [
    "import pandas as pd\n",
    "import numpy as np\n",
    "import phik\n",
    "from phik.report import plot_correlation_matrix\n",
    "from phik import report\n",
    "\n",
    "from sklearn.metrics import mean_absolute_error,mean_squared_error\n",
    "from sklearn.model_selection import train_test_split\n",
    "from sklearn.linear_model import LinearRegression\n",
    "from sklearn.preprocessing import StandardScaler\n",
    "import warnings\n",
    "import re\n",
    "from sklearn.metrics import r2_score\n",
    "from tqdm.notebook import tqdm\n",
    "import matplotlib.pyplot as plt\n",
    "import seaborn as sns\n",
    "from sklearn.model_selection import GridSearchCV\n",
    "import lightgbm as lgbm\n",
    "from catboost import CatBoostRegressor\n",
    "from sklearn.ensemble import RandomForestRegressor\n",
    "from sklearn.tree import DecisionTreeRegressor\n",
    "from lightgbm import LGBMRegressor\n",
    "from sklearn.metrics import make_scorer\n",
    "from sklearn.preprocessing import OrdinalEncoder\n",
    "from sklearn.preprocessing import LabelEncoder\n",
    "from sklearn.preprocessing import OneHotEncoder\n",
    "from sklearn.compose import make_column_transformer, make_column_selector\n",
    "from sklearn.pipeline import make_pipeline\n",
    "from typing import Any\n",
    "\n",
    "import time\n",
    "warnings.filterwarnings('ignore')"
   ]
  },
  {
   "cell_type": "markdown",
   "metadata": {},
   "source": [
    "Загрузка датасета."
   ]
  },
  {
   "cell_type": "code",
   "execution_count": 5,
   "metadata": {},
   "outputs": [],
   "source": [
    "data = pd.read_csv('/datasets/autos.csv')"
   ]
  },
  {
   "cell_type": "code",
   "execution_count": 6,
   "metadata": {},
   "outputs": [
    {
     "data": {
      "text/html": [
       "<div>\n",
       "<style scoped>\n",
       "    .dataframe tbody tr th:only-of-type {\n",
       "        vertical-align: middle;\n",
       "    }\n",
       "\n",
       "    .dataframe tbody tr th {\n",
       "        vertical-align: top;\n",
       "    }\n",
       "\n",
       "    .dataframe thead th {\n",
       "        text-align: right;\n",
       "    }\n",
       "</style>\n",
       "<table border=\"1\" class=\"dataframe\">\n",
       "  <thead>\n",
       "    <tr style=\"text-align: right;\">\n",
       "      <th></th>\n",
       "      <th>DateCrawled</th>\n",
       "      <th>Price</th>\n",
       "      <th>VehicleType</th>\n",
       "      <th>RegistrationYear</th>\n",
       "      <th>Gearbox</th>\n",
       "      <th>Power</th>\n",
       "      <th>Model</th>\n",
       "      <th>Kilometer</th>\n",
       "      <th>RegistrationMonth</th>\n",
       "      <th>FuelType</th>\n",
       "      <th>Brand</th>\n",
       "      <th>Repaired</th>\n",
       "      <th>DateCreated</th>\n",
       "      <th>NumberOfPictures</th>\n",
       "      <th>PostalCode</th>\n",
       "      <th>LastSeen</th>\n",
       "    </tr>\n",
       "  </thead>\n",
       "  <tbody>\n",
       "    <tr>\n",
       "      <th>0</th>\n",
       "      <td>2016-03-24 11:52:17</td>\n",
       "      <td>480</td>\n",
       "      <td>NaN</td>\n",
       "      <td>1993</td>\n",
       "      <td>manual</td>\n",
       "      <td>0</td>\n",
       "      <td>golf</td>\n",
       "      <td>150000</td>\n",
       "      <td>0</td>\n",
       "      <td>petrol</td>\n",
       "      <td>volkswagen</td>\n",
       "      <td>NaN</td>\n",
       "      <td>2016-03-24 00:00:00</td>\n",
       "      <td>0</td>\n",
       "      <td>70435</td>\n",
       "      <td>2016-04-07 03:16:57</td>\n",
       "    </tr>\n",
       "    <tr>\n",
       "      <th>1</th>\n",
       "      <td>2016-03-24 10:58:45</td>\n",
       "      <td>18300</td>\n",
       "      <td>coupe</td>\n",
       "      <td>2011</td>\n",
       "      <td>manual</td>\n",
       "      <td>190</td>\n",
       "      <td>NaN</td>\n",
       "      <td>125000</td>\n",
       "      <td>5</td>\n",
       "      <td>gasoline</td>\n",
       "      <td>audi</td>\n",
       "      <td>yes</td>\n",
       "      <td>2016-03-24 00:00:00</td>\n",
       "      <td>0</td>\n",
       "      <td>66954</td>\n",
       "      <td>2016-04-07 01:46:50</td>\n",
       "    </tr>\n",
       "    <tr>\n",
       "      <th>2</th>\n",
       "      <td>2016-03-14 12:52:21</td>\n",
       "      <td>9800</td>\n",
       "      <td>suv</td>\n",
       "      <td>2004</td>\n",
       "      <td>auto</td>\n",
       "      <td>163</td>\n",
       "      <td>grand</td>\n",
       "      <td>125000</td>\n",
       "      <td>8</td>\n",
       "      <td>gasoline</td>\n",
       "      <td>jeep</td>\n",
       "      <td>NaN</td>\n",
       "      <td>2016-03-14 00:00:00</td>\n",
       "      <td>0</td>\n",
       "      <td>90480</td>\n",
       "      <td>2016-04-05 12:47:46</td>\n",
       "    </tr>\n",
       "    <tr>\n",
       "      <th>3</th>\n",
       "      <td>2016-03-17 16:54:04</td>\n",
       "      <td>1500</td>\n",
       "      <td>small</td>\n",
       "      <td>2001</td>\n",
       "      <td>manual</td>\n",
       "      <td>75</td>\n",
       "      <td>golf</td>\n",
       "      <td>150000</td>\n",
       "      <td>6</td>\n",
       "      <td>petrol</td>\n",
       "      <td>volkswagen</td>\n",
       "      <td>no</td>\n",
       "      <td>2016-03-17 00:00:00</td>\n",
       "      <td>0</td>\n",
       "      <td>91074</td>\n",
       "      <td>2016-03-17 17:40:17</td>\n",
       "    </tr>\n",
       "    <tr>\n",
       "      <th>4</th>\n",
       "      <td>2016-03-31 17:25:20</td>\n",
       "      <td>3600</td>\n",
       "      <td>small</td>\n",
       "      <td>2008</td>\n",
       "      <td>manual</td>\n",
       "      <td>69</td>\n",
       "      <td>fabia</td>\n",
       "      <td>90000</td>\n",
       "      <td>7</td>\n",
       "      <td>gasoline</td>\n",
       "      <td>skoda</td>\n",
       "      <td>no</td>\n",
       "      <td>2016-03-31 00:00:00</td>\n",
       "      <td>0</td>\n",
       "      <td>60437</td>\n",
       "      <td>2016-04-06 10:17:21</td>\n",
       "    </tr>\n",
       "  </tbody>\n",
       "</table>\n",
       "</div>"
      ],
      "text/plain": [
       "           DateCrawled  Price VehicleType  RegistrationYear Gearbox  Power  \\\n",
       "0  2016-03-24 11:52:17    480         NaN              1993  manual      0   \n",
       "1  2016-03-24 10:58:45  18300       coupe              2011  manual    190   \n",
       "2  2016-03-14 12:52:21   9800         suv              2004    auto    163   \n",
       "3  2016-03-17 16:54:04   1500       small              2001  manual     75   \n",
       "4  2016-03-31 17:25:20   3600       small              2008  manual     69   \n",
       "\n",
       "   Model  Kilometer  RegistrationMonth  FuelType       Brand Repaired  \\\n",
       "0   golf     150000                  0    petrol  volkswagen      NaN   \n",
       "1    NaN     125000                  5  gasoline        audi      yes   \n",
       "2  grand     125000                  8  gasoline        jeep      NaN   \n",
       "3   golf     150000                  6    petrol  volkswagen       no   \n",
       "4  fabia      90000                  7  gasoline       skoda       no   \n",
       "\n",
       "           DateCreated  NumberOfPictures  PostalCode             LastSeen  \n",
       "0  2016-03-24 00:00:00                 0       70435  2016-04-07 03:16:57  \n",
       "1  2016-03-24 00:00:00                 0       66954  2016-04-07 01:46:50  \n",
       "2  2016-03-14 00:00:00                 0       90480  2016-04-05 12:47:46  \n",
       "3  2016-03-17 00:00:00                 0       91074  2016-03-17 17:40:17  \n",
       "4  2016-03-31 00:00:00                 0       60437  2016-04-06 10:17:21  "
      ]
     },
     "execution_count": 6,
     "metadata": {},
     "output_type": "execute_result"
    }
   ],
   "source": [
    "data.head(5)"
   ]
  },
  {
   "cell_type": "code",
   "execution_count": 7,
   "metadata": {},
   "outputs": [
    {
     "name": "stdout",
     "output_type": "stream",
     "text": [
      "<class 'pandas.core.frame.DataFrame'>\n",
      "RangeIndex: 354369 entries, 0 to 354368\n",
      "Data columns (total 16 columns):\n",
      " #   Column             Non-Null Count   Dtype \n",
      "---  ------             --------------   ----- \n",
      " 0   DateCrawled        354369 non-null  object\n",
      " 1   Price              354369 non-null  int64 \n",
      " 2   VehicleType        316879 non-null  object\n",
      " 3   RegistrationYear   354369 non-null  int64 \n",
      " 4   Gearbox            334536 non-null  object\n",
      " 5   Power              354369 non-null  int64 \n",
      " 6   Model              334664 non-null  object\n",
      " 7   Kilometer          354369 non-null  int64 \n",
      " 8   RegistrationMonth  354369 non-null  int64 \n",
      " 9   FuelType           321474 non-null  object\n",
      " 10  Brand              354369 non-null  object\n",
      " 11  Repaired           283215 non-null  object\n",
      " 12  DateCreated        354369 non-null  object\n",
      " 13  NumberOfPictures   354369 non-null  int64 \n",
      " 14  PostalCode         354369 non-null  int64 \n",
      " 15  LastSeen           354369 non-null  object\n",
      "dtypes: int64(7), object(9)\n",
      "memory usage: 43.3+ MB\n"
     ]
    }
   ],
   "source": [
    "data.info()"
   ]
  },
  {
   "cell_type": "code",
   "execution_count": 8,
   "metadata": {},
   "outputs": [
    {
     "data": {
      "text/html": [
       "<div>\n",
       "<style scoped>\n",
       "    .dataframe tbody tr th:only-of-type {\n",
       "        vertical-align: middle;\n",
       "    }\n",
       "\n",
       "    .dataframe tbody tr th {\n",
       "        vertical-align: top;\n",
       "    }\n",
       "\n",
       "    .dataframe thead th {\n",
       "        text-align: right;\n",
       "    }\n",
       "</style>\n",
       "<table border=\"1\" class=\"dataframe\">\n",
       "  <thead>\n",
       "    <tr style=\"text-align: right;\">\n",
       "      <th></th>\n",
       "      <th>Price</th>\n",
       "      <th>RegistrationYear</th>\n",
       "      <th>Power</th>\n",
       "      <th>Kilometer</th>\n",
       "      <th>RegistrationMonth</th>\n",
       "      <th>NumberOfPictures</th>\n",
       "      <th>PostalCode</th>\n",
       "    </tr>\n",
       "  </thead>\n",
       "  <tbody>\n",
       "    <tr>\n",
       "      <th>count</th>\n",
       "      <td>354369.000000</td>\n",
       "      <td>354369.000000</td>\n",
       "      <td>354369.000000</td>\n",
       "      <td>354369.000000</td>\n",
       "      <td>354369.000000</td>\n",
       "      <td>354369.0</td>\n",
       "      <td>354369.000000</td>\n",
       "    </tr>\n",
       "    <tr>\n",
       "      <th>mean</th>\n",
       "      <td>4416.656776</td>\n",
       "      <td>2004.234448</td>\n",
       "      <td>110.094337</td>\n",
       "      <td>128211.172535</td>\n",
       "      <td>5.714645</td>\n",
       "      <td>0.0</td>\n",
       "      <td>50508.689087</td>\n",
       "    </tr>\n",
       "    <tr>\n",
       "      <th>std</th>\n",
       "      <td>4514.158514</td>\n",
       "      <td>90.227958</td>\n",
       "      <td>189.850405</td>\n",
       "      <td>37905.341530</td>\n",
       "      <td>3.726421</td>\n",
       "      <td>0.0</td>\n",
       "      <td>25783.096248</td>\n",
       "    </tr>\n",
       "    <tr>\n",
       "      <th>min</th>\n",
       "      <td>0.000000</td>\n",
       "      <td>1000.000000</td>\n",
       "      <td>0.000000</td>\n",
       "      <td>5000.000000</td>\n",
       "      <td>0.000000</td>\n",
       "      <td>0.0</td>\n",
       "      <td>1067.000000</td>\n",
       "    </tr>\n",
       "    <tr>\n",
       "      <th>25%</th>\n",
       "      <td>1050.000000</td>\n",
       "      <td>1999.000000</td>\n",
       "      <td>69.000000</td>\n",
       "      <td>125000.000000</td>\n",
       "      <td>3.000000</td>\n",
       "      <td>0.0</td>\n",
       "      <td>30165.000000</td>\n",
       "    </tr>\n",
       "    <tr>\n",
       "      <th>50%</th>\n",
       "      <td>2700.000000</td>\n",
       "      <td>2003.000000</td>\n",
       "      <td>105.000000</td>\n",
       "      <td>150000.000000</td>\n",
       "      <td>6.000000</td>\n",
       "      <td>0.0</td>\n",
       "      <td>49413.000000</td>\n",
       "    </tr>\n",
       "    <tr>\n",
       "      <th>75%</th>\n",
       "      <td>6400.000000</td>\n",
       "      <td>2008.000000</td>\n",
       "      <td>143.000000</td>\n",
       "      <td>150000.000000</td>\n",
       "      <td>9.000000</td>\n",
       "      <td>0.0</td>\n",
       "      <td>71083.000000</td>\n",
       "    </tr>\n",
       "    <tr>\n",
       "      <th>max</th>\n",
       "      <td>20000.000000</td>\n",
       "      <td>9999.000000</td>\n",
       "      <td>20000.000000</td>\n",
       "      <td>150000.000000</td>\n",
       "      <td>12.000000</td>\n",
       "      <td>0.0</td>\n",
       "      <td>99998.000000</td>\n",
       "    </tr>\n",
       "  </tbody>\n",
       "</table>\n",
       "</div>"
      ],
      "text/plain": [
       "               Price  RegistrationYear          Power      Kilometer  \\\n",
       "count  354369.000000     354369.000000  354369.000000  354369.000000   \n",
       "mean     4416.656776       2004.234448     110.094337  128211.172535   \n",
       "std      4514.158514         90.227958     189.850405   37905.341530   \n",
       "min         0.000000       1000.000000       0.000000    5000.000000   \n",
       "25%      1050.000000       1999.000000      69.000000  125000.000000   \n",
       "50%      2700.000000       2003.000000     105.000000  150000.000000   \n",
       "75%      6400.000000       2008.000000     143.000000  150000.000000   \n",
       "max     20000.000000       9999.000000   20000.000000  150000.000000   \n",
       "\n",
       "       RegistrationMonth  NumberOfPictures     PostalCode  \n",
       "count      354369.000000          354369.0  354369.000000  \n",
       "mean            5.714645               0.0   50508.689087  \n",
       "std             3.726421               0.0   25783.096248  \n",
       "min             0.000000               0.0    1067.000000  \n",
       "25%             3.000000               0.0   30165.000000  \n",
       "50%             6.000000               0.0   49413.000000  \n",
       "75%             9.000000               0.0   71083.000000  \n",
       "max            12.000000               0.0   99998.000000  "
      ]
     },
     "execution_count": 8,
     "metadata": {},
     "output_type": "execute_result"
    }
   ],
   "source": [
    "data.describe()"
   ]
  },
  {
   "cell_type": "markdown",
   "metadata": {},
   "source": [
    "Данные представлены в виде таблицы, включающей в себя **354369 строк и 16 столбцов** \n",
    "При этом 7 столбцов с целочисленными данными  тип < int64 > и 9 столбцов типа < object >.   \n",
    "Разберём какие в таблице столбцы и какую информацию они содержат:  \n",
    "\n",
    "**Признаки** \n",
    "* DateCrawled — дата скачивания анкеты из базы\n",
    "* VehicleType — тип автомобильного кузова\n",
    "* RegistrationYear — год регистрации автомобиля\n",
    "* Gearbox — тип коробки передач\n",
    "* Power — мощность (л. с.)\n",
    "* Model — модель автомобиля\n",
    "* Kilometer — пробег (км)\n",
    "* RegistrationMonth — месяц регистрации автомобиля\n",
    "* FuelType — тип топлива\n",
    "* Brand — марка автомобиля\n",
    "* NotRepaired — была машина в ремонте или нет\n",
    "* DateCreated — дата создания анкеты\n",
    "* NumberOfPictures — количество фотографий автомобиля\n",
    "* PostalCode — почтовый индекс владельца анкеты (пользователя)\n",
    "* LastSeen — дата последней активности пользователя  \n",
    "\n",
    "**Целевой признак** \n",
    "* Price — цена (евро)"
   ]
  },
  {
   "cell_type": "markdown",
   "metadata": {},
   "source": [
    "В данных имеются пропуски в столбцах(**VehicleType,Model**...), некорректные данные в столбцах(**RegistrationYear**=9999). Требуется предобработка данных."
   ]
  },
  {
   "cell_type": "markdown",
   "metadata": {},
   "source": [
    "DateCrawled, DateCreated, PostalCode, NumberOfPictures, LastSeen\n",
    "\n",
    "Данные столбцы можно смело удалить, они никак не влияют на стоимость автомобиля."
   ]
  },
  {
   "cell_type": "code",
   "execution_count": 9,
   "metadata": {},
   "outputs": [
    {
     "data": {
      "text/plain": [
       "Timestamp('2016-04-07 14:36:58')"
      ]
     },
     "execution_count": 9,
     "metadata": {},
     "output_type": "execute_result"
    }
   ],
   "source": [
    "data['DateCrawled'] = pd.to_datetime(data['DateCrawled'], format='%Y-%m-%d %H:%M:%S')\n",
    "(data['DateCrawled']).max()"
   ]
  },
  {
   "cell_type": "code",
   "execution_count": 10,
   "metadata": {},
   "outputs": [],
   "source": [
    "data=data.drop(['DateCrawled', 'DateCreated', 'PostalCode', 'NumberOfPictures', 'LastSeen','RegistrationMonth'], axis=1)"
   ]
  },
  {
   "cell_type": "code",
   "execution_count": 11,
   "metadata": {},
   "outputs": [
    {
     "data": {
      "text/html": [
       "<div>\n",
       "<style scoped>\n",
       "    .dataframe tbody tr th:only-of-type {\n",
       "        vertical-align: middle;\n",
       "    }\n",
       "\n",
       "    .dataframe tbody tr th {\n",
       "        vertical-align: top;\n",
       "    }\n",
       "\n",
       "    .dataframe thead th {\n",
       "        text-align: right;\n",
       "    }\n",
       "</style>\n",
       "<table border=\"1\" class=\"dataframe\">\n",
       "  <thead>\n",
       "    <tr style=\"text-align: right;\">\n",
       "      <th></th>\n",
       "      <th>Price</th>\n",
       "      <th>VehicleType</th>\n",
       "      <th>RegistrationYear</th>\n",
       "      <th>Gearbox</th>\n",
       "      <th>Power</th>\n",
       "      <th>Model</th>\n",
       "      <th>Kilometer</th>\n",
       "      <th>FuelType</th>\n",
       "      <th>Brand</th>\n",
       "      <th>Repaired</th>\n",
       "    </tr>\n",
       "  </thead>\n",
       "  <tbody>\n",
       "    <tr>\n",
       "      <th>0</th>\n",
       "      <td>480</td>\n",
       "      <td>NaN</td>\n",
       "      <td>1993</td>\n",
       "      <td>manual</td>\n",
       "      <td>0</td>\n",
       "      <td>golf</td>\n",
       "      <td>150000</td>\n",
       "      <td>petrol</td>\n",
       "      <td>volkswagen</td>\n",
       "      <td>NaN</td>\n",
       "    </tr>\n",
       "    <tr>\n",
       "      <th>1</th>\n",
       "      <td>18300</td>\n",
       "      <td>coupe</td>\n",
       "      <td>2011</td>\n",
       "      <td>manual</td>\n",
       "      <td>190</td>\n",
       "      <td>NaN</td>\n",
       "      <td>125000</td>\n",
       "      <td>gasoline</td>\n",
       "      <td>audi</td>\n",
       "      <td>yes</td>\n",
       "    </tr>\n",
       "    <tr>\n",
       "      <th>2</th>\n",
       "      <td>9800</td>\n",
       "      <td>suv</td>\n",
       "      <td>2004</td>\n",
       "      <td>auto</td>\n",
       "      <td>163</td>\n",
       "      <td>grand</td>\n",
       "      <td>125000</td>\n",
       "      <td>gasoline</td>\n",
       "      <td>jeep</td>\n",
       "      <td>NaN</td>\n",
       "    </tr>\n",
       "  </tbody>\n",
       "</table>\n",
       "</div>"
      ],
      "text/plain": [
       "   Price VehicleType  RegistrationYear Gearbox  Power  Model  Kilometer  \\\n",
       "0    480         NaN              1993  manual      0   golf     150000   \n",
       "1  18300       coupe              2011  manual    190    NaN     125000   \n",
       "2   9800         suv              2004    auto    163  grand     125000   \n",
       "\n",
       "   FuelType       Brand Repaired  \n",
       "0    petrol  volkswagen      NaN  \n",
       "1  gasoline        audi      yes  \n",
       "2  gasoline        jeep      NaN  "
      ]
     },
     "execution_count": 11,
     "metadata": {},
     "output_type": "execute_result"
    }
   ],
   "source": [
    "data.head(3)"
   ]
  },
  {
   "cell_type": "markdown",
   "metadata": {},
   "source": [
    "Продолжим анализ данных, восполнив пропуски, отбросив аномальные значения и проведя дополнительные шаги предобработки данных."
   ]
  },
  {
   "cell_type": "markdown",
   "metadata": {},
   "source": [
    "Приведем названия столбцов к принятому виду."
   ]
  },
  {
   "cell_type": "code",
   "execution_count": 12,
   "metadata": {},
   "outputs": [],
   "source": [
    "data.columns = [re.sub(r'(?<!^)(?=[A-Z])', '_', name).lower() for name in data.columns]"
   ]
  },
  {
   "cell_type": "code",
   "execution_count": 13,
   "metadata": {
    "scrolled": true
   },
   "outputs": [
    {
     "data": {
      "text/html": [
       "<div>\n",
       "<style scoped>\n",
       "    .dataframe tbody tr th:only-of-type {\n",
       "        vertical-align: middle;\n",
       "    }\n",
       "\n",
       "    .dataframe tbody tr th {\n",
       "        vertical-align: top;\n",
       "    }\n",
       "\n",
       "    .dataframe thead th {\n",
       "        text-align: right;\n",
       "    }\n",
       "</style>\n",
       "<table border=\"1\" class=\"dataframe\">\n",
       "  <thead>\n",
       "    <tr style=\"text-align: right;\">\n",
       "      <th></th>\n",
       "      <th>price</th>\n",
       "      <th>vehicle_type</th>\n",
       "      <th>registration_year</th>\n",
       "      <th>gearbox</th>\n",
       "      <th>power</th>\n",
       "      <th>model</th>\n",
       "      <th>kilometer</th>\n",
       "      <th>fuel_type</th>\n",
       "      <th>brand</th>\n",
       "      <th>repaired</th>\n",
       "    </tr>\n",
       "  </thead>\n",
       "  <tbody>\n",
       "    <tr>\n",
       "      <th>0</th>\n",
       "      <td>480</td>\n",
       "      <td>NaN</td>\n",
       "      <td>1993</td>\n",
       "      <td>manual</td>\n",
       "      <td>0</td>\n",
       "      <td>golf</td>\n",
       "      <td>150000</td>\n",
       "      <td>petrol</td>\n",
       "      <td>volkswagen</td>\n",
       "      <td>NaN</td>\n",
       "    </tr>\n",
       "    <tr>\n",
       "      <th>1</th>\n",
       "      <td>18300</td>\n",
       "      <td>coupe</td>\n",
       "      <td>2011</td>\n",
       "      <td>manual</td>\n",
       "      <td>190</td>\n",
       "      <td>NaN</td>\n",
       "      <td>125000</td>\n",
       "      <td>gasoline</td>\n",
       "      <td>audi</td>\n",
       "      <td>yes</td>\n",
       "    </tr>\n",
       "    <tr>\n",
       "      <th>2</th>\n",
       "      <td>9800</td>\n",
       "      <td>suv</td>\n",
       "      <td>2004</td>\n",
       "      <td>auto</td>\n",
       "      <td>163</td>\n",
       "      <td>grand</td>\n",
       "      <td>125000</td>\n",
       "      <td>gasoline</td>\n",
       "      <td>jeep</td>\n",
       "      <td>NaN</td>\n",
       "    </tr>\n",
       "  </tbody>\n",
       "</table>\n",
       "</div>"
      ],
      "text/plain": [
       "   price vehicle_type  registration_year gearbox  power  model  kilometer  \\\n",
       "0    480          NaN               1993  manual      0   golf     150000   \n",
       "1  18300        coupe               2011  manual    190    NaN     125000   \n",
       "2   9800          suv               2004    auto    163  grand     125000   \n",
       "\n",
       "  fuel_type       brand repaired  \n",
       "0    petrol  volkswagen      NaN  \n",
       "1  gasoline        audi      yes  \n",
       "2  gasoline        jeep      NaN  "
      ]
     },
     "execution_count": 13,
     "metadata": {},
     "output_type": "execute_result"
    }
   ],
   "source": [
    "data.head(3)"
   ]
  },
  {
   "cell_type": "markdown",
   "metadata": {},
   "source": [
    "# price"
   ]
  },
  {
   "cell_type": "code",
   "execution_count": 14,
   "metadata": {},
   "outputs": [
    {
     "data": {
      "text/plain": [
       "count    354369.000000\n",
       "mean       4416.656776\n",
       "std        4514.158514\n",
       "min           0.000000\n",
       "25%        1050.000000\n",
       "50%        2700.000000\n",
       "75%        6400.000000\n",
       "max       20000.000000\n",
       "Name: price, dtype: float64"
      ]
     },
     "execution_count": 14,
     "metadata": {},
     "output_type": "execute_result"
    }
   ],
   "source": [
    "data['price'].describe()"
   ]
  },
  {
   "cell_type": "code",
   "execution_count": 15,
   "metadata": {
    "scrolled": true
   },
   "outputs": [
    {
     "data": {
      "image/png": "[encoded data removed]",
      "text/plain": [
       "<Figure size 1152x288 with 1 Axes>"
      ]
     },
     "metadata": {},
     "output_type": "display_data"
    }
   ],
   "source": [
    "sns.set()\n",
    "plt.subplots(figsize=(16,4))\n",
    "sns.boxplot(data['price'], color=\"blue\")\n",
    "plt.show()"
   ]
  },
  {
   "cell_type": "code",
   "execution_count": 16,
   "metadata": {},
   "outputs": [
    {
     "data": {
      "text/plain": [
       "10772"
      ]
     },
     "execution_count": 16,
     "metadata": {},
     "output_type": "execute_result"
    }
   ],
   "source": [
    "len(data[(data['price'] == 0)])"
   ]
  },
  {
   "cell_type": "markdown",
   "metadata": {},
   "source": [
    "Определим нижний порог стоимости автомобиля в 100 евро. "
   ]
  },
  {
   "cell_type": "code",
   "execution_count": 17,
   "metadata": {},
   "outputs": [
    {
     "data": {
      "text/plain": [
       "count    341055.000000\n",
       "mean       4588.861052\n",
       "std        4514.844700\n",
       "min         100.000000\n",
       "25%        1200.000000\n",
       "50%        2900.000000\n",
       "75%        6500.000000\n",
       "max       20000.000000\n",
       "Name: price, dtype: float64"
      ]
     },
     "execution_count": 17,
     "metadata": {},
     "output_type": "execute_result"
    }
   ],
   "source": [
    "data= data.query('100 <= price')\n",
    "data['price'].describe()"
   ]
  },
  {
   "cell_type": "markdown",
   "metadata": {},
   "source": [
    "# vehicle_type"
   ]
  },
  {
   "cell_type": "code",
   "execution_count": 18,
   "metadata": {
    "scrolled": true
   },
   "outputs": [
    {
     "data": {
      "text/plain": [
       "sedan          89087\n",
       "small          77444\n",
       "wagon          63465\n",
       "bus            28265\n",
       "convertible    19817\n",
       "coupe          15555\n",
       "suv            11762\n",
       "other           3048\n",
       "Name: vehicle_type, dtype: int64"
      ]
     },
     "execution_count": 18,
     "metadata": {},
     "output_type": "execute_result"
    }
   ],
   "source": [
    "data['vehicle_type'].value_counts()"
   ]
  },
  {
   "cell_type": "code",
   "execution_count": 19,
   "metadata": {},
   "outputs": [
    {
     "data": {
      "text/html": [
       "<div>\n",
       "<style scoped>\n",
       "    .dataframe tbody tr th:only-of-type {\n",
       "        vertical-align: middle;\n",
       "    }\n",
       "\n",
       "    .dataframe tbody tr th {\n",
       "        vertical-align: top;\n",
       "    }\n",
       "\n",
       "    .dataframe thead th {\n",
       "        text-align: right;\n",
       "    }\n",
       "</style>\n",
       "<table border=\"1\" class=\"dataframe\">\n",
       "  <thead>\n",
       "    <tr style=\"text-align: right;\">\n",
       "      <th></th>\n",
       "      <th>price</th>\n",
       "      <th>vehicle_type</th>\n",
       "      <th>registration_year</th>\n",
       "      <th>gearbox</th>\n",
       "      <th>power</th>\n",
       "      <th>model</th>\n",
       "      <th>kilometer</th>\n",
       "      <th>fuel_type</th>\n",
       "      <th>brand</th>\n",
       "      <th>repaired</th>\n",
       "    </tr>\n",
       "  </thead>\n",
       "  <tbody>\n",
       "    <tr>\n",
       "      <th>0</th>\n",
       "      <td>480</td>\n",
       "      <td>NaN</td>\n",
       "      <td>1993</td>\n",
       "      <td>manual</td>\n",
       "      <td>0</td>\n",
       "      <td>golf</td>\n",
       "      <td>150000</td>\n",
       "      <td>petrol</td>\n",
       "      <td>volkswagen</td>\n",
       "      <td>NaN</td>\n",
       "    </tr>\n",
       "    <tr>\n",
       "      <th>16</th>\n",
       "      <td>300</td>\n",
       "      <td>NaN</td>\n",
       "      <td>2016</td>\n",
       "      <td>NaN</td>\n",
       "      <td>60</td>\n",
       "      <td>polo</td>\n",
       "      <td>150000</td>\n",
       "      <td>petrol</td>\n",
       "      <td>volkswagen</td>\n",
       "      <td>NaN</td>\n",
       "    </tr>\n",
       "    <tr>\n",
       "      <th>22</th>\n",
       "      <td>2900</td>\n",
       "      <td>NaN</td>\n",
       "      <td>2018</td>\n",
       "      <td>manual</td>\n",
       "      <td>90</td>\n",
       "      <td>meriva</td>\n",
       "      <td>150000</td>\n",
       "      <td>petrol</td>\n",
       "      <td>opel</td>\n",
       "      <td>no</td>\n",
       "    </tr>\n",
       "    <tr>\n",
       "      <th>26</th>\n",
       "      <td>5555</td>\n",
       "      <td>NaN</td>\n",
       "      <td>2017</td>\n",
       "      <td>manual</td>\n",
       "      <td>125</td>\n",
       "      <td>c4</td>\n",
       "      <td>125000</td>\n",
       "      <td>NaN</td>\n",
       "      <td>citroen</td>\n",
       "      <td>no</td>\n",
       "    </tr>\n",
       "    <tr>\n",
       "      <th>31</th>\n",
       "      <td>899</td>\n",
       "      <td>NaN</td>\n",
       "      <td>2016</td>\n",
       "      <td>manual</td>\n",
       "      <td>60</td>\n",
       "      <td>clio</td>\n",
       "      <td>150000</td>\n",
       "      <td>petrol</td>\n",
       "      <td>renault</td>\n",
       "      <td>NaN</td>\n",
       "    </tr>\n",
       "    <tr>\n",
       "      <th>...</th>\n",
       "      <td>...</td>\n",
       "      <td>...</td>\n",
       "      <td>...</td>\n",
       "      <td>...</td>\n",
       "      <td>...</td>\n",
       "      <td>...</td>\n",
       "      <td>...</td>\n",
       "      <td>...</td>\n",
       "      <td>...</td>\n",
       "      <td>...</td>\n",
       "    </tr>\n",
       "    <tr>\n",
       "      <th>354338</th>\n",
       "      <td>180</td>\n",
       "      <td>NaN</td>\n",
       "      <td>1995</td>\n",
       "      <td>NaN</td>\n",
       "      <td>0</td>\n",
       "      <td>NaN</td>\n",
       "      <td>125000</td>\n",
       "      <td>petrol</td>\n",
       "      <td>opel</td>\n",
       "      <td>NaN</td>\n",
       "    </tr>\n",
       "    <tr>\n",
       "      <th>354346</th>\n",
       "      <td>2600</td>\n",
       "      <td>NaN</td>\n",
       "      <td>2005</td>\n",
       "      <td>auto</td>\n",
       "      <td>0</td>\n",
       "      <td>c_klasse</td>\n",
       "      <td>150000</td>\n",
       "      <td>NaN</td>\n",
       "      <td>mercedes_benz</td>\n",
       "      <td>NaN</td>\n",
       "    </tr>\n",
       "    <tr>\n",
       "      <th>354351</th>\n",
       "      <td>1900</td>\n",
       "      <td>NaN</td>\n",
       "      <td>2000</td>\n",
       "      <td>manual</td>\n",
       "      <td>110</td>\n",
       "      <td>NaN</td>\n",
       "      <td>150000</td>\n",
       "      <td>NaN</td>\n",
       "      <td>volkswagen</td>\n",
       "      <td>no</td>\n",
       "    </tr>\n",
       "    <tr>\n",
       "      <th>354361</th>\n",
       "      <td>5250</td>\n",
       "      <td>NaN</td>\n",
       "      <td>2016</td>\n",
       "      <td>auto</td>\n",
       "      <td>150</td>\n",
       "      <td>159</td>\n",
       "      <td>150000</td>\n",
       "      <td>NaN</td>\n",
       "      <td>alfa_romeo</td>\n",
       "      <td>no</td>\n",
       "    </tr>\n",
       "    <tr>\n",
       "      <th>354365</th>\n",
       "      <td>2200</td>\n",
       "      <td>NaN</td>\n",
       "      <td>2005</td>\n",
       "      <td>NaN</td>\n",
       "      <td>0</td>\n",
       "      <td>NaN</td>\n",
       "      <td>20000</td>\n",
       "      <td>NaN</td>\n",
       "      <td>sonstige_autos</td>\n",
       "      <td>NaN</td>\n",
       "    </tr>\n",
       "  </tbody>\n",
       "</table>\n",
       "<p>32612 rows × 10 columns</p>\n",
       "</div>"
      ],
      "text/plain": [
       "        price vehicle_type  registration_year gearbox  power     model  \\\n",
       "0         480          NaN               1993  manual      0      golf   \n",
       "16        300          NaN               2016     NaN     60      polo   \n",
       "22       2900          NaN               2018  manual     90    meriva   \n",
       "26       5555          NaN               2017  manual    125        c4   \n",
       "31        899          NaN               2016  manual     60      clio   \n",
       "...       ...          ...                ...     ...    ...       ...   \n",
       "354338    180          NaN               1995     NaN      0       NaN   \n",
       "354346   2600          NaN               2005    auto      0  c_klasse   \n",
       "354351   1900          NaN               2000  manual    110       NaN   \n",
       "354361   5250          NaN               2016    auto    150       159   \n",
       "354365   2200          NaN               2005     NaN      0       NaN   \n",
       "\n",
       "        kilometer fuel_type           brand repaired  \n",
       "0          150000    petrol      volkswagen      NaN  \n",
       "16         150000    petrol      volkswagen      NaN  \n",
       "22         150000    petrol            opel       no  \n",
       "26         125000       NaN         citroen       no  \n",
       "31         150000    petrol         renault      NaN  \n",
       "...           ...       ...             ...      ...  \n",
       "354338     125000    petrol            opel      NaN  \n",
       "354346     150000       NaN   mercedes_benz      NaN  \n",
       "354351     150000       NaN      volkswagen       no  \n",
       "354361     150000       NaN      alfa_romeo       no  \n",
       "354365      20000       NaN  sonstige_autos      NaN  \n",
       "\n",
       "[32612 rows x 10 columns]"
      ]
     },
     "execution_count": 19,
     "metadata": {},
     "output_type": "execute_result"
    }
   ],
   "source": [
    "data[(data['vehicle_type'].isnull())]"
   ]
  },
  {
   "cell_type": "markdown",
   "metadata": {},
   "source": [
    "Пропусков много, удалять такой объем информации нельзя. Выполним замену NaN на unknown."
   ]
  },
  {
   "cell_type": "code",
   "execution_count": 20,
   "metadata": {},
   "outputs": [],
   "source": [
    "data['vehicle_type'] = data['vehicle_type'].fillna('unknown')"
   ]
  },
  {
   "cell_type": "markdown",
   "metadata": {},
   "source": [
    "# registration_year"
   ]
  },
  {
   "cell_type": "code",
   "execution_count": 21,
   "metadata": {},
   "outputs": [
    {
     "data": {
      "image/png": "[encoded data removed]",
      "text/plain": [
       "<Figure size 1152x288 with 1 Axes>"
      ]
     },
     "metadata": {},
     "output_type": "display_data"
    }
   ],
   "source": [
    "sns.set()\n",
    "plt.subplots(figsize=(16,4))\n",
    "sns.boxplot(data['registration_year'], color=\"blue\")\n",
    "plt.xlim(1000, 2025)\n",
    "plt.show()"
   ]
  },
  {
   "cell_type": "code",
   "execution_count": 22,
   "metadata": {},
   "outputs": [
    {
     "data": {
      "text/plain": [
       "count    341055.000000\n",
       "mean       2003.955303\n",
       "std          69.811742\n",
       "min        1000.000000\n",
       "25%        1999.000000\n",
       "50%        2003.000000\n",
       "75%        2008.000000\n",
       "max        9999.000000\n",
       "Name: registration_year, dtype: float64"
      ]
     },
     "execution_count": 22,
     "metadata": {},
     "output_type": "execute_result"
    }
   ],
   "source": [
    "data['registration_year'].describe()"
   ]
  },
  {
   "cell_type": "markdown",
   "metadata": {},
   "source": [
    "Имеются неадекватные значения в дате регистрации. Сохраним только те машины, чей год регистрации находится в диапазоне с 1930 по 2021 гг."
   ]
  },
  {
   "cell_type": "code",
   "execution_count": 23,
   "metadata": {},
   "outputs": [],
   "source": [
    "data= data.query('1930 <= registration_year <= 2016')"
   ]
  },
  {
   "cell_type": "markdown",
   "metadata": {},
   "source": [
    "# gearbox"
   ]
  },
  {
   "cell_type": "code",
   "execution_count": 24,
   "metadata": {},
   "outputs": [
    {
     "data": {
      "text/plain": [
       "manual    249893\n",
       "auto       62811\n",
       "Name: gearbox, dtype: int64"
      ]
     },
     "execution_count": 24,
     "metadata": {},
     "output_type": "execute_result"
    }
   ],
   "source": [
    "data['gearbox'].value_counts()"
   ]
  },
  {
   "cell_type": "markdown",
   "metadata": {},
   "source": [
    "Выполним замену NaN на unknown."
   ]
  },
  {
   "cell_type": "code",
   "execution_count": 25,
   "metadata": {},
   "outputs": [],
   "source": [
    "data['gearbox'] = data['gearbox'].fillna('unknown')"
   ]
  },
  {
   "cell_type": "markdown",
   "metadata": {},
   "source": [
    "# power"
   ]
  },
  {
   "cell_type": "code",
   "execution_count": 26,
   "metadata": {},
   "outputs": [
    {
     "data": {
      "text/plain": [
       "count    327279.000000\n",
       "mean        112.349375\n",
       "std         185.287229\n",
       "min           0.000000\n",
       "25%          71.000000\n",
       "50%         105.000000\n",
       "75%         143.000000\n",
       "max       20000.000000\n",
       "Name: power, dtype: float64"
      ]
     },
     "execution_count": 26,
     "metadata": {},
     "output_type": "execute_result"
    }
   ],
   "source": [
    "data['power'].describe()"
   ]
  },
  {
   "cell_type": "code",
   "execution_count": 27,
   "metadata": {},
   "outputs": [
    {
     "data": {
      "image/png": "[encoded data removed]",
      "text/plain": [
       "<Figure size 720x360 with 1 Axes>"
      ]
     },
     "metadata": {},
     "output_type": "display_data"
    }
   ],
   "source": [
    "data.boxplot('power', figsize=(10,5))\n",
    "plt.title('Power')\n",
    "plt.ylabel('Year')\n",
    "plt.xlabel('')\n",
    "plt.show()"
   ]
  },
  {
   "cell_type": "markdown",
   "metadata": {},
   "source": [
    "Удалим мощность равную более 1000 л.с., так как легковых авто с такой мощностью не бывает."
   ]
  },
  {
   "cell_type": "code",
   "execution_count": 28,
   "metadata": {},
   "outputs": [],
   "source": [
    "data = data[data['power']<=1000]"
   ]
  },
  {
   "cell_type": "markdown",
   "metadata": {},
   "source": [
    "# model, fuel_type"
   ]
  },
  {
   "cell_type": "markdown",
   "metadata": {},
   "source": [
    "Заменим пропуски в данных о модели и типе топлива на неизвестно."
   ]
  },
  {
   "cell_type": "code",
   "execution_count": 29,
   "metadata": {},
   "outputs": [],
   "source": [
    "data['model'] = data['model'].fillna('unknown')\n",
    "data['fuel_type'] = data['fuel_type'].fillna('unknown')"
   ]
  },
  {
   "cell_type": "markdown",
   "metadata": {},
   "source": [
    "# repaired"
   ]
  },
  {
   "cell_type": "code",
   "execution_count": 30,
   "metadata": {},
   "outputs": [
    {
     "data": {
      "text/plain": [
       "array(['no', 'yes', nan], dtype=object)"
      ]
     },
     "execution_count": 30,
     "metadata": {},
     "output_type": "execute_result"
    }
   ],
   "source": [
    "data['repaired'].sort_values().unique()"
   ]
  },
  {
   "cell_type": "markdown",
   "metadata": {},
   "source": [
    "Введем предположение, что пропуски это отсуствие ремонта."
   ]
  },
  {
   "cell_type": "code",
   "execution_count": 31,
   "metadata": {},
   "outputs": [],
   "source": [
    "data['repaired'] = data['repaired'].fillna('no')"
   ]
  },
  {
   "cell_type": "markdown",
   "metadata": {},
   "source": [
    "Заменим да и нет на бинарную классификацию."
   ]
  },
  {
   "cell_type": "code",
   "execution_count": 32,
   "metadata": {},
   "outputs": [
    {
     "data": {
      "text/plain": [
       "array([0, 1])"
      ]
     },
     "execution_count": 32,
     "metadata": {},
     "output_type": "execute_result"
    }
   ],
   "source": [
    "data.loc[data['repaired'] == 'yes', 'repaired'] = 1\n",
    "data.loc[data['repaired'] == 'no', 'repaired'] = 0\n",
    "data['repaired'] = data['repaired'].astype('int64')\n",
    "data['repaired'].sort_values().unique()"
   ]
  },
  {
   "cell_type": "code",
   "execution_count": 33,
   "metadata": {},
   "outputs": [
    {
     "name": "stdout",
     "output_type": "stream",
     "text": [
      "<class 'pandas.core.frame.DataFrame'>\n",
      "Int64Index: 327020 entries, 0 to 354368\n",
      "Data columns (total 10 columns):\n",
      " #   Column             Non-Null Count   Dtype \n",
      "---  ------             --------------   ----- \n",
      " 0   price              327020 non-null  int64 \n",
      " 1   vehicle_type       327020 non-null  object\n",
      " 2   registration_year  327020 non-null  int64 \n",
      " 3   gearbox            327020 non-null  object\n",
      " 4   power              327020 non-null  int64 \n",
      " 5   model              327020 non-null  object\n",
      " 6   kilometer          327020 non-null  int64 \n",
      " 7   fuel_type          327020 non-null  object\n",
      " 8   brand              327020 non-null  object\n",
      " 9   repaired           327020 non-null  int64 \n",
      "dtypes: int64(5), object(5)\n",
      "memory usage: 27.4+ MB\n"
     ]
    }
   ],
   "source": [
    "data.info()"
   ]
  },
  {
   "cell_type": "code",
   "execution_count": 34,
   "metadata": {},
   "outputs": [
    {
     "data": {
      "text/plain": [
       "price                0\n",
       "vehicle_type         0\n",
       "registration_year    0\n",
       "gearbox              0\n",
       "power                0\n",
       "model                0\n",
       "kilometer            0\n",
       "fuel_type            0\n",
       "brand                0\n",
       "repaired             0\n",
       "dtype: int64"
      ]
     },
     "execution_count": 34,
     "metadata": {},
     "output_type": "execute_result"
    }
   ],
   "source": [
    "data.isna().sum()"
   ]
  },
  {
   "cell_type": "code",
   "execution_count": 35,
   "metadata": {},
   "outputs": [
    {
     "data": {
      "text/plain": [
       "48679"
      ]
     },
     "execution_count": 35,
     "metadata": {},
     "output_type": "execute_result"
    }
   ],
   "source": [
    "data.duplicated().sum()"
   ]
  },
  {
   "cell_type": "markdown",
   "metadata": {},
   "source": [
    "Удалим дубликаты в данных."
   ]
  },
  {
   "cell_type": "code",
   "execution_count": 36,
   "metadata": {
    "scrolled": true
   },
   "outputs": [
    {
     "name": "stdout",
     "output_type": "stream",
     "text": [
      "<class 'pandas.core.frame.DataFrame'>\n",
      "Int64Index: 278341 entries, 0 to 354368\n",
      "Data columns (total 10 columns):\n",
      " #   Column             Non-Null Count   Dtype \n",
      "---  ------             --------------   ----- \n",
      " 0   price              278341 non-null  int64 \n",
      " 1   vehicle_type       278341 non-null  object\n",
      " 2   registration_year  278341 non-null  int64 \n",
      " 3   gearbox            278341 non-null  object\n",
      " 4   power              278341 non-null  int64 \n",
      " 5   model              278341 non-null  object\n",
      " 6   kilometer          278341 non-null  int64 \n",
      " 7   fuel_type          278341 non-null  object\n",
      " 8   brand              278341 non-null  object\n",
      " 9   repaired           278341 non-null  int64 \n",
      "dtypes: int64(5), object(5)\n",
      "memory usage: 23.4+ MB\n"
     ]
    }
   ],
   "source": [
    "data = data.drop_duplicates()\n",
    "data.info()"
   ]
  },
  {
   "cell_type": "markdown",
   "metadata": {},
   "source": [
    "Посмотрим корреляцию между признаками."
   ]
  },
  {
   "cell_type": "code",
   "execution_count": 37,
   "metadata": {},
   "outputs": [
    {
     "data": {
      "text/html": [
       "<style type=\"text/css\">\n",
       "#T_7b9a8_row0_col0, #T_7b9a8_row1_col1, #T_7b9a8_row2_col2, #T_7b9a8_row3_col3, #T_7b9a8_row4_col4 {\n",
       "  background-color: #b40426;\n",
       "  color: #f1f1f1;\n",
       "}\n",
       "#T_7b9a8_row0_col1 {\n",
       "  background-color: #e4d9d2;\n",
       "  color: #000000;\n",
       "}\n",
       "#T_7b9a8_row0_col2 {\n",
       "  background-color: #dcdddd;\n",
       "  color: #000000;\n",
       "}\n",
       "#T_7b9a8_row0_col3, #T_7b9a8_row0_col4, #T_7b9a8_row3_col0, #T_7b9a8_row3_col1, #T_7b9a8_row4_col2 {\n",
       "  background-color: #3b4cc0;\n",
       "  color: #f1f1f1;\n",
       "}\n",
       "#T_7b9a8_row1_col0 {\n",
       "  background-color: #eed0c0;\n",
       "  color: #000000;\n",
       "}\n",
       "#T_7b9a8_row1_col2 {\n",
       "  background-color: #7699f6;\n",
       "  color: #f1f1f1;\n",
       "}\n",
       "#T_7b9a8_row1_col3 {\n",
       "  background-color: #5977e3;\n",
       "  color: #f1f1f1;\n",
       "}\n",
       "#T_7b9a8_row1_col4 {\n",
       "  background-color: #5875e1;\n",
       "  color: #f1f1f1;\n",
       "}\n",
       "#T_7b9a8_row2_col0 {\n",
       "  background-color: #f3c8b2;\n",
       "  color: #000000;\n",
       "}\n",
       "#T_7b9a8_row2_col1 {\n",
       "  background-color: #9dbdff;\n",
       "  color: #000000;\n",
       "}\n",
       "#T_7b9a8_row2_col3 {\n",
       "  background-color: #a9c6fd;\n",
       "  color: #000000;\n",
       "}\n",
       "#T_7b9a8_row2_col4 {\n",
       "  background-color: #6180e9;\n",
       "  color: #f1f1f1;\n",
       "}\n",
       "#T_7b9a8_row3_col2 {\n",
       "  background-color: #6485ec;\n",
       "  color: #f1f1f1;\n",
       "}\n",
       "#T_7b9a8_row3_col4 {\n",
       "  background-color: #86a9fc;\n",
       "  color: #f1f1f1;\n",
       "}\n",
       "#T_7b9a8_row4_col0 {\n",
       "  background-color: #5d7ce6;\n",
       "  color: #f1f1f1;\n",
       "}\n",
       "#T_7b9a8_row4_col1 {\n",
       "  background-color: #5b7ae5;\n",
       "  color: #f1f1f1;\n",
       "}\n",
       "#T_7b9a8_row4_col3 {\n",
       "  background-color: #a5c3fe;\n",
       "  color: #000000;\n",
       "}\n",
       "</style>\n",
       "<table id=\"T_7b9a8_\">\n",
       "  <thead>\n",
       "    <tr>\n",
       "      <th class=\"blank level0\" >&nbsp;</th>\n",
       "      <th class=\"col_heading level0 col0\" >price</th>\n",
       "      <th class=\"col_heading level0 col1\" >registration_year</th>\n",
       "      <th class=\"col_heading level0 col2\" >power</th>\n",
       "      <th class=\"col_heading level0 col3\" >kilometer</th>\n",
       "      <th class=\"col_heading level0 col4\" >repaired</th>\n",
       "    </tr>\n",
       "  </thead>\n",
       "  <tbody>\n",
       "    <tr>\n",
       "      <th id=\"T_7b9a8_level0_row0\" class=\"row_heading level0 row0\" >price</th>\n",
       "      <td id=\"T_7b9a8_row0_col0\" class=\"data row0 col0\" >1.000000</td>\n",
       "      <td id=\"T_7b9a8_row0_col1\" class=\"data row0 col1\" >0.428672</td>\n",
       "      <td id=\"T_7b9a8_row0_col2\" class=\"data row0 col2\" >0.472872</td>\n",
       "      <td id=\"T_7b9a8_row0_col3\" class=\"data row0 col3\" >-0.350990</td>\n",
       "      <td id=\"T_7b9a8_row0_col4\" class=\"data row0 col4\" >-0.199769</td>\n",
       "    </tr>\n",
       "    <tr>\n",
       "      <th id=\"T_7b9a8_level0_row1\" class=\"row_heading level0 row1\" >registration_year</th>\n",
       "      <td id=\"T_7b9a8_row1_col0\" class=\"data row1 col0\" >0.428672</td>\n",
       "      <td id=\"T_7b9a8_row1_col1\" class=\"data row1 col1\" >1.000000</td>\n",
       "      <td id=\"T_7b9a8_row1_col2\" class=\"data row1 col2\" >0.142729</td>\n",
       "      <td id=\"T_7b9a8_row1_col3\" class=\"data row1 col3\" >-0.216878</td>\n",
       "      <td id=\"T_7b9a8_row1_col4\" class=\"data row1 col4\" >-0.084551</td>\n",
       "    </tr>\n",
       "    <tr>\n",
       "      <th id=\"T_7b9a8_level0_row2\" class=\"row_heading level0 row2\" >power</th>\n",
       "      <td id=\"T_7b9a8_row2_col0\" class=\"data row2 col0\" >0.472872</td>\n",
       "      <td id=\"T_7b9a8_row2_col1\" class=\"data row2 col1\" >0.142729</td>\n",
       "      <td id=\"T_7b9a8_row2_col2\" class=\"data row2 col2\" >1.000000</td>\n",
       "      <td id=\"T_7b9a8_row2_col3\" class=\"data row2 col3\" >0.092543</td>\n",
       "      <td id=\"T_7b9a8_row2_col4\" class=\"data row2 col4\" >-0.050980</td>\n",
       "    </tr>\n",
       "    <tr>\n",
       "      <th id=\"T_7b9a8_level0_row3\" class=\"row_heading level0 row3\" >kilometer</th>\n",
       "      <td id=\"T_7b9a8_row3_col0\" class=\"data row3 col0\" >-0.350990</td>\n",
       "      <td id=\"T_7b9a8_row3_col1\" class=\"data row3 col1\" >-0.216878</td>\n",
       "      <td id=\"T_7b9a8_row3_col2\" class=\"data row3 col2\" >0.092543</td>\n",
       "      <td id=\"T_7b9a8_row3_col3\" class=\"data row3 col3\" >1.000000</td>\n",
       "      <td id=\"T_7b9a8_row3_col4\" class=\"data row3 col4\" >0.081135</td>\n",
       "    </tr>\n",
       "    <tr>\n",
       "      <th id=\"T_7b9a8_level0_row4\" class=\"row_heading level0 row4\" >repaired</th>\n",
       "      <td id=\"T_7b9a8_row4_col0\" class=\"data row4 col0\" >-0.199769</td>\n",
       "      <td id=\"T_7b9a8_row4_col1\" class=\"data row4 col1\" >-0.084551</td>\n",
       "      <td id=\"T_7b9a8_row4_col2\" class=\"data row4 col2\" >-0.050980</td>\n",
       "      <td id=\"T_7b9a8_row4_col3\" class=\"data row4 col3\" >0.081135</td>\n",
       "      <td id=\"T_7b9a8_row4_col4\" class=\"data row4 col4\" >1.000000</td>\n",
       "    </tr>\n",
       "  </tbody>\n",
       "</table>\n"
      ],
      "text/plain": [
       "<pandas.io.formats.style.Styler at 0x7f1693f776a0>"
      ]
     },
     "execution_count": 37,
     "metadata": {},
     "output_type": "execute_result"
    }
   ],
   "source": [
    "data\\\n",
    "    .corr()\\\n",
    "    .style\\\n",
    "    .background_gradient(cmap='coolwarm')"
   ]
  },
  {
   "cell_type": "code",
   "execution_count": 38,
   "metadata": {},
   "outputs": [
    {
     "name": "stdout",
     "output_type": "stream",
     "text": [
      "interval columns not set, guessing: ['price', 'registration_year', 'power', 'kilometer', 'repaired']\n"
     ]
    },
    {
     "data": {
      "text/html": [
       "<div>\n",
       "<style scoped>\n",
       "    .dataframe tbody tr th:only-of-type {\n",
       "        vertical-align: middle;\n",
       "    }\n",
       "\n",
       "    .dataframe tbody tr th {\n",
       "        vertical-align: top;\n",
       "    }\n",
       "\n",
       "    .dataframe thead th {\n",
       "        text-align: right;\n",
       "    }\n",
       "</style>\n",
       "<table border=\"1\" class=\"dataframe\">\n",
       "  <thead>\n",
       "    <tr style=\"text-align: right;\">\n",
       "      <th></th>\n",
       "      <th>price</th>\n",
       "      <th>vehicle_type</th>\n",
       "      <th>registration_year</th>\n",
       "      <th>gearbox</th>\n",
       "      <th>power</th>\n",
       "      <th>model</th>\n",
       "      <th>kilometer</th>\n",
       "      <th>fuel_type</th>\n",
       "      <th>brand</th>\n",
       "      <th>repaired</th>\n",
       "    </tr>\n",
       "  </thead>\n",
       "  <tbody>\n",
       "    <tr>\n",
       "      <th>price</th>\n",
       "      <td>1.000000</td>\n",
       "      <td>0.273810</td>\n",
       "      <td>0.590568</td>\n",
       "      <td>0.289591</td>\n",
       "      <td>0.468780</td>\n",
       "      <td>0.569917</td>\n",
       "      <td>0.302860</td>\n",
       "      <td>0.256083</td>\n",
       "      <td>0.360794</td>\n",
       "      <td>0.308634</td>\n",
       "    </tr>\n",
       "    <tr>\n",
       "      <th>vehicle_type</th>\n",
       "      <td>0.273810</td>\n",
       "      <td>1.000000</td>\n",
       "      <td>0.202370</td>\n",
       "      <td>0.506034</td>\n",
       "      <td>0.425300</td>\n",
       "      <td>0.893472</td>\n",
       "      <td>0.270688</td>\n",
       "      <td>0.407029</td>\n",
       "      <td>0.587414</td>\n",
       "      <td>0.049706</td>\n",
       "    </tr>\n",
       "    <tr>\n",
       "      <th>registration_year</th>\n",
       "      <td>0.590568</td>\n",
       "      <td>0.202370</td>\n",
       "      <td>1.000000</td>\n",
       "      <td>0.124110</td>\n",
       "      <td>0.189060</td>\n",
       "      <td>0.578760</td>\n",
       "      <td>0.349716</td>\n",
       "      <td>0.211163</td>\n",
       "      <td>0.390422</td>\n",
       "      <td>0.138768</td>\n",
       "    </tr>\n",
       "    <tr>\n",
       "      <th>gearbox</th>\n",
       "      <td>0.289591</td>\n",
       "      <td>0.506034</td>\n",
       "      <td>0.124110</td>\n",
       "      <td>1.000000</td>\n",
       "      <td>0.428576</td>\n",
       "      <td>0.618165</td>\n",
       "      <td>0.168503</td>\n",
       "      <td>0.317880</td>\n",
       "      <td>0.511472</td>\n",
       "      <td>0.015703</td>\n",
       "    </tr>\n",
       "    <tr>\n",
       "      <th>power</th>\n",
       "      <td>0.468780</td>\n",
       "      <td>0.425300</td>\n",
       "      <td>0.189060</td>\n",
       "      <td>0.428576</td>\n",
       "      <td>1.000000</td>\n",
       "      <td>0.683585</td>\n",
       "      <td>0.104125</td>\n",
       "      <td>0.222272</td>\n",
       "      <td>0.479077</td>\n",
       "      <td>0.065308</td>\n",
       "    </tr>\n",
       "    <tr>\n",
       "      <th>model</th>\n",
       "      <td>0.569917</td>\n",
       "      <td>0.893472</td>\n",
       "      <td>0.578760</td>\n",
       "      <td>0.618165</td>\n",
       "      <td>0.683585</td>\n",
       "      <td>1.000000</td>\n",
       "      <td>0.436467</td>\n",
       "      <td>0.543190</td>\n",
       "      <td>0.997776</td>\n",
       "      <td>0.123445</td>\n",
       "    </tr>\n",
       "    <tr>\n",
       "      <th>kilometer</th>\n",
       "      <td>0.302860</td>\n",
       "      <td>0.270688</td>\n",
       "      <td>0.349716</td>\n",
       "      <td>0.168503</td>\n",
       "      <td>0.104125</td>\n",
       "      <td>0.436467</td>\n",
       "      <td>1.000000</td>\n",
       "      <td>0.172679</td>\n",
       "      <td>0.278694</td>\n",
       "      <td>0.095831</td>\n",
       "    </tr>\n",
       "    <tr>\n",
       "      <th>fuel_type</th>\n",
       "      <td>0.256083</td>\n",
       "      <td>0.407029</td>\n",
       "      <td>0.211163</td>\n",
       "      <td>0.317880</td>\n",
       "      <td>0.222272</td>\n",
       "      <td>0.543190</td>\n",
       "      <td>0.172679</td>\n",
       "      <td>1.000000</td>\n",
       "      <td>0.328745</td>\n",
       "      <td>0.050865</td>\n",
       "    </tr>\n",
       "    <tr>\n",
       "      <th>brand</th>\n",
       "      <td>0.360794</td>\n",
       "      <td>0.587414</td>\n",
       "      <td>0.390422</td>\n",
       "      <td>0.511472</td>\n",
       "      <td>0.479077</td>\n",
       "      <td>0.997776</td>\n",
       "      <td>0.278694</td>\n",
       "      <td>0.328745</td>\n",
       "      <td>1.000000</td>\n",
       "      <td>0.082002</td>\n",
       "    </tr>\n",
       "    <tr>\n",
       "      <th>repaired</th>\n",
       "      <td>0.308634</td>\n",
       "      <td>0.049706</td>\n",
       "      <td>0.138768</td>\n",
       "      <td>0.015703</td>\n",
       "      <td>0.065308</td>\n",
       "      <td>0.123445</td>\n",
       "      <td>0.095831</td>\n",
       "      <td>0.050865</td>\n",
       "      <td>0.082002</td>\n",
       "      <td>1.000000</td>\n",
       "    </tr>\n",
       "  </tbody>\n",
       "</table>\n",
       "</div>"
      ],
      "text/plain": [
       "                      price  vehicle_type  registration_year   gearbox  \\\n",
       "price              1.000000      0.273810           0.590568  0.289591   \n",
       "vehicle_type       0.273810      1.000000           0.202370  0.506034   \n",
       "registration_year  0.590568      0.202370           1.000000  0.124110   \n",
       "gearbox            0.289591      0.506034           0.124110  1.000000   \n",
       "power              0.468780      0.425300           0.189060  0.428576   \n",
       "model              0.569917      0.893472           0.578760  0.618165   \n",
       "kilometer          0.302860      0.270688           0.349716  0.168503   \n",
       "fuel_type          0.256083      0.407029           0.211163  0.317880   \n",
       "brand              0.360794      0.587414           0.390422  0.511472   \n",
       "repaired           0.308634      0.049706           0.138768  0.015703   \n",
       "\n",
       "                      power     model  kilometer  fuel_type     brand  \\\n",
       "price              0.468780  0.569917   0.302860   0.256083  0.360794   \n",
       "vehicle_type       0.425300  0.893472   0.270688   0.407029  0.587414   \n",
       "registration_year  0.189060  0.578760   0.349716   0.211163  0.390422   \n",
       "gearbox            0.428576  0.618165   0.168503   0.317880  0.511472   \n",
       "power              1.000000  0.683585   0.104125   0.222272  0.479077   \n",
       "model              0.683585  1.000000   0.436467   0.543190  0.997776   \n",
       "kilometer          0.104125  0.436467   1.000000   0.172679  0.278694   \n",
       "fuel_type          0.222272  0.543190   0.172679   1.000000  0.328745   \n",
       "brand              0.479077  0.997776   0.278694   0.328745  1.000000   \n",
       "repaired           0.065308  0.123445   0.095831   0.050865  0.082002   \n",
       "\n",
       "                   repaired  \n",
       "price              0.308634  \n",
       "vehicle_type       0.049706  \n",
       "registration_year  0.138768  \n",
       "gearbox            0.015703  \n",
       "power              0.065308  \n",
       "model              0.123445  \n",
       "kilometer          0.095831  \n",
       "fuel_type          0.050865  \n",
       "brand              0.082002  \n",
       "repaired           1.000000  "
      ]
     },
     "execution_count": 38,
     "metadata": {},
     "output_type": "execute_result"
    }
   ],
   "source": [
    "data.phik_matrix() "
   ]
  },
  {
   "cell_type": "code",
   "execution_count": 39,
   "metadata": {},
   "outputs": [
    {
     "data": {
      "image/png": "[encoded data removed]",
      "text/plain": [
       "<Figure size 1080x864 with 2 Axes>"
      ]
     },
     "metadata": {},
     "output_type": "display_data"
    }
   ],
   "source": [
    "# список интервальных признаков\n",
    "interval_cols = ['price', 'registration_year', 'power', 'kilometer', 'repaired']\n",
    "\n",
    "# вычисление коэффициентов корреляции phi для датафрейма data\n",
    "phik_overview = data.phik_matrix(interval_cols=interval_cols)\n",
    "\n",
    "plot_correlation_matrix(\n",
    "    phik_overview.values,\n",
    "    x_labels=phik_overview.columns,\n",
    "    y_labels=phik_overview.index,\n",
    "    title=r\"correlation $\\phi_K$\",\n",
    "    fontsize_factor=1.5,\n",
    "    figsize=(15, 12)\n",
    ") "
   ]
  },
  {
   "cell_type": "markdown",
   "metadata": {},
   "source": [
    "В разделе Исследование данных были выполнены следующие задачи:.\n",
    "\n",
    "Произведено изучение данных\n",
    "\n",
    "Удалены явные дубликаты\n",
    "\n",
    "Исключены неинформативные признаки\n",
    "\n",
    "Проведено исследование данных после первоначальной предобработки\n",
    "\n",
    "Произведена обработка аномалий\n",
    "\n",
    "Обработаны пропущенные значения\n",
    "\n",
    "Установлено, что цена зависит от основных признаков, причем высокие показатели года регистрации и мощности увеличивают цену, а пробег и наличие ремонта ее снижают."
   ]
  },
  {
   "cell_type": "markdown",
   "metadata": {},
   "source": [
    "## Обучение моделей"
   ]
  },
  {
   "cell_type": "markdown",
   "metadata": {},
   "source": [
    " Создадим функцию разбиения выборок на обучающую, валидационную и тестовую в соотношении 60:20:20."
   ]
  },
  {
   "cell_type": "code",
   "execution_count": 40,
   "metadata": {},
   "outputs": [],
   "source": [
    "def split(data: pd.DataFrame) -> pd.array:\n",
    "    features_train, features_test, target_train, target_test = train_test_split(\n",
    "        data.drop('price', axis=1), data.price, test_size=0.25, random_state=42\n",
    "    )\n",
    "    return features_train, features_test, target_train, target_test"
   ]
  },
  {
   "cell_type": "markdown",
   "metadata": {},
   "source": [
    "Т.к проверка наших моделей будет осуществляться метрикой RMSE, создадим для нее функцию и определим переменной scorer ссылку на объект с наилучшим результатом."
   ]
  },
  {
   "cell_type": "code",
   "execution_count": 41,
   "metadata": {},
   "outputs": [],
   "source": [
    "def rmse_score(target: pd.array, predictions: pd.array) -> float:\n",
    "    rmse = mean_squared_error(target, predictions)**0.5\n",
    "    return rmse"
   ]
  },
  {
   "cell_type": "code",
   "execution_count": 42,
   "metadata": {},
   "outputs": [],
   "source": [
    "scorer = make_scorer(rmse_score, greater_is_better=False)"
   ]
  },
  {
   "cell_type": "markdown",
   "metadata": {},
   "source": [
    "Функция обучения наших моделей, поиска наилучшей метрики RMSE и подобранных параметров."
   ]
  },
  {
   "cell_type": "code",
   "execution_count": 43,
   "metadata": {},
   "outputs": [],
   "source": [
    "def model_look(model: Any, parameters: list, features_train: pd.array, target_train: pd.array):\n",
    "    model_grid = GridSearchCV(model, parameters, cv=5, scoring=scorer, verbose=5)\n",
    "    model_grid.fit(features_train, target_train)\n",
    "    return model_grid.best_score_, model_grid.best_params_"
   ]
  },
  {
   "cell_type": "code",
   "execution_count": 44,
   "metadata": {},
   "outputs": [
    {
     "data": {
      "text/plain": [
       "sklearn.linear_model._base.LinearRegression"
      ]
     },
     "execution_count": 44,
     "metadata": {},
     "output_type": "execute_result"
    }
   ],
   "source": [
    "type(LinearRegression())"
   ]
  },
  {
   "cell_type": "markdown",
   "metadata": {},
   "source": [
    "# Линейная регрессия"
   ]
  },
  {
   "cell_type": "markdown",
   "metadata": {},
   "source": [
    "Преобразуем категориальные данные методом прямого кодирования для обучения модели линейной регрессии."
   ]
  },
  {
   "cell_type": "code",
   "execution_count": 45,
   "metadata": {},
   "outputs": [],
   "source": [
    "data_lr = data.copy()"
   ]
  },
  {
   "cell_type": "code",
   "execution_count": 46,
   "metadata": {},
   "outputs": [],
   "source": [
    "features_train_lr, features_test_lr, target_train_lr, target_test_lr = split(data_lr)"
   ]
  },
  {
   "cell_type": "code",
   "execution_count": 47,
   "metadata": {},
   "outputs": [],
   "source": [
    "linear_transformer = make_column_transformer(\n",
    "    (\n",
    "        OneHotEncoder(\n",
    "            dtype='uint8',\n",
    "            handle_unknown='ignore'\n",
    "        ), make_column_selector(dtype_include='object')\n",
    "    ),\n",
    "    (\n",
    "        StandardScaler(\n",
    "        ), make_column_selector(dtype_include='number')\n",
    "    ),\n",
    "    remainder='passthrough'\n",
    ")"
   ]
  },
  {
   "cell_type": "code",
   "execution_count": 48,
   "metadata": {},
   "outputs": [],
   "source": [
    "pipe_lr = make_pipeline(\n",
    "    linear_transformer,\n",
    "    LinearRegression(\n",
    "        n_jobs=-1\n",
    "    )\n",
    ")"
   ]
  },
  {
   "cell_type": "code",
   "execution_count": 49,
   "metadata": {},
   "outputs": [],
   "source": [
    "param_grid = {\n",
    "    'linearregression__normalize':[False, True]\n",
    "}\n",
    "\n",
    "gs_lr = GridSearchCV(\n",
    "    pipe_lr,\n",
    "    param_grid,\n",
    "    scoring='neg_root_mean_squared_error',\n",
    "    n_jobs=-1,\n",
    "    verbose=1\n",
    ")"
   ]
  },
  {
   "cell_type": "markdown",
   "metadata": {},
   "source": [
    "Обучим модель линейной регрессии и узнаем лучшую метрику RMSE и параметры."
   ]
  },
  {
   "cell_type": "code",
   "execution_count": 50,
   "metadata": {
    "scrolled": false
   },
   "outputs": [
    {
     "name": "stdout",
     "output_type": "stream",
     "text": [
      "Fitting 5 folds for each of 2 candidates, totalling 10 fits\n",
      "CPU times: user 1min 3s, sys: 1min 1s, total: 2min 5s\n",
      "Wall time: 2min 36s\n"
     ]
    },
    {
     "data": {
      "text/html": [
       "<style>#sk-container-id-1 {color: black;background-color: white;}#sk-container-id-1 pre{padding: 0;}#sk-container-id-1 div.sk-toggleable {background-color: white;}#sk-container-id-1 label.sk-toggleable__label {cursor: pointer;display: block;width: 100%;margin-bottom: 0;padding: 0.3em;box-sizing: border-box;text-align: center;}#sk-container-id-1 label.sk-toggleable__label-arrow:before {content: \"▸\";float: left;margin-right: 0.25em;color: #696969;}#sk-container-id-1 label.sk-toggleable__label-arrow:hover:before {color: black;}#sk-container-id-1 div.sk-estimator:hover label.sk-toggleable__label-arrow:before {color: black;}#sk-container-id-1 div.sk-toggleable__content {max-height: 0;max-width: 0;overflow: hidden;text-align: left;background-color: #f0f8ff;}#sk-container-id-1 div.sk-toggleable__content pre {margin: 0.2em;color: black;border-radius: 0.25em;background-color: #f0f8ff;}#sk-container-id-1 input.sk-toggleable__control:checked~div.sk-toggleable__content {max-height: 200px;max-width: 100%;overflow: auto;}#sk-container-id-1 input.sk-toggleable__control:checked~label.sk-toggleable__label-arrow:before {content: \"▾\";}#sk-container-id-1 div.sk-estimator input.sk-toggleable__control:checked~label.sk-toggleable__label {background-color: #d4ebff;}#sk-container-id-1 div.sk-label input.sk-toggleable__control:checked~label.sk-toggleable__label {background-color: #d4ebff;}#sk-container-id-1 input.sk-hidden--visually {border: 0;clip: rect(1px 1px 1px 1px);clip: rect(1px, 1px, 1px, 1px);height: 1px;margin: -1px;overflow: hidden;padding: 0;position: absolute;width: 1px;}#sk-container-id-1 div.sk-estimator {font-family: monospace;background-color: #f0f8ff;border: 1px dotted black;border-radius: 0.25em;box-sizing: border-box;margin-bottom: 0.5em;}#sk-container-id-1 div.sk-estimator:hover {background-color: #d4ebff;}#sk-container-id-1 div.sk-parallel-item::after {content: \"\";width: 100%;border-bottom: 1px solid gray;flex-grow: 1;}#sk-container-id-1 div.sk-label:hover label.sk-toggleable__label {background-color: #d4ebff;}#sk-container-id-1 div.sk-serial::before {content: \"\";position: absolute;border-left: 1px solid gray;box-sizing: border-box;top: 0;bottom: 0;left: 50%;z-index: 0;}#sk-container-id-1 div.sk-serial {display: flex;flex-direction: column;align-items: center;background-color: white;padding-right: 0.2em;padding-left: 0.2em;position: relative;}#sk-container-id-1 div.sk-item {position: relative;z-index: 1;}#sk-container-id-1 div.sk-parallel {display: flex;align-items: stretch;justify-content: center;background-color: white;position: relative;}#sk-container-id-1 div.sk-item::before, #sk-container-id-1 div.sk-parallel-item::before {content: \"\";position: absolute;border-left: 1px solid gray;box-sizing: border-box;top: 0;bottom: 0;left: 50%;z-index: -1;}#sk-container-id-1 div.sk-parallel-item {display: flex;flex-direction: column;z-index: 1;position: relative;background-color: white;}#sk-container-id-1 div.sk-parallel-item:first-child::after {align-self: flex-end;width: 50%;}#sk-container-id-1 div.sk-parallel-item:last-child::after {align-self: flex-start;width: 50%;}#sk-container-id-1 div.sk-parallel-item:only-child::after {width: 0;}#sk-container-id-1 div.sk-dashed-wrapped {border: 1px dashed gray;margin: 0 0.4em 0.5em 0.4em;box-sizing: border-box;padding-bottom: 0.4em;background-color: white;}#sk-container-id-1 div.sk-label label {font-family: monospace;font-weight: bold;display: inline-block;line-height: 1.2em;}#sk-container-id-1 div.sk-label-container {text-align: center;}#sk-container-id-1 div.sk-container {/* jupyter's `normalize.less` sets `[hidden] { display: none; }` but bootstrap.min.css set `[hidden] { display: none !important; }` so we also need the `!important` here to be able to override the default hidden behavior on the sphinx rendered scikit-learn.org. See: https://github.com/scikit-learn/scikit-learn/issues/21755 */display: inline-block !important;position: relative;}#sk-container-id-1 div.sk-text-repr-fallback {display: none;}</style><div id=\"sk-container-id-1\" class=\"sk-top-container\"><div class=\"sk-text-repr-fallback\"><pre>GridSearchCV(estimator=Pipeline(steps=[(&#x27;columntransformer&#x27;,\n",
       "                                        ColumnTransformer(remainder=&#x27;passthrough&#x27;,\n",
       "                                                          transformers=[(&#x27;onehotencoder&#x27;,\n",
       "                                                                         OneHotEncoder(dtype=&#x27;uint8&#x27;,\n",
       "                                                                                       handle_unknown=&#x27;ignore&#x27;),\n",
       "                                                                         &lt;sklearn.compose._column_transformer.make_column_selector object at 0x7f16c32a5670&gt;),\n",
       "                                                                        (&#x27;standardscaler&#x27;,\n",
       "                                                                         StandardScaler(),\n",
       "                                                                         &lt;sklearn.compose._column_transformer.make_column_selector object at 0x7f169411a3a0&gt;)])),\n",
       "                                       (&#x27;linearregression&#x27;,\n",
       "                                        LinearRegression(n_jobs=-1))]),\n",
       "             n_jobs=-1,\n",
       "             param_grid={&#x27;linearregression__normalize&#x27;: [False, True]},\n",
       "             scoring=&#x27;neg_root_mean_squared_error&#x27;, verbose=1)</pre><b>In a Jupyter environment, please rerun this cell to show the HTML representation or trust the notebook. <br />On GitHub, the HTML representation is unable to render, please try loading this page with nbviewer.org.</b></div><div class=\"sk-container\" hidden><div class=\"sk-item sk-dashed-wrapped\"><div class=\"sk-label-container\"><div class=\"sk-label sk-toggleable\"><input class=\"sk-toggleable__control sk-hidden--visually\" id=\"sk-estimator-id-1\" type=\"checkbox\" ><label for=\"sk-estimator-id-1\" class=\"sk-toggleable__label sk-toggleable__label-arrow\">GridSearchCV</label><div class=\"sk-toggleable__content\"><pre>GridSearchCV(estimator=Pipeline(steps=[(&#x27;columntransformer&#x27;,\n",
       "                                        ColumnTransformer(remainder=&#x27;passthrough&#x27;,\n",
       "                                                          transformers=[(&#x27;onehotencoder&#x27;,\n",
       "                                                                         OneHotEncoder(dtype=&#x27;uint8&#x27;,\n",
       "                                                                                       handle_unknown=&#x27;ignore&#x27;),\n",
       "                                                                         &lt;sklearn.compose._column_transformer.make_column_selector object at 0x7f16c32a5670&gt;),\n",
       "                                                                        (&#x27;standardscaler&#x27;,\n",
       "                                                                         StandardScaler(),\n",
       "                                                                         &lt;sklearn.compose._column_transformer.make_column_selector object at 0x7f169411a3a0&gt;)])),\n",
       "                                       (&#x27;linearregression&#x27;,\n",
       "                                        LinearRegression(n_jobs=-1))]),\n",
       "             n_jobs=-1,\n",
       "             param_grid={&#x27;linearregression__normalize&#x27;: [False, True]},\n",
       "             scoring=&#x27;neg_root_mean_squared_error&#x27;, verbose=1)</pre></div></div></div><div class=\"sk-parallel\"><div class=\"sk-parallel-item\"><div class=\"sk-item\"><div class=\"sk-label-container\"><div class=\"sk-label sk-toggleable\"><input class=\"sk-toggleable__control sk-hidden--visually\" id=\"sk-estimator-id-2\" type=\"checkbox\" ><label for=\"sk-estimator-id-2\" class=\"sk-toggleable__label sk-toggleable__label-arrow\">estimator: Pipeline</label><div class=\"sk-toggleable__content\"><pre>Pipeline(steps=[(&#x27;columntransformer&#x27;,\n",
       "                 ColumnTransformer(remainder=&#x27;passthrough&#x27;,\n",
       "                                   transformers=[(&#x27;onehotencoder&#x27;,\n",
       "                                                  OneHotEncoder(dtype=&#x27;uint8&#x27;,\n",
       "                                                                handle_unknown=&#x27;ignore&#x27;),\n",
       "                                                  &lt;sklearn.compose._column_transformer.make_column_selector object at 0x7f16c32a5670&gt;),\n",
       "                                                 (&#x27;standardscaler&#x27;,\n",
       "                                                  StandardScaler(),\n",
       "                                                  &lt;sklearn.compose._column_transformer.make_column_selector object at 0x7f169411a3a0&gt;)])),\n",
       "                (&#x27;linearregression&#x27;, LinearRegression(n_jobs=-1))])</pre></div></div></div><div class=\"sk-serial\"><div class=\"sk-item\"><div class=\"sk-serial\"><div class=\"sk-item sk-dashed-wrapped\"><div class=\"sk-label-container\"><div class=\"sk-label sk-toggleable\"><input class=\"sk-toggleable__control sk-hidden--visually\" id=\"sk-estimator-id-3\" type=\"checkbox\" ><label for=\"sk-estimator-id-3\" class=\"sk-toggleable__label sk-toggleable__label-arrow\">columntransformer: ColumnTransformer</label><div class=\"sk-toggleable__content\"><pre>ColumnTransformer(remainder=&#x27;passthrough&#x27;,\n",
       "                  transformers=[(&#x27;onehotencoder&#x27;,\n",
       "                                 OneHotEncoder(dtype=&#x27;uint8&#x27;,\n",
       "                                               handle_unknown=&#x27;ignore&#x27;),\n",
       "                                 &lt;sklearn.compose._column_transformer.make_column_selector object at 0x7f16c32a5670&gt;),\n",
       "                                (&#x27;standardscaler&#x27;, StandardScaler(),\n",
       "                                 &lt;sklearn.compose._column_transformer.make_column_selector object at 0x7f169411a3a0&gt;)])</pre></div></div></div><div class=\"sk-parallel\"><div class=\"sk-parallel-item\"><div class=\"sk-item\"><div class=\"sk-label-container\"><div class=\"sk-label sk-toggleable\"><input class=\"sk-toggleable__control sk-hidden--visually\" id=\"sk-estimator-id-4\" type=\"checkbox\" ><label for=\"sk-estimator-id-4\" class=\"sk-toggleable__label sk-toggleable__label-arrow\">onehotencoder</label><div class=\"sk-toggleable__content\"><pre>&lt;sklearn.compose._column_transformer.make_column_selector object at 0x7f16c32a5670&gt;</pre></div></div></div><div class=\"sk-serial\"><div class=\"sk-item\"><div class=\"sk-estimator sk-toggleable\"><input class=\"sk-toggleable__control sk-hidden--visually\" id=\"sk-estimator-id-5\" type=\"checkbox\" ><label for=\"sk-estimator-id-5\" class=\"sk-toggleable__label sk-toggleable__label-arrow\">OneHotEncoder</label><div class=\"sk-toggleable__content\"><pre>OneHotEncoder(dtype=&#x27;uint8&#x27;, handle_unknown=&#x27;ignore&#x27;)</pre></div></div></div></div></div></div><div class=\"sk-parallel-item\"><div class=\"sk-item\"><div class=\"sk-label-container\"><div class=\"sk-label sk-toggleable\"><input class=\"sk-toggleable__control sk-hidden--visually\" id=\"sk-estimator-id-6\" type=\"checkbox\" ><label for=\"sk-estimator-id-6\" class=\"sk-toggleable__label sk-toggleable__label-arrow\">standardscaler</label><div class=\"sk-toggleable__content\"><pre>&lt;sklearn.compose._column_transformer.make_column_selector object at 0x7f169411a3a0&gt;</pre></div></div></div><div class=\"sk-serial\"><div class=\"sk-item\"><div class=\"sk-estimator sk-toggleable\"><input class=\"sk-toggleable__control sk-hidden--visually\" id=\"sk-estimator-id-7\" type=\"checkbox\" ><label for=\"sk-estimator-id-7\" class=\"sk-toggleable__label sk-toggleable__label-arrow\">StandardScaler</label><div class=\"sk-toggleable__content\"><pre>StandardScaler()</pre></div></div></div></div></div></div><div class=\"sk-parallel-item\"><div class=\"sk-item\"><div class=\"sk-label-container\"><div class=\"sk-label sk-toggleable\"><input class=\"sk-toggleable__control sk-hidden--visually\" id=\"sk-estimator-id-8\" type=\"checkbox\" ><label for=\"sk-estimator-id-8\" class=\"sk-toggleable__label sk-toggleable__label-arrow\">remainder</label><div class=\"sk-toggleable__content\"><pre></pre></div></div></div><div class=\"sk-serial\"><div class=\"sk-item\"><div class=\"sk-estimator sk-toggleable\"><input class=\"sk-toggleable__control sk-hidden--visually\" id=\"sk-estimator-id-9\" type=\"checkbox\" ><label for=\"sk-estimator-id-9\" class=\"sk-toggleable__label sk-toggleable__label-arrow\">passthrough</label><div class=\"sk-toggleable__content\"><pre>passthrough</pre></div></div></div></div></div></div></div></div><div class=\"sk-item\"><div class=\"sk-estimator sk-toggleable\"><input class=\"sk-toggleable__control sk-hidden--visually\" id=\"sk-estimator-id-10\" type=\"checkbox\" ><label for=\"sk-estimator-id-10\" class=\"sk-toggleable__label sk-toggleable__label-arrow\">LinearRegression</label><div class=\"sk-toggleable__content\"><pre>LinearRegression(n_jobs=-1)</pre></div></div></div></div></div></div></div></div></div></div></div></div>"
      ],
      "text/plain": [
       "GridSearchCV(estimator=Pipeline(steps=[('columntransformer',\n",
       "                                        ColumnTransformer(remainder='passthrough',\n",
       "                                                          transformers=[('onehotencoder',\n",
       "                                                                         OneHotEncoder(dtype='uint8',\n",
       "                                                                                       handle_unknown='ignore'),\n",
       "                                                                         <sklearn.compose._column_transformer.make_column_selector object at 0x7f16c32a5670>),\n",
       "                                                                        ('standardscaler',\n",
       "                                                                         StandardScaler(),\n",
       "                                                                         <sklearn.compose._column_transformer.make_column_selector object at 0x7f169411a3a0>)])),\n",
       "                                       ('linearregression',\n",
       "                                        LinearRegression(n_jobs=-1))]),\n",
       "             n_jobs=-1,\n",
       "             param_grid={'linearregression__normalize': [False, True]},\n",
       "             scoring='neg_root_mean_squared_error', verbose=1)"
      ]
     },
     "execution_count": 50,
     "metadata": {},
     "output_type": "execute_result"
    }
   ],
   "source": [
    "%time gs_lr.fit(features_train_lr, target_train_lr)"
   ]
  },
  {
   "cell_type": "code",
   "execution_count": 51,
   "metadata": {},
   "outputs": [
    {
     "data": {
      "text/plain": [
       "{'linearregression__normalize': True}"
      ]
     },
     "execution_count": 51,
     "metadata": {},
     "output_type": "execute_result"
    }
   ],
   "source": [
    "gs_lr.best_params_"
   ]
  },
  {
   "cell_type": "code",
   "execution_count": 52,
   "metadata": {},
   "outputs": [
    {
     "data": {
      "text/plain": [
       "-2786.7276751338286"
      ]
     },
     "execution_count": 52,
     "metadata": {},
     "output_type": "execute_result"
    }
   ],
   "source": [
    "gs_lr.best_score_"
   ]
  },
  {
   "cell_type": "code",
   "execution_count": 53,
   "metadata": {
    "scrolled": true
   },
   "outputs": [
    {
     "data": {
      "text/html": [
       "<div>\n",
       "<style scoped>\n",
       "    .dataframe tbody tr th:only-of-type {\n",
       "        vertical-align: middle;\n",
       "    }\n",
       "\n",
       "    .dataframe tbody tr th {\n",
       "        vertical-align: top;\n",
       "    }\n",
       "\n",
       "    .dataframe thead th {\n",
       "        text-align: right;\n",
       "    }\n",
       "</style>\n",
       "<table border=\"1\" class=\"dataframe\">\n",
       "  <thead>\n",
       "    <tr style=\"text-align: right;\">\n",
       "      <th></th>\n",
       "      <th>param_linearregression__normalize</th>\n",
       "      <th>mean_test_score</th>\n",
       "    </tr>\n",
       "  </thead>\n",
       "  <tbody>\n",
       "    <tr>\n",
       "      <th>0</th>\n",
       "      <td>False</td>\n",
       "      <td>-2786.734881</td>\n",
       "    </tr>\n",
       "    <tr>\n",
       "      <th>1</th>\n",
       "      <td>True</td>\n",
       "      <td>-2786.727675</td>\n",
       "    </tr>\n",
       "  </tbody>\n",
       "</table>\n",
       "</div>"
      ],
      "text/plain": [
       "  param_linearregression__normalize  mean_test_score\n",
       "0                             False     -2786.734881\n",
       "1                              True     -2786.727675"
      ]
     },
     "execution_count": 53,
     "metadata": {},
     "output_type": "execute_result"
    }
   ],
   "source": [
    "pd.DataFrame(gs_lr.cv_results_)[[\n",
    "    'param_linearregression__normalize',\n",
    "    'mean_test_score'\n",
    "]]"
   ]
  },
  {
   "cell_type": "code",
   "execution_count": 54,
   "metadata": {},
   "outputs": [],
   "source": [
    "results = pd.DataFrame(\n",
    "    {\n",
    "        'model':['LinearRegression'],\n",
    "        'best_parameters_train':[gs_lr.best_params_],\n",
    "        'RMSE_train':[gs_lr.best_score_]\n",
    "    }\n",
    ")"
   ]
  },
  {
   "cell_type": "markdown",
   "metadata": {},
   "source": [
    "Проверим работу модели предсказаний на моделе дерева решений. Т.к. для деревянных моделей подходит больше кодирование признаков порядковым кодированием, подготовим дланные."
   ]
  },
  {
   "cell_type": "code",
   "execution_count": 55,
   "metadata": {},
   "outputs": [],
   "source": [
    "data_tree = data.copy()"
   ]
  },
  {
   "cell_type": "code",
   "execution_count": 56,
   "metadata": {},
   "outputs": [],
   "source": [
    "features_train_tree, features_test_tree, target_train_tree, target_test_tree\\\n",
    "    = split(data_tree)"
   ]
  },
  {
   "cell_type": "code",
   "execution_count": 58,
   "metadata": {},
   "outputs": [
    {
     "data": {
      "text/html": [
       "<div>\n",
       "<style scoped>\n",
       "    .dataframe tbody tr th:only-of-type {\n",
       "        vertical-align: middle;\n",
       "    }\n",
       "\n",
       "    .dataframe tbody tr th {\n",
       "        vertical-align: top;\n",
       "    }\n",
       "\n",
       "    .dataframe thead th {\n",
       "        text-align: right;\n",
       "    }\n",
       "</style>\n",
       "<table border=\"1\" class=\"dataframe\">\n",
       "  <thead>\n",
       "    <tr style=\"text-align: right;\">\n",
       "      <th></th>\n",
       "      <th>vehicle_type</th>\n",
       "      <th>registration_year</th>\n",
       "      <th>gearbox</th>\n",
       "      <th>power</th>\n",
       "      <th>model</th>\n",
       "      <th>kilometer</th>\n",
       "      <th>fuel_type</th>\n",
       "      <th>brand</th>\n",
       "      <th>repaired</th>\n",
       "    </tr>\n",
       "  </thead>\n",
       "  <tbody>\n",
       "    <tr>\n",
       "      <th>23125</th>\n",
       "      <td>8.0</td>\n",
       "      <td>2001</td>\n",
       "      <td>1.0</td>\n",
       "      <td>110</td>\n",
       "      <td>116.0</td>\n",
       "      <td>150000</td>\n",
       "      <td>7.0</td>\n",
       "      <td>38.0</td>\n",
       "      <td>0.0</td>\n",
       "    </tr>\n",
       "    <tr>\n",
       "      <th>150238</th>\n",
       "      <td>5.0</td>\n",
       "      <td>2001</td>\n",
       "      <td>1.0</td>\n",
       "      <td>82</td>\n",
       "      <td>33.0</td>\n",
       "      <td>150000</td>\n",
       "      <td>6.0</td>\n",
       "      <td>20.0</td>\n",
       "      <td>0.0</td>\n",
       "    </tr>\n",
       "    <tr>\n",
       "      <th>149139</th>\n",
       "      <td>4.0</td>\n",
       "      <td>2004</td>\n",
       "      <td>0.0</td>\n",
       "      <td>170</td>\n",
       "      <td>15.0</td>\n",
       "      <td>150000</td>\n",
       "      <td>6.0</td>\n",
       "      <td>2.0</td>\n",
       "      <td>0.0</td>\n",
       "    </tr>\n",
       "    <tr>\n",
       "      <th>294706</th>\n",
       "      <td>4.0</td>\n",
       "      <td>2000</td>\n",
       "      <td>1.0</td>\n",
       "      <td>150</td>\n",
       "      <td>11.0</td>\n",
       "      <td>150000</td>\n",
       "      <td>6.0</td>\n",
       "      <td>2.0</td>\n",
       "      <td>0.0</td>\n",
       "    </tr>\n",
       "    <tr>\n",
       "      <th>178410</th>\n",
       "      <td>5.0</td>\n",
       "      <td>2004</td>\n",
       "      <td>2.0</td>\n",
       "      <td>60</td>\n",
       "      <td>228.0</td>\n",
       "      <td>150000</td>\n",
       "      <td>6.0</td>\n",
       "      <td>9.0</td>\n",
       "      <td>0.0</td>\n",
       "    </tr>\n",
       "  </tbody>\n",
       "</table>\n",
       "</div>"
      ],
      "text/plain": [
       "        vehicle_type  registration_year  gearbox  power  model  kilometer  \\\n",
       "23125            8.0               2001      1.0    110  116.0     150000   \n",
       "150238           5.0               2001      1.0     82   33.0     150000   \n",
       "149139           4.0               2004      0.0    170   15.0     150000   \n",
       "294706           4.0               2000      1.0    150   11.0     150000   \n",
       "178410           5.0               2004      2.0     60  228.0     150000   \n",
       "\n",
       "        fuel_type  brand  repaired  \n",
       "23125         7.0   38.0       0.0  \n",
       "150238        6.0   20.0       0.0  \n",
       "149139        6.0    2.0       0.0  \n",
       "294706        6.0    2.0       0.0  \n",
       "178410        6.0    9.0       0.0  "
      ]
     },
     "execution_count": 58,
     "metadata": {},
     "output_type": "execute_result"
    }
   ],
   "source": [
    "cat_columns = ['vehicle_type', 'gearbox', 'fuel_type', 'repaired', 'brand', 'model']\n",
    "encoder = OrdinalEncoder(handle_unknown = 'use_encoded_value', unknown_value = -1)\n",
    "data_ordinal = features_train_tree\n",
    "data_ordinal[cat_columns] = encoder.fit_transform(data_ordinal[cat_columns])\n",
    "data_ordinal.head()"
   ]
  },
  {
   "cell_type": "code",
   "execution_count": null,
   "metadata": {},
   "outputs": [
    {
     "name": "stdout",
     "output_type": "stream",
     "text": [
      "Fitting 5 folds for each of 9 candidates, totalling 45 fits\n"
     ]
    }
   ],
   "source": [
    "parameters = {'max_depth': range(18,21), 'min_samples_split': range(44,47)}\n",
    "rmse, best_parameters = model_look(DecisionTreeRegressor(random_state=42),\\\n",
    "                                    parameters, data_ordinal, target_train_tree)\n",
    "display('Лучшие параметры модели дерева решений:', best_parameters)\n",
    "display('RMSE модели:', rmse)"
   ]
  },
  {
   "cell_type": "code",
   "execution_count": null,
   "metadata": {},
   "outputs": [],
   "source": [
    "results = pd.concat(\n",
    "    [\n",
    "        results, pd.DataFrame({\n",
    "        'model':'DecisionTreeRegressor',\n",
    "        'best_parameters_train':[best_parameters],\n",
    "        'RMSE_train':rmse\n",
    "    })\n",
    "    ], ignore_index=True\n",
    ")\n",
    "results"
   ]
  },
  {
   "cell_type": "markdown",
   "metadata": {},
   "source": [
    "Проверим работу модели предсказаний на моделе случайного леса."
   ]
  },
  {
   "cell_type": "code",
   "execution_count": 57,
   "metadata": {
    "scrolled": true
   },
   "outputs": [
    {
     "name": "stdout",
     "output_type": "stream",
     "text": [
      "Fitting 5 folds for each of 9 candidates, totalling 45 fits\n",
      "[CV 1/5] END .................max_depth=17, n_estimators=143; total time=  54.4s\n",
      "[CV 2/5] END .................max_depth=17, n_estimators=143; total time=  54.6s\n",
      "[CV 3/5] END .................max_depth=17, n_estimators=143; total time=  54.4s\n",
      "[CV 4/5] END .................max_depth=17, n_estimators=143; total time=  54.1s\n",
      "[CV 5/5] END .................max_depth=17, n_estimators=143; total time=  54.0s\n",
      "[CV 1/5] END .................max_depth=17, n_estimators=144; total time=  54.1s\n",
      "[CV 2/5] END .................max_depth=17, n_estimators=144; total time=  54.0s\n",
      "[CV 3/5] END .................max_depth=17, n_estimators=144; total time=  53.9s\n",
      "[CV 4/5] END .................max_depth=17, n_estimators=144; total time=  53.9s\n",
      "[CV 5/5] END .................max_depth=17, n_estimators=144; total time=  54.6s\n",
      "[CV 1/5] END .................max_depth=17, n_estimators=145; total time=  54.5s\n",
      "[CV 2/5] END .................max_depth=17, n_estimators=145; total time=  54.0s\n",
      "[CV 3/5] END .................max_depth=17, n_estimators=145; total time=  55.2s\n",
      "[CV 4/5] END .................max_depth=17, n_estimators=145; total time=  54.3s\n",
      "[CV 5/5] END .................max_depth=17, n_estimators=145; total time=  54.5s\n",
      "[CV 1/5] END .................max_depth=18, n_estimators=143; total time=  55.9s\n",
      "[CV 2/5] END .................max_depth=18, n_estimators=143; total time=  55.9s\n",
      "[CV 3/5] END .................max_depth=18, n_estimators=143; total time=  56.1s\n",
      "[CV 4/5] END .................max_depth=18, n_estimators=143; total time=  55.9s\n",
      "[CV 5/5] END .................max_depth=18, n_estimators=143; total time=  55.9s\n",
      "[CV 1/5] END .................max_depth=18, n_estimators=144; total time=  56.2s\n",
      "[CV 2/5] END .................max_depth=18, n_estimators=144; total time=  56.4s\n",
      "[CV 3/5] END .................max_depth=18, n_estimators=144; total time=  56.2s\n",
      "[CV 4/5] END .................max_depth=18, n_estimators=144; total time=  56.7s\n",
      "[CV 5/5] END .................max_depth=18, n_estimators=144; total time=  56.3s\n",
      "[CV 1/5] END .................max_depth=18, n_estimators=145; total time=  57.1s\n",
      "[CV 2/5] END .................max_depth=18, n_estimators=145; total time=  56.6s\n",
      "[CV 3/5] END .................max_depth=18, n_estimators=145; total time=  57.2s\n",
      "[CV 4/5] END .................max_depth=18, n_estimators=145; total time=  57.0s\n",
      "[CV 5/5] END .................max_depth=18, n_estimators=145; total time=  58.0s\n",
      "[CV 1/5] END .................max_depth=19, n_estimators=143; total time=  58.3s\n",
      "[CV 2/5] END .................max_depth=19, n_estimators=143; total time=  57.6s\n",
      "[CV 3/5] END .................max_depth=19, n_estimators=143; total time=  58.1s\n",
      "[CV 4/5] END .................max_depth=19, n_estimators=143; total time=  58.4s\n",
      "[CV 5/5] END .................max_depth=19, n_estimators=143; total time=  58.3s\n",
      "[CV 1/5] END .................max_depth=19, n_estimators=144; total time=  58.5s\n",
      "[CV 2/5] END .................max_depth=19, n_estimators=144; total time=  58.2s\n",
      "[CV 3/5] END .................max_depth=19, n_estimators=144; total time=  58.9s\n",
      "[CV 4/5] END .................max_depth=19, n_estimators=144; total time=  58.9s\n",
      "[CV 5/5] END .................max_depth=19, n_estimators=144; total time=  58.7s\n",
      "[CV 1/5] END .................max_depth=19, n_estimators=145; total time=  59.7s\n",
      "[CV 2/5] END .................max_depth=19, n_estimators=145; total time=  59.0s\n",
      "[CV 3/5] END .................max_depth=19, n_estimators=145; total time=  59.2s\n",
      "[CV 4/5] END .................max_depth=19, n_estimators=145; total time=  59.3s\n",
      "[CV 5/5] END .................max_depth=19, n_estimators=145; total time=  58.9s\n"
     ]
    },
    {
     "data": {
      "text/plain": [
       "'Лучшие параметры модели случайного леса:'"
      ]
     },
     "metadata": {},
     "output_type": "display_data"
    },
    {
     "data": {
      "text/plain": [
       "{'max_depth': 18, 'n_estimators': 144}"
      ]
     },
     "metadata": {},
     "output_type": "display_data"
    },
    {
     "data": {
      "text/plain": [
       "'RMSE модели:'"
      ]
     },
     "metadata": {},
     "output_type": "display_data"
    },
    {
     "data": {
      "text/plain": [
       "-1727.5412123962954"
      ]
     },
     "metadata": {},
     "output_type": "display_data"
    }
   ],
   "source": [
    "parameters = {'n_estimators': range(143, 146, 1), 'max_depth': range(17,20, 1)}\n",
    "rmse, best_parameters = model_look(RandomForestRegressor(random_state=12345), \\\n",
    "                                    parameters, data_ordinal, target_train_tree)\n",
    "display('Лучшие параметры модели случайного леса:', best_parameters)\n",
    "display('RMSE модели:', rmse)"
   ]
  },
  {
   "cell_type": "code",
   "execution_count": 58,
   "metadata": {},
   "outputs": [
    {
     "data": {
      "text/html": [
       "<div>\n",
       "<style scoped>\n",
       "    .dataframe tbody tr th:only-of-type {\n",
       "        vertical-align: middle;\n",
       "    }\n",
       "\n",
       "    .dataframe tbody tr th {\n",
       "        vertical-align: top;\n",
       "    }\n",
       "\n",
       "    .dataframe thead th {\n",
       "        text-align: right;\n",
       "    }\n",
       "</style>\n",
       "<table border=\"1\" class=\"dataframe\">\n",
       "  <thead>\n",
       "    <tr style=\"text-align: right;\">\n",
       "      <th></th>\n",
       "      <th>model</th>\n",
       "      <th>best_parameters_train</th>\n",
       "      <th>RMSE_train</th>\n",
       "    </tr>\n",
       "  </thead>\n",
       "  <tbody>\n",
       "    <tr>\n",
       "      <th>0</th>\n",
       "      <td>LinearRegression</td>\n",
       "      <td>{'linearregression__normalize': True}</td>\n",
       "      <td>-2786.727657</td>\n",
       "    </tr>\n",
       "    <tr>\n",
       "      <th>1</th>\n",
       "      <td>DecisionTreeRegressor</td>\n",
       "      <td>{'max_depth': 20, 'min_samples_split': 45}</td>\n",
       "      <td>-1913.962056</td>\n",
       "    </tr>\n",
       "    <tr>\n",
       "      <th>2</th>\n",
       "      <td>RandomForestRegressor</td>\n",
       "      <td>{'max_depth': 18, 'n_estimators': 144}</td>\n",
       "      <td>-1727.541212</td>\n",
       "    </tr>\n",
       "  </tbody>\n",
       "</table>\n",
       "</div>"
      ],
      "text/plain": [
       "                   model                       best_parameters_train  \\\n",
       "0       LinearRegression       {'linearregression__normalize': True}   \n",
       "1  DecisionTreeRegressor  {'max_depth': 20, 'min_samples_split': 45}   \n",
       "2  RandomForestRegressor      {'max_depth': 18, 'n_estimators': 144}   \n",
       "\n",
       "    RMSE_train  \n",
       "0 -2786.727657  \n",
       "1 -1913.962056  \n",
       "2 -1727.541212  "
      ]
     },
     "execution_count": 58,
     "metadata": {},
     "output_type": "execute_result"
    }
   ],
   "source": [
    "results = pd.concat(\n",
    "    [\n",
    "        results, pd.DataFrame({\n",
    "        'model':'RandomForestRegressor',\n",
    "        'best_parameters_train':[best_parameters],\n",
    "        'RMSE_train':rmse\n",
    "    })\n",
    "    ], ignore_index=True\n",
    ")\n",
    "results"
   ]
  },
  {
   "cell_type": "markdown",
   "metadata": {},
   "source": [
    "Проверим работу модели предсказаний на моделе CatBoostRegressor. Для этого переведем значения категориальных столбцов в тип 'category'."
   ]
  },
  {
   "cell_type": "code",
   "execution_count": 59,
   "metadata": {},
   "outputs": [
    {
     "name": "stdout",
     "output_type": "stream",
     "text": [
      "<class 'pandas.core.frame.DataFrame'>\n",
      "Int64Index: 278341 entries, 0 to 354368\n",
      "Data columns (total 10 columns):\n",
      " #   Column             Non-Null Count   Dtype   \n",
      "---  ------             --------------   -----   \n",
      " 0   price              278341 non-null  int64   \n",
      " 1   vehicle_type       278341 non-null  category\n",
      " 2   registration_year  278341 non-null  int64   \n",
      " 3   gearbox            278341 non-null  category\n",
      " 4   power              278341 non-null  int64   \n",
      " 5   model              278341 non-null  category\n",
      " 6   kilometer          278341 non-null  int64   \n",
      " 7   fuel_type          278341 non-null  category\n",
      " 8   brand              278341 non-null  category\n",
      " 9   repaired           278341 non-null  category\n",
      "dtypes: category(6), int64(4)\n",
      "memory usage: 12.5 MB\n"
     ]
    }
   ],
   "source": [
    "data_catboost = data.copy()\n",
    "for columns in cat_columns:\n",
    "    data_catboost[columns] = data_catboost[columns].astype('category')\n",
    "data_catboost.info()"
   ]
  },
  {
   "cell_type": "code",
   "execution_count": 60,
   "metadata": {},
   "outputs": [],
   "source": [
    "features_train, features_test, target_train, target_test = split(data_catboost)"
   ]
  },
  {
   "cell_type": "code",
   "execution_count": 61,
   "metadata": {},
   "outputs": [
    {
     "name": "stdout",
     "output_type": "stream",
     "text": [
      "Fitting 5 folds for each of 12 candidates, totalling 60 fits\n",
      "[CV 1/5] END ........................depth=5, iterations=900; total time= 2.1min\n",
      "[CV 2/5] END ........................depth=5, iterations=900; total time= 2.1min\n",
      "[CV 3/5] END ........................depth=5, iterations=900; total time= 2.1min\n",
      "[CV 4/5] END ........................depth=5, iterations=900; total time= 2.1min\n",
      "[CV 5/5] END ........................depth=5, iterations=900; total time= 2.1min\n",
      "[CV 1/5] END .......................depth=5, iterations=1000; total time= 2.3min\n",
      "[CV 2/5] END .......................depth=5, iterations=1000; total time= 2.3min\n",
      "[CV 3/5] END .......................depth=5, iterations=1000; total time= 2.3min\n",
      "[CV 4/5] END .......................depth=5, iterations=1000; total time= 2.4min\n",
      "[CV 5/5] END .......................depth=5, iterations=1000; total time= 2.4min\n",
      "[CV 1/5] END .......................depth=5, iterations=1100; total time= 2.5min\n",
      "[CV 2/5] END .......................depth=5, iterations=1100; total time= 2.6min\n",
      "[CV 3/5] END .......................depth=5, iterations=1100; total time= 2.5min\n",
      "[CV 4/5] END .......................depth=5, iterations=1100; total time= 2.4min\n",
      "[CV 5/5] END .......................depth=5, iterations=1100; total time= 2.4min\n",
      "[CV 1/5] END ........................depth=6, iterations=900; total time= 2.4min\n",
      "[CV 2/5] END ........................depth=6, iterations=900; total time= 2.4min\n",
      "[CV 3/5] END ........................depth=6, iterations=900; total time= 2.4min\n",
      "[CV 4/5] END ........................depth=6, iterations=900; total time= 2.4min\n",
      "[CV 5/5] END ........................depth=6, iterations=900; total time= 2.4min\n",
      "[CV 1/5] END .......................depth=6, iterations=1000; total time= 2.7min\n",
      "[CV 2/5] END .......................depth=6, iterations=1000; total time= 2.7min\n",
      "[CV 3/5] END .......................depth=6, iterations=1000; total time= 2.7min\n",
      "[CV 4/5] END .......................depth=6, iterations=1000; total time= 2.7min\n",
      "[CV 5/5] END .......................depth=6, iterations=1000; total time= 2.7min\n",
      "[CV 1/5] END .......................depth=6, iterations=1100; total time= 2.9min\n",
      "[CV 2/5] END .......................depth=6, iterations=1100; total time= 3.1min\n",
      "[CV 3/5] END .......................depth=6, iterations=1100; total time= 2.9min\n",
      "[CV 4/5] END .......................depth=6, iterations=1100; total time= 2.9min\n",
      "[CV 5/5] END .......................depth=6, iterations=1100; total time= 2.9min\n",
      "[CV 1/5] END ........................depth=7, iterations=900; total time= 2.9min\n",
      "[CV 2/5] END ........................depth=7, iterations=900; total time= 2.9min\n",
      "[CV 3/5] END ........................depth=7, iterations=900; total time= 3.0min\n",
      "[CV 4/5] END ........................depth=7, iterations=900; total time= 3.1min\n",
      "[CV 5/5] END ........................depth=7, iterations=900; total time= 3.1min\n",
      "[CV 1/5] END .......................depth=7, iterations=1000; total time= 3.4min\n",
      "[CV 2/5] END .......................depth=7, iterations=1000; total time= 3.3min\n",
      "[CV 3/5] END .......................depth=7, iterations=1000; total time= 3.3min\n",
      "[CV 4/5] END .......................depth=7, iterations=1000; total time= 3.3min\n",
      "[CV 5/5] END .......................depth=7, iterations=1000; total time= 3.3min\n",
      "[CV 1/5] END .......................depth=7, iterations=1100; total time= 3.7min\n",
      "[CV 2/5] END .......................depth=7, iterations=1100; total time= 3.7min\n",
      "[CV 3/5] END .......................depth=7, iterations=1100; total time= 3.7min\n",
      "[CV 4/5] END .......................depth=7, iterations=1100; total time= 3.6min\n",
      "[CV 5/5] END .......................depth=7, iterations=1100; total time= 3.7min\n",
      "[CV 1/5] END ........................depth=8, iterations=900; total time= 3.6min\n",
      "[CV 2/5] END ........................depth=8, iterations=900; total time= 3.7min\n",
      "[CV 3/5] END ........................depth=8, iterations=900; total time= 3.5min\n",
      "[CV 4/5] END ........................depth=8, iterations=900; total time= 3.5min\n",
      "[CV 5/5] END ........................depth=8, iterations=900; total time= 3.5min\n",
      "[CV 1/5] END .......................depth=8, iterations=1000; total time= 4.0min\n",
      "[CV 2/5] END .......................depth=8, iterations=1000; total time= 4.0min\n",
      "[CV 3/5] END .......................depth=8, iterations=1000; total time= 3.8min\n",
      "[CV 4/5] END .......................depth=8, iterations=1000; total time= 3.9min\n",
      "[CV 5/5] END .......................depth=8, iterations=1000; total time= 3.9min\n",
      "[CV 1/5] END .......................depth=8, iterations=1100; total time= 4.3min\n",
      "[CV 2/5] END .......................depth=8, iterations=1100; total time= 4.3min\n",
      "[CV 3/5] END .......................depth=8, iterations=1100; total time= 4.0min\n",
      "[CV 4/5] END .......................depth=8, iterations=1100; total time= 4.0min\n",
      "[CV 5/5] END .......................depth=8, iterations=1100; total time= 4.2min\n"
     ]
    },
    {
     "data": {
      "text/plain": [
       "'Лучшие параметры модели CatBoostRegressor:'"
      ]
     },
     "metadata": {},
     "output_type": "display_data"
    },
    {
     "data": {
      "text/plain": [
       "{'depth': 6, 'iterations': 1100}"
      ]
     },
     "metadata": {},
     "output_type": "display_data"
    },
    {
     "data": {
      "text/plain": [
       "'RMSE модели:'"
      ]
     },
     "metadata": {},
     "output_type": "display_data"
    },
    {
     "data": {
      "text/plain": [
       "-1662.5799790897624"
      ]
     },
     "metadata": {},
     "output_type": "display_data"
    }
   ],
   "source": [
    "parameters = {'depth': range(5, 9, 1), 'iterations': range(900, 1200, 100)}\n",
    "rmse, best_parameters = model_look(\n",
    "    CatBoostRegressor(\n",
    "        cat_features=cat_columns,\n",
    "        loss_function=\"RMSE\",\n",
    "        learning_rate=0.5,\n",
    "        logging_level='Silent'),\n",
    "    parameters, features_train, target_train\n",
    ")\n",
    "display('Лучшие параметры модели CatBoostRegressor:', best_parameters)\n",
    "display('RMSE модели:', rmse)"
   ]
  },
  {
   "cell_type": "code",
   "execution_count": 62,
   "metadata": {},
   "outputs": [
    {
     "data": {
      "text/html": [
       "<div>\n",
       "<style scoped>\n",
       "    .dataframe tbody tr th:only-of-type {\n",
       "        vertical-align: middle;\n",
       "    }\n",
       "\n",
       "    .dataframe tbody tr th {\n",
       "        vertical-align: top;\n",
       "    }\n",
       "\n",
       "    .dataframe thead th {\n",
       "        text-align: right;\n",
       "    }\n",
       "</style>\n",
       "<table border=\"1\" class=\"dataframe\">\n",
       "  <thead>\n",
       "    <tr style=\"text-align: right;\">\n",
       "      <th></th>\n",
       "      <th>model</th>\n",
       "      <th>best_parameters_train</th>\n",
       "      <th>RMSE_train</th>\n",
       "    </tr>\n",
       "  </thead>\n",
       "  <tbody>\n",
       "    <tr>\n",
       "      <th>0</th>\n",
       "      <td>LinearRegression</td>\n",
       "      <td>{'linearregression__normalize': True}</td>\n",
       "      <td>-2786.727657</td>\n",
       "    </tr>\n",
       "    <tr>\n",
       "      <th>1</th>\n",
       "      <td>DecisionTreeRegressor</td>\n",
       "      <td>{'max_depth': 20, 'min_samples_split': 45}</td>\n",
       "      <td>-1913.962056</td>\n",
       "    </tr>\n",
       "    <tr>\n",
       "      <th>2</th>\n",
       "      <td>RandomForestRegressor</td>\n",
       "      <td>{'max_depth': 18, 'n_estimators': 144}</td>\n",
       "      <td>-1727.541212</td>\n",
       "    </tr>\n",
       "    <tr>\n",
       "      <th>3</th>\n",
       "      <td>CatBoostRegressor</td>\n",
       "      <td>{'depth': 6, 'iterations': 1100}</td>\n",
       "      <td>-1662.579979</td>\n",
       "    </tr>\n",
       "  </tbody>\n",
       "</table>\n",
       "</div>"
      ],
      "text/plain": [
       "                   model                       best_parameters_train  \\\n",
       "0       LinearRegression       {'linearregression__normalize': True}   \n",
       "1  DecisionTreeRegressor  {'max_depth': 20, 'min_samples_split': 45}   \n",
       "2  RandomForestRegressor      {'max_depth': 18, 'n_estimators': 144}   \n",
       "3      CatBoostRegressor            {'depth': 6, 'iterations': 1100}   \n",
       "\n",
       "    RMSE_train  \n",
       "0 -2786.727657  \n",
       "1 -1913.962056  \n",
       "2 -1727.541212  \n",
       "3 -1662.579979  "
      ]
     },
     "execution_count": 62,
     "metadata": {},
     "output_type": "execute_result"
    }
   ],
   "source": [
    "results = pd.concat(\n",
    "    [\n",
    "        results, pd.DataFrame({\n",
    "        'model':'CatBoostRegressor',\n",
    "        'best_parameters_train':[best_parameters],\n",
    "        'RMSE_train':rmse\n",
    "    })\n",
    "    ], ignore_index=True\n",
    ")\n",
    "results"
   ]
  },
  {
   "cell_type": "markdown",
   "metadata": {},
   "source": [
    "Проверим работу модели предсказаний на моделе LGBMRegressor."
   ]
  },
  {
   "cell_type": "code",
   "execution_count": 63,
   "metadata": {},
   "outputs": [
    {
     "name": "stdout",
     "output_type": "stream",
     "text": [
      "Fitting 5 folds for each of 3 candidates, totalling 15 fits\n",
      "[CV 1/5] END ..............................n_estimators=2048; total time= 2.5min\n",
      "[CV 2/5] END ..............................n_estimators=2048; total time= 4.7min\n",
      "[CV 3/5] END ..............................n_estimators=2048; total time=13.4min\n",
      "[CV 4/5] END ..............................n_estimators=2048; total time= 3.0min\n",
      "[CV 5/5] END ..............................n_estimators=2048; total time= 1.6min\n",
      "[CV 1/5] END ..............................n_estimators=2049; total time= 6.4min\n",
      "[CV 2/5] END ..............................n_estimators=2049; total time=13.4min\n",
      "[CV 3/5] END ..............................n_estimators=2049; total time= 1.8min\n",
      "[CV 4/5] END ..............................n_estimators=2049; total time= 1.8min\n",
      "[CV 5/5] END ..............................n_estimators=2049; total time= 1.4min\n",
      "[CV 1/5] END ..............................n_estimators=2050; total time= 1.5min\n",
      "[CV 2/5] END ..............................n_estimators=2050; total time= 1.9min\n",
      "[CV 3/5] END ..............................n_estimators=2050; total time= 1.5min\n",
      "[CV 4/5] END ..............................n_estimators=2050; total time= 1.5min\n",
      "[CV 5/5] END ..............................n_estimators=2050; total time=15.1min\n"
     ]
    },
    {
     "data": {
      "text/plain": [
       "'Лучшие параметры модели LGBMRegressor:'"
      ]
     },
     "metadata": {},
     "output_type": "display_data"
    },
    {
     "data": {
      "text/plain": [
       "{'n_estimators': 2048}"
      ]
     },
     "metadata": {},
     "output_type": "display_data"
    },
    {
     "data": {
      "text/plain": [
       "'RMSE модели:'"
      ]
     },
     "metadata": {},
     "output_type": "display_data"
    },
    {
     "data": {
      "text/plain": [
       "-1619.2115386588152"
      ]
     },
     "metadata": {},
     "output_type": "display_data"
    }
   ],
   "source": [
    "parameters = {'n_estimators': range(2048, 2051)}\n",
    "rmse, best_parameters = model_look(\n",
    "    LGBMRegressor(random_state=42, verbose=-1), parameters, features_train, target_train\n",
    ")\n",
    "display('Лучшие параметры модели LGBMRegressor:', best_parameters)\n",
    "display('RMSE модели:', rmse)"
   ]
  },
  {
   "cell_type": "code",
   "execution_count": 64,
   "metadata": {},
   "outputs": [
    {
     "data": {
      "text/html": [
       "<div>\n",
       "<style scoped>\n",
       "    .dataframe tbody tr th:only-of-type {\n",
       "        vertical-align: middle;\n",
       "    }\n",
       "\n",
       "    .dataframe tbody tr th {\n",
       "        vertical-align: top;\n",
       "    }\n",
       "\n",
       "    .dataframe thead th {\n",
       "        text-align: right;\n",
       "    }\n",
       "</style>\n",
       "<table border=\"1\" class=\"dataframe\">\n",
       "  <thead>\n",
       "    <tr style=\"text-align: right;\">\n",
       "      <th></th>\n",
       "      <th>model</th>\n",
       "      <th>best_parameters_train</th>\n",
       "      <th>RMSE_train</th>\n",
       "    </tr>\n",
       "  </thead>\n",
       "  <tbody>\n",
       "    <tr>\n",
       "      <th>0</th>\n",
       "      <td>LinearRegression</td>\n",
       "      <td>{'linearregression__normalize': True}</td>\n",
       "      <td>-2786.727657</td>\n",
       "    </tr>\n",
       "    <tr>\n",
       "      <th>1</th>\n",
       "      <td>DecisionTreeRegressor</td>\n",
       "      <td>{'max_depth': 20, 'min_samples_split': 45}</td>\n",
       "      <td>-1913.962056</td>\n",
       "    </tr>\n",
       "    <tr>\n",
       "      <th>2</th>\n",
       "      <td>RandomForestRegressor</td>\n",
       "      <td>{'max_depth': 18, 'n_estimators': 144}</td>\n",
       "      <td>-1727.541212</td>\n",
       "    </tr>\n",
       "    <tr>\n",
       "      <th>3</th>\n",
       "      <td>CatBoostRegressor</td>\n",
       "      <td>{'depth': 6, 'iterations': 1100}</td>\n",
       "      <td>-1662.579979</td>\n",
       "    </tr>\n",
       "    <tr>\n",
       "      <th>4</th>\n",
       "      <td>LGBMRegressor</td>\n",
       "      <td>{'n_estimators': 2048}</td>\n",
       "      <td>-1619.211539</td>\n",
       "    </tr>\n",
       "  </tbody>\n",
       "</table>\n",
       "</div>"
      ],
      "text/plain": [
       "                   model                       best_parameters_train  \\\n",
       "0       LinearRegression       {'linearregression__normalize': True}   \n",
       "1  DecisionTreeRegressor  {'max_depth': 20, 'min_samples_split': 45}   \n",
       "2  RandomForestRegressor      {'max_depth': 18, 'n_estimators': 144}   \n",
       "3      CatBoostRegressor            {'depth': 6, 'iterations': 1100}   \n",
       "4          LGBMRegressor                      {'n_estimators': 2048}   \n",
       "\n",
       "    RMSE_train  \n",
       "0 -2786.727657  \n",
       "1 -1913.962056  \n",
       "2 -1727.541212  \n",
       "3 -1662.579979  \n",
       "4 -1619.211539  "
      ]
     },
     "execution_count": 64,
     "metadata": {},
     "output_type": "execute_result"
    }
   ],
   "source": [
    "results = pd.concat(\n",
    "    [\n",
    "        results, pd.DataFrame({\n",
    "        'model':'LGBMRegressor',\n",
    "        'best_parameters_train':[best_parameters],\n",
    "        'RMSE_train':rmse\n",
    "    })\n",
    "    ], ignore_index=True\n",
    ")\n",
    "results"
   ]
  },
  {
   "cell_type": "markdown",
   "metadata": {},
   "source": [
    "На данном этапе мы выяснили какую метрику выдают модели предсказаний и их лучшие параметры. Лучшие показатели по метрике RSME показала модель LightGBM. Необходимо проверить данные модели с наилучшими параметрами на тестовой выборке."
   ]
  },
  {
   "cell_type": "markdown",
   "metadata": {},
   "source": [
    "## Анализ моделей"
   ]
  },
  {
   "cell_type": "markdown",
   "metadata": {},
   "source": [
    "Создадим функцию для обучения, хронометража обучения и предсказания моделей."
   ]
  },
  {
   "cell_type": "code",
   "execution_count": 65,
   "metadata": {},
   "outputs": [],
   "source": [
    "def ml_result(model, features_train, target_train, features_test, target_test):\n",
    "        \n",
    "    fit_up = time.time()\n",
    "    model.fit(features_train, target_train)\n",
    "    fit_down = time.time()\n",
    "    \n",
    "    fit_time = fit_down - fit_up\n",
    "    \n",
    "    predict_up = time.time()\n",
    "    predictions = model.predict(features_test)\n",
    "    predict_down = time.time()\n",
    "    \n",
    "    predict_time = predict_down - predict_up\n",
    "    \n",
    "    rmse = mean_squared_error(target_test, predictions)**0.5\n",
    "      \n",
    "    return fit_time, predict_time, rmse"
   ]
  },
  {
   "cell_type": "markdown",
   "metadata": {},
   "source": [
    "Проверим модель линейной регрессии."
   ]
  },
  {
   "cell_type": "code",
   "execution_count": 66,
   "metadata": {},
   "outputs": [
    {
     "name": "stdout",
     "output_type": "stream",
     "text": [
      "Fitting 5 folds for each of 2 candidates, totalling 10 fits\n",
      "CPU times: user 28.3 s, sys: 30 s, total: 58.4 s\n",
      "Wall time: 58.4 s\n"
     ]
    },
    {
     "data": {
      "text/plain": [
       "GridSearchCV(estimator=Pipeline(steps=[('columntransformer',\n",
       "                                        ColumnTransformer(remainder='passthrough',\n",
       "                                                          transformers=[('onehotencoder',\n",
       "                                                                         OneHotEncoder(dtype='uint8',\n",
       "                                                                                       handle_unknown='ignore'),\n",
       "                                                                         <sklearn.compose._column_transformer.make_column_selector object at 0x7f07ec741640>),\n",
       "                                                                        ('standardscaler',\n",
       "                                                                         StandardScaler(),\n",
       "                                                                         <sklearn.compose._column_transformer.make_column_selector object at 0x7f07ec741040>)])),\n",
       "                                       ('linearregression',\n",
       "                                        LinearRegression(n_jobs=-1))]),\n",
       "             n_jobs=-1,\n",
       "             param_grid={'linearregression__normalize': [False, True]},\n",
       "             scoring='neg_root_mean_squared_error', verbose=1)"
      ]
     },
     "execution_count": 66,
     "metadata": {},
     "output_type": "execute_result"
    }
   ],
   "source": [
    "%time gs_lr.fit(features_test_lr, target_test_lr)"
   ]
  },
  {
   "cell_type": "code",
   "execution_count": 67,
   "metadata": {},
   "outputs": [
    {
     "name": "stdout",
     "output_type": "stream",
     "text": [
      "Fitting 5 folds for each of 2 candidates, totalling 10 fits\n"
     ]
    },
    {
     "data": {
      "text/html": [
       "<div>\n",
       "<style scoped>\n",
       "    .dataframe tbody tr th:only-of-type {\n",
       "        vertical-align: middle;\n",
       "    }\n",
       "\n",
       "    .dataframe tbody tr th {\n",
       "        vertical-align: top;\n",
       "    }\n",
       "\n",
       "    .dataframe thead th {\n",
       "        text-align: right;\n",
       "    }\n",
       "</style>\n",
       "<table border=\"1\" class=\"dataframe\">\n",
       "  <thead>\n",
       "    <tr style=\"text-align: right;\">\n",
       "      <th></th>\n",
       "      <th>model</th>\n",
       "      <th>best_parameters_train</th>\n",
       "      <th>RMSE_train</th>\n",
       "      <th>fit_time</th>\n",
       "      <th>predict_time</th>\n",
       "      <th>rmse_test</th>\n",
       "    </tr>\n",
       "  </thead>\n",
       "  <tbody>\n",
       "    <tr>\n",
       "      <th>0</th>\n",
       "      <td>LinearRegression</td>\n",
       "      <td>{'linearregression__normalize': True}</td>\n",
       "      <td>-2786.727657</td>\n",
       "      <td>124.240472</td>\n",
       "      <td>0.276665</td>\n",
       "      <td>2769.057477</td>\n",
       "    </tr>\n",
       "    <tr>\n",
       "      <th>1</th>\n",
       "      <td>DecisionTreeRegressor</td>\n",
       "      <td>{'max_depth': 20, 'min_samples_split': 45}</td>\n",
       "      <td>-1913.962056</td>\n",
       "      <td>NaN</td>\n",
       "      <td>NaN</td>\n",
       "      <td>NaN</td>\n",
       "    </tr>\n",
       "    <tr>\n",
       "      <th>2</th>\n",
       "      <td>RandomForestRegressor</td>\n",
       "      <td>{'max_depth': 18, 'n_estimators': 144}</td>\n",
       "      <td>-1727.541212</td>\n",
       "      <td>NaN</td>\n",
       "      <td>NaN</td>\n",
       "      <td>NaN</td>\n",
       "    </tr>\n",
       "    <tr>\n",
       "      <th>3</th>\n",
       "      <td>CatBoostRegressor</td>\n",
       "      <td>{'depth': 6, 'iterations': 1100}</td>\n",
       "      <td>-1662.579979</td>\n",
       "      <td>NaN</td>\n",
       "      <td>NaN</td>\n",
       "      <td>NaN</td>\n",
       "    </tr>\n",
       "    <tr>\n",
       "      <th>4</th>\n",
       "      <td>LGBMRegressor</td>\n",
       "      <td>{'n_estimators': 2048}</td>\n",
       "      <td>-1619.211539</td>\n",
       "      <td>NaN</td>\n",
       "      <td>NaN</td>\n",
       "      <td>NaN</td>\n",
       "    </tr>\n",
       "  </tbody>\n",
       "</table>\n",
       "</div>"
      ],
      "text/plain": [
       "                   model                       best_parameters_train  \\\n",
       "0       LinearRegression       {'linearregression__normalize': True}   \n",
       "1  DecisionTreeRegressor  {'max_depth': 20, 'min_samples_split': 45}   \n",
       "2  RandomForestRegressor      {'max_depth': 18, 'n_estimators': 144}   \n",
       "3      CatBoostRegressor            {'depth': 6, 'iterations': 1100}   \n",
       "4          LGBMRegressor                      {'n_estimators': 2048}   \n",
       "\n",
       "    RMSE_train    fit_time  predict_time    rmse_test  \n",
       "0 -2786.727657  124.240472      0.276665  2769.057477  \n",
       "1 -1913.962056         NaN           NaN          NaN  \n",
       "2 -1727.541212         NaN           NaN          NaN  \n",
       "3 -1662.579979         NaN           NaN          NaN  \n",
       "4 -1619.211539         NaN           NaN          NaN  "
      ]
     },
     "execution_count": 67,
     "metadata": {},
     "output_type": "execute_result"
    }
   ],
   "source": [
    "fit_time, predict_time, rmse = ml_result(\n",
    "    gs_lr,\n",
    "    features_train_lr,\n",
    "    target_train_lr,\n",
    "    features_test_lr,\n",
    "    target_test_lr\n",
    ")\n",
    "results.loc[0, 'fit_time'] = fit_time\n",
    "results.loc[0, 'predict_time'] = predict_time\n",
    "results.loc[0, 'rmse_test'] = rmse\n",
    "results"
   ]
  },
  {
   "cell_type": "markdown",
   "metadata": {},
   "source": [
    "Проверим модель дерева решений."
   ]
  },
  {
   "cell_type": "code",
   "execution_count": 74,
   "metadata": {},
   "outputs": [
    {
     "data": {
      "text/html": [
       "<div>\n",
       "<style scoped>\n",
       "    .dataframe tbody tr th:only-of-type {\n",
       "        vertical-align: middle;\n",
       "    }\n",
       "\n",
       "    .dataframe tbody tr th {\n",
       "        vertical-align: top;\n",
       "    }\n",
       "\n",
       "    .dataframe thead th {\n",
       "        text-align: right;\n",
       "    }\n",
       "</style>\n",
       "<table border=\"1\" class=\"dataframe\">\n",
       "  <thead>\n",
       "    <tr style=\"text-align: right;\">\n",
       "      <th></th>\n",
       "      <th>vehicle_type</th>\n",
       "      <th>registration_year</th>\n",
       "      <th>gearbox</th>\n",
       "      <th>power</th>\n",
       "      <th>model</th>\n",
       "      <th>kilometer</th>\n",
       "      <th>fuel_type</th>\n",
       "      <th>brand</th>\n",
       "      <th>repaired</th>\n",
       "    </tr>\n",
       "  </thead>\n",
       "  <tbody>\n",
       "    <tr>\n",
       "      <th>251200</th>\n",
       "      <td>2.0</td>\n",
       "      <td>2001</td>\n",
       "      <td>0.0</td>\n",
       "      <td>197</td>\n",
       "      <td>59.0</td>\n",
       "      <td>150000</td>\n",
       "      <td>6.0</td>\n",
       "      <td>20.0</td>\n",
       "      <td>0.0</td>\n",
       "    </tr>\n",
       "    <tr>\n",
       "      <th>3805</th>\n",
       "      <td>5.0</td>\n",
       "      <td>2002</td>\n",
       "      <td>1.0</td>\n",
       "      <td>61</td>\n",
       "      <td>223.0</td>\n",
       "      <td>40000</td>\n",
       "      <td>6.0</td>\n",
       "      <td>32.0</td>\n",
       "      <td>0.0</td>\n",
       "    </tr>\n",
       "    <tr>\n",
       "      <th>193767</th>\n",
       "      <td>8.0</td>\n",
       "      <td>2002</td>\n",
       "      <td>1.0</td>\n",
       "      <td>207</td>\n",
       "      <td>58.0</td>\n",
       "      <td>125000</td>\n",
       "      <td>6.0</td>\n",
       "      <td>5.0</td>\n",
       "      <td>0.0</td>\n",
       "    </tr>\n",
       "    <tr>\n",
       "      <th>210087</th>\n",
       "      <td>5.0</td>\n",
       "      <td>2008</td>\n",
       "      <td>1.0</td>\n",
       "      <td>67</td>\n",
       "      <td>146.0</td>\n",
       "      <td>90000</td>\n",
       "      <td>4.0</td>\n",
       "      <td>3.0</td>\n",
       "      <td>1.0</td>\n",
       "    </tr>\n",
       "    <tr>\n",
       "      <th>13967</th>\n",
       "      <td>4.0</td>\n",
       "      <td>2001</td>\n",
       "      <td>1.0</td>\n",
       "      <td>75</td>\n",
       "      <td>115.0</td>\n",
       "      <td>80000</td>\n",
       "      <td>6.0</td>\n",
       "      <td>38.0</td>\n",
       "      <td>0.0</td>\n",
       "    </tr>\n",
       "  </tbody>\n",
       "</table>\n",
       "</div>"
      ],
      "text/plain": [
       "        vehicle_type  registration_year  gearbox  power  model  kilometer  \\\n",
       "251200           2.0               2001      0.0    197   59.0     150000   \n",
       "3805             5.0               2002      1.0     61  223.0      40000   \n",
       "193767           8.0               2002      1.0    207   58.0     125000   \n",
       "210087           5.0               2008      1.0     67  146.0      90000   \n",
       "13967            4.0               2001      1.0     75  115.0      80000   \n",
       "\n",
       "        fuel_type  brand  repaired  \n",
       "251200        6.0   20.0       0.0  \n",
       "3805          6.0   32.0       0.0  \n",
       "193767        6.0    5.0       0.0  \n",
       "210087        4.0    3.0       1.0  \n",
       "13967         6.0   38.0       0.0  "
      ]
     },
     "execution_count": 74,
     "metadata": {},
     "output_type": "execute_result"
    }
   ],
   "source": [
    "data_ordinal_1 = features_test_tree\n",
    "data_ordinal_1[cat_columns] = encoder.fit_transform(data_ordinal_1[cat_columns])\n",
    "data_ordinal_1.head()"
   ]
  },
  {
   "cell_type": "code",
   "execution_count": 69,
   "metadata": {},
   "outputs": [
    {
     "data": {
      "text/html": [
       "<div>\n",
       "<style scoped>\n",
       "    .dataframe tbody tr th:only-of-type {\n",
       "        vertical-align: middle;\n",
       "    }\n",
       "\n",
       "    .dataframe tbody tr th {\n",
       "        vertical-align: top;\n",
       "    }\n",
       "\n",
       "    .dataframe thead th {\n",
       "        text-align: right;\n",
       "    }\n",
       "</style>\n",
       "<table border=\"1\" class=\"dataframe\">\n",
       "  <thead>\n",
       "    <tr style=\"text-align: right;\">\n",
       "      <th></th>\n",
       "      <th>model</th>\n",
       "      <th>best_parameters_train</th>\n",
       "      <th>RMSE_train</th>\n",
       "      <th>fit_time</th>\n",
       "      <th>predict_time</th>\n",
       "      <th>rmse_test</th>\n",
       "    </tr>\n",
       "  </thead>\n",
       "  <tbody>\n",
       "    <tr>\n",
       "      <th>0</th>\n",
       "      <td>LinearRegression</td>\n",
       "      <td>{'linearregression__normalize': True}</td>\n",
       "      <td>-2786.727657</td>\n",
       "      <td>124.240472</td>\n",
       "      <td>0.276665</td>\n",
       "      <td>2769.057477</td>\n",
       "    </tr>\n",
       "    <tr>\n",
       "      <th>1</th>\n",
       "      <td>DecisionTreeRegressor</td>\n",
       "      <td>{'max_depth': 20, 'min_samples_split': 45}</td>\n",
       "      <td>-1913.962056</td>\n",
       "      <td>0.671403</td>\n",
       "      <td>0.021209</td>\n",
       "      <td>1971.250467</td>\n",
       "    </tr>\n",
       "    <tr>\n",
       "      <th>2</th>\n",
       "      <td>RandomForestRegressor</td>\n",
       "      <td>{'max_depth': 18, 'n_estimators': 144}</td>\n",
       "      <td>-1727.541212</td>\n",
       "      <td>NaN</td>\n",
       "      <td>NaN</td>\n",
       "      <td>NaN</td>\n",
       "    </tr>\n",
       "    <tr>\n",
       "      <th>3</th>\n",
       "      <td>CatBoostRegressor</td>\n",
       "      <td>{'depth': 6, 'iterations': 1100}</td>\n",
       "      <td>-1662.579979</td>\n",
       "      <td>NaN</td>\n",
       "      <td>NaN</td>\n",
       "      <td>NaN</td>\n",
       "    </tr>\n",
       "    <tr>\n",
       "      <th>4</th>\n",
       "      <td>LGBMRegressor</td>\n",
       "      <td>{'n_estimators': 2048}</td>\n",
       "      <td>-1619.211539</td>\n",
       "      <td>NaN</td>\n",
       "      <td>NaN</td>\n",
       "      <td>NaN</td>\n",
       "    </tr>\n",
       "  </tbody>\n",
       "</table>\n",
       "</div>"
      ],
      "text/plain": [
       "                   model                       best_parameters_train  \\\n",
       "0       LinearRegression       {'linearregression__normalize': True}   \n",
       "1  DecisionTreeRegressor  {'max_depth': 20, 'min_samples_split': 45}   \n",
       "2  RandomForestRegressor      {'max_depth': 18, 'n_estimators': 144}   \n",
       "3      CatBoostRegressor            {'depth': 6, 'iterations': 1100}   \n",
       "4          LGBMRegressor                      {'n_estimators': 2048}   \n",
       "\n",
       "    RMSE_train    fit_time  predict_time    rmse_test  \n",
       "0 -2786.727657  124.240472      0.276665  2769.057477  \n",
       "1 -1913.962056    0.671403      0.021209  1971.250467  \n",
       "2 -1727.541212         NaN           NaN          NaN  \n",
       "3 -1662.579979         NaN           NaN          NaN  \n",
       "4 -1619.211539         NaN           NaN          NaN  "
      ]
     },
     "execution_count": 69,
     "metadata": {},
     "output_type": "execute_result"
    }
   ],
   "source": [
    "fit_time, predict_time, rmse = ml_result(\n",
    "    DecisionTreeRegressor(random_state=42,\n",
    "                          max_depth=20,\n",
    "                          min_samples_split=44),\n",
    "    features_train_tree, target_train_tree, features_test_tree, target_test_tree)\n",
    "results.loc[1, 'fit_time'] = fit_time\n",
    "results.loc[1, 'predict_time'] = predict_time\n",
    "results.loc[1, 'rmse_test'] = rmse\n",
    "results"
   ]
  },
  {
   "cell_type": "markdown",
   "metadata": {},
   "source": [
    "Проверим модель случайного дерева."
   ]
  },
  {
   "cell_type": "code",
   "execution_count": 70,
   "metadata": {},
   "outputs": [
    {
     "data": {
      "text/html": [
       "<div>\n",
       "<style scoped>\n",
       "    .dataframe tbody tr th:only-of-type {\n",
       "        vertical-align: middle;\n",
       "    }\n",
       "\n",
       "    .dataframe tbody tr th {\n",
       "        vertical-align: top;\n",
       "    }\n",
       "\n",
       "    .dataframe thead th {\n",
       "        text-align: right;\n",
       "    }\n",
       "</style>\n",
       "<table border=\"1\" class=\"dataframe\">\n",
       "  <thead>\n",
       "    <tr style=\"text-align: right;\">\n",
       "      <th></th>\n",
       "      <th>model</th>\n",
       "      <th>best_parameters_train</th>\n",
       "      <th>RMSE_train</th>\n",
       "      <th>fit_time</th>\n",
       "      <th>predict_time</th>\n",
       "      <th>rmse_test</th>\n",
       "    </tr>\n",
       "  </thead>\n",
       "  <tbody>\n",
       "    <tr>\n",
       "      <th>0</th>\n",
       "      <td>LinearRegression</td>\n",
       "      <td>{'linearregression__normalize': True}</td>\n",
       "      <td>-2786.727657</td>\n",
       "      <td>124.240472</td>\n",
       "      <td>0.276665</td>\n",
       "      <td>2769.057477</td>\n",
       "    </tr>\n",
       "    <tr>\n",
       "      <th>1</th>\n",
       "      <td>DecisionTreeRegressor</td>\n",
       "      <td>{'max_depth': 20, 'min_samples_split': 45}</td>\n",
       "      <td>-1913.962056</td>\n",
       "      <td>0.671403</td>\n",
       "      <td>0.021209</td>\n",
       "      <td>1971.250467</td>\n",
       "    </tr>\n",
       "    <tr>\n",
       "      <th>2</th>\n",
       "      <td>RandomForestRegressor</td>\n",
       "      <td>{'max_depth': 18, 'n_estimators': 144}</td>\n",
       "      <td>-1727.541212</td>\n",
       "      <td>67.104515</td>\n",
       "      <td>2.596824</td>\n",
       "      <td>1737.979200</td>\n",
       "    </tr>\n",
       "    <tr>\n",
       "      <th>3</th>\n",
       "      <td>CatBoostRegressor</td>\n",
       "      <td>{'depth': 6, 'iterations': 1100}</td>\n",
       "      <td>-1662.579979</td>\n",
       "      <td>NaN</td>\n",
       "      <td>NaN</td>\n",
       "      <td>NaN</td>\n",
       "    </tr>\n",
       "    <tr>\n",
       "      <th>4</th>\n",
       "      <td>LGBMRegressor</td>\n",
       "      <td>{'n_estimators': 2048}</td>\n",
       "      <td>-1619.211539</td>\n",
       "      <td>NaN</td>\n",
       "      <td>NaN</td>\n",
       "      <td>NaN</td>\n",
       "    </tr>\n",
       "  </tbody>\n",
       "</table>\n",
       "</div>"
      ],
      "text/plain": [
       "                   model                       best_parameters_train  \\\n",
       "0       LinearRegression       {'linearregression__normalize': True}   \n",
       "1  DecisionTreeRegressor  {'max_depth': 20, 'min_samples_split': 45}   \n",
       "2  RandomForestRegressor      {'max_depth': 18, 'n_estimators': 144}   \n",
       "3      CatBoostRegressor            {'depth': 6, 'iterations': 1100}   \n",
       "4          LGBMRegressor                      {'n_estimators': 2048}   \n",
       "\n",
       "    RMSE_train    fit_time  predict_time    rmse_test  \n",
       "0 -2786.727657  124.240472      0.276665  2769.057477  \n",
       "1 -1913.962056    0.671403      0.021209  1971.250467  \n",
       "2 -1727.541212   67.104515      2.596824  1737.979200  \n",
       "3 -1662.579979         NaN           NaN          NaN  \n",
       "4 -1619.211539         NaN           NaN          NaN  "
      ]
     },
     "execution_count": 70,
     "metadata": {},
     "output_type": "execute_result"
    }
   ],
   "source": [
    "fit_time, predict_time, rmse = ml_result(\n",
    "    RandomForestRegressor(random_state=42,\n",
    "                          max_depth=18,\n",
    "                          n_estimators=143),\n",
    "    features_train_tree, target_train_tree, features_test_tree, target_test_tree)\n",
    "results.loc[2, 'fit_time'] = fit_time\n",
    "results.loc[2, 'predict_time'] = predict_time\n",
    "results.loc[2, 'rmse_test'] = rmse\n",
    "results"
   ]
  },
  {
   "cell_type": "markdown",
   "metadata": {},
   "source": [
    "Проверим модель CatBoostRegressor."
   ]
  },
  {
   "cell_type": "code",
   "execution_count": 71,
   "metadata": {},
   "outputs": [
    {
     "data": {
      "text/html": [
       "<div>\n",
       "<style scoped>\n",
       "    .dataframe tbody tr th:only-of-type {\n",
       "        vertical-align: middle;\n",
       "    }\n",
       "\n",
       "    .dataframe tbody tr th {\n",
       "        vertical-align: top;\n",
       "    }\n",
       "\n",
       "    .dataframe thead th {\n",
       "        text-align: right;\n",
       "    }\n",
       "</style>\n",
       "<table border=\"1\" class=\"dataframe\">\n",
       "  <thead>\n",
       "    <tr style=\"text-align: right;\">\n",
       "      <th></th>\n",
       "      <th>model</th>\n",
       "      <th>best_parameters_train</th>\n",
       "      <th>RMSE_train</th>\n",
       "      <th>fit_time</th>\n",
       "      <th>predict_time</th>\n",
       "      <th>rmse_test</th>\n",
       "    </tr>\n",
       "  </thead>\n",
       "  <tbody>\n",
       "    <tr>\n",
       "      <th>0</th>\n",
       "      <td>LinearRegression</td>\n",
       "      <td>{'linearregression__normalize': True}</td>\n",
       "      <td>-2786.727657</td>\n",
       "      <td>124.240472</td>\n",
       "      <td>0.276665</td>\n",
       "      <td>2769.057477</td>\n",
       "    </tr>\n",
       "    <tr>\n",
       "      <th>1</th>\n",
       "      <td>DecisionTreeRegressor</td>\n",
       "      <td>{'max_depth': 20, 'min_samples_split': 45}</td>\n",
       "      <td>-1913.962056</td>\n",
       "      <td>0.671403</td>\n",
       "      <td>0.021209</td>\n",
       "      <td>1971.250467</td>\n",
       "    </tr>\n",
       "    <tr>\n",
       "      <th>2</th>\n",
       "      <td>RandomForestRegressor</td>\n",
       "      <td>{'max_depth': 18, 'n_estimators': 144}</td>\n",
       "      <td>-1727.541212</td>\n",
       "      <td>67.104515</td>\n",
       "      <td>2.596824</td>\n",
       "      <td>1737.979200</td>\n",
       "    </tr>\n",
       "    <tr>\n",
       "      <th>3</th>\n",
       "      <td>CatBoostRegressor</td>\n",
       "      <td>{'depth': 6, 'iterations': 1100}</td>\n",
       "      <td>-1662.579979</td>\n",
       "      <td>222.466865</td>\n",
       "      <td>0.955885</td>\n",
       "      <td>1636.672262</td>\n",
       "    </tr>\n",
       "    <tr>\n",
       "      <th>4</th>\n",
       "      <td>LGBMRegressor</td>\n",
       "      <td>{'n_estimators': 2048}</td>\n",
       "      <td>-1619.211539</td>\n",
       "      <td>NaN</td>\n",
       "      <td>NaN</td>\n",
       "      <td>NaN</td>\n",
       "    </tr>\n",
       "  </tbody>\n",
       "</table>\n",
       "</div>"
      ],
      "text/plain": [
       "                   model                       best_parameters_train  \\\n",
       "0       LinearRegression       {'linearregression__normalize': True}   \n",
       "1  DecisionTreeRegressor  {'max_depth': 20, 'min_samples_split': 45}   \n",
       "2  RandomForestRegressor      {'max_depth': 18, 'n_estimators': 144}   \n",
       "3      CatBoostRegressor            {'depth': 6, 'iterations': 1100}   \n",
       "4          LGBMRegressor                      {'n_estimators': 2048}   \n",
       "\n",
       "    RMSE_train    fit_time  predict_time    rmse_test  \n",
       "0 -2786.727657  124.240472      0.276665  2769.057477  \n",
       "1 -1913.962056    0.671403      0.021209  1971.250467  \n",
       "2 -1727.541212   67.104515      2.596824  1737.979200  \n",
       "3 -1662.579979  222.466865      0.955885  1636.672262  \n",
       "4 -1619.211539         NaN           NaN          NaN  "
      ]
     },
     "execution_count": 71,
     "metadata": {},
     "output_type": "execute_result"
    }
   ],
   "source": [
    "fit_time, predict_time, rmse = ml_result(\n",
    "    CatBoostRegressor(\n",
    "        cat_features=cat_columns,\n",
    "        loss_function=\"RMSE\",\n",
    "        learning_rate = 0.5,\n",
    "        depth=7,\n",
    "        iterations=900,\n",
    "        logging_level='Silent'),\n",
    "    features_train, target_train, features_test, target_test)\n",
    "results.loc[3, 'fit_time'] = fit_time\n",
    "results.loc[3, 'predict_time'] = predict_time\n",
    "results.loc[3, 'rmse_test'] = rmse\n",
    "results"
   ]
  },
  {
   "cell_type": "markdown",
   "metadata": {},
   "source": [
    "Проверим модель LGBMRegressor."
   ]
  },
  {
   "cell_type": "code",
   "execution_count": 72,
   "metadata": {},
   "outputs": [
    {
     "data": {
      "text/html": [
       "<div>\n",
       "<style scoped>\n",
       "    .dataframe tbody tr th:only-of-type {\n",
       "        vertical-align: middle;\n",
       "    }\n",
       "\n",
       "    .dataframe tbody tr th {\n",
       "        vertical-align: top;\n",
       "    }\n",
       "\n",
       "    .dataframe thead th {\n",
       "        text-align: right;\n",
       "    }\n",
       "</style>\n",
       "<table border=\"1\" class=\"dataframe\">\n",
       "  <thead>\n",
       "    <tr style=\"text-align: right;\">\n",
       "      <th></th>\n",
       "      <th>model</th>\n",
       "      <th>best_parameters_train</th>\n",
       "      <th>RMSE_train</th>\n",
       "      <th>fit_time</th>\n",
       "      <th>predict_time</th>\n",
       "      <th>rmse_test</th>\n",
       "    </tr>\n",
       "  </thead>\n",
       "  <tbody>\n",
       "    <tr>\n",
       "      <th>0</th>\n",
       "      <td>LinearRegression</td>\n",
       "      <td>{'linearregression__normalize': True}</td>\n",
       "      <td>-2786.727657</td>\n",
       "      <td>124.240472</td>\n",
       "      <td>0.276665</td>\n",
       "      <td>2769.057477</td>\n",
       "    </tr>\n",
       "    <tr>\n",
       "      <th>1</th>\n",
       "      <td>DecisionTreeRegressor</td>\n",
       "      <td>{'max_depth': 20, 'min_samples_split': 45}</td>\n",
       "      <td>-1913.962056</td>\n",
       "      <td>0.671403</td>\n",
       "      <td>0.021209</td>\n",
       "      <td>1971.250467</td>\n",
       "    </tr>\n",
       "    <tr>\n",
       "      <th>2</th>\n",
       "      <td>RandomForestRegressor</td>\n",
       "      <td>{'max_depth': 18, 'n_estimators': 144}</td>\n",
       "      <td>-1727.541212</td>\n",
       "      <td>67.104515</td>\n",
       "      <td>2.596824</td>\n",
       "      <td>1737.979200</td>\n",
       "    </tr>\n",
       "    <tr>\n",
       "      <th>3</th>\n",
       "      <td>CatBoostRegressor</td>\n",
       "      <td>{'depth': 6, 'iterations': 1100}</td>\n",
       "      <td>-1662.579979</td>\n",
       "      <td>222.466865</td>\n",
       "      <td>0.955885</td>\n",
       "      <td>1636.672262</td>\n",
       "    </tr>\n",
       "    <tr>\n",
       "      <th>4</th>\n",
       "      <td>LGBMRegressor</td>\n",
       "      <td>{'n_estimators': 2048}</td>\n",
       "      <td>-1619.211539</td>\n",
       "      <td>1442.918764</td>\n",
       "      <td>17.498537</td>\n",
       "      <td>1596.474025</td>\n",
       "    </tr>\n",
       "  </tbody>\n",
       "</table>\n",
       "</div>"
      ],
      "text/plain": [
       "                   model                       best_parameters_train  \\\n",
       "0       LinearRegression       {'linearregression__normalize': True}   \n",
       "1  DecisionTreeRegressor  {'max_depth': 20, 'min_samples_split': 45}   \n",
       "2  RandomForestRegressor      {'max_depth': 18, 'n_estimators': 144}   \n",
       "3      CatBoostRegressor            {'depth': 6, 'iterations': 1100}   \n",
       "4          LGBMRegressor                      {'n_estimators': 2048}   \n",
       "\n",
       "    RMSE_train     fit_time  predict_time    rmse_test  \n",
       "0 -2786.727657   124.240472      0.276665  2769.057477  \n",
       "1 -1913.962056     0.671403      0.021209  1971.250467  \n",
       "2 -1727.541212    67.104515      2.596824  1737.979200  \n",
       "3 -1662.579979   222.466865      0.955885  1636.672262  \n",
       "4 -1619.211539  1442.918764     17.498537  1596.474025  "
      ]
     },
     "execution_count": 72,
     "metadata": {},
     "output_type": "execute_result"
    }
   ],
   "source": [
    "fit_time, predict_time, rmse = ml_result(\n",
    "    LGBMRegressor(\n",
    "        random_state=42,\n",
    "        n_estimators=2050,\n",
    "        verbose=-1),\n",
    "    features_train, target_train, features_test, target_test\n",
    ")\n",
    "results.loc[4, 'fit_time'] = fit_time\n",
    "results.loc[4, 'predict_time'] = predict_time\n",
    "results.loc[4, 'rmse_test'] = rmse\n",
    "results"
   ]
  },
  {
   "cell_type": "markdown",
   "metadata": {},
   "source": [
    "На данном этапе мы проверили наши модели с полученными ранее гиперпараметрами на тестовой выборке.\n",
    "\n",
    "Лучшая с точки зрения качества предсказания - модель LGBMRegressor.\n",
    "\n",
    "Наименьшее время обучения - модель DecisionTreeRegressor.\n",
    "\n",
    "Наменьшее время предсказания - модель DecisionTreeRegressor."
   ]
  },
  {
   "cell_type": "markdown",
   "metadata": {},
   "source": [
    "# Вывод"
   ]
  },
  {
   "cell_type": "markdown",
   "metadata": {},
   "source": [
    "Цель проекта заключалась в разаработке наилучшей модели предсказания стоимости автомобилей. Данные для исследования были получены из датафрейма, содержащего данные технических характеристиках автоьобилей и их цене. Данные представлены в виде таблицы, включающей в себя 354369 строк и 16 столбцов.\n",
    "\n",
    "Был проведен исследовательский анализ данных, который включал в себя:\n",
    "\n",
    "- изучение данных;\n",
    "\n",
    "- удаление явные дубликатов;\n",
    "\n",
    "- исключение неинформативных признаков;\n",
    "\n",
    "- исследование данных после первоначальной предобработки;\n",
    "\n",
    "- обработку аномалий (например удаление строк с минимальной стоимостью автомобиля или годом регистрации раньше 1930 года);\n",
    "\n",
    "- обработку пропущенных значений;\n",
    "\n",
    "- удаление дубликатов.\n",
    "\n",
    "Установлено, что цена зависит от основных признаков, причем высокие показатели года регистрации и мощности увеличивают цену, а пробег и наличие ремонта ее снижают.\n",
    "\n",
    "Было проведено обучение 5 видов моделей (Линейная регрессия, дерево решений, случайный лес, CatBoost, LGBMRegressor). На данном этапе было выяснено какую метрику RMSE выдают модели предсказаний и их лучшие параметры. Установлено, что наилучшей метрикой обладает модель \n",
    "\n",
    "Далее модели с полученными ранее гиперпараметрами были проверены на тестовой выборке.\n",
    "\n",
    "Лучшая с точки зрения качества предсказания - модель LGBMRegressor.\n",
    "\n",
    "Наименьшее время обучения - модель DecisionTreeRegressor.\n",
    "\n",
    "Наменьшее время предсказания - модель DecisionTreeRegressor.\n",
    "\n",
    "\n",
    "В целом рекомендуется принять за основную модель  LGBMRegressor, так как она обладает наилучшей точностью, но нужно учитывать, что эта модель требует времени на обучение и предсказание результатов."
   ]
  }
 ],
 "metadata": {
  "ExecuteTimeLog": [
   {
    "duration": 2733,
    "start_time": "2024-03-05T10:45:12.903Z"
   },
   {
    "duration": 1634,
    "start_time": "2024-03-05T10:45:22.720Z"
   },
   {
    "duration": 2306,
    "start_time": "2024-03-05T10:45:52.751Z"
   },
   {
    "duration": 44,
    "start_time": "2024-03-05T10:47:58.892Z"
   },
   {
    "duration": 1449,
    "start_time": "2024-03-05T10:48:09.633Z"
   },
   {
    "duration": 114,
    "start_time": "2024-03-05T10:48:12.182Z"
   },
   {
    "duration": 1080,
    "start_time": "2024-03-05T10:48:55.202Z"
   },
   {
    "duration": 15,
    "start_time": "2024-03-05T10:49:06.421Z"
   },
   {
    "duration": 147,
    "start_time": "2024-03-05T10:51:51.203Z"
   },
   {
    "duration": 51,
    "start_time": "2024-03-06T07:44:02.572Z"
   },
   {
    "duration": 3048,
    "start_time": "2024-03-06T07:44:08.409Z"
   },
   {
    "duration": 1832,
    "start_time": "2024-03-06T07:44:11.459Z"
   },
   {
    "duration": 2939,
    "start_time": "2024-03-06T07:44:13.293Z"
   },
   {
    "duration": 20,
    "start_time": "2024-03-06T07:44:16.234Z"
   },
   {
    "duration": 161,
    "start_time": "2024-03-06T07:44:16.256Z"
   },
   {
    "duration": 153,
    "start_time": "2024-03-06T07:44:16.419Z"
   },
   {
    "duration": 104,
    "start_time": "2024-03-06T07:46:43.496Z"
   },
   {
    "duration": 105,
    "start_time": "2024-03-06T07:48:58.601Z"
   },
   {
    "duration": 24,
    "start_time": "2024-03-06T07:49:31.839Z"
   },
   {
    "duration": 15,
    "start_time": "2024-03-06T07:58:44.989Z"
   },
   {
    "duration": 1774,
    "start_time": "2024-03-06T07:59:05.711Z"
   },
   {
    "duration": 11,
    "start_time": "2024-03-06T08:00:58.073Z"
   },
   {
    "duration": 35,
    "start_time": "2024-03-06T08:20:46.528Z"
   },
   {
    "duration": 40892,
    "start_time": "2024-03-06T08:21:10.193Z"
   },
   {
    "duration": 78,
    "start_time": "2024-03-06T08:21:59.519Z"
   },
   {
    "duration": 8111,
    "start_time": "2024-03-06T08:22:13.313Z"
   },
   {
    "duration": 3176,
    "start_time": "2024-03-06T08:22:21.426Z"
   },
   {
    "duration": 28,
    "start_time": "2024-03-06T08:22:24.605Z"
   },
   {
    "duration": 20,
    "start_time": "2024-03-06T08:22:41.603Z"
   },
   {
    "duration": 960,
    "start_time": "2024-03-06T08:22:42.892Z"
   },
   {
    "duration": 16,
    "start_time": "2024-03-06T08:22:43.855Z"
   },
   {
    "duration": 151,
    "start_time": "2024-03-06T08:22:44.741Z"
   },
   {
    "duration": 99,
    "start_time": "2024-03-06T08:22:45.072Z"
   },
   {
    "duration": 25,
    "start_time": "2024-03-06T08:22:46.912Z"
   },
   {
    "duration": 11,
    "start_time": "2024-03-06T08:22:47.263Z"
   },
   {
    "duration": 15,
    "start_time": "2024-03-06T08:23:10.002Z"
   },
   {
    "duration": 4,
    "start_time": "2024-03-06T08:23:27.656Z"
   },
   {
    "duration": 13,
    "start_time": "2024-03-06T08:23:38.803Z"
   },
   {
    "duration": 3202,
    "start_time": "2024-03-06T08:24:07.564Z"
   },
   {
    "duration": 20,
    "start_time": "2024-03-06T08:24:26.923Z"
   },
   {
    "duration": 9,
    "start_time": "2024-03-06T08:24:34.884Z"
   },
   {
    "duration": 46,
    "start_time": "2024-03-06T08:29:02.752Z"
   },
   {
    "duration": 39,
    "start_time": "2024-03-06T08:30:59.412Z"
   },
   {
    "duration": 13,
    "start_time": "2024-03-06T08:32:11.032Z"
   },
   {
    "duration": 3,
    "start_time": "2024-03-06T08:32:42.793Z"
   },
   {
    "duration": 4,
    "start_time": "2024-03-06T08:32:44.072Z"
   },
   {
    "duration": 13,
    "start_time": "2024-03-06T08:33:07.835Z"
   },
   {
    "duration": 5,
    "start_time": "2024-03-06T08:33:26.014Z"
   },
   {
    "duration": 39,
    "start_time": "2024-03-06T08:36:42.521Z"
   },
   {
    "duration": 44,
    "start_time": "2024-03-06T08:36:55.373Z"
   },
   {
    "duration": 3097,
    "start_time": "2024-03-06T10:50:26.464Z"
   },
   {
    "duration": 5,
    "start_time": "2024-03-06T10:50:29.564Z"
   },
   {
    "duration": 1047,
    "start_time": "2024-03-06T10:50:29.571Z"
   },
   {
    "duration": 15,
    "start_time": "2024-03-06T10:50:30.621Z"
   },
   {
    "duration": 223,
    "start_time": "2024-03-06T10:50:30.638Z"
   },
   {
    "duration": 133,
    "start_time": "2024-03-06T10:50:30.863Z"
   },
   {
    "duration": 17,
    "start_time": "2024-03-06T10:50:30.998Z"
   },
   {
    "duration": 59,
    "start_time": "2024-03-06T10:50:31.017Z"
   },
   {
    "duration": 68,
    "start_time": "2024-03-06T10:50:31.077Z"
   },
   {
    "duration": 67,
    "start_time": "2024-03-06T10:50:31.149Z"
   },
   {
    "duration": 85,
    "start_time": "2024-03-06T10:50:31.218Z"
   },
   {
    "duration": 102,
    "start_time": "2024-03-06T10:50:31.305Z"
   },
   {
    "duration": 38,
    "start_time": "2024-03-06T10:52:21.616Z"
   },
   {
    "duration": 38,
    "start_time": "2024-03-06T10:54:33.761Z"
   },
   {
    "duration": 24,
    "start_time": "2024-03-06T10:56:37.686Z"
   },
   {
    "duration": 1960,
    "start_time": "2024-03-06T11:03:02.184Z"
   },
   {
    "duration": 307,
    "start_time": "2024-03-06T11:03:24.067Z"
   },
   {
    "duration": 194,
    "start_time": "2024-03-06T11:04:03.304Z"
   },
   {
    "duration": 17,
    "start_time": "2024-03-06T11:04:38.415Z"
   },
   {
    "duration": 18,
    "start_time": "2024-03-06T11:07:45.597Z"
   },
   {
    "duration": 17,
    "start_time": "2024-03-06T11:08:12.202Z"
   },
   {
    "duration": 16,
    "start_time": "2024-03-06T11:08:38.884Z"
   },
   {
    "duration": 16,
    "start_time": "2024-03-06T11:11:16.323Z"
   },
   {
    "duration": 5,
    "start_time": "2024-03-06T11:11:33.918Z"
   },
   {
    "duration": 960,
    "start_time": "2024-03-06T11:11:34.745Z"
   },
   {
    "duration": 15,
    "start_time": "2024-03-06T11:11:35.708Z"
   },
   {
    "duration": 205,
    "start_time": "2024-03-06T11:11:35.725Z"
   },
   {
    "duration": 108,
    "start_time": "2024-03-06T11:11:35.933Z"
   },
   {
    "duration": 17,
    "start_time": "2024-03-06T11:11:36.562Z"
   },
   {
    "duration": 11,
    "start_time": "2024-03-06T11:11:36.825Z"
   },
   {
    "duration": 5,
    "start_time": "2024-03-06T11:11:37.615Z"
   },
   {
    "duration": 11,
    "start_time": "2024-03-06T11:11:37.822Z"
   },
   {
    "duration": 39,
    "start_time": "2024-03-06T11:11:38.412Z"
   },
   {
    "duration": 37,
    "start_time": "2024-03-06T11:11:38.673Z"
   },
   {
    "duration": 24,
    "start_time": "2024-03-06T11:11:39.262Z"
   },
   {
    "duration": 181,
    "start_time": "2024-03-06T11:11:39.973Z"
   },
   {
    "duration": 18,
    "start_time": "2024-03-06T11:11:40.881Z"
   },
   {
    "duration": 18,
    "start_time": "2024-03-06T11:11:42.411Z"
   },
   {
    "duration": 15,
    "start_time": "2024-03-06T11:12:26.632Z"
   },
   {
    "duration": 18,
    "start_time": "2024-03-06T11:12:42.692Z"
   },
   {
    "duration": 20,
    "start_time": "2024-03-06T11:14:51.552Z"
   },
   {
    "duration": 3063,
    "start_time": "2024-03-06T11:16:14.081Z"
   },
   {
    "duration": 7,
    "start_time": "2024-03-06T11:16:17.147Z"
   },
   {
    "duration": 994,
    "start_time": "2024-03-06T11:16:17.156Z"
   },
   {
    "duration": 15,
    "start_time": "2024-03-06T11:16:18.152Z"
   },
   {
    "duration": 186,
    "start_time": "2024-03-06T11:16:18.170Z"
   },
   {
    "duration": 97,
    "start_time": "2024-03-06T11:16:19.603Z"
   },
   {
    "duration": 16,
    "start_time": "2024-03-06T11:16:22.880Z"
   },
   {
    "duration": 11,
    "start_time": "2024-03-06T11:16:23.823Z"
   },
   {
    "duration": 4,
    "start_time": "2024-03-06T11:16:25.643Z"
   },
   {
    "duration": 11,
    "start_time": "2024-03-06T11:16:26.694Z"
   },
   {
    "duration": 40,
    "start_time": "2024-03-06T11:16:28.883Z"
   },
   {
    "duration": 58,
    "start_time": "2024-03-06T11:16:29.982Z"
   },
   {
    "duration": 37,
    "start_time": "2024-03-06T11:16:32.585Z"
   },
   {
    "duration": 175,
    "start_time": "2024-03-06T11:16:35.774Z"
   },
   {
    "duration": 18,
    "start_time": "2024-03-06T11:16:37.023Z"
   },
   {
    "duration": 21,
    "start_time": "2024-03-06T11:16:39.392Z"
   },
   {
    "duration": 39,
    "start_time": "2024-03-06T11:16:44.712Z"
   },
   {
    "duration": 24,
    "start_time": "2024-03-06T11:16:45.893Z"
   },
   {
    "duration": 16,
    "start_time": "2024-03-06T11:16:47.938Z"
   },
   {
    "duration": 15,
    "start_time": "2024-03-06T11:17:28.873Z"
   },
   {
    "duration": 15,
    "start_time": "2024-03-06T11:17:45.446Z"
   },
   {
    "duration": 16,
    "start_time": "2024-03-06T11:18:11.830Z"
   },
   {
    "duration": 175,
    "start_time": "2024-03-06T11:18:25.446Z"
   },
   {
    "duration": 18,
    "start_time": "2024-03-06T11:18:45.343Z"
   },
   {
    "duration": 19,
    "start_time": "2024-03-06T11:18:46.924Z"
   },
   {
    "duration": 1535,
    "start_time": "2024-03-06T11:19:47.047Z"
   },
   {
    "duration": 16,
    "start_time": "2024-03-06T11:19:53.972Z"
   },
   {
    "duration": 15,
    "start_time": "2024-03-06T11:20:06.894Z"
   },
   {
    "duration": 134,
    "start_time": "2024-03-06T11:21:33.433Z"
   },
   {
    "duration": 9300,
    "start_time": "2024-03-06T11:22:29.433Z"
   },
   {
    "duration": 27,
    "start_time": "2024-03-06T11:22:38.736Z"
   },
   {
    "duration": 67,
    "start_time": "2024-03-06T11:22:59.113Z"
   },
   {
    "duration": 1970,
    "start_time": "2024-03-06T11:23:06.075Z"
   },
   {
    "duration": 970,
    "start_time": "2024-03-06T11:23:09.096Z"
   },
   {
    "duration": 26,
    "start_time": "2024-03-06T11:23:10.068Z"
   },
   {
    "duration": 207,
    "start_time": "2024-03-06T11:23:10.096Z"
   },
   {
    "duration": 110,
    "start_time": "2024-03-06T11:23:10.306Z"
   },
   {
    "duration": 30,
    "start_time": "2024-03-06T11:23:11.101Z"
   },
   {
    "duration": 11,
    "start_time": "2024-03-06T11:23:11.415Z"
   },
   {
    "duration": 4,
    "start_time": "2024-03-06T11:23:12.454Z"
   },
   {
    "duration": 12,
    "start_time": "2024-03-06T11:23:12.784Z"
   },
   {
    "duration": 30,
    "start_time": "2024-03-06T11:23:13.422Z"
   },
   {
    "duration": 48,
    "start_time": "2024-03-06T11:23:14.494Z"
   },
   {
    "duration": 30,
    "start_time": "2024-03-06T11:23:15.767Z"
   },
   {
    "duration": 181,
    "start_time": "2024-03-06T11:23:16.953Z"
   },
   {
    "duration": 20,
    "start_time": "2024-03-06T11:23:18.054Z"
   },
   {
    "duration": 36,
    "start_time": "2024-03-06T11:23:22.696Z"
   },
   {
    "duration": 29,
    "start_time": "2024-03-06T11:23:42.743Z"
   },
   {
    "duration": 26,
    "start_time": "2024-03-06T11:23:43.523Z"
   },
   {
    "duration": 22,
    "start_time": "2024-03-06T11:23:44.812Z"
   },
   {
    "duration": 48,
    "start_time": "2024-03-06T11:23:47.024Z"
   },
   {
    "duration": 40,
    "start_time": "2024-03-06T11:24:05.703Z"
   },
   {
    "duration": 19,
    "start_time": "2024-03-06T11:26:52.474Z"
   },
   {
    "duration": 209,
    "start_time": "2024-03-06T11:27:35.914Z"
   },
   {
    "duration": 24,
    "start_time": "2024-03-06T11:29:42.285Z"
   },
   {
    "duration": 105,
    "start_time": "2024-03-06T11:30:10.384Z"
   },
   {
    "duration": 44,
    "start_time": "2024-03-06T11:31:13.148Z"
   },
   {
    "duration": 34,
    "start_time": "2024-03-06T11:32:34.464Z"
   },
   {
    "duration": 20,
    "start_time": "2024-03-06T11:39:05.213Z"
   },
   {
    "duration": 373,
    "start_time": "2024-03-06T11:39:34.542Z"
   },
   {
    "duration": 25,
    "start_time": "2024-03-06T11:41:31.016Z"
   },
   {
    "duration": 48,
    "start_time": "2024-03-06T11:44:26.321Z"
   },
   {
    "duration": 221,
    "start_time": "2024-03-06T11:46:10.145Z"
   },
   {
    "duration": 25,
    "start_time": "2024-03-06T11:47:49.545Z"
   },
   {
    "duration": 104,
    "start_time": "2024-03-06T11:49:11.467Z"
   },
   {
    "duration": 108,
    "start_time": "2024-03-06T11:49:28.535Z"
   },
   {
    "duration": 85,
    "start_time": "2024-03-06T11:49:46.157Z"
   },
   {
    "duration": 131,
    "start_time": "2024-03-06T11:50:23.769Z"
   },
   {
    "duration": 224,
    "start_time": "2024-03-06T11:56:15.108Z"
   },
   {
    "duration": 12,
    "start_time": "2024-03-06T12:05:59.777Z"
   },
   {
    "duration": 5,
    "start_time": "2024-03-06T12:17:45.416Z"
   },
   {
    "duration": 172,
    "start_time": "2024-03-06T12:25:00.288Z"
   },
   {
    "duration": 6,
    "start_time": "2024-03-06T12:40:49.884Z"
   },
   {
    "duration": 8,
    "start_time": "2024-03-06T12:41:37.393Z"
   },
   {
    "duration": 3,
    "start_time": "2024-03-06T12:41:50.549Z"
   },
   {
    "duration": 20,
    "start_time": "2024-03-06T12:43:00.511Z"
   },
   {
    "duration": 6,
    "start_time": "2024-03-06T12:44:29.953Z"
   },
   {
    "duration": 6,
    "start_time": "2024-03-06T12:44:38.790Z"
   },
   {
    "duration": 12,
    "start_time": "2024-03-06T12:45:02.189Z"
   },
   {
    "duration": 635,
    "start_time": "2024-03-06T12:46:27.479Z"
   },
   {
    "duration": 790,
    "start_time": "2024-03-06T12:47:04.267Z"
   },
   {
    "duration": 1015475,
    "start_time": "2024-03-06T12:48:31.833Z"
   },
   {
    "duration": 6,
    "start_time": "2024-03-06T13:37:16.034Z"
   },
   {
    "duration": 30,
    "start_time": "2024-03-06T13:37:16.044Z"
   },
   {
    "duration": 432,
    "start_time": "2024-03-06T13:37:16.077Z"
   },
   {
    "duration": 62,
    "start_time": "2024-03-06T13:37:16.513Z"
   },
   {
    "duration": 27,
    "start_time": "2024-03-06T13:37:16.578Z"
   },
   {
    "duration": 6,
    "start_time": "2024-03-06T13:37:58.846Z"
   },
   {
    "duration": 24067,
    "start_time": "2024-03-06T13:38:07.203Z"
   },
   {
    "duration": 12,
    "start_time": "2024-03-06T13:38:44.592Z"
   },
   {
    "duration": 2556601,
    "start_time": "2024-03-06T13:43:33.994Z"
   },
   {
    "duration": 12,
    "start_time": "2024-03-06T14:26:24.655Z"
   },
   {
    "duration": 160,
    "start_time": "2024-03-06T14:26:25.954Z"
   },
   {
    "duration": 37,
    "start_time": "2024-03-06T14:26:27.315Z"
   },
   {
    "duration": 8,
    "start_time": "2024-03-07T05:21:15.563Z"
   },
   {
    "duration": 43,
    "start_time": "2024-03-07T05:21:54.562Z"
   },
   {
    "duration": 1634,
    "start_time": "2024-03-07T05:22:02.715Z"
   },
   {
    "duration": 1143,
    "start_time": "2024-03-07T05:22:08.292Z"
   },
   {
    "duration": 18,
    "start_time": "2024-03-07T05:22:09.436Z"
   },
   {
    "duration": 147,
    "start_time": "2024-03-07T05:22:09.612Z"
   },
   {
    "duration": 76,
    "start_time": "2024-03-07T05:22:59.654Z"
   },
   {
    "duration": 2742,
    "start_time": "2024-03-07T05:27:02.893Z"
   },
   {
    "duration": 9984,
    "start_time": "2024-03-07T05:27:05.637Z"
   },
   {
    "duration": 5,
    "start_time": "2024-03-07T05:27:15.623Z"
   },
   {
    "duration": 859,
    "start_time": "2024-03-07T05:27:15.630Z"
   },
   {
    "duration": 13,
    "start_time": "2024-03-07T05:27:16.492Z"
   },
   {
    "duration": 159,
    "start_time": "2024-03-07T05:27:16.506Z"
   },
   {
    "duration": 132,
    "start_time": "2024-03-07T05:27:16.667Z"
   },
   {
    "duration": 22,
    "start_time": "2024-03-07T05:27:16.801Z"
   },
   {
    "duration": 22,
    "start_time": "2024-03-07T05:27:16.824Z"
   },
   {
    "duration": 27,
    "start_time": "2024-03-07T05:27:16.848Z"
   },
   {
    "duration": 31,
    "start_time": "2024-03-07T05:27:16.876Z"
   },
   {
    "duration": 39,
    "start_time": "2024-03-07T05:27:16.909Z"
   },
   {
    "duration": 191,
    "start_time": "2024-03-07T05:27:16.950Z"
   },
   {
    "duration": 25,
    "start_time": "2024-03-07T05:27:17.145Z"
   },
   {
    "duration": 0,
    "start_time": "2024-03-07T05:27:17.173Z"
   },
   {
    "duration": 0,
    "start_time": "2024-03-07T05:27:17.174Z"
   },
   {
    "duration": 0,
    "start_time": "2024-03-07T05:27:17.176Z"
   },
   {
    "duration": 0,
    "start_time": "2024-03-07T05:27:17.177Z"
   },
   {
    "duration": 0,
    "start_time": "2024-03-07T05:27:17.179Z"
   },
   {
    "duration": 0,
    "start_time": "2024-03-07T05:27:17.180Z"
   },
   {
    "duration": 0,
    "start_time": "2024-03-07T05:27:17.181Z"
   },
   {
    "duration": 0,
    "start_time": "2024-03-07T05:27:17.183Z"
   },
   {
    "duration": 0,
    "start_time": "2024-03-07T05:27:17.184Z"
   },
   {
    "duration": 0,
    "start_time": "2024-03-07T05:27:17.186Z"
   },
   {
    "duration": 0,
    "start_time": "2024-03-07T05:27:17.187Z"
   },
   {
    "duration": 0,
    "start_time": "2024-03-07T05:27:17.188Z"
   },
   {
    "duration": 0,
    "start_time": "2024-03-07T05:27:17.189Z"
   },
   {
    "duration": 0,
    "start_time": "2024-03-07T05:27:17.190Z"
   },
   {
    "duration": 0,
    "start_time": "2024-03-07T05:27:17.191Z"
   },
   {
    "duration": 0,
    "start_time": "2024-03-07T05:27:17.192Z"
   },
   {
    "duration": 0,
    "start_time": "2024-03-07T05:27:17.194Z"
   },
   {
    "duration": 0,
    "start_time": "2024-03-07T05:27:17.195Z"
   },
   {
    "duration": 0,
    "start_time": "2024-03-07T05:27:17.196Z"
   },
   {
    "duration": 0,
    "start_time": "2024-03-07T05:27:17.197Z"
   },
   {
    "duration": 0,
    "start_time": "2024-03-07T05:27:17.198Z"
   },
   {
    "duration": 0,
    "start_time": "2024-03-07T05:27:17.199Z"
   },
   {
    "duration": 0,
    "start_time": "2024-03-07T05:27:17.200Z"
   },
   {
    "duration": 0,
    "start_time": "2024-03-07T05:27:17.201Z"
   },
   {
    "duration": 0,
    "start_time": "2024-03-07T05:27:17.202Z"
   },
   {
    "duration": 0,
    "start_time": "2024-03-07T05:27:17.203Z"
   },
   {
    "duration": 0,
    "start_time": "2024-03-07T05:27:17.204Z"
   },
   {
    "duration": 0,
    "start_time": "2024-03-07T05:27:17.205Z"
   },
   {
    "duration": 0,
    "start_time": "2024-03-07T05:27:17.206Z"
   },
   {
    "duration": 1,
    "start_time": "2024-03-07T05:27:17.264Z"
   },
   {
    "duration": 0,
    "start_time": "2024-03-07T05:27:17.266Z"
   },
   {
    "duration": 0,
    "start_time": "2024-03-07T05:27:17.267Z"
   },
   {
    "duration": 0,
    "start_time": "2024-03-07T05:27:17.268Z"
   },
   {
    "duration": 0,
    "start_time": "2024-03-07T05:27:17.270Z"
   },
   {
    "duration": 0,
    "start_time": "2024-03-07T05:27:17.271Z"
   },
   {
    "duration": 0,
    "start_time": "2024-03-07T05:27:17.272Z"
   },
   {
    "duration": 0,
    "start_time": "2024-03-07T05:27:17.273Z"
   },
   {
    "duration": 0,
    "start_time": "2024-03-07T05:27:17.274Z"
   },
   {
    "duration": 0,
    "start_time": "2024-03-07T05:27:17.275Z"
   },
   {
    "duration": 0,
    "start_time": "2024-03-07T05:27:17.276Z"
   },
   {
    "duration": 0,
    "start_time": "2024-03-07T05:27:17.278Z"
   },
   {
    "duration": 0,
    "start_time": "2024-03-07T05:27:17.279Z"
   },
   {
    "duration": 0,
    "start_time": "2024-03-07T05:27:17.280Z"
   },
   {
    "duration": 0,
    "start_time": "2024-03-07T05:27:17.281Z"
   },
   {
    "duration": 0,
    "start_time": "2024-03-07T05:27:17.282Z"
   },
   {
    "duration": 0,
    "start_time": "2024-03-07T05:27:17.283Z"
   },
   {
    "duration": 0,
    "start_time": "2024-03-07T05:27:17.284Z"
   },
   {
    "duration": 0,
    "start_time": "2024-03-07T05:27:17.285Z"
   },
   {
    "duration": 0,
    "start_time": "2024-03-07T05:27:17.286Z"
   },
   {
    "duration": 1738,
    "start_time": "2024-03-07T05:27:58.446Z"
   },
   {
    "duration": 774,
    "start_time": "2024-03-07T05:28:00.186Z"
   },
   {
    "duration": 16,
    "start_time": "2024-03-07T05:28:00.962Z"
   },
   {
    "duration": 164,
    "start_time": "2024-03-07T05:28:01.763Z"
   },
   {
    "duration": 78,
    "start_time": "2024-03-07T05:28:02.153Z"
   },
   {
    "duration": 21,
    "start_time": "2024-03-07T05:28:03.692Z"
   },
   {
    "duration": 9,
    "start_time": "2024-03-07T05:28:04.043Z"
   },
   {
    "duration": 3,
    "start_time": "2024-03-07T05:28:05.283Z"
   },
   {
    "duration": 9,
    "start_time": "2024-03-07T05:28:05.692Z"
   },
   {
    "duration": 16,
    "start_time": "2024-03-07T05:28:06.652Z"
   },
   {
    "duration": 179,
    "start_time": "2024-03-07T05:28:07.175Z"
   },
   {
    "duration": 18,
    "start_time": "2024-03-07T05:28:07.589Z"
   },
   {
    "duration": 110,
    "start_time": "2024-03-07T05:28:09.377Z"
   },
   {
    "duration": 25,
    "start_time": "2024-03-07T05:28:10.403Z"
   },
   {
    "duration": 33,
    "start_time": "2024-03-07T05:28:10.763Z"
   },
   {
    "duration": 24,
    "start_time": "2024-03-07T05:28:11.374Z"
   },
   {
    "duration": 158,
    "start_time": "2024-03-07T05:28:11.985Z"
   },
   {
    "duration": 15,
    "start_time": "2024-03-07T05:28:12.197Z"
   },
   {
    "duration": 32,
    "start_time": "2024-03-07T05:28:13.022Z"
   },
   {
    "duration": 25,
    "start_time": "2024-03-07T05:28:13.641Z"
   },
   {
    "duration": 22,
    "start_time": "2024-03-07T05:28:14.324Z"
   },
   {
    "duration": 17,
    "start_time": "2024-03-07T05:28:14.929Z"
   },
   {
    "duration": 351,
    "start_time": "2024-03-07T05:28:15.636Z"
   },
   {
    "duration": 30,
    "start_time": "2024-03-07T05:28:16.453Z"
   },
   {
    "duration": 41,
    "start_time": "2024-03-07T05:28:17.673Z"
   },
   {
    "duration": 237,
    "start_time": "2024-03-07T05:28:18.503Z"
   },
   {
    "duration": 23,
    "start_time": "2024-03-07T05:28:19.186Z"
   },
   {
    "duration": 107,
    "start_time": "2024-03-07T05:28:20.036Z"
   },
   {
    "duration": 85,
    "start_time": "2024-03-07T05:28:20.635Z"
   },
   {
    "duration": 80,
    "start_time": "2024-03-07T05:28:21.053Z"
   },
   {
    "duration": 143,
    "start_time": "2024-03-07T05:28:21.635Z"
   },
   {
    "duration": 226,
    "start_time": "2024-03-07T05:28:22.755Z"
   },
   {
    "duration": 105,
    "start_time": "2024-03-07T05:28:23.874Z"
   },
   {
    "duration": 4,
    "start_time": "2024-03-07T05:28:26.016Z"
   },
   {
    "duration": 3,
    "start_time": "2024-03-07T05:28:27.025Z"
   },
   {
    "duration": 2,
    "start_time": "2024-03-07T05:28:27.594Z"
   },
   {
    "duration": 4,
    "start_time": "2024-03-07T05:28:28.363Z"
   },
   {
    "duration": 3,
    "start_time": "2024-03-07T05:28:28.707Z"
   },
   {
    "duration": 267,
    "start_time": "2024-03-07T05:28:29.843Z"
   },
   {
    "duration": 423,
    "start_time": "2024-03-07T05:28:30.232Z"
   },
   {
    "duration": 469198,
    "start_time": "2024-03-07T05:28:30.874Z"
   },
   {
    "duration": 4,
    "start_time": "2024-03-07T05:36:20.074Z"
   },
   {
    "duration": 11,
    "start_time": "2024-03-07T05:36:20.079Z"
   },
   {
    "duration": 464,
    "start_time": "2024-03-07T05:36:20.092Z"
   },
   {
    "duration": 62,
    "start_time": "2024-03-07T05:36:20.558Z"
   },
   {
    "duration": 21423,
    "start_time": "2024-03-07T05:36:20.622Z"
   },
   {
    "duration": 20,
    "start_time": "2024-03-07T05:36:42.046Z"
   },
   {
    "duration": 2219609,
    "start_time": "2024-03-07T05:36:42.068Z"
   },
   {
    "duration": 9,
    "start_time": "2024-03-07T06:13:41.678Z"
   },
   {
    "duration": 156,
    "start_time": "2024-03-07T06:13:41.689Z"
   },
   {
    "duration": 32,
    "start_time": "2024-03-07T06:13:41.847Z"
   },
   {
    "duration": 10047010,
    "start_time": "2024-03-07T06:13:41.881Z"
   },
   {
    "duration": 13,
    "start_time": "2024-03-07T09:01:08.893Z"
   },
   {
    "duration": 142,
    "start_time": "2024-03-07T09:01:08.908Z"
   },
   {
    "duration": 0,
    "start_time": "2024-03-07T09:01:09.051Z"
   },
   {
    "duration": 0,
    "start_time": "2024-03-07T09:01:09.052Z"
   },
   {
    "duration": 0,
    "start_time": "2024-03-07T09:01:09.053Z"
   },
   {
    "duration": 0,
    "start_time": "2024-03-07T09:01:09.054Z"
   },
   {
    "duration": 0,
    "start_time": "2024-03-07T09:01:09.055Z"
   },
   {
    "duration": 0,
    "start_time": "2024-03-07T09:01:09.056Z"
   },
   {
    "duration": 0,
    "start_time": "2024-03-07T09:01:09.057Z"
   },
   {
    "duration": 5,
    "start_time": "2024-03-07T09:05:12.933Z"
   },
   {
    "duration": 7227819,
    "start_time": "2024-03-07T09:05:28.158Z"
   },
   {
    "duration": 11,
    "start_time": "2024-03-07T11:06:37.419Z"
   },
   {
    "duration": 4,
    "start_time": "2024-03-07T11:07:06.520Z"
   },
   {
    "duration": 19838,
    "start_time": "2024-03-07T11:07:08.329Z"
   },
   {
    "duration": 588,
    "start_time": "2024-03-07T11:09:28.740Z"
   },
   {
    "duration": 58885,
    "start_time": "2024-03-07T11:09:38.296Z"
   },
   {
    "duration": 189023,
    "start_time": "2024-03-07T11:10:51.399Z"
   },
   {
    "duration": 98649,
    "start_time": "2024-03-07T11:14:06.819Z"
   },
   {
    "duration": 46,
    "start_time": "2024-03-07T13:58:44.319Z"
   },
   {
    "duration": 1614,
    "start_time": "2024-03-07T13:59:00.446Z"
   },
   {
    "duration": 1053,
    "start_time": "2024-03-07T13:59:02.375Z"
   },
   {
    "duration": 18,
    "start_time": "2024-03-07T13:59:03.430Z"
   },
   {
    "duration": 147,
    "start_time": "2024-03-07T13:59:03.614Z"
   },
   {
    "duration": 93,
    "start_time": "2024-03-07T13:59:04.680Z"
   },
   {
    "duration": 22,
    "start_time": "2024-03-07T13:59:07.911Z"
   },
   {
    "duration": 9,
    "start_time": "2024-03-07T13:59:08.280Z"
   },
   {
    "duration": 4,
    "start_time": "2024-03-07T13:59:10.291Z"
   },
   {
    "duration": 10,
    "start_time": "2024-03-07T13:59:10.863Z"
   },
   {
    "duration": 20,
    "start_time": "2024-03-07T13:59:12.927Z"
   },
   {
    "duration": 184,
    "start_time": "2024-03-07T13:59:13.489Z"
   },
   {
    "duration": 32,
    "start_time": "2024-03-07T13:59:14.091Z"
   },
   {
    "duration": 14,
    "start_time": "2024-03-07T13:59:36.551Z"
   },
   {
    "duration": 80,
    "start_time": "2024-03-07T14:02:57.247Z"
   },
   {
    "duration": 3372,
    "start_time": "2024-03-07T14:04:08.858Z"
   },
   {
    "duration": 55,
    "start_time": "2024-03-07T14:04:24.619Z"
   },
   {
    "duration": 840,
    "start_time": "2024-03-07T14:04:34.879Z"
   },
   {
    "duration": 821,
    "start_time": "2024-03-07T14:06:13.699Z"
   },
   {
    "duration": 5429,
    "start_time": "2024-03-07T14:08:42.283Z"
   },
   {
    "duration": 5,
    "start_time": "2024-03-07T14:08:53.291Z"
   },
   {
    "duration": 775,
    "start_time": "2024-03-07T14:08:54.111Z"
   },
   {
    "duration": 15,
    "start_time": "2024-03-07T14:08:54.888Z"
   },
   {
    "duration": 172,
    "start_time": "2024-03-07T14:08:54.904Z"
   },
   {
    "duration": 86,
    "start_time": "2024-03-07T14:08:55.078Z"
   },
   {
    "duration": 15,
    "start_time": "2024-03-07T14:08:55.892Z"
   },
   {
    "duration": 13,
    "start_time": "2024-03-07T14:08:56.138Z"
   },
   {
    "duration": 2,
    "start_time": "2024-03-07T14:08:56.880Z"
   },
   {
    "duration": 10,
    "start_time": "2024-03-07T14:08:57.165Z"
   },
   {
    "duration": 16,
    "start_time": "2024-03-07T14:08:58.145Z"
   },
   {
    "duration": 183,
    "start_time": "2024-03-07T14:08:58.708Z"
   },
   {
    "duration": 13,
    "start_time": "2024-03-07T14:08:59.172Z"
   },
   {
    "duration": 38,
    "start_time": "2024-03-07T14:09:00.591Z"
   },
   {
    "duration": 33,
    "start_time": "2024-03-07T14:09:01.467Z"
   },
   {
    "duration": 41,
    "start_time": "2024-03-07T14:09:01.952Z"
   },
   {
    "duration": 20,
    "start_time": "2024-03-07T14:09:02.795Z"
   },
   {
    "duration": 160,
    "start_time": "2024-03-07T14:09:04.331Z"
   },
   {
    "duration": 15,
    "start_time": "2024-03-07T14:09:04.571Z"
   },
   {
    "duration": 34,
    "start_time": "2024-03-07T14:09:04.982Z"
   },
   {
    "duration": 35,
    "start_time": "2024-03-07T14:09:05.954Z"
   },
   {
    "duration": 20,
    "start_time": "2024-03-07T14:09:06.597Z"
   },
   {
    "duration": 15,
    "start_time": "2024-03-07T14:09:07.353Z"
   },
   {
    "duration": 400,
    "start_time": "2024-03-07T14:09:07.586Z"
   },
   {
    "duration": 21,
    "start_time": "2024-03-07T14:09:08.218Z"
   },
   {
    "duration": 36,
    "start_time": "2024-03-07T14:09:09.565Z"
   },
   {
    "duration": 226,
    "start_time": "2024-03-07T14:09:10.747Z"
   },
   {
    "duration": 34,
    "start_time": "2024-03-07T14:09:11.421Z"
   },
   {
    "duration": 83,
    "start_time": "2024-03-07T14:09:12.671Z"
   },
   {
    "duration": 90,
    "start_time": "2024-03-07T14:09:13.619Z"
   },
   {
    "duration": 81,
    "start_time": "2024-03-07T14:09:14.023Z"
   },
   {
    "duration": 152,
    "start_time": "2024-03-07T14:09:14.467Z"
   },
   {
    "duration": 208,
    "start_time": "2024-03-07T14:09:15.359Z"
   },
   {
    "duration": 82,
    "start_time": "2024-03-07T14:09:16.525Z"
   },
   {
    "duration": 4958,
    "start_time": "2024-03-07T14:09:18.150Z"
   },
   {
    "duration": 4825,
    "start_time": "2024-03-07T14:09:23.110Z"
   },
   {
    "duration": 5945,
    "start_time": "2024-03-07T14:09:48.062Z"
   },
   {
    "duration": 5,
    "start_time": "2024-03-07T14:18:43.567Z"
   },
   {
    "duration": 5,
    "start_time": "2024-03-07T14:19:11.863Z"
   },
   {
    "duration": 12,
    "start_time": "2024-03-07T14:23:30.286Z"
   },
   {
    "duration": 1166,
    "start_time": "2024-03-07T14:24:25.123Z"
   },
   {
    "duration": 1140,
    "start_time": "2024-03-07T14:24:55.654Z"
   },
   {
    "duration": 1131,
    "start_time": "2024-03-07T14:25:16.243Z"
   },
   {
    "duration": 106,
    "start_time": "2024-03-07T14:30:22.251Z"
   },
   {
    "duration": 1157,
    "start_time": "2024-03-07T14:30:30.831Z"
   },
   {
    "duration": 1078,
    "start_time": "2024-03-07T14:32:51.105Z"
   },
   {
    "duration": 1155,
    "start_time": "2024-03-07T14:34:40.033Z"
   },
   {
    "duration": 5,
    "start_time": "2024-03-07T14:35:19.828Z"
   },
   {
    "duration": 735,
    "start_time": "2024-03-07T14:35:20.718Z"
   },
   {
    "duration": 12,
    "start_time": "2024-03-07T14:35:21.455Z"
   },
   {
    "duration": 244,
    "start_time": "2024-03-07T14:35:21.469Z"
   },
   {
    "duration": 82,
    "start_time": "2024-03-07T14:35:21.718Z"
   },
   {
    "duration": 71,
    "start_time": "2024-03-07T14:35:24.223Z"
   },
   {
    "duration": 14,
    "start_time": "2024-03-07T14:37:57.868Z"
   },
   {
    "duration": 21,
    "start_time": "2024-03-07T14:38:14.340Z"
   },
   {
    "duration": 10,
    "start_time": "2024-03-07T14:38:14.644Z"
   },
   {
    "duration": 2,
    "start_time": "2024-03-07T14:38:15.537Z"
   },
   {
    "duration": 10,
    "start_time": "2024-03-07T14:38:15.867Z"
   },
   {
    "duration": 15,
    "start_time": "2024-03-07T14:38:17.164Z"
   },
   {
    "duration": 167,
    "start_time": "2024-03-07T14:38:17.667Z"
   },
   {
    "duration": 13,
    "start_time": "2024-03-07T14:38:18.387Z"
   },
   {
    "duration": 8,
    "start_time": "2024-03-07T14:38:31.170Z"
   },
   {
    "duration": 21,
    "start_time": "2024-03-07T14:38:48.591Z"
   },
   {
    "duration": 9,
    "start_time": "2024-03-07T15:04:11.132Z"
   },
   {
    "duration": 8,
    "start_time": "2024-03-07T15:04:15.704Z"
   },
   {
    "duration": 5,
    "start_time": "2024-03-07T15:04:30.256Z"
   },
   {
    "duration": 793,
    "start_time": "2024-03-07T15:04:31.089Z"
   },
   {
    "duration": 12,
    "start_time": "2024-03-07T15:04:31.884Z"
   },
   {
    "duration": 163,
    "start_time": "2024-03-07T15:04:31.897Z"
   },
   {
    "duration": 83,
    "start_time": "2024-03-07T15:04:32.062Z"
   },
   {
    "duration": 78,
    "start_time": "2024-03-07T15:04:32.147Z"
   },
   {
    "duration": 19,
    "start_time": "2024-03-07T15:04:32.227Z"
   },
   {
    "duration": 9,
    "start_time": "2024-03-07T15:04:32.247Z"
   },
   {
    "duration": 3,
    "start_time": "2024-03-07T15:04:32.258Z"
   },
   {
    "duration": 9,
    "start_time": "2024-03-07T15:04:32.262Z"
   },
   {
    "duration": 15,
    "start_time": "2024-03-07T15:04:32.273Z"
   },
   {
    "duration": 178,
    "start_time": "2024-03-07T15:04:32.583Z"
   },
   {
    "duration": 7,
    "start_time": "2024-03-07T15:04:33.130Z"
   },
   {
    "duration": 34,
    "start_time": "2024-03-07T15:04:33.281Z"
   },
   {
    "duration": 34,
    "start_time": "2024-03-07T15:04:33.374Z"
   },
   {
    "duration": 32,
    "start_time": "2024-03-07T15:04:33.414Z"
   },
   {
    "duration": 19,
    "start_time": "2024-03-07T15:04:33.504Z"
   },
   {
    "duration": 137,
    "start_time": "2024-03-07T15:04:33.600Z"
   },
   {
    "duration": 15,
    "start_time": "2024-03-07T15:04:33.739Z"
   },
   {
    "duration": 22,
    "start_time": "2024-03-07T15:04:33.755Z"
   },
   {
    "duration": 33,
    "start_time": "2024-03-07T15:04:33.848Z"
   },
   {
    "duration": 19,
    "start_time": "2024-03-07T15:04:33.915Z"
   },
   {
    "duration": 14,
    "start_time": "2024-03-07T15:04:34.007Z"
   },
   {
    "duration": 355,
    "start_time": "2024-03-07T15:04:34.209Z"
   },
   {
    "duration": 19,
    "start_time": "2024-03-07T15:04:34.684Z"
   },
   {
    "duration": 46,
    "start_time": "2024-03-07T15:04:35.590Z"
   },
   {
    "duration": 194,
    "start_time": "2024-03-07T15:04:36.210Z"
   },
   {
    "duration": 28,
    "start_time": "2024-03-07T15:04:36.406Z"
   },
   {
    "duration": 90,
    "start_time": "2024-03-07T15:04:36.435Z"
   },
   {
    "duration": 74,
    "start_time": "2024-03-07T15:04:36.527Z"
   },
   {
    "duration": 80,
    "start_time": "2024-03-07T15:04:36.603Z"
   },
   {
    "duration": 134,
    "start_time": "2024-03-07T15:04:36.686Z"
   },
   {
    "duration": 209,
    "start_time": "2024-03-07T15:04:36.822Z"
   },
   {
    "duration": 47,
    "start_time": "2024-03-07T15:04:37.033Z"
   },
   {
    "duration": 4112,
    "start_time": "2024-03-07T15:04:37.083Z"
   },
   {
    "duration": 4997,
    "start_time": "2024-03-07T15:04:41.196Z"
   },
   {
    "duration": 4,
    "start_time": "2024-03-07T15:04:46.196Z"
   },
   {
    "duration": 4,
    "start_time": "2024-03-07T15:04:46.202Z"
   },
   {
    "duration": 2,
    "start_time": "2024-03-07T15:04:46.218Z"
   },
   {
    "duration": 3,
    "start_time": "2024-03-07T15:04:46.222Z"
   },
   {
    "duration": 7,
    "start_time": "2024-03-07T15:04:46.226Z"
   },
   {
    "duration": 451,
    "start_time": "2024-03-07T15:04:57.523Z"
   },
   {
    "duration": 404,
    "start_time": "2024-03-07T15:05:01.258Z"
   },
   {
    "duration": 9,
    "start_time": "2024-03-07T15:05:09.900Z"
   },
   {
    "duration": 64,
    "start_time": "2024-03-07T15:05:28.484Z"
   },
   {
    "duration": 8,
    "start_time": "2024-03-07T15:05:59.969Z"
   },
   {
    "duration": 70,
    "start_time": "2024-03-07T15:06:05.145Z"
   },
   {
    "duration": 638,
    "start_time": "2024-03-07T15:06:09.524Z"
   },
   {
    "duration": 1870,
    "start_time": "2024-03-07T15:07:03.106Z"
   },
   {
    "duration": 478,
    "start_time": "2024-03-11T05:28:27.640Z"
   },
   {
    "duration": 1064,
    "start_time": "2024-03-11T05:28:28.249Z"
   },
   {
    "duration": 18,
    "start_time": "2024-03-11T05:28:29.315Z"
   },
   {
    "duration": 144,
    "start_time": "2024-03-11T05:28:29.335Z"
   },
   {
    "duration": 113,
    "start_time": "2024-03-11T05:28:29.481Z"
   },
   {
    "duration": 100,
    "start_time": "2024-03-11T05:28:29.596Z"
   },
   {
    "duration": 31,
    "start_time": "2024-03-11T05:28:29.857Z"
   },
   {
    "duration": 10,
    "start_time": "2024-03-11T05:28:29.898Z"
   },
   {
    "duration": 9,
    "start_time": "2024-03-11T05:28:30.046Z"
   },
   {
    "duration": 21,
    "start_time": "2024-03-11T05:28:30.098Z"
   },
   {
    "duration": 1283,
    "start_time": "2024-03-11T05:28:30.201Z"
   },
   {
    "duration": 1,
    "start_time": "2024-03-11T05:28:31.485Z"
   },
   {
    "duration": 0,
    "start_time": "2024-03-11T05:28:31.487Z"
   },
   {
    "duration": 0,
    "start_time": "2024-03-11T05:28:31.488Z"
   },
   {
    "duration": 0,
    "start_time": "2024-03-11T05:28:31.489Z"
   },
   {
    "duration": 0,
    "start_time": "2024-03-11T05:28:31.490Z"
   },
   {
    "duration": 0,
    "start_time": "2024-03-11T05:28:31.491Z"
   },
   {
    "duration": 0,
    "start_time": "2024-03-11T05:28:31.494Z"
   },
   {
    "duration": 1107,
    "start_time": "2024-03-11T05:28:31.498Z"
   },
   {
    "duration": 0,
    "start_time": "2024-03-11T05:28:32.607Z"
   },
   {
    "duration": 1115,
    "start_time": "2024-03-11T05:28:33.337Z"
   },
   {
    "duration": 0,
    "start_time": "2024-03-11T05:28:34.454Z"
   },
   {
    "duration": 0,
    "start_time": "2024-03-11T05:28:34.455Z"
   },
   {
    "duration": 0,
    "start_time": "2024-03-11T05:28:34.456Z"
   },
   {
    "duration": 0,
    "start_time": "2024-03-11T05:28:34.457Z"
   },
   {
    "duration": 1158,
    "start_time": "2024-03-11T05:28:34.641Z"
   },
   {
    "duration": 3207,
    "start_time": "2024-03-11T05:28:49.041Z"
   },
   {
    "duration": 2294,
    "start_time": "2024-03-11T05:28:52.250Z"
   },
   {
    "duration": 8597,
    "start_time": "2024-03-11T05:28:54.546Z"
   },
   {
    "duration": 1204,
    "start_time": "2024-03-11T05:29:03.145Z"
   },
   {
    "duration": 851,
    "start_time": "2024-03-11T05:29:04.351Z"
   },
   {
    "duration": 13,
    "start_time": "2024-03-11T05:29:05.203Z"
   },
   {
    "duration": 144,
    "start_time": "2024-03-11T05:29:05.217Z"
   },
   {
    "duration": 82,
    "start_time": "2024-03-11T05:29:05.364Z"
   },
   {
    "duration": 85,
    "start_time": "2024-03-11T05:29:05.448Z"
   },
   {
    "duration": 37,
    "start_time": "2024-03-11T05:29:05.535Z"
   },
   {
    "duration": 9,
    "start_time": "2024-03-11T05:29:05.574Z"
   },
   {
    "duration": 21,
    "start_time": "2024-03-11T05:29:05.585Z"
   },
   {
    "duration": 13,
    "start_time": "2024-03-11T05:29:05.607Z"
   },
   {
    "duration": 17,
    "start_time": "2024-03-11T05:29:05.621Z"
   },
   {
    "duration": 211,
    "start_time": "2024-03-11T05:29:05.640Z"
   },
   {
    "duration": 76,
    "start_time": "2024-03-11T05:29:05.853Z"
   },
   {
    "duration": 0,
    "start_time": "2024-03-11T05:29:05.931Z"
   },
   {
    "duration": 0,
    "start_time": "2024-03-11T05:29:05.933Z"
   },
   {
    "duration": 0,
    "start_time": "2024-03-11T05:29:05.934Z"
   },
   {
    "duration": 0,
    "start_time": "2024-03-11T05:29:05.936Z"
   },
   {
    "duration": 0,
    "start_time": "2024-03-11T05:29:05.937Z"
   },
   {
    "duration": 0,
    "start_time": "2024-03-11T05:29:05.938Z"
   },
   {
    "duration": 0,
    "start_time": "2024-03-11T05:29:05.939Z"
   },
   {
    "duration": 0,
    "start_time": "2024-03-11T05:29:05.940Z"
   },
   {
    "duration": 0,
    "start_time": "2024-03-11T05:29:06.031Z"
   },
   {
    "duration": 0,
    "start_time": "2024-03-11T05:29:06.032Z"
   },
   {
    "duration": 0,
    "start_time": "2024-03-11T05:29:06.033Z"
   },
   {
    "duration": 0,
    "start_time": "2024-03-11T05:29:06.034Z"
   },
   {
    "duration": 0,
    "start_time": "2024-03-11T05:29:06.036Z"
   },
   {
    "duration": 0,
    "start_time": "2024-03-11T05:29:06.037Z"
   },
   {
    "duration": 0,
    "start_time": "2024-03-11T05:29:06.038Z"
   },
   {
    "duration": 0,
    "start_time": "2024-03-11T05:29:06.039Z"
   },
   {
    "duration": 0,
    "start_time": "2024-03-11T05:29:06.040Z"
   },
   {
    "duration": 0,
    "start_time": "2024-03-11T05:29:06.067Z"
   },
   {
    "duration": 0,
    "start_time": "2024-03-11T05:29:06.069Z"
   },
   {
    "duration": 0,
    "start_time": "2024-03-11T05:29:06.071Z"
   },
   {
    "duration": 0,
    "start_time": "2024-03-11T05:29:06.072Z"
   },
   {
    "duration": 0,
    "start_time": "2024-03-11T05:29:06.074Z"
   },
   {
    "duration": 0,
    "start_time": "2024-03-11T05:29:06.075Z"
   },
   {
    "duration": 0,
    "start_time": "2024-03-11T05:29:06.076Z"
   },
   {
    "duration": 0,
    "start_time": "2024-03-11T05:29:06.077Z"
   },
   {
    "duration": 0,
    "start_time": "2024-03-11T05:29:06.079Z"
   },
   {
    "duration": 0,
    "start_time": "2024-03-11T05:29:06.080Z"
   },
   {
    "duration": 0,
    "start_time": "2024-03-11T05:29:06.081Z"
   },
   {
    "duration": 0,
    "start_time": "2024-03-11T05:29:06.082Z"
   },
   {
    "duration": 0,
    "start_time": "2024-03-11T05:29:06.083Z"
   },
   {
    "duration": 48,
    "start_time": "2024-03-11T05:39:00.740Z"
   },
   {
    "duration": 1606,
    "start_time": "2024-03-11T05:39:07.179Z"
   },
   {
    "duration": 799,
    "start_time": "2024-03-11T05:39:08.787Z"
   },
   {
    "duration": 15,
    "start_time": "2024-03-11T05:39:09.588Z"
   },
   {
    "duration": 188,
    "start_time": "2024-03-11T05:39:09.605Z"
   },
   {
    "duration": 102,
    "start_time": "2024-03-11T05:39:09.795Z"
   },
   {
    "duration": 102,
    "start_time": "2024-03-11T05:39:11.808Z"
   },
   {
    "duration": 31,
    "start_time": "2024-03-11T05:39:12.486Z"
   },
   {
    "duration": 9,
    "start_time": "2024-03-11T05:39:12.959Z"
   },
   {
    "duration": 3,
    "start_time": "2024-03-11T05:39:14.079Z"
   },
   {
    "duration": 9,
    "start_time": "2024-03-11T05:39:14.519Z"
   },
   {
    "duration": 21,
    "start_time": "2024-03-11T05:39:15.759Z"
   },
   {
    "duration": 186,
    "start_time": "2024-03-11T05:39:16.309Z"
   },
   {
    "duration": 8,
    "start_time": "2024-03-11T05:39:17.039Z"
   },
   {
    "duration": 52,
    "start_time": "2024-03-11T05:39:19.870Z"
   },
   {
    "duration": 29,
    "start_time": "2024-03-11T05:39:20.727Z"
   },
   {
    "duration": 110,
    "start_time": "2024-03-11T05:39:21.077Z"
   },
   {
    "duration": 26,
    "start_time": "2024-03-11T05:39:21.967Z"
   },
   {
    "duration": 140,
    "start_time": "2024-03-11T05:39:23.230Z"
   },
   {
    "duration": 15,
    "start_time": "2024-03-11T05:39:23.615Z"
   },
   {
    "duration": 36,
    "start_time": "2024-03-11T05:39:24.511Z"
   },
   {
    "duration": 28,
    "start_time": "2024-03-11T05:39:26.474Z"
   },
   {
    "duration": 22,
    "start_time": "2024-03-11T05:39:27.325Z"
   },
   {
    "duration": 14,
    "start_time": "2024-03-11T05:39:28.611Z"
   },
   {
    "duration": 337,
    "start_time": "2024-03-11T05:39:28.964Z"
   },
   {
    "duration": 20,
    "start_time": "2024-03-11T05:39:30.265Z"
   },
   {
    "duration": 40,
    "start_time": "2024-03-11T05:39:31.890Z"
   },
   {
    "duration": 188,
    "start_time": "2024-03-11T05:39:33.049Z"
   },
   {
    "duration": 23,
    "start_time": "2024-03-11T05:39:34.159Z"
   },
   {
    "duration": 86,
    "start_time": "2024-03-11T05:39:35.441Z"
   },
   {
    "duration": 82,
    "start_time": "2024-03-11T05:39:36.270Z"
   },
   {
    "duration": 78,
    "start_time": "2024-03-11T05:39:36.954Z"
   },
   {
    "duration": 128,
    "start_time": "2024-03-11T05:39:37.361Z"
   },
   {
    "duration": 224,
    "start_time": "2024-03-11T05:39:38.501Z"
   },
   {
    "duration": 88,
    "start_time": "2024-03-11T05:39:39.931Z"
   },
   {
    "duration": 3908,
    "start_time": "2024-03-11T05:39:40.880Z"
   },
   {
    "duration": 5110,
    "start_time": "2024-03-11T05:39:44.790Z"
   },
   {
    "duration": 3,
    "start_time": "2024-03-11T05:39:55.303Z"
   },
   {
    "duration": 3,
    "start_time": "2024-03-11T05:40:06.039Z"
   },
   {
    "duration": 2,
    "start_time": "2024-03-11T05:40:06.739Z"
   },
   {
    "duration": 3,
    "start_time": "2024-03-11T05:40:11.733Z"
   },
   {
    "duration": 3,
    "start_time": "2024-03-11T05:40:14.082Z"
   },
   {
    "duration": 20,
    "start_time": "2024-03-11T05:41:00.404Z"
   },
   {
    "duration": 73,
    "start_time": "2024-03-11T05:41:01.328Z"
   },
   {
    "duration": 69,
    "start_time": "2024-03-11T06:31:05.673Z"
   },
   {
    "duration": 6,
    "start_time": "2024-03-11T06:32:10.729Z"
   },
   {
    "duration": 91,
    "start_time": "2024-03-11T06:42:01.602Z"
   },
   {
    "duration": 8,
    "start_time": "2024-03-11T06:42:38.911Z"
   },
   {
    "duration": 3,
    "start_time": "2024-03-11T06:42:46.610Z"
   },
   {
    "duration": 9,
    "start_time": "2024-03-11T06:44:24.002Z"
   },
   {
    "duration": 5,
    "start_time": "2024-03-11T06:44:56.916Z"
   },
   {
    "duration": 3,
    "start_time": "2024-03-11T06:45:04.813Z"
   },
   {
    "duration": 3,
    "start_time": "2024-03-11T06:47:13.069Z"
   },
   {
    "duration": 115953,
    "start_time": "2024-03-11T06:49:28.119Z"
   },
   {
    "duration": 9,
    "start_time": "2024-03-11T06:52:26.312Z"
   },
   {
    "duration": 871,
    "start_time": "2024-03-11T06:53:52.041Z"
   },
   {
    "duration": 17,
    "start_time": "2024-03-11T06:57:28.672Z"
   },
   {
    "duration": 9,
    "start_time": "2024-03-11T07:12:26.561Z"
   },
   {
    "duration": 10,
    "start_time": "2024-03-11T07:14:46.503Z"
   },
   {
    "duration": 68,
    "start_time": "2024-03-11T07:21:07.097Z"
   },
   {
    "duration": 16,
    "start_time": "2024-03-11T07:21:21.701Z"
   },
   {
    "duration": 15,
    "start_time": "2024-03-11T07:21:29.121Z"
   },
   {
    "duration": 4,
    "start_time": "2024-03-11T07:23:33.056Z"
   },
   {
    "duration": 3,
    "start_time": "2024-03-11T07:24:03.203Z"
   },
   {
    "duration": 3,
    "start_time": "2024-03-11T07:25:02.542Z"
   },
   {
    "duration": 83,
    "start_time": "2024-03-11T07:26:01.712Z"
   },
   {
    "duration": 12,
    "start_time": "2024-03-11T07:26:13.003Z"
   },
   {
    "duration": 50,
    "start_time": "2024-03-11T07:26:13.532Z"
   },
   {
    "duration": 2,
    "start_time": "2024-03-11T07:26:14.672Z"
   },
   {
    "duration": 3,
    "start_time": "2024-03-11T07:26:15.213Z"
   },
   {
    "duration": 3,
    "start_time": "2024-03-11T07:26:15.562Z"
   },
   {
    "duration": 145,
    "start_time": "2024-03-11T07:26:16.292Z"
   },
   {
    "duration": 9,
    "start_time": "2024-03-11T07:27:35.693Z"
   },
   {
    "duration": 9,
    "start_time": "2024-03-11T07:27:52.973Z"
   },
   {
    "duration": 10,
    "start_time": "2024-03-11T07:28:20.806Z"
   },
   {
    "duration": 2,
    "start_time": "2024-03-11T07:28:33.092Z"
   },
   {
    "duration": 4,
    "start_time": "2024-03-11T07:28:35.826Z"
   },
   {
    "duration": 124,
    "start_time": "2024-03-11T07:28:39.186Z"
   },
   {
    "duration": 4,
    "start_time": "2024-03-11T07:31:04.923Z"
   },
   {
    "duration": 104,
    "start_time": "2024-03-11T07:31:06.193Z"
   },
   {
    "duration": 11,
    "start_time": "2024-03-11T07:34:54.343Z"
   },
   {
    "duration": 301,
    "start_time": "2024-03-11T07:40:38.554Z"
   },
   {
    "duration": 20689,
    "start_time": "2024-03-11T07:41:33.195Z"
   },
   {
    "duration": 2163773,
    "start_time": "2024-03-11T07:44:17.206Z"
   },
   {
    "duration": 2553,
    "start_time": "2024-03-11T18:48:03.437Z"
   },
   {
    "duration": 2752,
    "start_time": "2024-03-11T18:48:05.992Z"
   },
   {
    "duration": 10229,
    "start_time": "2024-03-11T18:48:08.746Z"
   },
   {
    "duration": 1659,
    "start_time": "2024-03-11T18:48:18.977Z"
   },
   {
    "duration": 862,
    "start_time": "2024-03-11T18:48:20.637Z"
   },
   {
    "duration": 20,
    "start_time": "2024-03-11T18:48:21.501Z"
   },
   {
    "duration": 132,
    "start_time": "2024-03-11T18:48:21.522Z"
   },
   {
    "duration": 129,
    "start_time": "2024-03-11T18:48:21.656Z"
   },
   {
    "duration": 94,
    "start_time": "2024-03-11T18:48:21.786Z"
   },
   {
    "duration": 21,
    "start_time": "2024-03-11T18:48:21.881Z"
   },
   {
    "duration": 8,
    "start_time": "2024-03-11T18:48:21.903Z"
   },
   {
    "duration": 3,
    "start_time": "2024-03-11T18:48:21.913Z"
   },
   {
    "duration": 11,
    "start_time": "2024-03-11T18:48:21.918Z"
   },
   {
    "duration": 37,
    "start_time": "2024-03-11T18:48:21.932Z"
   },
   {
    "duration": 297,
    "start_time": "2024-03-11T18:48:21.971Z"
   },
   {
    "duration": 6,
    "start_time": "2024-03-11T18:48:22.270Z"
   },
   {
    "duration": 44,
    "start_time": "2024-03-11T18:48:22.277Z"
   },
   {
    "duration": 34,
    "start_time": "2024-03-11T18:48:22.323Z"
   },
   {
    "duration": 27,
    "start_time": "2024-03-11T18:48:22.359Z"
   },
   {
    "duration": 17,
    "start_time": "2024-03-11T18:48:22.388Z"
   },
   {
    "duration": 272,
    "start_time": "2024-03-11T18:48:22.406Z"
   },
   {
    "duration": 14,
    "start_time": "2024-03-11T18:48:22.680Z"
   },
   {
    "duration": 30,
    "start_time": "2024-03-11T18:48:22.696Z"
   },
   {
    "duration": 31,
    "start_time": "2024-03-11T18:48:22.728Z"
   },
   {
    "duration": 18,
    "start_time": "2024-03-11T18:48:22.761Z"
   },
   {
    "duration": 13,
    "start_time": "2024-03-11T18:48:22.780Z"
   },
   {
    "duration": 1516,
    "start_time": "2024-03-11T18:48:22.794Z"
   },
   {
    "duration": 17,
    "start_time": "2024-03-11T18:48:24.312Z"
   },
   {
    "duration": 42,
    "start_time": "2024-03-11T18:48:24.331Z"
   },
   {
    "duration": 154,
    "start_time": "2024-03-11T18:48:24.374Z"
   },
   {
    "duration": 19,
    "start_time": "2024-03-11T18:48:24.529Z"
   },
   {
    "duration": 75,
    "start_time": "2024-03-11T18:48:24.557Z"
   },
   {
    "duration": 72,
    "start_time": "2024-03-11T18:48:24.634Z"
   },
   {
    "duration": 68,
    "start_time": "2024-03-11T18:48:24.708Z"
   },
   {
    "duration": 118,
    "start_time": "2024-03-11T18:48:24.777Z"
   },
   {
    "duration": 186,
    "start_time": "2024-03-11T18:48:24.896Z"
   },
   {
    "duration": 88,
    "start_time": "2024-03-11T18:48:25.084Z"
   },
   {
    "duration": 3352,
    "start_time": "2024-03-11T18:48:25.173Z"
   },
   {
    "duration": 4381,
    "start_time": "2024-03-11T18:48:28.527Z"
   },
   {
    "duration": 3,
    "start_time": "2024-03-11T18:48:32.910Z"
   },
   {
    "duration": 13,
    "start_time": "2024-03-11T18:48:32.916Z"
   },
   {
    "duration": 38,
    "start_time": "2024-03-11T18:48:32.930Z"
   },
   {
    "duration": 17,
    "start_time": "2024-03-11T18:48:32.970Z"
   },
   {
    "duration": 10,
    "start_time": "2024-03-11T18:48:32.989Z"
   },
   {
    "duration": 31,
    "start_time": "2024-03-11T18:48:33.000Z"
   },
   {
    "duration": 58,
    "start_time": "2024-03-11T18:48:33.033Z"
   },
   {
    "duration": 3,
    "start_time": "2024-03-11T18:48:33.092Z"
   },
   {
    "duration": 4,
    "start_time": "2024-03-11T18:48:33.096Z"
   },
   {
    "duration": 4,
    "start_time": "2024-03-11T18:48:33.101Z"
   },
   {
    "duration": 102572,
    "start_time": "2024-03-11T18:48:33.106Z"
   },
   {
    "duration": 8,
    "start_time": "2024-03-11T18:50:15.758Z"
   },
   {
    "duration": 33,
    "start_time": "2024-03-11T18:50:15.767Z"
   },
   {
    "duration": 70,
    "start_time": "2024-03-11T18:50:15.801Z"
   },
   {
    "duration": 244,
    "start_time": "2024-03-11T18:50:15.872Z"
   },
   {
    "duration": 20315,
    "start_time": "2024-03-11T18:50:16.117Z"
   },
   {
    "duration": 133,
    "start_time": "2024-03-11T18:50:36.433Z"
   },
   {
    "duration": 3,
    "start_time": "2024-03-11T18:55:48.941Z"
   },
   {
    "duration": 564,
    "start_time": "2024-03-11T18:56:02.816Z"
   },
   {
    "duration": 465,
    "start_time": "2024-03-12T05:10:46.828Z"
   },
   {
    "duration": 2926,
    "start_time": "2024-03-12T05:10:47.623Z"
   },
   {
    "duration": 3692,
    "start_time": "2024-03-12T05:10:53.093Z"
   },
   {
    "duration": 2607,
    "start_time": "2024-03-12T05:10:56.788Z"
   },
   {
    "duration": 10259,
    "start_time": "2024-03-12T05:10:59.397Z"
   },
   {
    "duration": 1454,
    "start_time": "2024-03-12T05:11:09.659Z"
   },
   {
    "duration": 1014,
    "start_time": "2024-03-12T05:11:23.993Z"
   },
   {
    "duration": 21,
    "start_time": "2024-03-12T05:11:25.009Z"
   },
   {
    "duration": 179,
    "start_time": "2024-03-12T05:11:25.032Z"
   },
   {
    "duration": 103,
    "start_time": "2024-03-12T05:11:25.213Z"
   },
   {
    "duration": 84,
    "start_time": "2024-03-12T05:11:27.382Z"
   },
   {
    "duration": 36,
    "start_time": "2024-03-12T05:11:27.963Z"
   },
   {
    "duration": 10,
    "start_time": "2024-03-12T05:11:28.442Z"
   },
   {
    "duration": 4,
    "start_time": "2024-03-12T05:11:29.912Z"
   },
   {
    "duration": 10,
    "start_time": "2024-03-12T05:11:30.431Z"
   },
   {
    "duration": 18,
    "start_time": "2024-03-12T05:11:31.440Z"
   },
   {
    "duration": 242,
    "start_time": "2024-03-12T05:11:31.893Z"
   },
   {
    "duration": 83,
    "start_time": "2024-03-12T05:11:32.137Z"
   },
   {
    "duration": 17,
    "start_time": "2024-03-12T05:11:33.232Z"
   },
   {
    "duration": 39,
    "start_time": "2024-03-12T05:11:33.726Z"
   },
   {
    "duration": 39,
    "start_time": "2024-03-12T05:11:34.338Z"
   },
   {
    "duration": 27,
    "start_time": "2024-03-12T05:11:35.082Z"
   },
   {
    "duration": 173,
    "start_time": "2024-03-12T05:11:36.062Z"
   },
   {
    "duration": 18,
    "start_time": "2024-03-12T05:11:36.505Z"
   },
   {
    "duration": 15,
    "start_time": "2024-03-12T05:11:37.352Z"
   },
   {
    "duration": 1786,
    "start_time": "2024-03-12T05:11:52.802Z"
   },
   {
    "duration": 882,
    "start_time": "2024-03-12T05:11:54.590Z"
   },
   {
    "duration": 18,
    "start_time": "2024-03-12T05:11:55.474Z"
   },
   {
    "duration": 190,
    "start_time": "2024-03-12T05:11:55.494Z"
   },
   {
    "duration": 90,
    "start_time": "2024-03-12T05:11:55.685Z"
   },
   {
    "duration": 94,
    "start_time": "2024-03-12T05:11:57.414Z"
   },
   {
    "duration": 36,
    "start_time": "2024-03-12T05:11:58.105Z"
   },
   {
    "duration": 10,
    "start_time": "2024-03-12T05:11:58.362Z"
   },
   {
    "duration": 3,
    "start_time": "2024-03-12T05:11:59.373Z"
   },
   {
    "duration": 10,
    "start_time": "2024-03-12T05:11:59.583Z"
   },
   {
    "duration": 17,
    "start_time": "2024-03-12T05:12:00.273Z"
   },
   {
    "duration": 274,
    "start_time": "2024-03-12T05:12:00.501Z"
   },
   {
    "duration": 15,
    "start_time": "2024-03-12T05:12:00.777Z"
   },
   {
    "duration": 43,
    "start_time": "2024-03-12T05:12:02.822Z"
   },
   {
    "duration": 35,
    "start_time": "2024-03-12T05:12:04.053Z"
   },
   {
    "duration": 124,
    "start_time": "2024-03-12T05:12:04.544Z"
   },
   {
    "duration": 24,
    "start_time": "2024-03-12T05:12:05.343Z"
   },
   {
    "duration": 156,
    "start_time": "2024-03-12T05:12:06.364Z"
   },
   {
    "duration": 19,
    "start_time": "2024-03-12T05:12:06.603Z"
   },
   {
    "duration": 36,
    "start_time": "2024-03-12T05:12:07.195Z"
   },
   {
    "duration": 27,
    "start_time": "2024-03-12T05:12:13.404Z"
   },
   {
    "duration": 24,
    "start_time": "2024-03-12T05:12:14.622Z"
   },
   {
    "duration": 17,
    "start_time": "2024-03-12T05:12:15.930Z"
   },
   {
    "duration": 384,
    "start_time": "2024-03-12T05:12:16.523Z"
   },
   {
    "duration": 29,
    "start_time": "2024-03-12T05:12:17.623Z"
   },
   {
    "duration": 47,
    "start_time": "2024-03-12T05:12:19.112Z"
   },
   {
    "duration": 236,
    "start_time": "2024-03-12T05:12:19.931Z"
   },
   {
    "duration": 26,
    "start_time": "2024-03-12T05:12:20.831Z"
   },
   {
    "duration": 102,
    "start_time": "2024-03-12T05:12:21.922Z"
   },
   {
    "duration": 92,
    "start_time": "2024-03-12T05:12:22.311Z"
   },
   {
    "duration": 92,
    "start_time": "2024-03-12T05:12:22.951Z"
   },
   {
    "duration": 157,
    "start_time": "2024-03-12T05:12:23.352Z"
   },
   {
    "duration": 235,
    "start_time": "2024-03-12T05:12:24.602Z"
   },
   {
    "duration": 105,
    "start_time": "2024-03-12T05:12:26.291Z"
   },
   {
    "duration": 4500,
    "start_time": "2024-03-12T05:12:27.172Z"
   },
   {
    "duration": 5982,
    "start_time": "2024-03-12T05:12:31.674Z"
   },
   {
    "duration": 3,
    "start_time": "2024-03-12T05:12:37.658Z"
   },
   {
    "duration": 17,
    "start_time": "2024-03-12T05:12:37.663Z"
   },
   {
    "duration": 8,
    "start_time": "2024-03-12T05:12:37.682Z"
   },
   {
    "duration": 3,
    "start_time": "2024-03-12T05:12:44.814Z"
   },
   {
    "duration": 4,
    "start_time": "2024-03-12T05:12:45.182Z"
   },
   {
    "duration": 10,
    "start_time": "2024-03-12T05:12:49.842Z"
   },
   {
    "duration": 73,
    "start_time": "2024-03-12T05:12:50.351Z"
   },
   {
    "duration": 3,
    "start_time": "2024-03-12T05:12:52.465Z"
   },
   {
    "duration": 3,
    "start_time": "2024-03-12T05:12:57.023Z"
   },
   {
    "duration": 4,
    "start_time": "2024-03-12T05:13:02.433Z"
   },
   {
    "duration": 134838,
    "start_time": "2024-03-12T05:13:09.362Z"
   },
   {
    "duration": 172,
    "start_time": "2024-03-12T05:15:24.203Z"
   },
   {
    "duration": 8,
    "start_time": "2024-03-12T05:15:34.785Z"
   },
   {
    "duration": 9,
    "start_time": "2024-03-12T05:16:00.825Z"
   },
   {
    "duration": 74,
    "start_time": "2024-03-12T05:16:01.459Z"
   },
   {
    "duration": 338,
    "start_time": "2024-03-12T05:16:02.493Z"
   },
   {
    "duration": 4,
    "start_time": "2024-03-12T05:19:06.384Z"
   },
   {
    "duration": 4,
    "start_time": "2024-03-12T05:20:14.582Z"
   },
   {
    "duration": 4,
    "start_time": "2024-03-12T05:23:24.903Z"
   },
   {
    "duration": 11,
    "start_time": "2024-03-12T05:23:44.422Z"
   },
   {
    "duration": 22827,
    "start_time": "2024-03-12T05:24:01.053Z"
   },
   {
    "duration": 10,
    "start_time": "2024-03-12T05:24:27.463Z"
   },
   {
    "duration": 4,
    "start_time": "2024-03-12T05:28:50.747Z"
   },
   {
    "duration": 61,
    "start_time": "2024-03-12T05:28:52.095Z"
   },
   {
    "duration": 627,
    "start_time": "2024-03-12T05:29:28.095Z"
   },
   {
    "duration": 63389,
    "start_time": "2024-03-12T05:29:38.293Z"
   },
   {
    "duration": 66776,
    "start_time": "2024-03-12T05:32:18.822Z"
   },
   {
    "duration": 129948,
    "start_time": "2024-03-12T05:37:35.524Z"
   },
   {
    "duration": 154,
    "start_time": "2024-03-12T05:44:10.103Z"
   },
   {
    "duration": 120,
    "start_time": "2024-03-12T05:44:26.953Z"
   },
   {
    "duration": 635,
    "start_time": "2024-03-12T05:44:34.104Z"
   },
   {
    "duration": 67070,
    "start_time": "2024-03-12T05:45:09.755Z"
   },
   {
    "duration": 10,
    "start_time": "2024-03-12T05:46:32.697Z"
   },
   {
    "duration": 10,
    "start_time": "2024-03-12T05:46:35.796Z"
   },
   {
    "duration": 2482631,
    "start_time": "2024-03-12T05:47:11.544Z"
   },
   {
    "duration": 14,
    "start_time": "2024-03-12T06:28:44.244Z"
   },
   {
    "duration": 157,
    "start_time": "2024-03-12T06:28:48.744Z"
   },
   {
    "duration": 62,
    "start_time": "2024-03-12T06:28:51.224Z"
   },
   {
    "duration": 15,
    "start_time": "2024-03-12T06:28:56.163Z"
   },
   {
    "duration": 15,
    "start_time": "2024-03-12T06:29:03.176Z"
   },
   {
    "duration": 208429,
    "start_time": "2024-03-12T06:29:26.674Z"
   },
   {
    "duration": 13,
    "start_time": "2024-03-12T06:32:55.105Z"
   },
   {
    "duration": 328263,
    "start_time": "2024-03-12T06:33:09.454Z"
   },
   {
    "duration": 3,
    "start_time": "2024-03-12T06:39:06.436Z"
   },
   {
    "duration": 4,
    "start_time": "2024-03-12T06:39:07.135Z"
   },
   {
    "duration": 3,
    "start_time": "2024-03-12T06:39:07.473Z"
   },
   {
    "duration": 3,
    "start_time": "2024-03-12T06:39:12.106Z"
   },
   {
    "duration": 4,
    "start_time": "2024-03-12T06:39:13.004Z"
   },
   {
    "duration": 12,
    "start_time": "2024-03-12T06:39:15.044Z"
   },
   {
    "duration": 74,
    "start_time": "2024-03-12T06:39:15.379Z"
   },
   {
    "duration": 5,
    "start_time": "2024-03-12T06:39:26.015Z"
   },
   {
    "duration": 12,
    "start_time": "2024-03-12T06:39:31.646Z"
   },
   {
    "duration": 56,
    "start_time": "2024-03-12T06:40:41.461Z"
   },
   {
    "duration": 330,
    "start_time": "2024-03-12T06:40:41.857Z"
   },
   {
    "duration": 10,
    "start_time": "2024-03-12T06:40:49.219Z"
   },
   {
    "duration": 11,
    "start_time": "2024-03-12T06:41:00.621Z"
   },
   {
    "duration": 10,
    "start_time": "2024-03-12T06:41:13.044Z"
   },
   {
    "duration": 10,
    "start_time": "2024-03-12T06:41:19.005Z"
   },
   {
    "duration": 124794,
    "start_time": "2024-03-12T06:41:37.820Z"
   },
   {
    "duration": 721,
    "start_time": "2024-03-12T06:43:55.706Z"
   },
   {
    "duration": 139,
    "start_time": "2024-03-12T06:44:09.530Z"
   },
   {
    "duration": 735,
    "start_time": "2024-03-12T06:44:14.886Z"
   },
   {
    "duration": 71572,
    "start_time": "2024-03-12T06:44:27.485Z"
   },
   {
    "duration": 223894,
    "start_time": "2024-03-12T06:45:54.325Z"
   },
   {
    "duration": 2852,
    "start_time": "2024-03-12T07:22:16.065Z"
   },
   {
    "duration": 2960,
    "start_time": "2024-03-12T07:22:18.920Z"
   },
   {
    "duration": 2884,
    "start_time": "2024-03-12T07:22:21.883Z"
   },
   {
    "duration": 1918,
    "start_time": "2024-03-12T07:22:36.057Z"
   },
   {
    "duration": 1004,
    "start_time": "2024-03-12T07:22:42.864Z"
   },
   {
    "duration": 29,
    "start_time": "2024-03-12T07:22:43.870Z"
   },
   {
    "duration": 203,
    "start_time": "2024-03-12T07:22:43.903Z"
   },
   {
    "duration": 100,
    "start_time": "2024-03-12T07:22:44.110Z"
   },
   {
    "duration": 115,
    "start_time": "2024-03-12T07:22:45.972Z"
   },
   {
    "duration": 40,
    "start_time": "2024-03-12T07:22:46.314Z"
   },
   {
    "duration": 10,
    "start_time": "2024-03-12T07:22:46.844Z"
   },
   {
    "duration": 3,
    "start_time": "2024-03-12T07:22:48.113Z"
   },
   {
    "duration": 15,
    "start_time": "2024-03-12T07:22:48.684Z"
   },
   {
    "duration": 21,
    "start_time": "2024-03-12T07:22:52.495Z"
   },
   {
    "duration": 250,
    "start_time": "2024-03-12T07:22:53.033Z"
   },
   {
    "duration": 9,
    "start_time": "2024-03-12T07:22:53.318Z"
   },
   {
    "duration": 46,
    "start_time": "2024-03-12T07:22:54.784Z"
   },
   {
    "duration": 28,
    "start_time": "2024-03-12T07:22:55.334Z"
   },
   {
    "duration": 139,
    "start_time": "2024-03-12T07:22:55.590Z"
   },
   {
    "duration": 37,
    "start_time": "2024-03-12T07:22:56.174Z"
   },
   {
    "duration": 183,
    "start_time": "2024-03-12T07:22:56.934Z"
   },
   {
    "duration": 18,
    "start_time": "2024-03-12T07:22:57.214Z"
   },
   {
    "duration": 46,
    "start_time": "2024-03-12T07:22:57.933Z"
   },
   {
    "duration": 30,
    "start_time": "2024-03-12T07:22:58.955Z"
   },
   {
    "duration": 24,
    "start_time": "2024-03-12T07:22:59.540Z"
   },
   {
    "duration": 22,
    "start_time": "2024-03-12T07:23:00.384Z"
   },
   {
    "duration": 464,
    "start_time": "2024-03-12T07:23:00.855Z"
   },
   {
    "duration": 29,
    "start_time": "2024-03-12T07:23:01.645Z"
   },
   {
    "duration": 54,
    "start_time": "2024-03-12T07:23:03.084Z"
   },
   {
    "duration": 247,
    "start_time": "2024-03-12T07:23:04.096Z"
   },
   {
    "duration": 25,
    "start_time": "2024-03-12T07:23:04.861Z"
   },
   {
    "duration": 109,
    "start_time": "2024-03-12T07:23:06.100Z"
   },
   {
    "duration": 127,
    "start_time": "2024-03-12T07:23:06.715Z"
   },
   {
    "duration": 104,
    "start_time": "2024-03-12T07:23:07.543Z"
   },
   {
    "duration": 160,
    "start_time": "2024-03-12T07:23:08.473Z"
   },
   {
    "duration": 296,
    "start_time": "2024-03-12T07:23:10.694Z"
   },
   {
    "duration": 106,
    "start_time": "2024-03-12T07:23:12.753Z"
   },
   {
    "duration": 4968,
    "start_time": "2024-03-12T07:23:13.696Z"
   },
   {
    "duration": 6319,
    "start_time": "2024-03-12T07:23:18.665Z"
   },
   {
    "duration": 4,
    "start_time": "2024-03-12T07:23:29.364Z"
   },
   {
    "duration": 5,
    "start_time": "2024-03-12T07:23:30.497Z"
   },
   {
    "duration": 3,
    "start_time": "2024-03-12T07:23:31.023Z"
   },
   {
    "duration": 3,
    "start_time": "2024-03-12T07:23:33.835Z"
   },
   {
    "duration": 4,
    "start_time": "2024-03-12T07:23:34.514Z"
   },
   {
    "duration": 12,
    "start_time": "2024-03-12T07:23:36.285Z"
   },
   {
    "duration": 70,
    "start_time": "2024-03-12T07:23:36.796Z"
   },
   {
    "duration": 3,
    "start_time": "2024-03-12T07:23:37.436Z"
   },
   {
    "duration": 4,
    "start_time": "2024-03-12T07:23:38.305Z"
   },
   {
    "duration": 3,
    "start_time": "2024-03-12T07:23:38.724Z"
   },
   {
    "duration": 113323,
    "start_time": "2024-03-12T07:23:41.374Z"
   },
   {
    "duration": 6,
    "start_time": "2024-03-12T07:25:34.703Z"
   },
   {
    "duration": 4,
    "start_time": "2024-03-12T07:27:35.554Z"
   },
   {
    "duration": 9,
    "start_time": "2024-03-12T07:27:36.014Z"
   },
   {
    "duration": 4,
    "start_time": "2024-03-12T07:27:36.443Z"
   },
   {
    "duration": 12,
    "start_time": "2024-03-12T07:27:42.588Z"
   },
   {
    "duration": 87,
    "start_time": "2024-03-12T07:27:43.094Z"
   },
   {
    "duration": 358,
    "start_time": "2024-03-12T07:27:43.464Z"
   },
   {
    "duration": 25252,
    "start_time": "2024-03-12T07:27:47.434Z"
   },
   {
    "duration": 10,
    "start_time": "2024-03-12T07:28:14.313Z"
   },
   {
    "duration": 2612474,
    "start_time": "2024-03-12T07:28:17.896Z"
   },
   {
    "duration": 12,
    "start_time": "2024-03-12T08:23:25.138Z"
   },
   {
    "duration": 142,
    "start_time": "2024-03-12T08:23:33.618Z"
   },
   {
    "duration": 35,
    "start_time": "2024-03-12T08:23:35.176Z"
   },
   {
    "duration": 11227703,
    "start_time": "2024-03-12T08:23:35.858Z"
   },
   {
    "duration": 12,
    "start_time": "2024-03-12T11:31:52.882Z"
   },
   {
    "duration": 5554308,
    "start_time": "2024-03-12T11:31:59.616Z"
   },
   {
    "duration": 15,
    "start_time": "2024-03-12T13:04:44.269Z"
   },
   {
    "duration": 4,
    "start_time": "2024-03-12T13:04:47.271Z"
   },
   {
    "duration": 58485,
    "start_time": "2024-03-12T13:04:48.619Z"
   },
   {
    "duration": 124538,
    "start_time": "2024-03-12T13:06:20.264Z"
   },
   {
    "duration": 133,
    "start_time": "2024-03-12T13:08:56.512Z"
   },
   {
    "duration": 710,
    "start_time": "2024-03-12T13:08:57.721Z"
   },
   {
    "duration": 69733,
    "start_time": "2024-03-12T13:09:03.513Z"
   },
   {
    "duration": 223439,
    "start_time": "2024-03-12T13:10:35.842Z"
   },
   {
    "duration": 1460433,
    "start_time": "2024-03-12T13:14:47.004Z"
   },
   {
    "duration": 174,
    "start_time": "2024-03-12T13:41:05.770Z"
   },
   {
    "duration": 62,
    "start_time": "2024-03-12T13:41:18.640Z"
   },
   {
    "duration": 5466,
    "start_time": "2024-03-13T06:41:36.455Z"
   },
   {
    "duration": 5699,
    "start_time": "2024-03-13T06:41:41.924Z"
   },
   {
    "duration": 19987,
    "start_time": "2024-03-13T06:41:47.625Z"
   },
   {
    "duration": 3098,
    "start_time": "2024-03-13T06:42:07.615Z"
   },
   {
    "duration": 3594,
    "start_time": "2024-03-13T06:42:10.715Z"
   },
   {
    "duration": 15,
    "start_time": "2024-03-13T06:42:14.311Z"
   },
   {
    "duration": 470,
    "start_time": "2024-03-13T06:42:14.327Z"
   },
   {
    "duration": 216,
    "start_time": "2024-03-13T06:42:14.801Z"
   },
   {
    "duration": 276,
    "start_time": "2024-03-13T06:42:15.019Z"
   },
   {
    "duration": 32,
    "start_time": "2024-03-13T06:42:15.298Z"
   },
   {
    "duration": 73,
    "start_time": "2024-03-13T06:42:15.331Z"
   },
   {
    "duration": 90,
    "start_time": "2024-03-13T06:42:15.408Z"
   },
   {
    "duration": 17,
    "start_time": "2024-03-13T06:42:15.500Z"
   },
   {
    "duration": 89,
    "start_time": "2024-03-13T06:42:15.519Z"
   },
   {
    "duration": 492,
    "start_time": "2024-03-13T06:42:15.610Z"
   },
   {
    "duration": 9,
    "start_time": "2024-03-13T06:42:16.107Z"
   },
   {
    "duration": 108,
    "start_time": "2024-03-13T06:42:16.118Z"
   },
   {
    "duration": 81,
    "start_time": "2024-03-13T06:42:16.228Z"
   },
   {
    "duration": 116,
    "start_time": "2024-03-13T06:42:16.311Z"
   },
   {
    "duration": 83,
    "start_time": "2024-03-13T06:42:16.429Z"
   },
   {
    "duration": 319,
    "start_time": "2024-03-13T06:42:16.514Z"
   },
   {
    "duration": 76,
    "start_time": "2024-03-13T06:42:16.835Z"
   },
   {
    "duration": 90,
    "start_time": "2024-03-13T06:42:16.912Z"
   },
   {
    "duration": 31,
    "start_time": "2024-03-13T06:42:17.003Z"
   },
   {
    "duration": 93,
    "start_time": "2024-03-13T06:42:17.036Z"
   },
   {
    "duration": 78,
    "start_time": "2024-03-13T06:42:17.131Z"
   },
   {
    "duration": 2520,
    "start_time": "2024-03-13T06:42:17.211Z"
   },
   {
    "duration": 76,
    "start_time": "2024-03-13T06:42:19.734Z"
   },
   {
    "duration": 107,
    "start_time": "2024-03-13T06:42:19.812Z"
   },
   {
    "duration": 493,
    "start_time": "2024-03-13T06:42:19.920Z"
   },
   {
    "duration": 90,
    "start_time": "2024-03-13T06:42:20.415Z"
   },
   {
    "duration": 206,
    "start_time": "2024-03-13T06:42:20.507Z"
   },
   {
    "duration": 216,
    "start_time": "2024-03-13T06:42:20.715Z"
   },
   {
    "duration": 274,
    "start_time": "2024-03-13T06:42:20.932Z"
   },
   {
    "duration": 307,
    "start_time": "2024-03-13T06:42:21.207Z"
   },
   {
    "duration": 504,
    "start_time": "2024-03-13T06:42:21.516Z"
   },
   {
    "duration": 215,
    "start_time": "2024-03-13T06:42:22.022Z"
   },
   {
    "duration": 9901,
    "start_time": "2024-03-13T06:42:22.238Z"
   },
   {
    "duration": 12759,
    "start_time": "2024-03-13T06:42:32.196Z"
   },
   {
    "duration": 41,
    "start_time": "2024-03-13T06:42:44.956Z"
   },
   {
    "duration": 9,
    "start_time": "2024-03-13T06:42:44.999Z"
   },
   {
    "duration": 113,
    "start_time": "2024-03-13T06:42:45.010Z"
   },
   {
    "duration": 139,
    "start_time": "2024-03-13T06:42:45.125Z"
   },
   {
    "duration": 58,
    "start_time": "2024-03-13T06:42:45.266Z"
   },
   {
    "duration": 107,
    "start_time": "2024-03-13T06:42:45.325Z"
   },
   {
    "duration": 192,
    "start_time": "2024-03-13T06:42:45.434Z"
   },
   {
    "duration": 4,
    "start_time": "2024-03-13T06:42:45.628Z"
   },
   {
    "duration": 78,
    "start_time": "2024-03-13T06:42:45.633Z"
   },
   {
    "duration": 9,
    "start_time": "2024-03-13T06:42:45.713Z"
   },
   {
    "duration": 149691,
    "start_time": "2024-03-13T06:42:45.724Z"
   },
   {
    "duration": 5,
    "start_time": "2024-03-13T06:45:15.416Z"
   },
   {
    "duration": 78,
    "start_time": "2024-03-13T06:45:15.422Z"
   },
   {
    "duration": 16,
    "start_time": "2024-03-13T06:45:15.505Z"
   },
   {
    "duration": 7,
    "start_time": "2024-03-13T06:45:15.522Z"
   },
   {
    "duration": 78,
    "start_time": "2024-03-13T06:45:15.530Z"
   },
   {
    "duration": 191,
    "start_time": "2024-03-13T06:45:15.610Z"
   },
   {
    "duration": 321,
    "start_time": "2024-03-13T06:45:15.804Z"
   },
   {
    "duration": 0,
    "start_time": "2024-03-13T06:45:16.127Z"
   },
   {
    "duration": 0,
    "start_time": "2024-03-13T06:45:16.128Z"
   },
   {
    "duration": 633,
    "start_time": "2024-03-13T06:57:15.591Z"
   },
   {
    "duration": 6218,
    "start_time": "2024-03-13T07:01:09.891Z"
   },
   {
    "duration": 6403,
    "start_time": "2024-03-13T07:01:16.118Z"
   },
   {
    "duration": 6606,
    "start_time": "2024-03-13T07:01:22.524Z"
   },
   {
    "duration": 3298,
    "start_time": "2024-03-13T07:01:29.133Z"
   },
   {
    "duration": 2197,
    "start_time": "2024-03-13T07:01:32.433Z"
   },
   {
    "duration": 72,
    "start_time": "2024-03-13T07:01:34.632Z"
   },
   {
    "duration": 533,
    "start_time": "2024-03-13T07:01:34.706Z"
   },
   {
    "duration": 280,
    "start_time": "2024-03-13T07:01:35.241Z"
   },
   {
    "duration": 298,
    "start_time": "2024-03-13T07:01:35.527Z"
   },
   {
    "duration": 91,
    "start_time": "2024-03-13T07:01:35.828Z"
   },
   {
    "duration": 79,
    "start_time": "2024-03-13T07:01:35.920Z"
   },
   {
    "duration": 25,
    "start_time": "2024-03-13T07:01:36.000Z"
   },
   {
    "duration": 88,
    "start_time": "2024-03-13T07:01:36.027Z"
   },
   {
    "duration": 99,
    "start_time": "2024-03-13T07:01:36.117Z"
   },
   {
    "duration": 492,
    "start_time": "2024-03-13T07:01:36.224Z"
   },
   {
    "duration": 11,
    "start_time": "2024-03-13T07:01:36.721Z"
   },
   {
    "duration": 163,
    "start_time": "2024-03-13T07:01:36.734Z"
   },
   {
    "duration": 44,
    "start_time": "2024-03-13T07:01:36.898Z"
   },
   {
    "duration": 110,
    "start_time": "2024-03-13T07:01:36.996Z"
   },
   {
    "duration": 84,
    "start_time": "2024-03-13T07:01:37.114Z"
   },
   {
    "duration": 713,
    "start_time": "2024-03-13T07:01:37.200Z"
   },
   {
    "duration": 95,
    "start_time": "2024-03-13T07:01:37.915Z"
   },
   {
    "duration": 116,
    "start_time": "2024-03-13T07:01:38.012Z"
   },
   {
    "duration": 102,
    "start_time": "2024-03-13T07:01:38.130Z"
   },
   {
    "duration": 97,
    "start_time": "2024-03-13T07:01:38.234Z"
   },
   {
    "duration": 86,
    "start_time": "2024-03-13T07:01:38.333Z"
   },
   {
    "duration": 2877,
    "start_time": "2024-03-13T07:01:38.420Z"
   },
   {
    "duration": 28,
    "start_time": "2024-03-13T07:01:41.307Z"
   },
   {
    "duration": 172,
    "start_time": "2024-03-13T07:01:41.337Z"
   },
   {
    "duration": 616,
    "start_time": "2024-03-13T07:01:41.510Z"
   },
   {
    "duration": 82,
    "start_time": "2024-03-13T07:01:42.128Z"
   },
   {
    "duration": 289,
    "start_time": "2024-03-13T07:01:42.212Z"
   },
   {
    "duration": 238,
    "start_time": "2024-03-13T07:01:42.503Z"
   },
   {
    "duration": 233,
    "start_time": "2024-03-13T07:01:42.798Z"
   },
   {
    "duration": 379,
    "start_time": "2024-03-13T07:01:43.032Z"
   },
   {
    "duration": 612,
    "start_time": "2024-03-13T07:01:43.414Z"
   },
   {
    "duration": 279,
    "start_time": "2024-03-13T07:01:44.029Z"
   },
   {
    "duration": 11999,
    "start_time": "2024-03-13T07:01:44.317Z"
   },
   {
    "duration": 16681,
    "start_time": "2024-03-13T07:01:56.320Z"
   },
   {
    "duration": 11,
    "start_time": "2024-03-13T07:02:13.003Z"
   },
   {
    "duration": 17,
    "start_time": "2024-03-13T07:02:13.021Z"
   },
   {
    "duration": 16,
    "start_time": "2024-03-13T07:02:13.039Z"
   },
   {
    "duration": 9,
    "start_time": "2024-03-13T07:02:13.100Z"
   },
   {
    "duration": 8,
    "start_time": "2024-03-13T07:02:13.111Z"
   },
   {
    "duration": 104,
    "start_time": "2024-03-13T07:02:13.120Z"
   },
   {
    "duration": 186,
    "start_time": "2024-03-13T07:02:13.226Z"
   },
   {
    "duration": 4,
    "start_time": "2024-03-13T07:02:24.977Z"
   },
   {
    "duration": 4,
    "start_time": "2024-03-13T07:02:26.095Z"
   },
   {
    "duration": 3,
    "start_time": "2024-03-13T07:02:27.539Z"
   },
   {
    "duration": 156799,
    "start_time": "2024-03-13T07:02:30.530Z"
   },
   {
    "duration": 4,
    "start_time": "2024-03-13T07:05:07.330Z"
   },
   {
    "duration": 82,
    "start_time": "2024-03-13T07:05:07.335Z"
   },
   {
    "duration": 30,
    "start_time": "2024-03-13T07:05:07.419Z"
   },
   {
    "duration": 49,
    "start_time": "2024-03-13T07:05:07.450Z"
   },
   {
    "duration": 31,
    "start_time": "2024-03-13T07:05:07.501Z"
   },
   {
    "duration": 198,
    "start_time": "2024-03-13T07:05:07.534Z"
   },
   {
    "duration": 461,
    "start_time": "2024-03-13T07:05:24.274Z"
   },
   {
    "duration": 833,
    "start_time": "2024-03-13T07:05:36.105Z"
   }
  ],
  "kernelspec": {
   "display_name": "Python 3 (ipykernel)",
   "language": "python",
   "name": "python3"
  },
  "language_info": {
   "codemirror_mode": {
    "name": "ipython",
    "version": 3
   },
   "file_extension": ".py",
   "mimetype": "text/x-python",
   "name": "python",
   "nbconvert_exporter": "python",
   "pygments_lexer": "ipython3",
   "version": "3.9.5"
  },
  "toc": {
   "base_numbering": 1,
   "nav_menu": {},
   "number_sections": true,
   "sideBar": true,
   "skip_h1_title": true,
   "title_cell": "Table of Contents",
   "title_sidebar": "Contents",
   "toc_cell": false,
   "toc_position": {
    "height": "calc(100% - 180px)",
    "left": "10px",
    "top": "150px",
    "width": "307.2px"
   },
   "toc_section_display": true,
   "toc_window_display": true
  }
 },
 "nbformat": 4,
 "nbformat_minor": 2
}
