{
 "cells": [
  {
   "cell_type": "markdown",
   "metadata": {},
   "source": [
    "# Выбор локации для скважины"
   ]
  },
  {
   "cell_type": "markdown",
   "metadata": {},
   "source": [
    "Допустим, вы работаете в добывающей компании «ГлавРосГосНефть». Нужно решить, где бурить новую скважину.\n",
    "\n",
    "Вам предоставлены пробы нефти в трёх регионах: в каждом 10 000 месторождений, где измерили качество нефти и объём её запасов. Постройте модель машинного обучения, которая поможет определить регион, где добыча принесёт наибольшую прибыль. Проанализируйте возможную прибыль и риски техникой *Bootstrap.*\n",
    "\n",
    "Шаги для выбора локации:\n",
    "\n",
    "- В избранном регионе ищут месторождения, для каждого определяют значения признаков;\n",
    "- Строят модель и оценивают объём запасов;\n",
    "- Выбирают месторождения с самым высокими оценками значений. Количество месторождений зависит от бюджета компании и стоимости разработки одной скважины;\n",
    "- Прибыль равна суммарной прибыли отобранных месторождений."
   ]
  },
  {
   "cell_type": "markdown",
   "metadata": {},
   "source": [
    " **Выбор локации для нефтяной скважины** \n",
    " \n",
    "В нашем распоряжении данные о пробах нефти в трех регионах. В каждом регионе имеется 10000 месторождений с измеренными показателями качетсва нефти и объемов запасов. Основная задача проекта заключается в определении региона, где добыча нефти приненсет максимальную прибыль.\n",
    "\n",
    " **Цель исследования**\n",
    " \n",
    "Цель проекта заключается в анализе данных о месторождениях нефти, а именно:\n",
    "1. Проанализировать основную информацию о трех регионах.\n",
    "2. Подготовить математическую модель.\n",
    "3. Провести расчет прибыли и рисков.\n",
    "\n",
    "\n",
    "**Ход исследования**\n",
    "\n",
    "Данные для исследования получены из трех датафреймов. В основных данных есть информация о идентификационном номере скважины, запасе нефти и влияющих на него признаках. О качестве данных ничего не известно, поэтому понадобится их обзор.\n",
    "\n",
    "Данные будут проверены на ошибки. На этапе предобработки будет рассмотрена возможность устранения ошибок, при их наличии. \n",
    "\n",
    "Таким образом, исследование будет состоять из следующих этапов:\n",
    "- обзор данных;\n",
    "- предобработка данных;\n",
    "- обучение и проверка модели;\n",
    "- подготовка к расчету прибыли;\n",
    "- написание функции для расчёта прибыли по выбранным скважинам и предсказаниям модели;\n",
    "- расчёт прибыли и рисков с применением техники Bootstrap;\n",
    "- основные выводы."
   ]
  },
  {
   "cell_type": "markdown",
   "metadata": {},
   "source": [
    "## Загрузка и подготовка данных"
   ]
  },
  {
   "cell_type": "code",
   "execution_count": 1,
   "metadata": {},
   "outputs": [],
   "source": [
    "import pandas as pd\n",
    "import numpy as np\n",
    "from sklearn.model_selection import train_test_split\n",
    "from sklearn.linear_model import LinearRegression\n",
    "from sklearn.preprocessing import StandardScaler\n",
    "from sklearn.metrics import accuracy_score\n",
    "from scipy import stats as st\n",
    "from sklearn.metrics import mean_squared_error, r2_score, mean_absolute_error\n",
    "from tqdm.notebook import tqdm\n",
    "import matplotlib.pyplot as plt\n",
    "import seaborn as sns\n",
    "from sklearn.utils import shuffle\n",
    "from sklearn.preprocessing import OrdinalEncoder \n",
    "\n",
    "from numpy.random import RandomState\n",
    "RANDOM_STATE = RandomState(42)\n",
    "\n",
    "import warnings\n",
    "warnings.simplefilter(action='ignore', category=FutureWarning)\n",
    "pd.set_option('display.max_columns', None)\n",
    "\n",
    "pd.set_option(\"precision\", 2)"
   ]
  },
  {
   "cell_type": "markdown",
   "metadata": {},
   "source": [
    "Проведем загрузку датафреймов."
   ]
  },
  {
   "cell_type": "code",
   "execution_count": 2,
   "metadata": {},
   "outputs": [],
   "source": [
    "data_0 = pd.read_csv('/datasets/geo_data_0.csv')\n",
    "data_1 = pd.read_csv('/datasets/geo_data_1.csv')\n",
    "data_2 = pd.read_csv('/datasets/geo_data_2.csv')"
   ]
  },
  {
   "cell_type": "markdown",
   "metadata": {},
   "source": [
    "Выведем основную информацию о данных."
   ]
  },
  {
   "cell_type": "code",
   "execution_count": 3,
   "metadata": {
    "scrolled": true
   },
   "outputs": [
    {
     "data": {
      "text/html": [
       "<div>\n",
       "<style scoped>\n",
       "    .dataframe tbody tr th:only-of-type {\n",
       "        vertical-align: middle;\n",
       "    }\n",
       "\n",
       "    .dataframe tbody tr th {\n",
       "        vertical-align: top;\n",
       "    }\n",
       "\n",
       "    .dataframe thead th {\n",
       "        text-align: right;\n",
       "    }\n",
       "</style>\n",
       "<table border=\"1\" class=\"dataframe\">\n",
       "  <thead>\n",
       "    <tr style=\"text-align: right;\">\n",
       "      <th></th>\n",
       "      <th>id</th>\n",
       "      <th>f0</th>\n",
       "      <th>f1</th>\n",
       "      <th>f2</th>\n",
       "      <th>product</th>\n",
       "    </tr>\n",
       "  </thead>\n",
       "  <tbody>\n",
       "    <tr>\n",
       "      <th>0</th>\n",
       "      <td>txEyH</td>\n",
       "      <td>0.71</td>\n",
       "      <td>-0.50</td>\n",
       "      <td>1.22</td>\n",
       "      <td>105.28</td>\n",
       "    </tr>\n",
       "    <tr>\n",
       "      <th>1</th>\n",
       "      <td>2acmU</td>\n",
       "      <td>1.33</td>\n",
       "      <td>-0.34</td>\n",
       "      <td>4.37</td>\n",
       "      <td>73.04</td>\n",
       "    </tr>\n",
       "  </tbody>\n",
       "</table>\n",
       "</div>"
      ],
      "text/plain": [
       "      id    f0    f1    f2  product\n",
       "0  txEyH  0.71 -0.50  1.22   105.28\n",
       "1  2acmU  1.33 -0.34  4.37    73.04"
      ]
     },
     "metadata": {},
     "output_type": "display_data"
    },
    {
     "name": "stdout",
     "output_type": "stream",
     "text": [
      "<class 'pandas.core.frame.DataFrame'>\n",
      "RangeIndex: 100000 entries, 0 to 99999\n",
      "Data columns (total 5 columns):\n",
      " #   Column   Non-Null Count   Dtype  \n",
      "---  ------   --------------   -----  \n",
      " 0   id       100000 non-null  object \n",
      " 1   f0       100000 non-null  float64\n",
      " 2   f1       100000 non-null  float64\n",
      " 3   f2       100000 non-null  float64\n",
      " 4   product  100000 non-null  float64\n",
      "dtypes: float64(4), object(1)\n",
      "memory usage: 3.8+ MB\n",
      "None\n"
     ]
    },
    {
     "data": {
      "text/html": [
       "<div>\n",
       "<style scoped>\n",
       "    .dataframe tbody tr th:only-of-type {\n",
       "        vertical-align: middle;\n",
       "    }\n",
       "\n",
       "    .dataframe tbody tr th {\n",
       "        vertical-align: top;\n",
       "    }\n",
       "\n",
       "    .dataframe thead th {\n",
       "        text-align: right;\n",
       "    }\n",
       "</style>\n",
       "<table border=\"1\" class=\"dataframe\">\n",
       "  <thead>\n",
       "    <tr style=\"text-align: right;\">\n",
       "      <th></th>\n",
       "      <th>id</th>\n",
       "      <th>f0</th>\n",
       "      <th>f1</th>\n",
       "      <th>f2</th>\n",
       "      <th>product</th>\n",
       "    </tr>\n",
       "  </thead>\n",
       "  <tbody>\n",
       "    <tr>\n",
       "      <th>0</th>\n",
       "      <td>kBEdx</td>\n",
       "      <td>-15.00</td>\n",
       "      <td>-8.28</td>\n",
       "      <td>-5.88e-03</td>\n",
       "      <td>3.18</td>\n",
       "    </tr>\n",
       "    <tr>\n",
       "      <th>1</th>\n",
       "      <td>62mP7</td>\n",
       "      <td>14.27</td>\n",
       "      <td>-3.48</td>\n",
       "      <td>9.99e-01</td>\n",
       "      <td>26.95</td>\n",
       "    </tr>\n",
       "  </tbody>\n",
       "</table>\n",
       "</div>"
      ],
      "text/plain": [
       "      id     f0    f1        f2  product\n",
       "0  kBEdx -15.00 -8.28 -5.88e-03     3.18\n",
       "1  62mP7  14.27 -3.48  9.99e-01    26.95"
      ]
     },
     "metadata": {},
     "output_type": "display_data"
    },
    {
     "name": "stdout",
     "output_type": "stream",
     "text": [
      "<class 'pandas.core.frame.DataFrame'>\n",
      "RangeIndex: 100000 entries, 0 to 99999\n",
      "Data columns (total 5 columns):\n",
      " #   Column   Non-Null Count   Dtype  \n",
      "---  ------   --------------   -----  \n",
      " 0   id       100000 non-null  object \n",
      " 1   f0       100000 non-null  float64\n",
      " 2   f1       100000 non-null  float64\n",
      " 3   f2       100000 non-null  float64\n",
      " 4   product  100000 non-null  float64\n",
      "dtypes: float64(4), object(1)\n",
      "memory usage: 3.8+ MB\n",
      "None\n"
     ]
    },
    {
     "data": {
      "text/html": [
       "<div>\n",
       "<style scoped>\n",
       "    .dataframe tbody tr th:only-of-type {\n",
       "        vertical-align: middle;\n",
       "    }\n",
       "\n",
       "    .dataframe tbody tr th {\n",
       "        vertical-align: top;\n",
       "    }\n",
       "\n",
       "    .dataframe thead th {\n",
       "        text-align: right;\n",
       "    }\n",
       "</style>\n",
       "<table border=\"1\" class=\"dataframe\">\n",
       "  <thead>\n",
       "    <tr style=\"text-align: right;\">\n",
       "      <th></th>\n",
       "      <th>id</th>\n",
       "      <th>f0</th>\n",
       "      <th>f1</th>\n",
       "      <th>f2</th>\n",
       "      <th>product</th>\n",
       "    </tr>\n",
       "  </thead>\n",
       "  <tbody>\n",
       "    <tr>\n",
       "      <th>0</th>\n",
       "      <td>fwXo0</td>\n",
       "      <td>-1.15</td>\n",
       "      <td>0.96</td>\n",
       "      <td>-0.83</td>\n",
       "      <td>27.76</td>\n",
       "    </tr>\n",
       "    <tr>\n",
       "      <th>1</th>\n",
       "      <td>WJtFt</td>\n",
       "      <td>0.26</td>\n",
       "      <td>0.27</td>\n",
       "      <td>-2.53</td>\n",
       "      <td>56.07</td>\n",
       "    </tr>\n",
       "  </tbody>\n",
       "</table>\n",
       "</div>"
      ],
      "text/plain": [
       "      id    f0    f1    f2  product\n",
       "0  fwXo0 -1.15  0.96 -0.83    27.76\n",
       "1  WJtFt  0.26  0.27 -2.53    56.07"
      ]
     },
     "metadata": {},
     "output_type": "display_data"
    },
    {
     "name": "stdout",
     "output_type": "stream",
     "text": [
      "<class 'pandas.core.frame.DataFrame'>\n",
      "RangeIndex: 100000 entries, 0 to 99999\n",
      "Data columns (total 5 columns):\n",
      " #   Column   Non-Null Count   Dtype  \n",
      "---  ------   --------------   -----  \n",
      " 0   id       100000 non-null  object \n",
      " 1   f0       100000 non-null  float64\n",
      " 2   f1       100000 non-null  float64\n",
      " 3   f2       100000 non-null  float64\n",
      " 4   product  100000 non-null  float64\n",
      "dtypes: float64(4), object(1)\n",
      "memory usage: 3.8+ MB\n",
      "None\n"
     ]
    }
   ],
   "source": [
    "data_list = [data_0,data_1,data_2]\n",
    "for data in data_list:\n",
    "    display(data.head(2))\n",
    "    print(data.info()) "
   ]
  },
  {
   "cell_type": "markdown",
   "metadata": {},
   "source": [
    "Проверим данные на пропуски."
   ]
  },
  {
   "cell_type": "code",
   "execution_count": 4,
   "metadata": {
    "scrolled": true
   },
   "outputs": [
    {
     "name": "stdout",
     "output_type": "stream",
     "text": [
      "id         0\n",
      "f0         0\n",
      "f1         0\n",
      "f2         0\n",
      "product    0\n",
      "dtype: int64\n",
      "id         0\n",
      "f0         0\n",
      "f1         0\n",
      "f2         0\n",
      "product    0\n",
      "dtype: int64\n",
      "id         0\n",
      "f0         0\n",
      "f1         0\n",
      "f2         0\n",
      "product    0\n",
      "dtype: int64\n"
     ]
    }
   ],
   "source": [
    "for data in data_list:\n",
    "        print(data.isna().sum())"
   ]
  },
  {
   "cell_type": "markdown",
   "metadata": {},
   "source": [
    "Пропуски в данных отсутствуют."
   ]
  },
  {
   "cell_type": "markdown",
   "metadata": {},
   "source": [
    "Проверим данные на дубликаты."
   ]
  },
  {
   "cell_type": "code",
   "execution_count": 5,
   "metadata": {},
   "outputs": [
    {
     "data": {
      "text/plain": [
       "(0, 0, 0)"
      ]
     },
     "execution_count": 5,
     "metadata": {},
     "output_type": "execute_result"
    }
   ],
   "source": [
    "data_0.duplicated().sum(), data_1.duplicated().sum(), data_2.duplicated().sum()"
   ]
  },
  {
   "cell_type": "code",
   "execution_count": 6,
   "metadata": {},
   "outputs": [
    {
     "name": "stdout",
     "output_type": "stream",
     "text": [
      "False    99990\n",
      "True        10\n",
      "Name: id, dtype: int64\n"
     ]
    },
    {
     "data": {
      "text/html": [
       "<div>\n",
       "<style scoped>\n",
       "    .dataframe tbody tr th:only-of-type {\n",
       "        vertical-align: middle;\n",
       "    }\n",
       "\n",
       "    .dataframe tbody tr th {\n",
       "        vertical-align: top;\n",
       "    }\n",
       "\n",
       "    .dataframe thead th {\n",
       "        text-align: right;\n",
       "    }\n",
       "</style>\n",
       "<table border=\"1\" class=\"dataframe\">\n",
       "  <thead>\n",
       "    <tr style=\"text-align: right;\">\n",
       "      <th></th>\n",
       "      <th>id</th>\n",
       "      <th>f0</th>\n",
       "      <th>f1</th>\n",
       "      <th>f2</th>\n",
       "      <th>product</th>\n",
       "    </tr>\n",
       "  </thead>\n",
       "  <tbody>\n",
       "    <tr>\n",
       "      <th>66136</th>\n",
       "      <td>74z30</td>\n",
       "      <td>1.08</td>\n",
       "      <td>-3.12e-01</td>\n",
       "      <td>6.99</td>\n",
       "      <td>127.64</td>\n",
       "    </tr>\n",
       "    <tr>\n",
       "      <th>64022</th>\n",
       "      <td>74z30</td>\n",
       "      <td>0.74</td>\n",
       "      <td>4.59e-01</td>\n",
       "      <td>5.15</td>\n",
       "      <td>140.77</td>\n",
       "    </tr>\n",
       "    <tr>\n",
       "      <th>51970</th>\n",
       "      <td>A5aEY</td>\n",
       "      <td>-0.18</td>\n",
       "      <td>9.36e-01</td>\n",
       "      <td>-2.09</td>\n",
       "      <td>33.02</td>\n",
       "    </tr>\n",
       "    <tr>\n",
       "      <th>3389</th>\n",
       "      <td>A5aEY</td>\n",
       "      <td>-0.04</td>\n",
       "      <td>1.57e-01</td>\n",
       "      <td>0.21</td>\n",
       "      <td>89.25</td>\n",
       "    </tr>\n",
       "    <tr>\n",
       "      <th>69163</th>\n",
       "      <td>AGS9W</td>\n",
       "      <td>-0.93</td>\n",
       "      <td>1.16e-01</td>\n",
       "      <td>-3.66</td>\n",
       "      <td>19.23</td>\n",
       "    </tr>\n",
       "    <tr>\n",
       "      <th>42529</th>\n",
       "      <td>AGS9W</td>\n",
       "      <td>1.45</td>\n",
       "      <td>-4.80e-01</td>\n",
       "      <td>0.68</td>\n",
       "      <td>126.37</td>\n",
       "    </tr>\n",
       "    <tr>\n",
       "      <th>931</th>\n",
       "      <td>HZww2</td>\n",
       "      <td>0.76</td>\n",
       "      <td>3.69e-01</td>\n",
       "      <td>1.86</td>\n",
       "      <td>30.68</td>\n",
       "    </tr>\n",
       "    <tr>\n",
       "      <th>7530</th>\n",
       "      <td>HZww2</td>\n",
       "      <td>1.06</td>\n",
       "      <td>-3.74e-01</td>\n",
       "      <td>10.43</td>\n",
       "      <td>158.83</td>\n",
       "    </tr>\n",
       "    <tr>\n",
       "      <th>63593</th>\n",
       "      <td>QcMuo</td>\n",
       "      <td>0.64</td>\n",
       "      <td>-4.73e-01</td>\n",
       "      <td>0.86</td>\n",
       "      <td>64.58</td>\n",
       "    </tr>\n",
       "    <tr>\n",
       "      <th>1949</th>\n",
       "      <td>QcMuo</td>\n",
       "      <td>0.51</td>\n",
       "      <td>-3.24e-01</td>\n",
       "      <td>-2.22</td>\n",
       "      <td>75.50</td>\n",
       "    </tr>\n",
       "    <tr>\n",
       "      <th>75715</th>\n",
       "      <td>Tdehs</td>\n",
       "      <td>0.11</td>\n",
       "      <td>4.30e-01</td>\n",
       "      <td>3.22</td>\n",
       "      <td>60.96</td>\n",
       "    </tr>\n",
       "    <tr>\n",
       "      <th>21426</th>\n",
       "      <td>Tdehs</td>\n",
       "      <td>0.83</td>\n",
       "      <td>2.99e-01</td>\n",
       "      <td>-0.05</td>\n",
       "      <td>96.04</td>\n",
       "    </tr>\n",
       "    <tr>\n",
       "      <th>92341</th>\n",
       "      <td>TtcGQ</td>\n",
       "      <td>0.11</td>\n",
       "      <td>1.02e+00</td>\n",
       "      <td>0.91</td>\n",
       "      <td>101.32</td>\n",
       "    </tr>\n",
       "    <tr>\n",
       "      <th>60140</th>\n",
       "      <td>TtcGQ</td>\n",
       "      <td>0.57</td>\n",
       "      <td>-1.05e-01</td>\n",
       "      <td>6.44</td>\n",
       "      <td>85.35</td>\n",
       "    </tr>\n",
       "    <tr>\n",
       "      <th>89582</th>\n",
       "      <td>bsk9y</td>\n",
       "      <td>0.40</td>\n",
       "      <td>-4.00e-01</td>\n",
       "      <td>10.12</td>\n",
       "      <td>163.43</td>\n",
       "    </tr>\n",
       "    <tr>\n",
       "      <th>97785</th>\n",
       "      <td>bsk9y</td>\n",
       "      <td>0.38</td>\n",
       "      <td>5.84e-03</td>\n",
       "      <td>0.16</td>\n",
       "      <td>160.64</td>\n",
       "    </tr>\n",
       "    <tr>\n",
       "      <th>41724</th>\n",
       "      <td>bxg6G</td>\n",
       "      <td>-0.82</td>\n",
       "      <td>5.46e-01</td>\n",
       "      <td>3.63</td>\n",
       "      <td>93.01</td>\n",
       "    </tr>\n",
       "    <tr>\n",
       "      <th>1364</th>\n",
       "      <td>bxg6G</td>\n",
       "      <td>0.41</td>\n",
       "      <td>8.57e-01</td>\n",
       "      <td>-3.65</td>\n",
       "      <td>73.60</td>\n",
       "    </tr>\n",
       "    <tr>\n",
       "      <th>16633</th>\n",
       "      <td>fiKDv</td>\n",
       "      <td>0.16</td>\n",
       "      <td>1.03e+00</td>\n",
       "      <td>5.59</td>\n",
       "      <td>95.82</td>\n",
       "    </tr>\n",
       "    <tr>\n",
       "      <th>90815</th>\n",
       "      <td>fiKDv</td>\n",
       "      <td>0.05</td>\n",
       "      <td>8.41e-01</td>\n",
       "      <td>6.39</td>\n",
       "      <td>137.35</td>\n",
       "    </tr>\n",
       "  </tbody>\n",
       "</table>\n",
       "</div>"
      ],
      "text/plain": [
       "          id    f0        f1     f2  product\n",
       "66136  74z30  1.08 -3.12e-01   6.99   127.64\n",
       "64022  74z30  0.74  4.59e-01   5.15   140.77\n",
       "51970  A5aEY -0.18  9.36e-01  -2.09    33.02\n",
       "3389   A5aEY -0.04  1.57e-01   0.21    89.25\n",
       "69163  AGS9W -0.93  1.16e-01  -3.66    19.23\n",
       "42529  AGS9W  1.45 -4.80e-01   0.68   126.37\n",
       "931    HZww2  0.76  3.69e-01   1.86    30.68\n",
       "7530   HZww2  1.06 -3.74e-01  10.43   158.83\n",
       "63593  QcMuo  0.64 -4.73e-01   0.86    64.58\n",
       "1949   QcMuo  0.51 -3.24e-01  -2.22    75.50\n",
       "75715  Tdehs  0.11  4.30e-01   3.22    60.96\n",
       "21426  Tdehs  0.83  2.99e-01  -0.05    96.04\n",
       "92341  TtcGQ  0.11  1.02e+00   0.91   101.32\n",
       "60140  TtcGQ  0.57 -1.05e-01   6.44    85.35\n",
       "89582  bsk9y  0.40 -4.00e-01  10.12   163.43\n",
       "97785  bsk9y  0.38  5.84e-03   0.16   160.64\n",
       "41724  bxg6G -0.82  5.46e-01   3.63    93.01\n",
       "1364   bxg6G  0.41  8.57e-01  -3.65    73.60\n",
       "16633  fiKDv  0.16  1.03e+00   5.59    95.82\n",
       "90815  fiKDv  0.05  8.41e-01   6.39   137.35"
      ]
     },
     "metadata": {},
     "output_type": "display_data"
    },
    {
     "name": "stdout",
     "output_type": "stream",
     "text": [
      "False    99996\n",
      "True         4\n",
      "Name: id, dtype: int64\n"
     ]
    },
    {
     "data": {
      "text/html": [
       "<div>\n",
       "<style scoped>\n",
       "    .dataframe tbody tr th:only-of-type {\n",
       "        vertical-align: middle;\n",
       "    }\n",
       "\n",
       "    .dataframe tbody tr th {\n",
       "        vertical-align: top;\n",
       "    }\n",
       "\n",
       "    .dataframe thead th {\n",
       "        text-align: right;\n",
       "    }\n",
       "</style>\n",
       "<table border=\"1\" class=\"dataframe\">\n",
       "  <thead>\n",
       "    <tr style=\"text-align: right;\">\n",
       "      <th></th>\n",
       "      <th>id</th>\n",
       "      <th>f0</th>\n",
       "      <th>f1</th>\n",
       "      <th>f2</th>\n",
       "      <th>product</th>\n",
       "    </tr>\n",
       "  </thead>\n",
       "  <tbody>\n",
       "    <tr>\n",
       "      <th>5849</th>\n",
       "      <td>5ltQ6</td>\n",
       "      <td>-3.44</td>\n",
       "      <td>-12.30</td>\n",
       "      <td>2.00e+00</td>\n",
       "      <td>57.09</td>\n",
       "    </tr>\n",
       "    <tr>\n",
       "      <th>84461</th>\n",
       "      <td>5ltQ6</td>\n",
       "      <td>18.21</td>\n",
       "      <td>2.19</td>\n",
       "      <td>3.99e+00</td>\n",
       "      <td>107.81</td>\n",
       "    </tr>\n",
       "    <tr>\n",
       "      <th>1305</th>\n",
       "      <td>LHZR0</td>\n",
       "      <td>11.17</td>\n",
       "      <td>-1.95</td>\n",
       "      <td>3.00e+00</td>\n",
       "      <td>80.86</td>\n",
       "    </tr>\n",
       "    <tr>\n",
       "      <th>41906</th>\n",
       "      <td>LHZR0</td>\n",
       "      <td>-8.99</td>\n",
       "      <td>-4.29</td>\n",
       "      <td>2.01e+00</td>\n",
       "      <td>57.09</td>\n",
       "    </tr>\n",
       "    <tr>\n",
       "      <th>2721</th>\n",
       "      <td>bfPNe</td>\n",
       "      <td>-9.49</td>\n",
       "      <td>-5.46</td>\n",
       "      <td>4.01e+00</td>\n",
       "      <td>110.99</td>\n",
       "    </tr>\n",
       "    <tr>\n",
       "      <th>82178</th>\n",
       "      <td>bfPNe</td>\n",
       "      <td>-6.20</td>\n",
       "      <td>-4.82</td>\n",
       "      <td>3.00e+00</td>\n",
       "      <td>84.04</td>\n",
       "    </tr>\n",
       "    <tr>\n",
       "      <th>47591</th>\n",
       "      <td>wt4Uk</td>\n",
       "      <td>-9.09</td>\n",
       "      <td>-8.11</td>\n",
       "      <td>-2.31e-03</td>\n",
       "      <td>3.18</td>\n",
       "    </tr>\n",
       "    <tr>\n",
       "      <th>82873</th>\n",
       "      <td>wt4Uk</td>\n",
       "      <td>10.26</td>\n",
       "      <td>-9.38</td>\n",
       "      <td>4.99e+00</td>\n",
       "      <td>134.77</td>\n",
       "    </tr>\n",
       "  </tbody>\n",
       "</table>\n",
       "</div>"
      ],
      "text/plain": [
       "          id     f0     f1        f2  product\n",
       "5849   5ltQ6  -3.44 -12.30  2.00e+00    57.09\n",
       "84461  5ltQ6  18.21   2.19  3.99e+00   107.81\n",
       "1305   LHZR0  11.17  -1.95  3.00e+00    80.86\n",
       "41906  LHZR0  -8.99  -4.29  2.01e+00    57.09\n",
       "2721   bfPNe  -9.49  -5.46  4.01e+00   110.99\n",
       "82178  bfPNe  -6.20  -4.82  3.00e+00    84.04\n",
       "47591  wt4Uk  -9.09  -8.11 -2.31e-03     3.18\n",
       "82873  wt4Uk  10.26  -9.38  4.99e+00   134.77"
      ]
     },
     "metadata": {},
     "output_type": "display_data"
    },
    {
     "name": "stdout",
     "output_type": "stream",
     "text": [
      "False    99996\n",
      "True         4\n",
      "Name: id, dtype: int64\n"
     ]
    },
    {
     "data": {
      "text/html": [
       "<div>\n",
       "<style scoped>\n",
       "    .dataframe tbody tr th:only-of-type {\n",
       "        vertical-align: middle;\n",
       "    }\n",
       "\n",
       "    .dataframe tbody tr th {\n",
       "        vertical-align: top;\n",
       "    }\n",
       "\n",
       "    .dataframe thead th {\n",
       "        text-align: right;\n",
       "    }\n",
       "</style>\n",
       "<table border=\"1\" class=\"dataframe\">\n",
       "  <thead>\n",
       "    <tr style=\"text-align: right;\">\n",
       "      <th></th>\n",
       "      <th>id</th>\n",
       "      <th>f0</th>\n",
       "      <th>f1</th>\n",
       "      <th>f2</th>\n",
       "      <th>product</th>\n",
       "    </tr>\n",
       "  </thead>\n",
       "  <tbody>\n",
       "    <tr>\n",
       "      <th>45404</th>\n",
       "      <td>KUPhW</td>\n",
       "      <td>0.23</td>\n",
       "      <td>-1.70</td>\n",
       "      <td>4.99</td>\n",
       "      <td>11.72</td>\n",
       "    </tr>\n",
       "    <tr>\n",
       "      <th>55967</th>\n",
       "      <td>KUPhW</td>\n",
       "      <td>1.21</td>\n",
       "      <td>3.18</td>\n",
       "      <td>5.54</td>\n",
       "      <td>132.83</td>\n",
       "    </tr>\n",
       "    <tr>\n",
       "      <th>11449</th>\n",
       "      <td>VF7Jo</td>\n",
       "      <td>2.12</td>\n",
       "      <td>-0.86</td>\n",
       "      <td>5.75</td>\n",
       "      <td>181.72</td>\n",
       "    </tr>\n",
       "    <tr>\n",
       "      <th>49564</th>\n",
       "      <td>VF7Jo</td>\n",
       "      <td>-0.88</td>\n",
       "      <td>0.56</td>\n",
       "      <td>0.72</td>\n",
       "      <td>136.23</td>\n",
       "    </tr>\n",
       "    <tr>\n",
       "      <th>44378</th>\n",
       "      <td>Vcm5J</td>\n",
       "      <td>-1.23</td>\n",
       "      <td>-2.44</td>\n",
       "      <td>1.22</td>\n",
       "      <td>137.97</td>\n",
       "    </tr>\n",
       "    <tr>\n",
       "      <th>95090</th>\n",
       "      <td>Vcm5J</td>\n",
       "      <td>2.59</td>\n",
       "      <td>1.99</td>\n",
       "      <td>2.48</td>\n",
       "      <td>92.33</td>\n",
       "    </tr>\n",
       "    <tr>\n",
       "      <th>28039</th>\n",
       "      <td>xCHr8</td>\n",
       "      <td>1.63</td>\n",
       "      <td>0.37</td>\n",
       "      <td>-2.38</td>\n",
       "      <td>6.12</td>\n",
       "    </tr>\n",
       "    <tr>\n",
       "      <th>43233</th>\n",
       "      <td>xCHr8</td>\n",
       "      <td>-0.85</td>\n",
       "      <td>2.10</td>\n",
       "      <td>5.60</td>\n",
       "      <td>184.39</td>\n",
       "    </tr>\n",
       "  </tbody>\n",
       "</table>\n",
       "</div>"
      ],
      "text/plain": [
       "          id    f0    f1    f2  product\n",
       "45404  KUPhW  0.23 -1.70  4.99    11.72\n",
       "55967  KUPhW  1.21  3.18  5.54   132.83\n",
       "11449  VF7Jo  2.12 -0.86  5.75   181.72\n",
       "49564  VF7Jo -0.88  0.56  0.72   136.23\n",
       "44378  Vcm5J -1.23 -2.44  1.22   137.97\n",
       "95090  Vcm5J  2.59  1.99  2.48    92.33\n",
       "28039  xCHr8  1.63  0.37 -2.38     6.12\n",
       "43233  xCHr8 -0.85  2.10  5.60   184.39"
      ]
     },
     "metadata": {},
     "output_type": "display_data"
    }
   ],
   "source": [
    "for data in data_list:\n",
    "    print(data['id'].duplicated().value_counts())  \n",
    "    duplicates = data[data['id'].duplicated()].id.tolist()\n",
    "    display(data[data['id'].isin(duplicates)].sort_values(by = 'id'))"
   ]
  },
  {
   "cell_type": "markdown",
   "metadata": {},
   "source": [
    "В показателях ID имеются дубликаты, при этом основные показатели и целевой показатель разные, поэтому оставим эти данные. Удалим столбец с ID так как для модели он не нужен."
   ]
  },
  {
   "cell_type": "code",
   "execution_count": 7,
   "metadata": {
    "scrolled": true
   },
   "outputs": [
    {
     "data": {
      "text/html": [
       "<div>\n",
       "<style scoped>\n",
       "    .dataframe tbody tr th:only-of-type {\n",
       "        vertical-align: middle;\n",
       "    }\n",
       "\n",
       "    .dataframe tbody tr th {\n",
       "        vertical-align: top;\n",
       "    }\n",
       "\n",
       "    .dataframe thead th {\n",
       "        text-align: right;\n",
       "    }\n",
       "</style>\n",
       "<table border=\"1\" class=\"dataframe\">\n",
       "  <thead>\n",
       "    <tr style=\"text-align: right;\">\n",
       "      <th></th>\n",
       "      <th>f0</th>\n",
       "      <th>f1</th>\n",
       "      <th>f2</th>\n",
       "      <th>product</th>\n",
       "    </tr>\n",
       "  </thead>\n",
       "  <tbody>\n",
       "    <tr>\n",
       "      <th>99997</th>\n",
       "      <td>1.03</td>\n",
       "      <td>0.02</td>\n",
       "      <td>-1.35</td>\n",
       "      <td>64.38</td>\n",
       "    </tr>\n",
       "    <tr>\n",
       "      <th>99998</th>\n",
       "      <td>1.00</td>\n",
       "      <td>-0.53</td>\n",
       "      <td>1.58</td>\n",
       "      <td>74.04</td>\n",
       "    </tr>\n",
       "    <tr>\n",
       "      <th>99999</th>\n",
       "      <td>1.76</td>\n",
       "      <td>-0.27</td>\n",
       "      <td>5.72</td>\n",
       "      <td>149.63</td>\n",
       "    </tr>\n",
       "  </tbody>\n",
       "</table>\n",
       "</div>"
      ],
      "text/plain": [
       "         f0    f1    f2  product\n",
       "99997  1.03  0.02 -1.35    64.38\n",
       "99998  1.00 -0.53  1.58    74.04\n",
       "99999  1.76 -0.27  5.72   149.63"
      ]
     },
     "metadata": {},
     "output_type": "display_data"
    },
    {
     "data": {
      "text/html": [
       "<div>\n",
       "<style scoped>\n",
       "    .dataframe tbody tr th:only-of-type {\n",
       "        vertical-align: middle;\n",
       "    }\n",
       "\n",
       "    .dataframe tbody tr th {\n",
       "        vertical-align: top;\n",
       "    }\n",
       "\n",
       "    .dataframe thead th {\n",
       "        text-align: right;\n",
       "    }\n",
       "</style>\n",
       "<table border=\"1\" class=\"dataframe\">\n",
       "  <thead>\n",
       "    <tr style=\"text-align: right;\">\n",
       "      <th></th>\n",
       "      <th>f0</th>\n",
       "      <th>f1</th>\n",
       "      <th>f2</th>\n",
       "      <th>product</th>\n",
       "    </tr>\n",
       "  </thead>\n",
       "  <tbody>\n",
       "    <tr>\n",
       "      <th>99997</th>\n",
       "      <td>-7.38</td>\n",
       "      <td>-3.08</td>\n",
       "      <td>5.00e+00</td>\n",
       "      <td>137.95</td>\n",
       "    </tr>\n",
       "    <tr>\n",
       "      <th>99998</th>\n",
       "      <td>0.67</td>\n",
       "      <td>-6.15</td>\n",
       "      <td>1.00e+00</td>\n",
       "      <td>30.13</td>\n",
       "    </tr>\n",
       "    <tr>\n",
       "      <th>99999</th>\n",
       "      <td>-3.43</td>\n",
       "      <td>-7.79</td>\n",
       "      <td>-3.30e-03</td>\n",
       "      <td>3.18</td>\n",
       "    </tr>\n",
       "  </tbody>\n",
       "</table>\n",
       "</div>"
      ],
      "text/plain": [
       "         f0    f1        f2  product\n",
       "99997 -7.38 -3.08  5.00e+00   137.95\n",
       "99998  0.67 -6.15  1.00e+00    30.13\n",
       "99999 -3.43 -7.79 -3.30e-03     3.18"
      ]
     },
     "metadata": {},
     "output_type": "display_data"
    },
    {
     "data": {
      "text/html": [
       "<div>\n",
       "<style scoped>\n",
       "    .dataframe tbody tr th:only-of-type {\n",
       "        vertical-align: middle;\n",
       "    }\n",
       "\n",
       "    .dataframe tbody tr th {\n",
       "        vertical-align: top;\n",
       "    }\n",
       "\n",
       "    .dataframe thead th {\n",
       "        text-align: right;\n",
       "    }\n",
       "</style>\n",
       "<table border=\"1\" class=\"dataframe\">\n",
       "  <thead>\n",
       "    <tr style=\"text-align: right;\">\n",
       "      <th></th>\n",
       "      <th>f0</th>\n",
       "      <th>f1</th>\n",
       "      <th>f2</th>\n",
       "      <th>product</th>\n",
       "    </tr>\n",
       "  </thead>\n",
       "  <tbody>\n",
       "    <tr>\n",
       "      <th>99997</th>\n",
       "      <td>-1.20</td>\n",
       "      <td>-2.96</td>\n",
       "      <td>5.22</td>\n",
       "      <td>157.08</td>\n",
       "    </tr>\n",
       "    <tr>\n",
       "      <th>99998</th>\n",
       "      <td>-2.42</td>\n",
       "      <td>2.42</td>\n",
       "      <td>-5.55</td>\n",
       "      <td>51.80</td>\n",
       "    </tr>\n",
       "    <tr>\n",
       "      <th>99999</th>\n",
       "      <td>-2.55</td>\n",
       "      <td>-2.03</td>\n",
       "      <td>6.09</td>\n",
       "      <td>102.78</td>\n",
       "    </tr>\n",
       "  </tbody>\n",
       "</table>\n",
       "</div>"
      ],
      "text/plain": [
       "         f0    f1    f2  product\n",
       "99997 -1.20 -2.96  5.22   157.08\n",
       "99998 -2.42  2.42 -5.55    51.80\n",
       "99999 -2.55 -2.03  6.09   102.78"
      ]
     },
     "metadata": {},
     "output_type": "display_data"
    }
   ],
   "source": [
    "for data in data_list:\n",
    "    data.drop(columns=['id'],axis=1, inplace=True)\n",
    "    display(data.tail(3))"
   ]
  },
  {
   "cell_type": "markdown",
   "metadata": {},
   "source": [
    "Посмотрим основные показатели датафреймов."
   ]
  },
  {
   "cell_type": "code",
   "execution_count": 8,
   "metadata": {},
   "outputs": [
    {
     "name": "stdout",
     "output_type": "stream",
     "text": [
      "              f0         f1         f2    product\n",
      "count  100000.00  100000.00  100000.00  100000.00\n",
      "mean        0.50       0.25       2.50      92.50\n",
      "std         0.87       0.50       3.25      44.29\n",
      "min        -1.41      -0.85     -12.09       0.00\n",
      "25%        -0.07      -0.20       0.29      56.50\n",
      "50%         0.50       0.25       2.52      91.85\n",
      "75%         1.07       0.70       4.72     128.56\n",
      "max         2.36       1.34      16.00     185.36\n",
      "              f0         f1         f2    product\n",
      "count  100000.00  100000.00  100000.00  100000.00\n",
      "mean        1.14      -4.80       2.49      68.83\n",
      "std         8.97       5.12       1.70      45.94\n",
      "min       -31.61     -26.36      -0.02       0.00\n",
      "25%        -6.30      -8.27       1.00      26.95\n",
      "50%         1.15      -4.81       2.01      57.09\n",
      "75%         8.62      -1.33       4.00     107.81\n",
      "max        29.42      18.73       5.02     137.95\n",
      "             f0        f1         f2    product\n",
      "count  1.00e+05  1.00e+05  100000.00  100000.00\n",
      "mean   2.02e-03 -2.08e-03       2.50      95.00\n",
      "std    1.73e+00  1.73e+00       3.47      44.75\n",
      "min   -8.76e+00 -7.08e+00     -11.97       0.00\n",
      "25%   -1.16e+00 -1.17e+00       0.13      59.45\n",
      "50%    9.42e-03 -9.48e-03       2.48      94.93\n",
      "75%    1.16e+00  1.16e+00       4.86     130.60\n",
      "max    7.24e+00  7.84e+00      16.74     190.03\n"
     ]
    }
   ],
   "source": [
    "for data in data_list:\n",
    "    print(data.describe())"
   ]
  },
  {
   "cell_type": "markdown",
   "metadata": {},
   "source": [
    "Рассмотрим распределение значений признаков."
   ]
  },
  {
   "cell_type": "code",
   "execution_count": 9,
   "metadata": {},
   "outputs": [
    {
     "name": "stdout",
     "output_type": "stream",
     "text": [
      "\n",
      "Распределение признаков:\n"
     ]
    },
    {
     "data": {
      "image/png": "[encoded data removed]",
      "text/plain": [
       "<Figure size 432x288 with 4 Axes>"
      ]
     },
     "metadata": {
      "needs_background": "light"
     },
     "output_type": "display_data"
    },
    {
     "name": "stdout",
     "output_type": "stream",
     "text": [
      "\n",
      "Распределение признаков:\n"
     ]
    },
    {
     "data": {
      "image/png": "[encoded data removed]",
      "text/plain": [
       "<Figure size 432x288 with 4 Axes>"
      ]
     },
     "metadata": {
      "needs_background": "light"
     },
     "output_type": "display_data"
    },
    {
     "name": "stdout",
     "output_type": "stream",
     "text": [
      "\n",
      "Распределение признаков:\n"
     ]
    },
    {
     "data": {
      "image/png": "[encoded data removed]",
      "text/plain": [
       "<Figure size 432x288 with 4 Axes>"
      ]
     },
     "metadata": {
      "needs_background": "light"
     },
     "output_type": "display_data"
    }
   ],
   "source": [
    "for data in data_list:   \n",
    "    print(\"\\nРаспределение признаков:\")\n",
    "    data[[\"f0\",\"f1\",\"f2\"]].hist()\n",
    "    plt.show()"
   ]
  },
  {
   "cell_type": "code",
   "execution_count": 51,
   "metadata": {},
   "outputs": [],
   "source": [
    "def corr_matrix(data):    \n",
    "    corr_matrix = data.corr()\n",
    "    display(corr_matrix)\n",
    "    fig, ax = plt.subplots(figsize=(15, 6))\n",
    "    sns.heatmap(corr_matrix, annot=True, cmap=\"coolwarm\");\n",
    "    plt.show()"
   ]
  },
  {
   "cell_type": "code",
   "execution_count": 52,
   "metadata": {},
   "outputs": [
    {
     "data": {
      "text/html": [
       "<div>\n",
       "<style scoped>\n",
       "    .dataframe tbody tr th:only-of-type {\n",
       "        vertical-align: middle;\n",
       "    }\n",
       "\n",
       "    .dataframe tbody tr th {\n",
       "        vertical-align: top;\n",
       "    }\n",
       "\n",
       "    .dataframe thead th {\n",
       "        text-align: right;\n",
       "    }\n",
       "</style>\n",
       "<table border=\"1\" class=\"dataframe\">\n",
       "  <thead>\n",
       "    <tr style=\"text-align: right;\">\n",
       "      <th></th>\n",
       "      <th>f0</th>\n",
       "      <th>f1</th>\n",
       "      <th>f2</th>\n",
       "      <th>product</th>\n",
       "    </tr>\n",
       "  </thead>\n",
       "  <tbody>\n",
       "    <tr>\n",
       "      <th>f0</th>\n",
       "      <td>1.00e+00</td>\n",
       "      <td>-4.41e-01</td>\n",
       "      <td>-3.15e-03</td>\n",
       "      <td>0.14</td>\n",
       "    </tr>\n",
       "    <tr>\n",
       "      <th>f1</th>\n",
       "      <td>-4.41e-01</td>\n",
       "      <td>1.00e+00</td>\n",
       "      <td>1.72e-03</td>\n",
       "      <td>-0.19</td>\n",
       "    </tr>\n",
       "    <tr>\n",
       "      <th>f2</th>\n",
       "      <td>-3.15e-03</td>\n",
       "      <td>1.72e-03</td>\n",
       "      <td>1.00e+00</td>\n",
       "      <td>0.48</td>\n",
       "    </tr>\n",
       "    <tr>\n",
       "      <th>product</th>\n",
       "      <td>1.44e-01</td>\n",
       "      <td>-1.92e-01</td>\n",
       "      <td>4.84e-01</td>\n",
       "      <td>1.00</td>\n",
       "    </tr>\n",
       "  </tbody>\n",
       "</table>\n",
       "</div>"
      ],
      "text/plain": [
       "               f0        f1        f2  product\n",
       "f0       1.00e+00 -4.41e-01 -3.15e-03     0.14\n",
       "f1      -4.41e-01  1.00e+00  1.72e-03    -0.19\n",
       "f2      -3.15e-03  1.72e-03  1.00e+00     0.48\n",
       "product  1.44e-01 -1.92e-01  4.84e-01     1.00"
      ]
     },
     "metadata": {},
     "output_type": "display_data"
    },
    {
     "data": {
      "image/png": "[encoded data removed]",
      "text/plain": [
       "<Figure size 1080x432 with 2 Axes>"
      ]
     },
     "metadata": {
      "needs_background": "light"
     },
     "output_type": "display_data"
    }
   ],
   "source": [
    "corr_matrix(data_0)"
   ]
  },
  {
   "cell_type": "code",
   "execution_count": 53,
   "metadata": {},
   "outputs": [
    {
     "data": {
      "text/html": [
       "<div>\n",
       "<style scoped>\n",
       "    .dataframe tbody tr th:only-of-type {\n",
       "        vertical-align: middle;\n",
       "    }\n",
       "\n",
       "    .dataframe tbody tr th {\n",
       "        vertical-align: top;\n",
       "    }\n",
       "\n",
       "    .dataframe thead th {\n",
       "        text-align: right;\n",
       "    }\n",
       "</style>\n",
       "<table border=\"1\" class=\"dataframe\">\n",
       "  <thead>\n",
       "    <tr style=\"text-align: right;\">\n",
       "      <th></th>\n",
       "      <th>f0</th>\n",
       "      <th>f1</th>\n",
       "      <th>f2</th>\n",
       "      <th>product</th>\n",
       "    </tr>\n",
       "  </thead>\n",
       "  <tbody>\n",
       "    <tr>\n",
       "      <th>f0</th>\n",
       "      <td>1.00e+00</td>\n",
       "      <td>1.82e-01</td>\n",
       "      <td>-1.78e-03</td>\n",
       "      <td>-0.03</td>\n",
       "    </tr>\n",
       "    <tr>\n",
       "      <th>f1</th>\n",
       "      <td>1.82e-01</td>\n",
       "      <td>1.00e+00</td>\n",
       "      <td>-2.60e-03</td>\n",
       "      <td>-0.01</td>\n",
       "    </tr>\n",
       "    <tr>\n",
       "      <th>f2</th>\n",
       "      <td>-1.78e-03</td>\n",
       "      <td>-2.60e-03</td>\n",
       "      <td>1.00e+00</td>\n",
       "      <td>1.00</td>\n",
       "    </tr>\n",
       "    <tr>\n",
       "      <th>product</th>\n",
       "      <td>-3.05e-02</td>\n",
       "      <td>-1.02e-02</td>\n",
       "      <td>9.99e-01</td>\n",
       "      <td>1.00</td>\n",
       "    </tr>\n",
       "  </tbody>\n",
       "</table>\n",
       "</div>"
      ],
      "text/plain": [
       "               f0        f1        f2  product\n",
       "f0       1.00e+00  1.82e-01 -1.78e-03    -0.03\n",
       "f1       1.82e-01  1.00e+00 -2.60e-03    -0.01\n",
       "f2      -1.78e-03 -2.60e-03  1.00e+00     1.00\n",
       "product -3.05e-02 -1.02e-02  9.99e-01     1.00"
      ]
     },
     "metadata": {},
     "output_type": "display_data"
    },
    {
     "data": {
      "image/png": "[encoded data removed]",
      "text/plain": [
       "<Figure size 1080x432 with 2 Axes>"
      ]
     },
     "metadata": {
      "needs_background": "light"
     },
     "output_type": "display_data"
    }
   ],
   "source": [
    "corr_matrix(data_1)"
   ]
  },
  {
   "cell_type": "code",
   "execution_count": 54,
   "metadata": {},
   "outputs": [
    {
     "data": {
      "text/html": [
       "<div>\n",
       "<style scoped>\n",
       "    .dataframe tbody tr th:only-of-type {\n",
       "        vertical-align: middle;\n",
       "    }\n",
       "\n",
       "    .dataframe tbody tr th {\n",
       "        vertical-align: top;\n",
       "    }\n",
       "\n",
       "    .dataframe thead th {\n",
       "        text-align: right;\n",
       "    }\n",
       "</style>\n",
       "<table border=\"1\" class=\"dataframe\">\n",
       "  <thead>\n",
       "    <tr style=\"text-align: right;\">\n",
       "      <th></th>\n",
       "      <th>f0</th>\n",
       "      <th>f1</th>\n",
       "      <th>f2</th>\n",
       "      <th>product</th>\n",
       "    </tr>\n",
       "  </thead>\n",
       "  <tbody>\n",
       "    <tr>\n",
       "      <th>f0</th>\n",
       "      <td>1.00e+00</td>\n",
       "      <td>5.28e-04</td>\n",
       "      <td>-4.48e-04</td>\n",
       "      <td>-1.99e-03</td>\n",
       "    </tr>\n",
       "    <tr>\n",
       "      <th>f1</th>\n",
       "      <td>5.28e-04</td>\n",
       "      <td>1.00e+00</td>\n",
       "      <td>7.79e-04</td>\n",
       "      <td>-1.01e-03</td>\n",
       "    </tr>\n",
       "    <tr>\n",
       "      <th>f2</th>\n",
       "      <td>-4.48e-04</td>\n",
       "      <td>7.79e-04</td>\n",
       "      <td>1.00e+00</td>\n",
       "      <td>4.46e-01</td>\n",
       "    </tr>\n",
       "    <tr>\n",
       "      <th>product</th>\n",
       "      <td>-1.99e-03</td>\n",
       "      <td>-1.01e-03</td>\n",
       "      <td>4.46e-01</td>\n",
       "      <td>1.00e+00</td>\n",
       "    </tr>\n",
       "  </tbody>\n",
       "</table>\n",
       "</div>"
      ],
      "text/plain": [
       "               f0        f1        f2   product\n",
       "f0       1.00e+00  5.28e-04 -4.48e-04 -1.99e-03\n",
       "f1       5.28e-04  1.00e+00  7.79e-04 -1.01e-03\n",
       "f2      -4.48e-04  7.79e-04  1.00e+00  4.46e-01\n",
       "product -1.99e-03 -1.01e-03  4.46e-01  1.00e+00"
      ]
     },
     "metadata": {},
     "output_type": "display_data"
    },
    {
     "data": {
      "image/png": "[encoded data removed]",
      "text/plain": [
       "<Figure size 1080x432 with 2 Axes>"
      ]
     },
     "metadata": {
      "needs_background": "light"
     },
     "output_type": "display_data"
    }
   ],
   "source": [
    "corr_matrix(data_2)"
   ]
  },
  {
   "cell_type": "markdown",
   "metadata": {},
   "source": [
    "Данные загружены и не требуют дополнительной предобработки. В данных отсутствуют пропуски. В данных обнаружены дубликаты в наименовании ID, но при этом все показатели отличаются, поэтому столбец с ID был удален, так как не влияет на составление модели. Исходя из графиков можно оценить отсутствие больших выбросов в данных. Можно переходить  к процедуре получения модели."
   ]
  },
  {
   "cell_type": "markdown",
   "metadata": {},
   "source": [
    "## Обучение и проверка модели"
   ]
  },
  {
   "cell_type": "markdown",
   "metadata": {},
   "source": [
    "### Деление данных на обучающую и валидационную выборки в соотношении 75:25."
   ]
  },
  {
   "cell_type": "code",
   "execution_count": 11,
   "metadata": {},
   "outputs": [],
   "source": [
    "def split_data(data):\n",
    "    features = data.drop(['product'],axis=1)  # извлеките признаки\n",
    "    target = data['product']\n",
    "\n",
    "    features_train, features_valid, target_train, target_valid = train_test_split(\n",
    "    features, target, test_size=0.25, random_state=42)\n",
    "    \n",
    "    #сбросим индексы у новых таблиц\n",
    "    for df in features_train, features_valid, target_train, target_valid:\n",
    "        df.reset_index(drop=True,inplace =True)\n",
    "    print(features_train.shape, features_valid.shape, target_train.shape, target_valid.shape)\n",
    "    return features_train, features_valid, target_train, target_valid"
   ]
  },
  {
   "cell_type": "code",
   "execution_count": 12,
   "metadata": {},
   "outputs": [
    {
     "name": "stdout",
     "output_type": "stream",
     "text": [
      "(75000, 3) (25000, 3) (75000,) (25000,)\n",
      "(75000, 3) (25000, 3) (75000,) (25000,)\n",
      "(75000, 3) (25000, 3) (75000,) (25000,)\n"
     ]
    }
   ],
   "source": [
    "features_train_0, features_valid_0, target_train_0, target_valid_0 = split_data(data_0)\n",
    "features_train_1, features_valid_1, target_train_1, target_valid_1 = split_data(data_1)\n",
    "features_train_2, features_valid_2, target_train_2, target_valid_2 = split_data(data_2)"
   ]
  },
  {
   "cell_type": "markdown",
   "metadata": {},
   "source": [
    "### Обучение модели"
   ]
  },
  {
   "cell_type": "code",
   "execution_count": 13,
   "metadata": {},
   "outputs": [],
   "source": [
    "def line_model(data, features_train, features_valid, target_train, target_valid):\n",
    "    # зададим целевой признак и подготовим данные\n",
    "    target = data['product']\n",
    "    features = data.drop(['product'], axis=1)\n",
    "    \n",
    "       \n",
    "    # инициируем модели линейной регрессии\n",
    "    model = LinearRegression()\n",
    "    # обучим модель\n",
    "    model.fit(features_train, target_train)\n",
    "    # сделаем прогнозы\n",
    "    predicted_valid = model.predict(features_valid)\n",
    "    \n",
    "    # посчитаем mse\n",
    "    mse = mean_squared_error(target_valid, predicted_valid)\n",
    "    \n",
    "    # посчитаем rmse\n",
    "    rmse = mean_squared_error(target_valid, predicted_valid)**0.5\n",
    "    \n",
    "    # посчитаем mae\n",
    "    mae = mean_absolute_error(target_valid, predicted_valid)\n",
    "    \n",
    "    # посчитаем средний запас сырья\n",
    "    predicted_valid_mean = predicted_valid.sum()/len(predicted_valid)\n",
    "    \n",
    "    return target_valid, predicted_valid, mse, rmse, mae, predicted_valid_mean\n"
   ]
  },
  {
   "cell_type": "markdown",
   "metadata": {},
   "source": [
    "### Получение основных показателей для каждого региона"
   ]
  },
  {
   "cell_type": "code",
   "execution_count": 14,
   "metadata": {},
   "outputs": [],
   "source": [
    "target_valid_0, predicted_valid_0, mse_0, rmse_0, mae_0, predicted_valid_mean_0 = line_model(data_0, features_train_0, features_valid_0, target_train_0, target_valid_0)\n",
    "target_valid_1, predicted_valid_1, mse_1, rmse_1, mae_1, predicted_valid_mean_1 = line_model(data_1, features_train_1, features_valid_1, target_train_1, target_valid_1)\n",
    "target_valid_2, predicted_valid_2, mse_2, rmse_2, mae_2, predicted_valid_mean_2 = line_model(data_2, features_train_2, features_valid_2, target_train_2, target_valid_2)\n"
   ]
  },
  {
   "cell_type": "markdown",
   "metadata": {},
   "source": [
    "### Вывод основных показателей и их анализ"
   ]
  },
  {
   "cell_type": "code",
   "execution_count": 15,
   "metadata": {
    "scrolled": true
   },
   "outputs": [
    {
     "name": "stdout",
     "output_type": "stream",
     "text": [
      "Регион_0. Средний запас сырья: 92.39879990657768 mse: 1425.5608700093812 rmse: 37.75660035026169 mae: 31.047681538788183\n",
      "Регион_1. Средний запас сырья: 68.71287803913762 mse: 0.7925986566392013 rmse: 0.890280100102884 mae: 0.7170119535682554\n",
      "Регион_2. Средний запас сырья: 94.77102387765939 mse: 1611.6910636385903 rmse: 40.145872311342174 mae: 32.896958610578054\n"
     ]
    }
   ],
   "source": [
    "print('Регион_0. Средний запас сырья:', predicted_valid_mean_0, 'mse:', mse_0,  'rmse:', rmse_0, 'mae:', mae_0, )\n",
    "print('Регион_1. Средний запас сырья:', predicted_valid_mean_1, 'mse:', mse_1,  'rmse:', rmse_1, 'mae:', mae_1, )\n",
    "print('Регион_2. Средний запас сырья:', predicted_valid_mean_2, 'mse:', mse_2,  'rmse:', rmse_2, 'mae:', mae_2, )"
   ]
  },
  {
   "cell_type": "code",
   "execution_count": 16,
   "metadata": {},
   "outputs": [
    {
     "data": {
      "text/html": [
       "<div>\n",
       "<style scoped>\n",
       "    .dataframe tbody tr th:only-of-type {\n",
       "        vertical-align: middle;\n",
       "    }\n",
       "\n",
       "    .dataframe tbody tr th {\n",
       "        vertical-align: top;\n",
       "    }\n",
       "\n",
       "    .dataframe thead th {\n",
       "        text-align: right;\n",
       "    }\n",
       "</style>\n",
       "<table border=\"1\" class=\"dataframe\">\n",
       "  <thead>\n",
       "    <tr style=\"text-align: right;\">\n",
       "      <th></th>\n",
       "      <th>регион_0</th>\n",
       "      <th>регион_1</th>\n",
       "      <th>регион_2</th>\n",
       "    </tr>\n",
       "  </thead>\n",
       "  <tbody>\n",
       "    <tr>\n",
       "      <th>средний запас предсказанного сырья</th>\n",
       "      <td>92.40</td>\n",
       "      <td>68.71</td>\n",
       "      <td>94.77</td>\n",
       "    </tr>\n",
       "    <tr>\n",
       "      <th>RMSE модели</th>\n",
       "      <td>37.76</td>\n",
       "      <td>0.89</td>\n",
       "      <td>40.15</td>\n",
       "    </tr>\n",
       "    <tr>\n",
       "      <th>MAE модели</th>\n",
       "      <td>31.05</td>\n",
       "      <td>0.72</td>\n",
       "      <td>32.90</td>\n",
       "    </tr>\n",
       "  </tbody>\n",
       "</table>\n",
       "</div>"
      ],
      "text/plain": [
       "                                    регион_0  регион_1  регион_2\n",
       "средний запас предсказанного сырья     92.40     68.71     94.77\n",
       "RMSE модели                            37.76      0.89     40.15\n",
       "MAE модели                             31.05      0.72     32.90"
      ]
     },
     "execution_count": 16,
     "metadata": {},
     "output_type": "execute_result"
    }
   ],
   "source": [
    "comparison_tabl = pd.DataFrame(index=['средний запас предсказанного сырья','RMSE модели', 'MAE модели'], columns=['регион_0','регион_1','регион_2'])\n",
    "comparison_tabl['регион_0'] = predicted_valid_0.mean(), rmse_0, mae_0\n",
    "comparison_tabl['регион_1'] = predicted_valid_1.mean(), rmse_1, mae_1\n",
    "comparison_tabl['регион_2'] = predicted_valid_2.mean(), rmse_2, mae_2\n",
    "comparison_tabl"
   ]
  },
  {
   "cell_type": "markdown",
   "metadata": {},
   "source": [
    "Модели обучены и проверены на качество предсказания метриками RMSE, которая определяет величину среднеквадратичной ошибки в предсказании модели, а также MAE, показывающей среднее абсолютное отклонение модели. Исходя из полученных данных в нашей сводной таблицы, можно заметить, что величины RMSE и MAE в регионе_1 сильно отличается от двух других, это может быть связано с тем, что модель обучилась на практически равных по величине данных, и величина ошибки этой модели не может сильно варьирываться. Также надо учитывать, что модели для региона_0 и региона_2 модели имеют ошибку в 30 тыс. баррелей."
   ]
  },
  {
   "cell_type": "markdown",
   "metadata": {},
   "source": [
    "## Подготовка к расчёту прибыли"
   ]
  },
  {
   "cell_type": "markdown",
   "metadata": {},
   "source": [
    "При разведке региона исследуюем 500 точек, из которых с помощью машинного обучения выберем 200 лучших для разработки.\n",
    "Бюджет на разработку скважин в регионе — 10 млрд рублей.\n",
    "При нынешних ценах один баррель сырья приносит 450 рублей дохода. Доход с каждой единицы продукта составляет 450 тыс.\n",
    "рублей, поскольку объём указан в тысячах баррелей.\n",
    "После оценки рисков оставим лишь те регионы, в которых вероятность убытков меньше 2.5%. Среди них выберем регион с наибольшей средней прибылью."
   ]
  },
  {
   "cell_type": "code",
   "execution_count": 55,
   "metadata": {},
   "outputs": [],
   "source": [
    "# Все ключевые значения для расчётов сохраним в отдельных переменных.\n",
    "BUDGET_RUB = 10*10**9 # Бюджет на разработку 200 скважин в регионе\n",
    "TOTAL_POINTS = 500 # При разведке региона исследуют 500 точек\n",
    "SELECTED_POINTS = 200 # с помощью машинного обучения выбирают 200 точек лучших для разработки\n",
    "BUDGET_POINTS_RUB = BUDGET_RUB / SELECTED_POINTS\n",
    "BARREL_INCOME_RUB = 450 # доход с каждого барреля\n",
    "UNIT_INCOME_RUB = 450 * 10**3 # доход с каждой единицы продукта\n",
    "LOSS_THRESHOLD = 2,5 # порог вероятности убытков, максимальное допустимое значение"
   ]
  },
  {
   "cell_type": "markdown",
   "metadata": {},
   "source": [
    "### Определение точки безубыточности"
   ]
  },
  {
   "cell_type": "code",
   "execution_count": 59,
   "metadata": {},
   "outputs": [
    {
     "name": "stdout",
     "output_type": "stream",
     "text": [
      "Точка безубыточности: 22222 тыс. баррелей\n"
     ]
    }
   ],
   "source": [
    "n = BUDGET_RUB / UNIT_INCOME_RUB\n",
    "print(\"Точка безубыточности: {0:.0f} тыс. баррелей\".format(n))"
   ]
  },
  {
   "cell_type": "markdown",
   "metadata": {},
   "source": [
    "### Определение достаточного объёма сырья для безубыточной разработки новой скважины"
   ]
  },
  {
   "cell_type": "code",
   "execution_count": 60,
   "metadata": {},
   "outputs": [
    {
     "name": "stdout",
     "output_type": "stream",
     "text": [
      "Объём каждой скважины для безубыточной разработки должен составлять не менее: 111.11 тыс.баррелей\n"
     ]
    }
   ],
   "source": [
    "breakeven_point = BUDGET_RUB / UNIT_INCOME_RUB / SELECTED_POINTS\n",
    "print('Объём каждой скважины для безубыточной разработки должен составлять не менее: %.2f'%breakeven_point,'тыс.баррелей')"
   ]
  },
  {
   "cell_type": "markdown",
   "metadata": {},
   "source": [
    "Hасчет порога безубыточности показал, что для скважины он составляет 111 тыс. баррелей, для региона 22 222 тыс. баррелей"
   ]
  },
  {
   "cell_type": "markdown",
   "metadata": {},
   "source": [
    "### Расчет средней прибыли региона"
   ]
  },
  {
   "cell_type": "code",
   "execution_count": 61,
   "metadata": {},
   "outputs": [
    {
     "name": "stdout",
     "output_type": "stream",
     "text": [
      "Средняя расчетная прибыль региона_0 -1684108008.4080086\n",
      "Средняя расчетная прибыль региона_1 -3815840976.4776144\n",
      "Средняя расчетная прибыль региона_2 -1470607851.0106544\n"
     ]
    }
   ],
   "source": [
    "print('Средняя расчетная прибыль региона_0',\\\n",
    "      SELECTED_POINTS *\\\n",
    "      predicted_valid_mean_0 *\\\n",
    "     UNIT_INCOME_RUB\\\n",
    "     - BUDGET_RUB)\n",
    "print('Средняя расчетная прибыль региона_1',\\\n",
    "      SELECTED_POINTS *\\\n",
    "      predicted_valid_mean_1 *\\\n",
    "     UNIT_INCOME_RUB\\\n",
    "     - BUDGET_RUB)\n",
    "print('Средняя расчетная прибыль региона_2',\\\n",
    "      SELECTED_POINTS *\\\n",
    "      predicted_valid_mean_2 *\\\n",
    "     UNIT_INCOME_RUB\\\n",
    "     - BUDGET_RUB)"
   ]
  },
  {
   "cell_type": "markdown",
   "metadata": {},
   "source": [
    "### Определение среднего запаса сырья в регионе"
   ]
  },
  {
   "cell_type": "code",
   "execution_count": 62,
   "metadata": {},
   "outputs": [],
   "source": [
    "names = ['Регион_0', 'Регион_1', 'Регион_2']"
   ]
  },
  {
   "cell_type": "code",
   "execution_count": 63,
   "metadata": {},
   "outputs": [
    {
     "name": "stdout",
     "output_type": "stream",
     "text": [
      "\n",
      "Средний запас в Регион_0 регионе = 92.50 тыс. баррелей.\n",
      "Процент скважин с объёмом больше чем порог = 36.58%\n",
      "\n",
      "Средний запас в Регион_1 регионе = 68.83 тыс. баррелей.\n",
      "Процент скважин с объёмом больше чем порог = 16.54%\n",
      "\n",
      "Средний запас в Регион_2 регионе = 95.00 тыс. баррелей.\n",
      "Процент скважин с объёмом больше чем порог = 38.18%\n"
     ]
    }
   ],
   "source": [
    "for name, data in zip(names, data_list):\n",
    "    print()\n",
    "    print(f'Средний запас в {name} регионе = {data[\"product\"].mean():.2f} тыс. баррелей.')\n",
    "    print(f'Процент скважин с объёмом больше чем порог = {len(data.query(\"product > @breakeven_point\")) / len(data):.2%}')\n"
   ]
  },
  {
   "cell_type": "markdown",
   "metadata": {},
   "source": [
    "### Сравнение полученного объёма сырья со средним запасом в каждом регионе"
   ]
  },
  {
   "cell_type": "code",
   "execution_count": 64,
   "metadata": {},
   "outputs": [],
   "source": [
    "# отклонение от среднего в регионе_0\n",
    "distraction_0 = predicted_valid_mean_0 - breakeven_point"
   ]
  },
  {
   "cell_type": "code",
   "execution_count": 65,
   "metadata": {},
   "outputs": [
    {
     "name": "stdout",
     "output_type": "stream",
     "text": [
      "Разница объёма сырья для безубыточной разработки скважины относительно среднего значения по региону_0 составляет:  -18.71 тыс. баррелей\n"
     ]
    }
   ],
   "source": [
    "print(f'Разница объёма сырья для безубыточной разработки скважины относительно среднего значения по региону_0 составляет:  \\\n",
    "{round(distraction_0, 2)} тыс. баррелей')"
   ]
  },
  {
   "cell_type": "code",
   "execution_count": 66,
   "metadata": {},
   "outputs": [],
   "source": [
    "# отклонение от среднего в регионе_1\n",
    "distraction_1 = predicted_valid_mean_1 - breakeven_point"
   ]
  },
  {
   "cell_type": "code",
   "execution_count": 67,
   "metadata": {},
   "outputs": [
    {
     "name": "stdout",
     "output_type": "stream",
     "text": [
      "Разница объёма сырья для безубыточной разработки скважины относительно среднего значения по региону_1 составляет:  -42.4 тыс. баррелей\n"
     ]
    }
   ],
   "source": [
    "print(f'Разница объёма сырья для безубыточной разработки скважины относительно среднего значения по региону_1 составляет:  \\\n",
    "{round(distraction_1, 2)} тыс. баррелей')"
   ]
  },
  {
   "cell_type": "code",
   "execution_count": 68,
   "metadata": {},
   "outputs": [],
   "source": [
    "# отклонение от среднего в регионе_2\n",
    "distraction_2 = predicted_valid_mean_2 - breakeven_point"
   ]
  },
  {
   "cell_type": "code",
   "execution_count": 69,
   "metadata": {},
   "outputs": [
    {
     "name": "stdout",
     "output_type": "stream",
     "text": [
      "Разница объёма сырья для безубыточной разработки скважины относительно среднего значения по региону_2 составляет:  -16.34 тыс. баррелей\n"
     ]
    }
   ],
   "source": [
    "print(f'Разница объёма сырья для безубыточной разработки скважины относительно среднего значения по региону_2 составляет:  \\\n",
    "{round(distraction_2, 2)} тыс. баррелей')"
   ]
  },
  {
   "cell_type": "markdown",
   "metadata": {},
   "source": [
    "Определен достаточный объём сырья для безубыточной разработки новой скважины, равный 111,11 тыс. баррелей. В каждом из трёх регионов средний запас сырья скважины меньше полученного значения достаточного объёма сырья на 18.7, 42.4, 16.3 тыс. баррелей. На основании данного заключения можно отметить высокий риск разработок скважин преимущественно в регионе_1. Средний запас в регионах варьируется от 68 до 95 тыс. баррелей. Исходя из полученных данных становится очевидно, что среднее количество запасов сырья по регионам недостаточное даже для окупаемости разработки, требуется выбрать скважины с максимальными запасами."
   ]
  },
  {
   "cell_type": "markdown",
   "metadata": {},
   "source": [
    " ## Функция для расчёта прибыли по выбранным скважинам и предсказаниям модели"
   ]
  },
  {
   "cell_type": "markdown",
   "metadata": {},
   "source": [
    "### Выбор скважин с максимальными значениями предсказаний."
   ]
  },
  {
   "cell_type": "code",
   "execution_count": 70,
   "metadata": {},
   "outputs": [
    {
     "data": {
      "text/plain": [
       "array([101.90101715,  78.21777385, 115.26690103, ...,  82.54439653,\n",
       "        81.82668931,  93.12106221])"
      ]
     },
     "execution_count": 70,
     "metadata": {},
     "output_type": "execute_result"
    }
   ],
   "source": [
    "predicted_valid_0"
   ]
  },
  {
   "cell_type": "markdown",
   "metadata": {},
   "source": [
    "Привязка индексов скважин к предсказаниям модели и сортировка списка по убыванию"
   ]
  },
  {
   "cell_type": "code",
   "execution_count": 71,
   "metadata": {},
   "outputs": [
    {
     "data": {
      "text/plain": [
       "6958     176.54\n",
       "18194    176.27\n",
       "17251    173.25\n",
       "457      172.80\n",
       "2202     172.74\n",
       "          ...  \n",
       "8772     146.95\n",
       "15975    146.95\n",
       "7846     146.95\n",
       "6633     146.95\n",
       "7154     146.87\n",
       "Length: 200, dtype: float64"
      ]
     },
     "execution_count": 71,
     "metadata": {},
     "output_type": "execute_result"
    }
   ],
   "source": [
    "probs_sorted_0 = pd.Series(predicted_valid_0, index=target_valid_0.index).sort_values(ascending=False)\n",
    "selected_max_0 = probs_sorted_0[:200]\n",
    "selected_max_0"
   ]
  },
  {
   "cell_type": "markdown",
   "metadata": {},
   "source": [
    "### Суммирование целевого значения объёма сырья и расчет совокупной прибыли"
   ]
  },
  {
   "cell_type": "code",
   "execution_count": 72,
   "metadata": {},
   "outputs": [
    {
     "name": "stdout",
     "output_type": "stream",
     "text": [
      "Суммарный запас сырья в 200 лучших скважинах составит: 30881.46 тыс.баррелей\n"
     ]
    }
   ],
   "source": [
    "selected_max_0_sum = selected_max_0.sum()\n",
    "print('Суммарный запас сырья в 200 лучших скважинах составит: %.2f тыс.баррелей'%selected_max_0_sum)"
   ]
  },
  {
   "cell_type": "code",
   "execution_count": 73,
   "metadata": {},
   "outputs": [
    {
     "name": "stdout",
     "output_type": "stream",
     "text": [
      "Прибыль для полученного объёма сырья составит 3896658479.67 тыс.рублей\n"
     ]
    }
   ],
   "source": [
    "profit_pred_0=(selected_max_0_sum*UNIT_INCOME_RUB) - BUDGET_RUB\n",
    "print('Прибыль для полученного объёма сырья составит %.2f тыс.рублей'%profit_pred_0)"
   ]
  },
  {
   "cell_type": "markdown",
   "metadata": {},
   "source": [
    "### Автоматизирование процедур вычисления в функции"
   ]
  },
  {
   "cell_type": "code",
   "execution_count": 76,
   "metadata": {},
   "outputs": [],
   "source": [
    "def profit_for_vp(predict,target,count):\n",
    "    probs_sorted = pd.Series(predict, index=target.index).sort_values(ascending=False)\n",
    "    selected_max = probs_sorted[:count].sum()\n",
    "    profit_pred=(selected_max*UNIT_INCOME_RUB)-BUDGET_RUB\n",
    "    print('Суммарный запас сырья в 200 лучших скважинах составит: %.2f тыс.баррелей'%selected_max)\n",
    "    print('Прибыль для полученного объёма сырья составит %.2f млн.рублей'%(profit_pred/1000000))\n"
   ]
  },
  {
   "cell_type": "markdown",
   "metadata": {},
   "source": [
    "Прибыль для региона_0"
   ]
  },
  {
   "cell_type": "code",
   "execution_count": 77,
   "metadata": {},
   "outputs": [
    {
     "name": "stdout",
     "output_type": "stream",
     "text": [
      "Суммарный запас сырья в 200 лучших скважинах составит: 30881.46 тыс.баррелей\n",
      "Прибыль для полученного объёма сырья составит 3896.66 млн.рублей\n"
     ]
    }
   ],
   "source": [
    "profit_for_vp(predicted_valid_0,target_valid_0,200)"
   ]
  },
  {
   "cell_type": "markdown",
   "metadata": {},
   "source": [
    "Прибыль для региона_1"
   ]
  },
  {
   "cell_type": "code",
   "execution_count": 78,
   "metadata": {},
   "outputs": [
    {
     "name": "stdout",
     "output_type": "stream",
     "text": [
      "Суммарный запас сырья в 200 лучших скважинах составит: 27748.75 тыс.баррелей\n",
      "Прибыль для полученного объёма сырья составит 2486.94 млн.рублей\n"
     ]
    }
   ],
   "source": [
    "profit_for_vp(predicted_valid_1,target_valid_1,200)"
   ]
  },
  {
   "cell_type": "markdown",
   "metadata": {},
   "source": [
    "Прибыль для региона_2"
   ]
  },
  {
   "cell_type": "code",
   "execution_count": 79,
   "metadata": {},
   "outputs": [
    {
     "name": "stdout",
     "output_type": "stream",
     "text": [
      "Суммарный запас сырья в 200 лучших скважинах составит: 29728.85 тыс.баррелей\n",
      "Прибыль для полученного объёма сырья составит 3377.98 млн.рублей\n"
     ]
    }
   ],
   "source": [
    "profit_for_vp(predicted_valid_2,target_valid_2,200)"
   ]
  },
  {
   "cell_type": "markdown",
   "metadata": {},
   "source": [
    "Проведенный расчет суммарного запаса сырья в 200 лучших скважинах и прибыли для полученного объема показал, что все три региона потенциально прибыльные, для определения наиболее выгодного с точки зрения окупаемости вложений и рисков убытка далее проведём расчёт вероятности."
   ]
  },
  {
   "cell_type": "markdown",
   "metadata": {},
   "source": [
    "## Расчёт прибыли и рисков "
   ]
  },
  {
   "cell_type": "markdown",
   "metadata": {},
   "source": [
    "### Применим технику Bootstrap с 1000 выборок, чтобы найти распределение прибыли"
   ]
  },
  {
   "cell_type": "markdown",
   "metadata": {},
   "source": [
    "Найдём среднюю прибыль, 95%-й доверительный интервал и риск убытков"
   ]
  },
  {
   "cell_type": "markdown",
   "metadata": {},
   "source": [
    "При́быль\n",
    "- положительная разница между суммарными доходами (выручка от реализации товаров и услуг) и затратами на разработку скважин\n",
    "\n",
    "Убыток\n",
    "- уменьшение материальных и денежных ресурсов в результате превышения расходов над доходами (отрицательная прибыль)"
   ]
  },
  {
   "cell_type": "code",
   "execution_count": 37,
   "metadata": {},
   "outputs": [],
   "source": [
    "def profit_for_vp2(predict,target,count):\n",
    "    probs_sorted = pd.Series(predict).sort_values(ascending=False)\n",
    "    selected_points = target[probs_sorted.index][:count]\n",
    "    product = selected_points.sum()\n",
    "    revenue = product * unit_income_rub \n",
    "    return revenue - budget_rub"
   ]
  },
  {
   "cell_type": "code",
   "execution_count": 98,
   "metadata": {},
   "outputs": [],
   "source": [
    "def bootstap_1000(target,predict):\n",
    "    values = []\n",
    "    count=0\n",
    "    state = np.random.RandomState(42)\n",
    "    predict_e = pd.Series(predict, index=target.index)\n",
    "    \n",
    "    for i in tqdm(range(1000)):\n",
    "        target_subsample = target.sample(n=500,replace=True, random_state=state)\n",
    "  \n",
    "        probs_subsample = predict_e[target_subsample.index]\n",
    "        values.append(profit_for_vp2(probs_subsample,target_subsample, 200))  \n",
    "    \n",
    "   \n",
    "            \n",
    "    values = pd.Series(values)\n",
    "    mean = values.mean()\n",
    "    risk = (values < 0).mean()\n",
    "\n",
    "    \n",
    "    plt.title('Распределение прибыли')\n",
    "    values.plot(kind=\"hist\", grid=True, figsize=(8,5))\n",
    "    plt.xlabel('Прибыль, тыс.руб')\n",
    "    plt.ylabel('Количество')\n",
    "    plt.show()\n",
    "    \n",
    "    low_95 = values.quantile(0.025)\n",
    "    high_95 = values.quantile(0.975)\n",
    "    \n",
    "    print(\"Средняя прибыль: {:.2f} млн.руб\".format(mean/1000000))\n",
    "    print('С вероятностью 95% прибыль в данном регионе будет составлять от: {:.2f} млн.руб до: {:.2f} млн.руб'.format((low_95/1000000),(high_95/1000000)))\n",
    "    print ('Процент вероятности убытка в данном регионе составит {:.1%}'.format(risk))"
   ]
  },
  {
   "cell_type": "markdown",
   "metadata": {},
   "source": [
    "Распределение прибыли регион_0"
   ]
  },
  {
   "cell_type": "code",
   "execution_count": 99,
   "metadata": {},
   "outputs": [
    {
     "data": {
      "application/vnd.jupyter.widget-view+json": {
       "model_id": "308c8a0aa6094a689683672f1e58b76e",
       "version_major": 2,
       "version_minor": 0
      },
      "text/plain": [
       "  0%|          | 0/1000 [00:00<?, ?it/s]"
      ]
     },
     "metadata": {},
     "output_type": "display_data"
    },
    {
     "data": {
      "image/png": "[encoded data removed]",
      "text/plain": [
       "<Figure size 576x360 with 1 Axes>"
      ]
     },
     "metadata": {
      "needs_background": "light"
     },
     "output_type": "display_data"
    },
    {
     "name": "stdout",
     "output_type": "stream",
     "text": [
      "Средняя прибыль: 427.85 млн.руб\n",
      "С вероятностью 95% прибыль в данном регионе будет составлять от: -97.25 млн.руб до: 954.22 млн.руб\n",
      "Процент вероятности убытка в данном регионе составит 5.5%\n"
     ]
    }
   ],
   "source": [
    "bootstap_1000(target_valid_0,predicted_valid_0)"
   ]
  },
  {
   "cell_type": "markdown",
   "metadata": {},
   "source": [
    "Распределение прибыли регион_1"
   ]
  },
  {
   "cell_type": "code",
   "execution_count": 100,
   "metadata": {},
   "outputs": [
    {
     "data": {
      "application/vnd.jupyter.widget-view+json": {
       "model_id": "74dcbb6fa6664c3399f27f7b81dfaf87",
       "version_major": 2,
       "version_minor": 0
      },
      "text/plain": [
       "  0%|          | 0/1000 [00:00<?, ?it/s]"
      ]
     },
     "metadata": {},
     "output_type": "display_data"
    },
    {
     "data": {
      "image/png": "[encoded data removed]",
      "text/plain": [
       "<Figure size 576x360 with 1 Axes>"
      ]
     },
     "metadata": {
      "needs_background": "light"
     },
     "output_type": "display_data"
    },
    {
     "name": "stdout",
     "output_type": "stream",
     "text": [
      "Средняя прибыль: 511.36 млн.руб\n",
      "С вероятностью 95% прибыль в данном регионе будет составлять от: 98.87 млн.руб до: 940.72 млн.руб\n",
      "Процент вероятности убытка в данном регионе составит 0.9%\n"
     ]
    }
   ],
   "source": [
    "bootstap_1000(target_valid_1,predicted_valid_1)"
   ]
  },
  {
   "cell_type": "markdown",
   "metadata": {},
   "source": [
    "Распределение прибыли регион_2"
   ]
  },
  {
   "cell_type": "code",
   "execution_count": 101,
   "metadata": {},
   "outputs": [
    {
     "data": {
      "application/vnd.jupyter.widget-view+json": {
       "model_id": "1413b041b9e64ef2b1a8e51efc8f0a76",
       "version_major": 2,
       "version_minor": 0
      },
      "text/plain": [
       "  0%|          | 0/1000 [00:00<?, ?it/s]"
      ]
     },
     "metadata": {},
     "output_type": "display_data"
    },
    {
     "data": {
      "image/png": "[encoded data removed]",
      "text/plain": [
       "<Figure size 576x360 with 1 Axes>"
      ]
     },
     "metadata": {
      "needs_background": "light"
     },
     "output_type": "display_data"
    },
    {
     "name": "stdout",
     "output_type": "stream",
     "text": [
      "Средняя прибыль: 402.58 млн.руб\n",
      "С вероятностью 95% прибыль в данном регионе будет составлять от: -137.16 млн.руб до: 929.89 млн.руб\n",
      "Процент вероятности убытка в данном регионе составит 7.4%\n"
     ]
    }
   ],
   "source": [
    "bootstap_1000(target_valid_2,predicted_valid_2)"
   ]
  },
  {
   "cell_type": "markdown",
   "metadata": {},
   "source": [
    "### Выбор региона"
   ]
  },
  {
   "cell_type": "markdown",
   "metadata": {},
   "source": [
    "После оценки рисков оставим лишь те регионы, в которых вероятность убытков меньше 2.5%. Среди них выберем регион с наибольшей средней прибылью"
   ]
  },
  {
   "cell_type": "code",
   "execution_count": 42,
   "metadata": {},
   "outputs": [
    {
     "data": {
      "text/html": [
       "<div>\n",
       "<style scoped>\n",
       "    .dataframe tbody tr th:only-of-type {\n",
       "        vertical-align: middle;\n",
       "    }\n",
       "\n",
       "    .dataframe tbody tr th {\n",
       "        vertical-align: top;\n",
       "    }\n",
       "\n",
       "    .dataframe thead th {\n",
       "        text-align: right;\n",
       "    }\n",
       "</style>\n",
       "<table border=\"1\" class=\"dataframe\">\n",
       "  <thead>\n",
       "    <tr style=\"text-align: right;\">\n",
       "      <th></th>\n",
       "      <th>регион_0</th>\n",
       "      <th>регион_1</th>\n",
       "      <th>регион_2</th>\n",
       "    </tr>\n",
       "  </thead>\n",
       "  <tbody>\n",
       "    <tr>\n",
       "      <th>Средняя прибыль в регионе, млн.руб</th>\n",
       "      <td>427.35</td>\n",
       "      <td>511.36</td>\n",
       "      <td>402.58</td>\n",
       "    </tr>\n",
       "    <tr>\n",
       "      <th>Суммарный запас сырья, тыс.баррелей</th>\n",
       "      <td>30881.96</td>\n",
       "      <td>27748.75</td>\n",
       "      <td>29730.68</td>\n",
       "    </tr>\n",
       "    <tr>\n",
       "      <th>Вероятность убытка, %</th>\n",
       "      <td>5.5</td>\n",
       "      <td>0.9</td>\n",
       "      <td>7.4</td>\n",
       "    </tr>\n",
       "  </tbody>\n",
       "</table>\n",
       "</div>"
      ],
      "text/plain": [
       "                                     регион_0  регион_1  регион_2\n",
       "Средняя прибыль в регионе, млн.руб     427.35    511.36    402.58\n",
       "Суммарный запас сырья, тыс.баррелей  30881.96  27748.75  29730.68\n",
       "Вероятность убытка, %                     5.5       0.9       7.4"
      ]
     },
     "execution_count": 42,
     "metadata": {},
     "output_type": "execute_result"
    }
   ],
   "source": [
    "comparison_tabl = pd.DataFrame(index=['Средняя прибыль в регионе, млн.руб','Суммарный запас сырья, тыс.баррелей','Вероятность убытка, %'], \n",
    "                               columns=['регион_0','регион_1','регион_2'])\n",
    "comparison_tabl['регион_0'] = '427.35', '30881.96','5.5'\n",
    "comparison_tabl['регион_1'] = '511.36', '27748.75','0.9'\n",
    "comparison_tabl['регион_2'] = '402.58', '29730.68','7.4'\n",
    "comparison_tabl"
   ]
  },
  {
   "cell_type": "code",
   "execution_count": 43,
   "metadata": {},
   "outputs": [
    {
     "data": {
      "image/png": "[encoded data removed]",
      "text/plain": [
       "<Figure size 576x360 with 1 Axes>"
      ]
     },
     "metadata": {
      "needs_background": "light"
     },
     "output_type": "display_data"
    }
   ],
   "source": [
    "comparison_tabl.astype('float').iloc[0,:].plot(kind=\"bar\", figsize=(8,5), grid=True, alpha=0.7, subplots=True)\n",
    "plt.title('Средняя прибыль трёх представленных регионов')\n",
    "plt.ylabel('Средняя прибыль в регионе, млн.руб')\n",
    "plt.show()"
   ]
  },
  {
   "cell_type": "markdown",
   "metadata": {},
   "source": [
    "Согласно распределению среднего значения прибыли с региона, самым прибыльным оказался регион_1, средняя прибыль в этом регионе составит 511,36 млн.рублей. Два других региона не прошли отбор по минимально допустимому порогу убытка в 2,5%. Таким образом не смотря на сравнительно меньшие запасы сырья, по сравнению с другими регионами, средняя доходность со скважин во регионе_1 прогнозируется выше других."
   ]
  },
  {
   "cell_type": "markdown",
   "metadata": {},
   "source": [
    "## Основные выводы"
   ]
  },
  {
   "cell_type": "markdown",
   "metadata": {},
   "source": [
    "Рассмотрены данные по запасам в скважинах трёх регионов, в каждом из которых представлены сведения о запасах нефти по 10 тыс.скважинам. имеются обезличенные признаки, влияющие на запасы в скважинах.Основная задача проекта заключалась в определении региона, где добыча нефти приненсет максимальную прибыль.  \n",
    "\n",
    "Данные были загружены и не потребовали дополнительной предобработки. В данных отсутствуют пропуски. В данных обнаружены дубликаты в наименовании ID, но при этом все показатели отличаются, поэтому столбец с ID был удален, так как не влияет на составление модели. Исходя из графиков было выявлено отсутствие больших выбросов в данных. \n",
    "\n",
    "Для оценки перспективы разработки по регионам, была обучена модель и выполнены предсказания среднего запаса сырья по регионам при помощи линейной регрессии. Модели были проверены на качество предсказания метриками RMSE, которая определяет величину среднеквадратичной ошибки в предсказании модели, а также MAE, показывающей среднее абсолютное отклонение модели. Исходя из полученных данных вустановлено, что величины RMSE и MAE в регионе_1 сильно отличается от двух других, модель обладает лучшими показателями. Также надо учитывать, что модели для региона_0 и региона_2 модели имеют ошибку в 30 тыс. баррелей, что достаточно существенно.\n",
    "\n",
    "Определен достаточный объём сырья для безубыточной разработки новой скважины, равный 111,11 тыс. баррелей. В каждом из трёх регионов средний запас сырья скважины меньше полученного значения достаточного объёма сырья на 18.7, 42.4, 16.3 тыс. баррелей. На основании данного заключения можно отметить высокий риск разработок скважин преимущественно в регионе_1. Средний запас в регионах варьируется от 68 до 95 тыс. баррелей. Исходя из полученных данных становится очевидно, что среднее количество запасов сырья по регионам недостаточное даже для окупаемости разработки, требуется выбрать скважины с максимальными запасами.\n",
    "\n",
    "Проведенный расчет суммарного запаса сырья в 200 лучших скважинах и прибыли для полученного объема показал, что все три региона потенциально прибыльные, для определения наиболее выгодного с точки зрения окупаемости вложений и рисков убытка далее проведём расчёт вероятности получения прибыли и рисков.\n",
    "\n",
    "Согласно распределению среднего значения прибыли с региона, самым прибыльным оказался регион_1, средняя прибыль в этом регионе составит 511,36 млн.рублей. Два других региона не прошли отбор по минимально допустимому порогу убытка в 2,5%. Таким образом не смотря на сравнительно меньшие запасы сырья, по сравнению с другими регионами, средняя доходность со скважин во регионе_1 прогнозируется выше других.\n",
    "\n",
    "Таким образом, установлено, что добыча нефти в регионе_1 принесет максимальную прибыль.\n"
   ]
  }
 ],
 "metadata": {
  "ExecuteTimeLog": [
   {
    "duration": 1756,
    "start_time": "2023-10-25T06:11:47.579Z"
   },
   {
    "duration": 816,
    "start_time": "2023-10-25T06:12:12.313Z"
   },
   {
    "duration": 14,
    "start_time": "2023-10-25T06:12:33.971Z"
   },
   {
    "duration": 14,
    "start_time": "2023-10-25T06:12:47.774Z"
   },
   {
    "duration": 9,
    "start_time": "2023-10-25T06:12:56.717Z"
   },
   {
    "duration": 70,
    "start_time": "2023-10-25T06:18:43.295Z"
   },
   {
    "duration": 447,
    "start_time": "2023-10-25T06:19:20.975Z"
   },
   {
    "duration": 146,
    "start_time": "2023-10-25T06:20:36.117Z"
   },
   {
    "duration": 54,
    "start_time": "2023-10-25T06:23:20.145Z"
   },
   {
    "duration": 116,
    "start_time": "2023-10-25T06:24:26.685Z"
   },
   {
    "duration": 25,
    "start_time": "2023-10-25T06:24:46.892Z"
   },
   {
    "duration": 29,
    "start_time": "2023-10-25T06:27:23.085Z"
   },
   {
    "duration": 170,
    "start_time": "2023-10-25T06:29:05.346Z"
   },
   {
    "duration": 27,
    "start_time": "2023-10-25T06:46:25.753Z"
   },
   {
    "duration": 18,
    "start_time": "2023-10-25T06:46:42.779Z"
   },
   {
    "duration": 16,
    "start_time": "2023-10-25T06:46:50.115Z"
   },
   {
    "duration": 13,
    "start_time": "2023-10-25T06:46:55.322Z"
   },
   {
    "duration": 20,
    "start_time": "2023-10-25T06:47:13.102Z"
   },
   {
    "duration": 17,
    "start_time": "2023-10-25T06:47:30.693Z"
   },
   {
    "duration": 6,
    "start_time": "2023-10-25T06:47:41.575Z"
   },
   {
    "duration": 451,
    "start_time": "2023-10-25T06:47:42.513Z"
   },
   {
    "duration": 70,
    "start_time": "2023-10-25T06:47:42.966Z"
   },
   {
    "duration": 22,
    "start_time": "2023-10-25T06:47:43.038Z"
   },
   {
    "duration": 145,
    "start_time": "2023-10-25T06:47:43.082Z"
   },
   {
    "duration": 140,
    "start_time": "2023-10-25T06:47:43.364Z"
   },
   {
    "duration": 29,
    "start_time": "2023-10-25T06:47:45.437Z"
   },
   {
    "duration": 13,
    "start_time": "2023-10-25T06:47:52.485Z"
   },
   {
    "duration": 5,
    "start_time": "2023-10-25T06:47:57.815Z"
   },
   {
    "duration": 484,
    "start_time": "2023-10-25T06:47:58.372Z"
   },
   {
    "duration": 67,
    "start_time": "2023-10-25T06:47:58.858Z"
   },
   {
    "duration": 21,
    "start_time": "2023-10-25T06:47:58.927Z"
   },
   {
    "duration": 150,
    "start_time": "2023-10-25T06:47:58.950Z"
   },
   {
    "duration": 154,
    "start_time": "2023-10-25T06:47:59.102Z"
   },
   {
    "duration": 53,
    "start_time": "2023-10-25T06:47:59.258Z"
   },
   {
    "duration": 90,
    "start_time": "2023-10-25T06:53:33.474Z"
   },
   {
    "duration": 91,
    "start_time": "2023-10-25T06:53:46.745Z"
   },
   {
    "duration": 6,
    "start_time": "2023-10-25T07:46:16.070Z"
   },
   {
    "duration": 453,
    "start_time": "2023-10-25T07:46:16.986Z"
   },
   {
    "duration": 85,
    "start_time": "2023-10-25T07:46:17.441Z"
   },
   {
    "duration": 23,
    "start_time": "2023-10-25T07:46:17.529Z"
   },
   {
    "duration": 162,
    "start_time": "2023-10-25T07:46:18.142Z"
   },
   {
    "duration": 163,
    "start_time": "2023-10-25T07:46:18.669Z"
   },
   {
    "duration": 32,
    "start_time": "2023-10-25T07:46:18.834Z"
   },
   {
    "duration": 144,
    "start_time": "2023-10-25T07:46:18.869Z"
   },
   {
    "duration": 1165,
    "start_time": "2023-10-25T07:48:45.224Z"
   },
   {
    "duration": 6,
    "start_time": "2023-10-25T08:23:15.931Z"
   },
   {
    "duration": 443,
    "start_time": "2023-10-25T08:23:16.668Z"
   },
   {
    "duration": 59,
    "start_time": "2023-10-25T08:23:17.226Z"
   },
   {
    "duration": 24,
    "start_time": "2023-10-25T08:23:17.293Z"
   },
   {
    "duration": 127,
    "start_time": "2023-10-25T08:23:17.785Z"
   },
   {
    "duration": 139,
    "start_time": "2023-10-25T08:23:18.328Z"
   },
   {
    "duration": 47,
    "start_time": "2023-10-25T08:23:18.469Z"
   },
   {
    "duration": 109,
    "start_time": "2023-10-25T08:23:18.518Z"
   },
   {
    "duration": 922,
    "start_time": "2023-10-25T08:23:18.630Z"
   },
   {
    "duration": 4,
    "start_time": "2023-10-25T08:34:48.902Z"
   },
   {
    "duration": 29,
    "start_time": "2023-10-25T08:35:40.062Z"
   },
   {
    "duration": 36,
    "start_time": "2023-10-25T08:39:36.875Z"
   },
   {
    "duration": 5,
    "start_time": "2023-10-25T08:51:02.461Z"
   },
   {
    "duration": 165,
    "start_time": "2023-10-25T08:51:06.853Z"
   },
   {
    "duration": 8,
    "start_time": "2023-10-25T08:52:14.921Z"
   },
   {
    "duration": 433,
    "start_time": "2023-10-25T08:52:16.030Z"
   },
   {
    "duration": 76,
    "start_time": "2023-10-25T08:52:16.465Z"
   },
   {
    "duration": 28,
    "start_time": "2023-10-25T08:52:16.543Z"
   },
   {
    "duration": 165,
    "start_time": "2023-10-25T08:52:16.574Z"
   },
   {
    "duration": 148,
    "start_time": "2023-10-25T08:52:16.741Z"
   },
   {
    "duration": 33,
    "start_time": "2023-10-25T08:52:16.902Z"
   },
   {
    "duration": 116,
    "start_time": "2023-10-25T08:52:16.937Z"
   },
   {
    "duration": 1148,
    "start_time": "2023-10-25T08:52:17.055Z"
   },
   {
    "duration": 5,
    "start_time": "2023-10-25T08:52:18.207Z"
   },
   {
    "duration": 46,
    "start_time": "2023-10-25T08:52:18.214Z"
   },
   {
    "duration": 6,
    "start_time": "2023-10-25T08:52:18.262Z"
   },
   {
    "duration": 88,
    "start_time": "2023-10-25T08:52:18.316Z"
   },
   {
    "duration": 97,
    "start_time": "2023-10-25T08:56:24.408Z"
   },
   {
    "duration": 24,
    "start_time": "2023-10-25T08:56:34.774Z"
   },
   {
    "duration": 1660,
    "start_time": "2023-10-25T10:55:14.337Z"
   },
   {
    "duration": 5,
    "start_time": "2023-10-25T10:56:39.586Z"
   },
   {
    "duration": 391,
    "start_time": "2023-10-25T10:56:40.508Z"
   },
   {
    "duration": 61,
    "start_time": "2023-10-25T10:56:41.625Z"
   },
   {
    "duration": 23,
    "start_time": "2023-10-25T10:56:42.826Z"
   },
   {
    "duration": 117,
    "start_time": "2023-10-25T10:56:42.928Z"
   },
   {
    "duration": 128,
    "start_time": "2023-10-25T10:56:43.047Z"
   },
   {
    "duration": 29,
    "start_time": "2023-10-25T10:56:43.176Z"
   },
   {
    "duration": 111,
    "start_time": "2023-10-25T10:56:43.207Z"
   },
   {
    "duration": 988,
    "start_time": "2023-10-25T10:56:43.487Z"
   },
   {
    "duration": 4,
    "start_time": "2023-10-25T10:56:44.477Z"
   },
   {
    "duration": 35,
    "start_time": "2023-10-25T10:56:44.577Z"
   },
   {
    "duration": 121,
    "start_time": "2023-10-25T10:56:45.195Z"
   },
   {
    "duration": 105,
    "start_time": "2023-10-25T10:56:45.345Z"
   },
   {
    "duration": 5,
    "start_time": "2023-10-25T10:57:22.436Z"
   },
   {
    "duration": 314,
    "start_time": "2023-10-25T10:59:28.234Z"
   },
   {
    "duration": 6,
    "start_time": "2023-10-25T11:06:04.379Z"
   },
   {
    "duration": 12,
    "start_time": "2023-10-25T11:08:54.763Z"
   },
   {
    "duration": 11,
    "start_time": "2023-10-25T11:10:13.957Z"
   },
   {
    "duration": 11,
    "start_time": "2023-10-25T11:12:20.532Z"
   },
   {
    "duration": 3,
    "start_time": "2023-10-25T11:27:08.942Z"
   },
   {
    "duration": 4,
    "start_time": "2023-10-25T11:48:48.797Z"
   },
   {
    "duration": 4,
    "start_time": "2023-10-25T11:50:04.470Z"
   },
   {
    "duration": 3,
    "start_time": "2023-10-25T11:51:51.391Z"
   },
   {
    "duration": 3,
    "start_time": "2023-10-25T11:58:33.571Z"
   },
   {
    "duration": 385,
    "start_time": "2023-10-25T12:01:08.888Z"
   },
   {
    "duration": 266,
    "start_time": "2023-10-25T12:02:41.590Z"
   },
   {
    "duration": 3,
    "start_time": "2023-10-25T12:03:36.239Z"
   },
   {
    "duration": 1570,
    "start_time": "2023-10-26T06:13:27.999Z"
   },
   {
    "duration": 827,
    "start_time": "2023-10-26T06:13:29.571Z"
   },
   {
    "duration": 64,
    "start_time": "2023-10-26T06:13:31.199Z"
   },
   {
    "duration": 29,
    "start_time": "2023-10-26T06:13:31.278Z"
   },
   {
    "duration": 136,
    "start_time": "2023-10-26T06:13:31.361Z"
   },
   {
    "duration": 151,
    "start_time": "2023-10-26T06:13:31.499Z"
   },
   {
    "duration": 56,
    "start_time": "2023-10-26T06:13:31.652Z"
   },
   {
    "duration": 96,
    "start_time": "2023-10-26T06:13:31.870Z"
   },
   {
    "duration": 905,
    "start_time": "2023-10-26T06:13:32.628Z"
   },
   {
    "duration": 3,
    "start_time": "2023-10-26T06:13:34.260Z"
   },
   {
    "duration": 32,
    "start_time": "2023-10-26T06:13:34.588Z"
   },
   {
    "duration": 4,
    "start_time": "2023-10-26T06:13:35.332Z"
   },
   {
    "duration": 226,
    "start_time": "2023-10-26T06:13:36.288Z"
   },
   {
    "duration": 6,
    "start_time": "2023-10-26T06:13:37.115Z"
   },
   {
    "duration": 12,
    "start_time": "2023-10-26T06:13:37.629Z"
   },
   {
    "duration": 3,
    "start_time": "2023-10-26T06:13:39.881Z"
   },
   {
    "duration": 3,
    "start_time": "2023-10-26T06:13:40.854Z"
   },
   {
    "duration": 3,
    "start_time": "2023-10-26T06:13:41.769Z"
   },
   {
    "duration": 5,
    "start_time": "2023-10-26T06:13:42.930Z"
   },
   {
    "duration": 6,
    "start_time": "2023-10-26T06:28:18.318Z"
   },
   {
    "duration": 3,
    "start_time": "2023-10-26T06:28:18.978Z"
   },
   {
    "duration": 107,
    "start_time": "2023-10-26T06:31:46.138Z"
   },
   {
    "duration": 4,
    "start_time": "2023-10-26T06:33:08.369Z"
   },
   {
    "duration": 6,
    "start_time": "2023-10-26T06:36:03.431Z"
   },
   {
    "duration": 3,
    "start_time": "2023-10-26T06:38:06.768Z"
   },
   {
    "duration": 4,
    "start_time": "2023-10-26T06:40:26.469Z"
   },
   {
    "duration": 4,
    "start_time": "2023-10-26T06:40:49.149Z"
   },
   {
    "duration": 3,
    "start_time": "2023-10-26T06:40:59.419Z"
   },
   {
    "duration": 112,
    "start_time": "2023-10-26T06:42:09.737Z"
   },
   {
    "duration": 3,
    "start_time": "2023-10-26T06:44:32.198Z"
   },
   {
    "duration": 4,
    "start_time": "2023-10-26T06:45:03.139Z"
   },
   {
    "duration": 88,
    "start_time": "2023-10-26T06:45:41.558Z"
   },
   {
    "duration": 92,
    "start_time": "2023-10-26T06:45:48.639Z"
   },
   {
    "duration": 74,
    "start_time": "2023-10-26T06:45:55.729Z"
   },
   {
    "duration": 3,
    "start_time": "2023-10-26T06:50:12.748Z"
   },
   {
    "duration": 3,
    "start_time": "2023-10-26T06:50:26.447Z"
   },
   {
    "duration": 74,
    "start_time": "2023-10-26T06:50:50.159Z"
   },
   {
    "duration": 213,
    "start_time": "2023-10-26T06:50:55.329Z"
   },
   {
    "duration": 474,
    "start_time": "2023-10-26T06:51:02.569Z"
   },
   {
    "duration": 3,
    "start_time": "2023-10-26T06:51:18.336Z"
   },
   {
    "duration": 3,
    "start_time": "2023-10-26T06:51:26.438Z"
   },
   {
    "duration": 3,
    "start_time": "2023-10-26T06:51:33.298Z"
   },
   {
    "duration": 3,
    "start_time": "2023-10-26T06:51:37.089Z"
   },
   {
    "duration": 3,
    "start_time": "2023-10-26T06:55:26.093Z"
   },
   {
    "duration": 3,
    "start_time": "2023-10-26T06:56:17.278Z"
   },
   {
    "duration": 3,
    "start_time": "2023-10-26T06:56:17.649Z"
   },
   {
    "duration": 3,
    "start_time": "2023-10-26T06:56:24.419Z"
   },
   {
    "duration": 3,
    "start_time": "2023-10-26T06:57:24.528Z"
   },
   {
    "duration": 3,
    "start_time": "2023-10-26T06:57:26.383Z"
   },
   {
    "duration": 3,
    "start_time": "2023-10-26T06:57:26.648Z"
   },
   {
    "duration": 2,
    "start_time": "2023-10-26T06:57:27.189Z"
   },
   {
    "duration": 3,
    "start_time": "2023-10-26T06:57:27.518Z"
   },
   {
    "duration": 3,
    "start_time": "2023-10-26T06:57:36.230Z"
   },
   {
    "duration": 3,
    "start_time": "2023-10-26T06:58:02.684Z"
   },
   {
    "duration": 3,
    "start_time": "2023-10-26T06:58:09.729Z"
   },
   {
    "duration": 3,
    "start_time": "2023-10-26T06:58:25.009Z"
   },
   {
    "duration": 14,
    "start_time": "2023-10-26T07:07:15.098Z"
   },
   {
    "duration": 3,
    "start_time": "2023-10-26T07:08:39.250Z"
   },
   {
    "duration": 33,
    "start_time": "2023-10-26T07:08:39.599Z"
   },
   {
    "duration": 37,
    "start_time": "2023-10-26T07:10:47.259Z"
   },
   {
    "duration": 38,
    "start_time": "2023-10-26T07:11:24.902Z"
   },
   {
    "duration": 3,
    "start_time": "2023-10-26T07:11:45.410Z"
   },
   {
    "duration": 23,
    "start_time": "2023-10-26T07:11:45.789Z"
   },
   {
    "duration": 31,
    "start_time": "2023-10-26T07:13:13.516Z"
   },
   {
    "duration": 23,
    "start_time": "2023-10-26T07:13:25.019Z"
   },
   {
    "duration": 5,
    "start_time": "2023-10-26T07:14:12.037Z"
   },
   {
    "duration": 4,
    "start_time": "2023-10-26T07:14:22.020Z"
   },
   {
    "duration": 3,
    "start_time": "2023-10-26T07:15:18.619Z"
   },
   {
    "duration": 16,
    "start_time": "2023-10-26T07:15:31.029Z"
   },
   {
    "duration": 4,
    "start_time": "2023-10-26T07:20:12.909Z"
   },
   {
    "duration": 9,
    "start_time": "2023-10-26T07:22:04.829Z"
   },
   {
    "duration": 6,
    "start_time": "2023-10-26T07:27:37.681Z"
   },
   {
    "duration": 6,
    "start_time": "2023-10-26T07:27:38.318Z"
   },
   {
    "duration": 6,
    "start_time": "2023-10-26T07:28:10.475Z"
   },
   {
    "duration": 6,
    "start_time": "2023-10-26T07:28:24.928Z"
   },
   {
    "duration": 78,
    "start_time": "2023-10-26T07:29:26.396Z"
   },
   {
    "duration": 5,
    "start_time": "2023-10-26T07:32:59.270Z"
   },
   {
    "duration": 9,
    "start_time": "2023-10-26T07:33:40.719Z"
   },
   {
    "duration": 4,
    "start_time": "2023-10-26T07:37:58.896Z"
   },
   {
    "duration": 13,
    "start_time": "2023-10-26T07:38:15.149Z"
   },
   {
    "duration": 4,
    "start_time": "2023-10-26T07:38:40.788Z"
   },
   {
    "duration": 4,
    "start_time": "2023-10-26T07:42:37.050Z"
   },
   {
    "duration": 7,
    "start_time": "2023-10-26T07:43:15.475Z"
   },
   {
    "duration": 1591,
    "start_time": "2023-10-26T08:14:44.634Z"
   },
   {
    "duration": 66,
    "start_time": "2023-10-26T08:15:33.674Z"
   },
   {
    "duration": 1619,
    "start_time": "2023-10-26T08:15:49.055Z"
   },
   {
    "duration": 1639,
    "start_time": "2023-10-26T08:15:57.352Z"
   },
   {
    "duration": 1700,
    "start_time": "2023-10-26T08:16:17.006Z"
   },
   {
    "duration": 1698,
    "start_time": "2023-10-26T11:01:03.313Z"
   },
   {
    "duration": 2747,
    "start_time": "2023-10-26T11:01:05.014Z"
   },
   {
    "duration": 65,
    "start_time": "2023-10-26T11:01:10.991Z"
   },
   {
    "duration": 22,
    "start_time": "2023-10-26T11:01:11.571Z"
   },
   {
    "duration": 126,
    "start_time": "2023-10-26T11:01:11.701Z"
   },
   {
    "duration": 134,
    "start_time": "2023-10-26T11:01:11.829Z"
   },
   {
    "duration": 36,
    "start_time": "2023-10-26T11:01:11.965Z"
   },
   {
    "duration": 118,
    "start_time": "2023-10-26T11:01:12.003Z"
   },
   {
    "duration": 898,
    "start_time": "2023-10-26T11:01:12.123Z"
   },
   {
    "duration": 4,
    "start_time": "2023-10-26T11:01:13.303Z"
   },
   {
    "duration": 43,
    "start_time": "2023-10-26T11:01:13.341Z"
   },
   {
    "duration": 4,
    "start_time": "2023-10-26T11:01:13.400Z"
   },
   {
    "duration": 390,
    "start_time": "2023-10-26T11:01:13.462Z"
   },
   {
    "duration": 95,
    "start_time": "2023-10-26T11:01:13.854Z"
   },
   {
    "duration": 115,
    "start_time": "2023-10-26T11:01:13.951Z"
   },
   {
    "duration": 37,
    "start_time": "2023-10-26T11:01:14.067Z"
   },
   {
    "duration": 4,
    "start_time": "2023-10-26T11:01:14.219Z"
   },
   {
    "duration": 3,
    "start_time": "2023-10-26T11:01:14.790Z"
   },
   {
    "duration": 4,
    "start_time": "2023-10-26T11:01:14.921Z"
   },
   {
    "duration": 9,
    "start_time": "2023-10-26T11:01:14.991Z"
   },
   {
    "duration": 53,
    "start_time": "2023-10-26T11:01:15.026Z"
   },
   {
    "duration": 3,
    "start_time": "2023-10-26T11:01:15.639Z"
   },
   {
    "duration": 3,
    "start_time": "2023-10-26T11:01:16.169Z"
   },
   {
    "duration": 2,
    "start_time": "2023-10-26T11:01:16.200Z"
   },
   {
    "duration": 3,
    "start_time": "2023-10-26T11:01:16.230Z"
   },
   {
    "duration": 4,
    "start_time": "2023-10-26T11:01:16.260Z"
   },
   {
    "duration": 5,
    "start_time": "2023-10-26T11:01:16.289Z"
   },
   {
    "duration": 4,
    "start_time": "2023-10-26T11:01:17.421Z"
   },
   {
    "duration": 9,
    "start_time": "2023-10-26T11:01:17.489Z"
   },
   {
    "duration": 4,
    "start_time": "2023-10-26T11:01:17.560Z"
   },
   {
    "duration": 4,
    "start_time": "2023-10-26T11:01:18.090Z"
   },
   {
    "duration": 3,
    "start_time": "2023-10-26T11:01:18.852Z"
   },
   {
    "duration": 6,
    "start_time": "2023-10-26T11:01:19.744Z"
   },
   {
    "duration": 7,
    "start_time": "2023-10-26T11:01:19.809Z"
   },
   {
    "duration": 6,
    "start_time": "2023-10-26T11:01:19.879Z"
   },
   {
    "duration": 3,
    "start_time": "2023-10-26T11:01:20.963Z"
   },
   {
    "duration": 7,
    "start_time": "2023-10-26T11:01:21.004Z"
   },
   {
    "duration": 1597,
    "start_time": "2023-10-26T11:01:21.051Z"
   },
   {
    "duration": 1725,
    "start_time": "2023-10-26T11:01:22.649Z"
   },
   {
    "duration": 1602,
    "start_time": "2023-10-26T11:01:24.375Z"
   },
   {
    "duration": 7,
    "start_time": "2023-10-26T11:04:36.715Z"
   },
   {
    "duration": 1783,
    "start_time": "2023-10-26T11:04:37.431Z"
   },
   {
    "duration": 1776,
    "start_time": "2023-10-26T11:04:50.021Z"
   },
   {
    "duration": 1819,
    "start_time": "2023-10-26T11:04:59.640Z"
   },
   {
    "duration": 13,
    "start_time": "2023-10-26T11:09:42.660Z"
   },
   {
    "duration": 11,
    "start_time": "2023-10-26T11:10:20.189Z"
   },
   {
    "duration": 132,
    "start_time": "2023-10-26T11:10:51.712Z"
   },
   {
    "duration": 11,
    "start_time": "2023-10-26T11:20:49.901Z"
   },
   {
    "duration": 5,
    "start_time": "2023-10-26T11:37:14.820Z"
   },
   {
    "duration": 379,
    "start_time": "2023-10-26T11:37:15.659Z"
   },
   {
    "duration": 57,
    "start_time": "2023-10-26T11:37:16.296Z"
   },
   {
    "duration": 21,
    "start_time": "2023-10-26T11:37:16.890Z"
   },
   {
    "duration": 113,
    "start_time": "2023-10-26T11:37:17.805Z"
   },
   {
    "duration": 109,
    "start_time": "2023-10-26T11:37:18.067Z"
   },
   {
    "duration": 29,
    "start_time": "2023-10-26T11:37:19.070Z"
   },
   {
    "duration": 83,
    "start_time": "2023-10-26T11:37:19.738Z"
   },
   {
    "duration": 899,
    "start_time": "2023-10-26T11:37:20.569Z"
   },
   {
    "duration": 4,
    "start_time": "2023-10-26T11:37:21.880Z"
   },
   {
    "duration": 28,
    "start_time": "2023-10-26T11:37:22.137Z"
   },
   {
    "duration": 5,
    "start_time": "2023-10-26T11:37:22.717Z"
   },
   {
    "duration": 153,
    "start_time": "2023-10-26T11:37:23.297Z"
   },
   {
    "duration": 9,
    "start_time": "2023-10-26T11:37:24.004Z"
   },
   {
    "duration": 16,
    "start_time": "2023-10-26T11:37:24.318Z"
   },
   {
    "duration": 5,
    "start_time": "2023-10-26T11:37:25.572Z"
   },
   {
    "duration": 3,
    "start_time": "2023-10-26T11:37:26.205Z"
   },
   {
    "duration": 4,
    "start_time": "2023-10-26T11:37:26.800Z"
   },
   {
    "duration": 4,
    "start_time": "2023-10-26T11:37:27.607Z"
   },
   {
    "duration": 2,
    "start_time": "2023-10-26T11:37:28.167Z"
   },
   {
    "duration": 16,
    "start_time": "2023-10-26T11:37:28.427Z"
   },
   {
    "duration": 3,
    "start_time": "2023-10-26T11:37:28.977Z"
   },
   {
    "duration": 3,
    "start_time": "2023-10-26T11:37:29.267Z"
   },
   {
    "duration": 3,
    "start_time": "2023-10-26T11:37:29.626Z"
   },
   {
    "duration": 3,
    "start_time": "2023-10-26T11:37:29.928Z"
   },
   {
    "duration": 2,
    "start_time": "2023-10-26T11:37:30.228Z"
   },
   {
    "duration": 3,
    "start_time": "2023-10-26T11:37:30.468Z"
   },
   {
    "duration": 4,
    "start_time": "2023-10-26T11:37:31.580Z"
   },
   {
    "duration": 9,
    "start_time": "2023-10-26T11:37:32.093Z"
   },
   {
    "duration": 4,
    "start_time": "2023-10-26T11:37:32.638Z"
   },
   {
    "duration": 3,
    "start_time": "2023-10-26T11:37:32.907Z"
   },
   {
    "duration": 4,
    "start_time": "2023-10-26T11:37:33.448Z"
   },
   {
    "duration": 7,
    "start_time": "2023-10-26T11:37:34.027Z"
   },
   {
    "duration": 6,
    "start_time": "2023-10-26T11:37:34.598Z"
   },
   {
    "duration": 6,
    "start_time": "2023-10-26T11:37:35.489Z"
   },
   {
    "duration": 3,
    "start_time": "2023-10-26T11:37:38.132Z"
   },
   {
    "duration": 7,
    "start_time": "2023-10-26T11:37:38.444Z"
   },
   {
    "duration": 1601,
    "start_time": "2023-10-26T11:37:39.159Z"
   },
   {
    "duration": 1678,
    "start_time": "2023-10-26T11:37:41.827Z"
   },
   {
    "duration": 1631,
    "start_time": "2023-10-26T11:37:44.717Z"
   },
   {
    "duration": 11,
    "start_time": "2023-10-26T11:37:48.518Z"
   },
   {
    "duration": 132,
    "start_time": "2023-10-26T11:37:49.230Z"
   },
   {
    "duration": 2324,
    "start_time": "2023-10-27T05:41:04.707Z"
   },
   {
    "duration": 1107,
    "start_time": "2023-10-27T05:41:07.036Z"
   },
   {
    "duration": 84,
    "start_time": "2023-10-27T05:41:08.146Z"
   },
   {
    "duration": 94,
    "start_time": "2023-10-27T05:41:08.247Z"
   },
   {
    "duration": 192,
    "start_time": "2023-10-27T05:41:08.344Z"
   },
   {
    "duration": 180,
    "start_time": "2023-10-27T05:41:08.538Z"
   },
   {
    "duration": 53,
    "start_time": "2023-10-27T05:41:08.721Z"
   },
   {
    "duration": 116,
    "start_time": "2023-10-27T05:41:08.776Z"
   },
   {
    "duration": 1310,
    "start_time": "2023-10-27T05:41:08.894Z"
   },
   {
    "duration": 88,
    "start_time": "2023-10-27T05:41:10.207Z"
   },
   {
    "duration": 104,
    "start_time": "2023-10-27T05:41:10.298Z"
   },
   {
    "duration": 78,
    "start_time": "2023-10-27T05:41:10.407Z"
   },
   {
    "duration": 6,
    "start_time": "2023-10-27T05:41:10.487Z"
   },
   {
    "duration": 298,
    "start_time": "2023-10-27T05:41:10.494Z"
   },
   {
    "duration": 18,
    "start_time": "2023-10-27T05:41:10.852Z"
   },
   {
    "duration": 81,
    "start_time": "2023-10-27T05:41:10.881Z"
   },
   {
    "duration": 6,
    "start_time": "2023-10-27T05:41:10.967Z"
   },
   {
    "duration": 11,
    "start_time": "2023-10-27T05:41:10.975Z"
   },
   {
    "duration": 8,
    "start_time": "2023-10-27T05:41:10.988Z"
   },
   {
    "duration": 19,
    "start_time": "2023-10-27T05:41:10.997Z"
   },
   {
    "duration": 4,
    "start_time": "2023-10-27T05:41:11.019Z"
   },
   {
    "duration": 54,
    "start_time": "2023-10-27T05:41:11.025Z"
   },
   {
    "duration": 4,
    "start_time": "2023-10-27T05:41:11.082Z"
   },
   {
    "duration": 32,
    "start_time": "2023-10-27T05:41:11.088Z"
   },
   {
    "duration": 6,
    "start_time": "2023-10-27T05:41:11.121Z"
   },
   {
    "duration": 13,
    "start_time": "2023-10-27T05:41:11.129Z"
   },
   {
    "duration": 28,
    "start_time": "2023-10-27T05:41:11.144Z"
   },
   {
    "duration": 15,
    "start_time": "2023-10-27T05:41:11.174Z"
   },
   {
    "duration": 6,
    "start_time": "2023-10-27T05:41:11.325Z"
   },
   {
    "duration": 10,
    "start_time": "2023-10-27T05:41:12.226Z"
   },
   {
    "duration": 4,
    "start_time": "2023-10-27T05:41:12.296Z"
   },
   {
    "duration": 6,
    "start_time": "2023-10-27T05:41:12.307Z"
   },
   {
    "duration": 5,
    "start_time": "2023-10-27T05:41:12.395Z"
   },
   {
    "duration": 9,
    "start_time": "2023-10-27T05:41:12.486Z"
   },
   {
    "duration": 11,
    "start_time": "2023-10-27T05:41:12.539Z"
   },
   {
    "duration": 9,
    "start_time": "2023-10-27T05:41:12.615Z"
   },
   {
    "duration": 4,
    "start_time": "2023-10-27T05:41:14.008Z"
   },
   {
    "duration": 11,
    "start_time": "2023-10-27T05:41:14.104Z"
   },
   {
    "duration": 2302,
    "start_time": "2023-10-27T05:41:14.195Z"
   },
   {
    "duration": 2272,
    "start_time": "2023-10-27T05:41:16.501Z"
   },
   {
    "duration": 2321,
    "start_time": "2023-10-27T05:41:18.774Z"
   },
   {
    "duration": 12,
    "start_time": "2023-10-27T05:41:21.097Z"
   },
   {
    "duration": 329,
    "start_time": "2023-10-27T05:41:21.111Z"
   },
   {
    "duration": 27,
    "start_time": "2023-10-27T05:41:40.788Z"
   },
   {
    "duration": 28,
    "start_time": "2023-10-27T05:42:21.777Z"
   },
   {
    "duration": 24,
    "start_time": "2023-10-27T05:42:41.875Z"
   },
   {
    "duration": 33,
    "start_time": "2023-10-27T05:42:53.775Z"
   },
   {
    "duration": 28,
    "start_time": "2023-10-27T05:43:22.914Z"
   },
   {
    "duration": 34,
    "start_time": "2023-10-27T05:43:44.795Z"
   },
   {
    "duration": 16,
    "start_time": "2023-10-27T05:52:09.906Z"
   },
   {
    "duration": 3,
    "start_time": "2023-10-27T05:53:57.980Z"
   },
   {
    "duration": 529,
    "start_time": "2023-10-27T05:54:55.304Z"
   },
   {
    "duration": 422,
    "start_time": "2023-10-27T05:55:33.686Z"
   },
   {
    "duration": 501,
    "start_time": "2023-10-27T05:55:47.109Z"
   },
   {
    "duration": 3,
    "start_time": "2023-10-27T05:58:56.714Z"
   },
   {
    "duration": 4,
    "start_time": "2023-10-27T05:58:57.983Z"
   },
   {
    "duration": 6,
    "start_time": "2023-10-27T05:58:58.985Z"
   },
   {
    "duration": 5,
    "start_time": "2023-10-27T06:00:20.099Z"
   },
   {
    "duration": 4,
    "start_time": "2023-10-27T06:04:12.046Z"
   },
   {
    "duration": 4,
    "start_time": "2023-10-27T06:04:12.517Z"
   },
   {
    "duration": 7,
    "start_time": "2023-10-27T06:04:13.112Z"
   },
   {
    "duration": 3,
    "start_time": "2023-10-27T06:04:13.587Z"
   },
   {
    "duration": 26,
    "start_time": "2023-10-27T06:04:13.837Z"
   },
   {
    "duration": 4,
    "start_time": "2023-10-27T06:04:14.307Z"
   },
   {
    "duration": 11,
    "start_time": "2023-10-27T06:04:14.547Z"
   },
   {
    "duration": 4,
    "start_time": "2023-10-27T06:04:14.831Z"
   },
   {
    "duration": 5,
    "start_time": "2023-10-27T06:04:15.071Z"
   },
   {
    "duration": 4,
    "start_time": "2023-10-27T06:04:15.422Z"
   },
   {
    "duration": 7,
    "start_time": "2023-10-27T06:04:16.742Z"
   },
   {
    "duration": 6,
    "start_time": "2023-10-27T06:04:18.774Z"
   },
   {
    "duration": 13,
    "start_time": "2023-10-27T06:04:19.310Z"
   },
   {
    "duration": 9,
    "start_time": "2023-10-27T06:04:19.968Z"
   },
   {
    "duration": 5,
    "start_time": "2023-10-27T06:04:21.016Z"
   },
   {
    "duration": 12,
    "start_time": "2023-10-27T06:04:21.858Z"
   },
   {
    "duration": 231,
    "start_time": "2023-10-27T06:04:25.367Z"
   },
   {
    "duration": 4,
    "start_time": "2023-10-27T06:04:43.198Z"
   },
   {
    "duration": 7,
    "start_time": "2023-10-27T06:04:44.186Z"
   },
   {
    "duration": 8,
    "start_time": "2023-10-27T06:04:45.591Z"
   },
   {
    "duration": 8,
    "start_time": "2023-10-27T06:04:46.398Z"
   },
   {
    "duration": 6,
    "start_time": "2023-10-27T06:22:04.557Z"
   },
   {
    "duration": 12,
    "start_time": "2023-10-27T06:23:44.354Z"
   },
   {
    "duration": 2113,
    "start_time": "2023-10-27T06:23:51.765Z"
   },
   {
    "duration": 2132,
    "start_time": "2023-10-27T06:24:08.707Z"
   },
   {
    "duration": 2052,
    "start_time": "2023-10-27T06:24:22.127Z"
   },
   {
    "duration": 10,
    "start_time": "2023-10-27T06:27:26.445Z"
   },
   {
    "duration": 2007,
    "start_time": "2023-10-27T06:27:27.026Z"
   },
   {
    "duration": 2169,
    "start_time": "2023-10-27T06:27:29.036Z"
   },
   {
    "duration": 2119,
    "start_time": "2023-10-27T06:27:31.207Z"
   },
   {
    "duration": 7,
    "start_time": "2023-10-27T06:31:43.699Z"
   },
   {
    "duration": 1679,
    "start_time": "2023-10-27T06:31:45.637Z"
   },
   {
    "duration": 7,
    "start_time": "2023-10-27T06:32:36.780Z"
   },
   {
    "duration": 6,
    "start_time": "2023-10-27T06:32:46.980Z"
   },
   {
    "duration": 1699,
    "start_time": "2023-10-27T06:32:48.787Z"
   },
   {
    "duration": 6,
    "start_time": "2023-10-27T06:33:22.950Z"
   },
   {
    "duration": 1690,
    "start_time": "2023-10-27T06:33:24.979Z"
   },
   {
    "duration": 7,
    "start_time": "2023-10-27T06:33:53.150Z"
   },
   {
    "duration": 1927,
    "start_time": "2023-10-27T06:33:54.867Z"
   },
   {
    "duration": 7,
    "start_time": "2023-10-27T06:34:30.730Z"
   },
   {
    "duration": 1927,
    "start_time": "2023-10-27T06:34:31.779Z"
   },
   {
    "duration": 1895,
    "start_time": "2023-10-27T06:34:42.667Z"
   },
   {
    "duration": 1910,
    "start_time": "2023-10-27T06:34:46.318Z"
   }
  ],
  "kernelspec": {
   "display_name": "Python 3 (ipykernel)",
   "language": "python",
   "name": "python3"
  },
  "language_info": {
   "codemirror_mode": {
    "name": "ipython",
    "version": 3
   },
   "file_extension": ".py",
   "mimetype": "text/x-python",
   "name": "python",
   "nbconvert_exporter": "python",
   "pygments_lexer": "ipython3",
   "version": "3.9.5"
  },
  "toc": {
   "base_numbering": 1,
   "nav_menu": {},
   "number_sections": true,
   "sideBar": true,
   "skip_h1_title": true,
   "title_cell": "Table of Contents",
   "title_sidebar": "Contents",
   "toc_cell": false,
   "toc_position": {},
   "toc_section_display": true,
   "toc_window_display": false
  }
 },
 "nbformat": 4,
 "nbformat_minor": 2
}
