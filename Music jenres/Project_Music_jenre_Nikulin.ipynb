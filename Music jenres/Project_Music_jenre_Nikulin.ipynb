{
 "cells": [
  {
   "cell_type": "markdown",
   "id": "59f98be0-606a-4fbc-bb8e-d5a5bf90af38",
   "metadata": {
    "tags": []
   },
   "source": [
    "# Предскзание жанра музыки в музыкальном стриминговом сервисе \"МиФаСоль\"\n",
    "\n",
    "Музыкальный стриминговый сервис \"МиФаСоль\" расширяет работу с новыми артистами и музыкантами, в связи с чем возникла задача - правильно классифицировать новые музыкальные треки, чтобы улучшить работу рекомендательной системы.\n",
    "\n",
    "Цель работы\n",
    "\n",
    "Разработать модель, позволяющую классифицировать музыкальные произведения по жанрам.\n",
    "\n",
    "Ход работы\n",
    "\n",
    "Загрузка и ознакомление с данными;\n",
    "\n",
    "Предварительная обработка;\n",
    "\n",
    "Полноценный разведочный анализ;\n",
    "\n",
    "Проверка на мультиколлинеарность;\n",
    "\n",
    "Отбор финального набора обучающих признаков;\n",
    "\n",
    "Выбор и обучение моделей;\n",
    "\n",
    "Итоговое оценка качества предсказания лучшей модели."
   ]
  },
  {
   "cell_type": "markdown",
   "id": "93edb7ad-8410-4246-8659-0319203da69c",
   "metadata": {},
   "source": [
    "## Обзор данных"
   ]
  },
  {
   "cell_type": "markdown",
   "id": "0b05d571-b98c-4f97-84f6-15ce54c0dded",
   "metadata": {},
   "source": [
    "Проведем инсталляцию функций"
   ]
  },
  {
   "cell_type": "code",
   "execution_count": 35,
   "id": "26b7a4c8-da17-4592-bc78-c94cd867327f",
   "metadata": {},
   "outputs": [
    {
     "name": "stdout",
     "output_type": "stream",
     "text": [
      "Requirement already satisfied: catboost in c:\\users\\sniku\\appdata\\local\\programs\\python\\python39\\lib\\site-packages (1.0.3)\n",
      "Requirement already satisfied: graphviz in c:\\users\\sniku\\appdata\\local\\programs\\python\\python39\\lib\\site-packages (from catboost) (0.20.1)\n",
      "Requirement already satisfied: matplotlib in c:\\users\\sniku\\appdata\\local\\programs\\python\\python39\\lib\\site-packages (from catboost) (3.3.4)\n",
      "Requirement already satisfied: numpy>=1.16.0 in c:\\users\\sniku\\appdata\\local\\programs\\python\\python39\\lib\\site-packages (from catboost) (1.21.1)\n",
      "Requirement already satisfied: pandas>=0.24.0 in c:\\users\\sniku\\appdata\\local\\programs\\python\\python39\\lib\\site-packages (from catboost) (1.2.4)\n",
      "Requirement already satisfied: scipy in c:\\users\\sniku\\appdata\\local\\programs\\python\\python39\\lib\\site-packages (from catboost) (1.9.1)\n",
      "Requirement already satisfied: plotly in c:\\users\\sniku\\appdata\\local\\programs\\python\\python39\\lib\\site-packages (from catboost) (5.4.0)\n",
      "Requirement already satisfied: six in c:\\users\\sniku\\appdata\\local\\programs\\python\\python39\\lib\\site-packages (from catboost) (1.16.0)\n",
      "Requirement already satisfied: python-dateutil>=2.7.3 in c:\\users\\sniku\\appdata\\local\\programs\\python\\python39\\lib\\site-packages (from pandas>=0.24.0->catboost) (2.8.2)\n",
      "Requirement already satisfied: pytz>=2017.3 in c:\\users\\sniku\\appdata\\local\\programs\\python\\python39\\lib\\site-packages (from pandas>=0.24.0->catboost) (2021.1)\n",
      "Requirement already satisfied: cycler>=0.10 in c:\\users\\sniku\\appdata\\local\\programs\\python\\python39\\lib\\site-packages (from matplotlib->catboost) (0.11.0)\n",
      "Requirement already satisfied: kiwisolver>=1.0.1 in c:\\users\\sniku\\appdata\\local\\programs\\python\\python39\\lib\\site-packages (from matplotlib->catboost) (1.4.4)\n",
      "Requirement already satisfied: pillow>=6.2.0 in c:\\users\\sniku\\appdata\\local\\programs\\python\\python39\\lib\\site-packages (from matplotlib->catboost) (8.4.0)\n",
      "Requirement already satisfied: pyparsing!=2.0.4,!=2.1.2,!=2.1.6,>=2.0.3 in c:\\users\\sniku\\appdata\\local\\programs\\python\\python39\\lib\\site-packages (from matplotlib->catboost) (2.4.7)\n",
      "Requirement already satisfied: tenacity>=6.2.0 in c:\\users\\sniku\\appdata\\local\\programs\\python\\python39\\lib\\site-packages (from plotly->catboost) (8.0.1)\n"
     ]
    },
    {
     "name": "stderr",
     "output_type": "stream",
     "text": [
      "\n",
      "[notice] A new release of pip is available: 23.1.2 -> 23.3.2\n",
      "[notice] To update, run: python.exe -m pip install --upgrade pip\n"
     ]
    },
    {
     "name": "stdout",
     "output_type": "stream",
     "text": [
      "Requirement already satisfied: feature-engine in c:\\users\\sniku\\appdata\\local\\programs\\python\\python39\\lib\\site-packages (1.6.2)\n",
      "Requirement already satisfied: numpy>=1.18.2 in c:\\users\\sniku\\appdata\\local\\programs\\python\\python39\\lib\\site-packages (from feature-engine) (1.21.1)\n",
      "Requirement already satisfied: pandas>=1.0.3 in c:\\users\\sniku\\appdata\\local\\programs\\python\\python39\\lib\\site-packages (from feature-engine) (1.2.4)\n",
      "Requirement already satisfied: scikit-learn>=1.0.0 in c:\\users\\sniku\\appdata\\local\\programs\\python\\python39\\lib\\site-packages (from feature-engine) (1.3.2)\n",
      "Requirement already satisfied: scipy>=1.4.1 in c:\\users\\sniku\\appdata\\local\\programs\\python\\python39\\lib\\site-packages (from feature-engine) (1.9.1)\n",
      "Requirement already satisfied: statsmodels>=0.11.1 in c:\\users\\sniku\\appdata\\local\\programs\\python\\python39\\lib\\site-packages (from feature-engine) (0.13.2)\n",
      "Requirement already satisfied: python-dateutil>=2.7.3 in c:\\users\\sniku\\appdata\\local\\programs\\python\\python39\\lib\\site-packages (from pandas>=1.0.3->feature-engine) (2.8.2)\n",
      "Requirement already satisfied: pytz>=2017.3 in c:\\users\\sniku\\appdata\\local\\programs\\python\\python39\\lib\\site-packages (from pandas>=1.0.3->feature-engine) (2021.1)\n",
      "Requirement already satisfied: joblib>=1.1.1 in c:\\users\\sniku\\appdata\\local\\programs\\python\\python39\\lib\\site-packages (from scikit-learn>=1.0.0->feature-engine) (1.3.2)\n",
      "Requirement already satisfied: threadpoolctl>=2.0.0 in c:\\users\\sniku\\appdata\\local\\programs\\python\\python39\\lib\\site-packages (from scikit-learn>=1.0.0->feature-engine) (3.1.0)\n",
      "Requirement already satisfied: patsy>=0.5.2 in c:\\users\\sniku\\appdata\\local\\programs\\python\\python39\\lib\\site-packages (from statsmodels>=0.11.1->feature-engine) (0.5.2)\n",
      "Requirement already satisfied: packaging>=21.3 in c:\\users\\sniku\\appdata\\local\\programs\\python\\python39\\lib\\site-packages (from statsmodels>=0.11.1->feature-engine) (21.3)\n",
      "Requirement already satisfied: pyparsing!=3.0.5,>=2.0.2 in c:\\users\\sniku\\appdata\\local\\programs\\python\\python39\\lib\\site-packages (from packaging>=21.3->statsmodels>=0.11.1->feature-engine) (2.4.7)\n",
      "Requirement already satisfied: six in c:\\users\\sniku\\appdata\\local\\programs\\python\\python39\\lib\\site-packages (from patsy>=0.5.2->statsmodels>=0.11.1->feature-engine) (1.16.0)\n"
     ]
    },
    {
     "name": "stderr",
     "output_type": "stream",
     "text": [
      "\n",
      "[notice] A new release of pip is available: 23.1.2 -> 23.3.2\n",
      "[notice] To update, run: python.exe -m pip install --upgrade pip\n"
     ]
    },
    {
     "name": "stdout",
     "output_type": "stream",
     "text": [
      "Requirement already satisfied: imbalanced-learn in c:\\users\\sniku\\appdata\\local\\programs\\python\\python39\\lib\\site-packages (0.11.0)\n",
      "Requirement already satisfied: numpy>=1.17.3 in c:\\users\\sniku\\appdata\\local\\programs\\python\\python39\\lib\\site-packages (from imbalanced-learn) (1.21.1)\n",
      "Requirement already satisfied: scipy>=1.5.0 in c:\\users\\sniku\\appdata\\local\\programs\\python\\python39\\lib\\site-packages (from imbalanced-learn) (1.9.1)\n",
      "Requirement already satisfied: scikit-learn>=1.0.2 in c:\\users\\sniku\\appdata\\local\\programs\\python\\python39\\lib\\site-packages (from imbalanced-learn) (1.3.2)\n",
      "Requirement already satisfied: joblib>=1.1.1 in c:\\users\\sniku\\appdata\\local\\programs\\python\\python39\\lib\\site-packages (from imbalanced-learn) (1.3.2)\n",
      "Requirement already satisfied: threadpoolctl>=2.0.0 in c:\\users\\sniku\\appdata\\local\\programs\\python\\python39\\lib\\site-packages (from imbalanced-learn) (3.1.0)\n"
     ]
    },
    {
     "name": "stderr",
     "output_type": "stream",
     "text": [
      "\n",
      "[notice] A new release of pip is available: 23.1.2 -> 23.3.2\n",
      "[notice] To update, run: python.exe -m pip install --upgrade pip\n"
     ]
    },
    {
     "name": "stdout",
     "output_type": "stream",
     "text": [
      "Requirement already satisfied: phik in c:\\users\\sniku\\appdata\\local\\programs\\python\\python39\\lib\\site-packages (0.12.3)"
     ]
    },
    {
     "name": "stderr",
     "output_type": "stream",
     "text": [
      "\n",
      "[notice] A new release of pip is available: 23.1.2 -> 23.3.2\n",
      "[notice] To update, run: python.exe -m pip install --upgrade pip\n"
     ]
    },
    {
     "name": "stdout",
     "output_type": "stream",
     "text": [
      "\n",
      "Requirement already satisfied: numpy>=1.18.0 in c:\\users\\sniku\\appdata\\local\\programs\\python\\python39\\lib\\site-packages (from phik) (1.21.1)\n",
      "Requirement already satisfied: scipy>=1.5.2 in c:\\users\\sniku\\appdata\\local\\programs\\python\\python39\\lib\\site-packages (from phik) (1.9.1)\n",
      "Requirement already satisfied: pandas>=0.25.1 in c:\\users\\sniku\\appdata\\local\\programs\\python\\python39\\lib\\site-packages (from phik) (1.2.4)\n",
      "Requirement already satisfied: matplotlib>=2.2.3 in c:\\users\\sniku\\appdata\\local\\programs\\python\\python39\\lib\\site-packages (from phik) (3.3.4)\n",
      "Requirement already satisfied: joblib>=0.14.1 in c:\\users\\sniku\\appdata\\local\\programs\\python\\python39\\lib\\site-packages (from phik) (1.3.2)\n",
      "Requirement already satisfied: cycler>=0.10 in c:\\users\\sniku\\appdata\\local\\programs\\python\\python39\\lib\\site-packages (from matplotlib>=2.2.3->phik) (0.11.0)\n",
      "Requirement already satisfied: kiwisolver>=1.0.1 in c:\\users\\sniku\\appdata\\local\\programs\\python\\python39\\lib\\site-packages (from matplotlib>=2.2.3->phik) (1.4.4)\n",
      "Requirement already satisfied: pillow>=6.2.0 in c:\\users\\sniku\\appdata\\local\\programs\\python\\python39\\lib\\site-packages (from matplotlib>=2.2.3->phik) (8.4.0)\n",
      "Requirement already satisfied: pyparsing!=2.0.4,!=2.1.2,!=2.1.6,>=2.0.3 in c:\\users\\sniku\\appdata\\local\\programs\\python\\python39\\lib\\site-packages (from matplotlib>=2.2.3->phik) (2.4.7)\n",
      "Requirement already satisfied: python-dateutil>=2.1 in c:\\users\\sniku\\appdata\\local\\programs\\python\\python39\\lib\\site-packages (from matplotlib>=2.2.3->phik) (2.8.2)\n",
      "Requirement already satisfied: pytz>=2017.3 in c:\\users\\sniku\\appdata\\local\\programs\\python\\python39\\lib\\site-packages (from pandas>=0.25.1->phik) (2021.1)\n",
      "Requirement already satisfied: six>=1.5 in c:\\users\\sniku\\appdata\\local\\programs\\python\\python39\\lib\\site-packages (from python-dateutil>=2.1->matplotlib>=2.2.3->phik) (1.16.0)\n"
     ]
    }
   ],
   "source": [
    "!pip install catboost\n",
    "!pip install feature-engine\n",
    "!pip install imbalanced-learn\n",
    "!pip install phik"
   ]
  },
  {
   "cell_type": "markdown",
   "id": "3e541be8-118a-446a-8410-88660ded507a",
   "metadata": {},
   "source": [
    "Импортируем ряд библиотек и функций для работы над проектом"
   ]
  },
  {
   "cell_type": "code",
   "execution_count": 95,
   "id": "26bb77cc-13ea-46c7-b994-6e3ee67f41d0",
   "metadata": {},
   "outputs": [],
   "source": [
    "# pandas - библиотека для работы с таблицами и данными на протяжении всего проекта\n",
    "import pandas as pd\n",
    "\n",
    "\n",
    "# Работа с датой и временем\n",
    "\n",
    "## datetime - библиотека для работы с датой и временем, в проекте используется для ряда функций \n",
    "## как вспомогательная \"фича\" для мониторинга прогресса выполнения обучения, перебора гиперпараметров и пр.\n",
    "import datetime\n",
    "\n",
    "\n",
    "# Графики и диаграмы\n",
    "## matplotlib.pyplot - используем для построения графиков\n",
    "import matplotlib.pyplot as plt\n",
    "## seaborn - используем для построения графиков\n",
    "import seaborn as sns\n",
    "\n",
    "\n",
    "# Модели sklearn\n",
    "\n",
    "## Модель DecisionTreeClassifier \"Дерево решений\"\n",
    "from sklearn.tree import DecisionTreeClassifier\n",
    "## Модель RandomForestClassifier - \"Случайный лес\"\n",
    "from sklearn.ensemble import RandomForestClassifier\n",
    "## Модель LogisticRegression \"Логистическая регрессия\"\n",
    "from sklearn.linear_model import LogisticRegression\n",
    "\n",
    "\n",
    "# Модели CatBoost\n",
    "## Модель CatBoostClassifier - для задач классификации\n",
    "from catboost import CatBoostClassifier\n",
    "from catboost import cv, Pool\n",
    "\n",
    "\n",
    "# Функции sklearn\n",
    "from sklearn import set_config\n",
    "from sklearn.compose import ColumnTransformer\n",
    "from sklearn.ensemble import RandomForestClassifier, GradientBoostingClassifier\n",
    "from sklearn.experimental import enable_iterative_imputer\n",
    "from sklearn.impute import IterativeImputer\n",
    "from sklearn.impute import SimpleImputer\n",
    "from sklearn.linear_model import LogisticRegression\n",
    "from sklearn.metrics import (confusion_matrix, f1_score, precision_recall_curve,\n",
    "                             precision_score, recall_score, roc_auc_score,\n",
    "                             roc_curve, accuracy_score, classification_report)\n",
    "from sklearn.model_selection import cross_val_score, cross_validate, GridSearchCV, train_test_split, RandomizedSearchCV\n",
    "from sklearn.neural_network import MLPClassifier\n",
    "from sklearn.pipeline import Pipeline\n",
    "from sklearn.preprocessing import (OrdinalEncoder, StandardScaler, OneHotEncoder,\n",
    "                                   MinMaxScaler, LabelEncoder, RobustScaler, PolynomialFeatures)\n",
    "from sklearn.svm import SVC\n",
    "from sklearn.tree import DecisionTreeClassifier\n",
    "from sklearn.utils import resample, shuffle\n",
    "from sklearn.utils import shuffle\n",
    "from sklearn.compose import make_column_selector, make_column_transformer, ColumnTransformer\n",
    "\n",
    "# Метрики sklearn\n",
    "## f1_score - метрика, на которуюб будем опираться для оценки качества моделей\n",
    "## make_scorer - функция для создания настраиваемой метрики\n",
    "from sklearn.metrics import f1_score, make_scorer\n",
    "\n",
    "\n",
    "# Математические библиотеки и функции\n",
    "## statistics - используем в проекте в некоторых местах для простого подсчёта средних значений вне Pandas'а\n",
    "import statistics as s\n",
    "## numpy - библиотека математических функций\n",
    "import numpy as np\n",
    "from feature_engine.selection import DropConstantFeatures, DropCorrelatedFeatures\n",
    "import phik\n",
    "from phik import resources, report\n",
    "from phik.report import plot_correlation_matrix\n",
    "\n",
    "import warnings\n",
    "warnings.filterwarnings(\"ignore\")"
   ]
  },
  {
   "cell_type": "markdown",
   "id": "1aa0064a-ab33-4132-9e17-736a70beac7a",
   "metadata": {},
   "source": [
    "Сохраним предоставленные выше файлы в переменные:\n",
    "\n",
    "df_train - для тренировочных данных; \n",
    "\n",
    "df_test - для тестовых данных."
   ]
  },
  {
   "cell_type": "code",
   "execution_count": 37,
   "id": "a016b8c9-8575-4245-ad15-45b8e74eaa49",
   "metadata": {},
   "outputs": [],
   "source": [
    "df_train = pd.read_csv('C:\\Python\\Data science\\Master1\\music-genre-prediction-m127ds/train.csv')\n"
   ]
  },
  {
   "cell_type": "code",
   "execution_count": 38,
   "id": "22232435-c4b9-4916-a4ca-064ce891d06f",
   "metadata": {},
   "outputs": [],
   "source": [
    "df_test = pd.read_csv('C:\\Python\\Data science\\Master1\\music-genre-prediction-m127ds/test.csv')"
   ]
  },
  {
   "cell_type": "code",
   "execution_count": 39,
   "id": "098af8c5-de00-4ba6-b0ea-9c5020ea5b0a",
   "metadata": {},
   "outputs": [
    {
     "name": "stdout",
     "output_type": "stream",
     "text": [
      "<class 'pandas.core.frame.DataFrame'>\n",
      "RangeIndex: 40000 entries, 0 to 39999\n",
      "Data columns (total 17 columns):\n",
      " #   Column            Non-Null Count  Dtype  \n",
      "---  ------            --------------  -----  \n",
      " 0   instance_id       40000 non-null  int64  \n",
      " 1   track_name        29262 non-null  object \n",
      " 2   popularity        36078 non-null  float64\n",
      " 3   acousticness      40000 non-null  float64\n",
      " 4   danceability      37963 non-null  float64\n",
      " 5   duration_ms       40000 non-null  float64\n",
      " 6   energy            40000 non-null  float64\n",
      " 7   instrumentalness  40000 non-null  float64\n",
      " 8   key               38577 non-null  object \n",
      " 9   liveness          40000 non-null  float64\n",
      " 10  loudness          40000 non-null  float64\n",
      " 11  mode              38147 non-null  object \n",
      " 12  speechiness       40000 non-null  float64\n",
      " 13  tempo             40000 non-null  object \n",
      " 14  obtained_date     33781 non-null  object \n",
      " 15  valence           40000 non-null  float64\n",
      " 16  music_genre       40000 non-null  object \n",
      "dtypes: float64(10), int64(1), object(6)\n",
      "memory usage: 5.2+ MB\n"
     ]
    }
   ],
   "source": [
    "df_train.info()\n"
   ]
  },
  {
   "cell_type": "code",
   "execution_count": 40,
   "id": "f4235821-7df4-441c-b22f-e59b15f9f992",
   "metadata": {},
   "outputs": [
    {
     "name": "stdout",
     "output_type": "stream",
     "text": [
      "<class 'pandas.core.frame.DataFrame'>\n",
      "RangeIndex: 10000 entries, 0 to 9999\n",
      "Data columns (total 16 columns):\n",
      " #   Column            Non-Null Count  Dtype  \n",
      "---  ------            --------------  -----  \n",
      " 0   instance_id       10000 non-null  int64  \n",
      " 1   track_name        7388 non-null   object \n",
      " 2   popularity        8987 non-null   float64\n",
      " 3   acousticness      10000 non-null  float64\n",
      " 4   danceability      9477 non-null   float64\n",
      " 5   duration_ms       10000 non-null  float64\n",
      " 6   energy            10000 non-null  float64\n",
      " 7   instrumentalness  10000 non-null  float64\n",
      " 8   key               9673 non-null   object \n",
      " 9   liveness          10000 non-null  float64\n",
      " 10  loudness          10000 non-null  float64\n",
      " 11  mode              9518 non-null   object \n",
      " 12  speechiness       10000 non-null  float64\n",
      " 13  tempo             10000 non-null  object \n",
      " 14  obtained_date     8419 non-null   object \n",
      " 15  valence           10000 non-null  float64\n",
      "dtypes: float64(10), int64(1), object(5)\n",
      "memory usage: 1.2+ MB\n"
     ]
    }
   ],
   "source": [
    "df_test.info()"
   ]
  },
  {
   "cell_type": "code",
   "execution_count": 41,
   "id": "b87442c9-8045-4cba-9784-8668327586a9",
   "metadata": {},
   "outputs": [
    {
     "data": {
      "text/html": [
       "<div>\n",
       "<style scoped>\n",
       "    .dataframe tbody tr th:only-of-type {\n",
       "        vertical-align: middle;\n",
       "    }\n",
       "\n",
       "    .dataframe tbody tr th {\n",
       "        vertical-align: top;\n",
       "    }\n",
       "\n",
       "    .dataframe thead th {\n",
       "        text-align: right;\n",
       "    }\n",
       "</style>\n",
       "<table border=\"1\" class=\"dataframe\">\n",
       "  <thead>\n",
       "    <tr style=\"text-align: right;\">\n",
       "      <th></th>\n",
       "      <th>instance_id</th>\n",
       "      <th>track_name</th>\n",
       "      <th>popularity</th>\n",
       "      <th>acousticness</th>\n",
       "      <th>danceability</th>\n",
       "      <th>duration_ms</th>\n",
       "      <th>energy</th>\n",
       "      <th>instrumentalness</th>\n",
       "      <th>key</th>\n",
       "      <th>liveness</th>\n",
       "      <th>loudness</th>\n",
       "      <th>mode</th>\n",
       "      <th>speechiness</th>\n",
       "      <th>tempo</th>\n",
       "      <th>obtained_date</th>\n",
       "      <th>valence</th>\n",
       "      <th>music_genre</th>\n",
       "    </tr>\n",
       "  </thead>\n",
       "  <tbody>\n",
       "    <tr>\n",
       "      <th>0</th>\n",
       "      <td>4919</td>\n",
       "      <td>By Your Side</td>\n",
       "      <td>33.0</td>\n",
       "      <td>0.000718</td>\n",
       "      <td>0.501</td>\n",
       "      <td>-1.0</td>\n",
       "      <td>0.9350</td>\n",
       "      <td>0.020100</td>\n",
       "      <td>G#</td>\n",
       "      <td>0.0831</td>\n",
       "      <td>-5.566</td>\n",
       "      <td>Minor</td>\n",
       "      <td>0.1570</td>\n",
       "      <td>144.922</td>\n",
       "      <td>4-Apr</td>\n",
       "      <td>0.1880</td>\n",
       "      <td>Electronic</td>\n",
       "    </tr>\n",
       "    <tr>\n",
       "      <th>1</th>\n",
       "      <td>16096</td>\n",
       "      <td>NaN</td>\n",
       "      <td>55.0</td>\n",
       "      <td>0.064700</td>\n",
       "      <td>0.282</td>\n",
       "      <td>288333.0</td>\n",
       "      <td>0.7380</td>\n",
       "      <td>0.014200</td>\n",
       "      <td>C</td>\n",
       "      <td>0.2900</td>\n",
       "      <td>-5.566</td>\n",
       "      <td>Major</td>\n",
       "      <td>0.0324</td>\n",
       "      <td>126.914</td>\n",
       "      <td>NaN</td>\n",
       "      <td>0.2110</td>\n",
       "      <td>Alternative</td>\n",
       "    </tr>\n",
       "    <tr>\n",
       "      <th>2</th>\n",
       "      <td>43825</td>\n",
       "      <td>Symphony No. 6: VI. Allegro</td>\n",
       "      <td>39.0</td>\n",
       "      <td>0.931000</td>\n",
       "      <td>0.364</td>\n",
       "      <td>115240.0</td>\n",
       "      <td>0.3490</td>\n",
       "      <td>0.940000</td>\n",
       "      <td>NaN</td>\n",
       "      <td>0.1100</td>\n",
       "      <td>-13.279</td>\n",
       "      <td>NaN</td>\n",
       "      <td>0.0321</td>\n",
       "      <td>65.42699999999999</td>\n",
       "      <td>4-Apr</td>\n",
       "      <td>0.0891</td>\n",
       "      <td>Classical</td>\n",
       "    </tr>\n",
       "    <tr>\n",
       "      <th>3</th>\n",
       "      <td>4331</td>\n",
       "      <td>NaN</td>\n",
       "      <td>56.0</td>\n",
       "      <td>0.012300</td>\n",
       "      <td>0.332</td>\n",
       "      <td>234638.0</td>\n",
       "      <td>0.8470</td>\n",
       "      <td>0.000027</td>\n",
       "      <td>B</td>\n",
       "      <td>0.2970</td>\n",
       "      <td>-4.513</td>\n",
       "      <td>Minor</td>\n",
       "      <td>0.0910</td>\n",
       "      <td>67.23</td>\n",
       "      <td>5-Apr</td>\n",
       "      <td>0.3920</td>\n",
       "      <td>Electronic</td>\n",
       "    </tr>\n",
       "    <tr>\n",
       "      <th>4</th>\n",
       "      <td>21371</td>\n",
       "      <td>Shoe Shopping</td>\n",
       "      <td>52.0</td>\n",
       "      <td>0.580000</td>\n",
       "      <td>0.716</td>\n",
       "      <td>221640.0</td>\n",
       "      <td>0.6140</td>\n",
       "      <td>0.000014</td>\n",
       "      <td>G</td>\n",
       "      <td>0.1600</td>\n",
       "      <td>-7.099</td>\n",
       "      <td>Major</td>\n",
       "      <td>0.0360</td>\n",
       "      <td>88.006</td>\n",
       "      <td>4-Apr</td>\n",
       "      <td>0.6800</td>\n",
       "      <td>Country</td>\n",
       "    </tr>\n",
       "    <tr>\n",
       "      <th>5</th>\n",
       "      <td>42449</td>\n",
       "      <td>Due tramonti</td>\n",
       "      <td>NaN</td>\n",
       "      <td>0.994000</td>\n",
       "      <td>0.299</td>\n",
       "      <td>267533.0</td>\n",
       "      <td>0.0319</td>\n",
       "      <td>0.928000</td>\n",
       "      <td>D</td>\n",
       "      <td>0.1050</td>\n",
       "      <td>-30.624</td>\n",
       "      <td>Major</td>\n",
       "      <td>0.0603</td>\n",
       "      <td>105.92200000000001</td>\n",
       "      <td>4-Apr</td>\n",
       "      <td>0.0975</td>\n",
       "      <td>Classical</td>\n",
       "    </tr>\n",
       "    <tr>\n",
       "      <th>6</th>\n",
       "      <td>33135</td>\n",
       "      <td>NaN</td>\n",
       "      <td>39.0</td>\n",
       "      <td>0.095500</td>\n",
       "      <td>0.654</td>\n",
       "      <td>193577.0</td>\n",
       "      <td>0.8290</td>\n",
       "      <td>0.000003</td>\n",
       "      <td>E</td>\n",
       "      <td>0.7370</td>\n",
       "      <td>-7.322</td>\n",
       "      <td>Major</td>\n",
       "      <td>0.0328</td>\n",
       "      <td>94.476</td>\n",
       "      <td>4-Apr</td>\n",
       "      <td>0.7870</td>\n",
       "      <td>Blues</td>\n",
       "    </tr>\n",
       "    <tr>\n",
       "      <th>7</th>\n",
       "      <td>22201</td>\n",
       "      <td>Lovin' You Is Fun</td>\n",
       "      <td>56.0</td>\n",
       "      <td>0.320000</td>\n",
       "      <td>0.703</td>\n",
       "      <td>199013.0</td>\n",
       "      <td>0.8300</td>\n",
       "      <td>0.000000</td>\n",
       "      <td>G#</td>\n",
       "      <td>0.3640</td>\n",
       "      <td>-3.028</td>\n",
       "      <td>Major</td>\n",
       "      <td>0.0327</td>\n",
       "      <td>109.958</td>\n",
       "      <td>4-Apr</td>\n",
       "      <td>0.5970</td>\n",
       "      <td>Country</td>\n",
       "    </tr>\n",
       "    <tr>\n",
       "      <th>8</th>\n",
       "      <td>16512</td>\n",
       "      <td>I Been</td>\n",
       "      <td>52.0</td>\n",
       "      <td>0.605000</td>\n",
       "      <td>0.670</td>\n",
       "      <td>221441.0</td>\n",
       "      <td>0.2620</td>\n",
       "      <td>0.000216</td>\n",
       "      <td>C#</td>\n",
       "      <td>0.1620</td>\n",
       "      <td>-7.574</td>\n",
       "      <td>Major</td>\n",
       "      <td>1.1170</td>\n",
       "      <td>125.815</td>\n",
       "      <td>4-Apr</td>\n",
       "      <td>0.5160</td>\n",
       "      <td>Alternative</td>\n",
       "    </tr>\n",
       "    <tr>\n",
       "      <th>9</th>\n",
       "      <td>30224</td>\n",
       "      <td>My Slime</td>\n",
       "      <td>59.0</td>\n",
       "      <td>0.007800</td>\n",
       "      <td>0.886</td>\n",
       "      <td>166695.0</td>\n",
       "      <td>0.6750</td>\n",
       "      <td>0.000021</td>\n",
       "      <td>C#</td>\n",
       "      <td>0.0714</td>\n",
       "      <td>-5.353</td>\n",
       "      <td>Major</td>\n",
       "      <td>0.2870</td>\n",
       "      <td>76.469</td>\n",
       "      <td>4-Apr</td>\n",
       "      <td>0.7070</td>\n",
       "      <td>Rap</td>\n",
       "    </tr>\n",
       "  </tbody>\n",
       "</table>\n",
       "</div>"
      ],
      "text/plain": [
       "   instance_id                   track_name  popularity  acousticness  \\\n",
       "0         4919                 By Your Side        33.0      0.000718   \n",
       "1        16096                          NaN        55.0      0.064700   \n",
       "2        43825  Symphony No. 6: VI. Allegro        39.0      0.931000   \n",
       "3         4331                          NaN        56.0      0.012300   \n",
       "4        21371                Shoe Shopping        52.0      0.580000   \n",
       "5        42449                 Due tramonti         NaN      0.994000   \n",
       "6        33135                          NaN        39.0      0.095500   \n",
       "7        22201            Lovin' You Is Fun        56.0      0.320000   \n",
       "8        16512                       I Been        52.0      0.605000   \n",
       "9        30224                     My Slime        59.0      0.007800   \n",
       "\n",
       "   danceability  duration_ms  energy  instrumentalness  key  liveness  \\\n",
       "0         0.501         -1.0  0.9350          0.020100   G#    0.0831   \n",
       "1         0.282     288333.0  0.7380          0.014200    C    0.2900   \n",
       "2         0.364     115240.0  0.3490          0.940000  NaN    0.1100   \n",
       "3         0.332     234638.0  0.8470          0.000027    B    0.2970   \n",
       "4         0.716     221640.0  0.6140          0.000014    G    0.1600   \n",
       "5         0.299     267533.0  0.0319          0.928000    D    0.1050   \n",
       "6         0.654     193577.0  0.8290          0.000003    E    0.7370   \n",
       "7         0.703     199013.0  0.8300          0.000000   G#    0.3640   \n",
       "8         0.670     221441.0  0.2620          0.000216   C#    0.1620   \n",
       "9         0.886     166695.0  0.6750          0.000021   C#    0.0714   \n",
       "\n",
       "   loudness   mode  speechiness               tempo obtained_date  valence  \\\n",
       "0    -5.566  Minor       0.1570             144.922         4-Apr   0.1880   \n",
       "1    -5.566  Major       0.0324             126.914           NaN   0.2110   \n",
       "2   -13.279    NaN       0.0321   65.42699999999999         4-Apr   0.0891   \n",
       "3    -4.513  Minor       0.0910               67.23         5-Apr   0.3920   \n",
       "4    -7.099  Major       0.0360              88.006         4-Apr   0.6800   \n",
       "5   -30.624  Major       0.0603  105.92200000000001         4-Apr   0.0975   \n",
       "6    -7.322  Major       0.0328              94.476         4-Apr   0.7870   \n",
       "7    -3.028  Major       0.0327             109.958         4-Apr   0.5970   \n",
       "8    -7.574  Major       1.1170             125.815         4-Apr   0.5160   \n",
       "9    -5.353  Major       0.2870              76.469         4-Apr   0.7070   \n",
       "\n",
       "   music_genre  \n",
       "0   Electronic  \n",
       "1  Alternative  \n",
       "2    Classical  \n",
       "3   Electronic  \n",
       "4      Country  \n",
       "5    Classical  \n",
       "6        Blues  \n",
       "7      Country  \n",
       "8  Alternative  \n",
       "9          Rap  "
      ]
     },
     "execution_count": 41,
     "metadata": {},
     "output_type": "execute_result"
    }
   ],
   "source": [
    "df_train.head(10)"
   ]
  },
  {
   "cell_type": "markdown",
   "id": "ff3435c2-18e8-425b-96f0-ec486f779e57",
   "metadata": {},
   "source": [
    "Описание полей данных\n",
    "\n",
    "instance_id - уникальный идентификатор трека \n",
    "\n",
    "track_name - название трека\n",
    "\n",
    "acousticness - акустичность\n",
    "\n",
    "danceability - танцевальность\n",
    "\n",
    "duration_ms -продолжительность в милисекундах\n",
    "\n",
    "energy - энергичность\n",
    "\n",
    "instrumentalness - инструментальность\n",
    "\n",
    "key - базовый ключ (нота) произведения\n",
    "\n",
    "liveness - привлекательность\n",
    "\n",
    "loudness - громкость\n",
    "\n",
    "mode - указывает на модальность (мажорную или минорную) трека\n",
    "\n",
    "speechiness - выразительность\n",
    "\n",
    "tempo - темп\n",
    "\n",
    "obtained_date - дата загрузки в сервис\n",
    "\n",
    "valence - привлекательность произведения для пользователей сервиса\n",
    "\n",
    "music_genre - музыкальный жанр"
   ]
  },
  {
   "cell_type": "code",
   "execution_count": 42,
   "id": "d4cc8aac-cf8f-45fd-9e9c-2229ac7f1a58",
   "metadata": {},
   "outputs": [
    {
     "data": {
      "text/html": [
       "<div>\n",
       "<style scoped>\n",
       "    .dataframe tbody tr th:only-of-type {\n",
       "        vertical-align: middle;\n",
       "    }\n",
       "\n",
       "    .dataframe tbody tr th {\n",
       "        vertical-align: top;\n",
       "    }\n",
       "\n",
       "    .dataframe thead th {\n",
       "        text-align: right;\n",
       "    }\n",
       "</style>\n",
       "<table border=\"1\" class=\"dataframe\">\n",
       "  <thead>\n",
       "    <tr style=\"text-align: right;\">\n",
       "      <th></th>\n",
       "      <th>instance_id</th>\n",
       "      <th>popularity</th>\n",
       "      <th>acousticness</th>\n",
       "      <th>danceability</th>\n",
       "      <th>duration_ms</th>\n",
       "      <th>energy</th>\n",
       "      <th>instrumentalness</th>\n",
       "      <th>liveness</th>\n",
       "      <th>loudness</th>\n",
       "      <th>speechiness</th>\n",
       "      <th>valence</th>\n",
       "    </tr>\n",
       "  </thead>\n",
       "  <tbody>\n",
       "    <tr>\n",
       "      <th>count</th>\n",
       "      <td>40000.000000</td>\n",
       "      <td>36078.000000</td>\n",
       "      <td>40000.000000</td>\n",
       "      <td>37963.000000</td>\n",
       "      <td>4.000000e+04</td>\n",
       "      <td>40000.000000</td>\n",
       "      <td>40000.000000</td>\n",
       "      <td>40000.000000</td>\n",
       "      <td>40000.000000</td>\n",
       "      <td>40000.000000</td>\n",
       "      <td>40000.000000</td>\n",
       "    </tr>\n",
       "    <tr>\n",
       "      <th>mean</th>\n",
       "      <td>25959.009050</td>\n",
       "      <td>44.180969</td>\n",
       "      <td>0.307544</td>\n",
       "      <td>0.558330</td>\n",
       "      <td>2.213221e+05</td>\n",
       "      <td>0.598456</td>\n",
       "      <td>0.182680</td>\n",
       "      <td>0.193490</td>\n",
       "      <td>-11.682016</td>\n",
       "      <td>0.129375</td>\n",
       "      <td>0.456093</td>\n",
       "    </tr>\n",
       "    <tr>\n",
       "      <th>std</th>\n",
       "      <td>14443.706417</td>\n",
       "      <td>15.550792</td>\n",
       "      <td>0.342142</td>\n",
       "      <td>0.179047</td>\n",
       "      <td>1.297367e+05</td>\n",
       "      <td>0.265156</td>\n",
       "      <td>0.326242</td>\n",
       "      <td>0.161448</td>\n",
       "      <td>14.426354</td>\n",
       "      <td>0.212147</td>\n",
       "      <td>0.247108</td>\n",
       "    </tr>\n",
       "    <tr>\n",
       "      <th>min</th>\n",
       "      <td>1000.000000</td>\n",
       "      <td>0.000000</td>\n",
       "      <td>0.000000</td>\n",
       "      <td>0.060000</td>\n",
       "      <td>-1.000000e+00</td>\n",
       "      <td>0.000795</td>\n",
       "      <td>0.000000</td>\n",
       "      <td>0.009670</td>\n",
       "      <td>-110.951000</td>\n",
       "      <td>0.022300</td>\n",
       "      <td>0.000000</td>\n",
       "    </tr>\n",
       "    <tr>\n",
       "      <th>25%</th>\n",
       "      <td>13414.750000</td>\n",
       "      <td>34.000000</td>\n",
       "      <td>0.020300</td>\n",
       "      <td>0.442000</td>\n",
       "      <td>1.748498e+05</td>\n",
       "      <td>0.430000</td>\n",
       "      <td>0.000000</td>\n",
       "      <td>0.096800</td>\n",
       "      <td>-11.617250</td>\n",
       "      <td>0.036400</td>\n",
       "      <td>0.257000</td>\n",
       "    </tr>\n",
       "    <tr>\n",
       "      <th>50%</th>\n",
       "      <td>25949.500000</td>\n",
       "      <td>45.000000</td>\n",
       "      <td>0.145000</td>\n",
       "      <td>0.569000</td>\n",
       "      <td>2.193200e+05</td>\n",
       "      <td>0.641000</td>\n",
       "      <td>0.000163</td>\n",
       "      <td>0.126000</td>\n",
       "      <td>-7.480000</td>\n",
       "      <td>0.050100</td>\n",
       "      <td>0.447000</td>\n",
       "    </tr>\n",
       "    <tr>\n",
       "      <th>75%</th>\n",
       "      <td>38496.250000</td>\n",
       "      <td>56.000000</td>\n",
       "      <td>0.554000</td>\n",
       "      <td>0.687000</td>\n",
       "      <td>2.686670e+05</td>\n",
       "      <td>0.815000</td>\n",
       "      <td>0.159000</td>\n",
       "      <td>0.242000</td>\n",
       "      <td>-5.258000</td>\n",
       "      <td>0.113000</td>\n",
       "      <td>0.648000</td>\n",
       "    </tr>\n",
       "    <tr>\n",
       "      <th>max</th>\n",
       "      <td>50999.000000</td>\n",
       "      <td>99.000000</td>\n",
       "      <td>0.996000</td>\n",
       "      <td>0.980000</td>\n",
       "      <td>4.830606e+06</td>\n",
       "      <td>0.999000</td>\n",
       "      <td>0.993000</td>\n",
       "      <td>1.000000</td>\n",
       "      <td>3.744000</td>\n",
       "      <td>1.820000</td>\n",
       "      <td>0.992000</td>\n",
       "    </tr>\n",
       "  </tbody>\n",
       "</table>\n",
       "</div>"
      ],
      "text/plain": [
       "        instance_id    popularity  acousticness  danceability   duration_ms  \\\n",
       "count  40000.000000  36078.000000  40000.000000  37963.000000  4.000000e+04   \n",
       "mean   25959.009050     44.180969      0.307544      0.558330  2.213221e+05   \n",
       "std    14443.706417     15.550792      0.342142      0.179047  1.297367e+05   \n",
       "min     1000.000000      0.000000      0.000000      0.060000 -1.000000e+00   \n",
       "25%    13414.750000     34.000000      0.020300      0.442000  1.748498e+05   \n",
       "50%    25949.500000     45.000000      0.145000      0.569000  2.193200e+05   \n",
       "75%    38496.250000     56.000000      0.554000      0.687000  2.686670e+05   \n",
       "max    50999.000000     99.000000      0.996000      0.980000  4.830606e+06   \n",
       "\n",
       "             energy  instrumentalness      liveness      loudness  \\\n",
       "count  40000.000000      40000.000000  40000.000000  40000.000000   \n",
       "mean       0.598456          0.182680      0.193490    -11.682016   \n",
       "std        0.265156          0.326242      0.161448     14.426354   \n",
       "min        0.000795          0.000000      0.009670   -110.951000   \n",
       "25%        0.430000          0.000000      0.096800    -11.617250   \n",
       "50%        0.641000          0.000163      0.126000     -7.480000   \n",
       "75%        0.815000          0.159000      0.242000     -5.258000   \n",
       "max        0.999000          0.993000      1.000000      3.744000   \n",
       "\n",
       "        speechiness       valence  \n",
       "count  40000.000000  40000.000000  \n",
       "mean       0.129375      0.456093  \n",
       "std        0.212147      0.247108  \n",
       "min        0.022300      0.000000  \n",
       "25%        0.036400      0.257000  \n",
       "50%        0.050100      0.447000  \n",
       "75%        0.113000      0.648000  \n",
       "max        1.820000      0.992000  "
      ]
     },
     "execution_count": 42,
     "metadata": {},
     "output_type": "execute_result"
    }
   ],
   "source": [
    "df_train.describe()"
   ]
  },
  {
   "cell_type": "markdown",
   "id": "52ecf58d-c2f7-42dc-91db-155539cf1045",
   "metadata": {},
   "source": [
    "Проверим данные на пропуски"
   ]
  },
  {
   "cell_type": "code",
   "execution_count": 43,
   "id": "753cfca5-52bd-4fb8-a44f-1ab3936edecd",
   "metadata": {},
   "outputs": [
    {
     "data": {
      "text/plain": [
       "instance_id             0\n",
       "track_name          10738\n",
       "popularity           3922\n",
       "acousticness            0\n",
       "danceability         2037\n",
       "duration_ms             0\n",
       "energy                  0\n",
       "instrumentalness        0\n",
       "key                  1423\n",
       "liveness                0\n",
       "loudness                0\n",
       "mode                 1853\n",
       "speechiness             0\n",
       "tempo                   0\n",
       "obtained_date        6219\n",
       "valence                 0\n",
       "music_genre             0\n",
       "dtype: int64"
      ]
     },
     "execution_count": 43,
     "metadata": {},
     "output_type": "execute_result"
    }
   ],
   "source": [
    "df_train.isna().sum()"
   ]
  },
  {
   "cell_type": "code",
   "execution_count": 44,
   "id": "a25e5ef6-a2d7-4169-b6b9-f5212f6c0e49",
   "metadata": {},
   "outputs": [
    {
     "data": {
      "text/plain": [
       "instance_id            0\n",
       "track_name          2612\n",
       "popularity          1013\n",
       "acousticness           0\n",
       "danceability         523\n",
       "duration_ms            0\n",
       "energy                 0\n",
       "instrumentalness       0\n",
       "key                  327\n",
       "liveness               0\n",
       "loudness               0\n",
       "mode                 482\n",
       "speechiness            0\n",
       "tempo                  0\n",
       "obtained_date       1581\n",
       "valence                0\n",
       "dtype: int64"
      ]
     },
     "execution_count": 44,
     "metadata": {},
     "output_type": "execute_result"
    }
   ],
   "source": [
    "df_test.isna().sum()"
   ]
  },
  {
   "cell_type": "markdown",
   "id": "727456ca-b6a5-47dd-86e4-2e3c00cfe121",
   "metadata": {},
   "source": [
    "По результатам предварительной оценки данных можем отметить следующее:\n",
    "\n",
    "Учитывая вводные условия к проекту, его описание и данные, которые мы видем в таблице, можно утверждать, что перед нами задача классификации;\n",
    "В датасете df_train 40000 строк. В датасете df_test 10000 строк;\n",
    "В столбцах присутствуют пропуски в данных\n",
    "track_name;\n",
    "popularity;\n",
    "danceability;\n",
    "mode;\n",
    "key;\n",
    "tempo.\n",
    "Присутствует 3 категориальных признака, которые следует преобразовать для возможности дальнейшего обучения модели:\n",
    "key;\n",
    "mode;\n",
    "music_genre.\n",
    "Следует избавиться от некоторых столбцов, так они не влияют на значение целевого признака и при этом будут ухудшать процесс обучения модели:\n",
    "instance_id;\n",
    "track_name;\n",
    "obtained_date.\n",
    "В тренировочном датасете df_test отсутствует столбец music_genre."
   ]
  },
  {
   "cell_type": "markdown",
   "id": "d7e415ca-cf15-4886-9b8e-4f7e2897e770",
   "metadata": {},
   "source": [
    "## Предобработка и анализ данных"
   ]
  },
  {
   "cell_type": "markdown",
   "id": "3e863dce-250b-4fc8-ba43-92a8772bdd15",
   "metadata": {},
   "source": [
    "Построим гистограммы распределения тренировочного датасета"
   ]
  },
  {
   "cell_type": "code",
   "execution_count": 45,
   "id": "4469a88b-e4b0-4ab7-a350-045e0a446eb0",
   "metadata": {},
   "outputs": [
    {
     "data": {
      "image/png": "[encoded data removed]",
      "text/plain": [
       "<Figure size 1440x864 with 12 Axes>"
      ]
     },
     "metadata": {
      "needs_background": "light"
     },
     "output_type": "display_data"
    }
   ],
   "source": [
    "df_train.hist(figsize=(20, 12));"
   ]
  },
  {
   "cell_type": "markdown",
   "id": "dd36cb63-5ec9-478a-b352-680903705209",
   "metadata": {},
   "source": [
    "Построим гистограммы распределения тестового датасета"
   ]
  },
  {
   "cell_type": "markdown",
   "id": "b9ab8956-b330-44f3-8b8b-388d7e7bf286",
   "metadata": {},
   "source": [
    "Гистограммы данных практически не отличаются"
   ]
  },
  {
   "cell_type": "markdown",
   "id": "77c54f4b-9849-4988-b4b6-7f49e607ae00",
   "metadata": {},
   "source": [
    "Проверим данные на дубликаты"
   ]
  },
  {
   "cell_type": "code",
   "execution_count": 46,
   "id": "3a111b40-3162-4303-8636-c4aecde61df6",
   "metadata": {},
   "outputs": [
    {
     "data": {
      "text/plain": [
       "2"
      ]
     },
     "execution_count": 46,
     "metadata": {},
     "output_type": "execute_result"
    }
   ],
   "source": [
    "df_train[['track_name', 'acousticness', 'danceability',\n",
    "       'duration_ms', 'energy', 'instrumentalness', 'key', 'liveness',\n",
    "       'loudness', 'mode', 'speechiness', 'tempo', 'obtained_date', 'valence',\n",
    "       'music_genre']].duplicated().sum()"
   ]
  },
  {
   "cell_type": "code",
   "execution_count": 47,
   "id": "7372f704-92c0-4131-9f23-873b96d40a8b",
   "metadata": {},
   "outputs": [
    {
     "data": {
      "text/plain": [
       "33"
      ]
     },
     "execution_count": 47,
     "metadata": {},
     "output_type": "execute_result"
    }
   ],
   "source": [
    "df_test[['track_name', 'acousticness', 'danceability',\n",
    "       'duration_ms', 'energy', 'instrumentalness', 'key', 'liveness',\n",
    "       'loudness', 'mode', 'speechiness', 'tempo', 'obtained_date', 'valence']].duplicated().sum()"
   ]
  },
  {
   "cell_type": "markdown",
   "id": "80483638-e0ca-4e64-83d9-00f6f2db9782",
   "metadata": {},
   "source": [
    "Из полученных данных видно, что наибольшее количество дубликатов приходится на тестовый датафрейм. При этом стоит отметить, что удаление данных из него недопустимо. Таким образом, выполним удаление дубликата только из тренировочного датафрейма."
   ]
  },
  {
   "cell_type": "code",
   "execution_count": 48,
   "id": "8474a98b-baa4-4821-9f41-726b3f74e8d9",
   "metadata": {},
   "outputs": [],
   "source": [
    "df_train = df_train.drop_duplicates(subset=['track_name', 'acousticness', 'danceability',\n",
    "       'duration_ms', 'energy', 'instrumentalness', 'key', 'liveness',\n",
    "       'loudness', 'mode', 'speechiness', 'tempo', 'obtained_date', 'valence',\n",
    "       'music_genre']).reset_index(drop=True)"
   ]
  },
  {
   "cell_type": "markdown",
   "id": "5f3ff566-1703-4ed5-a111-722987e70cba",
   "metadata": {},
   "source": [
    "Определение неявных дубликатов"
   ]
  },
  {
   "cell_type": "markdown",
   "id": "77615655-1202-4ca5-8170-f409545fb341",
   "metadata": {},
   "source": [
    "Неявные дубли могут быть найдены в полях категориальных признаков, которые имеют текстовый тип данных.\n",
    "\n",
    "Выведем список таких полей, исключив сразу из него поля, подлежащие дальнейшему удалению."
   ]
  },
  {
   "cell_type": "code",
   "execution_count": 49,
   "id": "0c93b330-14aa-41d1-9726-37657fb9fb00",
   "metadata": {},
   "outputs": [
    {
     "data": {
      "text/plain": [
       "popularity          float64\n",
       "acousticness        float64\n",
       "danceability        float64\n",
       "duration_ms         float64\n",
       "energy              float64\n",
       "instrumentalness    float64\n",
       "key                  object\n",
       "liveness            float64\n",
       "loudness            float64\n",
       "mode                 object\n",
       "speechiness         float64\n",
       "tempo                object\n",
       "valence             float64\n",
       "music_genre          object\n",
       "dtype: object"
      ]
     },
     "execution_count": 49,
     "metadata": {},
     "output_type": "execute_result"
    }
   ],
   "source": [
    "df_train.dtypes[~df_train.columns.isin(['track_name', 'obtained_date', 'instance_id'])]"
   ]
  },
  {
   "cell_type": "code",
   "execution_count": 50,
   "id": "b9700205-bced-42cf-abbc-6ea16e348d78",
   "metadata": {},
   "outputs": [
    {
     "data": {
      "text/plain": [
       "G     0.114167\n",
       "C     0.110823\n",
       "C#    0.108153\n",
       "D     0.105094\n",
       "A     0.096487\n",
       "F     0.086714\n",
       "B     0.076241\n",
       "E     0.074608\n",
       "G#    0.067142\n",
       "A#    0.066857\n",
       "F#    0.062139\n",
       "D#    0.031575\n",
       "Name: key, dtype: float64"
      ]
     },
     "execution_count": 50,
     "metadata": {},
     "output_type": "execute_result"
    }
   ],
   "source": [
    "df_train['key'].value_counts(normalize=True)"
   ]
  },
  {
   "cell_type": "code",
   "execution_count": 51,
   "id": "f92452c7-3449-476b-bfa7-12bd7d131fb6",
   "metadata": {},
   "outputs": [
    {
     "data": {
      "text/plain": [
       "G     0.116303\n",
       "C#    0.107929\n",
       "C     0.107826\n",
       "D     0.104828\n",
       "A     0.096868\n",
       "F     0.088080\n",
       "E     0.076708\n",
       "B     0.073400\n",
       "A#    0.068955\n",
       "G#    0.063269\n",
       "F#    0.062855\n",
       "D#    0.032978\n",
       "Name: key, dtype: float64"
      ]
     },
     "execution_count": 51,
     "metadata": {},
     "output_type": "execute_result"
    }
   ],
   "source": [
    "df_test['key'].value_counts(normalize=True)"
   ]
  },
  {
   "cell_type": "code",
   "execution_count": 52,
   "id": "de8bef64-1eb9-45a3-a41b-8a42f2313721",
   "metadata": {},
   "outputs": [
    {
     "data": {
      "text/plain": [
       "Major    0.644672\n",
       "Minor    0.355328\n",
       "Name: mode, dtype: float64"
      ]
     },
     "execution_count": 52,
     "metadata": {},
     "output_type": "execute_result"
    }
   ],
   "source": [
    "df_train['mode'].value_counts(normalize=True)"
   ]
  },
  {
   "cell_type": "code",
   "execution_count": 53,
   "id": "792a909a-0b5a-4d60-91c3-4c843142e57e",
   "metadata": {},
   "outputs": [
    {
     "data": {
      "text/plain": [
       "Major    0.629124\n",
       "Minor    0.370876\n",
       "Name: mode, dtype: float64"
      ]
     },
     "execution_count": 53,
     "metadata": {},
     "output_type": "execute_result"
    }
   ],
   "source": [
    "df_test['mode'].value_counts(normalize=True)"
   ]
  },
  {
   "cell_type": "code",
   "execution_count": 54,
   "id": "20223056-a197-4809-b51f-7f826f91b4c0",
   "metadata": {},
   "outputs": [
    {
     "data": {
      "text/plain": [
       "Rock           0.101380\n",
       "Electronic     0.101230\n",
       "Country        0.100605\n",
       "Jazz           0.100580\n",
       "Classical      0.100480\n",
       "Anime          0.100080\n",
       "Blues          0.099680\n",
       "Rap            0.099105\n",
       "Alternative    0.098480\n",
       "Hip-Hop        0.098380\n",
       "Name: music_genre, dtype: float64"
      ]
     },
     "execution_count": 54,
     "metadata": {},
     "output_type": "execute_result"
    }
   ],
   "source": [
    "df_train['music_genre'].value_counts(normalize=True)"
   ]
  },
  {
   "cell_type": "markdown",
   "id": "f683f079-0944-4040-b918-52c148523588",
   "metadata": {},
   "source": [
    "Неявные дубликаты в данных столбцах отсутствуют. Распределение данных внутри датасетов совпадает."
   ]
  },
  {
   "cell_type": "code",
   "execution_count": 55,
   "id": "2b2fd9f1-9ccb-443b-8462-fd08e563db71",
   "metadata": {},
   "outputs": [
    {
     "data": {
      "text/plain": [
       "array(['G#', 'C', nan, 'B', 'G', 'D', 'E', 'C#', 'A', 'F', 'A#', 'F#',\n",
       "       'D#'], dtype=object)"
      ]
     },
     "execution_count": 55,
     "metadata": {},
     "output_type": "execute_result"
    }
   ],
   "source": [
    "df_train['key'].unique()"
   ]
  },
  {
   "cell_type": "markdown",
   "id": "57c639dc-e4af-4326-934f-d979fb02373f",
   "metadata": {},
   "source": [
    "Обработка аномалий в данных"
   ]
  },
  {
   "cell_type": "markdown",
   "id": "1335f9e0-957a-4e02-9fcf-1bf7ab53120e",
   "metadata": {},
   "source": [
    "Обработка столбца duration_ms"
   ]
  },
  {
   "cell_type": "markdown",
   "id": "3d5151a6-47a3-4369-b305-5ce86db12b1b",
   "metadata": {},
   "source": [
    "Анализ describe показал отрицательные значения в показателях продолжительности треков, что противоречит логике. "
   ]
  },
  {
   "cell_type": "code",
   "execution_count": 56,
   "id": "e85bc3c9-f721-4015-a9d9-64a0aa718cee",
   "metadata": {},
   "outputs": [
    {
     "data": {
      "text/plain": [
       "3956"
      ]
     },
     "execution_count": 56,
     "metadata": {},
     "output_type": "execute_result"
    }
   ],
   "source": [
    "(df_train['duration_ms'][df_train['duration_ms'] < 0]).count()"
   ]
  },
  {
   "cell_type": "markdown",
   "id": "8d14215b-6741-4ba2-87a8-08f846c6b89b",
   "metadata": {},
   "source": [
    "Таких значений около 4000."
   ]
  },
  {
   "cell_type": "markdown",
   "id": "ce5d2094-35a1-4075-a321-143cf671ca2c",
   "metadata": {},
   "source": [
    "Для их обработки выполним замену данных анамалий медианным значением."
   ]
  },
  {
   "cell_type": "code",
   "execution_count": 57,
   "id": "ad968ebe-481d-47f3-b270-3b1c2eb35270",
   "metadata": {},
   "outputs": [
    {
     "data": {
      "text/plain": [
       "227360.0"
      ]
     },
     "execution_count": 57,
     "metadata": {},
     "output_type": "execute_result"
    }
   ],
   "source": [
    "duration_concat_median = pd.concat([df_train.query('duration_ms>0'), df_test.query('duration_ms>0')])['duration_ms'].median()\n",
    "duration_concat_median"
   ]
  },
  {
   "cell_type": "code",
   "execution_count": 58,
   "id": "f745ad18-cce3-42bd-b4cd-7b379efdffb9",
   "metadata": {},
   "outputs": [],
   "source": [
    "df_test.loc[df_test['duration_ms']<=0,'duration_ms'] = duration_concat_median"
   ]
  },
  {
   "cell_type": "code",
   "execution_count": 59,
   "id": "c9248d8f-44e7-4244-b3d2-465baf4495b4",
   "metadata": {},
   "outputs": [],
   "source": [
    "df_train.loc[df_train['duration_ms']<=0,'duration_ms'] = duration_concat_median"
   ]
  },
  {
   "cell_type": "code",
   "execution_count": 60,
   "id": "6d3f3700-17a9-416d-bc67-3ae585ad2d78",
   "metadata": {},
   "outputs": [
    {
     "data": {
      "text/plain": [
       "0"
      ]
     },
     "execution_count": 60,
     "metadata": {},
     "output_type": "execute_result"
    }
   ],
   "source": [
    "(df_train['duration_ms'][df_train['duration_ms'] < 0]).count()"
   ]
  },
  {
   "cell_type": "markdown",
   "id": "381a4f03-046c-4950-9be1-9fd8af2f409f",
   "metadata": {},
   "source": [
    "## Подготовка данных к обучению модели. Проверка корреляций."
   ]
  },
  {
   "cell_type": "markdown",
   "id": "369f7cf2-b859-48ef-b224-e60296b2dfc2",
   "metadata": {},
   "source": [
    "Удалим столбцы не влияющие на обучение модели."
   ]
  },
  {
   "cell_type": "code",
   "execution_count": 61,
   "id": "55b513eb-c33c-4b80-a502-6d47a6ef32c7",
   "metadata": {},
   "outputs": [],
   "source": [
    "df_train = df_train.drop(['instance_id', 'track_name', 'obtained_date'], axis=1)"
   ]
  },
  {
   "cell_type": "markdown",
   "id": "f210ee8b-82a9-42e8-b54b-061ba8f1386e",
   "metadata": {},
   "source": [
    "Проверим корреляцию методом phik."
   ]
  },
  {
   "cell_type": "code",
   "execution_count": 62,
   "id": "4b38c1a4-fd60-4dcd-92d0-dd71aca92cc9",
   "metadata": {},
   "outputs": [
    {
     "name": "stdout",
     "output_type": "stream",
     "text": [
      "interval columns not set, guessing: ['popularity', 'acousticness', 'danceability', 'duration_ms', 'energy', 'instrumentalness', 'liveness', 'loudness', 'speechiness', 'valence']\n"
     ]
    },
    {
     "data": {
      "text/html": [
       "<div>\n",
       "<style scoped>\n",
       "    .dataframe tbody tr th:only-of-type {\n",
       "        vertical-align: middle;\n",
       "    }\n",
       "\n",
       "    .dataframe tbody tr th {\n",
       "        vertical-align: top;\n",
       "    }\n",
       "\n",
       "    .dataframe thead th {\n",
       "        text-align: right;\n",
       "    }\n",
       "</style>\n",
       "<table border=\"1\" class=\"dataframe\">\n",
       "  <thead>\n",
       "    <tr style=\"text-align: right;\">\n",
       "      <th></th>\n",
       "      <th>popularity</th>\n",
       "      <th>acousticness</th>\n",
       "      <th>danceability</th>\n",
       "      <th>duration_ms</th>\n",
       "      <th>energy</th>\n",
       "      <th>instrumentalness</th>\n",
       "      <th>key</th>\n",
       "      <th>liveness</th>\n",
       "      <th>loudness</th>\n",
       "      <th>mode</th>\n",
       "      <th>speechiness</th>\n",
       "      <th>tempo</th>\n",
       "      <th>valence</th>\n",
       "      <th>music_genre</th>\n",
       "    </tr>\n",
       "  </thead>\n",
       "  <tbody>\n",
       "    <tr>\n",
       "      <th>popularity</th>\n",
       "      <td>1.000000</td>\n",
       "      <td>0.384507</td>\n",
       "      <td>0.377972</td>\n",
       "      <td>0.096511</td>\n",
       "      <td>0.399331</td>\n",
       "      <td>0.386906</td>\n",
       "      <td>0.073393</td>\n",
       "      <td>0.101742</td>\n",
       "      <td>0.272388</td>\n",
       "      <td>0.029632</td>\n",
       "      <td>0.243289</td>\n",
       "      <td>0.518030</td>\n",
       "      <td>0.223045</td>\n",
       "      <td>0.796694</td>\n",
       "    </tr>\n",
       "    <tr>\n",
       "      <th>acousticness</th>\n",
       "      <td>0.384507</td>\n",
       "      <td>1.000000</td>\n",
       "      <td>0.495471</td>\n",
       "      <td>0.132713</td>\n",
       "      <td>0.770372</td>\n",
       "      <td>0.481609</td>\n",
       "      <td>0.104717</td>\n",
       "      <td>0.199635</td>\n",
       "      <td>0.553356</td>\n",
       "      <td>0.034518</td>\n",
       "      <td>0.183833</td>\n",
       "      <td>0.845404</td>\n",
       "      <td>0.433484</td>\n",
       "      <td>0.669516</td>\n",
       "    </tr>\n",
       "    <tr>\n",
       "      <th>danceability</th>\n",
       "      <td>0.377972</td>\n",
       "      <td>0.495471</td>\n",
       "      <td>1.000000</td>\n",
       "      <td>0.164222</td>\n",
       "      <td>0.549543</td>\n",
       "      <td>0.367672</td>\n",
       "      <td>0.107778</td>\n",
       "      <td>0.130999</td>\n",
       "      <td>0.369882</td>\n",
       "      <td>0.104431</td>\n",
       "      <td>0.305729</td>\n",
       "      <td>0.820672</td>\n",
       "      <td>0.567311</td>\n",
       "      <td>0.645572</td>\n",
       "    </tr>\n",
       "    <tr>\n",
       "      <th>duration_ms</th>\n",
       "      <td>0.096511</td>\n",
       "      <td>0.132713</td>\n",
       "      <td>0.164222</td>\n",
       "      <td>1.000000</td>\n",
       "      <td>0.138107</td>\n",
       "      <td>0.146996</td>\n",
       "      <td>0.022161</td>\n",
       "      <td>0.066559</td>\n",
       "      <td>0.142718</td>\n",
       "      <td>0.012330</td>\n",
       "      <td>0.029102</td>\n",
       "      <td>0.909993</td>\n",
       "      <td>0.136594</td>\n",
       "      <td>0.177828</td>\n",
       "    </tr>\n",
       "    <tr>\n",
       "      <th>energy</th>\n",
       "      <td>0.399331</td>\n",
       "      <td>0.770372</td>\n",
       "      <td>0.549543</td>\n",
       "      <td>0.138107</td>\n",
       "      <td>1.000000</td>\n",
       "      <td>0.473122</td>\n",
       "      <td>0.097504</td>\n",
       "      <td>0.272920</td>\n",
       "      <td>0.660806</td>\n",
       "      <td>0.048044</td>\n",
       "      <td>0.184556</td>\n",
       "      <td>0.835225</td>\n",
       "      <td>0.513825</td>\n",
       "      <td>0.685213</td>\n",
       "    </tr>\n",
       "    <tr>\n",
       "      <th>instrumentalness</th>\n",
       "      <td>0.386906</td>\n",
       "      <td>0.481609</td>\n",
       "      <td>0.367672</td>\n",
       "      <td>0.146996</td>\n",
       "      <td>0.473122</td>\n",
       "      <td>1.000000</td>\n",
       "      <td>0.045624</td>\n",
       "      <td>0.152220</td>\n",
       "      <td>0.383976</td>\n",
       "      <td>0.088906</td>\n",
       "      <td>0.184148</td>\n",
       "      <td>0.740175</td>\n",
       "      <td>0.376662</td>\n",
       "      <td>0.579499</td>\n",
       "    </tr>\n",
       "    <tr>\n",
       "      <th>key</th>\n",
       "      <td>0.073393</td>\n",
       "      <td>0.104717</td>\n",
       "      <td>0.107778</td>\n",
       "      <td>0.022161</td>\n",
       "      <td>0.097504</td>\n",
       "      <td>0.045624</td>\n",
       "      <td>1.000000</td>\n",
       "      <td>0.047414</td>\n",
       "      <td>0.089779</td>\n",
       "      <td>0.343837</td>\n",
       "      <td>0.104648</td>\n",
       "      <td>0.770861</td>\n",
       "      <td>0.046824</td>\n",
       "      <td>0.168151</td>\n",
       "    </tr>\n",
       "    <tr>\n",
       "      <th>liveness</th>\n",
       "      <td>0.101742</td>\n",
       "      <td>0.199635</td>\n",
       "      <td>0.130999</td>\n",
       "      <td>0.066559</td>\n",
       "      <td>0.272920</td>\n",
       "      <td>0.152220</td>\n",
       "      <td>0.047414</td>\n",
       "      <td>1.000000</td>\n",
       "      <td>0.141507</td>\n",
       "      <td>0.020550</td>\n",
       "      <td>0.114465</td>\n",
       "      <td>0.815355</td>\n",
       "      <td>0.149282</td>\n",
       "      <td>0.214001</td>\n",
       "    </tr>\n",
       "    <tr>\n",
       "      <th>loudness</th>\n",
       "      <td>0.272388</td>\n",
       "      <td>0.553356</td>\n",
       "      <td>0.369882</td>\n",
       "      <td>0.142718</td>\n",
       "      <td>0.660806</td>\n",
       "      <td>0.383976</td>\n",
       "      <td>0.089779</td>\n",
       "      <td>0.141507</td>\n",
       "      <td>1.000000</td>\n",
       "      <td>0.014853</td>\n",
       "      <td>0.105567</td>\n",
       "      <td>0.874878</td>\n",
       "      <td>0.342252</td>\n",
       "      <td>0.524430</td>\n",
       "    </tr>\n",
       "    <tr>\n",
       "      <th>mode</th>\n",
       "      <td>0.029632</td>\n",
       "      <td>0.034518</td>\n",
       "      <td>0.104431</td>\n",
       "      <td>0.012330</td>\n",
       "      <td>0.048044</td>\n",
       "      <td>0.088906</td>\n",
       "      <td>0.343837</td>\n",
       "      <td>0.020550</td>\n",
       "      <td>0.014853</td>\n",
       "      <td>1.000000</td>\n",
       "      <td>0.076041</td>\n",
       "      <td>0.396491</td>\n",
       "      <td>0.038396</td>\n",
       "      <td>0.286882</td>\n",
       "    </tr>\n",
       "    <tr>\n",
       "      <th>speechiness</th>\n",
       "      <td>0.243289</td>\n",
       "      <td>0.183833</td>\n",
       "      <td>0.305729</td>\n",
       "      <td>0.029102</td>\n",
       "      <td>0.184556</td>\n",
       "      <td>0.184148</td>\n",
       "      <td>0.104648</td>\n",
       "      <td>0.114465</td>\n",
       "      <td>0.105567</td>\n",
       "      <td>0.076041</td>\n",
       "      <td>1.000000</td>\n",
       "      <td>0.551375</td>\n",
       "      <td>0.123664</td>\n",
       "      <td>0.465348</td>\n",
       "    </tr>\n",
       "    <tr>\n",
       "      <th>tempo</th>\n",
       "      <td>0.518030</td>\n",
       "      <td>0.845404</td>\n",
       "      <td>0.820672</td>\n",
       "      <td>0.909993</td>\n",
       "      <td>0.835225</td>\n",
       "      <td>0.740175</td>\n",
       "      <td>0.770861</td>\n",
       "      <td>0.815355</td>\n",
       "      <td>0.874878</td>\n",
       "      <td>0.396491</td>\n",
       "      <td>0.551375</td>\n",
       "      <td>1.000000</td>\n",
       "      <td>0.771053</td>\n",
       "      <td>0.323797</td>\n",
       "    </tr>\n",
       "    <tr>\n",
       "      <th>valence</th>\n",
       "      <td>0.223045</td>\n",
       "      <td>0.433484</td>\n",
       "      <td>0.567311</td>\n",
       "      <td>0.136594</td>\n",
       "      <td>0.513825</td>\n",
       "      <td>0.376662</td>\n",
       "      <td>0.046824</td>\n",
       "      <td>0.149282</td>\n",
       "      <td>0.342252</td>\n",
       "      <td>0.038396</td>\n",
       "      <td>0.123664</td>\n",
       "      <td>0.771053</td>\n",
       "      <td>1.000000</td>\n",
       "      <td>0.481876</td>\n",
       "    </tr>\n",
       "    <tr>\n",
       "      <th>music_genre</th>\n",
       "      <td>0.796694</td>\n",
       "      <td>0.669516</td>\n",
       "      <td>0.645572</td>\n",
       "      <td>0.177828</td>\n",
       "      <td>0.685213</td>\n",
       "      <td>0.579499</td>\n",
       "      <td>0.168151</td>\n",
       "      <td>0.214001</td>\n",
       "      <td>0.524430</td>\n",
       "      <td>0.286882</td>\n",
       "      <td>0.465348</td>\n",
       "      <td>0.323797</td>\n",
       "      <td>0.481876</td>\n",
       "      <td>1.000000</td>\n",
       "    </tr>\n",
       "  </tbody>\n",
       "</table>\n",
       "</div>"
      ],
      "text/plain": [
       "                  popularity  acousticness  danceability  duration_ms  \\\n",
       "popularity          1.000000      0.384507      0.377972     0.096511   \n",
       "acousticness        0.384507      1.000000      0.495471     0.132713   \n",
       "danceability        0.377972      0.495471      1.000000     0.164222   \n",
       "duration_ms         0.096511      0.132713      0.164222     1.000000   \n",
       "energy              0.399331      0.770372      0.549543     0.138107   \n",
       "instrumentalness    0.386906      0.481609      0.367672     0.146996   \n",
       "key                 0.073393      0.104717      0.107778     0.022161   \n",
       "liveness            0.101742      0.199635      0.130999     0.066559   \n",
       "loudness            0.272388      0.553356      0.369882     0.142718   \n",
       "mode                0.029632      0.034518      0.104431     0.012330   \n",
       "speechiness         0.243289      0.183833      0.305729     0.029102   \n",
       "tempo               0.518030      0.845404      0.820672     0.909993   \n",
       "valence             0.223045      0.433484      0.567311     0.136594   \n",
       "music_genre         0.796694      0.669516      0.645572     0.177828   \n",
       "\n",
       "                    energy  instrumentalness       key  liveness  loudness  \\\n",
       "popularity        0.399331          0.386906  0.073393  0.101742  0.272388   \n",
       "acousticness      0.770372          0.481609  0.104717  0.199635  0.553356   \n",
       "danceability      0.549543          0.367672  0.107778  0.130999  0.369882   \n",
       "duration_ms       0.138107          0.146996  0.022161  0.066559  0.142718   \n",
       "energy            1.000000          0.473122  0.097504  0.272920  0.660806   \n",
       "instrumentalness  0.473122          1.000000  0.045624  0.152220  0.383976   \n",
       "key               0.097504          0.045624  1.000000  0.047414  0.089779   \n",
       "liveness          0.272920          0.152220  0.047414  1.000000  0.141507   \n",
       "loudness          0.660806          0.383976  0.089779  0.141507  1.000000   \n",
       "mode              0.048044          0.088906  0.343837  0.020550  0.014853   \n",
       "speechiness       0.184556          0.184148  0.104648  0.114465  0.105567   \n",
       "tempo             0.835225          0.740175  0.770861  0.815355  0.874878   \n",
       "valence           0.513825          0.376662  0.046824  0.149282  0.342252   \n",
       "music_genre       0.685213          0.579499  0.168151  0.214001  0.524430   \n",
       "\n",
       "                      mode  speechiness     tempo   valence  music_genre  \n",
       "popularity        0.029632     0.243289  0.518030  0.223045     0.796694  \n",
       "acousticness      0.034518     0.183833  0.845404  0.433484     0.669516  \n",
       "danceability      0.104431     0.305729  0.820672  0.567311     0.645572  \n",
       "duration_ms       0.012330     0.029102  0.909993  0.136594     0.177828  \n",
       "energy            0.048044     0.184556  0.835225  0.513825     0.685213  \n",
       "instrumentalness  0.088906     0.184148  0.740175  0.376662     0.579499  \n",
       "key               0.343837     0.104648  0.770861  0.046824     0.168151  \n",
       "liveness          0.020550     0.114465  0.815355  0.149282     0.214001  \n",
       "loudness          0.014853     0.105567  0.874878  0.342252     0.524430  \n",
       "mode              1.000000     0.076041  0.396491  0.038396     0.286882  \n",
       "speechiness       0.076041     1.000000  0.551375  0.123664     0.465348  \n",
       "tempo             0.396491     0.551375  1.000000  0.771053     0.323797  \n",
       "valence           0.038396     0.123664  0.771053  1.000000     0.481876  \n",
       "music_genre       0.286882     0.465348  0.323797  0.481876     1.000000  "
      ]
     },
     "execution_count": 62,
     "metadata": {},
     "output_type": "execute_result"
    }
   ],
   "source": [
    "df_train.phik_matrix() "
   ]
  },
  {
   "cell_type": "code",
   "execution_count": 63,
   "id": "76adbf12-dbf1-424d-8954-9ff5ac7fefd7",
   "metadata": {},
   "outputs": [
    {
     "name": "stdout",
     "output_type": "stream",
     "text": [
      "interval columns not set, guessing: ['popularity', 'acousticness', 'danceability', 'duration_ms', 'energy', 'instrumentalness', 'liveness', 'loudness', 'speechiness', 'valence']\n"
     ]
    },
    {
     "data": {
      "text/plain": [
       "<AxesSubplot:>"
      ]
     },
     "execution_count": 63,
     "metadata": {},
     "output_type": "execute_result"
    },
    {
     "data": {
      "image/png": "[encoded data removed]",
      "text/plain": [
       "<Figure size 432x288 with 2 Axes>"
      ]
     },
     "metadata": {
      "needs_background": "light"
     },
     "output_type": "display_data"
    }
   ],
   "source": [
    "sns.heatmap(df_train.phik_matrix())"
   ]
  },
  {
   "cell_type": "code",
   "execution_count": 64,
   "id": "7f8a101f-9740-4965-8a4d-56e0103331be",
   "metadata": {},
   "outputs": [
    {
     "name": "stdout",
     "output_type": "stream",
     "text": [
      "interval columns not set, guessing: ['popularity', 'acousticness', 'danceability', 'duration_ms', 'energy', 'instrumentalness', 'liveness', 'loudness', 'speechiness', 'valence']\n"
     ]
    }
   ],
   "source": [
    "phik_overview = df_train.phik_matrix() # type: ignore"
   ]
  },
  {
   "cell_type": "code",
   "execution_count": 65,
   "id": "86e4bbfb-1692-4607-96af-09191335c90d",
   "metadata": {},
   "outputs": [
    {
     "data": {
      "image/png": "[encoded data removed]",
      "text/plain": [
       "<Figure size 1152x576 with 2 Axes>"
      ]
     },
     "metadata": {
      "needs_background": "light"
     },
     "output_type": "display_data"
    }
   ],
   "source": [
    "plot_correlation_matrix(phik_overview.values, \n",
    "                        x_labels=phik_overview.columns, \n",
    "                        y_labels=phik_overview.index, \n",
    "                        vmin=0, vmax=1, color_map=\"Greens\", \n",
    "                        title=r\"correlation $\\phi_K$\", \n",
    "                        fontsize_factor=1.5, \n",
    "                        figsize=(16, 8))\n",
    "plt.tight_layout()"
   ]
  },
  {
   "cell_type": "markdown",
   "id": "94b629bf-ad73-4fc8-b4f0-1ab754599397",
   "metadata": {},
   "source": [
    "Заметна высокая корреляция между показателями: music_genre - popularity music_genre - acousticness music_genre - dancebility music_genre - energy music_genre - instrumentalness music_genre - loudness loudness - tempo loudness - energy energy - acousticness"
   ]
  },
  {
   "cell_type": "markdown",
   "id": "073ffd61-4d9e-40fa-a2b9-47f4e35d6fe5",
   "metadata": {},
   "source": [
    "В данном блоке были протестированы следующие действия:\n",
    "удалены дубликаты, проведена проверка на неявные дубликаты,\n",
    "duration ниже 0 заменен на медианные значения,\n",
    "определена корреляция признаков."
   ]
  },
  {
   "cell_type": "markdown",
   "id": "e2316520-b89a-42c3-9cc2-9db5145f2bf8",
   "metadata": {},
   "source": [
    "Есть пропуски в данных с ними будем работать внутри pipeline."
   ]
  },
  {
   "cell_type": "markdown",
   "id": "826d1f82-8c0d-4634-9f03-418f7d98867e",
   "metadata": {},
   "source": [
    "## Подготовка данных к обучению моделей"
   ]
  },
  {
   "cell_type": "markdown",
   "id": "2b7e6887-b12a-412a-b32f-288c4a534f5e",
   "metadata": {},
   "source": [
    "Pipeline."
   ]
  },
  {
   "cell_type": "code",
   "execution_count": 72,
   "id": "3c34ddcf-3568-4ee9-a915-2d2f03e9e7a7",
   "metadata": {},
   "outputs": [],
   "source": [
    "X = df_train.drop('music_genre', axis=1)\n",
    "y = df_train['music_genre']\n",
    "X_train, X_test, y_train, y_test = train_test_split(X, y, test_size=0.2, stratify=y)\n",
    "cat_cols = X.select_dtypes(exclude='number').columns.tolist()\n",
    "num_cols = X.select_dtypes(include='number').columns.tolist()\n",
    "\n",
    "num_pipeline = Pipeline(steps=[\n",
    "    ('impute', IterativeImputer(max_iter=10, random_state=42)),\n",
    "    ('scale', RobustScaler()),\n",
    "    ('drop_correlated_features', DropCorrelatedFeatures(threshold=0.8)),\n",
    "    ('polynomial_features', PolynomialFeatures(degree=2)),\n",
    "    ('drop_constant_features', DropConstantFeatures(tol=0.998))\n",
    "])\n",
    "\n",
    "cat_pipeline = Pipeline(steps=[\n",
    "    ('impute', SimpleImputer(strategy='most_frequent')),\n",
    "    ('encode', OrdinalEncoder(handle_unknown='use_encoded_value', unknown_value=-1))\n",
    "])\n",
    "\n",
    "col_trans = ColumnTransformer(transformers=[\n",
    "    ('num_pipeline', num_pipeline, num_cols),\n",
    "    ('cat_pipeline', cat_pipeline, cat_cols)\n",
    "], remainder='passthrough')"
   ]
  },
  {
   "cell_type": "markdown",
   "id": "16062eed-9eba-4efe-92ef-a204255152bc",
   "metadata": {},
   "source": [
    "Пайплайн для числовых данных (num_pipeline) включает следующие этапы:\n",
    "\n",
    "Итеративное заполнение пропущенных значений (IterativeImputer) для числовых признаков. Этот метод использует информацию из других признаков для заполнения пропущенных значений.\n",
    "RobustScaler для масштабирования числовых признаков, чтобы сделать их более устойчивыми к выбросам.\n",
    "DropCorrelatedFeatures для удаления высококоррелированных признаков. Этот шаг может улучшить производительность модели, так как высокая корреляция между признаками может привести к мультиколлинеарности.\n",
    "PolynomialFeatures для добавления полиномиальных признаков второй степени. Это может помочь захватить нелинейные зависимости между признаками.\n",
    "DropConstantFeatures для удаления признаков с почти постоянными значениями. Эти признаки не несут полезной информации и могут замедлить обучение модели.\n",
    "Пайплайн для категориальных данных (cat_pipeline) включает следующие этапы:\n",
    "\n",
    "Импутация пропущенных значений (SimpleImputer) для категориальных признаков. В данном случае, для замены пропущенных значений используется наиболее часто встречающееся значение в каждом признаке.\n",
    "OrdinalEncoder для кодирования категориальных признаков целыми числами. Этот метод преобразует уникальные значения категориальных признаков в числовые значения, сохраняя порядок между значениями."
   ]
  },
  {
   "cell_type": "markdown",
   "id": "c6342d42-ab07-4ff1-bc42-8d14a7ebab76",
   "metadata": {},
   "source": [
    "PipeLine prediction"
   ]
  },
  {
   "cell_type": "markdown",
   "id": "dd9fa8af-53b7-42f8-9956-57e5fd9e3713",
   "metadata": {},
   "source": [
    "Catboost"
   ]
  },
  {
   "cell_type": "code",
   "execution_count": 101,
   "id": "e6928add-471a-4770-9f96-6b2a2c1f623f",
   "metadata": {},
   "outputs": [
    {
     "name": "stderr",
     "output_type": "stream",
     "text": [
      "Custom logger is already specified. Specify more than one logger at same time is not thread safe."
     ]
    },
    {
     "name": "stdout",
     "output_type": "stream",
     "text": [
      "0:\tlearn: 2.1607284\ttotal: 87.7ms\tremaining: 43.8s\n",
      "10:\tlearn: 1.6310559\ttotal: 920ms\tremaining: 40.9s\n",
      "20:\tlearn: 1.4480973\ttotal: 1.88s\tremaining: 42.9s\n",
      "30:\tlearn: 1.3586017\ttotal: 2.8s\tremaining: 42.3s\n",
      "40:\tlearn: 1.2986642\ttotal: 3.74s\tremaining: 41.9s\n",
      "50:\tlearn: 1.2595623\ttotal: 4.59s\tremaining: 40.5s\n",
      "60:\tlearn: 1.2334195\ttotal: 5.52s\tremaining: 39.8s\n",
      "70:\tlearn: 1.2119983\ttotal: 6.46s\tremaining: 39s\n",
      "80:\tlearn: 1.1955871\ttotal: 7.36s\tremaining: 38.1s\n",
      "90:\tlearn: 1.1817555\ttotal: 8.28s\tremaining: 37.2s\n",
      "100:\tlearn: 1.1697823\ttotal: 9.2s\tremaining: 36.3s\n",
      "110:\tlearn: 1.1578776\ttotal: 10s\tremaining: 35.2s\n",
      "120:\tlearn: 1.1464932\ttotal: 10.9s\tremaining: 34.3s\n",
      "130:\tlearn: 1.1372941\ttotal: 11.7s\tremaining: 33s\n",
      "140:\tlearn: 1.1290482\ttotal: 12.3s\tremaining: 31.4s\n",
      "150:\tlearn: 1.1204167\ttotal: 13.1s\tremaining: 30.4s\n",
      "160:\tlearn: 1.1127997\ttotal: 14.1s\tremaining: 29.7s\n",
      "170:\tlearn: 1.1060921\ttotal: 15s\tremaining: 28.9s\n",
      "180:\tlearn: 1.0996763\ttotal: 16s\tremaining: 28.2s\n",
      "190:\tlearn: 1.0940008\ttotal: 17s\tremaining: 27.5s\n",
      "200:\tlearn: 1.0879207\ttotal: 17.9s\tremaining: 26.7s\n",
      "210:\tlearn: 1.0831268\ttotal: 18.9s\tremaining: 25.9s\n",
      "220:\tlearn: 1.0779056\ttotal: 19.8s\tremaining: 25s\n",
      "230:\tlearn: 1.0730059\ttotal: 20.7s\tremaining: 24.1s\n",
      "240:\tlearn: 1.0683141\ttotal: 21.6s\tremaining: 23.2s\n",
      "250:\tlearn: 1.0642714\ttotal: 22.4s\tremaining: 22.2s\n",
      "260:\tlearn: 1.0600209\ttotal: 23.3s\tremaining: 21.3s\n",
      "270:\tlearn: 1.0555498\ttotal: 24.2s\tremaining: 20.4s\n",
      "280:\tlearn: 1.0514415\ttotal: 25s\tremaining: 19.5s\n",
      "290:\tlearn: 1.0470925\ttotal: 25.9s\tremaining: 18.6s\n",
      "300:\tlearn: 1.0430385\ttotal: 26.8s\tremaining: 17.7s\n",
      "310:\tlearn: 1.0392238\ttotal: 27.8s\tremaining: 16.9s\n",
      "320:\tlearn: 1.0354181\ttotal: 28.6s\tremaining: 16s\n",
      "330:\tlearn: 1.0317602\ttotal: 29.5s\tremaining: 15s\n",
      "340:\tlearn: 1.0283368\ttotal: 30.3s\tremaining: 14.1s\n",
      "350:\tlearn: 1.0249778\ttotal: 31.2s\tremaining: 13.2s\n",
      "360:\tlearn: 1.0215554\ttotal: 32s\tremaining: 12.3s\n",
      "370:\tlearn: 1.0179894\ttotal: 32.9s\tremaining: 11.4s\n",
      "380:\tlearn: 1.0146275\ttotal: 33.7s\tremaining: 10.5s\n",
      "390:\tlearn: 1.0114234\ttotal: 34.5s\tremaining: 9.63s\n",
      "400:\tlearn: 1.0081079\ttotal: 35.4s\tremaining: 8.75s\n",
      "410:\tlearn: 1.0054616\ttotal: 36.3s\tremaining: 7.87s\n",
      "420:\tlearn: 1.0022943\ttotal: 37.2s\tremaining: 6.98s\n",
      "430:\tlearn: 0.9991890\ttotal: 38.1s\tremaining: 6.1s\n",
      "440:\tlearn: 0.9962113\ttotal: 39s\tremaining: 5.21s\n",
      "450:\tlearn: 0.9932683\ttotal: 39.8s\tremaining: 4.33s\n",
      "460:\tlearn: 0.9900541\ttotal: 40.7s\tremaining: 3.45s\n",
      "470:\tlearn: 0.9872623\ttotal: 41.7s\tremaining: 2.56s\n",
      "480:\tlearn: 0.9845693\ttotal: 42.5s\tremaining: 1.68s\n",
      "490:\tlearn: 0.9815212\ttotal: 43.4s\tremaining: 795ms\n",
      "499:\tlearn: 0.9789500\ttotal: 44.2s\tremaining: 0us\n",
      "f1_micro = 0.57\n"
     ]
    }
   ],
   "source": [
    "cbc = CatBoostClassifier(\n",
    "    thread_count=4,\n",
    "    random_strength=1,\n",
    "    max_ctr_complexity=1,\n",
    "    learning_rate=0.1,\n",
    "    l2_leaf_reg=1,\n",
    "    iterations=500,\n",
    "    early_stopping_rounds=10,\n",
    "    depth=4,\n",
    "    border_count=10,\n",
    "    verbose= 10,\n",
    "    bootstrap_type='Bayesian'\n",
    ")\n",
    "\n",
    "cbc_pipeline = Pipeline(steps=[\n",
    "    ('col_trans', col_trans),\n",
    "    ('model', cbc)\n",
    "])\n",
    "\n",
    "cbc_pipeline.fit(X_train, y_train)\n",
    "y_pred = cbc_pipeline.predict(X_test)\n",
    "\n",
    "print('f1_micro =', f1_score(y_test, y_pred, average='micro').round(2))\n",
    "\n",
    "set_config(display='diagram')"
   ]
  },
  {
   "cell_type": "code",
   "execution_count": 93,
   "id": "9d5fc736-feda-46cf-88be-b3d4f66754ad",
   "metadata": {},
   "outputs": [],
   "source": [
    "feature_importance = cbc_pipeline.steps[1][1].get_feature_importance()[:20]"
   ]
  },
  {
   "cell_type": "code",
   "execution_count": 96,
   "id": "61a25279-faca-4f54-a435-5117d27c76e1",
   "metadata": {},
   "outputs": [],
   "source": [
    "column_transformer = make_column_transformer((StandardScaler(),  make_column_selector(dtype_include='number')),\n",
    "                                             (OrdinalEncoder(),  make_column_selector(dtype_include='object')), \n",
    "                                              remainder='passthrough') "
   ]
  },
  {
   "cell_type": "code",
   "execution_count": 97,
   "id": "8ba0735a-1588-40ae-8e05-71c3f48cac88",
   "metadata": {},
   "outputs": [
    {
     "ename": "NotFittedError",
     "evalue": "This ColumnTransformer instance is not fitted yet. Call 'fit' with appropriate arguments before using this estimator.",
     "output_type": "error",
     "traceback": [
      "\u001b[1;31m---------------------------------------------------------------------------\u001b[0m",
      "\u001b[1;31mNotFittedError\u001b[0m                            Traceback (most recent call last)",
      "\u001b[1;32m~\\AppData\\Local\\Temp/ipykernel_18336/2374566817.py\u001b[0m in \u001b[0;36m<module>\u001b[1;34m\u001b[0m\n\u001b[1;32m----> 1\u001b[1;33m \u001b[0mfeature_names\u001b[0m \u001b[1;33m=\u001b[0m \u001b[0mcolumn_transformer\u001b[0m\u001b[1;33m.\u001b[0m\u001b[0mget_feature_names_out\u001b[0m\u001b[1;33m(\u001b[0m\u001b[1;33m)\u001b[0m\u001b[1;33m[\u001b[0m\u001b[1;33m:\u001b[0m\u001b[1;36m20\u001b[0m\u001b[1;33m]\u001b[0m\u001b[1;33m\u001b[0m\u001b[1;33m\u001b[0m\u001b[0m\n\u001b[0m\u001b[0;32m      2\u001b[0m \u001b[0mfeature_names\u001b[0m\u001b[1;33m\u001b[0m\u001b[1;33m\u001b[0m\u001b[0m\n",
      "\u001b[1;32mc:\\users\\sniku\\appdata\\local\\programs\\python\\python39\\lib\\site-packages\\sklearn\\compose\\_column_transformer.py\u001b[0m in \u001b[0;36mget_feature_names_out\u001b[1;34m(self, input_features)\u001b[0m\n\u001b[0;32m    526\u001b[0m             \u001b[0mTransformed\u001b[0m \u001b[0mfeature\u001b[0m \u001b[0mnames\u001b[0m\u001b[1;33m.\u001b[0m\u001b[1;33m\u001b[0m\u001b[1;33m\u001b[0m\u001b[0m\n\u001b[0;32m    527\u001b[0m         \"\"\"\n\u001b[1;32m--> 528\u001b[1;33m         \u001b[0mcheck_is_fitted\u001b[0m\u001b[1;33m(\u001b[0m\u001b[0mself\u001b[0m\u001b[1;33m)\u001b[0m\u001b[1;33m\u001b[0m\u001b[1;33m\u001b[0m\u001b[0m\n\u001b[0m\u001b[0;32m    529\u001b[0m         \u001b[0minput_features\u001b[0m \u001b[1;33m=\u001b[0m \u001b[0m_check_feature_names_in\u001b[0m\u001b[1;33m(\u001b[0m\u001b[0mself\u001b[0m\u001b[1;33m,\u001b[0m \u001b[0minput_features\u001b[0m\u001b[1;33m)\u001b[0m\u001b[1;33m\u001b[0m\u001b[1;33m\u001b[0m\u001b[0m\n\u001b[0;32m    530\u001b[0m \u001b[1;33m\u001b[0m\u001b[0m\n",
      "\u001b[1;32mc:\\users\\sniku\\appdata\\local\\programs\\python\\python39\\lib\\site-packages\\sklearn\\utils\\validation.py\u001b[0m in \u001b[0;36mcheck_is_fitted\u001b[1;34m(estimator, attributes, msg, all_or_any)\u001b[0m\n\u001b[0;32m   1459\u001b[0m \u001b[1;33m\u001b[0m\u001b[0m\n\u001b[0;32m   1460\u001b[0m     \u001b[1;32mif\u001b[0m \u001b[1;32mnot\u001b[0m \u001b[0m_is_fitted\u001b[0m\u001b[1;33m(\u001b[0m\u001b[0mestimator\u001b[0m\u001b[1;33m,\u001b[0m \u001b[0mattributes\u001b[0m\u001b[1;33m,\u001b[0m \u001b[0mall_or_any\u001b[0m\u001b[1;33m)\u001b[0m\u001b[1;33m:\u001b[0m\u001b[1;33m\u001b[0m\u001b[1;33m\u001b[0m\u001b[0m\n\u001b[1;32m-> 1461\u001b[1;33m         \u001b[1;32mraise\u001b[0m \u001b[0mNotFittedError\u001b[0m\u001b[1;33m(\u001b[0m\u001b[0mmsg\u001b[0m \u001b[1;33m%\u001b[0m \u001b[1;33m{\u001b[0m\u001b[1;34m\"name\"\u001b[0m\u001b[1;33m:\u001b[0m \u001b[0mtype\u001b[0m\u001b[1;33m(\u001b[0m\u001b[0mestimator\u001b[0m\u001b[1;33m)\u001b[0m\u001b[1;33m.\u001b[0m\u001b[0m__name__\u001b[0m\u001b[1;33m}\u001b[0m\u001b[1;33m)\u001b[0m\u001b[1;33m\u001b[0m\u001b[1;33m\u001b[0m\u001b[0m\n\u001b[0m\u001b[0;32m   1462\u001b[0m \u001b[1;33m\u001b[0m\u001b[0m\n\u001b[0;32m   1463\u001b[0m \u001b[1;33m\u001b[0m\u001b[0m\n",
      "\u001b[1;31mNotFittedError\u001b[0m: This ColumnTransformer instance is not fitted yet. Call 'fit' with appropriate arguments before using this estimator."
     ]
    }
   ],
   "source": [
    "feature_names = column_transformer.get_feature_names_out()[:20]\n",
    "feature_names"
   ]
  },
  {
   "cell_type": "code",
   "execution_count": 99,
   "id": "da86e7a9-dcd3-4851-89f2-e9e95b34633e",
   "metadata": {},
   "outputs": [
    {
     "data": {
      "image/png": "[encoded data removed]",
      "text/plain": [
       "<Figure size 432x288 with 1 Axes>"
      ]
     },
     "metadata": {
      "needs_background": "light"
     },
     "output_type": "display_data"
    }
   ],
   "source": [
    "_ = pd.Series(feature_importance).sort_values().plot(kind='barh')"
   ]
  },
  {
   "cell_type": "markdown",
   "id": "b1bd8da2-5969-4bd1-acd0-cf4d128ad35f",
   "metadata": {},
   "source": [
    "Logistic regression"
   ]
  },
  {
   "cell_type": "code",
   "execution_count": 74,
   "id": "948afb9f-0db1-4147-abcd-8326bd7c0759",
   "metadata": {},
   "outputs": [
    {
     "name": "stdout",
     "output_type": "stream",
     "text": [
      "f1_micro = 0.52\n"
     ]
    }
   ],
   "source": [
    "lr = LogisticRegression(tol=0.01, solver='liblinear', penalty='l1', C=0.1)\n",
    "lr_pipeline = Pipeline(steps=[\n",
    "    ('col_trans', col_trans),\n",
    "    ('model', lr)\n",
    "])\n",
    "\n",
    "lr_pipeline.fit(X_train, y_train)\n",
    "y_pred = lr_pipeline.predict(X_test)\n",
    "\n",
    "print('f1_micro =', f1_score(y_test, y_pred, average='micro').round(2))"
   ]
  },
  {
   "cell_type": "markdown",
   "id": "f9a9db2e-3700-42bf-8721-47ffa5268c69",
   "metadata": {},
   "source": [
    "Random forest"
   ]
  },
  {
   "cell_type": "code",
   "execution_count": 75,
   "id": "fffb014e-980d-4485-bba4-0c0318c95474",
   "metadata": {},
   "outputs": [
    {
     "name": "stdout",
     "output_type": "stream",
     "text": [
      "f1_micro = 0.54\n"
     ]
    }
   ],
   "source": [
    "rfc = RandomForestClassifier(n_estimators=300, max_depth=10)\n",
    "\n",
    "rfc_pipeline = Pipeline(steps=[\n",
    "    ('pipeline', col_trans),\n",
    "    ('model', rfc)\n",
    "])\n",
    "\n",
    "rfc_pipeline.fit(X_train, y_train)\n",
    "y_pred = rfc_pipeline.predict(X_test)\n",
    "\n",
    "print('f1_micro =', f1_score(y_test, y_pred, average='micro').round(2))"
   ]
  },
  {
   "cell_type": "markdown",
   "id": "38062052-b6df-48c3-ab38-318ba96d327a",
   "metadata": {},
   "source": [
    "MLPC"
   ]
  },
  {
   "cell_type": "code",
   "execution_count": 76,
   "id": "fc22a60a-e87e-4fed-8ca1-b0d80dce0004",
   "metadata": {},
   "outputs": [
    {
     "name": "stdout",
     "output_type": "stream",
     "text": [
      "f1_micro = 0.37\n"
     ]
    }
   ],
   "source": [
    "mlpc = MLPClassifier(hidden_layer_sizes=(100,),\n",
    "                    alpha=0.01,\n",
    "                    activation='logistic')\n",
    "\n",
    "mlpc_pipeline = Pipeline(steps=[\n",
    "    ('pipeline', col_trans),\n",
    "    ('model', mlpc)\n",
    "])\n",
    "\n",
    "mlpc_pipeline.fit(X_train, y_train)\n",
    "y_pred = mlpc_pipeline.predict(X_test)\n",
    "\n",
    "print('f1_micro =', f1_score(y_test, y_pred, average='micro').round(2))"
   ]
  },
  {
   "cell_type": "markdown",
   "id": "9dcc08b5-1056-4563-9414-a7d24d6677e6",
   "metadata": {},
   "source": [
    "Показатели F1 Micro для моделей с лучшими параметрами.\n",
    "\n",
    "CatBoostClassifier: 0.56\n",
    "\n",
    "LogisticRegression: 0.52\n",
    "\n",
    "RandomForestClassifier: 0.54\n",
    "\n",
    "MLPClassifier: 0.37"
   ]
  },
  {
   "cell_type": "markdown",
   "id": "bd1758de-9e15-46f7-92bb-038be546d408",
   "metadata": {},
   "source": [
    "## Финальное тестирование"
   ]
  },
  {
   "cell_type": "code",
   "execution_count": 86,
   "id": "ee1d053f-b375-4392-9a75-2cbbfd609536",
   "metadata": {},
   "outputs": [],
   "source": [
    "df_tes1 = df_test"
   ]
  },
  {
   "cell_type": "code",
   "execution_count": 87,
   "id": "804cf479-bd63-4566-88f9-bbb950d1576f",
   "metadata": {},
   "outputs": [],
   "source": [
    "df_test = df_test.drop(['instance_id', 'track_name', 'obtained_date'], axis=1)"
   ]
  },
  {
   "cell_type": "code",
   "execution_count": 88,
   "id": "ef358ed2-8bcd-4740-be15-bb8b754b95c1",
   "metadata": {},
   "outputs": [],
   "source": [
    "f = df_train.drop('music_genre', axis=1)\n",
    "t = df_train['music_genre']"
   ]
  },
  {
   "cell_type": "code",
   "execution_count": 90,
   "id": "e61352cb-66f5-4ac3-86a7-1390364b9154",
   "metadata": {},
   "outputs": [
    {
     "name": "stdout",
     "output_type": "stream",
     "text": [
      "0:\tlearn: 2.1581574\ttotal: 130ms\tremaining: 1m 4s\n",
      "10:\tlearn: 1.6235783\ttotal: 1.35s\tremaining: 1m\n",
      "20:\tlearn: 1.4418422\ttotal: 2.53s\tremaining: 57.7s\n",
      "30:\tlearn: 1.3519209\ttotal: 3.75s\tremaining: 56.7s\n",
      "40:\tlearn: 1.2949669\ttotal: 4.92s\tremaining: 55.1s\n",
      "50:\tlearn: 1.2546711\ttotal: 6.08s\tremaining: 53.5s\n",
      "60:\tlearn: 1.2298852\ttotal: 7.2s\tremaining: 51.8s\n",
      "70:\tlearn: 1.2097045\ttotal: 8.31s\tremaining: 50.2s\n",
      "80:\tlearn: 1.1935694\ttotal: 9.48s\tremaining: 49s\n",
      "90:\tlearn: 1.1798721\ttotal: 10.6s\tremaining: 47.8s\n",
      "100:\tlearn: 1.1679257\ttotal: 11.8s\tremaining: 46.7s\n",
      "110:\tlearn: 1.1573392\ttotal: 12.9s\tremaining: 45.2s\n",
      "120:\tlearn: 1.1474795\ttotal: 14s\tremaining: 43.8s\n",
      "130:\tlearn: 1.1399103\ttotal: 15s\tremaining: 42.4s\n",
      "140:\tlearn: 1.1320653\ttotal: 16.1s\tremaining: 41s\n",
      "150:\tlearn: 1.1239953\ttotal: 17.2s\tremaining: 39.8s\n",
      "160:\tlearn: 1.1174974\ttotal: 18.3s\tremaining: 38.6s\n",
      "170:\tlearn: 1.1117408\ttotal: 19.3s\tremaining: 37.2s\n",
      "180:\tlearn: 1.1061240\ttotal: 20.4s\tremaining: 36s\n",
      "190:\tlearn: 1.1006979\ttotal: 21.5s\tremaining: 34.8s\n",
      "200:\tlearn: 1.0959621\ttotal: 22.6s\tremaining: 33.6s\n",
      "210:\tlearn: 1.0914833\ttotal: 23.6s\tremaining: 32.3s\n",
      "220:\tlearn: 1.0863728\ttotal: 24.8s\tremaining: 31.3s\n",
      "230:\tlearn: 1.0819844\ttotal: 25.9s\tremaining: 30.1s\n",
      "240:\tlearn: 1.0777777\ttotal: 26.9s\tremaining: 28.9s\n",
      "250:\tlearn: 1.0739370\ttotal: 27.9s\tremaining: 27.7s\n",
      "260:\tlearn: 1.0700761\ttotal: 29s\tremaining: 26.6s\n",
      "270:\tlearn: 1.0661435\ttotal: 30.1s\tremaining: 25.4s\n",
      "280:\tlearn: 1.0619898\ttotal: 31.2s\tremaining: 24.3s\n",
      "290:\tlearn: 1.0583554\ttotal: 32.3s\tremaining: 23.2s\n",
      "300:\tlearn: 1.0548650\ttotal: 33.4s\tremaining: 22.1s\n",
      "310:\tlearn: 1.0515603\ttotal: 34.5s\tremaining: 21s\n",
      "320:\tlearn: 1.0483159\ttotal: 35.6s\tremaining: 19.8s\n",
      "330:\tlearn: 1.0450554\ttotal: 36.7s\tremaining: 18.7s\n",
      "340:\tlearn: 1.0418069\ttotal: 37.9s\tremaining: 17.7s\n",
      "350:\tlearn: 1.0388808\ttotal: 39s\tremaining: 16.6s\n",
      "360:\tlearn: 1.0357670\ttotal: 40.2s\tremaining: 15.5s\n",
      "370:\tlearn: 1.0329422\ttotal: 41.3s\tremaining: 14.4s\n",
      "380:\tlearn: 1.0303946\ttotal: 42.4s\tremaining: 13.2s\n",
      "390:\tlearn: 1.0273748\ttotal: 43.6s\tremaining: 12.1s\n",
      "400:\tlearn: 1.0243348\ttotal: 44.8s\tremaining: 11.1s\n",
      "410:\tlearn: 1.0216633\ttotal: 45.9s\tremaining: 9.94s\n",
      "420:\tlearn: 1.0187670\ttotal: 47s\tremaining: 8.81s\n",
      "430:\tlearn: 1.0160125\ttotal: 48.1s\tremaining: 7.7s\n",
      "440:\tlearn: 1.0134290\ttotal: 49.2s\tremaining: 6.58s\n",
      "450:\tlearn: 1.0107668\ttotal: 50.3s\tremaining: 5.46s\n",
      "460:\tlearn: 1.0080856\ttotal: 51.4s\tremaining: 4.35s\n",
      "470:\tlearn: 1.0053219\ttotal: 52.6s\tremaining: 3.24s\n",
      "480:\tlearn: 1.0025589\ttotal: 53.8s\tremaining: 2.12s\n",
      "490:\tlearn: 0.9998313\ttotal: 54.6s\tremaining: 1s\n",
      "499:\tlearn: 0.9977494\ttotal: 55.5s\tremaining: 0us\n"
     ]
    }
   ],
   "source": [
    "cbc_pipeline.fit(f, t)\n",
    "y_pred = cbc_pipeline.predict(df_test)\n",
    "\n",
    "y_pred = y_pred.ravel().tolist()\n",
    "# Создание столбца с предсказаниями\n",
    "y_pred_series = pd.Series(y_pred, name='music_genre')\n",
    "\n",
    "# Создание столбца с instance_id\n",
    "instance_id_column = df_tes1['instance_id']\n",
    "\n",
    "# Создание DataFrame из столбцов\n",
    "submit = pd.concat([instance_id_column, y_pred_series], axis=1)\n",
    "\n",
    "# Сохранение DataFrame с предсказаниями в файл\n",
    "submit.to_csv('cbc_pipeline.csv', index=False)"
   ]
  },
  {
   "cell_type": "markdown",
   "id": "d31f26b3-d3d1-418f-b5c7-343c7f22b67f",
   "metadata": {},
   "source": [
    "Выводы:\n",
    "При проведении исследования была проведена загрузка данных.\n",
    "Проведена предобработка данных, проведен поиск явных и неявных дубликатов, аномальные значения в столбце duration_ms заменены на медиану. \n",
    "Рассмотрена корреляция между признаками с помощью библиотеки phik.\n",
    "Проведено разделение данных на признаки и целевой таргет.\n",
    "В целевом таргете не выявлено дисбаланса.\n",
    "Данные были разделены и собраны в Pipeline энкодеры для категориальных и численных значений. По результатам проверки 4 моделей выбрали CatBoost как основную модель, так как обеспечивает максимальный показатель оценки f1.\n",
    "\n",
    "На train выборке f1_micro  оказался равен 0.57.\n",
    "\n",
    "Проведено моделирование на тестовых данных, результаты полученных жанров объеденены в отдельный файл для загрузки на Kaggle."
   ]
  }
 ],
 "metadata": {
  "kernelspec": {
   "display_name": "Python 3 (ipykernel)",
   "language": "python",
   "name": "python3"
  },
  "language_info": {
   "codemirror_mode": {
    "name": "ipython",
    "version": 3
   },
   "file_extension": ".py",
   "mimetype": "text/x-python",
   "name": "python",
   "nbconvert_exporter": "python",
   "pygments_lexer": "ipython3",
   "version": "3.8.18"
  }
 },
 "nbformat": 4,
 "nbformat_minor": 5
}
