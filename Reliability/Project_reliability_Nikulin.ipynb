{
 "cells": [
  {
   "cell_type": "markdown",
   "id": "317136a7",
   "metadata": {
    "deletable": false,
    "editable": false,
    "id": "c81daeeb"
   },
   "source": [
    "# Исследование надежности заемщиков\n"
   ]
  },
  {
   "cell_type": "markdown",
   "id": "441f8731",
   "metadata": {
    "deletable": false,
    "editable": false,
    "id": "827c20bf"
   },
   "source": [
    "Исследование надёжности заёмщиков\n",
    "Заказчик — кредитный отдел банка.\n",
    "\n",
    "Нужно разобраться, влияет ли семейное положение и количество детей клиента на факт погашения кредита в срок.\n",
    "\n",
    "Входные данные от банка — статистика о платёжеспособности клиентов.\n",
    "\n",
    "Результаты исследования будут учтены при построении модели кредитного скоринга — специальной системы, которая оценивает способность потенциального заёмщика вернуть кредит банку.\n",
    "\n"
   ]
  },
  {
   "cell_type": "markdown",
   "id": "d1490543",
   "metadata": {
    "deletable": false,
    "editable": false,
    "id": "744d7639"
   },
   "source": [
    "## Откройте таблицу и изучите общую информацию о данных"
   ]
  },
  {
   "cell_type": "code",
   "execution_count": 1,
   "id": "599d4132",
   "metadata": {
    "deletable": false,
    "id": "7bcf75c9"
   },
   "outputs": [],
   "source": [
    "import pandas as pd\n",
    "\n",
    "try:\n",
    "    data = pd.read_csv('/datasets/data.csv')\n",
    "except:\n",
    "    data = pd.read_csv('https://code.s3.yandex.net/datasets/data.csv')"
   ]
  },
  {
   "cell_type": "code",
   "execution_count": 2,
   "id": "9d5af237",
   "metadata": {
    "deletable": false,
    "id": "2a7cab99",
    "outputId": "1a8f3ef2-d323-4ec2-ddf7-89670b5944c4"
   },
   "outputs": [
    {
     "data": {
      "text/html": [
       "<div>\n",
       "<style scoped>\n",
       "    .dataframe tbody tr th:only-of-type {\n",
       "        vertical-align: middle;\n",
       "    }\n",
       "\n",
       "    .dataframe tbody tr th {\n",
       "        vertical-align: top;\n",
       "    }\n",
       "\n",
       "    .dataframe thead th {\n",
       "        text-align: right;\n",
       "    }\n",
       "</style>\n",
       "<table border=\"1\" class=\"dataframe\">\n",
       "  <thead>\n",
       "    <tr style=\"text-align: right;\">\n",
       "      <th></th>\n",
       "      <th>children</th>\n",
       "      <th>days_employed</th>\n",
       "      <th>dob_years</th>\n",
       "      <th>education</th>\n",
       "      <th>education_id</th>\n",
       "      <th>family_status</th>\n",
       "      <th>family_status_id</th>\n",
       "      <th>gender</th>\n",
       "      <th>income_type</th>\n",
       "      <th>debt</th>\n",
       "      <th>total_income</th>\n",
       "      <th>purpose</th>\n",
       "    </tr>\n",
       "  </thead>\n",
       "  <tbody>\n",
       "    <tr>\n",
       "      <th>0</th>\n",
       "      <td>1</td>\n",
       "      <td>-8437.673028</td>\n",
       "      <td>42</td>\n",
       "      <td>высшее</td>\n",
       "      <td>0</td>\n",
       "      <td>женат / замужем</td>\n",
       "      <td>0</td>\n",
       "      <td>F</td>\n",
       "      <td>сотрудник</td>\n",
       "      <td>0</td>\n",
       "      <td>253875.639453</td>\n",
       "      <td>покупка жилья</td>\n",
       "    </tr>\n",
       "    <tr>\n",
       "      <th>1</th>\n",
       "      <td>1</td>\n",
       "      <td>-4024.803754</td>\n",
       "      <td>36</td>\n",
       "      <td>среднее</td>\n",
       "      <td>1</td>\n",
       "      <td>женат / замужем</td>\n",
       "      <td>0</td>\n",
       "      <td>F</td>\n",
       "      <td>сотрудник</td>\n",
       "      <td>0</td>\n",
       "      <td>112080.014102</td>\n",
       "      <td>приобретение автомобиля</td>\n",
       "    </tr>\n",
       "    <tr>\n",
       "      <th>2</th>\n",
       "      <td>0</td>\n",
       "      <td>-5623.422610</td>\n",
       "      <td>33</td>\n",
       "      <td>Среднее</td>\n",
       "      <td>1</td>\n",
       "      <td>женат / замужем</td>\n",
       "      <td>0</td>\n",
       "      <td>M</td>\n",
       "      <td>сотрудник</td>\n",
       "      <td>0</td>\n",
       "      <td>145885.952297</td>\n",
       "      <td>покупка жилья</td>\n",
       "    </tr>\n",
       "    <tr>\n",
       "      <th>3</th>\n",
       "      <td>3</td>\n",
       "      <td>-4124.747207</td>\n",
       "      <td>32</td>\n",
       "      <td>среднее</td>\n",
       "      <td>1</td>\n",
       "      <td>женат / замужем</td>\n",
       "      <td>0</td>\n",
       "      <td>M</td>\n",
       "      <td>сотрудник</td>\n",
       "      <td>0</td>\n",
       "      <td>267628.550329</td>\n",
       "      <td>дополнительное образование</td>\n",
       "    </tr>\n",
       "    <tr>\n",
       "      <th>4</th>\n",
       "      <td>0</td>\n",
       "      <td>340266.072047</td>\n",
       "      <td>53</td>\n",
       "      <td>среднее</td>\n",
       "      <td>1</td>\n",
       "      <td>гражданский брак</td>\n",
       "      <td>1</td>\n",
       "      <td>F</td>\n",
       "      <td>пенсионер</td>\n",
       "      <td>0</td>\n",
       "      <td>158616.077870</td>\n",
       "      <td>сыграть свадьбу</td>\n",
       "    </tr>\n",
       "    <tr>\n",
       "      <th>5</th>\n",
       "      <td>0</td>\n",
       "      <td>-926.185831</td>\n",
       "      <td>27</td>\n",
       "      <td>высшее</td>\n",
       "      <td>0</td>\n",
       "      <td>гражданский брак</td>\n",
       "      <td>1</td>\n",
       "      <td>M</td>\n",
       "      <td>компаньон</td>\n",
       "      <td>0</td>\n",
       "      <td>255763.565419</td>\n",
       "      <td>покупка жилья</td>\n",
       "    </tr>\n",
       "    <tr>\n",
       "      <th>6</th>\n",
       "      <td>0</td>\n",
       "      <td>-2879.202052</td>\n",
       "      <td>43</td>\n",
       "      <td>высшее</td>\n",
       "      <td>0</td>\n",
       "      <td>женат / замужем</td>\n",
       "      <td>0</td>\n",
       "      <td>F</td>\n",
       "      <td>компаньон</td>\n",
       "      <td>0</td>\n",
       "      <td>240525.971920</td>\n",
       "      <td>операции с жильем</td>\n",
       "    </tr>\n",
       "    <tr>\n",
       "      <th>7</th>\n",
       "      <td>0</td>\n",
       "      <td>-152.779569</td>\n",
       "      <td>50</td>\n",
       "      <td>СРЕДНЕЕ</td>\n",
       "      <td>1</td>\n",
       "      <td>женат / замужем</td>\n",
       "      <td>0</td>\n",
       "      <td>M</td>\n",
       "      <td>сотрудник</td>\n",
       "      <td>0</td>\n",
       "      <td>135823.934197</td>\n",
       "      <td>образование</td>\n",
       "    </tr>\n",
       "    <tr>\n",
       "      <th>8</th>\n",
       "      <td>2</td>\n",
       "      <td>-6929.865299</td>\n",
       "      <td>35</td>\n",
       "      <td>ВЫСШЕЕ</td>\n",
       "      <td>0</td>\n",
       "      <td>гражданский брак</td>\n",
       "      <td>1</td>\n",
       "      <td>F</td>\n",
       "      <td>сотрудник</td>\n",
       "      <td>0</td>\n",
       "      <td>95856.832424</td>\n",
       "      <td>на проведение свадьбы</td>\n",
       "    </tr>\n",
       "    <tr>\n",
       "      <th>9</th>\n",
       "      <td>0</td>\n",
       "      <td>-2188.756445</td>\n",
       "      <td>41</td>\n",
       "      <td>среднее</td>\n",
       "      <td>1</td>\n",
       "      <td>женат / замужем</td>\n",
       "      <td>0</td>\n",
       "      <td>M</td>\n",
       "      <td>сотрудник</td>\n",
       "      <td>0</td>\n",
       "      <td>144425.938277</td>\n",
       "      <td>покупка жилья для семьи</td>\n",
       "    </tr>\n",
       "    <tr>\n",
       "      <th>10</th>\n",
       "      <td>2</td>\n",
       "      <td>-4171.483647</td>\n",
       "      <td>36</td>\n",
       "      <td>высшее</td>\n",
       "      <td>0</td>\n",
       "      <td>женат / замужем</td>\n",
       "      <td>0</td>\n",
       "      <td>M</td>\n",
       "      <td>компаньон</td>\n",
       "      <td>0</td>\n",
       "      <td>113943.491460</td>\n",
       "      <td>покупка недвижимости</td>\n",
       "    </tr>\n",
       "    <tr>\n",
       "      <th>11</th>\n",
       "      <td>0</td>\n",
       "      <td>-792.701887</td>\n",
       "      <td>40</td>\n",
       "      <td>среднее</td>\n",
       "      <td>1</td>\n",
       "      <td>женат / замужем</td>\n",
       "      <td>0</td>\n",
       "      <td>F</td>\n",
       "      <td>сотрудник</td>\n",
       "      <td>0</td>\n",
       "      <td>77069.234271</td>\n",
       "      <td>покупка коммерческой недвижимости</td>\n",
       "    </tr>\n",
       "    <tr>\n",
       "      <th>12</th>\n",
       "      <td>0</td>\n",
       "      <td>NaN</td>\n",
       "      <td>65</td>\n",
       "      <td>среднее</td>\n",
       "      <td>1</td>\n",
       "      <td>гражданский брак</td>\n",
       "      <td>1</td>\n",
       "      <td>M</td>\n",
       "      <td>пенсионер</td>\n",
       "      <td>0</td>\n",
       "      <td>NaN</td>\n",
       "      <td>сыграть свадьбу</td>\n",
       "    </tr>\n",
       "    <tr>\n",
       "      <th>13</th>\n",
       "      <td>0</td>\n",
       "      <td>-1846.641941</td>\n",
       "      <td>54</td>\n",
       "      <td>неоконченное высшее</td>\n",
       "      <td>2</td>\n",
       "      <td>женат / замужем</td>\n",
       "      <td>0</td>\n",
       "      <td>F</td>\n",
       "      <td>сотрудник</td>\n",
       "      <td>0</td>\n",
       "      <td>130458.228857</td>\n",
       "      <td>приобретение автомобиля</td>\n",
       "    </tr>\n",
       "    <tr>\n",
       "      <th>14</th>\n",
       "      <td>0</td>\n",
       "      <td>-1844.956182</td>\n",
       "      <td>56</td>\n",
       "      <td>высшее</td>\n",
       "      <td>0</td>\n",
       "      <td>гражданский брак</td>\n",
       "      <td>1</td>\n",
       "      <td>F</td>\n",
       "      <td>компаньон</td>\n",
       "      <td>1</td>\n",
       "      <td>165127.911772</td>\n",
       "      <td>покупка жилой недвижимости</td>\n",
       "    </tr>\n",
       "    <tr>\n",
       "      <th>15</th>\n",
       "      <td>1</td>\n",
       "      <td>-972.364419</td>\n",
       "      <td>26</td>\n",
       "      <td>среднее</td>\n",
       "      <td>1</td>\n",
       "      <td>женат / замужем</td>\n",
       "      <td>0</td>\n",
       "      <td>F</td>\n",
       "      <td>сотрудник</td>\n",
       "      <td>0</td>\n",
       "      <td>116820.904450</td>\n",
       "      <td>строительство собственной недвижимости</td>\n",
       "    </tr>\n",
       "    <tr>\n",
       "      <th>16</th>\n",
       "      <td>0</td>\n",
       "      <td>-1719.934226</td>\n",
       "      <td>35</td>\n",
       "      <td>среднее</td>\n",
       "      <td>1</td>\n",
       "      <td>женат / замужем</td>\n",
       "      <td>0</td>\n",
       "      <td>F</td>\n",
       "      <td>сотрудник</td>\n",
       "      <td>0</td>\n",
       "      <td>289202.704229</td>\n",
       "      <td>недвижимость</td>\n",
       "    </tr>\n",
       "    <tr>\n",
       "      <th>17</th>\n",
       "      <td>0</td>\n",
       "      <td>-2369.999720</td>\n",
       "      <td>33</td>\n",
       "      <td>высшее</td>\n",
       "      <td>0</td>\n",
       "      <td>гражданский брак</td>\n",
       "      <td>1</td>\n",
       "      <td>M</td>\n",
       "      <td>сотрудник</td>\n",
       "      <td>0</td>\n",
       "      <td>90410.586745</td>\n",
       "      <td>строительство недвижимости</td>\n",
       "    </tr>\n",
       "    <tr>\n",
       "      <th>18</th>\n",
       "      <td>0</td>\n",
       "      <td>400281.136913</td>\n",
       "      <td>53</td>\n",
       "      <td>среднее</td>\n",
       "      <td>1</td>\n",
       "      <td>вдовец / вдова</td>\n",
       "      <td>2</td>\n",
       "      <td>F</td>\n",
       "      <td>пенсионер</td>\n",
       "      <td>0</td>\n",
       "      <td>56823.777243</td>\n",
       "      <td>на покупку подержанного автомобиля</td>\n",
       "    </tr>\n",
       "    <tr>\n",
       "      <th>19</th>\n",
       "      <td>0</td>\n",
       "      <td>-10038.818549</td>\n",
       "      <td>48</td>\n",
       "      <td>СРЕДНЕЕ</td>\n",
       "      <td>1</td>\n",
       "      <td>в разводе</td>\n",
       "      <td>3</td>\n",
       "      <td>F</td>\n",
       "      <td>сотрудник</td>\n",
       "      <td>0</td>\n",
       "      <td>242831.107982</td>\n",
       "      <td>на покупку своего автомобиля</td>\n",
       "    </tr>\n",
       "  </tbody>\n",
       "</table>\n",
       "</div>"
      ],
      "text/plain": [
       "    children  days_employed  dob_years            education  education_id  \\\n",
       "0          1   -8437.673028         42               высшее             0   \n",
       "1          1   -4024.803754         36              среднее             1   \n",
       "2          0   -5623.422610         33              Среднее             1   \n",
       "3          3   -4124.747207         32              среднее             1   \n",
       "4          0  340266.072047         53              среднее             1   \n",
       "5          0    -926.185831         27               высшее             0   \n",
       "6          0   -2879.202052         43               высшее             0   \n",
       "7          0    -152.779569         50              СРЕДНЕЕ             1   \n",
       "8          2   -6929.865299         35               ВЫСШЕЕ             0   \n",
       "9          0   -2188.756445         41              среднее             1   \n",
       "10         2   -4171.483647         36               высшее             0   \n",
       "11         0    -792.701887         40              среднее             1   \n",
       "12         0            NaN         65              среднее             1   \n",
       "13         0   -1846.641941         54  неоконченное высшее             2   \n",
       "14         0   -1844.956182         56               высшее             0   \n",
       "15         1    -972.364419         26              среднее             1   \n",
       "16         0   -1719.934226         35              среднее             1   \n",
       "17         0   -2369.999720         33               высшее             0   \n",
       "18         0  400281.136913         53              среднее             1   \n",
       "19         0  -10038.818549         48              СРЕДНЕЕ             1   \n",
       "\n",
       "       family_status  family_status_id gender income_type  debt  \\\n",
       "0    женат / замужем                 0      F   сотрудник     0   \n",
       "1    женат / замужем                 0      F   сотрудник     0   \n",
       "2    женат / замужем                 0      M   сотрудник     0   \n",
       "3    женат / замужем                 0      M   сотрудник     0   \n",
       "4   гражданский брак                 1      F   пенсионер     0   \n",
       "5   гражданский брак                 1      M   компаньон     0   \n",
       "6    женат / замужем                 0      F   компаньон     0   \n",
       "7    женат / замужем                 0      M   сотрудник     0   \n",
       "8   гражданский брак                 1      F   сотрудник     0   \n",
       "9    женат / замужем                 0      M   сотрудник     0   \n",
       "10   женат / замужем                 0      M   компаньон     0   \n",
       "11   женат / замужем                 0      F   сотрудник     0   \n",
       "12  гражданский брак                 1      M   пенсионер     0   \n",
       "13   женат / замужем                 0      F   сотрудник     0   \n",
       "14  гражданский брак                 1      F   компаньон     1   \n",
       "15   женат / замужем                 0      F   сотрудник     0   \n",
       "16   женат / замужем                 0      F   сотрудник     0   \n",
       "17  гражданский брак                 1      M   сотрудник     0   \n",
       "18    вдовец / вдова                 2      F   пенсионер     0   \n",
       "19         в разводе                 3      F   сотрудник     0   \n",
       "\n",
       "     total_income                                 purpose  \n",
       "0   253875.639453                           покупка жилья  \n",
       "1   112080.014102                 приобретение автомобиля  \n",
       "2   145885.952297                           покупка жилья  \n",
       "3   267628.550329              дополнительное образование  \n",
       "4   158616.077870                         сыграть свадьбу  \n",
       "5   255763.565419                           покупка жилья  \n",
       "6   240525.971920                       операции с жильем  \n",
       "7   135823.934197                             образование  \n",
       "8    95856.832424                   на проведение свадьбы  \n",
       "9   144425.938277                 покупка жилья для семьи  \n",
       "10  113943.491460                    покупка недвижимости  \n",
       "11   77069.234271       покупка коммерческой недвижимости  \n",
       "12            NaN                         сыграть свадьбу  \n",
       "13  130458.228857                 приобретение автомобиля  \n",
       "14  165127.911772              покупка жилой недвижимости  \n",
       "15  116820.904450  строительство собственной недвижимости  \n",
       "16  289202.704229                            недвижимость  \n",
       "17   90410.586745              строительство недвижимости  \n",
       "18   56823.777243      на покупку подержанного автомобиля  \n",
       "19  242831.107982            на покупку своего автомобиля  "
      ]
     },
     "execution_count": 2,
     "metadata": {},
     "output_type": "execute_result"
    }
   ],
   "source": [
    "data.head(20)"
   ]
  },
  {
   "cell_type": "code",
   "execution_count": 3,
   "id": "bb5ae06d",
   "metadata": {
    "deletable": false,
    "id": "2b757bca",
    "outputId": "15376089-8dad-46c9-b520-c05248d43158"
   },
   "outputs": [
    {
     "name": "stdout",
     "output_type": "stream",
     "text": [
      "<class 'pandas.core.frame.DataFrame'>\n",
      "RangeIndex: 21525 entries, 0 to 21524\n",
      "Data columns (total 12 columns):\n",
      " #   Column            Non-Null Count  Dtype  \n",
      "---  ------            --------------  -----  \n",
      " 0   children          21525 non-null  int64  \n",
      " 1   days_employed     19351 non-null  float64\n",
      " 2   dob_years         21525 non-null  int64  \n",
      " 3   education         21525 non-null  object \n",
      " 4   education_id      21525 non-null  int64  \n",
      " 5   family_status     21525 non-null  object \n",
      " 6   family_status_id  21525 non-null  int64  \n",
      " 7   gender            21525 non-null  object \n",
      " 8   income_type       21525 non-null  object \n",
      " 9   debt              21525 non-null  int64  \n",
      " 10  total_income      19351 non-null  float64\n",
      " 11  purpose           21525 non-null  object \n",
      "dtypes: float64(2), int64(5), object(5)\n",
      "memory usage: 2.0+ MB\n"
     ]
    }
   ],
   "source": [
    "data.info()"
   ]
  },
  {
   "cell_type": "markdown",
   "id": "b074ac05",
   "metadata": {},
   "source": [
    "Данные в датасете содержат 12 столбцов и 21525 строк. 7 столбцов содержат количественные переменные, 5 столбцов - категориаальные переменные. В столбцах 'total_income', 'days_employed', 'gender' встречаются пропуски в данных.\n",
    "\n",
    "В столбце 'gender' встречается значение 'XNA', которое, вероятно, связано с тем, что заемщик при заполнении анкеты не указал свой пол.\n",
    "\n",
    "Также в столбце 'days_employed' встречаются отрицательные значения. И сами значения, если это действительно, дни - нереальны (стаж более чем в 100 лет и т.д.). Ошибка в форматировании данных? Стаж в днях указан в Unix time?\n",
    "\n",
    "В столбце 'children' встречаются отрицательные значения (количество детей =-1).\n",
    "В столбце 'dob_years' встречаются нули (возраст равен 0). Возможно, потому, что заемщик не указал возраст при заполнении анкеты.\n",
    "\n",
    "Значения в столбцах 'purpose', 'education' дублируются (текстовые переменные)."
   ]
  },
  {
   "cell_type": "markdown",
   "id": "862b23ee",
   "metadata": {
    "deletable": false,
    "editable": false,
    "id": "333ec665"
   },
   "source": [
    "## Предобработка данных"
   ]
  },
  {
   "cell_type": "markdown",
   "id": "09a51a99",
   "metadata": {
    "deletable": false,
    "editable": false,
    "id": "02d92d53"
   },
   "source": [
    "### Удаление пропусков"
   ]
  },
  {
   "cell_type": "code",
   "execution_count": 4,
   "id": "a57efaa5",
   "metadata": {
    "deletable": false,
    "id": "7f9b2309",
    "outputId": "81f4d817-781c-465c-ed15-91ce4446810d"
   },
   "outputs": [
    {
     "data": {
      "text/plain": [
       "children               0\n",
       "days_employed       2174\n",
       "dob_years              0\n",
       "education              0\n",
       "education_id           0\n",
       "family_status          0\n",
       "family_status_id       0\n",
       "gender                 0\n",
       "income_type            0\n",
       "debt                   0\n",
       "total_income        2174\n",
       "purpose                0\n",
       "dtype: int64"
      ]
     },
     "execution_count": 4,
     "metadata": {},
     "output_type": "execute_result"
    }
   ],
   "source": [
    "data.isna().sum()"
   ]
  },
  {
   "cell_type": "markdown",
   "id": "b2990f05",
   "metadata": {
    "deletable": false,
    "editable": false,
    "id": "db86e27b"
   },
   "source": [
    " На сумму дохода сильнее всего влияет тип занятости, поэтому  пропуски в этом столбце заполним медианным значением по каждому типу из столбца `income_type`. Например, у человека с типом занятости `сотрудник` пропуск в столбце `total_income` должен быть заполнен медианным доходом среди всех записей с тем же типом."
   ]
  },
  {
   "cell_type": "code",
   "execution_count": 5,
   "id": "5d1c8b8f",
   "metadata": {
    "deletable": false,
    "id": "42006a93",
    "scrolled": true
   },
   "outputs": [],
   "source": [
    "for t in data['income_type'].unique():\n",
    "    data.loc[(data['income_type'] == t) & (data['total_income'].isna()), 'total_income'] = \\\n",
    "    data.loc[(data['income_type'] == t), 'total_income'].median()\n"
   ]
  },
  {
   "cell_type": "markdown",
   "id": "7d90bc12",
   "metadata": {
    "deletable": false,
    "editable": false,
    "id": "89da5ece"
   },
   "source": [
    "### Обработка аномальных значений"
   ]
  },
  {
   "cell_type": "markdown",
   "id": "33233679",
   "metadata": {
    "deletable": false,
    "editable": false,
    "id": "57964554"
   },
   "source": [
    "В данных могут встречаться артефакты (аномалии) — значения, которые не отражают действительность и появились по какой-то ошибке. таким артефактом будет отрицательное количество дней трудового стажа в столбце `days_employed`. Заменим все отрицательные значения положительными."
   ]
  },
  {
   "cell_type": "code",
   "execution_count": 6,
   "id": "0eccfbd6",
   "metadata": {
    "deletable": false,
    "id": "f6f055bf"
   },
   "outputs": [],
   "source": [
    "data['days_employed'] = data['days_employed'].abs()"
   ]
  },
  {
   "cell_type": "markdown",
   "id": "14689f42",
   "metadata": {
    "deletable": false,
    "editable": false,
    "id": "6107dd2f"
   },
   "source": [
    "Для каждого типа занятости выведем медианное значение трудового стажа `days_employed` в днях."
   ]
  },
  {
   "cell_type": "code",
   "execution_count": 7,
   "id": "96b87165",
   "metadata": {
    "deletable": false,
    "id": "85a5faf6",
    "outputId": "801ef80e-522b-4668-f34e-565af7432bcf"
   },
   "outputs": [
    {
     "data": {
      "text/plain": [
       "income_type\n",
       "безработный        366413.652744\n",
       "в декрете            3296.759962\n",
       "госслужащий          2689.368353\n",
       "компаньон            1547.382223\n",
       "пенсионер          365213.306266\n",
       "предприниматель       520.848083\n",
       "сотрудник            1574.202821\n",
       "студент               578.751554\n",
       "Name: days_employed, dtype: float64"
      ]
     },
     "execution_count": 7,
     "metadata": {},
     "output_type": "execute_result"
    }
   ],
   "source": [
    "data.groupby('income_type')['days_employed'].agg('median')"
   ]
  },
  {
   "cell_type": "markdown",
   "id": "28119522",
   "metadata": {
    "deletable": false,
    "editable": false,
    "id": "d8a9f147"
   },
   "source": [
    "Выведем перечень уникальных значений столбца `children`"
   ]
  },
  {
   "cell_type": "code",
   "execution_count": 8,
   "id": "35adb05b",
   "metadata": {
    "deletable": false,
    "id": "ef5056eb",
    "outputId": "6975b15c-7f95-4697-d16d-a0c79b657b03"
   },
   "outputs": [
    {
     "data": {
      "text/plain": [
       "array([ 1,  0,  3,  2, -1,  4, 20,  5])"
      ]
     },
     "execution_count": 8,
     "metadata": {},
     "output_type": "execute_result"
    }
   ],
   "source": [
    "data['children'].unique()"
   ]
  },
  {
   "cell_type": "markdown",
   "id": "2ae0a504",
   "metadata": {
    "deletable": false,
    "editable": false,
    "id": "40b9ebf2"
   },
   "source": [
    "В столбце `children` есть два аномальных значения, которые необходимо удалить."
   ]
  },
  {
   "cell_type": "code",
   "execution_count": 9,
   "id": "0e7051c3",
   "metadata": {
    "deletable": false,
    "id": "3ff9801d"
   },
   "outputs": [],
   "source": [
    "data = data[(data['children'] != -1) & (data['children'] != 20)]"
   ]
  },
  {
   "cell_type": "code",
   "execution_count": 10,
   "id": "b17f0390",
   "metadata": {
    "deletable": false,
    "id": "ad4fa8b7",
    "outputId": "b2097101-d49d-44d9-901b-32a65c9463d1"
   },
   "outputs": [
    {
     "data": {
      "text/plain": [
       "array([1, 0, 3, 2, 4, 5])"
      ]
     },
     "execution_count": 10,
     "metadata": {},
     "output_type": "execute_result"
    }
   ],
   "source": [
    "data['children'].unique()"
   ]
  },
  {
   "cell_type": "markdown",
   "id": "5e4dd326",
   "metadata": {
    "deletable": false,
    "editable": false,
    "id": "75440b63"
   },
   "source": [
    "### Удаление пропусков (продолжение)"
   ]
  },
  {
   "cell_type": "markdown",
   "id": "628a9129",
   "metadata": {
    "deletable": false,
    "editable": false,
    "id": "f4ea573f"
   },
   "source": [
    "Заполним пропуски в столбце `days_employed` медианными значениями по каждого типа занятости `income_type`."
   ]
  },
  {
   "cell_type": "code",
   "execution_count": 11,
   "id": "4898e336",
   "metadata": {
    "deletable": false,
    "id": "af6b1a7e"
   },
   "outputs": [],
   "source": [
    "for t in data['income_type'].unique():\n",
    "    data.loc[(data['income_type'] == t) & (data['days_employed'].isna()), 'days_employed'] = \\\n",
    "    data.loc[(data['income_type'] == t), 'days_employed'].median()"
   ]
  },
  {
   "cell_type": "code",
   "execution_count": 12,
   "id": "a624f651",
   "metadata": {
    "deletable": false,
    "id": "55f78bc2",
    "outputId": "8da1e4e1-358e-4e87-98c9-f261bce0a7b2"
   },
   "outputs": [
    {
     "data": {
      "text/plain": [
       "children            0\n",
       "days_employed       0\n",
       "dob_years           0\n",
       "education           0\n",
       "education_id        0\n",
       "family_status       0\n",
       "family_status_id    0\n",
       "gender              0\n",
       "income_type         0\n",
       "debt                0\n",
       "total_income        0\n",
       "purpose             0\n",
       "dtype: int64"
      ]
     },
     "execution_count": 12,
     "metadata": {},
     "output_type": "execute_result"
    }
   ],
   "source": [
    "data.isna().sum()"
   ]
  },
  {
   "cell_type": "markdown",
   "id": "16ee4cba",
   "metadata": {
    "deletable": false,
    "editable": false,
    "id": "ddc81e43"
   },
   "source": [
    "### Изменение типов данных"
   ]
  },
  {
   "cell_type": "markdown",
   "id": "dbe005ad",
   "metadata": {
    "deletable": false,
    "editable": false,
    "id": "42d19d24"
   },
   "source": [
    "Заменим вещественный тип данных в столбце `total_income` на целочисленный."
   ]
  },
  {
   "cell_type": "code",
   "execution_count": 13,
   "id": "aea50d9c",
   "metadata": {
    "deletable": false,
    "id": "920b65ad"
   },
   "outputs": [],
   "source": [
    "data['total_income'] = data['total_income'].astype(int)"
   ]
  },
  {
   "cell_type": "markdown",
   "id": "26334d9a",
   "metadata": {
    "deletable": false,
    "editable": false,
    "id": "80c420ba"
   },
   "source": [
    "### Обработка дубликатов"
   ]
  },
  {
   "cell_type": "markdown",
   "id": "c06a6033",
   "metadata": {
    "deletable": false,
    "editable": false
   },
   "source": [
    "Обработаем неявные дубликаты в столбце `education`. "
   ]
  },
  {
   "cell_type": "code",
   "execution_count": 14,
   "id": "8d05cd0b",
   "metadata": {
    "deletable": false
   },
   "outputs": [],
   "source": [
    "data['education'] = data['education'].str.lower()"
   ]
  },
  {
   "cell_type": "code",
   "execution_count": 15,
   "id": "dffca654",
   "metadata": {
    "deletable": false,
    "id": "3ee445e4",
    "outputId": "9684deba-1934-42d1-99e1-cda61740f822"
   },
   "outputs": [
    {
     "data": {
      "text/plain": [
       "71"
      ]
     },
     "execution_count": 15,
     "metadata": {},
     "output_type": "execute_result"
    }
   ],
   "source": [
    "data.duplicated().sum()"
   ]
  },
  {
   "cell_type": "code",
   "execution_count": 16,
   "id": "f0c4abec",
   "metadata": {
    "deletable": false,
    "id": "8575fe05"
   },
   "outputs": [],
   "source": [
    "data = data.drop_duplicates()"
   ]
  },
  {
   "cell_type": "markdown",
   "id": "0c06ec1a",
   "metadata": {
    "deletable": false,
    "editable": false,
    "id": "9904cf55"
   },
   "source": [
    "### Категоризация данных"
   ]
  },
  {
   "cell_type": "markdown",
   "id": "caf4feb6",
   "metadata": {
    "deletable": false,
    "editable": false,
    "id": "72fcc8a2"
   },
   "source": [
    "На основании диапазонов, указанных ниже, создадим в датафрейме `data` столбец `total_income_category` с категориями:\n",
    "\n",
    "- 0–30000 — `'E'`;\n",
    "- 30001–50000 — `'D'`;\n",
    "- 50001–200000 — `'C'`;\n",
    "- 200001–1000000 — `'B'`;\n",
    "- 1000001 и выше — `'A'`.\n",
    "\n",
    "\n"
   ]
  },
  {
   "cell_type": "code",
   "execution_count": 17,
   "id": "93c4500e",
   "metadata": {
    "deletable": false,
    "id": "e1771346"
   },
   "outputs": [],
   "source": [
    "def categorize_income(income):\n",
    "    try:\n",
    "        if 0 <= income <= 30000:\n",
    "            return 'E'\n",
    "        elif 30001 <= income <= 50000:\n",
    "            return 'D'\n",
    "        elif 50001 <= income <= 200000:\n",
    "            return 'C'\n",
    "        elif 200001 <= income <= 1000000:\n",
    "            return 'B'\n",
    "        elif income >= 1000001:\n",
    "            return 'A'\n",
    "    except:\n",
    "        pass"
   ]
  },
  {
   "cell_type": "code",
   "execution_count": 18,
   "id": "19e7e5b5",
   "metadata": {
    "deletable": false,
    "id": "d5f3586d"
   },
   "outputs": [],
   "source": [
    "data['total_income_category'] = data['total_income'].apply(categorize_income)"
   ]
  },
  {
   "cell_type": "markdown",
   "id": "3064a652",
   "metadata": {
    "deletable": false,
    "editable": false,
    "id": "dde49b5c"
   },
   "source": [
    "Выведем на экран перечень уникальных целей взятия кредита из столбца `purpose`."
   ]
  },
  {
   "cell_type": "code",
   "execution_count": 19,
   "id": "d9d64dcc",
   "metadata": {
    "deletable": false,
    "id": "f67ce9b3",
    "outputId": "673c12d9-7d7e-4ae0-9812-c622c89dd244",
    "scrolled": true
   },
   "outputs": [
    {
     "data": {
      "text/plain": [
       "array(['покупка жилья', 'приобретение автомобиля',\n",
       "       'дополнительное образование', 'сыграть свадьбу',\n",
       "       'операции с жильем', 'образование', 'на проведение свадьбы',\n",
       "       'покупка жилья для семьи', 'покупка недвижимости',\n",
       "       'покупка коммерческой недвижимости', 'покупка жилой недвижимости',\n",
       "       'строительство собственной недвижимости', 'недвижимость',\n",
       "       'строительство недвижимости', 'на покупку подержанного автомобиля',\n",
       "       'на покупку своего автомобиля',\n",
       "       'операции с коммерческой недвижимостью',\n",
       "       'строительство жилой недвижимости', 'жилье',\n",
       "       'операции со своей недвижимостью', 'автомобили',\n",
       "       'заняться образованием', 'сделка с подержанным автомобилем',\n",
       "       'получение образования', 'автомобиль', 'свадьба',\n",
       "       'получение дополнительного образования', 'покупка своего жилья',\n",
       "       'операции с недвижимостью', 'получение высшего образования',\n",
       "       'свой автомобиль', 'сделка с автомобилем',\n",
       "       'профильное образование', 'высшее образование',\n",
       "       'покупка жилья для сдачи', 'на покупку автомобиля', 'ремонт жилью',\n",
       "       'заняться высшим образованием'], dtype=object)"
      ]
     },
     "execution_count": 19,
     "metadata": {},
     "output_type": "execute_result"
    }
   ],
   "source": [
    "data['purpose'].unique()"
   ]
  },
  {
   "cell_type": "markdown",
   "id": "775849d1",
   "metadata": {
    "deletable": false,
    "editable": false,
    "id": "85d0aef0"
   },
   "source": [
    "Создадим функцию, которая на основании данных из столбца `purpose` сформирует новый столбец `purpose_category`, в который войдут следующие категории:\n",
    "\n",
    "- `'операции с автомобилем'`,\n",
    "- `'операции с недвижимостью'`,\n",
    "- `'проведение свадьбы'`,\n",
    "- `'получение образования'`.\n",
    "\n"
   ]
  },
  {
   "cell_type": "code",
   "execution_count": 20,
   "id": "a994c2fe",
   "metadata": {
    "deletable": false,
    "id": "e149fab4"
   },
   "outputs": [],
   "source": [
    "def categorize_purpose(row):\n",
    "    try:\n",
    "        if 'автом' in row:\n",
    "            return 'операции с автомобилем'\n",
    "        elif 'жил' in row or 'недвиж' in row:\n",
    "            return 'операции с недвижимостью'\n",
    "        elif 'свад' in row:\n",
    "            return 'проведение свадьбы'\n",
    "        elif 'образов' in row:\n",
    "            return 'получение образования'\n",
    "    except:\n",
    "        return 'нет категории'"
   ]
  },
  {
   "cell_type": "code",
   "execution_count": 21,
   "id": "96792f51",
   "metadata": {
    "deletable": false,
    "id": "bf36e69b"
   },
   "outputs": [],
   "source": [
    "data['purpose_category'] = data['purpose'].apply(categorize_purpose)"
   ]
  },
  {
   "cell_type": "markdown",
   "id": "0367553a",
   "metadata": {
    "deletable": false,
    "editable": false,
    "id": "09b242bf"
   },
   "source": [
    "### Шаг 3. Исследуйте данные и ответьте на вопросы"
   ]
  },
  {
   "cell_type": "markdown",
   "id": "fd55b7d1",
   "metadata": {
    "deletable": false,
    "editable": false,
    "id": "c5d66278"
   },
   "source": [
    "#### 3.1 Есть ли зависимость между количеством детей и возвратом кредита в срок?"
   ]
  },
  {
   "cell_type": "code",
   "execution_count": 22,
   "id": "23e2c2fb",
   "metadata": {
    "deletable": false,
    "id": "2cacfc4a"
   },
   "outputs": [
    {
     "data": {
      "text/plain": [
       "array([0, 1])"
      ]
     },
     "execution_count": 22,
     "metadata": {},
     "output_type": "execute_result"
    }
   ],
   "source": [
    "data['debt'].unique() # Убедимся, что в столбце 'debt' значения бывают только 0 и 1."
   ]
  },
  {
   "cell_type": "code",
   "execution_count": 23,
   "id": "a07849b1",
   "metadata": {},
   "outputs": [
    {
     "name": "stdout",
     "output_type": "stream",
     "text": [
      "children  debt\n",
      "0         0       13028\n",
      "          1        1063\n",
      "1         0        4364\n",
      "          1         444\n",
      "2         0        1858\n",
      "          1         194\n",
      "3         0         303\n",
      "          1          27\n",
      "4         0          37\n",
      "          1           4\n",
      "5         0           9\n",
      "Name: debt, dtype: int64\n"
     ]
    }
   ],
   "source": [
    "data_debt = data.groupby('children')['debt'].value_counts() # Определим в абсолютном выражении количество людей с долгами и без в зависимости от количества детей.\n",
    "print(data_debt)"
   ]
  },
  {
   "cell_type": "code",
   "execution_count": 24,
   "id": "208bfac1",
   "metadata": {},
   "outputs": [
    {
     "name": "stdout",
     "output_type": "stream",
     "text": [
      "0    1063\n",
      "Name: children, dtype: int64\n"
     ]
    }
   ],
   "source": [
    "data3 = data['children'].loc[(data['children'] == 0) & (data['debt'] == 1)].value_counts() # Убедимся в количестве людей не имеющих детей и имеющих долг (для последующей проверке применения метода sum())\n",
    "\n",
    "print(data3)\n"
   ]
  },
  {
   "cell_type": "code",
   "execution_count": 25,
   "id": "d446d15c",
   "metadata": {},
   "outputs": [
    {
     "name": "stdout",
     "output_type": "stream",
     "text": [
      "0    13028\n",
      "Name: children, dtype: int64\n"
     ]
    }
   ],
   "source": [
    "data4 = data['children'].loc[(data['children'] == 0) & (data['debt'] == 0)].value_counts() # Убедимся в количестве людей не имеющих детей и yt имеющих долг (для последующей проверке применения метода count())\n",
    "\n",
    "print(data4)"
   ]
  },
  {
   "cell_type": "code",
   "execution_count": 26,
   "id": "e7b26040",
   "metadata": {},
   "outputs": [
    {
     "name": "stdout",
     "output_type": "stream",
     "text": [
      "          quantity  quantity_debt  percentage\n",
      "children                                     \n",
      "0            14091           1063    0.075438\n",
      "1             4808            444    0.092346\n",
      "2             2052            194    0.094542\n",
      "3              330             27    0.081818\n",
      "4               41              4    0.097561\n",
      "5                9              0    0.000000\n"
     ]
    }
   ],
   "source": [
    "debt_from_children = pd.DataFrame() # Создадим новую таблицу\n",
    "debt_from_children['quantity'] = data.groupby('children')['debt'].count() # посчитаем общее количество клиентов разнесенное в зависисмости от количества детей\n",
    "debt_from_children['quantity_debt'] = data.groupby('children')['debt'].sum() # посчитаем количество просрочек в зависисомсти от количества детей\n",
    "debt_from_children['percentage'] = debt_from_children['quantity_debt'] / debt_from_children['quantity'] # найдем процентное соотношение этих величин\n",
    "print(debt_from_children)"
   ]
  },
  {
   "cell_type": "code",
   "execution_count": 27,
   "id": "82e2e988",
   "metadata": {},
   "outputs": [
    {
     "data": {
      "text/html": [
       "<div>\n",
       "<style scoped>\n",
       "    .dataframe tbody tr th:only-of-type {\n",
       "        vertical-align: middle;\n",
       "    }\n",
       "\n",
       "    .dataframe tbody tr th {\n",
       "        vertical-align: top;\n",
       "    }\n",
       "\n",
       "    .dataframe thead th {\n",
       "        text-align: right;\n",
       "    }\n",
       "</style>\n",
       "<table border=\"1\" class=\"dataframe\">\n",
       "  <thead>\n",
       "    <tr style=\"text-align: right;\">\n",
       "      <th></th>\n",
       "      <th>quantity</th>\n",
       "      <th>quantity_debt</th>\n",
       "      <th>percentage</th>\n",
       "    </tr>\n",
       "    <tr>\n",
       "      <th>children</th>\n",
       "      <th></th>\n",
       "      <th></th>\n",
       "      <th></th>\n",
       "    </tr>\n",
       "  </thead>\n",
       "  <tbody>\n",
       "    <tr>\n",
       "      <th>4</th>\n",
       "      <td>41</td>\n",
       "      <td>4</td>\n",
       "      <td>0.097561</td>\n",
       "    </tr>\n",
       "    <tr>\n",
       "      <th>2</th>\n",
       "      <td>2052</td>\n",
       "      <td>194</td>\n",
       "      <td>0.094542</td>\n",
       "    </tr>\n",
       "    <tr>\n",
       "      <th>1</th>\n",
       "      <td>4808</td>\n",
       "      <td>444</td>\n",
       "      <td>0.092346</td>\n",
       "    </tr>\n",
       "    <tr>\n",
       "      <th>3</th>\n",
       "      <td>330</td>\n",
       "      <td>27</td>\n",
       "      <td>0.081818</td>\n",
       "    </tr>\n",
       "    <tr>\n",
       "      <th>0</th>\n",
       "      <td>14091</td>\n",
       "      <td>1063</td>\n",
       "      <td>0.075438</td>\n",
       "    </tr>\n",
       "    <tr>\n",
       "      <th>5</th>\n",
       "      <td>9</td>\n",
       "      <td>0</td>\n",
       "      <td>0.000000</td>\n",
       "    </tr>\n",
       "  </tbody>\n",
       "</table>\n",
       "</div>"
      ],
      "text/plain": [
       "          quantity  quantity_debt  percentage\n",
       "children                                     \n",
       "4               41              4    0.097561\n",
       "2             2052            194    0.094542\n",
       "1             4808            444    0.092346\n",
       "3              330             27    0.081818\n",
       "0            14091           1063    0.075438\n",
       "5                9              0    0.000000"
      ]
     },
     "execution_count": 27,
     "metadata": {},
     "output_type": "execute_result"
    }
   ],
   "source": [
    "debt_from_children.sort_values('percentage', ascending = False) # Отсортируем процент просрочек в заисимости от количества детей по убыванию"
   ]
  },
  {
   "cell_type": "code",
   "execution_count": 28,
   "id": "18a5f545",
   "metadata": {
    "scrolled": false
   },
   "outputs": [
    {
     "data": {
      "text/html": [
       "<div>\n",
       "<style scoped>\n",
       "    .dataframe tbody tr th:only-of-type {\n",
       "        vertical-align: middle;\n",
       "    }\n",
       "\n",
       "    .dataframe tbody tr th {\n",
       "        vertical-align: top;\n",
       "    }\n",
       "\n",
       "    .dataframe thead th {\n",
       "        text-align: right;\n",
       "    }\n",
       "</style>\n",
       "<table border=\"1\" class=\"dataframe\">\n",
       "  <thead>\n",
       "    <tr style=\"text-align: right;\">\n",
       "      <th></th>\n",
       "      <th>count</th>\n",
       "      <th>sum</th>\n",
       "      <th>mean</th>\n",
       "    </tr>\n",
       "    <tr>\n",
       "      <th>children</th>\n",
       "      <th></th>\n",
       "      <th></th>\n",
       "      <th></th>\n",
       "    </tr>\n",
       "  </thead>\n",
       "  <tbody>\n",
       "    <tr>\n",
       "      <th>4</th>\n",
       "      <td>41</td>\n",
       "      <td>4</td>\n",
       "      <td>0.097561</td>\n",
       "    </tr>\n",
       "    <tr>\n",
       "      <th>2</th>\n",
       "      <td>2052</td>\n",
       "      <td>194</td>\n",
       "      <td>0.094542</td>\n",
       "    </tr>\n",
       "    <tr>\n",
       "      <th>1</th>\n",
       "      <td>4808</td>\n",
       "      <td>444</td>\n",
       "      <td>0.092346</td>\n",
       "    </tr>\n",
       "    <tr>\n",
       "      <th>3</th>\n",
       "      <td>330</td>\n",
       "      <td>27</td>\n",
       "      <td>0.081818</td>\n",
       "    </tr>\n",
       "    <tr>\n",
       "      <th>0</th>\n",
       "      <td>14091</td>\n",
       "      <td>1063</td>\n",
       "      <td>0.075438</td>\n",
       "    </tr>\n",
       "    <tr>\n",
       "      <th>5</th>\n",
       "      <td>9</td>\n",
       "      <td>0</td>\n",
       "      <td>0.000000</td>\n",
       "    </tr>\n",
       "  </tbody>\n",
       "</table>\n",
       "</div>"
      ],
      "text/plain": [
       "          count   sum      mean\n",
       "children                       \n",
       "4            41     4  0.097561\n",
       "2          2052   194  0.094542\n",
       "1          4808   444  0.092346\n",
       "3           330    27  0.081818\n",
       "0         14091  1063  0.075438\n",
       "5             9     0  0.000000"
      ]
     },
     "execution_count": 28,
     "metadata": {},
     "output_type": "execute_result"
    }
   ],
   "source": [
    "\n",
    "data.groupby('children')['debt'].agg(['count', 'sum', 'mean'])\\\n",
    "    .sort_values(by = 'mean', ascending = False)"
   ]
  },
  {
   "cell_type": "code",
   "execution_count": 29,
   "id": "a40d8cbb",
   "metadata": {},
   "outputs": [
    {
     "data": {
      "text/plain": [
       "0.09156678940239288"
      ]
     },
     "execution_count": 29,
     "metadata": {},
     "output_type": "execute_result"
    }
   ],
   "source": [
    "debt_from_children.loc[1:4, 'percentage'].mean() # Посчитаем средний процент просрочек при наличии детей (5 детей исключено из-за малой репрезентативности)"
   ]
  },
  {
   "cell_type": "markdown",
   "id": "bc302005",
   "metadata": {
    "deletable": false,
    "id": "3a6b99ec"
   },
   "source": [
    "**Вывод:** Наличие детей повышает вероятность невыплаты кредита людьми, имеющими детей в среднем на 1,5%, по отношению к бездетным."
   ]
  },
  {
   "cell_type": "markdown",
   "id": "04088e96",
   "metadata": {
    "deletable": false,
    "editable": false,
    "id": "97be82ca"
   },
   "source": [
    "#### 3.2 Есть ли зависимость между семейным положением и возвратом кредита в срок?"
   ]
  },
  {
   "cell_type": "code",
   "execution_count": 30,
   "id": "a5a0de9f",
   "metadata": {
    "deletable": false,
    "id": "dc3f7ee8"
   },
   "outputs": [],
   "source": [
    "family_debt = data.groupby('family_status')['debt'].value_counts() # Определим в абсолютном выражении количество людей с долгами и без в зависимости от семейного положения."
   ]
  },
  {
   "cell_type": "code",
   "execution_count": 31,
   "id": "12ccd9a4",
   "metadata": {},
   "outputs": [
    {
     "name": "stdout",
     "output_type": "stream",
     "text": [
      "                       quantity  quantity_debt  percentage\n",
      "family_status                                             \n",
      "Не женат / не замужем      2796            273    0.097639\n",
      "в разводе                  1189             84    0.070648\n",
      "вдовец / вдова              951             63    0.066246\n",
      "гражданский брак           4134            385    0.093130\n",
      "женат / замужем           12261            927    0.075606\n"
     ]
    }
   ],
   "source": [
    "debt_family = pd.DataFrame() # Создадим новую таблицу\n",
    "debt_family['quantity'] = data.groupby('family_status')['debt'].count() # посчитаем общее количество клиентов разнесенное в зависисмости от семейного положения.\n",
    "debt_family['quantity_debt'] = data.groupby('family_status')['debt'].sum() # посчитаем количество просрочек в зависисомсти от от семейного положения.\n",
    "debt_family['percentage'] = debt_family['quantity_debt'] / debt_family['quantity'] # найдем процентное соотношение этих величин\n",
    "print(debt_family)"
   ]
  },
  {
   "cell_type": "code",
   "execution_count": 32,
   "id": "1f6a3aed",
   "metadata": {},
   "outputs": [
    {
     "data": {
      "text/html": [
       "<div>\n",
       "<style scoped>\n",
       "    .dataframe tbody tr th:only-of-type {\n",
       "        vertical-align: middle;\n",
       "    }\n",
       "\n",
       "    .dataframe tbody tr th {\n",
       "        vertical-align: top;\n",
       "    }\n",
       "\n",
       "    .dataframe thead th {\n",
       "        text-align: right;\n",
       "    }\n",
       "</style>\n",
       "<table border=\"1\" class=\"dataframe\">\n",
       "  <thead>\n",
       "    <tr style=\"text-align: right;\">\n",
       "      <th></th>\n",
       "      <th>quantity</th>\n",
       "      <th>quantity_debt</th>\n",
       "      <th>percentage</th>\n",
       "    </tr>\n",
       "    <tr>\n",
       "      <th>family_status</th>\n",
       "      <th></th>\n",
       "      <th></th>\n",
       "      <th></th>\n",
       "    </tr>\n",
       "  </thead>\n",
       "  <tbody>\n",
       "    <tr>\n",
       "      <th>Не женат / не замужем</th>\n",
       "      <td>2796</td>\n",
       "      <td>273</td>\n",
       "      <td>0.097639</td>\n",
       "    </tr>\n",
       "    <tr>\n",
       "      <th>гражданский брак</th>\n",
       "      <td>4134</td>\n",
       "      <td>385</td>\n",
       "      <td>0.093130</td>\n",
       "    </tr>\n",
       "    <tr>\n",
       "      <th>женат / замужем</th>\n",
       "      <td>12261</td>\n",
       "      <td>927</td>\n",
       "      <td>0.075606</td>\n",
       "    </tr>\n",
       "    <tr>\n",
       "      <th>в разводе</th>\n",
       "      <td>1189</td>\n",
       "      <td>84</td>\n",
       "      <td>0.070648</td>\n",
       "    </tr>\n",
       "    <tr>\n",
       "      <th>вдовец / вдова</th>\n",
       "      <td>951</td>\n",
       "      <td>63</td>\n",
       "      <td>0.066246</td>\n",
       "    </tr>\n",
       "  </tbody>\n",
       "</table>\n",
       "</div>"
      ],
      "text/plain": [
       "                       quantity  quantity_debt  percentage\n",
       "family_status                                             \n",
       "Не женат / не замужем      2796            273    0.097639\n",
       "гражданский брак           4134            385    0.093130\n",
       "женат / замужем           12261            927    0.075606\n",
       "в разводе                  1189             84    0.070648\n",
       "вдовец / вдова              951             63    0.066246"
      ]
     },
     "execution_count": 32,
     "metadata": {},
     "output_type": "execute_result"
    }
   ],
   "source": [
    "debt_family.sort_values('percentage', ascending = False) # Отсортируем значения по убыванию"
   ]
  },
  {
   "cell_type": "code",
   "execution_count": 33,
   "id": "4e86e92a",
   "metadata": {},
   "outputs": [
    {
     "name": "stdout",
     "output_type": "stream",
     "text": [
      "   quantity  quantity_debt  percentage\n",
      "0      2796            273    0.097639\n",
      "1      1189             84    0.070648\n",
      "2       951             63    0.066246\n",
      "3      4134            385    0.093130\n",
      "4     12261            927    0.075606\n"
     ]
    }
   ],
   "source": [
    "debt_family = debt_family.reset_index(drop=True)\n",
    "print(debt_family)\n",
    "\n"
   ]
  },
  {
   "cell_type": "code",
   "execution_count": 34,
   "id": "e937f956",
   "metadata": {},
   "outputs": [
    {
     "data": {
      "text/plain": [
       "0.0819158212721453"
      ]
     },
     "execution_count": 34,
     "metadata": {},
     "output_type": "execute_result"
    }
   ],
   "source": [
    "debt_family.loc[0:3, 'percentage'].mean() # Посчитаем средний процент просрочек при отсутсвии брака."
   ]
  },
  {
   "cell_type": "code",
   "execution_count": 35,
   "id": "e8441f2f",
   "metadata": {},
   "outputs": [
    {
     "data": {
      "text/plain": [
       "0.07560557866405676"
      ]
     },
     "execution_count": 35,
     "metadata": {},
     "output_type": "execute_result"
    }
   ],
   "source": [
    "debt_family.loc[4, 'percentage'].mean() # Посчитаем средний процент просрочек в бракe."
   ]
  },
  {
   "cell_type": "code",
   "execution_count": 36,
   "id": "82167caf",
   "metadata": {},
   "outputs": [
    {
     "data": {
      "text/plain": [
       "0.07832725858211426"
      ]
     },
     "execution_count": 36,
     "metadata": {},
     "output_type": "execute_result"
    }
   ],
   "source": [
    "debt_family.loc[2:4, 'percentage'].mean() # Посчитаем средний процент просрочек побывавших в бракe."
   ]
  },
  {
   "cell_type": "markdown",
   "id": "98a07d7a",
   "metadata": {
    "deletable": false,
    "id": "1cef7837"
   },
   "source": [
    "**Вывод:** Вероятность невозврата кредита для людей не состящих в браке выше, чем у семейных клиентов. Кроме того, люди состоявшие в браке (+ вдовцы и разведенные) имеют меньше просрочек, относительно не женатых."
   ]
  },
  {
   "cell_type": "markdown",
   "id": "dcc57511",
   "metadata": {
    "deletable": false,
    "editable": false,
    "id": "1e8b2fca"
   },
   "source": [
    "#### 3.3 Есть ли зависимость между уровнем дохода и возвратом кредита в срок?"
   ]
  },
  {
   "cell_type": "code",
   "execution_count": 37,
   "id": "70824108",
   "metadata": {
    "deletable": false,
    "id": "cd7e3720"
   },
   "outputs": [
    {
     "name": "stdout",
     "output_type": "stream",
     "text": [
      "total_income_category  debt\n",
      "A                      0          23\n",
      "                       1           2\n",
      "B                      0        4660\n",
      "                       1         354\n",
      "C                      0       14568\n",
      "                       1        1353\n",
      "D                      0         328\n",
      "                       1          21\n",
      "E                      0          20\n",
      "                       1           2\n",
      "Name: debt, dtype: int64\n"
     ]
    }
   ],
   "source": [
    "data_income = data.groupby('total_income_category')['debt'].value_counts() \n",
    "print(data_income)"
   ]
  },
  {
   "cell_type": "code",
   "execution_count": 38,
   "id": "a85a8d8b",
   "metadata": {},
   "outputs": [
    {
     "name": "stdout",
     "output_type": "stream",
     "text": [
      "                       quantity  quantity_debt  percentage\n",
      "total_income_category                                     \n",
      "A                            25              2    0.080000\n",
      "B                          5014            354    0.070602\n",
      "C                         15921           1353    0.084982\n",
      "D                           349             21    0.060172\n",
      "E                            22              2    0.090909\n"
     ]
    }
   ],
   "source": [
    "debt_income = pd.DataFrame() # Создадим новую таблицу\n",
    "debt_income['quantity'] = data.groupby('total_income_category')['debt'].count() # посчитаем общее количество клиентов разнесенное в зависисмости от категории дохода.\n",
    "debt_income['quantity_debt'] = data.groupby('total_income_category')['debt'].sum() # посчитаем количество просрочек в зависисомсти от категории дохода.\n",
    "debt_income['percentage'] = debt_income['quantity_debt'] / debt_income['quantity'] # найдем процентное соотношение этих величин\n",
    "print(debt_income)"
   ]
  },
  {
   "cell_type": "code",
   "execution_count": 39,
   "id": "cee5b9b6",
   "metadata": {},
   "outputs": [
    {
     "data": {
      "text/html": [
       "<div>\n",
       "<style scoped>\n",
       "    .dataframe tbody tr th:only-of-type {\n",
       "        vertical-align: middle;\n",
       "    }\n",
       "\n",
       "    .dataframe tbody tr th {\n",
       "        vertical-align: top;\n",
       "    }\n",
       "\n",
       "    .dataframe thead th {\n",
       "        text-align: right;\n",
       "    }\n",
       "</style>\n",
       "<table border=\"1\" class=\"dataframe\">\n",
       "  <thead>\n",
       "    <tr style=\"text-align: right;\">\n",
       "      <th></th>\n",
       "      <th>quantity</th>\n",
       "      <th>quantity_debt</th>\n",
       "      <th>percentage</th>\n",
       "    </tr>\n",
       "    <tr>\n",
       "      <th>total_income_category</th>\n",
       "      <th></th>\n",
       "      <th></th>\n",
       "      <th></th>\n",
       "    </tr>\n",
       "  </thead>\n",
       "  <tbody>\n",
       "    <tr>\n",
       "      <th>E</th>\n",
       "      <td>22</td>\n",
       "      <td>2</td>\n",
       "      <td>0.090909</td>\n",
       "    </tr>\n",
       "    <tr>\n",
       "      <th>C</th>\n",
       "      <td>15921</td>\n",
       "      <td>1353</td>\n",
       "      <td>0.084982</td>\n",
       "    </tr>\n",
       "    <tr>\n",
       "      <th>A</th>\n",
       "      <td>25</td>\n",
       "      <td>2</td>\n",
       "      <td>0.080000</td>\n",
       "    </tr>\n",
       "    <tr>\n",
       "      <th>B</th>\n",
       "      <td>5014</td>\n",
       "      <td>354</td>\n",
       "      <td>0.070602</td>\n",
       "    </tr>\n",
       "    <tr>\n",
       "      <th>D</th>\n",
       "      <td>349</td>\n",
       "      <td>21</td>\n",
       "      <td>0.060172</td>\n",
       "    </tr>\n",
       "  </tbody>\n",
       "</table>\n",
       "</div>"
      ],
      "text/plain": [
       "                       quantity  quantity_debt  percentage\n",
       "total_income_category                                     \n",
       "E                            22              2    0.090909\n",
       "C                         15921           1353    0.084982\n",
       "A                            25              2    0.080000\n",
       "B                          5014            354    0.070602\n",
       "D                           349             21    0.060172"
      ]
     },
     "execution_count": 39,
     "metadata": {},
     "output_type": "execute_result"
    }
   ],
   "source": [
    "debt_income.sort_values('percentage', ascending = False) # Отсортируем значения по убыванию"
   ]
  },
  {
   "cell_type": "markdown",
   "id": "ab53d8f8",
   "metadata": {
    "deletable": false,
    "id": "e8593def"
   },
   "source": [
    "**Вывод:** Прямой связи между уровнем дохода и вероятностью вернуть кредит не прослеживается. Категории A, E, D обладают малой выборкой и не являются репрезентативными.\n",
    "Можно еще сделать вывод, что люди имеющие доход от 50000 до 200000 самые многочисленные заемщики. Это может свидетельствовать о том, что данный диапазон является основным, то есть к нему относится большинство клиентов (так называемый средний класс). Люди получающие больше уже могут быть отнесены к богатым. Соответственно, можно сделать вывод, что вероятность вернуть кредит в срок у богатых людей больше."
   ]
  },
  {
   "cell_type": "markdown",
   "id": "b206cbc1",
   "metadata": {
    "deletable": false,
    "editable": false,
    "id": "99ecbd1f"
   },
   "source": [
    "#### 3.4 Как разные цели кредита влияют на его возврат в срок?"
   ]
  },
  {
   "cell_type": "code",
   "execution_count": 40,
   "id": "11ecc837",
   "metadata": {
    "deletable": false,
    "id": "2b687290"
   },
   "outputs": [
    {
     "name": "stdout",
     "output_type": "stream",
     "text": [
      "purpose_category          debt\n",
      "операции с автомобилем    0       3879\n",
      "                          1        400\n",
      "операции с недвижимостью  0       9971\n",
      "                          1        780\n",
      "получение образования     0       3619\n",
      "                          1        369\n",
      "проведение свадьбы        0       2130\n",
      "                          1        183\n",
      "Name: debt, dtype: int64\n"
     ]
    }
   ],
   "source": [
    "data_purpose = data.groupby('purpose_category')['debt'].value_counts() \n",
    "print(data_purpose) # Рассмотрим величин ."
   ]
  },
  {
   "cell_type": "code",
   "execution_count": 41,
   "id": "aa34597a",
   "metadata": {},
   "outputs": [
    {
     "data": {
      "text/html": [
       "<div>\n",
       "<style scoped>\n",
       "    .dataframe tbody tr th:only-of-type {\n",
       "        vertical-align: middle;\n",
       "    }\n",
       "\n",
       "    .dataframe tbody tr th {\n",
       "        vertical-align: top;\n",
       "    }\n",
       "\n",
       "    .dataframe thead th {\n",
       "        text-align: right;\n",
       "    }\n",
       "</style>\n",
       "<table border=\"1\" class=\"dataframe\">\n",
       "  <thead>\n",
       "    <tr style=\"text-align: right;\">\n",
       "      <th></th>\n",
       "      <th>quantity</th>\n",
       "      <th>quantity_debt</th>\n",
       "      <th>percentage</th>\n",
       "    </tr>\n",
       "    <tr>\n",
       "      <th>purpose_category</th>\n",
       "      <th></th>\n",
       "      <th></th>\n",
       "      <th></th>\n",
       "    </tr>\n",
       "  </thead>\n",
       "  <tbody>\n",
       "    <tr>\n",
       "      <th>операции с автомобилем</th>\n",
       "      <td>4279</td>\n",
       "      <td>400</td>\n",
       "      <td>0.093480</td>\n",
       "    </tr>\n",
       "    <tr>\n",
       "      <th>операции с недвижимостью</th>\n",
       "      <td>10751</td>\n",
       "      <td>780</td>\n",
       "      <td>0.072551</td>\n",
       "    </tr>\n",
       "    <tr>\n",
       "      <th>получение образования</th>\n",
       "      <td>3988</td>\n",
       "      <td>369</td>\n",
       "      <td>0.092528</td>\n",
       "    </tr>\n",
       "    <tr>\n",
       "      <th>проведение свадьбы</th>\n",
       "      <td>2313</td>\n",
       "      <td>183</td>\n",
       "      <td>0.079118</td>\n",
       "    </tr>\n",
       "  </tbody>\n",
       "</table>\n",
       "</div>"
      ],
      "text/plain": [
       "                          quantity  quantity_debt  percentage\n",
       "purpose_category                                             \n",
       "операции с автомобилем        4279            400    0.093480\n",
       "операции с недвижимостью     10751            780    0.072551\n",
       "получение образования         3988            369    0.092528\n",
       "проведение свадьбы            2313            183    0.079118"
      ]
     },
     "metadata": {},
     "output_type": "display_data"
    },
    {
     "data": {
      "text/html": [
       "<div>\n",
       "<style scoped>\n",
       "    .dataframe tbody tr th:only-of-type {\n",
       "        vertical-align: middle;\n",
       "    }\n",
       "\n",
       "    .dataframe tbody tr th {\n",
       "        vertical-align: top;\n",
       "    }\n",
       "\n",
       "    .dataframe thead th {\n",
       "        text-align: right;\n",
       "    }\n",
       "</style>\n",
       "<table border=\"1\" class=\"dataframe\">\n",
       "  <thead>\n",
       "    <tr style=\"text-align: right;\">\n",
       "      <th></th>\n",
       "      <th>quantity</th>\n",
       "      <th>quantity_debt</th>\n",
       "      <th>percentage</th>\n",
       "    </tr>\n",
       "    <tr>\n",
       "      <th>purpose_category</th>\n",
       "      <th></th>\n",
       "      <th></th>\n",
       "      <th></th>\n",
       "    </tr>\n",
       "  </thead>\n",
       "  <tbody>\n",
       "    <tr>\n",
       "      <th>операции с автомобилем</th>\n",
       "      <td>4279</td>\n",
       "      <td>400</td>\n",
       "      <td>0.093480</td>\n",
       "    </tr>\n",
       "    <tr>\n",
       "      <th>операции с недвижимостью</th>\n",
       "      <td>10751</td>\n",
       "      <td>780</td>\n",
       "      <td>0.072551</td>\n",
       "    </tr>\n",
       "    <tr>\n",
       "      <th>получение образования</th>\n",
       "      <td>3988</td>\n",
       "      <td>369</td>\n",
       "      <td>0.092528</td>\n",
       "    </tr>\n",
       "    <tr>\n",
       "      <th>проведение свадьбы</th>\n",
       "      <td>2313</td>\n",
       "      <td>183</td>\n",
       "      <td>0.079118</td>\n",
       "    </tr>\n",
       "  </tbody>\n",
       "</table>\n",
       "</div>"
      ],
      "text/plain": [
       "                          quantity  quantity_debt  percentage\n",
       "purpose_category                                             \n",
       "операции с автомобилем        4279            400    0.093480\n",
       "операции с недвижимостью     10751            780    0.072551\n",
       "получение образования         3988            369    0.092528\n",
       "проведение свадьбы            2313            183    0.079118"
      ]
     },
     "execution_count": 41,
     "metadata": {},
     "output_type": "execute_result"
    }
   ],
   "source": [
    "debt_purpose = pd.DataFrame() # Создадим новую таблицу\n",
    "debt_purpose['quantity'] = data.groupby('purpose_category')['debt'].count() # посчитаем общее количество клиентов разнесенное в зависисмости от цели кредита.\n",
    "debt_purpose['quantity_debt'] = data.groupby('purpose_category')['debt'].sum() # посчитаем количество просрочек в зависисомсти от цели кредита.\n",
    "debt_purpose['percentage'] = debt_purpose['quantity_debt'] / debt_purpose['quantity'] # найдем процентное соотношение этих величин\n",
    "display(debt_purpose)\n",
    "debt_purpose"
   ]
  },
  {
   "cell_type": "markdown",
   "id": "5d3fe4fe",
   "metadata": {
    "deletable": false,
    "id": "b4bb2ce6"
   },
   "source": [
    "**Вывод:** Кредиты, связанные с операциями с автомобилям и с получением образования имеют большую вероятность просрочки."
   ]
  },
  {
   "cell_type": "markdown",
   "id": "58a9cd7d",
   "metadata": {
    "deletable": false,
    "editable": false,
    "id": "6db5255a"
   },
   "source": [
    "### Шаг 4: общий вывод."
   ]
  },
  {
   "cell_type": "markdown",
   "id": "5a5f5b67",
   "metadata": {
    "deletable": false,
    "id": "bad65432"
   },
   "source": [
    "Исследование надежности заемщиков было основано на оценке массива информации, содержащего данные о поле, семейном положении, возрасте, уровне дохода и просрочках по кредиту заемщиков. \n",
    "На первоначальном этапе была проведена предобработка данных, которая установила наличие пропусков в данных о трудовом стаже и доходах клиентов. Эти пропуски были заменены на медианные показатели с учетом типа занятости клиентов.\n",
    "Далее были устранены аномалии, связанные с наличием отрицательного стажа и количества детей. Также перед проведением оценки соответствющие показатели переведены в количественные, данные приведены к единому регистру и удалены дубликаты в данных. Проведена категоризация клиентов по степени дохода и по цели кредита.\n",
    "\n",
    "Проведя исследование надежности заемщиков было установлено: \n",
    "\n",
    "- наличие детей повышает вероятность невыплаты кредита людьми, имеющими детей в среднем на 1,5%, по отношению к бездетным;\n",
    "\n",
    "- вероятность невозврата кредита для людей не состящих в браке выше, чем у семейных клиентов. При этом, люди находившиеся когда-либо в официальном браке вернут кредит с большей вероятностью;\n",
    "\n",
    "- вероятность возврата кредита зависит от цели, для которой он оформляется;\n",
    "\n",
    "- четкой корреляции между уровнем дохода клиента и вероятностью возврата кредита не установлено. При этом, существует вероятность, что люди среднего достатка будут иметь просрочки по кредиту, относительно богатых. \n",
    "\n",
    "Рекомендации: \n",
    "\n",
    "- при сборе информации о клиентах, сотрудникам проверять заполнение всех граф анкеты о клиенте;\n",
    "\n",
    "- провести проверку ввода, обработки и хранения информации в системе на наличие ошибок, приводящих к потере информации."
   ]
  }
 ],
 "metadata": {
  "ExecuteTimeLog": [
   {
    "duration": 737,
    "start_time": "2023-06-26T09:10:04.305Z"
   },
   {
    "duration": 28,
    "start_time": "2023-06-26T09:10:07.721Z"
   },
   {
    "duration": 16,
    "start_time": "2023-06-26T09:10:17.549Z"
   },
   {
    "duration": 11,
    "start_time": "2023-06-26T09:10:21.030Z"
   },
   {
    "duration": 48,
    "start_time": "2023-06-26T09:11:04.231Z"
   },
   {
    "duration": 5,
    "start_time": "2023-06-26T09:11:08.717Z"
   },
   {
    "duration": 9,
    "start_time": "2023-06-26T09:11:09.325Z"
   },
   {
    "duration": 5,
    "start_time": "2023-06-26T09:11:10.222Z"
   },
   {
    "duration": 9,
    "start_time": "2023-06-26T09:11:10.746Z"
   },
   {
    "duration": 6,
    "start_time": "2023-06-26T09:11:11.220Z"
   },
   {
    "duration": 53,
    "start_time": "2023-06-26T09:11:11.841Z"
   },
   {
    "duration": 17,
    "start_time": "2023-06-26T09:11:12.355Z"
   },
   {
    "duration": 5,
    "start_time": "2023-06-26T09:11:13.125Z"
   },
   {
    "duration": 18,
    "start_time": "2023-06-26T09:11:13.846Z"
   },
   {
    "duration": 36,
    "start_time": "2023-06-26T09:11:14.353Z"
   },
   {
    "duration": 31,
    "start_time": "2023-06-26T09:11:14.601Z"
   },
   {
    "duration": 13,
    "start_time": "2023-06-26T09:11:15.766Z"
   },
   {
    "duration": 13,
    "start_time": "2023-06-26T09:11:16.123Z"
   },
   {
    "duration": 8,
    "start_time": "2023-06-26T09:11:16.921Z"
   },
   {
    "duration": 8,
    "start_time": "2023-06-26T09:11:18.095Z"
   },
   {
    "duration": 21,
    "start_time": "2023-06-26T09:11:18.361Z"
   },
   {
    "duration": 4,
    "start_time": "2023-06-26T09:11:19.112Z"
   },
   {
    "duration": 11,
    "start_time": "2023-06-26T09:11:19.967Z"
   },
   {
    "duration": 6,
    "start_time": "2023-06-26T09:11:20.690Z"
   },
   {
    "duration": 3,
    "start_time": "2023-06-26T09:11:21.622Z"
   },
   {
    "duration": 6,
    "start_time": "2023-06-26T09:16:46.532Z"
   },
   {
    "duration": 121,
    "start_time": "2023-06-27T08:23:27.475Z"
   },
   {
    "duration": 1130,
    "start_time": "2023-06-27T08:23:41.983Z"
   },
   {
    "duration": 62,
    "start_time": "2023-06-27T08:23:43.131Z"
   },
   {
    "duration": 44,
    "start_time": "2023-06-27T08:23:43.201Z"
   },
   {
    "duration": 13,
    "start_time": "2023-06-27T08:23:43.621Z"
   },
   {
    "duration": 42,
    "start_time": "2023-06-27T08:23:44.016Z"
   },
   {
    "duration": 6,
    "start_time": "2023-06-27T08:23:44.620Z"
   },
   {
    "duration": 24,
    "start_time": "2023-06-27T08:23:45.082Z"
   },
   {
    "duration": 6,
    "start_time": "2023-06-27T08:23:45.704Z"
   },
   {
    "duration": 11,
    "start_time": "2023-06-27T08:23:46.220Z"
   },
   {
    "duration": 17,
    "start_time": "2023-06-27T08:23:46.672Z"
   },
   {
    "duration": 69,
    "start_time": "2023-06-27T08:23:47.418Z"
   },
   {
    "duration": 17,
    "start_time": "2023-06-27T08:23:47.916Z"
   },
   {
    "duration": 17,
    "start_time": "2023-06-27T08:23:49.430Z"
   },
   {
    "duration": 38,
    "start_time": "2023-06-27T08:23:50.030Z"
   },
   {
    "duration": 61,
    "start_time": "2023-06-27T08:23:50.448Z"
   },
   {
    "duration": 41,
    "start_time": "2023-06-27T08:23:50.673Z"
   },
   {
    "duration": 5,
    "start_time": "2023-06-27T08:23:51.235Z"
   },
   {
    "duration": 19,
    "start_time": "2023-06-27T08:23:51.471Z"
   },
   {
    "duration": 27,
    "start_time": "2023-06-27T08:23:51.874Z"
   },
   {
    "duration": 16,
    "start_time": "2023-06-27T08:23:52.343Z"
   },
   {
    "duration": 14,
    "start_time": "2023-06-27T08:23:52.620Z"
   },
   {
    "duration": 6,
    "start_time": "2023-06-27T08:23:55.631Z"
   },
   {
    "duration": 39,
    "start_time": "2023-06-27T08:27:26.120Z"
   },
   {
    "duration": 10,
    "start_time": "2023-06-27T08:27:43.416Z"
   },
   {
    "duration": 13,
    "start_time": "2023-06-27T08:27:57.376Z"
   },
   {
    "duration": 7,
    "start_time": "2023-06-27T08:35:55.775Z"
   },
   {
    "duration": 55,
    "start_time": "2023-06-27T08:37:10.283Z"
   },
   {
    "duration": 23,
    "start_time": "2023-06-27T08:37:29.811Z"
   },
   {
    "duration": 20,
    "start_time": "2023-06-27T08:38:14.429Z"
   },
   {
    "duration": 21,
    "start_time": "2023-06-27T08:38:49.620Z"
   },
   {
    "duration": 10,
    "start_time": "2023-06-27T08:39:03.136Z"
   },
   {
    "duration": 8,
    "start_time": "2023-06-27T08:39:06.016Z"
   },
   {
    "duration": 16,
    "start_time": "2023-06-27T08:39:06.919Z"
   },
   {
    "duration": 9,
    "start_time": "2023-06-27T08:39:37.630Z"
   },
   {
    "duration": 24,
    "start_time": "2023-06-27T08:45:05.698Z"
   },
   {
    "duration": 6,
    "start_time": "2023-06-27T08:54:58.043Z"
   },
   {
    "duration": 14,
    "start_time": "2023-06-27T08:54:58.662Z"
   },
   {
    "duration": 15,
    "start_time": "2023-06-27T08:56:05.926Z"
   },
   {
    "duration": 507,
    "start_time": "2023-06-27T08:57:40.323Z"
   },
   {
    "duration": 0,
    "start_time": "2023-06-27T08:58:07.143Z"
   },
   {
    "duration": 0,
    "start_time": "2023-06-27T08:58:18.292Z"
   },
   {
    "duration": 5,
    "start_time": "2023-06-27T08:58:20.630Z"
   },
   {
    "duration": 6,
    "start_time": "2023-06-27T08:58:22.313Z"
   },
   {
    "duration": 3823,
    "start_time": "2023-06-27T08:58:23.714Z"
   },
   {
    "duration": 8,
    "start_time": "2023-06-27T09:08:50.282Z"
   },
   {
    "duration": 7,
    "start_time": "2023-06-27T09:09:37.735Z"
   },
   {
    "duration": 9,
    "start_time": "2023-06-27T09:09:57.129Z"
   },
   {
    "duration": 23,
    "start_time": "2023-06-27T09:11:35.462Z"
   },
   {
    "duration": 6,
    "start_time": "2023-06-27T09:18:02.832Z"
   },
   {
    "duration": 6,
    "start_time": "2023-06-27T09:18:26.813Z"
   },
   {
    "duration": 8,
    "start_time": "2023-06-27T09:21:45.472Z"
   },
   {
    "duration": 14,
    "start_time": "2023-06-27T09:30:51.614Z"
   },
   {
    "duration": 43,
    "start_time": "2023-06-27T09:31:10.192Z"
   },
   {
    "duration": 25,
    "start_time": "2023-06-27T09:36:20.767Z"
   },
   {
    "duration": 13,
    "start_time": "2023-06-27T09:36:39.747Z"
   },
   {
    "duration": 14,
    "start_time": "2023-06-27T09:37:04.534Z"
   },
   {
    "duration": 6,
    "start_time": "2023-06-27T09:44:39.028Z"
   },
   {
    "duration": 535,
    "start_time": "2023-06-27T12:45:44.256Z"
   },
   {
    "duration": 21,
    "start_time": "2023-06-27T12:45:44.798Z"
   },
   {
    "duration": 13,
    "start_time": "2023-06-27T12:45:44.831Z"
   },
   {
    "duration": 10,
    "start_time": "2023-06-27T12:45:45.775Z"
   },
   {
    "duration": 35,
    "start_time": "2023-06-27T12:45:46.252Z"
   },
   {
    "duration": 4,
    "start_time": "2023-06-27T12:45:46.924Z"
   },
   {
    "duration": 8,
    "start_time": "2023-06-27T12:45:47.366Z"
   },
   {
    "duration": 4,
    "start_time": "2023-06-27T12:45:48.119Z"
   },
   {
    "duration": 8,
    "start_time": "2023-06-27T12:45:48.558Z"
   },
   {
    "duration": 4,
    "start_time": "2023-06-27T12:45:49.108Z"
   },
   {
    "duration": 32,
    "start_time": "2023-06-27T12:45:49.877Z"
   },
   {
    "duration": 9,
    "start_time": "2023-06-27T12:45:50.643Z"
   },
   {
    "duration": 3,
    "start_time": "2023-06-27T12:45:51.865Z"
   },
   {
    "duration": 10,
    "start_time": "2023-06-27T12:45:52.815Z"
   },
   {
    "duration": 18,
    "start_time": "2023-06-27T12:45:53.360Z"
   },
   {
    "duration": 16,
    "start_time": "2023-06-27T12:45:53.653Z"
   },
   {
    "duration": 3,
    "start_time": "2023-06-27T12:45:54.738Z"
   },
   {
    "duration": 9,
    "start_time": "2023-06-27T12:45:55.133Z"
   },
   {
    "duration": 7,
    "start_time": "2023-06-27T12:45:55.764Z"
   },
   {
    "duration": 3,
    "start_time": "2023-06-27T12:45:56.435Z"
   },
   {
    "duration": 8,
    "start_time": "2023-06-27T12:45:56.819Z"
   },
   {
    "duration": 4,
    "start_time": "2023-06-27T12:45:57.647Z"
   },
   {
    "duration": 6,
    "start_time": "2023-06-27T12:45:58.075Z"
   },
   {
    "duration": 6,
    "start_time": "2023-06-27T12:45:58.948Z"
   },
   {
    "duration": 7,
    "start_time": "2023-06-27T12:45:59.370Z"
   },
   {
    "duration": 12,
    "start_time": "2023-06-27T12:46:00.531Z"
   },
   {
    "duration": 7,
    "start_time": "2023-06-27T12:46:05.923Z"
   },
   {
    "duration": 4,
    "start_time": "2023-06-27T12:46:12.872Z"
   },
   {
    "duration": 6,
    "start_time": "2023-06-27T12:47:53.867Z"
   },
   {
    "duration": 8,
    "start_time": "2023-06-27T12:50:35.227Z"
   },
   {
    "duration": 15,
    "start_time": "2023-06-27T12:56:19.040Z"
   },
   {
    "duration": 65,
    "start_time": "2023-06-27T12:56:55.426Z"
   },
   {
    "duration": 13,
    "start_time": "2023-06-27T12:57:02.761Z"
   },
   {
    "duration": 12,
    "start_time": "2023-06-27T12:57:20.441Z"
   },
   {
    "duration": 13,
    "start_time": "2023-06-27T12:57:40.027Z"
   },
   {
    "duration": 6,
    "start_time": "2023-06-27T12:58:44.738Z"
   },
   {
    "duration": 15,
    "start_time": "2023-06-27T12:58:54.372Z"
   },
   {
    "duration": 15,
    "start_time": "2023-06-27T13:00:39.820Z"
   },
   {
    "duration": 13,
    "start_time": "2023-06-27T13:00:56.835Z"
   },
   {
    "duration": 5,
    "start_time": "2023-06-27T13:01:12.815Z"
   },
   {
    "duration": 10,
    "start_time": "2023-06-27T13:01:17.226Z"
   },
   {
    "duration": 73,
    "start_time": "2023-06-27T13:01:23.060Z"
   },
   {
    "duration": 49,
    "start_time": "2023-06-27T13:01:23.347Z"
   },
   {
    "duration": 19,
    "start_time": "2023-06-27T13:01:24.031Z"
   },
   {
    "duration": 14,
    "start_time": "2023-06-27T13:01:24.865Z"
   },
   {
    "duration": 10,
    "start_time": "2023-06-27T13:01:26.503Z"
   },
   {
    "duration": 32,
    "start_time": "2023-06-27T13:01:27.307Z"
   },
   {
    "duration": 3,
    "start_time": "2023-06-27T13:01:28.773Z"
   },
   {
    "duration": 8,
    "start_time": "2023-06-27T13:01:29.623Z"
   },
   {
    "duration": 5,
    "start_time": "2023-06-27T13:01:31.219Z"
   },
   {
    "duration": 6,
    "start_time": "2023-06-27T13:01:32.353Z"
   },
   {
    "duration": 5,
    "start_time": "2023-06-27T13:01:33.279Z"
   },
   {
    "duration": 31,
    "start_time": "2023-06-27T13:01:34.743Z"
   },
   {
    "duration": 10,
    "start_time": "2023-06-27T13:01:36.507Z"
   },
   {
    "duration": 4,
    "start_time": "2023-06-27T13:01:38.350Z"
   },
   {
    "duration": 16,
    "start_time": "2023-06-27T13:01:39.871Z"
   },
   {
    "duration": 18,
    "start_time": "2023-06-27T13:01:41.370Z"
   },
   {
    "duration": 17,
    "start_time": "2023-06-27T13:01:42.261Z"
   },
   {
    "duration": 3,
    "start_time": "2023-06-27T13:01:43.812Z"
   },
   {
    "duration": 13,
    "start_time": "2023-06-27T13:01:44.111Z"
   },
   {
    "duration": 6,
    "start_time": "2023-06-27T13:01:44.615Z"
   },
   {
    "duration": 3,
    "start_time": "2023-06-27T13:01:45.120Z"
   },
   {
    "duration": 9,
    "start_time": "2023-06-27T13:01:45.519Z"
   },
   {
    "duration": 5,
    "start_time": "2023-06-27T13:01:46.418Z"
   },
   {
    "duration": 5,
    "start_time": "2023-06-27T13:01:48.407Z"
   },
   {
    "duration": 6,
    "start_time": "2023-06-27T13:01:49.815Z"
   },
   {
    "duration": 5,
    "start_time": "2023-06-27T13:01:57.139Z"
   },
   {
    "duration": 5,
    "start_time": "2023-06-27T13:01:59.247Z"
   },
   {
    "duration": 5,
    "start_time": "2023-06-27T13:02:00.927Z"
   },
   {
    "duration": 9,
    "start_time": "2023-06-27T13:02:02.520Z"
   },
   {
    "duration": 10,
    "start_time": "2023-06-27T13:02:04.011Z"
   },
   {
    "duration": 5,
    "start_time": "2023-06-27T13:02:05.136Z"
   },
   {
    "duration": 8,
    "start_time": "2023-06-27T13:02:07.222Z"
   },
   {
    "duration": 12,
    "start_time": "2023-06-27T13:02:08.160Z"
   },
   {
    "duration": 16,
    "start_time": "2023-06-27T13:02:11.070Z"
   },
   {
    "duration": 12,
    "start_time": "2023-06-27T13:02:17.553Z"
   },
   {
    "duration": 15,
    "start_time": "2023-06-27T13:02:48.654Z"
   },
   {
    "duration": 16,
    "start_time": "2023-06-27T13:03:31.039Z"
   },
   {
    "duration": 13,
    "start_time": "2023-06-27T13:04:00.549Z"
   },
   {
    "duration": 14,
    "start_time": "2023-06-27T13:04:08.551Z"
   },
   {
    "duration": 21,
    "start_time": "2023-06-27T13:04:20.220Z"
   },
   {
    "duration": 13,
    "start_time": "2023-06-27T13:04:46.339Z"
   },
   {
    "duration": 3,
    "start_time": "2023-06-27T13:06:37.341Z"
   },
   {
    "duration": 4,
    "start_time": "2023-06-27T13:06:38.266Z"
   },
   {
    "duration": 7,
    "start_time": "2023-06-27T13:06:43.308Z"
   },
   {
    "duration": 14,
    "start_time": "2023-06-27T13:08:12.341Z"
   },
   {
    "duration": 5,
    "start_time": "2023-06-27T13:08:35.447Z"
   },
   {
    "duration": 15,
    "start_time": "2023-06-27T13:08:51.720Z"
   },
   {
    "duration": 13,
    "start_time": "2023-06-27T13:09:00.871Z"
   },
   {
    "duration": 13,
    "start_time": "2023-06-27T13:09:06.219Z"
   },
   {
    "duration": 4,
    "start_time": "2023-06-27T13:09:08.767Z"
   },
   {
    "duration": 1083,
    "start_time": "2023-06-27T13:10:38.620Z"
   },
   {
    "duration": 1097,
    "start_time": "2023-06-27T13:10:45.739Z"
   },
   {
    "duration": 70,
    "start_time": "2023-06-27T13:11:23.351Z"
   },
   {
    "duration": 5,
    "start_time": "2023-06-27T13:13:10.158Z"
   },
   {
    "duration": 4,
    "start_time": "2023-06-27T13:13:46.362Z"
   },
   {
    "duration": 4,
    "start_time": "2023-06-27T13:13:57.116Z"
   },
   {
    "duration": 4,
    "start_time": "2023-06-27T13:14:37.121Z"
   },
   {
    "duration": 4,
    "start_time": "2023-06-27T13:15:23.840Z"
   },
   {
    "duration": 6,
    "start_time": "2023-06-27T13:15:54.352Z"
   },
   {
    "duration": 61,
    "start_time": "2023-06-27T13:25:20.916Z"
   },
   {
    "duration": 6,
    "start_time": "2023-06-27T13:34:15.915Z"
   },
   {
    "duration": 4,
    "start_time": "2023-06-27T13:35:37.916Z"
   },
   {
    "duration": 5,
    "start_time": "2023-06-27T13:36:18.740Z"
   },
   {
    "duration": 8,
    "start_time": "2023-06-27T13:39:51.216Z"
   },
   {
    "duration": 7,
    "start_time": "2023-06-27T13:40:17.912Z"
   },
   {
    "duration": 13,
    "start_time": "2023-06-27T13:40:27.916Z"
   },
   {
    "duration": 9,
    "start_time": "2023-06-27T13:40:28.834Z"
   },
   {
    "duration": 14,
    "start_time": "2023-06-27T13:42:22.551Z"
   },
   {
    "duration": 6,
    "start_time": "2023-06-27T13:42:29.550Z"
   },
   {
    "duration": 6,
    "start_time": "2023-06-27T13:42:35.815Z"
   },
   {
    "duration": 11,
    "start_time": "2023-06-27T13:42:41.061Z"
   },
   {
    "duration": 5,
    "start_time": "2023-06-27T13:42:42.112Z"
   },
   {
    "duration": 5,
    "start_time": "2023-06-27T13:42:54.247Z"
   },
   {
    "duration": 4,
    "start_time": "2023-06-27T13:42:59.604Z"
   },
   {
    "duration": 4,
    "start_time": "2023-06-27T13:43:03.671Z"
   },
   {
    "duration": 6,
    "start_time": "2023-06-27T13:48:44.051Z"
   },
   {
    "duration": 7,
    "start_time": "2023-06-27T13:49:09.919Z"
   },
   {
    "duration": 62,
    "start_time": "2023-06-27T13:49:39.259Z"
   },
   {
    "duration": 8,
    "start_time": "2023-06-27T13:52:15.315Z"
   },
   {
    "duration": 12,
    "start_time": "2023-06-27T13:54:01.633Z"
   },
   {
    "duration": 8,
    "start_time": "2023-06-27T13:55:09.922Z"
   },
   {
    "duration": 8,
    "start_time": "2023-06-27T14:02:07.133Z"
   },
   {
    "duration": 20,
    "start_time": "2023-06-27T14:05:27.134Z"
   },
   {
    "duration": 989,
    "start_time": "2023-06-28T08:16:43.337Z"
   },
   {
    "duration": 40,
    "start_time": "2023-06-28T08:16:44.328Z"
   },
   {
    "duration": 24,
    "start_time": "2023-06-28T08:16:44.371Z"
   },
   {
    "duration": 18,
    "start_time": "2023-06-28T08:16:45.145Z"
   },
   {
    "duration": 38,
    "start_time": "2023-06-28T08:16:45.538Z"
   },
   {
    "duration": 10,
    "start_time": "2023-06-28T08:16:46.229Z"
   },
   {
    "duration": 9,
    "start_time": "2023-06-28T08:16:46.739Z"
   },
   {
    "duration": 5,
    "start_time": "2023-06-28T08:16:47.270Z"
   },
   {
    "duration": 16,
    "start_time": "2023-06-28T08:16:47.725Z"
   },
   {
    "duration": 7,
    "start_time": "2023-06-28T08:16:48.139Z"
   },
   {
    "duration": 49,
    "start_time": "2023-06-28T08:16:48.777Z"
   },
   {
    "duration": 17,
    "start_time": "2023-06-28T08:16:49.224Z"
   },
   {
    "duration": 6,
    "start_time": "2023-06-28T08:16:49.833Z"
   },
   {
    "duration": 23,
    "start_time": "2023-06-28T08:16:50.525Z"
   },
   {
    "duration": 25,
    "start_time": "2023-06-28T08:16:50.928Z"
   },
   {
    "duration": 25,
    "start_time": "2023-06-28T08:16:51.148Z"
   },
   {
    "duration": 4,
    "start_time": "2023-06-28T08:16:51.777Z"
   },
   {
    "duration": 18,
    "start_time": "2023-06-28T08:16:51.978Z"
   },
   {
    "duration": 9,
    "start_time": "2023-06-28T08:16:52.439Z"
   },
   {
    "duration": 5,
    "start_time": "2023-06-28T08:16:52.880Z"
   },
   {
    "duration": 17,
    "start_time": "2023-06-28T08:16:53.122Z"
   },
   {
    "duration": 9,
    "start_time": "2023-06-28T08:16:53.837Z"
   },
   {
    "duration": 12,
    "start_time": "2023-06-28T08:16:54.124Z"
   },
   {
    "duration": 10,
    "start_time": "2023-06-28T08:16:54.329Z"
   },
   {
    "duration": 6,
    "start_time": "2023-06-28T08:16:54.547Z"
   },
   {
    "duration": 19,
    "start_time": "2023-06-28T08:16:54.834Z"
   },
   {
    "duration": 13,
    "start_time": "2023-06-28T08:16:55.166Z"
   },
   {
    "duration": 7,
    "start_time": "2023-06-28T08:16:55.481Z"
   },
   {
    "duration": 8,
    "start_time": "2023-06-28T08:16:56.265Z"
   },
   {
    "duration": 24,
    "start_time": "2023-06-28T08:16:56.526Z"
   },
   {
    "duration": 13,
    "start_time": "2023-06-28T08:16:56.748Z"
   },
   {
    "duration": 8,
    "start_time": "2023-06-28T08:16:57.041Z"
   },
   {
    "duration": 7,
    "start_time": "2023-06-28T08:16:57.240Z"
   },
   {
    "duration": 5,
    "start_time": "2023-06-28T08:16:57.472Z"
   },
   {
    "duration": 11,
    "start_time": "2023-06-28T08:16:58.254Z"
   },
   {
    "duration": 21,
    "start_time": "2023-06-28T08:16:58.828Z"
   },
   {
    "duration": 10,
    "start_time": "2023-06-28T08:16:59.146Z"
   },
   {
    "duration": 21,
    "start_time": "2023-06-28T08:17:00.522Z"
   },
   {
    "duration": 16,
    "start_time": "2023-06-28T08:17:01.030Z"
   },
   {
    "duration": 506,
    "start_time": "2023-06-28T11:27:59.035Z"
   },
   {
    "duration": 20,
    "start_time": "2023-06-28T11:27:59.543Z"
   },
   {
    "duration": 14,
    "start_time": "2023-06-28T11:27:59.564Z"
   },
   {
    "duration": 8,
    "start_time": "2023-06-28T11:27:59.580Z"
   },
   {
    "duration": 31,
    "start_time": "2023-06-28T11:27:59.590Z"
   },
   {
    "duration": 4,
    "start_time": "2023-06-28T11:27:59.623Z"
   },
   {
    "duration": 14,
    "start_time": "2023-06-28T11:27:59.628Z"
   },
   {
    "duration": 10,
    "start_time": "2023-06-28T11:27:59.644Z"
   },
   {
    "duration": 6,
    "start_time": "2023-06-28T11:27:59.668Z"
   },
   {
    "duration": 18,
    "start_time": "2023-06-28T11:27:59.676Z"
   },
   {
    "duration": 39,
    "start_time": "2023-06-28T11:27:59.695Z"
   },
   {
    "duration": 8,
    "start_time": "2023-06-28T11:27:59.736Z"
   },
   {
    "duration": 22,
    "start_time": "2023-06-28T11:27:59.746Z"
   },
   {
    "duration": 11,
    "start_time": "2023-06-28T11:27:59.771Z"
   },
   {
    "duration": 20,
    "start_time": "2023-06-28T11:27:59.783Z"
   },
   {
    "duration": 16,
    "start_time": "2023-06-28T11:27:59.804Z"
   },
   {
    "duration": 3,
    "start_time": "2023-06-28T11:27:59.822Z"
   },
   {
    "duration": 16,
    "start_time": "2023-06-28T11:27:59.827Z"
   },
   {
    "duration": 26,
    "start_time": "2023-06-28T11:27:59.844Z"
   },
   {
    "duration": 6,
    "start_time": "2023-06-28T11:27:59.871Z"
   },
   {
    "duration": 9,
    "start_time": "2023-06-28T11:27:59.879Z"
   },
   {
    "duration": 4,
    "start_time": "2023-06-28T11:27:59.890Z"
   },
   {
    "duration": 10,
    "start_time": "2023-06-28T11:27:59.895Z"
   },
   {
    "duration": 7,
    "start_time": "2023-06-28T11:27:59.906Z"
   },
   {
    "duration": 20,
    "start_time": "2023-06-28T11:27:59.914Z"
   },
   {
    "duration": 11,
    "start_time": "2023-06-28T11:27:59.935Z"
   },
   {
    "duration": 23,
    "start_time": "2023-06-28T11:27:59.947Z"
   },
   {
    "duration": 14,
    "start_time": "2023-06-28T11:27:59.971Z"
   },
   {
    "duration": 10,
    "start_time": "2023-06-28T11:27:59.986Z"
   },
   {
    "duration": 12,
    "start_time": "2023-06-28T11:27:59.998Z"
   },
   {
    "duration": 49,
    "start_time": "2023-06-28T11:28:00.011Z"
   },
   {
    "duration": 58,
    "start_time": "2023-06-28T11:28:00.062Z"
   },
   {
    "duration": 40,
    "start_time": "2023-06-28T11:28:00.122Z"
   },
   {
    "duration": 65,
    "start_time": "2023-06-28T11:28:00.164Z"
   },
   {
    "duration": 28,
    "start_time": "2023-06-28T11:28:00.230Z"
   },
   {
    "duration": 30,
    "start_time": "2023-06-28T11:28:00.259Z"
   },
   {
    "duration": 29,
    "start_time": "2023-06-28T11:28:00.291Z"
   },
   {
    "duration": 90,
    "start_time": "2023-06-28T11:28:00.321Z"
   },
   {
    "duration": 40,
    "start_time": "2023-06-28T11:28:00.413Z"
   },
   {
    "duration": 10,
    "start_time": "2023-06-28T11:30:19.929Z"
   },
   {
    "duration": 87,
    "start_time": "2023-06-28T11:55:25.925Z"
   },
   {
    "duration": 136,
    "start_time": "2023-06-28T12:00:39.415Z"
   },
   {
    "duration": 548,
    "start_time": "2023-06-28T12:00:46.915Z"
   },
   {
    "duration": 25,
    "start_time": "2023-06-28T12:00:47.465Z"
   },
   {
    "duration": 24,
    "start_time": "2023-06-28T12:00:47.883Z"
   },
   {
    "duration": 12,
    "start_time": "2023-06-28T12:00:48.739Z"
   },
   {
    "duration": 43,
    "start_time": "2023-06-28T12:00:49.128Z"
   },
   {
    "duration": 4,
    "start_time": "2023-06-28T12:00:49.761Z"
   },
   {
    "duration": 11,
    "start_time": "2023-06-28T12:00:50.182Z"
   },
   {
    "duration": 6,
    "start_time": "2023-06-28T12:00:50.828Z"
   },
   {
    "duration": 9,
    "start_time": "2023-06-28T12:00:51.222Z"
   },
   {
    "duration": 7,
    "start_time": "2023-06-28T12:00:51.617Z"
   },
   {
    "duration": 40,
    "start_time": "2023-06-28T12:00:52.221Z"
   },
   {
    "duration": 12,
    "start_time": "2023-06-28T12:00:52.616Z"
   },
   {
    "duration": 5,
    "start_time": "2023-06-28T12:00:53.228Z"
   },
   {
    "duration": 19,
    "start_time": "2023-06-28T12:00:53.763Z"
   },
   {
    "duration": 32,
    "start_time": "2023-06-28T12:00:54.145Z"
   },
   {
    "duration": 27,
    "start_time": "2023-06-28T12:00:54.346Z"
   },
   {
    "duration": 5,
    "start_time": "2023-06-28T12:00:54.929Z"
   },
   {
    "duration": 11,
    "start_time": "2023-06-28T12:00:55.120Z"
   },
   {
    "duration": 7,
    "start_time": "2023-06-28T12:00:55.534Z"
   },
   {
    "duration": 5,
    "start_time": "2023-06-28T12:00:55.958Z"
   },
   {
    "duration": 14,
    "start_time": "2023-06-28T12:00:56.162Z"
   },
   {
    "duration": 6,
    "start_time": "2023-06-28T12:00:56.769Z"
   },
   {
    "duration": 9,
    "start_time": "2023-06-28T12:00:56.953Z"
   },
   {
    "duration": 8,
    "start_time": "2023-06-28T12:00:57.186Z"
   },
   {
    "duration": 7,
    "start_time": "2023-06-28T12:00:57.412Z"
   },
   {
    "duration": 16,
    "start_time": "2023-06-28T12:00:57.619Z"
   },
   {
    "duration": 13,
    "start_time": "2023-06-28T12:00:57.824Z"
   },
   {
    "duration": 15,
    "start_time": "2023-06-28T12:00:58.417Z"
   },
   {
    "duration": 6,
    "start_time": "2023-06-28T12:00:59.451Z"
   },
   {
    "duration": 7,
    "start_time": "2023-06-28T12:01:01.225Z"
   },
   {
    "duration": 16,
    "start_time": "2023-06-28T12:01:02.622Z"
   },
   {
    "duration": 10,
    "start_time": "2023-06-28T12:01:02.953Z"
   },
   {
    "duration": 9,
    "start_time": "2023-06-28T12:01:03.171Z"
   },
   {
    "duration": 8,
    "start_time": "2023-06-28T12:01:03.412Z"
   },
   {
    "duration": 8,
    "start_time": "2023-06-28T12:01:04.156Z"
   },
   {
    "duration": 139,
    "start_time": "2023-06-28T12:01:04.660Z"
   },
   {
    "duration": 5,
    "start_time": "2023-06-28T12:01:11.828Z"
   },
   {
    "duration": 199,
    "start_time": "2023-06-28T12:15:01.834Z"
   },
   {
    "duration": 19,
    "start_time": "2023-06-28T12:20:01.336Z"
   },
   {
    "duration": 34,
    "start_time": "2023-06-28T12:20:25.855Z"
   },
   {
    "duration": 6,
    "start_time": "2023-06-28T12:56:37.990Z"
   },
   {
    "duration": 85,
    "start_time": "2023-06-28T12:56:47.064Z"
   },
   {
    "duration": 24,
    "start_time": "2023-06-28T12:57:25.164Z"
   },
   {
    "duration": 1421,
    "start_time": "2023-06-28T12:58:32.782Z"
   },
   {
    "duration": 953,
    "start_time": "2023-06-29T06:03:41.313Z"
   },
   {
    "duration": 37,
    "start_time": "2023-06-29T06:03:42.269Z"
   },
   {
    "duration": 23,
    "start_time": "2023-06-29T06:03:42.309Z"
   },
   {
    "duration": 18,
    "start_time": "2023-06-29T06:03:43.166Z"
   },
   {
    "duration": 3256,
    "start_time": "2023-06-29T06:03:44.408Z"
   },
   {
    "duration": 18,
    "start_time": "2023-06-29T06:04:52.270Z"
   },
   {
    "duration": 41,
    "start_time": "2023-06-29T06:05:08.735Z"
   },
   {
    "duration": 47,
    "start_time": "2023-06-29T06:05:11.235Z"
   },
   {
    "duration": 4,
    "start_time": "2023-06-29T06:05:13.105Z"
   },
   {
    "duration": 8,
    "start_time": "2023-06-29T06:05:13.887Z"
   },
   {
    "duration": 5,
    "start_time": "2023-06-29T06:05:15.044Z"
   },
   {
    "duration": 8,
    "start_time": "2023-06-29T06:05:15.834Z"
   },
   {
    "duration": 5,
    "start_time": "2023-06-29T06:05:16.335Z"
   },
   {
    "duration": 35,
    "start_time": "2023-06-29T06:05:17.370Z"
   },
   {
    "duration": 10,
    "start_time": "2023-06-29T06:05:17.484Z"
   },
   {
    "duration": 5,
    "start_time": "2023-06-29T06:05:18.025Z"
   },
   {
    "duration": 15,
    "start_time": "2023-06-29T06:05:18.515Z"
   },
   {
    "duration": 23,
    "start_time": "2023-06-29T06:05:18.895Z"
   },
   {
    "duration": 20,
    "start_time": "2023-06-29T06:05:19.096Z"
   },
   {
    "duration": 3,
    "start_time": "2023-06-29T06:05:19.634Z"
   },
   {
    "duration": 11,
    "start_time": "2023-06-29T06:05:19.814Z"
   },
   {
    "duration": 6,
    "start_time": "2023-06-29T06:05:20.224Z"
   },
   {
    "duration": 4,
    "start_time": "2023-06-29T06:05:20.703Z"
   },
   {
    "duration": 14,
    "start_time": "2023-06-29T06:05:20.924Z"
   },
   {
    "duration": 6,
    "start_time": "2023-06-29T06:05:21.596Z"
   },
   {
    "duration": 8,
    "start_time": "2023-06-29T06:05:21.794Z"
   },
   {
    "duration": 7,
    "start_time": "2023-06-29T06:05:22.015Z"
   },
   {
    "duration": 20,
    "start_time": "2023-06-29T06:05:22.249Z"
   },
   {
    "duration": 15,
    "start_time": "2023-06-29T06:05:22.470Z"
   },
   {
    "duration": 12,
    "start_time": "2023-06-29T06:05:22.686Z"
   },
   {
    "duration": 16,
    "start_time": "2023-06-29T06:05:23.695Z"
   },
   {
    "duration": 6,
    "start_time": "2023-06-29T06:05:24.532Z"
   },
   {
    "duration": 10,
    "start_time": "2023-06-29T06:05:25.834Z"
   },
   {
    "duration": 18,
    "start_time": "2023-06-29T06:05:26.110Z"
   },
   {
    "duration": 12,
    "start_time": "2023-06-29T06:05:26.407Z"
   },
   {
    "duration": 6,
    "start_time": "2023-06-29T06:05:26.675Z"
   },
   {
    "duration": 5,
    "start_time": "2023-06-29T06:05:27.476Z"
   },
   {
    "duration": 5,
    "start_time": "2023-06-29T06:05:27.825Z"
   },
   {
    "duration": 5,
    "start_time": "2023-06-29T06:05:28.136Z"
   },
   {
    "duration": 11,
    "start_time": "2023-06-29T06:05:30.676Z"
   },
   {
    "duration": 24,
    "start_time": "2023-06-29T06:05:31.251Z"
   },
   {
    "duration": 9,
    "start_time": "2023-06-29T06:05:31.825Z"
   },
   {
    "duration": 9,
    "start_time": "2023-06-29T06:05:47.804Z"
   },
   {
    "duration": 24,
    "start_time": "2023-06-29T06:05:48.626Z"
   },
   {
    "duration": 804,
    "start_time": "2023-06-29T15:12:47.432Z"
   },
   {
    "duration": 35,
    "start_time": "2023-06-29T15:12:48.238Z"
   },
   {
    "duration": 35,
    "start_time": "2023-06-29T15:12:48.275Z"
   },
   {
    "duration": 13,
    "start_time": "2023-06-29T15:12:48.312Z"
   },
   {
    "duration": 53,
    "start_time": "2023-06-29T15:12:48.328Z"
   },
   {
    "duration": 4,
    "start_time": "2023-06-29T15:12:48.383Z"
   },
   {
    "duration": 23,
    "start_time": "2023-06-29T15:12:48.390Z"
   },
   {
    "duration": 10,
    "start_time": "2023-06-29T15:12:48.415Z"
   },
   {
    "duration": 13,
    "start_time": "2023-06-29T15:12:48.427Z"
   },
   {
    "duration": 11,
    "start_time": "2023-06-29T15:12:48.442Z"
   },
   {
    "duration": 57,
    "start_time": "2023-06-29T15:12:48.456Z"
   },
   {
    "duration": 11,
    "start_time": "2023-06-29T15:12:48.515Z"
   },
   {
    "duration": 18,
    "start_time": "2023-06-29T15:12:48.527Z"
   },
   {
    "duration": 34,
    "start_time": "2023-06-29T15:12:48.553Z"
   },
   {
    "duration": 31,
    "start_time": "2023-06-29T15:12:48.590Z"
   },
   {
    "duration": 20,
    "start_time": "2023-06-29T15:12:48.623Z"
   },
   {
    "duration": 4,
    "start_time": "2023-06-29T15:12:48.644Z"
   },
   {
    "duration": 37,
    "start_time": "2023-06-29T15:12:48.652Z"
   },
   {
    "duration": 7,
    "start_time": "2023-06-29T15:12:48.691Z"
   },
   {
    "duration": 17,
    "start_time": "2023-06-29T15:12:48.700Z"
   },
   {
    "duration": 17,
    "start_time": "2023-06-29T15:12:48.719Z"
   },
   {
    "duration": 10,
    "start_time": "2023-06-29T15:12:48.738Z"
   },
   {
    "duration": 30,
    "start_time": "2023-06-29T15:12:48.749Z"
   },
   {
    "duration": 10,
    "start_time": "2023-06-29T15:12:48.782Z"
   },
   {
    "duration": 21,
    "start_time": "2023-06-29T15:12:48.794Z"
   },
   {
    "duration": 16,
    "start_time": "2023-06-29T15:12:48.817Z"
   },
   {
    "duration": 36,
    "start_time": "2023-06-29T15:12:48.835Z"
   },
   {
    "duration": 25,
    "start_time": "2023-06-29T15:12:48.872Z"
   },
   {
    "duration": 9,
    "start_time": "2023-06-29T15:12:48.899Z"
   },
   {
    "duration": 16,
    "start_time": "2023-06-29T15:12:48.910Z"
   },
   {
    "duration": 14,
    "start_time": "2023-06-29T15:12:48.928Z"
   },
   {
    "duration": 11,
    "start_time": "2023-06-29T15:12:48.944Z"
   },
   {
    "duration": 25,
    "start_time": "2023-06-29T15:12:48.957Z"
   },
   {
    "duration": 8,
    "start_time": "2023-06-29T15:12:48.984Z"
   },
   {
    "duration": 12,
    "start_time": "2023-06-29T15:12:48.994Z"
   },
   {
    "duration": 18,
    "start_time": "2023-06-29T15:12:49.008Z"
   },
   {
    "duration": 14,
    "start_time": "2023-06-29T15:12:49.028Z"
   },
   {
    "duration": 63,
    "start_time": "2023-06-29T15:12:49.044Z"
   },
   {
    "duration": 55,
    "start_time": "2023-06-29T15:12:49.109Z"
   },
   {
    "duration": 56,
    "start_time": "2023-06-29T15:12:49.167Z"
   },
   {
    "duration": 52,
    "start_time": "2023-06-29T15:12:49.228Z"
   },
   {
    "duration": 89,
    "start_time": "2023-06-29T15:13:29.604Z"
   }
  ],
  "colab": {
   "name": "dpp_template_part2.ipynb",
   "provenance": []
  },
  "kernelspec": {
   "display_name": "Python 3 (ipykernel)",
   "language": "python",
   "name": "python3"
  },
  "language_info": {
   "codemirror_mode": {
    "name": "ipython",
    "version": 3
   },
   "file_extension": ".py",
   "mimetype": "text/x-python",
   "name": "python",
   "nbconvert_exporter": "python",
   "pygments_lexer": "ipython3",
   "version": "3.9.5"
  },
  "toc": {
   "base_numbering": 1,
   "nav_menu": {},
   "number_sections": true,
   "sideBar": true,
   "skip_h1_title": true,
   "title_cell": "Table of Contents",
   "title_sidebar": "Contents",
   "toc_cell": false,
   "toc_position": {},
   "toc_section_display": true,
   "toc_window_display": true
  }
 },
 "nbformat": 4,
 "nbformat_minor": 5
}
