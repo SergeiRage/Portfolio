{
 "cells": [
  {
   "cell_type": "markdown",
   "id": "7cf56985",
   "metadata": {},
   "source": [
    "1. Посчитайте, сколько компаний закрылось."
   ]
  },
  {
   "cell_type": "code",
   "execution_count": null,
   "id": "66701f21",
   "metadata": {
    "scrolled": true
   },
   "outputs": [],
   "source": [
    "SELECT COUNT(id)\n",
    "FROM company\n",
    "WHERE status='closed'"
   ]
  },
  {
   "cell_type": "markdown",
   "id": "f40da101",
   "metadata": {},
   "source": [
    "2. Отобразите количество привлечённых средств для новостных компаний США. Используйте данные из таблицы company. Отсортируйте таблицу по убыванию значений в поле funding_total ."
   ]
  },
  {
   "cell_type": "code",
   "execution_count": null,
   "id": "d3babf08",
   "metadata": {},
   "outputs": [],
   "source": [
    "SELECT funding_total\n",
    "FROM company\n",
    "WHERE category_code='news' AND country_code='USA'\n",
    "ORDER BY funding_total DESC"
   ]
  },
  {
   "cell_type": "markdown",
   "id": "a4395bd6",
   "metadata": {},
   "source": [
    "3. Найдите общую сумму сделок по покупке одних компаний другими в долларах. Отберите сделки, которые осуществлялись только за наличные с 2011 по 2013 год включительно."
   ]
  },
  {
   "cell_type": "code",
   "execution_count": null,
   "id": "a0026df4",
   "metadata": {},
   "outputs": [],
   "source": [
    "SELECT SUM(price_amount)\n",
    "FROM acquisition\n",
    "WHERE term_code='cash' AND acquired_at BETWEEN '2011-01-01' AND '2013-12-31'"
   ]
  },
  {
   "cell_type": "markdown",
   "id": "fc36ff16",
   "metadata": {},
   "source": [
    "4. Отобразите имя, фамилию и названия аккаунтов людей в твиттере, у которых названия аккаунтов начинаются на 'Silver'.\n"
   ]
  },
  {
   "cell_type": "code",
   "execution_count": null,
   "id": "718e7336",
   "metadata": {},
   "outputs": [],
   "source": [
    "SELECT first_name, last_name, twitter_username\n",
    "FROM people\n",
    "WHERE twitter_username LIKE 'Silver%'"
   ]
  },
  {
   "cell_type": "markdown",
   "id": "9f1e2f9f",
   "metadata": {},
   "source": [
    "5. Выведите на экран всю информацию о людях, у которых названия аккаунтов в твиттере содержат подстроку 'money', а фамилия начинается на 'K'."
   ]
  },
  {
   "cell_type": "code",
   "execution_count": null,
   "id": "d15a9b5e",
   "metadata": {},
   "outputs": [],
   "source": [
    "SELECT *\n",
    "FROM people\n",
    "WHERE twitter_username LIKE '%money%' AND last_name LIKE 'K%'"
   ]
  },
  {
   "cell_type": "markdown",
   "id": "1bc78619",
   "metadata": {},
   "source": [
    "6. Для каждой страны отобразите общую сумму привлечённых инвестиций, которые получили компании, зарегистрированные в этой стране. Страну, в которой зарегистрирована компания, можно определить по коду страны. Отсортируйте данные по убыванию суммы."
   ]
  },
  {
   "cell_type": "code",
   "execution_count": null,
   "id": "bfecfa66",
   "metadata": {},
   "outputs": [],
   "source": [
    "SELECT country_code, SUM(funding_total)\n",
    "FROM company\n",
    "GROUP BY country_code\n",
    "ORDER BY SUM(funding_total) DESC"
   ]
  },
  {
   "cell_type": "markdown",
   "id": "bb69f9dd",
   "metadata": {},
   "source": [
    "7. Составьте таблицу, в которую войдёт дата проведения раунда, а также минимальное и максимальное значения суммы инвестиций, привлечённых в эту дату. Оставьте в итоговой таблице только те записи, в которых минимальное значение суммы инвестиций не равно нулю и не равно максимальному значению."
   ]
  },
  {
   "cell_type": "code",
   "execution_count": null,
   "id": "99ae6a30",
   "metadata": {},
   "outputs": [],
   "source": [
    "SELECT funded_at, MIN(raised_amount), MAX(raised_amount)\n",
    "FROM funding_round\n",
    "GROUP BY funded_at\n",
    "HAVING MIN(raised_amount)<>0 AND MIN(raised_amount)<>MAX(raised_amount)"
   ]
  },
  {
   "cell_type": "markdown",
   "id": "d2f80150",
   "metadata": {},
   "source": [
    "8.\n",
    "\n",
    "Создайте поле с категориями:\n",
    "- Для фондов, которые инвестируют в 100 и более компаний, назначьте категорию high_activity.\n",
    "- Для фондов, которые инвестируют в 20 и более компаний до 100, назначьте категорию middle_activity.\n",
    "- Если количество инвестируемых компаний фонда не достигает 20, назначьте категорию low_activity.\n",
    "\n",
    "Отобразите все поля таблицы fund и новое поле с категориями."
   ]
  },
  {
   "cell_type": "code",
   "execution_count": null,
   "id": "6585b10b",
   "metadata": {},
   "outputs": [],
   "source": [
    "SELECT *,\n",
    "        CASE\n",
    "          WHEN invested_companies >=100  THEN 'high_activity'\n",
    "          WHEN invested_companies >=20 AND invested_companies <100  THEN 'middle_activity'\n",
    "          WHEN invested_companies <20  THEN 'low_activity'\n",
    "        END\n",
    "FROM fund"
   ]
  },
  {
   "cell_type": "markdown",
   "id": "35ec9280",
   "metadata": {},
   "source": [
    "9. Для каждой из категорий, назначенных в предыдущем задании, посчитайте округлённое до ближайшего целого числа среднее количество инвестиционных раундов, в которых фонд принимал участие. Выведите на экран категории и среднее число инвестиционных раундов. Отсортируйте таблицу по возрастанию среднего."
   ]
  },
  {
   "cell_type": "code",
   "execution_count": null,
   "id": "d2edaf2f",
   "metadata": {},
   "outputs": [],
   "source": [
    "SELECT \n",
    "       CASE\n",
    "           WHEN invested_companies>=100 THEN 'high_activity'\n",
    "           WHEN invested_companies>=20 THEN 'middle_activity'\n",
    "           ELSE 'low_activity'\n",
    "       END AS activity,\n",
    "       ROUND(AVG(investment_rounds),0)\n",
    "FROM fund\n",
    "GROUP BY activity\n",
    "ORDER BY ROUND(AVG(investment_rounds),0)"
   ]
  },
  {
   "cell_type": "markdown",
   "id": "067a55d1",
   "metadata": {},
   "source": [
    "10.\n",
    "\n",
    "Проанализируйте, в каких странах находятся фонды, которые чаще всего инвестируют в стартапы. \n",
    "\n",
    "Для каждой страны посчитайте минимальное, максимальное и среднее число компаний, в которые инвестировали фонды этой страны, основанные с 2010 по 2012 год включительно. Исключите страны с фондами, у которых минимальное число компаний, получивших инвестиции, равно нулю. \n",
    "\n",
    "Выгрузите десять самых активных стран-инвесторов: отсортируйте таблицу по среднему количеству компаний от большего к меньшему. \n",
    "\n",
    "Затем добавьте сортировку по коду страны в лексикографическом порядке."
   ]
  },
  {
   "cell_type": "code",
   "execution_count": null,
   "id": "eb18338e",
   "metadata": {},
   "outputs": [],
   "source": [
    "SELECT country_code,\n",
    "        MIN(invested_companies) AS min,\n",
    "        MAX(invested_companies) AS max,\n",
    "        AVG(invested_companies) AS avg\n",
    "FROM fund\n",
    "WHERE founded_at BETWEEN '2010-01-01' AND '2012-12-31' \n",
    "GROUP BY country_code\n",
    "HAVING MIN(invested_companies)>0\n",
    "ORDER BY avg DESC,country_code\n",
    "LIMIT 10"
   ]
  },
  {
   "cell_type": "markdown",
   "id": "277f5e10",
   "metadata": {},
   "source": [
    "11. Отобразите имя и фамилию всех сотрудников стартапов. Добавьте поле с названием учебного заведения, которое окончил сотрудник, если эта информация известна."
   ]
  },
  {
   "cell_type": "code",
   "execution_count": null,
   "id": "2a97bae5",
   "metadata": {},
   "outputs": [],
   "source": [
    "SELECT first_name, last_name, instituition\n",
    "FROM people AS p\n",
    "LEFT JOIN education AS e ON e.person_id=p.id"
   ]
  },
  {
   "cell_type": "markdown",
   "id": "8149cd02",
   "metadata": {},
   "source": [
    "12.\n",
    "Для каждой компании найдите количество учебных заведений, которые окончили её сотрудники. Выведите название компании и число уникальных названий учебных заведений. Составьте топ-5 компаний по количеству университетов."
   ]
  },
  {
   "cell_type": "code",
   "execution_count": null,
   "id": "5ac0d3f6",
   "metadata": {},
   "outputs": [],
   "source": [
    "SELECT c.name, COUNT(DISTINCT e.instituition)\n",
    "FROM company AS c\n",
    "JOIN people AS p ON p.company_id=c.id\n",
    "JOIN education AS e ON e.person_id=p.id\n",
    "GROUP BY c.name\n",
    "ORDER BY COUNT(DISTINCT e.id) DESC\n",
    "LIMIT 5"
   ]
  },
  {
   "cell_type": "markdown",
   "id": "ff7d0f4b",
   "metadata": {},
   "source": [
    "13. \n",
    "Составьте список с уникальными названиями закрытых компаний, для которых первый раунд финансирования оказался последним."
   ]
  },
  {
   "cell_type": "code",
   "execution_count": null,
   "id": "da4b4519",
   "metadata": {},
   "outputs": [],
   "source": [
    "SELECT DISTINCT co.name\n",
    "FROM company AS co\n",
    "INNER JOIN funding_round AS fr ON fr.company_id=co.id\n",
    "WHERE co.status ='closed'\n",
    "AND fr.is_first_round=1\n",
    "AND fr.is_last_round=1"
   ]
  },
  {
   "cell_type": "markdown",
   "id": "9c1cc098",
   "metadata": {},
   "source": [
    "14.\n",
    "Составьте список уникальных номеров сотрудников, которые работают в компаниях, отобранных в предыдущем задании."
   ]
  },
  {
   "cell_type": "code",
   "execution_count": null,
   "id": "da49cd15",
   "metadata": {},
   "outputs": [],
   "source": [
    "SELECT p.id\n",
    "FROM people AS p \n",
    "LEFT JOIN company AS c ON p.company_id=c.id\n",
    "WHERE c.name IN (SELECT DISTINCT c.name FROM company AS c INNER JOIN funding_round AS fr ON fr.company_id=c.id WHERE c.status ='closed' AND fr.is_first_round=1 AND fr.is_last_round=1)"
   ]
  },
  {
   "cell_type": "markdown",
   "id": "1d3da6f3",
   "metadata": {},
   "source": [
    "15.\n",
    "Составьте таблицу, куда войдут уникальные пары с номерами сотрудников из предыдущей задачи и учебным заведением, которое окончил сотрудник."
   ]
  },
  {
   "cell_type": "code",
   "execution_count": null,
   "id": "10c9b4c0",
   "metadata": {},
   "outputs": [],
   "source": [
    "select distinct e.person_id, e.instituition\n",
    "from education as e\n",
    "where e.person_id in \n",
    "    (select distinct p.id\n",
    "    from people as p\n",
    "    where p.company_id in \n",
    "        (select distinct c.id from \n",
    "        company as c left join funding_round as f on c.id = f.company_id\n",
    "        where c.status like 'closed'\n",
    "        and is_first_round=1 and is_last_round=1))"
   ]
  },
  {
   "cell_type": "markdown",
   "id": "eb486135",
   "metadata": {},
   "source": [
    "16. Посчитайте количество учебных заведений для каждого сотрудника из предыдущего задания. При подсчёте учитывайте, что некоторые сотрудники могли окончить одно и то же заведение дважды."
   ]
  },
  {
   "cell_type": "code",
   "execution_count": null,
   "id": "03ce0360",
   "metadata": {},
   "outputs": [],
   "source": [
    "WITH\n",
    "a AS (\n",
    "SELECT e.person_id, \n",
    "                e.instituition\n",
    "FROM education AS e\n",
    "WHERE e.person_id in \n",
    "                   (SELECT DISTINCT p.id\n",
    "                   FROM people AS p\n",
    "                   WHERE p.company_id IN \n",
    "                                       (SELECT DISTINCT co.id\n",
    "                                        FROM company AS co\n",
    "                                        INNER JOIN funding_round AS fr ON fr.company_id = co.id\n",
    "                                        WHERE co.status = 'closed'\n",
    "                                        AND fr.is_first_round = 1\n",
    "                                        AND fr.is_last_round =1))\n",
    ")\n",
    "\n",
    "SELECT DISTINCT person_id, COUNT(instituition)\n",
    "FROM a\n",
    "GROUP BY person_id"
   ]
  },
  {
   "cell_type": "markdown",
   "id": "7a5cd791",
   "metadata": {},
   "source": [
    "17.\n",
    "Дополните предыдущий запрос и выведите среднее число учебных заведений (всех, не только уникальных), которые окончили сотрудники разных компаний. Нужно вывести только одну запись, группировка здесь не понадобится."
   ]
  },
  {
   "cell_type": "code",
   "execution_count": null,
   "id": "69a8fffb",
   "metadata": {},
   "outputs": [],
   "source": [
    "WITH closed AS (\n",
    "        SELECT distinct c.name, c.id\n",
    "        FROM company AS c \n",
    "        JOIN funding_round AS fr ON c.id=fr.company_id\n",
    "        WHERE fr.is_first_round =1\n",
    "        AND fr.is_last_round=1\n",
    "        AND c.status='closed'),\n",
    "\n",
    "    pid AS (\n",
    "        SELECT distinct id \n",
    "        FROM people \n",
    "        WHERE company_id IN (SELECT id FROM closed )),\n",
    "\n",
    "    degree_cnt AS (\n",
    "        SELECT  count(instituition)  , person_id \n",
    "        FROM education\n",
    "        WHERE person_id IN (SELECT id FROM pid)\n",
    "        \n",
    "        GROUP BY person_id  )\n",
    "\n",
    "SELECT AVG(avg_cnt.count)\n",
    "FROM (SELECT count \n",
    "      FROM degree_cnt) AS avg_cnt\n"
   ]
  },
  {
   "cell_type": "markdown",
   "id": "dc98aad4",
   "metadata": {},
   "source": [
    "18.\n",
    "Напишите похожий запрос: выведите среднее число учебных заведений (всех, не только уникальных), которые окончили сотрудники Facebook*.\n",
    "*(сервис, запрещённый на территории РФ)"
   ]
  },
  {
   "cell_type": "code",
   "execution_count": null,
   "id": "f9a622b5",
   "metadata": {},
   "outputs": [],
   "source": [
    "WITH facebook AS (\n",
    "        SELECT * \n",
    "       FROM company  \n",
    "        WHERE name LIKE 'Facebook'),\n",
    "        \n",
    "\n",
    "    pid AS (\n",
    "        SELECT distinct id \n",
    "        FROM people \n",
    "        WHERE company_id IN (SELECT id FROM facebook )),\n",
    "\n",
    "    degree_cnt AS (\n",
    "        SELECT count(instituition), person_id \n",
    "        FROM education\n",
    "        WHERE person_id IN (SELECT id FROM pid)\n",
    "        GROUP BY person_id)\n",
    "\n",
    "SELECT AVG(avg_cnt.count)\n",
    "FROM (SELECT count \n",
    "      FROM degree_cnt) AS avg_cnt "
   ]
  },
  {
   "cell_type": "markdown",
   "id": "6dcf62e7",
   "metadata": {},
   "source": [
    "19.\n",
    "\n",
    "Составьте таблицу из полей:\n",
    "\n",
    "- name_of_fund — название фонда;\n",
    "- name_of_company — название компании;\n",
    "- amount — сумма инвестиций, которую привлекла компания в раунде.\n",
    "\n",
    "В таблицу войдут данные о компаниях, в истории которых было больше шести важных этапов, а раунды финансирования проходили с 2012 по 2013 год включительно."
   ]
  },
  {
   "cell_type": "code",
   "execution_count": null,
   "id": "3b23b90f",
   "metadata": {},
   "outputs": [],
   "source": [
    "SELECT f.name AS name_of_fund,\n",
    "        c.name AS name_of_company,\n",
    "        fr.raised_amount AS amount\n",
    "FROM investment AS i\n",
    "JOIN company AS c ON c.id=i.company_id\n",
    "JOIN fund AS f ON f.id=i.fund_id\n",
    "JOIN funding_round AS fr ON fr.id=i.funding_round_id\n",
    "WHERE c.milestones>6 AND EXTRACT (YEAR FROM fr.funded_at) BETWEEN 2012 AND 2013\n"
   ]
  },
  {
   "cell_type": "markdown",
   "id": "5f4342ff",
   "metadata": {},
   "source": [
    "20.\n",
    "\n",
    "Выгрузите таблицу, в которой будут такие поля:\n",
    "\n",
    "- название компании-покупателя;\n",
    "- сумма сделки;\n",
    "- название компании, которую купили;\n",
    "- сумма инвестиций, вложенных в купленную компанию;\n",
    "- доля, которая отображает, во сколько раз сумма покупки превысила сумму вложенных в компанию инвестиций, округлённая до ближайшего целого числа.\n",
    "\n",
    "Не учитывайте те сделки, в которых сумма покупки равна нулю. Если сумма инвестиций в компанию равна нулю, исключите такую компанию из таблицы. \n",
    "\n",
    "Отсортируйте таблицу по сумме сделки от большей к меньшей, а затем по названию купленной компании в лексикографическом порядке. \n",
    "Ограничьте таблицу первыми десятью записями."
   ]
  },
  {
   "cell_type": "code",
   "execution_count": null,
   "id": "bdedba3e",
   "metadata": {},
   "outputs": [],
   "source": [
    "SELECT DISTINCT c.name AS buyer,\n",
    "        a.price_amount,\n",
    "        com.name AS product,\n",
    "        com.funding_total,\n",
    "        ROUND(a.price_amount/com.funding_total)\n",
    "FROM acquisition AS a\n",
    "LEFT OUTER JOIN company AS c ON a.acquiring_company_id=c.id\n",
    "LEFT OUTER JOIN company AS com ON a.acquired_company_id=com.id\n",
    "LEFT OUTER JOIN funding_round AS fr ON com.id=fr.company_id\n",
    "WHERE a.price_amount !=0 AND com.funding_total !=0\n",
    "ORDER BY a.price_amount DESC, product\n",
    "LIMIT 10"
   ]
  },
  {
   "cell_type": "markdown",
   "id": "6932e2ea",
   "metadata": {},
   "source": [
    "21.\n",
    "Выгрузите таблицу, в которую войдут названия компаний из категории social, получившие финансирование с 2010 по 2013 год включительно. Проверьте, что сумма инвестиций не равна нулю. Выведите также номер месяца, в котором проходил раунд финансирования."
   ]
  },
  {
   "cell_type": "code",
   "execution_count": null,
   "id": "6d077613",
   "metadata": {},
   "outputs": [],
   "source": [
    "with\n",
    "tab as (SELECT *\n",
    "FROM company\n",
    "WHERE category_code='social')\n",
    "\n",
    "SELECT tab.name as name,\n",
    "       extract(month from fr.funded_at) as month \n",
    "FROM tab\n",
    "LEFT JOIN funding_round as fr on tab.id=fr.company_id\n",
    "WHERE extract(year from fr.funded_at) between 2010 and 2013 AND NOT fr.raised_amount =0"
   ]
  },
  {
   "cell_type": "markdown",
   "id": "398742a2",
   "metadata": {},
   "source": [
    "22.\n",
    "Отберите данные по месяцам с 2010 по 2013 год, когда проходили инвестиционные раунды. Сгруппируйте данные по номеру месяца и получите таблицу, в которой будут поля:\n",
    "- номер месяца, в котором проходили раунды;\n",
    "- количество уникальных названий фондов из США, которые инвестировали в этом месяце;\n",
    "- количество компаний, купленных за этот месяц;\n",
    "- общая сумма сделок по покупкам в этом месяце."
   ]
  },
  {
   "cell_type": "code",
   "execution_count": null,
   "id": "ddaa8759",
   "metadata": {},
   "outputs": [],
   "source": [
    "WITH a \n",
    "     AS (SELECT EXTRACT(MONTH FROM funded_at) AS mth, \n",
    "                COUNT(DISTINCT f.id) AS usa_funds_count \n",
    "         FROM   funding_round AS fr \n",
    "                JOIN investment i ON i.funding_round_id = fr.id \n",
    "                JOIN fund AS f ON f.id = i.fund_id \n",
    "         WHERE  f.country_code = 'USA' \n",
    "                AND EXTRACT(YEAR FROM funded_at) BETWEEN 2010 AND 2013 \n",
    "         GROUP  BY mth), \n",
    "     b \n",
    "     AS (SELECT EXTRACT(MONTH FROM acquired_at) AS mth, \n",
    "                COUNT(acquired_company_id) AS acq_company_count, \n",
    "                SUM(price_amount) AS total \n",
    "         FROM   acquisition                 \n",
    "         WHERE  EXTRACT(YEAR FROM acquired_at) BETWEEN 2010 AND 2013\n",
    "         GROUP  BY mth) \n",
    "SELECT a.mth, \n",
    "       a.usa_funds_count, \n",
    "       b.acq_company_count, \n",
    "       b.total \n",
    "FROM   a JOIN b ON a.mth = b.mth;"
   ]
  },
  {
   "cell_type": "markdown",
   "id": "42514bdc",
   "metadata": {},
   "source": [
    "23.\n",
    "Составьте сводную таблицу и выведите среднюю сумму инвестиций для стран, в которых есть стартапы, зарегистрированные в 2011, 2012 и 2013 годах. Данные за каждый год должны быть в отдельном поле. Отсортируйте таблицу по среднему значению инвестиций за 2011 год от большего к меньшему."
   ]
  },
  {
   "cell_type": "code",
   "execution_count": null,
   "id": "46f1807b",
   "metadata": {},
   "outputs": [],
   "source": [
    "WITH\n",
    "     inv_2011 AS (SELECT country_code,\n",
    "\t\t\t\t         AVG(funding_total) AS year_2011\n",
    "\t\t\t\t  FROM company\n",
    "\t\t\t\t  WHERE EXTRACT(YEAR FROM founded_at) = 2011\n",
    "\t\t\t\t  GROUP BY country_code),\n",
    "\t inv_2012 AS (SELECT country_code,\n",
    "\t\t\t\t         AVG(funding_total) AS year_2012\n",
    "\t\t\t\t  FROM company\n",
    "\t\t\t\t  WHERE EXTRACT(YEAR FROM founded_at) = 2012\n",
    "\t\t\t\t  GROUP BY country_code),\n",
    "\t inv_2013 AS (SELECT country_code,\n",
    "\t\t\t\t         AVG(funding_total) AS year_2013\n",
    "\t\t\t\t  FROM company\n",
    "\t\t\t\t  WHERE EXTRACT(YEAR FROM founded_at) = 2013\n",
    "\t\t\t\t  GROUP BY country_code)\t\n",
    "SELECT inv_2011.country_code,\n",
    "       inv_2011.year_2011,\n",
    "\t   inv_2012.year_2012,\n",
    "\t   inv_2013.year_2013\n",
    "FROM inv_2011 \n",
    "INNER JOIN inv_2012 ON inv_2011.country_code = inv_2012.country_code\n",
    "INNER JOIN inv_2013 ON inv_2012.country_code = inv_2013.country_code\n",
    "ORDER BY inv_2011.year_2011 DESC;\n"
   ]
  }
 ],
 "metadata": {
  "ExecuteTimeLog": [
   {
    "duration": 51,
    "start_time": "2023-06-05T22:01:41.871Z"
   },
   {
    "duration": 48,
    "start_time": "2023-06-05T22:07:04.222Z"
   },
   {
    "duration": 50,
    "start_time": "2023-06-05T22:07:39.434Z"
   }
  ],
  "kernelspec": {
   "display_name": "Python 3 (ipykernel)",
   "language": "python",
   "name": "python3"
  },
  "language_info": {
   "codemirror_mode": {
    "name": "ipython",
    "version": 3
   },
   "file_extension": ".py",
   "mimetype": "text/x-python",
   "name": "python",
   "nbconvert_exporter": "python",
   "pygments_lexer": "ipython3",
   "version": "3.9.5"
  },
  "toc": {
   "base_numbering": 1,
   "nav_menu": {},
   "number_sections": true,
   "sideBar": true,
   "skip_h1_title": true,
   "title_cell": "Table of Contents",
   "title_sidebar": "Contents",
   "toc_cell": false,
   "toc_position": {},
   "toc_section_display": true,
   "toc_window_display": false
  }
 },
 "nbformat": 4,
 "nbformat_minor": 5
}
