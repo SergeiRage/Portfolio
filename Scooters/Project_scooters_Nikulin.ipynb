{
 "cells": [
  {
   "cell_type": "markdown",
   "id": "ae834f76",
   "metadata": {},
   "source": [
    " **Исследование сервиса аренды самокатов** \n",
    " \n",
    "В нашем распоряжении данные сервиса аренды самокатов GoFast. Имеются данные о некоторых пользователях из нескольких городов, а также об их поездках. Также имеются данные о типах тарифов при аренде самокатов. Чтобы совершать поездки по городу, пользователи сервиса GoFast пользуются мобильным приложением. Сервисом можно пользоваться:\n",
    "без подписки или с подпиской Ultra, имеющих разные условия. Основная задача проекта заключается в анализе данных и проверке некоторых гипотез, которые могут помочь бизнесу вырасти.\n",
    "\n",
    " **Цель исследования**\n",
    " \n",
    "Цель проекта заключается в анализе данных популярного сервиса аренды самокатов GoFast, а именно:\n",
    "1. Проанализировать основную информацию о пользователях сервисом.\n",
    "2. Определить основные характеристики поездок на тарифах с подпиской и без.\n",
    "3. Определить помесячную выручку для каждого пользователя.\n",
    "4. Проверить ряд гипотез для решения задачи увеличения количества пользователей с подпиской.\n",
    "\n",
    "**Ход исследования**\n",
    "\n",
    "Данные для исследования получены из трех датафреймов. В основных данных есть информация о пользователях, их поездках и подписках (Пользователи — users_go.csv; Поездки — rides_go.csv; Подписки — subscriptions_go.csv). О качестве данных ничего не известно, поэтому понадобится их обзор.\n",
    "\n",
    "Данные будут проверены на ошибки. На этапе предобработки будет рассмотрена возможность устранения ошибок, при их наличии. Далее данные будут объединены в общий датафрейм, а также созданы дополнительные датафреймы для решения поставленных задач.\n",
    "\n",
    "Таким образом, исследование будет состоять из следующих этапов:\n",
    "- обзор данных;\n",
    "- предобработка данных;\n",
    "- исследовательский анализ данных;\n",
    "- объединение данных;\n",
    "- подсчет выручки;\n",
    "- проверка гипотез;\n",
    "- основные выводы.\n"
   ]
  },
  {
   "cell_type": "markdown",
   "id": "c928c83e",
   "metadata": {},
   "source": []
  },
  {
   "cell_type": "code",
   "execution_count": 1,
   "id": "6c9a86f5",
   "metadata": {},
   "outputs": [
    {
     "name": "stdout",
     "output_type": "stream",
     "text": [
      "Requirement already satisfied: missingno in /opt/conda/lib/python3.9/site-packages (0.5.2)\n",
      "Requirement already satisfied: seaborn in /opt/conda/lib/python3.9/site-packages (from missingno) (0.11.1)\n",
      "Requirement already satisfied: matplotlib in /opt/conda/lib/python3.9/site-packages (from missingno) (3.3.4)\n",
      "Requirement already satisfied: scipy in /opt/conda/lib/python3.9/site-packages (from missingno) (1.9.1)\n",
      "Requirement already satisfied: numpy in /opt/conda/lib/python3.9/site-packages (from missingno) (1.21.1)\n",
      "Requirement already satisfied: cycler>=0.10 in /opt/conda/lib/python3.9/site-packages (from matplotlib->missingno) (0.11.0)\n",
      "Requirement already satisfied: pillow>=6.2.0 in /opt/conda/lib/python3.9/site-packages (from matplotlib->missingno) (8.4.0)\n",
      "Requirement already satisfied: pyparsing!=2.0.4,!=2.1.2,!=2.1.6,>=2.0.3 in /opt/conda/lib/python3.9/site-packages (from matplotlib->missingno) (2.4.7)\n",
      "Requirement already satisfied: python-dateutil>=2.1 in /opt/conda/lib/python3.9/site-packages (from matplotlib->missingno) (2.8.1)\n",
      "Requirement already satisfied: kiwisolver>=1.0.1 in /opt/conda/lib/python3.9/site-packages (from matplotlib->missingno) (1.4.4)\n",
      "Requirement already satisfied: six>=1.5 in /opt/conda/lib/python3.9/site-packages (from python-dateutil>=2.1->matplotlib->missingno) (1.16.0)\n",
      "Requirement already satisfied: pandas>=0.23 in /opt/conda/lib/python3.9/site-packages (from seaborn->missingno) (1.2.4)\n",
      "Requirement already satisfied: pytz>=2017.3 in /opt/conda/lib/python3.9/site-packages (from pandas>=0.23->seaborn->missingno) (2021.1)\n",
      "Note: you may need to restart the kernel to use updated packages.\n"
     ]
    }
   ],
   "source": [
    "pip install missingno"
   ]
  },
  {
   "cell_type": "code",
   "execution_count": 2,
   "id": "72576667",
   "metadata": {},
   "outputs": [],
   "source": [
    "import pandas as pd\n",
    "import matplotlib.pyplot as plt\n",
    "import seaborn as sns\n",
    "import plotly.express as px\n",
    "import numpy as np\n",
    "from scipy import stats as st\n",
    "import missingno as msno\n",
    "from math import sqrt\n",
    "from scipy.stats import binom, poisson\n",
    "pd.options.display.max_columns = 20"
   ]
  },
  {
   "cell_type": "markdown",
   "id": "c42cbe00",
   "metadata": {},
   "source": [
    "#### Шаг 1. Загрузка данных"
   ]
  },
  {
   "cell_type": "markdown",
   "id": "5658e5c8",
   "metadata": {},
   "source": [
    "Прочитаем файлы с данными и посмотрим основную информацию."
   ]
  },
  {
   "cell_type": "markdown",
   "id": "009d1e19",
   "metadata": {},
   "source": [
    "Рассмотрим таблицу с данными по пользователям."
   ]
  },
  {
   "cell_type": "code",
   "execution_count": 3,
   "id": "d2ffbfb6",
   "metadata": {},
   "outputs": [],
   "source": [
    "users = pd.read_csv('/datasets/users_go.csv')"
   ]
  },
  {
   "cell_type": "code",
   "execution_count": 4,
   "id": "19397c04",
   "metadata": {
    "scrolled": true
   },
   "outputs": [
    {
     "name": "stdout",
     "output_type": "stream",
     "text": [
      "<class 'pandas.core.frame.DataFrame'>\n",
      "RangeIndex: 1565 entries, 0 to 1564\n",
      "Data columns (total 5 columns):\n",
      " #   Column             Non-Null Count  Dtype \n",
      "---  ------             --------------  ----- \n",
      " 0   user_id            1565 non-null   int64 \n",
      " 1   name               1565 non-null   object\n",
      " 2   age                1565 non-null   int64 \n",
      " 3   city               1565 non-null   object\n",
      " 4   subscription_type  1565 non-null   object\n",
      "dtypes: int64(2), object(3)\n",
      "memory usage: 61.3+ KB\n"
     ]
    }
   ],
   "source": [
    "users.info()"
   ]
  },
  {
   "cell_type": "code",
   "execution_count": 5,
   "id": "b30362f2",
   "metadata": {
    "scrolled": true
   },
   "outputs": [
    {
     "data": {
      "text/html": [
       "<div>\n",
       "<style scoped>\n",
       "    .dataframe tbody tr th:only-of-type {\n",
       "        vertical-align: middle;\n",
       "    }\n",
       "\n",
       "    .dataframe tbody tr th {\n",
       "        vertical-align: top;\n",
       "    }\n",
       "\n",
       "    .dataframe thead th {\n",
       "        text-align: right;\n",
       "    }\n",
       "</style>\n",
       "<table border=\"1\" class=\"dataframe\">\n",
       "  <thead>\n",
       "    <tr style=\"text-align: right;\">\n",
       "      <th></th>\n",
       "      <th>user_id</th>\n",
       "      <th>name</th>\n",
       "      <th>age</th>\n",
       "      <th>city</th>\n",
       "      <th>subscription_type</th>\n",
       "    </tr>\n",
       "  </thead>\n",
       "  <tbody>\n",
       "    <tr>\n",
       "      <th>0</th>\n",
       "      <td>1</td>\n",
       "      <td>Кира</td>\n",
       "      <td>22</td>\n",
       "      <td>Тюмень</td>\n",
       "      <td>ultra</td>\n",
       "    </tr>\n",
       "    <tr>\n",
       "      <th>1</th>\n",
       "      <td>2</td>\n",
       "      <td>Станислав</td>\n",
       "      <td>31</td>\n",
       "      <td>Омск</td>\n",
       "      <td>ultra</td>\n",
       "    </tr>\n",
       "    <tr>\n",
       "      <th>2</th>\n",
       "      <td>3</td>\n",
       "      <td>Алексей</td>\n",
       "      <td>20</td>\n",
       "      <td>Москва</td>\n",
       "      <td>ultra</td>\n",
       "    </tr>\n",
       "    <tr>\n",
       "      <th>3</th>\n",
       "      <td>4</td>\n",
       "      <td>Константин</td>\n",
       "      <td>26</td>\n",
       "      <td>Ростов-на-Дону</td>\n",
       "      <td>ultra</td>\n",
       "    </tr>\n",
       "    <tr>\n",
       "      <th>4</th>\n",
       "      <td>5</td>\n",
       "      <td>Адель</td>\n",
       "      <td>28</td>\n",
       "      <td>Омск</td>\n",
       "      <td>ultra</td>\n",
       "    </tr>\n",
       "    <tr>\n",
       "      <th>5</th>\n",
       "      <td>6</td>\n",
       "      <td>Регина</td>\n",
       "      <td>25</td>\n",
       "      <td>Краснодар</td>\n",
       "      <td>ultra</td>\n",
       "    </tr>\n",
       "    <tr>\n",
       "      <th>6</th>\n",
       "      <td>7</td>\n",
       "      <td>Игорь</td>\n",
       "      <td>23</td>\n",
       "      <td>Омск</td>\n",
       "      <td>ultra</td>\n",
       "    </tr>\n",
       "    <tr>\n",
       "      <th>7</th>\n",
       "      <td>8</td>\n",
       "      <td>Юрий</td>\n",
       "      <td>23</td>\n",
       "      <td>Краснодар</td>\n",
       "      <td>ultra</td>\n",
       "    </tr>\n",
       "    <tr>\n",
       "      <th>8</th>\n",
       "      <td>9</td>\n",
       "      <td>Ян</td>\n",
       "      <td>21</td>\n",
       "      <td>Пятигорск</td>\n",
       "      <td>ultra</td>\n",
       "    </tr>\n",
       "    <tr>\n",
       "      <th>9</th>\n",
       "      <td>10</td>\n",
       "      <td>Валерий</td>\n",
       "      <td>18</td>\n",
       "      <td>Екатеринбург</td>\n",
       "      <td>ultra</td>\n",
       "    </tr>\n",
       "  </tbody>\n",
       "</table>\n",
       "</div>"
      ],
      "text/plain": [
       "   user_id        name  age            city subscription_type\n",
       "0        1        Кира   22          Тюмень             ultra\n",
       "1        2   Станислав   31            Омск             ultra\n",
       "2        3     Алексей   20          Москва             ultra\n",
       "3        4  Константин   26  Ростов-на-Дону             ultra\n",
       "4        5       Адель   28            Омск             ultra\n",
       "5        6      Регина   25       Краснодар             ultra\n",
       "6        7       Игорь   23            Омск             ultra\n",
       "7        8        Юрий   23       Краснодар             ultra\n",
       "8        9          Ян   21       Пятигорск             ultra\n",
       "9       10     Валерий   18    Екатеринбург             ultra"
      ]
     },
     "execution_count": 5,
     "metadata": {},
     "output_type": "execute_result"
    }
   ],
   "source": [
    "users.head(10)"
   ]
  },
  {
   "cell_type": "code",
   "execution_count": 6,
   "id": "48847ab1",
   "metadata": {},
   "outputs": [
    {
     "data": {
      "text/plain": [
       "(1565, 5)"
      ]
     },
     "execution_count": 6,
     "metadata": {},
     "output_type": "execute_result"
    }
   ],
   "source": [
    "users.shape"
   ]
  },
  {
   "cell_type": "markdown",
   "id": "47a5cac5",
   "metadata": {},
   "source": [
    "Рассмотрим таблицу с поездками."
   ]
  },
  {
   "cell_type": "code",
   "execution_count": 7,
   "id": "e86157fc",
   "metadata": {},
   "outputs": [],
   "source": [
    "riders = pd.read_csv('/datasets/rides_go.csv')"
   ]
  },
  {
   "cell_type": "code",
   "execution_count": 8,
   "id": "edadf4ae",
   "metadata": {},
   "outputs": [
    {
     "name": "stdout",
     "output_type": "stream",
     "text": [
      "<class 'pandas.core.frame.DataFrame'>\n",
      "RangeIndex: 18068 entries, 0 to 18067\n",
      "Data columns (total 4 columns):\n",
      " #   Column    Non-Null Count  Dtype  \n",
      "---  ------    --------------  -----  \n",
      " 0   user_id   18068 non-null  int64  \n",
      " 1   distance  18068 non-null  float64\n",
      " 2   duration  18068 non-null  float64\n",
      " 3   date      18068 non-null  object \n",
      "dtypes: float64(2), int64(1), object(1)\n",
      "memory usage: 564.8+ KB\n"
     ]
    }
   ],
   "source": [
    "riders.info()"
   ]
  },
  {
   "cell_type": "markdown",
   "id": "abe78640",
   "metadata": {},
   "source": [
    "Приведем столбцы с дистанцией и продолжительностью поездки к типу float32 для экономии вычислительной памяти."
   ]
  },
  {
   "cell_type": "code",
   "execution_count": 9,
   "id": "413202e6",
   "metadata": {},
   "outputs": [],
   "source": [
    "riders['distance'] = riders['distance'].astype('float32')"
   ]
  },
  {
   "cell_type": "code",
   "execution_count": 10,
   "id": "35f38942",
   "metadata": {},
   "outputs": [],
   "source": [
    "riders['duration'] = riders['duration'].astype('float32')"
   ]
  },
  {
   "cell_type": "code",
   "execution_count": 11,
   "id": "f4f43403",
   "metadata": {},
   "outputs": [
    {
     "data": {
      "text/html": [
       "<div>\n",
       "<style scoped>\n",
       "    .dataframe tbody tr th:only-of-type {\n",
       "        vertical-align: middle;\n",
       "    }\n",
       "\n",
       "    .dataframe tbody tr th {\n",
       "        vertical-align: top;\n",
       "    }\n",
       "\n",
       "    .dataframe thead th {\n",
       "        text-align: right;\n",
       "    }\n",
       "</style>\n",
       "<table border=\"1\" class=\"dataframe\">\n",
       "  <thead>\n",
       "    <tr style=\"text-align: right;\">\n",
       "      <th></th>\n",
       "      <th>user_id</th>\n",
       "      <th>distance</th>\n",
       "      <th>duration</th>\n",
       "      <th>date</th>\n",
       "    </tr>\n",
       "  </thead>\n",
       "  <tbody>\n",
       "    <tr>\n",
       "      <th>0</th>\n",
       "      <td>1</td>\n",
       "      <td>4409.918945</td>\n",
       "      <td>25.599770</td>\n",
       "      <td>2021-01-01</td>\n",
       "    </tr>\n",
       "    <tr>\n",
       "      <th>1</th>\n",
       "      <td>1</td>\n",
       "      <td>2617.592041</td>\n",
       "      <td>15.816872</td>\n",
       "      <td>2021-01-18</td>\n",
       "    </tr>\n",
       "    <tr>\n",
       "      <th>2</th>\n",
       "      <td>1</td>\n",
       "      <td>754.159790</td>\n",
       "      <td>6.232113</td>\n",
       "      <td>2021-04-20</td>\n",
       "    </tr>\n",
       "    <tr>\n",
       "      <th>3</th>\n",
       "      <td>1</td>\n",
       "      <td>2694.783203</td>\n",
       "      <td>18.511000</td>\n",
       "      <td>2021-08-11</td>\n",
       "    </tr>\n",
       "    <tr>\n",
       "      <th>4</th>\n",
       "      <td>1</td>\n",
       "      <td>4028.687256</td>\n",
       "      <td>26.265802</td>\n",
       "      <td>2021-08-28</td>\n",
       "    </tr>\n",
       "    <tr>\n",
       "      <th>5</th>\n",
       "      <td>1</td>\n",
       "      <td>2770.890869</td>\n",
       "      <td>16.650139</td>\n",
       "      <td>2021-10-09</td>\n",
       "    </tr>\n",
       "    <tr>\n",
       "      <th>6</th>\n",
       "      <td>1</td>\n",
       "      <td>3039.020264</td>\n",
       "      <td>14.927879</td>\n",
       "      <td>2021-10-19</td>\n",
       "    </tr>\n",
       "    <tr>\n",
       "      <th>7</th>\n",
       "      <td>1</td>\n",
       "      <td>2842.118164</td>\n",
       "      <td>23.117468</td>\n",
       "      <td>2021-11-06</td>\n",
       "    </tr>\n",
       "    <tr>\n",
       "      <th>8</th>\n",
       "      <td>1</td>\n",
       "      <td>3412.690674</td>\n",
       "      <td>15.238072</td>\n",
       "      <td>2021-11-14</td>\n",
       "    </tr>\n",
       "    <tr>\n",
       "      <th>9</th>\n",
       "      <td>1</td>\n",
       "      <td>748.690674</td>\n",
       "      <td>15.041883</td>\n",
       "      <td>2021-11-22</td>\n",
       "    </tr>\n",
       "  </tbody>\n",
       "</table>\n",
       "</div>"
      ],
      "text/plain": [
       "   user_id     distance   duration        date\n",
       "0        1  4409.918945  25.599770  2021-01-01\n",
       "1        1  2617.592041  15.816872  2021-01-18\n",
       "2        1   754.159790   6.232113  2021-04-20\n",
       "3        1  2694.783203  18.511000  2021-08-11\n",
       "4        1  4028.687256  26.265802  2021-08-28\n",
       "5        1  2770.890869  16.650139  2021-10-09\n",
       "6        1  3039.020264  14.927879  2021-10-19\n",
       "7        1  2842.118164  23.117468  2021-11-06\n",
       "8        1  3412.690674  15.238072  2021-11-14\n",
       "9        1   748.690674  15.041883  2021-11-22"
      ]
     },
     "execution_count": 11,
     "metadata": {},
     "output_type": "execute_result"
    }
   ],
   "source": [
    "riders.head(10)"
   ]
  },
  {
   "cell_type": "code",
   "execution_count": 12,
   "id": "c65668c4",
   "metadata": {
    "scrolled": true
   },
   "outputs": [
    {
     "data": {
      "text/plain": [
       "(18068, 4)"
      ]
     },
     "execution_count": 12,
     "metadata": {},
     "output_type": "execute_result"
    }
   ],
   "source": [
    "riders.shape"
   ]
  },
  {
   "cell_type": "markdown",
   "id": "ace38310",
   "metadata": {},
   "source": [
    "Рассмотрим таблицу с подписками."
   ]
  },
  {
   "cell_type": "code",
   "execution_count": 13,
   "id": "74949364",
   "metadata": {},
   "outputs": [],
   "source": [
    "sub = pd.read_csv('/datasets/subscriptions_go.csv')"
   ]
  },
  {
   "cell_type": "code",
   "execution_count": 14,
   "id": "61d54d96",
   "metadata": {},
   "outputs": [
    {
     "name": "stdout",
     "output_type": "stream",
     "text": [
      "<class 'pandas.core.frame.DataFrame'>\n",
      "RangeIndex: 2 entries, 0 to 1\n",
      "Data columns (total 4 columns):\n",
      " #   Column             Non-Null Count  Dtype \n",
      "---  ------             --------------  ----- \n",
      " 0   subscription_type  2 non-null      object\n",
      " 1   minute_price       2 non-null      int64 \n",
      " 2   start_ride_price   2 non-null      int64 \n",
      " 3   subscription_fee   2 non-null      int64 \n",
      "dtypes: int64(3), object(1)\n",
      "memory usage: 192.0+ bytes\n"
     ]
    }
   ],
   "source": [
    "sub.info()"
   ]
  },
  {
   "cell_type": "code",
   "execution_count": 15,
   "id": "8a3613a4",
   "metadata": {},
   "outputs": [
    {
     "data": {
      "text/html": [
       "<div>\n",
       "<style scoped>\n",
       "    .dataframe tbody tr th:only-of-type {\n",
       "        vertical-align: middle;\n",
       "    }\n",
       "\n",
       "    .dataframe tbody tr th {\n",
       "        vertical-align: top;\n",
       "    }\n",
       "\n",
       "    .dataframe thead th {\n",
       "        text-align: right;\n",
       "    }\n",
       "</style>\n",
       "<table border=\"1\" class=\"dataframe\">\n",
       "  <thead>\n",
       "    <tr style=\"text-align: right;\">\n",
       "      <th></th>\n",
       "      <th>subscription_type</th>\n",
       "      <th>minute_price</th>\n",
       "      <th>start_ride_price</th>\n",
       "      <th>subscription_fee</th>\n",
       "    </tr>\n",
       "  </thead>\n",
       "  <tbody>\n",
       "    <tr>\n",
       "      <th>0</th>\n",
       "      <td>free</td>\n",
       "      <td>8</td>\n",
       "      <td>50</td>\n",
       "      <td>0</td>\n",
       "    </tr>\n",
       "    <tr>\n",
       "      <th>1</th>\n",
       "      <td>ultra</td>\n",
       "      <td>6</td>\n",
       "      <td>0</td>\n",
       "      <td>199</td>\n",
       "    </tr>\n",
       "  </tbody>\n",
       "</table>\n",
       "</div>"
      ],
      "text/plain": [
       "  subscription_type  minute_price  start_ride_price  subscription_fee\n",
       "0              free             8                50                 0\n",
       "1             ultra             6                 0               199"
      ]
     },
     "execution_count": 15,
     "metadata": {},
     "output_type": "execute_result"
    }
   ],
   "source": [
    "sub.head(10)"
   ]
  },
  {
   "cell_type": "markdown",
   "id": "892e5cae",
   "metadata": {},
   "source": [
    "Проведена загрузка и первоначальный анализ трех датафреймов. Первый датасет описывает возраст пользователей сервисом, город и тип подписки. Второй датасет описывает дату пользования самокатом, пройденную дистанцию и время пользованием. Третий датасет дает информацию о стоимости минуты, стартовой платы и стоимости подписки в зависимости от типа подписки."
   ]
  },
  {
   "cell_type": "markdown",
   "id": "e95ebca7",
   "metadata": {},
   "source": [
    "#### Шаг 2. Предобработка данных"
   ]
  },
  {
   "cell_type": "markdown",
   "id": "dbd94f25",
   "metadata": {},
   "source": [
    "Проведем проверку на пропуски в данных для каждого датасета."
   ]
  },
  {
   "cell_type": "code",
   "execution_count": 16,
   "id": "1451b30d",
   "metadata": {
    "scrolled": false
   },
   "outputs": [
    {
     "data": {
      "text/plain": [
       "user_id              0\n",
       "name                 0\n",
       "age                  0\n",
       "city                 0\n",
       "subscription_type    0\n",
       "dtype: int64"
      ]
     },
     "execution_count": 16,
     "metadata": {},
     "output_type": "execute_result"
    }
   ],
   "source": [
    "users.isna().sum()"
   ]
  },
  {
   "cell_type": "code",
   "execution_count": 17,
   "id": "31cbbc4a",
   "metadata": {},
   "outputs": [
    {
     "data": {
      "text/plain": [
       "<AxesSubplot:>"
      ]
     },
     "execution_count": 17,
     "metadata": {},
     "output_type": "execute_result"
    },
    {
     "data": {
      "image/png": "[encoded data removed]",
      "text/plain": [
       "<Figure size 1800x720 with 3 Axes>"
      ]
     },
     "metadata": {
      "needs_background": "light"
     },
     "output_type": "display_data"
    }
   ],
   "source": [
    "msno.bar(users)"
   ]
  },
  {
   "cell_type": "code",
   "execution_count": 18,
   "id": "c5523bc3",
   "metadata": {},
   "outputs": [
    {
     "data": {
      "text/plain": [
       "user_id     0\n",
       "distance    0\n",
       "duration    0\n",
       "date        0\n",
       "dtype: int64"
      ]
     },
     "execution_count": 18,
     "metadata": {},
     "output_type": "execute_result"
    }
   ],
   "source": [
    "riders.isna().sum()"
   ]
  },
  {
   "cell_type": "code",
   "execution_count": 19,
   "id": "1b89d963",
   "metadata": {},
   "outputs": [
    {
     "data": {
      "text/plain": [
       "subscription_type    0\n",
       "minute_price         0\n",
       "start_ride_price     0\n",
       "subscription_fee     0\n",
       "dtype: int64"
      ]
     },
     "execution_count": 19,
     "metadata": {},
     "output_type": "execute_result"
    }
   ],
   "source": [
    "sub.isna().sum()"
   ]
  },
  {
   "cell_type": "markdown",
   "id": "daafe845",
   "metadata": {},
   "source": [
    "Пропуски в данных отсутствуют."
   ]
  },
  {
   "cell_type": "markdown",
   "id": "99b8b1b1",
   "metadata": {},
   "source": [
    "Приведем дату к необходимому формату."
   ]
  },
  {
   "cell_type": "code",
   "execution_count": 20,
   "id": "c87e13f2",
   "metadata": {},
   "outputs": [],
   "source": [
    "riders['date'] = pd.to_datetime(riders['date'], format='%Y-%m-%d')"
   ]
  },
  {
   "cell_type": "code",
   "execution_count": 21,
   "id": "6c867c76",
   "metadata": {},
   "outputs": [
    {
     "data": {
      "text/html": [
       "<div>\n",
       "<style scoped>\n",
       "    .dataframe tbody tr th:only-of-type {\n",
       "        vertical-align: middle;\n",
       "    }\n",
       "\n",
       "    .dataframe tbody tr th {\n",
       "        vertical-align: top;\n",
       "    }\n",
       "\n",
       "    .dataframe thead th {\n",
       "        text-align: right;\n",
       "    }\n",
       "</style>\n",
       "<table border=\"1\" class=\"dataframe\">\n",
       "  <thead>\n",
       "    <tr style=\"text-align: right;\">\n",
       "      <th></th>\n",
       "      <th>user_id</th>\n",
       "      <th>distance</th>\n",
       "      <th>duration</th>\n",
       "      <th>date</th>\n",
       "    </tr>\n",
       "  </thead>\n",
       "  <tbody>\n",
       "    <tr>\n",
       "      <th>0</th>\n",
       "      <td>1</td>\n",
       "      <td>4409.918945</td>\n",
       "      <td>25.599770</td>\n",
       "      <td>2021-01-01</td>\n",
       "    </tr>\n",
       "    <tr>\n",
       "      <th>1</th>\n",
       "      <td>1</td>\n",
       "      <td>2617.592041</td>\n",
       "      <td>15.816872</td>\n",
       "      <td>2021-01-18</td>\n",
       "    </tr>\n",
       "    <tr>\n",
       "      <th>2</th>\n",
       "      <td>1</td>\n",
       "      <td>754.159790</td>\n",
       "      <td>6.232113</td>\n",
       "      <td>2021-04-20</td>\n",
       "    </tr>\n",
       "    <tr>\n",
       "      <th>3</th>\n",
       "      <td>1</td>\n",
       "      <td>2694.783203</td>\n",
       "      <td>18.511000</td>\n",
       "      <td>2021-08-11</td>\n",
       "    </tr>\n",
       "    <tr>\n",
       "      <th>4</th>\n",
       "      <td>1</td>\n",
       "      <td>4028.687256</td>\n",
       "      <td>26.265802</td>\n",
       "      <td>2021-08-28</td>\n",
       "    </tr>\n",
       "    <tr>\n",
       "      <th>5</th>\n",
       "      <td>1</td>\n",
       "      <td>2770.890869</td>\n",
       "      <td>16.650139</td>\n",
       "      <td>2021-10-09</td>\n",
       "    </tr>\n",
       "    <tr>\n",
       "      <th>6</th>\n",
       "      <td>1</td>\n",
       "      <td>3039.020264</td>\n",
       "      <td>14.927879</td>\n",
       "      <td>2021-10-19</td>\n",
       "    </tr>\n",
       "    <tr>\n",
       "      <th>7</th>\n",
       "      <td>1</td>\n",
       "      <td>2842.118164</td>\n",
       "      <td>23.117468</td>\n",
       "      <td>2021-11-06</td>\n",
       "    </tr>\n",
       "    <tr>\n",
       "      <th>8</th>\n",
       "      <td>1</td>\n",
       "      <td>3412.690674</td>\n",
       "      <td>15.238072</td>\n",
       "      <td>2021-11-14</td>\n",
       "    </tr>\n",
       "    <tr>\n",
       "      <th>9</th>\n",
       "      <td>1</td>\n",
       "      <td>748.690674</td>\n",
       "      <td>15.041883</td>\n",
       "      <td>2021-11-22</td>\n",
       "    </tr>\n",
       "  </tbody>\n",
       "</table>\n",
       "</div>"
      ],
      "text/plain": [
       "   user_id     distance   duration       date\n",
       "0        1  4409.918945  25.599770 2021-01-01\n",
       "1        1  2617.592041  15.816872 2021-01-18\n",
       "2        1   754.159790   6.232113 2021-04-20\n",
       "3        1  2694.783203  18.511000 2021-08-11\n",
       "4        1  4028.687256  26.265802 2021-08-28\n",
       "5        1  2770.890869  16.650139 2021-10-09\n",
       "6        1  3039.020264  14.927879 2021-10-19\n",
       "7        1  2842.118164  23.117468 2021-11-06\n",
       "8        1  3412.690674  15.238072 2021-11-14\n",
       "9        1   748.690674  15.041883 2021-11-22"
      ]
     },
     "execution_count": 21,
     "metadata": {},
     "output_type": "execute_result"
    }
   ],
   "source": [
    "riders.head(10)"
   ]
  },
  {
   "cell_type": "markdown",
   "id": "3685e921",
   "metadata": {},
   "source": [
    "Проверим, за какой период предоставлены данные. Если данные предоставлены за несколько лет, то они могут попасть в один и тот же месяц."
   ]
  },
  {
   "cell_type": "code",
   "execution_count": 22,
   "id": "08a6eff4",
   "metadata": {},
   "outputs": [
    {
     "data": {
      "text/plain": [
       "array([2021])"
      ]
     },
     "execution_count": 22,
     "metadata": {},
     "output_type": "execute_result"
    }
   ],
   "source": [
    "riders['date'].dt.year.unique()"
   ]
  },
  {
   "cell_type": "markdown",
   "id": "83d43329",
   "metadata": {},
   "source": [
    "Данные предоставлены только за один год, соответственно аномалий не будет."
   ]
  },
  {
   "cell_type": "code",
   "execution_count": 23,
   "id": "b3d0a240",
   "metadata": {},
   "outputs": [],
   "source": [
    "riders['month'] = pd.DatetimeIndex(riders['date']).month "
   ]
  },
  {
   "cell_type": "code",
   "execution_count": 24,
   "id": "1b306c59",
   "metadata": {},
   "outputs": [
    {
     "data": {
      "text/html": [
       "<div>\n",
       "<style scoped>\n",
       "    .dataframe tbody tr th:only-of-type {\n",
       "        vertical-align: middle;\n",
       "    }\n",
       "\n",
       "    .dataframe tbody tr th {\n",
       "        vertical-align: top;\n",
       "    }\n",
       "\n",
       "    .dataframe thead th {\n",
       "        text-align: right;\n",
       "    }\n",
       "</style>\n",
       "<table border=\"1\" class=\"dataframe\">\n",
       "  <thead>\n",
       "    <tr style=\"text-align: right;\">\n",
       "      <th></th>\n",
       "      <th>user_id</th>\n",
       "      <th>distance</th>\n",
       "      <th>duration</th>\n",
       "      <th>date</th>\n",
       "      <th>month</th>\n",
       "    </tr>\n",
       "  </thead>\n",
       "  <tbody>\n",
       "    <tr>\n",
       "      <th>0</th>\n",
       "      <td>1</td>\n",
       "      <td>4409.918945</td>\n",
       "      <td>25.599770</td>\n",
       "      <td>2021-01-01</td>\n",
       "      <td>1</td>\n",
       "    </tr>\n",
       "    <tr>\n",
       "      <th>1</th>\n",
       "      <td>1</td>\n",
       "      <td>2617.592041</td>\n",
       "      <td>15.816872</td>\n",
       "      <td>2021-01-18</td>\n",
       "      <td>1</td>\n",
       "    </tr>\n",
       "    <tr>\n",
       "      <th>2</th>\n",
       "      <td>1</td>\n",
       "      <td>754.159790</td>\n",
       "      <td>6.232113</td>\n",
       "      <td>2021-04-20</td>\n",
       "      <td>4</td>\n",
       "    </tr>\n",
       "    <tr>\n",
       "      <th>3</th>\n",
       "      <td>1</td>\n",
       "      <td>2694.783203</td>\n",
       "      <td>18.511000</td>\n",
       "      <td>2021-08-11</td>\n",
       "      <td>8</td>\n",
       "    </tr>\n",
       "    <tr>\n",
       "      <th>4</th>\n",
       "      <td>1</td>\n",
       "      <td>4028.687256</td>\n",
       "      <td>26.265802</td>\n",
       "      <td>2021-08-28</td>\n",
       "      <td>8</td>\n",
       "    </tr>\n",
       "    <tr>\n",
       "      <th>5</th>\n",
       "      <td>1</td>\n",
       "      <td>2770.890869</td>\n",
       "      <td>16.650139</td>\n",
       "      <td>2021-10-09</td>\n",
       "      <td>10</td>\n",
       "    </tr>\n",
       "    <tr>\n",
       "      <th>6</th>\n",
       "      <td>1</td>\n",
       "      <td>3039.020264</td>\n",
       "      <td>14.927879</td>\n",
       "      <td>2021-10-19</td>\n",
       "      <td>10</td>\n",
       "    </tr>\n",
       "    <tr>\n",
       "      <th>7</th>\n",
       "      <td>1</td>\n",
       "      <td>2842.118164</td>\n",
       "      <td>23.117468</td>\n",
       "      <td>2021-11-06</td>\n",
       "      <td>11</td>\n",
       "    </tr>\n",
       "    <tr>\n",
       "      <th>8</th>\n",
       "      <td>1</td>\n",
       "      <td>3412.690674</td>\n",
       "      <td>15.238072</td>\n",
       "      <td>2021-11-14</td>\n",
       "      <td>11</td>\n",
       "    </tr>\n",
       "    <tr>\n",
       "      <th>9</th>\n",
       "      <td>1</td>\n",
       "      <td>748.690674</td>\n",
       "      <td>15.041883</td>\n",
       "      <td>2021-11-22</td>\n",
       "      <td>11</td>\n",
       "    </tr>\n",
       "  </tbody>\n",
       "</table>\n",
       "</div>"
      ],
      "text/plain": [
       "   user_id     distance   duration       date  month\n",
       "0        1  4409.918945  25.599770 2021-01-01      1\n",
       "1        1  2617.592041  15.816872 2021-01-18      1\n",
       "2        1   754.159790   6.232113 2021-04-20      4\n",
       "3        1  2694.783203  18.511000 2021-08-11      8\n",
       "4        1  4028.687256  26.265802 2021-08-28      8\n",
       "5        1  2770.890869  16.650139 2021-10-09     10\n",
       "6        1  3039.020264  14.927879 2021-10-19     10\n",
       "7        1  2842.118164  23.117468 2021-11-06     11\n",
       "8        1  3412.690674  15.238072 2021-11-14     11\n",
       "9        1   748.690674  15.041883 2021-11-22     11"
      ]
     },
     "execution_count": 24,
     "metadata": {},
     "output_type": "execute_result"
    }
   ],
   "source": [
    "riders.head(10)"
   ]
  },
  {
   "cell_type": "markdown",
   "id": "b5b0b8b7",
   "metadata": {},
   "source": [
    "Проведем обработку дубликатов."
   ]
  },
  {
   "cell_type": "code",
   "execution_count": 25,
   "id": "c6c7d674",
   "metadata": {},
   "outputs": [
    {
     "data": {
      "text/plain": [
       "31"
      ]
     },
     "execution_count": 25,
     "metadata": {},
     "output_type": "execute_result"
    }
   ],
   "source": [
    "users.duplicated().sum()"
   ]
  },
  {
   "cell_type": "code",
   "execution_count": 26,
   "id": "d710d683",
   "metadata": {},
   "outputs": [],
   "source": [
    "users = users.drop_duplicates().reset_index(drop=True)"
   ]
  },
  {
   "cell_type": "code",
   "execution_count": 27,
   "id": "c3e0bcb8",
   "metadata": {},
   "outputs": [
    {
     "data": {
      "text/plain": [
       "0"
      ]
     },
     "execution_count": 27,
     "metadata": {},
     "output_type": "execute_result"
    }
   ],
   "source": [
    "users.duplicated().sum()"
   ]
  },
  {
   "cell_type": "code",
   "execution_count": 28,
   "id": "b2a03167",
   "metadata": {},
   "outputs": [
    {
     "data": {
      "text/plain": [
       "0"
      ]
     },
     "execution_count": 28,
     "metadata": {},
     "output_type": "execute_result"
    }
   ],
   "source": [
    "riders.duplicated().sum()"
   ]
  },
  {
   "cell_type": "code",
   "execution_count": 29,
   "id": "a0d125cf",
   "metadata": {},
   "outputs": [
    {
     "data": {
      "text/plain": [
       "array(['Тюмень', 'Омск', 'Москва', 'Ростов-на-Дону', 'Краснодар',\n",
       "       'Пятигорск', 'Екатеринбург', 'Сочи'], dtype=object)"
      ]
     },
     "execution_count": 29,
     "metadata": {},
     "output_type": "execute_result"
    }
   ],
   "source": [
    "users['city'].unique()"
   ]
  },
  {
   "cell_type": "markdown",
   "id": "67bdae63",
   "metadata": {},
   "source": [
    "Проведена проверка на пропуски. Пропуски в данных отсутствуют. Дата приведена к необходимому формату. Добавлен отдельный столбец с указанием месяца аренды. Проведен поиск и удаление дубликатов. Неявные дубликаты в данных отсутствуют."
   ]
  },
  {
   "cell_type": "markdown",
   "id": "212593c7",
   "metadata": {},
   "source": [
    "#### Шаг 3. Исследовательский анализ данных"
   ]
  },
  {
   "cell_type": "markdown",
   "id": "d6fe2a9b",
   "metadata": {},
   "source": [
    "##### Проведем оценку частоты встречаемости городов."
   ]
  },
  {
   "cell_type": "code",
   "execution_count": 30,
   "id": "df49fb8e",
   "metadata": {},
   "outputs": [
    {
     "data": {
      "text/plain": [
       "Пятигорск         219\n",
       "Екатеринбург      204\n",
       "Ростов-на-Дону    198\n",
       "Краснодар         193\n",
       "Сочи              189\n",
       "Омск              183\n",
       "Тюмень            180\n",
       "Москва            168\n",
       "Name: city, dtype: int64"
      ]
     },
     "execution_count": 30,
     "metadata": {},
     "output_type": "execute_result"
    }
   ],
   "source": [
    "users['city'].value_counts()"
   ]
  },
  {
   "cell_type": "code",
   "execution_count": 31,
   "id": "82135fca",
   "metadata": {},
   "outputs": [
    {
     "data": {
      "text/plain": [
       "Text(0, 0.5, 'Количество пользователей')"
      ]
     },
     "execution_count": 31,
     "metadata": {},
     "output_type": "execute_result"
    },
    {
     "data": {
      "image/png": "[encoded data removed]",
      "text/plain": [
       "<Figure size 432x288 with 1 Axes>"
      ]
     },
     "metadata": {
      "needs_background": "light"
     },
     "output_type": "display_data"
    }
   ],
   "source": [
    "users['city'].value_counts().plot(kind='bar')\n",
    "\n",
    "plt.title('Количество пользователей в каждом городе');\n",
    "plt.xlabel('Наименование города')\n",
    "plt.ylabel('Количество пользователей')\n"
   ]
  },
  {
   "cell_type": "markdown",
   "id": "82432cdb",
   "metadata": {},
   "source": []
  },
  {
   "cell_type": "code",
   "execution_count": 32,
   "id": "02e2e227",
   "metadata": {
    "scrolled": false
   },
   "outputs": [
    {
     "data": {
      "image/png": "[encoded data removed]",
      "text/plain": [
       "<Figure size 720x720 with 1 Axes>"
      ]
     },
     "metadata": {},
     "output_type": "display_data"
    }
   ],
   "source": [
    "users['city'].value_counts().plot(kind='pie', autopct='%.1f%%', figsize=(10,10));\n",
    "plt.title('Количество пользователей по городам');"
   ]
  },
  {
   "cell_type": "markdown",
   "id": "e0fc66af",
   "metadata": {},
   "source": [
    "Видим примерно равное распределение пользователей по городам."
   ]
  },
  {
   "cell_type": "markdown",
   "id": "fa90b136",
   "metadata": {},
   "source": [
    "#####  Оценка пользователей с подпиской и без."
   ]
  },
  {
   "cell_type": "code",
   "execution_count": 33,
   "id": "9b5727fd",
   "metadata": {},
   "outputs": [
    {
     "data": {
      "text/plain": [
       "free     835\n",
       "ultra    699\n",
       "Name: subscription_type, dtype: int64"
      ]
     },
     "execution_count": 33,
     "metadata": {},
     "output_type": "execute_result"
    }
   ],
   "source": [
    "users['subscription_type'].value_counts()"
   ]
  },
  {
   "cell_type": "code",
   "execution_count": 34,
   "id": "88d068a2",
   "metadata": {},
   "outputs": [
    {
     "name": "stdout",
     "output_type": "stream",
     "text": [
      "Пользователей без подписки: 54.4%\n",
      "Пользователей c подпиской: 45.6%\n"
     ]
    },
    {
     "data": {
      "image/png": "[encoded data removed]",
      "text/plain": [
       "<Figure size 432x288 with 1 Axes>"
      ]
     },
     "metadata": {},
     "output_type": "display_data"
    }
   ],
   "source": [
    "users['subscription_type'].value_counts().plot(kind='pie', autopct='%.1f%%');\n",
    "plt.title('Количество пользователей по категориям');\n",
    "print(f'Пользователей без подписки:', '54.4%')\n",
    "print(f'Пользователей c подпиской:', '45.6%')\n",
    " "
   ]
  },
  {
   "cell_type": "markdown",
   "id": "c59a930e",
   "metadata": {},
   "source": [
    "Пользователей без подписки больше всего приблизительно на 10%. Это говорит об активном использовании подписки."
   ]
  },
  {
   "cell_type": "markdown",
   "id": "44912076",
   "metadata": {},
   "source": [
    "##### Оценка возраста пользователей"
   ]
  },
  {
   "cell_type": "code",
   "execution_count": 35,
   "id": "3e666506",
   "metadata": {},
   "outputs": [
    {
     "data": {
      "text/plain": [
       "Text(0, 0.5, 'Количество пользователей')"
      ]
     },
     "execution_count": 35,
     "metadata": {},
     "output_type": "execute_result"
    },
    {
     "data": {
      "image/png": "[encoded data removed]",
      "text/plain": [
       "<Figure size 432x288 with 1 Axes>"
      ]
     },
     "metadata": {
      "needs_background": "light"
     },
     "output_type": "display_data"
    }
   ],
   "source": [
    "plt.hist(users['age'], bins = 10)\n",
    "plt.title('Возраст пользователей');\n",
    "plt.xlabel('Возраст, лет');\n",
    "plt.ylabel('Количество пользователей')"
   ]
  },
  {
   "cell_type": "markdown",
   "id": "80f794e9",
   "metadata": {},
   "source": [
    "Распределение возрастов соответствует нормальному. Средний возраст пользователя услугой составляет порядка 25 лет. Люди старше 35 лет и младше 15 арендой самокатов практически не пользуются. Это связано со спецификой данного транспорта, весом самоката и необходимостью иметь определенный уровень физической формы."
   ]
  },
  {
   "cell_type": "markdown",
   "id": "0dd82dcf",
   "metadata": {},
   "source": []
  },
  {
   "cell_type": "markdown",
   "id": "252d2a40",
   "metadata": {},
   "source": [
    "##### Оценка расстояния, преодолеваемого за одну поездку."
   ]
  },
  {
   "cell_type": "code",
   "execution_count": 36,
   "id": "d692d1db",
   "metadata": {},
   "outputs": [
    {
     "data": {
      "text/plain": [
       "Text(0, 0.5, 'Количество пользователей')"
      ]
     },
     "execution_count": 36,
     "metadata": {},
     "output_type": "execute_result"
    },
    {
     "data": {
      "image/png": "[encoded data removed]",
      "text/plain": [
       "<Figure size 720x360 with 1 Axes>"
      ]
     },
     "metadata": {
      "needs_background": "light"
     },
     "output_type": "display_data"
    }
   ],
   "source": [
    "riders['distance'].hist(bins=100, figsize = (10,5))\n",
    "plt.title('Расстояние поездок у пользователей');\n",
    "plt.xlabel('Расстояние, м.');\n",
    "plt.ylabel('Количество пользователей')\n"
   ]
  },
  {
   "cell_type": "code",
   "execution_count": 37,
   "id": "b1ec9e31",
   "metadata": {},
   "outputs": [
    {
     "data": {
      "text/plain": [
       "count    18068.000000\n",
       "mean      3070.660156\n",
       "std       1116.831177\n",
       "min          0.855683\n",
       "25%       2543.226318\n",
       "50%       3133.609985\n",
       "75%       3776.222717\n",
       "max       7211.007812\n",
       "Name: distance, dtype: float64"
      ]
     },
     "execution_count": 37,
     "metadata": {},
     "output_type": "execute_result"
    }
   ],
   "source": [
    "riders['distance'].describe()"
   ]
  },
  {
   "cell_type": "code",
   "execution_count": 38,
   "id": "28748014",
   "metadata": {},
   "outputs": [
    {
     "data": {
      "text/plain": [
       "<AxesSubplot:xlabel='distance'>"
      ]
     },
     "execution_count": 38,
     "metadata": {},
     "output_type": "execute_result"
    },
    {
     "data": {
      "image/png": "[encoded data removed]",
      "text/plain": [
       "<Figure size 432x288 with 1 Axes>"
      ]
     },
     "metadata": {
      "needs_background": "light"
     },
     "output_type": "display_data"
    }
   ],
   "source": [
    "sns.boxplot(x=riders['distance'])"
   ]
  },
  {
   "cell_type": "markdown",
   "id": "920dc846",
   "metadata": {},
   "source": [
    "Большинство поездок проходит в диапазоне от 2,5 до 3,5 км. Средняя поездка поездка на самокате составляет порядка 3 км."
   ]
  },
  {
   "cell_type": "markdown",
   "id": "3700f4d8",
   "metadata": {},
   "source": []
  },
  {
   "cell_type": "markdown",
   "id": "8d048c05",
   "metadata": {},
   "source": [
    "##### Оценка продолжительности поездок."
   ]
  },
  {
   "cell_type": "code",
   "execution_count": 39,
   "id": "c89ba202",
   "metadata": {},
   "outputs": [
    {
     "data": {
      "text/plain": [
       "Text(0, 0.5, 'Количество пользователей')"
      ]
     },
     "execution_count": 39,
     "metadata": {},
     "output_type": "execute_result"
    },
    {
     "data": {
      "image/png": "[encoded data removed]",
      "text/plain": [
       "<Figure size 720x360 with 1 Axes>"
      ]
     },
     "metadata": {
      "needs_background": "light"
     },
     "output_type": "display_data"
    }
   ],
   "source": [
    "riders['duration'].hist(bins=100, figsize = (10,5))\n",
    "plt.title('Продолжительность поездок у пользователей');\n",
    "plt.xlabel('Продолжительность, м.');\n",
    "plt.ylabel('Количество пользователей')"
   ]
  },
  {
   "cell_type": "code",
   "execution_count": 40,
   "id": "9fb0950c",
   "metadata": {},
   "outputs": [
    {
     "data": {
      "text/plain": [
       "count    18068.000000\n",
       "mean        17.805012\n",
       "std          6.091051\n",
       "min          0.500000\n",
       "25%         13.597563\n",
       "50%         17.678394\n",
       "75%         21.724800\n",
       "max         40.823963\n",
       "Name: duration, dtype: float64"
      ]
     },
     "execution_count": 40,
     "metadata": {},
     "output_type": "execute_result"
    }
   ],
   "source": [
    "riders['duration'].describe()"
   ]
  },
  {
   "cell_type": "code",
   "execution_count": 41,
   "id": "c356e8d2",
   "metadata": {},
   "outputs": [
    {
     "data": {
      "text/plain": [
       "<AxesSubplot:xlabel='duration'>"
      ]
     },
     "execution_count": 41,
     "metadata": {},
     "output_type": "execute_result"
    },
    {
     "data": {
      "image/png": "[encoded data removed]",
      "text/plain": [
       "<Figure size 432x288 with 1 Axes>"
      ]
     },
     "metadata": {
      "needs_background": "light"
     },
     "output_type": "display_data"
    }
   ],
   "source": [
    "sns.boxplot(x=riders['duration'])"
   ]
  },
  {
   "cell_type": "markdown",
   "id": "fb9e8176",
   "metadata": {},
   "source": [
    "Длительность большинства поездок проходит в диапазоне от 14 до 22 минут. Средняя поездка поездка на самокате занимает порядка 18 минут."
   ]
  },
  {
   "cell_type": "markdown",
   "id": "3ff200f0",
   "metadata": {},
   "source": [
    "Проведен исследовательский анализ данных, который показал, что в во всех городах сревисом пользуются примерно одинаково, подписку оформляет практически каждый второй пользователь. Сервисом пользуются в основном молодые люди от 20 до 30 лет. За одну поездку в среднем проезжают 3 км, при этом время использования в среднем 18 минут."
   ]
  },
  {
   "cell_type": "markdown",
   "id": "fd08df3d",
   "metadata": {},
   "source": []
  },
  {
   "cell_type": "markdown",
   "id": "4ef51331",
   "metadata": {},
   "source": [
    "#### Шаг 4. Объединение данных"
   ]
  },
  {
   "cell_type": "markdown",
   "id": "1cf5b59f",
   "metadata": {},
   "source": [
    "##### Проведем работы по объединению датасетов."
   ]
  },
  {
   "cell_type": "code",
   "execution_count": 42,
   "id": "9f75220d",
   "metadata": {},
   "outputs": [
    {
     "data": {
      "text/plain": [
       "(1534, 5)"
      ]
     },
     "execution_count": 42,
     "metadata": {},
     "output_type": "execute_result"
    }
   ],
   "source": [
    "users.shape"
   ]
  },
  {
   "cell_type": "code",
   "execution_count": 43,
   "id": "da33fe6d",
   "metadata": {},
   "outputs": [
    {
     "data": {
      "text/plain": [
       "(18068, 5)"
      ]
     },
     "execution_count": 43,
     "metadata": {},
     "output_type": "execute_result"
    }
   ],
   "source": [
    "riders.shape"
   ]
  },
  {
   "cell_type": "markdown",
   "id": "6b64bedf",
   "metadata": {},
   "source": [
    "Проведена проврека размеров датасетов. Они имеют по пять столбцов и общий столбец с ID пользователя по которому проведем объединение."
   ]
  },
  {
   "cell_type": "code",
   "execution_count": 44,
   "id": "53ac94da",
   "metadata": {},
   "outputs": [],
   "source": [
    "data = users.merge(riders, on='user_id', how='left')\n"
   ]
  },
  {
   "cell_type": "code",
   "execution_count": 45,
   "id": "40df925e",
   "metadata": {},
   "outputs": [
    {
     "data": {
      "text/html": [
       "<div>\n",
       "<style scoped>\n",
       "    .dataframe tbody tr th:only-of-type {\n",
       "        vertical-align: middle;\n",
       "    }\n",
       "\n",
       "    .dataframe tbody tr th {\n",
       "        vertical-align: top;\n",
       "    }\n",
       "\n",
       "    .dataframe thead th {\n",
       "        text-align: right;\n",
       "    }\n",
       "</style>\n",
       "<table border=\"1\" class=\"dataframe\">\n",
       "  <thead>\n",
       "    <tr style=\"text-align: right;\">\n",
       "      <th></th>\n",
       "      <th>user_id</th>\n",
       "      <th>name</th>\n",
       "      <th>age</th>\n",
       "      <th>city</th>\n",
       "      <th>subscription_type</th>\n",
       "      <th>distance</th>\n",
       "      <th>duration</th>\n",
       "      <th>date</th>\n",
       "      <th>month</th>\n",
       "    </tr>\n",
       "  </thead>\n",
       "  <tbody>\n",
       "    <tr>\n",
       "      <th>0</th>\n",
       "      <td>1</td>\n",
       "      <td>Кира</td>\n",
       "      <td>22</td>\n",
       "      <td>Тюмень</td>\n",
       "      <td>ultra</td>\n",
       "      <td>4409.918945</td>\n",
       "      <td>25.599770</td>\n",
       "      <td>2021-01-01</td>\n",
       "      <td>1</td>\n",
       "    </tr>\n",
       "    <tr>\n",
       "      <th>1</th>\n",
       "      <td>1</td>\n",
       "      <td>Кира</td>\n",
       "      <td>22</td>\n",
       "      <td>Тюмень</td>\n",
       "      <td>ultra</td>\n",
       "      <td>2617.592041</td>\n",
       "      <td>15.816872</td>\n",
       "      <td>2021-01-18</td>\n",
       "      <td>1</td>\n",
       "    </tr>\n",
       "    <tr>\n",
       "      <th>2</th>\n",
       "      <td>1</td>\n",
       "      <td>Кира</td>\n",
       "      <td>22</td>\n",
       "      <td>Тюмень</td>\n",
       "      <td>ultra</td>\n",
       "      <td>754.159790</td>\n",
       "      <td>6.232113</td>\n",
       "      <td>2021-04-20</td>\n",
       "      <td>4</td>\n",
       "    </tr>\n",
       "    <tr>\n",
       "      <th>3</th>\n",
       "      <td>1</td>\n",
       "      <td>Кира</td>\n",
       "      <td>22</td>\n",
       "      <td>Тюмень</td>\n",
       "      <td>ultra</td>\n",
       "      <td>2694.783203</td>\n",
       "      <td>18.511000</td>\n",
       "      <td>2021-08-11</td>\n",
       "      <td>8</td>\n",
       "    </tr>\n",
       "    <tr>\n",
       "      <th>4</th>\n",
       "      <td>1</td>\n",
       "      <td>Кира</td>\n",
       "      <td>22</td>\n",
       "      <td>Тюмень</td>\n",
       "      <td>ultra</td>\n",
       "      <td>4028.687256</td>\n",
       "      <td>26.265802</td>\n",
       "      <td>2021-08-28</td>\n",
       "      <td>8</td>\n",
       "    </tr>\n",
       "    <tr>\n",
       "      <th>5</th>\n",
       "      <td>1</td>\n",
       "      <td>Кира</td>\n",
       "      <td>22</td>\n",
       "      <td>Тюмень</td>\n",
       "      <td>ultra</td>\n",
       "      <td>2770.890869</td>\n",
       "      <td>16.650139</td>\n",
       "      <td>2021-10-09</td>\n",
       "      <td>10</td>\n",
       "    </tr>\n",
       "    <tr>\n",
       "      <th>6</th>\n",
       "      <td>1</td>\n",
       "      <td>Кира</td>\n",
       "      <td>22</td>\n",
       "      <td>Тюмень</td>\n",
       "      <td>ultra</td>\n",
       "      <td>3039.020264</td>\n",
       "      <td>14.927879</td>\n",
       "      <td>2021-10-19</td>\n",
       "      <td>10</td>\n",
       "    </tr>\n",
       "    <tr>\n",
       "      <th>7</th>\n",
       "      <td>1</td>\n",
       "      <td>Кира</td>\n",
       "      <td>22</td>\n",
       "      <td>Тюмень</td>\n",
       "      <td>ultra</td>\n",
       "      <td>2842.118164</td>\n",
       "      <td>23.117468</td>\n",
       "      <td>2021-11-06</td>\n",
       "      <td>11</td>\n",
       "    </tr>\n",
       "    <tr>\n",
       "      <th>8</th>\n",
       "      <td>1</td>\n",
       "      <td>Кира</td>\n",
       "      <td>22</td>\n",
       "      <td>Тюмень</td>\n",
       "      <td>ultra</td>\n",
       "      <td>3412.690674</td>\n",
       "      <td>15.238072</td>\n",
       "      <td>2021-11-14</td>\n",
       "      <td>11</td>\n",
       "    </tr>\n",
       "    <tr>\n",
       "      <th>9</th>\n",
       "      <td>1</td>\n",
       "      <td>Кира</td>\n",
       "      <td>22</td>\n",
       "      <td>Тюмень</td>\n",
       "      <td>ultra</td>\n",
       "      <td>748.690674</td>\n",
       "      <td>15.041883</td>\n",
       "      <td>2021-11-22</td>\n",
       "      <td>11</td>\n",
       "    </tr>\n",
       "  </tbody>\n",
       "</table>\n",
       "</div>"
      ],
      "text/plain": [
       "   user_id  name  age    city subscription_type     distance   duration  \\\n",
       "0        1  Кира   22  Тюмень             ultra  4409.918945  25.599770   \n",
       "1        1  Кира   22  Тюмень             ultra  2617.592041  15.816872   \n",
       "2        1  Кира   22  Тюмень             ultra   754.159790   6.232113   \n",
       "3        1  Кира   22  Тюмень             ultra  2694.783203  18.511000   \n",
       "4        1  Кира   22  Тюмень             ultra  4028.687256  26.265802   \n",
       "5        1  Кира   22  Тюмень             ultra  2770.890869  16.650139   \n",
       "6        1  Кира   22  Тюмень             ultra  3039.020264  14.927879   \n",
       "7        1  Кира   22  Тюмень             ultra  2842.118164  23.117468   \n",
       "8        1  Кира   22  Тюмень             ultra  3412.690674  15.238072   \n",
       "9        1  Кира   22  Тюмень             ultra   748.690674  15.041883   \n",
       "\n",
       "        date  month  \n",
       "0 2021-01-01      1  \n",
       "1 2021-01-18      1  \n",
       "2 2021-04-20      4  \n",
       "3 2021-08-11      8  \n",
       "4 2021-08-28      8  \n",
       "5 2021-10-09     10  \n",
       "6 2021-10-19     10  \n",
       "7 2021-11-06     11  \n",
       "8 2021-11-14     11  \n",
       "9 2021-11-22     11  "
      ]
     },
     "execution_count": 45,
     "metadata": {},
     "output_type": "execute_result"
    }
   ],
   "source": [
    "data.head(10)"
   ]
  },
  {
   "cell_type": "code",
   "execution_count": 46,
   "id": "7f6d1ef1",
   "metadata": {},
   "outputs": [
    {
     "data": {
      "text/plain": [
       "(2, 4)"
      ]
     },
     "execution_count": 46,
     "metadata": {},
     "output_type": "execute_result"
    }
   ],
   "source": [
    "sub.shape"
   ]
  },
  {
   "cell_type": "markdown",
   "id": "e3955711",
   "metadata": {},
   "source": [
    "Проведем слияние с третьим датасетом."
   ]
  },
  {
   "cell_type": "code",
   "execution_count": 47,
   "id": "cd700f14",
   "metadata": {},
   "outputs": [],
   "source": [
    "data = data.merge(sub)"
   ]
  },
  {
   "cell_type": "code",
   "execution_count": 48,
   "id": "cd40b109",
   "metadata": {
    "scrolled": true
   },
   "outputs": [
    {
     "data": {
      "text/html": [
       "<div>\n",
       "<style scoped>\n",
       "    .dataframe tbody tr th:only-of-type {\n",
       "        vertical-align: middle;\n",
       "    }\n",
       "\n",
       "    .dataframe tbody tr th {\n",
       "        vertical-align: top;\n",
       "    }\n",
       "\n",
       "    .dataframe thead th {\n",
       "        text-align: right;\n",
       "    }\n",
       "</style>\n",
       "<table border=\"1\" class=\"dataframe\">\n",
       "  <thead>\n",
       "    <tr style=\"text-align: right;\">\n",
       "      <th></th>\n",
       "      <th>user_id</th>\n",
       "      <th>name</th>\n",
       "      <th>age</th>\n",
       "      <th>city</th>\n",
       "      <th>subscription_type</th>\n",
       "      <th>distance</th>\n",
       "      <th>duration</th>\n",
       "      <th>date</th>\n",
       "      <th>month</th>\n",
       "      <th>minute_price</th>\n",
       "      <th>start_ride_price</th>\n",
       "      <th>subscription_fee</th>\n",
       "    </tr>\n",
       "  </thead>\n",
       "  <tbody>\n",
       "    <tr>\n",
       "      <th>0</th>\n",
       "      <td>1</td>\n",
       "      <td>Кира</td>\n",
       "      <td>22</td>\n",
       "      <td>Тюмень</td>\n",
       "      <td>ultra</td>\n",
       "      <td>4409.918945</td>\n",
       "      <td>25.599770</td>\n",
       "      <td>2021-01-01</td>\n",
       "      <td>1</td>\n",
       "      <td>6</td>\n",
       "      <td>0</td>\n",
       "      <td>199</td>\n",
       "    </tr>\n",
       "    <tr>\n",
       "      <th>1</th>\n",
       "      <td>1</td>\n",
       "      <td>Кира</td>\n",
       "      <td>22</td>\n",
       "      <td>Тюмень</td>\n",
       "      <td>ultra</td>\n",
       "      <td>2617.592041</td>\n",
       "      <td>15.816872</td>\n",
       "      <td>2021-01-18</td>\n",
       "      <td>1</td>\n",
       "      <td>6</td>\n",
       "      <td>0</td>\n",
       "      <td>199</td>\n",
       "    </tr>\n",
       "    <tr>\n",
       "      <th>2</th>\n",
       "      <td>1</td>\n",
       "      <td>Кира</td>\n",
       "      <td>22</td>\n",
       "      <td>Тюмень</td>\n",
       "      <td>ultra</td>\n",
       "      <td>754.159790</td>\n",
       "      <td>6.232113</td>\n",
       "      <td>2021-04-20</td>\n",
       "      <td>4</td>\n",
       "      <td>6</td>\n",
       "      <td>0</td>\n",
       "      <td>199</td>\n",
       "    </tr>\n",
       "    <tr>\n",
       "      <th>3</th>\n",
       "      <td>1</td>\n",
       "      <td>Кира</td>\n",
       "      <td>22</td>\n",
       "      <td>Тюмень</td>\n",
       "      <td>ultra</td>\n",
       "      <td>2694.783203</td>\n",
       "      <td>18.511000</td>\n",
       "      <td>2021-08-11</td>\n",
       "      <td>8</td>\n",
       "      <td>6</td>\n",
       "      <td>0</td>\n",
       "      <td>199</td>\n",
       "    </tr>\n",
       "    <tr>\n",
       "      <th>4</th>\n",
       "      <td>1</td>\n",
       "      <td>Кира</td>\n",
       "      <td>22</td>\n",
       "      <td>Тюмень</td>\n",
       "      <td>ultra</td>\n",
       "      <td>4028.687256</td>\n",
       "      <td>26.265802</td>\n",
       "      <td>2021-08-28</td>\n",
       "      <td>8</td>\n",
       "      <td>6</td>\n",
       "      <td>0</td>\n",
       "      <td>199</td>\n",
       "    </tr>\n",
       "    <tr>\n",
       "      <th>5</th>\n",
       "      <td>1</td>\n",
       "      <td>Кира</td>\n",
       "      <td>22</td>\n",
       "      <td>Тюмень</td>\n",
       "      <td>ultra</td>\n",
       "      <td>2770.890869</td>\n",
       "      <td>16.650139</td>\n",
       "      <td>2021-10-09</td>\n",
       "      <td>10</td>\n",
       "      <td>6</td>\n",
       "      <td>0</td>\n",
       "      <td>199</td>\n",
       "    </tr>\n",
       "    <tr>\n",
       "      <th>6</th>\n",
       "      <td>1</td>\n",
       "      <td>Кира</td>\n",
       "      <td>22</td>\n",
       "      <td>Тюмень</td>\n",
       "      <td>ultra</td>\n",
       "      <td>3039.020264</td>\n",
       "      <td>14.927879</td>\n",
       "      <td>2021-10-19</td>\n",
       "      <td>10</td>\n",
       "      <td>6</td>\n",
       "      <td>0</td>\n",
       "      <td>199</td>\n",
       "    </tr>\n",
       "    <tr>\n",
       "      <th>7</th>\n",
       "      <td>1</td>\n",
       "      <td>Кира</td>\n",
       "      <td>22</td>\n",
       "      <td>Тюмень</td>\n",
       "      <td>ultra</td>\n",
       "      <td>2842.118164</td>\n",
       "      <td>23.117468</td>\n",
       "      <td>2021-11-06</td>\n",
       "      <td>11</td>\n",
       "      <td>6</td>\n",
       "      <td>0</td>\n",
       "      <td>199</td>\n",
       "    </tr>\n",
       "    <tr>\n",
       "      <th>8</th>\n",
       "      <td>1</td>\n",
       "      <td>Кира</td>\n",
       "      <td>22</td>\n",
       "      <td>Тюмень</td>\n",
       "      <td>ultra</td>\n",
       "      <td>3412.690674</td>\n",
       "      <td>15.238072</td>\n",
       "      <td>2021-11-14</td>\n",
       "      <td>11</td>\n",
       "      <td>6</td>\n",
       "      <td>0</td>\n",
       "      <td>199</td>\n",
       "    </tr>\n",
       "    <tr>\n",
       "      <th>9</th>\n",
       "      <td>1</td>\n",
       "      <td>Кира</td>\n",
       "      <td>22</td>\n",
       "      <td>Тюмень</td>\n",
       "      <td>ultra</td>\n",
       "      <td>748.690674</td>\n",
       "      <td>15.041883</td>\n",
       "      <td>2021-11-22</td>\n",
       "      <td>11</td>\n",
       "      <td>6</td>\n",
       "      <td>0</td>\n",
       "      <td>199</td>\n",
       "    </tr>\n",
       "  </tbody>\n",
       "</table>\n",
       "</div>"
      ],
      "text/plain": [
       "   user_id  name  age    city subscription_type     distance   duration  \\\n",
       "0        1  Кира   22  Тюмень             ultra  4409.918945  25.599770   \n",
       "1        1  Кира   22  Тюмень             ultra  2617.592041  15.816872   \n",
       "2        1  Кира   22  Тюмень             ultra   754.159790   6.232113   \n",
       "3        1  Кира   22  Тюмень             ultra  2694.783203  18.511000   \n",
       "4        1  Кира   22  Тюмень             ultra  4028.687256  26.265802   \n",
       "5        1  Кира   22  Тюмень             ultra  2770.890869  16.650139   \n",
       "6        1  Кира   22  Тюмень             ultra  3039.020264  14.927879   \n",
       "7        1  Кира   22  Тюмень             ultra  2842.118164  23.117468   \n",
       "8        1  Кира   22  Тюмень             ultra  3412.690674  15.238072   \n",
       "9        1  Кира   22  Тюмень             ultra   748.690674  15.041883   \n",
       "\n",
       "        date  month  minute_price  start_ride_price  subscription_fee  \n",
       "0 2021-01-01      1             6                 0               199  \n",
       "1 2021-01-18      1             6                 0               199  \n",
       "2 2021-04-20      4             6                 0               199  \n",
       "3 2021-08-11      8             6                 0               199  \n",
       "4 2021-08-28      8             6                 0               199  \n",
       "5 2021-10-09     10             6                 0               199  \n",
       "6 2021-10-19     10             6                 0               199  \n",
       "7 2021-11-06     11             6                 0               199  \n",
       "8 2021-11-14     11             6                 0               199  \n",
       "9 2021-11-22     11             6                 0               199  "
      ]
     },
     "execution_count": 48,
     "metadata": {},
     "output_type": "execute_result"
    }
   ],
   "source": [
    "data.head(10)"
   ]
  },
  {
   "cell_type": "code",
   "execution_count": 49,
   "id": "d6474f8b",
   "metadata": {
    "scrolled": true
   },
   "outputs": [
    {
     "data": {
      "text/plain": [
       "(18068, 12)"
      ]
     },
     "execution_count": 49,
     "metadata": {},
     "output_type": "execute_result"
    }
   ],
   "source": [
    "data.shape"
   ]
  },
  {
   "cell_type": "markdown",
   "id": "696801c9",
   "metadata": {},
   "source": [
    "Результирующий датасет имеет 18068 строк, как в максимальном датасете riders и число столбцов соответствующее объединению 3 датасетов - 12 шт."
   ]
  },
  {
   "cell_type": "markdown",
   "id": "64e7b492",
   "metadata": {},
   "source": [
    "##### Создадим два дополнительных датасета с данными о пользователях с подпиской и без."
   ]
  },
  {
   "cell_type": "code",
   "execution_count": 50,
   "id": "9f70b685",
   "metadata": {},
   "outputs": [],
   "source": [
    "data_free = data[data['subscription_type'] == 'free']"
   ]
  },
  {
   "cell_type": "code",
   "execution_count": 51,
   "id": "6942adac",
   "metadata": {},
   "outputs": [
    {
     "data": {
      "text/html": [
       "<div>\n",
       "<style scoped>\n",
       "    .dataframe tbody tr th:only-of-type {\n",
       "        vertical-align: middle;\n",
       "    }\n",
       "\n",
       "    .dataframe tbody tr th {\n",
       "        vertical-align: top;\n",
       "    }\n",
       "\n",
       "    .dataframe thead th {\n",
       "        text-align: right;\n",
       "    }\n",
       "</style>\n",
       "<table border=\"1\" class=\"dataframe\">\n",
       "  <thead>\n",
       "    <tr style=\"text-align: right;\">\n",
       "      <th></th>\n",
       "      <th>user_id</th>\n",
       "      <th>name</th>\n",
       "      <th>age</th>\n",
       "      <th>city</th>\n",
       "      <th>subscription_type</th>\n",
       "      <th>distance</th>\n",
       "      <th>duration</th>\n",
       "      <th>date</th>\n",
       "      <th>month</th>\n",
       "      <th>minute_price</th>\n",
       "      <th>start_ride_price</th>\n",
       "      <th>subscription_fee</th>\n",
       "    </tr>\n",
       "  </thead>\n",
       "  <tbody>\n",
       "    <tr>\n",
       "      <th>6500</th>\n",
       "      <td>700</td>\n",
       "      <td>Айдар</td>\n",
       "      <td>22</td>\n",
       "      <td>Омск</td>\n",
       "      <td>free</td>\n",
       "      <td>2515.690674</td>\n",
       "      <td>14.944286</td>\n",
       "      <td>2021-01-02</td>\n",
       "      <td>1</td>\n",
       "      <td>8</td>\n",
       "      <td>50</td>\n",
       "      <td>0</td>\n",
       "    </tr>\n",
       "    <tr>\n",
       "      <th>6501</th>\n",
       "      <td>700</td>\n",
       "      <td>Айдар</td>\n",
       "      <td>22</td>\n",
       "      <td>Омск</td>\n",
       "      <td>free</td>\n",
       "      <td>846.932617</td>\n",
       "      <td>16.234663</td>\n",
       "      <td>2021-02-01</td>\n",
       "      <td>2</td>\n",
       "      <td>8</td>\n",
       "      <td>50</td>\n",
       "      <td>0</td>\n",
       "    </tr>\n",
       "    <tr>\n",
       "      <th>6502</th>\n",
       "      <td>700</td>\n",
       "      <td>Айдар</td>\n",
       "      <td>22</td>\n",
       "      <td>Омск</td>\n",
       "      <td>free</td>\n",
       "      <td>4004.434082</td>\n",
       "      <td>20.016628</td>\n",
       "      <td>2021-02-04</td>\n",
       "      <td>2</td>\n",
       "      <td>8</td>\n",
       "      <td>50</td>\n",
       "      <td>0</td>\n",
       "    </tr>\n",
       "    <tr>\n",
       "      <th>6503</th>\n",
       "      <td>700</td>\n",
       "      <td>Айдар</td>\n",
       "      <td>22</td>\n",
       "      <td>Омск</td>\n",
       "      <td>free</td>\n",
       "      <td>1205.911255</td>\n",
       "      <td>9.782872</td>\n",
       "      <td>2021-02-10</td>\n",
       "      <td>2</td>\n",
       "      <td>8</td>\n",
       "      <td>50</td>\n",
       "      <td>0</td>\n",
       "    </tr>\n",
       "    <tr>\n",
       "      <th>6504</th>\n",
       "      <td>700</td>\n",
       "      <td>Айдар</td>\n",
       "      <td>22</td>\n",
       "      <td>Омск</td>\n",
       "      <td>free</td>\n",
       "      <td>3047.379395</td>\n",
       "      <td>17.427673</td>\n",
       "      <td>2021-02-14</td>\n",
       "      <td>2</td>\n",
       "      <td>8</td>\n",
       "      <td>50</td>\n",
       "      <td>0</td>\n",
       "    </tr>\n",
       "    <tr>\n",
       "      <th>...</th>\n",
       "      <td>...</td>\n",
       "      <td>...</td>\n",
       "      <td>...</td>\n",
       "      <td>...</td>\n",
       "      <td>...</td>\n",
       "      <td>...</td>\n",
       "      <td>...</td>\n",
       "      <td>...</td>\n",
       "      <td>...</td>\n",
       "      <td>...</td>\n",
       "      <td>...</td>\n",
       "      <td>...</td>\n",
       "    </tr>\n",
       "    <tr>\n",
       "      <th>18063</th>\n",
       "      <td>1534</td>\n",
       "      <td>Альберт</td>\n",
       "      <td>25</td>\n",
       "      <td>Краснодар</td>\n",
       "      <td>free</td>\n",
       "      <td>3781.098145</td>\n",
       "      <td>19.822962</td>\n",
       "      <td>2021-11-04</td>\n",
       "      <td>11</td>\n",
       "      <td>8</td>\n",
       "      <td>50</td>\n",
       "      <td>0</td>\n",
       "    </tr>\n",
       "    <tr>\n",
       "      <th>18064</th>\n",
       "      <td>1534</td>\n",
       "      <td>Альберт</td>\n",
       "      <td>25</td>\n",
       "      <td>Краснодар</td>\n",
       "      <td>free</td>\n",
       "      <td>2840.423096</td>\n",
       "      <td>21.409800</td>\n",
       "      <td>2021-11-16</td>\n",
       "      <td>11</td>\n",
       "      <td>8</td>\n",
       "      <td>50</td>\n",
       "      <td>0</td>\n",
       "    </tr>\n",
       "    <tr>\n",
       "      <th>18065</th>\n",
       "      <td>1534</td>\n",
       "      <td>Альберт</td>\n",
       "      <td>25</td>\n",
       "      <td>Краснодар</td>\n",
       "      <td>free</td>\n",
       "      <td>3826.185547</td>\n",
       "      <td>18.435051</td>\n",
       "      <td>2021-11-18</td>\n",
       "      <td>11</td>\n",
       "      <td>8</td>\n",
       "      <td>50</td>\n",
       "      <td>0</td>\n",
       "    </tr>\n",
       "    <tr>\n",
       "      <th>18066</th>\n",
       "      <td>1534</td>\n",
       "      <td>Альберт</td>\n",
       "      <td>25</td>\n",
       "      <td>Краснодар</td>\n",
       "      <td>free</td>\n",
       "      <td>2902.308594</td>\n",
       "      <td>16.674362</td>\n",
       "      <td>2021-11-27</td>\n",
       "      <td>11</td>\n",
       "      <td>8</td>\n",
       "      <td>50</td>\n",
       "      <td>0</td>\n",
       "    </tr>\n",
       "    <tr>\n",
       "      <th>18067</th>\n",
       "      <td>1534</td>\n",
       "      <td>Альберт</td>\n",
       "      <td>25</td>\n",
       "      <td>Краснодар</td>\n",
       "      <td>free</td>\n",
       "      <td>2371.711182</td>\n",
       "      <td>15.893917</td>\n",
       "      <td>2021-12-29</td>\n",
       "      <td>12</td>\n",
       "      <td>8</td>\n",
       "      <td>50</td>\n",
       "      <td>0</td>\n",
       "    </tr>\n",
       "  </tbody>\n",
       "</table>\n",
       "<p>11568 rows × 12 columns</p>\n",
       "</div>"
      ],
      "text/plain": [
       "       user_id     name  age       city subscription_type     distance  \\\n",
       "6500       700    Айдар   22       Омск              free  2515.690674   \n",
       "6501       700    Айдар   22       Омск              free   846.932617   \n",
       "6502       700    Айдар   22       Омск              free  4004.434082   \n",
       "6503       700    Айдар   22       Омск              free  1205.911255   \n",
       "6504       700    Айдар   22       Омск              free  3047.379395   \n",
       "...        ...      ...  ...        ...               ...          ...   \n",
       "18063     1534  Альберт   25  Краснодар              free  3781.098145   \n",
       "18064     1534  Альберт   25  Краснодар              free  2840.423096   \n",
       "18065     1534  Альберт   25  Краснодар              free  3826.185547   \n",
       "18066     1534  Альберт   25  Краснодар              free  2902.308594   \n",
       "18067     1534  Альберт   25  Краснодар              free  2371.711182   \n",
       "\n",
       "        duration       date  month  minute_price  start_ride_price  \\\n",
       "6500   14.944286 2021-01-02      1             8                50   \n",
       "6501   16.234663 2021-02-01      2             8                50   \n",
       "6502   20.016628 2021-02-04      2             8                50   \n",
       "6503    9.782872 2021-02-10      2             8                50   \n",
       "6504   17.427673 2021-02-14      2             8                50   \n",
       "...          ...        ...    ...           ...               ...   \n",
       "18063  19.822962 2021-11-04     11             8                50   \n",
       "18064  21.409800 2021-11-16     11             8                50   \n",
       "18065  18.435051 2021-11-18     11             8                50   \n",
       "18066  16.674362 2021-11-27     11             8                50   \n",
       "18067  15.893917 2021-12-29     12             8                50   \n",
       "\n",
       "       subscription_fee  \n",
       "6500                  0  \n",
       "6501                  0  \n",
       "6502                  0  \n",
       "6503                  0  \n",
       "6504                  0  \n",
       "...                 ...  \n",
       "18063                 0  \n",
       "18064                 0  \n",
       "18065                 0  \n",
       "18066                 0  \n",
       "18067                 0  \n",
       "\n",
       "[11568 rows x 12 columns]"
      ]
     },
     "execution_count": 51,
     "metadata": {},
     "output_type": "execute_result"
    }
   ],
   "source": [
    "data_free"
   ]
  },
  {
   "cell_type": "code",
   "execution_count": 52,
   "id": "34f50b45",
   "metadata": {},
   "outputs": [],
   "source": [
    "data_ultra = data[data['subscription_type'] == 'ultra']"
   ]
  },
  {
   "cell_type": "code",
   "execution_count": 53,
   "id": "7efe3c62",
   "metadata": {},
   "outputs": [
    {
     "data": {
      "text/html": [
       "<div>\n",
       "<style scoped>\n",
       "    .dataframe tbody tr th:only-of-type {\n",
       "        vertical-align: middle;\n",
       "    }\n",
       "\n",
       "    .dataframe tbody tr th {\n",
       "        vertical-align: top;\n",
       "    }\n",
       "\n",
       "    .dataframe thead th {\n",
       "        text-align: right;\n",
       "    }\n",
       "</style>\n",
       "<table border=\"1\" class=\"dataframe\">\n",
       "  <thead>\n",
       "    <tr style=\"text-align: right;\">\n",
       "      <th></th>\n",
       "      <th>user_id</th>\n",
       "      <th>name</th>\n",
       "      <th>age</th>\n",
       "      <th>city</th>\n",
       "      <th>subscription_type</th>\n",
       "      <th>distance</th>\n",
       "      <th>duration</th>\n",
       "      <th>date</th>\n",
       "      <th>month</th>\n",
       "      <th>minute_price</th>\n",
       "      <th>start_ride_price</th>\n",
       "      <th>subscription_fee</th>\n",
       "    </tr>\n",
       "  </thead>\n",
       "  <tbody>\n",
       "    <tr>\n",
       "      <th>0</th>\n",
       "      <td>1</td>\n",
       "      <td>Кира</td>\n",
       "      <td>22</td>\n",
       "      <td>Тюмень</td>\n",
       "      <td>ultra</td>\n",
       "      <td>4409.918945</td>\n",
       "      <td>25.599770</td>\n",
       "      <td>2021-01-01</td>\n",
       "      <td>1</td>\n",
       "      <td>6</td>\n",
       "      <td>0</td>\n",
       "      <td>199</td>\n",
       "    </tr>\n",
       "    <tr>\n",
       "      <th>1</th>\n",
       "      <td>1</td>\n",
       "      <td>Кира</td>\n",
       "      <td>22</td>\n",
       "      <td>Тюмень</td>\n",
       "      <td>ultra</td>\n",
       "      <td>2617.592041</td>\n",
       "      <td>15.816872</td>\n",
       "      <td>2021-01-18</td>\n",
       "      <td>1</td>\n",
       "      <td>6</td>\n",
       "      <td>0</td>\n",
       "      <td>199</td>\n",
       "    </tr>\n",
       "    <tr>\n",
       "      <th>2</th>\n",
       "      <td>1</td>\n",
       "      <td>Кира</td>\n",
       "      <td>22</td>\n",
       "      <td>Тюмень</td>\n",
       "      <td>ultra</td>\n",
       "      <td>754.159790</td>\n",
       "      <td>6.232113</td>\n",
       "      <td>2021-04-20</td>\n",
       "      <td>4</td>\n",
       "      <td>6</td>\n",
       "      <td>0</td>\n",
       "      <td>199</td>\n",
       "    </tr>\n",
       "    <tr>\n",
       "      <th>3</th>\n",
       "      <td>1</td>\n",
       "      <td>Кира</td>\n",
       "      <td>22</td>\n",
       "      <td>Тюмень</td>\n",
       "      <td>ultra</td>\n",
       "      <td>2694.783203</td>\n",
       "      <td>18.511000</td>\n",
       "      <td>2021-08-11</td>\n",
       "      <td>8</td>\n",
       "      <td>6</td>\n",
       "      <td>0</td>\n",
       "      <td>199</td>\n",
       "    </tr>\n",
       "    <tr>\n",
       "      <th>4</th>\n",
       "      <td>1</td>\n",
       "      <td>Кира</td>\n",
       "      <td>22</td>\n",
       "      <td>Тюмень</td>\n",
       "      <td>ultra</td>\n",
       "      <td>4028.687256</td>\n",
       "      <td>26.265802</td>\n",
       "      <td>2021-08-28</td>\n",
       "      <td>8</td>\n",
       "      <td>6</td>\n",
       "      <td>0</td>\n",
       "      <td>199</td>\n",
       "    </tr>\n",
       "    <tr>\n",
       "      <th>...</th>\n",
       "      <td>...</td>\n",
       "      <td>...</td>\n",
       "      <td>...</td>\n",
       "      <td>...</td>\n",
       "      <td>...</td>\n",
       "      <td>...</td>\n",
       "      <td>...</td>\n",
       "      <td>...</td>\n",
       "      <td>...</td>\n",
       "      <td>...</td>\n",
       "      <td>...</td>\n",
       "      <td>...</td>\n",
       "    </tr>\n",
       "    <tr>\n",
       "      <th>6495</th>\n",
       "      <td>699</td>\n",
       "      <td>Оксана</td>\n",
       "      <td>22</td>\n",
       "      <td>Москва</td>\n",
       "      <td>ultra</td>\n",
       "      <td>3973.046387</td>\n",
       "      <td>24.671164</td>\n",
       "      <td>2021-08-29</td>\n",
       "      <td>8</td>\n",
       "      <td>6</td>\n",
       "      <td>0</td>\n",
       "      <td>199</td>\n",
       "    </tr>\n",
       "    <tr>\n",
       "      <th>6496</th>\n",
       "      <td>699</td>\n",
       "      <td>Оксана</td>\n",
       "      <td>22</td>\n",
       "      <td>Москва</td>\n",
       "      <td>ultra</td>\n",
       "      <td>3288.702637</td>\n",
       "      <td>15.892886</td>\n",
       "      <td>2021-09-12</td>\n",
       "      <td>9</td>\n",
       "      <td>6</td>\n",
       "      <td>0</td>\n",
       "      <td>199</td>\n",
       "    </tr>\n",
       "    <tr>\n",
       "      <th>6497</th>\n",
       "      <td>699</td>\n",
       "      <td>Оксана</td>\n",
       "      <td>22</td>\n",
       "      <td>Москва</td>\n",
       "      <td>ultra</td>\n",
       "      <td>3076.159424</td>\n",
       "      <td>14.389525</td>\n",
       "      <td>2021-09-26</td>\n",
       "      <td>9</td>\n",
       "      <td>6</td>\n",
       "      <td>0</td>\n",
       "      <td>199</td>\n",
       "    </tr>\n",
       "    <tr>\n",
       "      <th>6498</th>\n",
       "      <td>699</td>\n",
       "      <td>Оксана</td>\n",
       "      <td>22</td>\n",
       "      <td>Москва</td>\n",
       "      <td>ultra</td>\n",
       "      <td>4707.845703</td>\n",
       "      <td>15.839579</td>\n",
       "      <td>2021-10-17</td>\n",
       "      <td>10</td>\n",
       "      <td>6</td>\n",
       "      <td>0</td>\n",
       "      <td>199</td>\n",
       "    </tr>\n",
       "    <tr>\n",
       "      <th>6499</th>\n",
       "      <td>699</td>\n",
       "      <td>Оксана</td>\n",
       "      <td>22</td>\n",
       "      <td>Москва</td>\n",
       "      <td>ultra</td>\n",
       "      <td>3202.890869</td>\n",
       "      <td>25.217344</td>\n",
       "      <td>2021-12-03</td>\n",
       "      <td>12</td>\n",
       "      <td>6</td>\n",
       "      <td>0</td>\n",
       "      <td>199</td>\n",
       "    </tr>\n",
       "  </tbody>\n",
       "</table>\n",
       "<p>6500 rows × 12 columns</p>\n",
       "</div>"
      ],
      "text/plain": [
       "      user_id    name  age    city subscription_type     distance   duration  \\\n",
       "0           1    Кира   22  Тюмень             ultra  4409.918945  25.599770   \n",
       "1           1    Кира   22  Тюмень             ultra  2617.592041  15.816872   \n",
       "2           1    Кира   22  Тюмень             ultra   754.159790   6.232113   \n",
       "3           1    Кира   22  Тюмень             ultra  2694.783203  18.511000   \n",
       "4           1    Кира   22  Тюмень             ultra  4028.687256  26.265802   \n",
       "...       ...     ...  ...     ...               ...          ...        ...   \n",
       "6495      699  Оксана   22  Москва             ultra  3973.046387  24.671164   \n",
       "6496      699  Оксана   22  Москва             ultra  3288.702637  15.892886   \n",
       "6497      699  Оксана   22  Москва             ultra  3076.159424  14.389525   \n",
       "6498      699  Оксана   22  Москва             ultra  4707.845703  15.839579   \n",
       "6499      699  Оксана   22  Москва             ultra  3202.890869  25.217344   \n",
       "\n",
       "           date  month  minute_price  start_ride_price  subscription_fee  \n",
       "0    2021-01-01      1             6                 0               199  \n",
       "1    2021-01-18      1             6                 0               199  \n",
       "2    2021-04-20      4             6                 0               199  \n",
       "3    2021-08-11      8             6                 0               199  \n",
       "4    2021-08-28      8             6                 0               199  \n",
       "...         ...    ...           ...               ...               ...  \n",
       "6495 2021-08-29      8             6                 0               199  \n",
       "6496 2021-09-12      9             6                 0               199  \n",
       "6497 2021-09-26      9             6                 0               199  \n",
       "6498 2021-10-17     10             6                 0               199  \n",
       "6499 2021-12-03     12             6                 0               199  \n",
       "\n",
       "[6500 rows x 12 columns]"
      ]
     },
     "execution_count": 53,
     "metadata": {},
     "output_type": "execute_result"
    }
   ],
   "source": [
    "data_ultra"
   ]
  },
  {
   "cell_type": "markdown",
   "id": "455b8371",
   "metadata": {},
   "source": [
    "##### Проведем оценку расстояния и времени поездок для двух категорий пользователей."
   ]
  },
  {
   "cell_type": "code",
   "execution_count": 54,
   "id": "50ec1b94",
   "metadata": {},
   "outputs": [
    {
     "data": {
      "image/png": "[encoded data removed]",
      "text/plain": [
       "<Figure size 720x360 with 1 Axes>"
      ]
     },
     "metadata": {
      "needs_background": "light"
     },
     "output_type": "display_data"
    }
   ],
   "source": [
    "data_ultra['distance'].hist(bins=100, figsize = (10,5))\n",
    "plt.title('Расстояние поездок у пользователей, оформивших платную подписку');\n",
    "plt.xlabel('Расстояние, м.');\n",
    "plt.ylabel('Количество пользователей')\n",
    "plt.show()\n",
    "\n",
    " "
   ]
  },
  {
   "cell_type": "code",
   "execution_count": 55,
   "id": "92c8d6fe",
   "metadata": {},
   "outputs": [
    {
     "data": {
      "text/plain": [
       "count    6500.000000\n",
       "mean     3115.445557\n",
       "std       836.895325\n",
       "min       244.210434\n",
       "25%      2785.444092\n",
       "50%      3148.637207\n",
       "75%      3560.574524\n",
       "max      5699.769531\n",
       "Name: distance, dtype: float64"
      ]
     },
     "execution_count": 55,
     "metadata": {},
     "output_type": "execute_result"
    }
   ],
   "source": [
    "data_ultra['distance'].describe()"
   ]
  },
  {
   "cell_type": "markdown",
   "id": "706656fa",
   "metadata": {},
   "source": [
    "В среднем пользователи с подпиской проезжают порядка 3115м."
   ]
  },
  {
   "cell_type": "code",
   "execution_count": 56,
   "id": "66c580de",
   "metadata": {},
   "outputs": [
    {
     "data": {
      "text/plain": [
       "Text(0, 0.5, 'Количество пользователей')"
      ]
     },
     "execution_count": 56,
     "metadata": {},
     "output_type": "execute_result"
    },
    {
     "data": {
      "image/png": "[encoded data removed]",
      "text/plain": [
       "<Figure size 720x360 with 1 Axes>"
      ]
     },
     "metadata": {
      "needs_background": "light"
     },
     "output_type": "display_data"
    }
   ],
   "source": [
    "data_ultra['duration'].hist(bins=100, figsize = (10,5))\n",
    "plt.title('Продолжительность поездок у пользователей, оформивших платную подписку');\n",
    "plt.xlabel('Время, м.');\n",
    "plt.ylabel('Количество пользователей')"
   ]
  },
  {
   "cell_type": "code",
   "execution_count": 57,
   "id": "52e93a95",
   "metadata": {},
   "outputs": [
    {
     "data": {
      "text/plain": [
       "count    6500.000000\n",
       "mean       18.541986\n",
       "std         5.572048\n",
       "min         3.760353\n",
       "25%        14.524654\n",
       "50%        18.178153\n",
       "75%        21.884128\n",
       "max        40.823963\n",
       "Name: duration, dtype: float64"
      ]
     },
     "execution_count": 57,
     "metadata": {},
     "output_type": "execute_result"
    }
   ],
   "source": [
    "data_ultra['duration'].describe()"
   ]
  },
  {
   "cell_type": "markdown",
   "id": "2189c818",
   "metadata": {},
   "source": [
    "В среднем пользователи с подпиской тратят на поездку 18.5 минут."
   ]
  },
  {
   "cell_type": "code",
   "execution_count": 58,
   "id": "125b8381",
   "metadata": {},
   "outputs": [
    {
     "data": {
      "image/png": "[encoded data removed]",
      "text/plain": [
       "<Figure size 720x360 with 1 Axes>"
      ]
     },
     "metadata": {
      "needs_background": "light"
     },
     "output_type": "display_data"
    }
   ],
   "source": [
    "data_free['distance'].hist(bins=100, figsize = (10,5))\n",
    "plt.title('Расстояние поездок у пользователей, не оформлявших платную подписку');\n",
    "plt.xlabel('Расстояние, м.');\n",
    "plt.ylabel('Количество пользователей')\n",
    "plt.show()\n",
    "\n",
    " "
   ]
  },
  {
   "cell_type": "code",
   "execution_count": 59,
   "id": "e2b90a41",
   "metadata": {},
   "outputs": [
    {
     "data": {
      "text/plain": [
       "count    11568.000000\n",
       "mean      3045.495117\n",
       "std       1246.173828\n",
       "min          0.855683\n",
       "25%       2366.562622\n",
       "50%       3114.648438\n",
       "75%       3905.697876\n",
       "max       7211.007812\n",
       "Name: distance, dtype: float64"
      ]
     },
     "execution_count": 59,
     "metadata": {},
     "output_type": "execute_result"
    }
   ],
   "source": [
    "data_free['distance'].describe()"
   ]
  },
  {
   "cell_type": "markdown",
   "id": "2c83431d",
   "metadata": {},
   "source": [
    "В среднем пользователи без подписки проезжают около 3045м."
   ]
  },
  {
   "cell_type": "code",
   "execution_count": 60,
   "id": "20fae19f",
   "metadata": {},
   "outputs": [
    {
     "data": {
      "text/plain": [
       "Text(0, 0.5, 'Количество пользователей')"
      ]
     },
     "execution_count": 60,
     "metadata": {},
     "output_type": "execute_result"
    },
    {
     "data": {
      "image/png": "[encoded data removed]",
      "text/plain": [
       "<Figure size 720x360 with 1 Axes>"
      ]
     },
     "metadata": {
      "needs_background": "light"
     },
     "output_type": "display_data"
    }
   ],
   "source": [
    "data_free['duration'].hist(bins=100, figsize = (10,5))\n",
    "plt.title('Продолжительность поездок у пользователей, не оформлявших платную подписку');\n",
    "plt.xlabel('Время, м.');\n",
    "plt.ylabel('Количество пользователей')"
   ]
  },
  {
   "cell_type": "code",
   "execution_count": 61,
   "id": "add31564",
   "metadata": {},
   "outputs": [
    {
     "data": {
      "text/plain": [
       "count    11568.000000\n",
       "mean        17.390909\n",
       "std          6.326803\n",
       "min          0.500000\n",
       "25%         12.958436\n",
       "50%         17.326890\n",
       "75%         21.594071\n",
       "max         34.948498\n",
       "Name: duration, dtype: float64"
      ]
     },
     "execution_count": 61,
     "metadata": {},
     "output_type": "execute_result"
    }
   ],
   "source": [
    "data_free['duration'].describe()"
   ]
  },
  {
   "cell_type": "markdown",
   "id": "2141e007",
   "metadata": {},
   "source": [
    "В среднем пользователи без подписки пользуются сервисом в течение 17.4 минуты."
   ]
  },
  {
   "cell_type": "markdown",
   "id": "907acbf2",
   "metadata": {},
   "source": [
    "Проведено объединение датасетов, а также выделены два датасета с данными о пользователях с подпиской и без. По результатам анализа датасетов установлено, что без подписки в целом проезжают по расстоянию немного больше, но быстрее по времени относительно пользователей с подпиской. Это может быть связано с более высокой ценой за минуту без подписки."
   ]
  },
  {
   "cell_type": "markdown",
   "id": "0b765230",
   "metadata": {},
   "source": []
  },
  {
   "cell_type": "markdown",
   "id": "402d620f",
   "metadata": {},
   "source": [
    "#### Шаг 5. Подсчёт выручки"
   ]
  },
  {
   "cell_type": "markdown",
   "id": "5f2a843d",
   "metadata": {},
   "source": [
    "##### Создание датафрейма с агрегированными данными о поездках."
   ]
  },
  {
   "cell_type": "code",
   "execution_count": 62,
   "id": "04ab9e69",
   "metadata": {},
   "outputs": [],
   "source": [
    "data_travel = data.pivot_table(index = ['user_id', 'month'], values = ['distance', 'duration', 'name','subscription_type' ], aggfunc = {'distance':'sum', 'duration':'sum', 'name':'count', 'subscription_type': 'min'})"
   ]
  },
  {
   "cell_type": "code",
   "execution_count": 63,
   "id": "652f7c52",
   "metadata": {},
   "outputs": [],
   "source": [
    "data_travel.columns = ['total_distance', 'total_duration', 'travel_count', 'subscription_type']"
   ]
  },
  {
   "cell_type": "markdown",
   "id": "5038c85d",
   "metadata": {},
   "source": [
    "Проведем провперку на пропуски в сводной таблице."
   ]
  },
  {
   "cell_type": "code",
   "execution_count": 64,
   "id": "339de877",
   "metadata": {
    "scrolled": true
   },
   "outputs": [
    {
     "data": {
      "text/plain": [
       "total_distance       0\n",
       "total_duration       0\n",
       "travel_count         0\n",
       "subscription_type    0\n",
       "dtype: int64"
      ]
     },
     "execution_count": 64,
     "metadata": {},
     "output_type": "execute_result"
    }
   ],
   "source": [
    "data_travel.isna().sum()"
   ]
  },
  {
   "cell_type": "code",
   "execution_count": 65,
   "id": "95c7097b",
   "metadata": {},
   "outputs": [
    {
     "data": {
      "text/html": [
       "<div>\n",
       "<style scoped>\n",
       "    .dataframe tbody tr th:only-of-type {\n",
       "        vertical-align: middle;\n",
       "    }\n",
       "\n",
       "    .dataframe tbody tr th {\n",
       "        vertical-align: top;\n",
       "    }\n",
       "\n",
       "    .dataframe thead th {\n",
       "        text-align: right;\n",
       "    }\n",
       "</style>\n",
       "<table border=\"1\" class=\"dataframe\">\n",
       "  <thead>\n",
       "    <tr style=\"text-align: right;\">\n",
       "      <th></th>\n",
       "      <th></th>\n",
       "      <th>total_distance</th>\n",
       "      <th>total_duration</th>\n",
       "      <th>travel_count</th>\n",
       "      <th>subscription_type</th>\n",
       "    </tr>\n",
       "    <tr>\n",
       "      <th>user_id</th>\n",
       "      <th>month</th>\n",
       "      <th></th>\n",
       "      <th></th>\n",
       "      <th></th>\n",
       "      <th></th>\n",
       "    </tr>\n",
       "  </thead>\n",
       "  <tbody>\n",
       "    <tr>\n",
       "      <th rowspan=\"5\" valign=\"top\">1</th>\n",
       "      <th>1</th>\n",
       "      <td>7027.510742</td>\n",
       "      <td>41.416641</td>\n",
       "      <td>2</td>\n",
       "      <td>ultra</td>\n",
       "    </tr>\n",
       "    <tr>\n",
       "      <th>4</th>\n",
       "      <td>754.159790</td>\n",
       "      <td>6.232113</td>\n",
       "      <td>1</td>\n",
       "      <td>ultra</td>\n",
       "    </tr>\n",
       "    <tr>\n",
       "      <th>8</th>\n",
       "      <td>6723.470703</td>\n",
       "      <td>44.776802</td>\n",
       "      <td>2</td>\n",
       "      <td>ultra</td>\n",
       "    </tr>\n",
       "    <tr>\n",
       "      <th>10</th>\n",
       "      <td>5809.911133</td>\n",
       "      <td>31.578018</td>\n",
       "      <td>2</td>\n",
       "      <td>ultra</td>\n",
       "    </tr>\n",
       "    <tr>\n",
       "      <th>11</th>\n",
       "      <td>7003.499512</td>\n",
       "      <td>53.397423</td>\n",
       "      <td>3</td>\n",
       "      <td>ultra</td>\n",
       "    </tr>\n",
       "    <tr>\n",
       "      <th>...</th>\n",
       "      <th>...</th>\n",
       "      <td>...</td>\n",
       "      <td>...</td>\n",
       "      <td>...</td>\n",
       "      <td>...</td>\n",
       "    </tr>\n",
       "    <tr>\n",
       "      <th rowspan=\"5\" valign=\"top\">1534</th>\n",
       "      <th>6</th>\n",
       "      <td>3409.468506</td>\n",
       "      <td>24.812677</td>\n",
       "      <td>2</td>\n",
       "      <td>free</td>\n",
       "    </tr>\n",
       "    <tr>\n",
       "      <th>8</th>\n",
       "      <td>7622.453125</td>\n",
       "      <td>47.205959</td>\n",
       "      <td>2</td>\n",
       "      <td>free</td>\n",
       "    </tr>\n",
       "    <tr>\n",
       "      <th>9</th>\n",
       "      <td>4928.173828</td>\n",
       "      <td>22.560373</td>\n",
       "      <td>1</td>\n",
       "      <td>free</td>\n",
       "    </tr>\n",
       "    <tr>\n",
       "      <th>11</th>\n",
       "      <td>13350.015625</td>\n",
       "      <td>76.342178</td>\n",
       "      <td>4</td>\n",
       "      <td>free</td>\n",
       "    </tr>\n",
       "    <tr>\n",
       "      <th>12</th>\n",
       "      <td>2371.711182</td>\n",
       "      <td>15.893917</td>\n",
       "      <td>1</td>\n",
       "      <td>free</td>\n",
       "    </tr>\n",
       "  </tbody>\n",
       "</table>\n",
       "<p>11331 rows × 4 columns</p>\n",
       "</div>"
      ],
      "text/plain": [
       "               total_distance  total_duration  travel_count subscription_type\n",
       "user_id month                                                                \n",
       "1       1         7027.510742       41.416641             2             ultra\n",
       "        4          754.159790        6.232113             1             ultra\n",
       "        8         6723.470703       44.776802             2             ultra\n",
       "        10        5809.911133       31.578018             2             ultra\n",
       "        11        7003.499512       53.397423             3             ultra\n",
       "...                       ...             ...           ...               ...\n",
       "1534    6         3409.468506       24.812677             2              free\n",
       "        8         7622.453125       47.205959             2              free\n",
       "        9         4928.173828       22.560373             1              free\n",
       "        11       13350.015625       76.342178             4              free\n",
       "        12        2371.711182       15.893917             1              free\n",
       "\n",
       "[11331 rows x 4 columns]"
      ]
     },
     "execution_count": 65,
     "metadata": {},
     "output_type": "execute_result"
    }
   ],
   "source": [
    "data_travel"
   ]
  },
  {
   "cell_type": "markdown",
   "id": "d28f1941",
   "metadata": {},
   "source": [
    "Округлим значения в столбце продолжительность поездки."
   ]
  },
  {
   "cell_type": "code",
   "execution_count": 66,
   "id": "5e2b9172",
   "metadata": {},
   "outputs": [],
   "source": [
    "data_travel['total_duration'] = np.ceil(data_travel['total_duration'])"
   ]
  },
  {
   "cell_type": "markdown",
   "id": "02b7aac1",
   "metadata": {},
   "source": [
    "Получена сводная таблица со структурированными данными пользователей по проиденной дистанции, времени пользования самокатом, количеству поездок и месяцем использования самоката."
   ]
  },
  {
   "cell_type": "markdown",
   "id": "f6451f42",
   "metadata": {},
   "source": [
    "##### Добавим столбец с помесячной выручкой, которую принёс каждый пользователь."
   ]
  },
  {
   "cell_type": "code",
   "execution_count": 67,
   "id": "617f5542",
   "metadata": {},
   "outputs": [],
   "source": [
    "def money(row):\n",
    "    total_distance = row['total_distance']\n",
    "    total_duration = row['total_duration']\n",
    "    travel_count = row['travel_count']\n",
    "    subscription_type = row['subscription_type']\n",
    "    \n",
    "    if subscription_type == 'free':\n",
    "        return (50 * travel_count) + (8 * total_duration)\n",
    "    elif subscription_type == 'ultra':\n",
    "        return (6 * total_duration) + 199\n",
    "    "
   ]
  },
  {
   "cell_type": "code",
   "execution_count": 68,
   "id": "bf42e3c1",
   "metadata": {},
   "outputs": [],
   "source": [
    "data_travel['income'] = data_travel.apply(money, axis = 1)"
   ]
  },
  {
   "cell_type": "code",
   "execution_count": 69,
   "id": "1cdf17f0",
   "metadata": {},
   "outputs": [
    {
     "data": {
      "text/html": [
       "<div>\n",
       "<style scoped>\n",
       "    .dataframe tbody tr th:only-of-type {\n",
       "        vertical-align: middle;\n",
       "    }\n",
       "\n",
       "    .dataframe tbody tr th {\n",
       "        vertical-align: top;\n",
       "    }\n",
       "\n",
       "    .dataframe thead th {\n",
       "        text-align: right;\n",
       "    }\n",
       "</style>\n",
       "<table border=\"1\" class=\"dataframe\">\n",
       "  <thead>\n",
       "    <tr style=\"text-align: right;\">\n",
       "      <th></th>\n",
       "      <th></th>\n",
       "      <th>total_distance</th>\n",
       "      <th>total_duration</th>\n",
       "      <th>travel_count</th>\n",
       "      <th>subscription_type</th>\n",
       "      <th>income</th>\n",
       "    </tr>\n",
       "    <tr>\n",
       "      <th>user_id</th>\n",
       "      <th>month</th>\n",
       "      <th></th>\n",
       "      <th></th>\n",
       "      <th></th>\n",
       "      <th></th>\n",
       "      <th></th>\n",
       "    </tr>\n",
       "  </thead>\n",
       "  <tbody>\n",
       "    <tr>\n",
       "      <th rowspan=\"6\" valign=\"top\">1</th>\n",
       "      <th>1</th>\n",
       "      <td>7027.510742</td>\n",
       "      <td>42.0</td>\n",
       "      <td>2</td>\n",
       "      <td>ultra</td>\n",
       "      <td>451.0</td>\n",
       "    </tr>\n",
       "    <tr>\n",
       "      <th>4</th>\n",
       "      <td>754.159790</td>\n",
       "      <td>7.0</td>\n",
       "      <td>1</td>\n",
       "      <td>ultra</td>\n",
       "      <td>241.0</td>\n",
       "    </tr>\n",
       "    <tr>\n",
       "      <th>8</th>\n",
       "      <td>6723.470703</td>\n",
       "      <td>45.0</td>\n",
       "      <td>2</td>\n",
       "      <td>ultra</td>\n",
       "      <td>469.0</td>\n",
       "    </tr>\n",
       "    <tr>\n",
       "      <th>10</th>\n",
       "      <td>5809.911133</td>\n",
       "      <td>32.0</td>\n",
       "      <td>2</td>\n",
       "      <td>ultra</td>\n",
       "      <td>391.0</td>\n",
       "    </tr>\n",
       "    <tr>\n",
       "      <th>11</th>\n",
       "      <td>7003.499512</td>\n",
       "      <td>54.0</td>\n",
       "      <td>3</td>\n",
       "      <td>ultra</td>\n",
       "      <td>523.0</td>\n",
       "    </tr>\n",
       "    <tr>\n",
       "      <th>12</th>\n",
       "      <td>6751.629883</td>\n",
       "      <td>28.0</td>\n",
       "      <td>2</td>\n",
       "      <td>ultra</td>\n",
       "      <td>367.0</td>\n",
       "    </tr>\n",
       "    <tr>\n",
       "      <th rowspan=\"4\" valign=\"top\">2</th>\n",
       "      <th>3</th>\n",
       "      <td>10187.722656</td>\n",
       "      <td>61.0</td>\n",
       "      <td>3</td>\n",
       "      <td>ultra</td>\n",
       "      <td>565.0</td>\n",
       "    </tr>\n",
       "    <tr>\n",
       "      <th>4</th>\n",
       "      <td>6164.381836</td>\n",
       "      <td>40.0</td>\n",
       "      <td>2</td>\n",
       "      <td>ultra</td>\n",
       "      <td>439.0</td>\n",
       "    </tr>\n",
       "    <tr>\n",
       "      <th>6</th>\n",
       "      <td>3255.338135</td>\n",
       "      <td>14.0</td>\n",
       "      <td>1</td>\n",
       "      <td>ultra</td>\n",
       "      <td>283.0</td>\n",
       "    </tr>\n",
       "    <tr>\n",
       "      <th>7</th>\n",
       "      <td>6780.722656</td>\n",
       "      <td>47.0</td>\n",
       "      <td>2</td>\n",
       "      <td>ultra</td>\n",
       "      <td>481.0</td>\n",
       "    </tr>\n",
       "  </tbody>\n",
       "</table>\n",
       "</div>"
      ],
      "text/plain": [
       "               total_distance  total_duration  travel_count subscription_type  \\\n",
       "user_id month                                                                   \n",
       "1       1         7027.510742            42.0             2             ultra   \n",
       "        4          754.159790             7.0             1             ultra   \n",
       "        8         6723.470703            45.0             2             ultra   \n",
       "        10        5809.911133            32.0             2             ultra   \n",
       "        11        7003.499512            54.0             3             ultra   \n",
       "        12        6751.629883            28.0             2             ultra   \n",
       "2       3        10187.722656            61.0             3             ultra   \n",
       "        4         6164.381836            40.0             2             ultra   \n",
       "        6         3255.338135            14.0             1             ultra   \n",
       "        7         6780.722656            47.0             2             ultra   \n",
       "\n",
       "               income  \n",
       "user_id month          \n",
       "1       1       451.0  \n",
       "        4       241.0  \n",
       "        8       469.0  \n",
       "        10      391.0  \n",
       "        11      523.0  \n",
       "        12      367.0  \n",
       "2       3       565.0  \n",
       "        4       439.0  \n",
       "        6       283.0  \n",
       "        7       481.0  "
      ]
     },
     "execution_count": 69,
     "metadata": {},
     "output_type": "execute_result"
    }
   ],
   "source": [
    "data_travel.head(10)"
   ]
  },
  {
   "cell_type": "markdown",
   "id": "e89903b5",
   "metadata": {},
   "source": [
    "Был создан новый датафрейм с агрегированными данными на основе датафрейма с объединенными данными.\n",
    "\n",
    "Были найдены суммарное расстояние, количество поездок и суммарное время для каждого пользователя за каждый месяц. Также добавлен столбец с помесячной выручкой, которую принес каждый пользователь."
   ]
  },
  {
   "cell_type": "markdown",
   "id": "41545ac0",
   "metadata": {},
   "source": [
    "#### Шаг 6. Проверка гипотез"
   ]
  },
  {
   "cell_type": "markdown",
   "id": "bfabc793",
   "metadata": {},
   "source": [
    "##### Тратят ли пользователи с подпиской больше времени на поездки."
   ]
  },
  {
   "cell_type": "code",
   "execution_count": 70,
   "id": "62fa2969",
   "metadata": {},
   "outputs": [],
   "source": [
    "ultra = data_ultra['duration'] \n",
    "\n"
   ]
  },
  {
   "cell_type": "code",
   "execution_count": 71,
   "id": "1541fbff",
   "metadata": {},
   "outputs": [],
   "source": [
    "free = data_free['duration']"
   ]
  },
  {
   "cell_type": "markdown",
   "id": "c2e19af7",
   "metadata": {},
   "source": [
    "Проверим гипотезу: пользователи с подпиской тратят столько же времени на поездки, как и без подписки.\n",
    "\n",
    "H_0: Время пользования с подпиской (ultra) равно времени пользования без подписки (free)\n",
    "\n",
    "H_1: Время пользования с подпиской (ultra) больше времени пользования без подписки (free)"
   ]
  },
  {
   "cell_type": "code",
   "execution_count": 72,
   "id": "efd4c0c0",
   "metadata": {},
   "outputs": [
    {
     "name": "stdout",
     "output_type": "stream",
     "text": [
      "p-значение: 1.2801722407147585e-34\n",
      "Отвергаем нулевую гипотезу\n"
     ]
    }
   ],
   "source": [
    "alpha = 0.05 # уровень статистической значимости\n",
    "# если p-value окажется меньше него, отвергнем гипотезу\n",
    "\n",
    "results = st.ttest_ind(ultra, free, alternative = 'greater')\n",
    "\n",
    "print('p-значение:', results.pvalue)\n",
    "\n",
    "if results.pvalue < alpha:\n",
    "    print('Отвергаем нулевую гипотезу')\n",
    "else:\n",
    "    print('Не получилось отвергнуть нулевую гипотезу') "
   ]
  },
  {
   "cell_type": "code",
   "execution_count": 73,
   "id": "4b5f30ee",
   "metadata": {},
   "outputs": [
    {
     "name": "stdout",
     "output_type": "stream",
     "text": [
      "Средняя продолжительность аренды у пользователей с подпиской: 18.54 минут, а у пользователей без подписки 17.39 минут\n",
      "\n",
      "В среднем пользователи с подпиской арендуют самокат на 1.15 минут больше, чем пользователи без подписки.\n"
     ]
    }
   ],
   "source": [
    "print('Средняя продолжительность аренды у пользователей с подпиской:',\n",
    "      round(data_ultra['duration'].mean(), 2), 'минут, а у пользователей без подписки',\n",
    "      round(data_free['duration'].mean(), 2), 'минут')\n",
    "print()\n",
    "print('В среднем пользователи с подпиской арендуют самокат на',\n",
    "      round(round(data_ultra['duration'].mean(), 2) - round(data_free['duration'].mean(), 2), 2),\n",
    "      'минут больше, чем пользователи без подписки.')"
   ]
  },
  {
   "cell_type": "markdown",
   "id": "1d6a689a",
   "metadata": {},
   "source": [
    "Проверили гипотезу о том, что время поездки пользователей на тарифе ultra равно времени поездки пользователей на тарифе free.Гипотеза была отвергнута. В среднем пользователи с подпиской арендуют самокат на большее время, но это время незначительно и составляет чуть более минуты."
   ]
  },
  {
   "cell_type": "markdown",
   "id": "f73deb93",
   "metadata": {},
   "source": [
    "##### Можно ли сказать, что расстояние, которое проезжают пользователи с подпиской за одну поездку, не превышает 3130 метров"
   ]
  },
  {
   "cell_type": "code",
   "execution_count": 74,
   "id": "a705b5c7",
   "metadata": {},
   "outputs": [],
   "source": [
    "ultra_distance = data_ultra['distance'] \n",
    "\n"
   ]
  },
  {
   "cell_type": "markdown",
   "id": "c0f11fd1",
   "metadata": {},
   "source": [
    "Проверим гипотезу: пользователи с подпиской проезжают расстояние, не превышающее 3130 метров за одну поездку.\n",
    "\n",
    "H_0: Расстояние (ultra_distance) пользователей на подписке ultra = 3130 метров\n",
    "\n",
    "H_1: Расстояние (ultra_distance) пользователей на подписке ultra > 3130 метров"
   ]
  },
  {
   "cell_type": "code",
   "execution_count": 75,
   "id": "8efb9443",
   "metadata": {},
   "outputs": [
    {
     "name": "stdout",
     "output_type": "stream",
     "text": [
      "p-значение: 0.9195344662352914\n",
      "Не отвергаем нулевую гипотезу\n"
     ]
    }
   ],
   "source": [
    "distance_value = 3130\n",
    "\n",
    "alpha = 0.05 # уровень статистической значимости\n",
    "\n",
    "results = st.ttest_1samp(\n",
    "    ultra_distance, \n",
    "    distance_value,\n",
    "      alternative='greater')\n",
    "\n",
    "print('p-значение:', results.pvalue)\n",
    "\n",
    "if (results.pvalue < alpha):\n",
    "    print('Отвергаем нулевую гипотезу')\n",
    "else:\n",
    "    print('Не отвергаем нулевую гипотезу')"
   ]
  },
  {
   "cell_type": "code",
   "execution_count": 76,
   "id": "6ba546f0",
   "metadata": {
    "scrolled": true
   },
   "outputs": [
    {
     "data": {
      "text/plain": [
       "3115.4456"
      ]
     },
     "execution_count": 76,
     "metadata": {},
     "output_type": "execute_result"
    }
   ],
   "source": [
    "ultra_distance.mean()"
   ]
  },
  {
   "cell_type": "code",
   "execution_count": 77,
   "id": "2c0ce58b",
   "metadata": {},
   "outputs": [
    {
     "data": {
      "text/plain": [
       "3148.6372"
      ]
     },
     "execution_count": 77,
     "metadata": {},
     "output_type": "execute_result"
    }
   ],
   "source": [
    "ultra_distance.median()"
   ]
  },
  {
   "cell_type": "markdown",
   "id": "bb235d59",
   "metadata": {},
   "source": [
    "Проверили гипотезу, и мы не можем утверждать, что расстояние, которое проехали пользователи на тарифе ultra  превышает 3130 метров. Хотя среднее значение суть менее этого порога, медиана все-таки больше, что говорит о том, что больше половины пользователей проезжают необходимое количество метров."
   ]
  },
  {
   "cell_type": "markdown",
   "id": "ff0835b0",
   "metadata": {},
   "source": [
    "##### Будет ли помесячная выручка от пользователей с подпиской по месяцам выше, чем выручка от пользователей без подписки"
   ]
  },
  {
   "cell_type": "code",
   "execution_count": 78,
   "id": "c3d8956c",
   "metadata": {},
   "outputs": [],
   "source": [
    "ultra_income = data_travel.loc[data_travel['subscription_type'] == 'ultra', 'income']"
   ]
  },
  {
   "cell_type": "code",
   "execution_count": 79,
   "id": "31686883",
   "metadata": {},
   "outputs": [
    {
     "data": {
      "text/plain": [
       "user_id  month\n",
       "1        1        451.0\n",
       "         4        241.0\n",
       "         8        469.0\n",
       "         10       391.0\n",
       "         11       523.0\n",
       "                  ...  \n",
       "699      6        301.0\n",
       "         8        469.0\n",
       "         9        385.0\n",
       "         10       295.0\n",
       "         12       355.0\n",
       "Name: income, Length: 4533, dtype: float64"
      ]
     },
     "execution_count": 79,
     "metadata": {},
     "output_type": "execute_result"
    }
   ],
   "source": [
    "ultra_income"
   ]
  },
  {
   "cell_type": "code",
   "execution_count": 80,
   "id": "f8d2f6a8",
   "metadata": {},
   "outputs": [],
   "source": [
    "free_income = data_travel.loc[data_travel['subscription_type'] == 'free', 'income']"
   ]
  },
  {
   "cell_type": "markdown",
   "id": "13edfd20",
   "metadata": {},
   "source": [
    "Проверим гипотезу: помесячная выручка от пользователей с подпиской выше, чем выручка от пользователей без подписки\n",
    "\n",
    "H_0: Выручка (ultra_income) пользователей на подписке ultra = выручка (free_income) пользователей на подписке free\n",
    "\n",
    "H_1: Выручка (ultra_income) пользователей на подписке ultra > выручка (free_income) пользователей на подписке free\n",
    "\n",
    "alpha = 0.05"
   ]
  },
  {
   "cell_type": "code",
   "execution_count": 81,
   "id": "ff0a383b",
   "metadata": {},
   "outputs": [
    {
     "name": "stdout",
     "output_type": "stream",
     "text": [
      "p-значение: 2.8130926188487286e-35\n",
      "Отвергаем нулевую гипотезу\n"
     ]
    }
   ],
   "source": [
    "alpha = 0.05 \n",
    "\n",
    "results = st.ttest_ind(ultra_income, free_income, alternative = 'greater')\n",
    "\n",
    "print('p-значение:', results.pvalue)\n",
    "\n",
    "if results.pvalue < alpha:\n",
    "    print('Отвергаем нулевую гипотезу')\n",
    "else:\n",
    "    print('Не получилось отвергнуть нулевую гипотезу') "
   ]
  },
  {
   "cell_type": "code",
   "execution_count": 82,
   "id": "65c1e2d2",
   "metadata": {},
   "outputs": [
    {
     "name": "stdout",
     "output_type": "stream",
     "text": [
      "p-значение: 1.0718729651261336e-44\n",
      "Отвергаем нулевую гипотезу\n",
      "\n",
      "В среднем в месяц пользователи с подпиской тратят на аренду самокатов 361.48 руб , а пользователи без подписки 325.84 руб\n",
      "\n",
      "В среднем пользователи с подпиской приносят компании на 35.64 руб больше, чем пользователи без платной подписки\n"
     ]
    }
   ],
   "source": [
    "ultra = data_travel.query('subscription_type == \"ultra\"')\n",
    "free = data_travel.query('subscription_type == \"free\"')\n",
    "alpha = 0.05\n",
    "results = st.ttest_ind(ultra['income'],free['income'], equal_var=False, alternative = 'greater')\n",
    "print('p-значение:', results.pvalue)\n",
    " \n",
    "if results.pvalue < alpha:\n",
    "    print('Отвергаем нулевую гипотезу')\n",
    "else:\n",
    "    print('Не получилось отвергнуть нулевую гипотезу')\n",
    "print()\n",
    "print('В среднем в месяц пользователи с подпиской тратят на аренду самокатов',\n",
    "      round(ultra['income'].mean(), 2), 'руб',\n",
    "      ', а пользователи без подписки', round(free['income'].mean(), 2), 'руб')\n",
    "print()\n",
    " \n",
    "print('В среднем пользователи с подпиской приносят компании на',\n",
    "      round(round(ultra['income'].mean(), 2) - round(free['income'].mean(),2),2),\n",
    "      'руб больше, чем пользователи без платной подписки')"
   ]
  },
  {
   "cell_type": "markdown",
   "id": "211f1933",
   "metadata": {},
   "source": [
    "Проверили гипотезу, соответственно, мы можем утверждать, что выручка с пользователей на подписке ultra превышает выручку с пользователей на подписке free."
   ]
  },
  {
   "cell_type": "markdown",
   "id": "fbc8cef8",
   "metadata": {},
   "source": [
    "##### Количество обращений в техподдержку значимо снизилось"
   ]
  },
  {
   "cell_type": "markdown",
   "id": "0a9523e4",
   "metadata": {},
   "source": [
    "Будем использовать гипотезу о равенстве средних для зависимых (парных) выборок.\n",
    "\n",
    "Гипотезы будут сформулированы так:\n",
    "\n",
    "H0 : μ1 = μ2\n",
    "H1 : μ1 != μ2\n",
    "где μ1 и μ2 - средние значения количество обращений в техподдержку до и после изменения.\n",
    "\n",
    "Метод которым можно проверять гипотезу должен проверять одну генеральную совокупность, с которой произошли некоторые изменения. В этом случае проверяется равны ли средние совокупности до и после этого изменения.\n",
    "\n",
    "Метод, который нужно использовать при сравнении: scipy.stats.ttest_rel()"
   ]
  },
  {
   "cell_type": "markdown",
   "id": "1fe1c243",
   "metadata": {},
   "source": [
    "Проведена проверка гипотез о том тратят ли пользователи с подпиской больше времени на поездки, которая показала, что пользователи с подпиской используют самокат немного дольше. \n",
    "Проведена проверка гипотезы, что пользователи с подпиской проезжают расстояние, не превышающее 3130 метров за одну поездку. По результатам проверки  мы не можем утверждать, что расстояние, которое проехали пользователи на тарифе ultra не превышает 3130 метров.\n",
    "Проведена проверка гипотезы, что выручка с пользователей на подписке ultra превышает выручку с пользователей на подписке free, которая подтвердилась.\n",
    "Определен метод для оценки изменения обращений в службу поддержки после замены сервера Метод, который нужно использовать при сравнении: scipy.stats.ttest_rel().\n"
   ]
  },
  {
   "cell_type": "markdown",
   "id": "61213c5e",
   "metadata": {},
   "source": [
    "#### Шаг 7. Распределения"
   ]
  },
  {
   "cell_type": "code",
   "execution_count": 83,
   "id": "95cd1d51",
   "metadata": {},
   "outputs": [
    {
     "name": "stdout",
     "output_type": "stream",
     "text": [
      "0.5\n"
     ]
    }
   ],
   "source": [
    "n = 1000 # задайте параметры \n",
    "p = 0.1 # биномиального распределения\n",
    "\n",
    "mu = n*p # рассчитайте параметры \n",
    "sigma =sqrt(n*p*(1-p)) # нормального распределения\n",
    "\n",
    "distr = st.norm(mu, sigma) # задайте нормальное распределение\n",
    "\n",
    "result = 1- distr.cdf(100) # найдите вероятность\n",
    "print(result)"
   ]
  },
  {
   "cell_type": "code",
   "execution_count": 84,
   "id": "6cb75fc0",
   "metadata": {},
   "outputs": [
    {
     "data": {
      "text/plain": [
       "[<matplotlib.lines.Line2D at 0x7f88c858c6a0>]"
      ]
     },
     "execution_count": 84,
     "metadata": {},
     "output_type": "execute_result"
    },
    {
     "data": {
      "image/png": "[encoded data removed]",
      "text/plain": [
       "<Figure size 432x288 with 1 Axes>"
      ]
     },
     "metadata": {
      "needs_background": "light"
     },
     "output_type": "display_data"
    }
   ],
   "source": [
    "lmbd = n * p\n",
    "max_value = 100\n",
    "binom_probs = []\n",
    "poisson_probs = []\n",
    "# для всех значений от 0 до 10\n",
    "for k in range(max_value + 1):\n",
    "    # рассчитываем значения вероятности для биномиального распределения\n",
    "    # и распределения Пуассона\n",
    "    binom_prob = binom.pmf(k, n, p)\n",
    "    poisson_prob = poisson.pmf(k, lmbd)\n",
    "    # добавляем в соответствующие списки\n",
    "    binom_probs.append(binom_prob)\n",
    "    poisson_probs.append(poisson_prob)\n",
    "plt.plot(range(max_value + 1), binom_probs, 'bo',\n",
    "         label=f'Биномиальное распределение с n={n} и p={p}')"
   ]
  },
  {
   "cell_type": "markdown",
   "id": "fd095aeb",
   "metadata": {},
   "source": []
  },
  {
   "cell_type": "markdown",
   "id": "aaa9dea7",
   "metadata": {},
   "source": [
    "Вывод.\n"
   ]
  },
  {
   "cell_type": "markdown",
   "id": "7289297c",
   "metadata": {},
   "source": [
    "Было рассмотрено 3 датасета с информацией о пользователях сревисом проката самокатов, поездках и информацией о подписках. Проведена проверка на пропуски в данных для каждого датасета. Пропускив данных отсутствуют. Дата была приведена к необходимому формату. Добавлен отдельный столбец с указанием месяца аренды. Проведен поиск и удаление дубликатов. Неявные дубликаты в данных отсутствуют. \n",
    "\n",
    "Проведена оценка частоты встречаемости городов. Определено примерно равное распределение пользователей по городам. Проведена оценка пользователей с подпиской и без. Пользователей без подписки больше всего приблизительно на 10%. Это говорит об активном использовании подписки. Проведена оценка возраста пользователей. Распределение возрастов соответствует нормальному. Средний возраст пользователя услугой составляет порядка 25 лет. Люди старше 35 лет и младше 15 арендой самокатов практически не пользуются. Это связано со спецификой данного транспорта, весом самоката и необходимостью иметь определенный уровень физической формы. Проведена оценка расстояния, преодолеваемого за одну поездку. Большинство поездок проходит в диапазоне от 2,5 до 3,5 км. Средняя поездка поездка на самокате составляет порядка 3 км. Длительность большинства поездок проходит в диапазоне от 14 до 22 минут. Средняя поездка поездка на самокате занимает порядка 18 минут. Для развития бизнеса можно предложить меры, анправленные на привлечение более старшей категории людей (от 35 до 50 лет).  \n",
    "\n",
    "\n",
    "Проведено объединение датасетов, а также выделены два датасета с данными о пользователях с подпиской и без. По результатам анализа датасетов установлено, что без подписки в целом проезжают по расстоянию немного больше, но быстрее по времени относительно пользователей с подпиской.\n",
    "\n",
    "Был создан новый датафрейм с агрегированными данными на основе датафрейма с объединенными данными.\n",
    "Были найдены суммарное расстояние, количество поездок и суммарное время для каждого пользователя за каждый месяц. Также добавлен столбец с помесячной выручкой, которую принес каждый пользователь.\n",
    "\n",
    "\n",
    "Проведена проверка гипотез о том тратят ли пользователи с подпиской больше времени на поездки, которая показала, что пользователи с подпиской используют самокат немного дольше, но это время незначительно и составляет чуть более минуты. Возможно внедрение каких-то скидок за длительное пользование самокатом, для того чтобы повысить среднее время использования.\n",
    "Проведена проверка гипотезы, что пользователи с подпиской проезжают расстояние, не превышающее 3130 метров за одну поездку. По результатам проверки  мы не можем утверждать, что расстояние, которое проехали пользователи на тарифе ultra не превышает 3130 метров. В среднем пройденное расстояние находится в районе этого показателя. Если мы хотим увеличить время пользования услугой, то мы должны понимать, что пройденное расстояние тоже может увеличиваться. Это приведет к снижению ресурса самокатов. Как одно из решений - снижение максимальной скорости езды самоката. Это приведет к снижению травматичности, но  также увеличит ресурс оборудования.\n",
    "Проведена проверка гипотезы, что выручка с пользователей на подписке ultra превышает выручку с пользователей на подписке free, которая подтвердилась. В среднем выручка с пользователей с подпиской на 10% выше, что говорит о необходимости повышать их долю в общем числе клиентов. Для этого необходимо проведение акций на подписку, возможно включение пробного периода пользования при подписке на другие сервисы компании и т.д.\n",
    "Определен метод для оценки изменения обращений в службу поддержки после замены сервера Метод, который нужно использовать при сравнении: scipy.stats.ttest_rel().\n",
    "\n",
    "В общем, анализ сервиса проката самокатов показал, что он пользуется спросом в во всех представленных локациях. Сервис приности прибыль. Для его дальнейшего развития необходимо уделить особое внимание привлечению людей к приобретению подписки на данный сервис, так как она приносит дополнительный доход.\n"
   ]
  }
 ],
 "metadata": {
  "ExecuteTimeLog": [
   {
    "duration": 86,
    "start_time": "2023-08-24T08:12:13.906Z"
   },
   {
    "duration": 1739,
    "start_time": "2023-08-24T08:12:21.237Z"
   },
   {
    "duration": 111,
    "start_time": "2023-08-24T08:12:22.979Z"
   },
   {
    "duration": 50,
    "start_time": "2023-08-24T08:12:56.305Z"
   },
   {
    "duration": 16,
    "start_time": "2023-08-24T08:13:07.839Z"
   },
   {
    "duration": 1399,
    "start_time": "2023-08-24T10:52:04.716Z"
   },
   {
    "duration": 74,
    "start_time": "2023-08-24T10:52:08.901Z"
   },
   {
    "duration": 12,
    "start_time": "2023-08-24T10:52:09.631Z"
   },
   {
    "duration": 12,
    "start_time": "2023-08-24T10:52:10.090Z"
   },
   {
    "duration": 130,
    "start_time": "2023-08-24T10:52:41.299Z"
   },
   {
    "duration": 80,
    "start_time": "2023-08-24T10:57:27.719Z"
   },
   {
    "duration": 11,
    "start_time": "2023-08-24T10:57:43.398Z"
   },
   {
    "duration": 97,
    "start_time": "2023-08-24T11:07:04.888Z"
   },
   {
    "duration": 4,
    "start_time": "2023-08-24T11:07:20.593Z"
   },
   {
    "duration": 8,
    "start_time": "2023-08-24T11:07:54.174Z"
   },
   {
    "duration": 7,
    "start_time": "2023-08-24T11:09:04.071Z"
   },
   {
    "duration": 9,
    "start_time": "2023-08-24T11:09:10.790Z"
   },
   {
    "duration": 5,
    "start_time": "2023-08-24T11:14:24.439Z"
   },
   {
    "duration": 4,
    "start_time": "2023-08-24T11:14:51.566Z"
   },
   {
    "duration": 10,
    "start_time": "2023-08-24T11:14:53.593Z"
   },
   {
    "duration": 4,
    "start_time": "2023-08-24T11:15:29.868Z"
   },
   {
    "duration": 65,
    "start_time": "2023-08-24T11:17:26.598Z"
   },
   {
    "duration": 9,
    "start_time": "2023-08-24T11:17:54.375Z"
   },
   {
    "duration": 7,
    "start_time": "2023-08-24T11:18:16.690Z"
   },
   {
    "duration": 6,
    "start_time": "2023-08-24T11:29:18.547Z"
   },
   {
    "duration": 8,
    "start_time": "2023-08-24T11:29:34.384Z"
   },
   {
    "duration": 8,
    "start_time": "2023-08-24T11:30:18.010Z"
   },
   {
    "duration": 10,
    "start_time": "2023-08-24T11:30:44.638Z"
   },
   {
    "duration": 3555,
    "start_time": "2023-08-24T11:31:02.666Z"
   },
   {
    "duration": 7,
    "start_time": "2023-08-24T11:31:06.224Z"
   },
   {
    "duration": 28,
    "start_time": "2023-08-24T11:31:09.649Z"
   },
   {
    "duration": 11,
    "start_time": "2023-08-24T11:31:09.699Z"
   },
   {
    "duration": 9,
    "start_time": "2023-08-24T11:31:09.730Z"
   },
   {
    "duration": 134,
    "start_time": "2023-08-24T11:31:09.749Z"
   },
   {
    "duration": 4,
    "start_time": "2023-08-24T11:31:09.885Z"
   },
   {
    "duration": 29,
    "start_time": "2023-08-24T11:31:09.890Z"
   },
   {
    "duration": 12,
    "start_time": "2023-08-24T11:31:10.208Z"
   },
   {
    "duration": 5,
    "start_time": "2023-08-24T11:31:10.933Z"
   },
   {
    "duration": 5,
    "start_time": "2023-08-24T11:31:11.226Z"
   },
   {
    "duration": 13,
    "start_time": "2023-08-24T11:31:11.546Z"
   },
   {
    "duration": 4,
    "start_time": "2023-08-24T11:31:11.925Z"
   },
   {
    "duration": 27,
    "start_time": "2023-08-24T11:31:12.455Z"
   },
   {
    "duration": 13,
    "start_time": "2023-08-24T11:31:12.513Z"
   },
   {
    "duration": 21,
    "start_time": "2023-08-24T11:31:12.528Z"
   },
   {
    "duration": 5,
    "start_time": "2023-08-24T11:31:13.803Z"
   },
   {
    "duration": 825,
    "start_time": "2023-08-24T11:31:14.283Z"
   },
   {
    "duration": 7,
    "start_time": "2023-08-24T11:31:18.709Z"
   },
   {
    "duration": 7,
    "start_time": "2023-08-24T11:31:34.599Z"
   },
   {
    "duration": 9,
    "start_time": "2023-08-24T11:32:57.608Z"
   },
   {
    "duration": 9,
    "start_time": "2023-08-24T11:32:57.934Z"
   },
   {
    "duration": 11,
    "start_time": "2023-08-24T11:38:00.833Z"
   },
   {
    "duration": 12,
    "start_time": "2023-08-24T11:38:09.460Z"
   },
   {
    "duration": 7,
    "start_time": "2023-08-24T11:39:20.761Z"
   },
   {
    "duration": 5,
    "start_time": "2023-08-24T11:41:04.262Z"
   },
   {
    "duration": 7,
    "start_time": "2023-08-24T11:41:12.915Z"
   },
   {
    "duration": 12,
    "start_time": "2023-08-24T11:41:34.503Z"
   },
   {
    "duration": 5,
    "start_time": "2023-08-24T12:29:18.803Z"
   },
   {
    "duration": 5,
    "start_time": "2023-08-24T12:30:21.008Z"
   },
   {
    "duration": 5,
    "start_time": "2023-08-24T12:32:24.804Z"
   },
   {
    "duration": 145,
    "start_time": "2023-08-24T12:35:22.069Z"
   },
   {
    "duration": 86,
    "start_time": "2023-08-24T12:37:49.999Z"
   },
   {
    "duration": 89,
    "start_time": "2023-08-24T12:38:48.088Z"
   },
   {
    "duration": 185,
    "start_time": "2023-08-24T12:42:04.127Z"
   },
   {
    "duration": 147,
    "start_time": "2023-08-24T12:42:22.665Z"
   },
   {
    "duration": 170,
    "start_time": "2023-08-24T12:42:37.457Z"
   },
   {
    "duration": 148,
    "start_time": "2023-08-24T12:43:21.184Z"
   },
   {
    "duration": 5,
    "start_time": "2023-08-24T12:49:46.156Z"
   },
   {
    "duration": 119,
    "start_time": "2023-08-24T12:51:33.301Z"
   },
   {
    "duration": 122,
    "start_time": "2023-08-24T12:51:43.782Z"
   },
   {
    "duration": 124,
    "start_time": "2023-08-24T12:51:47.978Z"
   },
   {
    "duration": 218,
    "start_time": "2023-08-24T12:52:11.981Z"
   },
   {
    "duration": 146,
    "start_time": "2023-08-24T12:52:21.464Z"
   },
   {
    "duration": 319,
    "start_time": "2023-08-24T12:59:11.941Z"
   },
   {
    "duration": 9,
    "start_time": "2023-08-24T12:59:20.124Z"
   },
   {
    "duration": 105,
    "start_time": "2023-08-24T12:59:59.030Z"
   },
   {
    "duration": 239,
    "start_time": "2023-08-24T13:03:04.066Z"
   },
   {
    "duration": 8,
    "start_time": "2023-08-24T13:03:39.850Z"
   },
   {
    "duration": 100,
    "start_time": "2023-08-24T13:04:24.525Z"
   },
   {
    "duration": 3238,
    "start_time": "2023-08-25T07:19:58.933Z"
   },
   {
    "duration": 1582,
    "start_time": "2023-08-25T07:20:02.175Z"
   },
   {
    "duration": 102,
    "start_time": "2023-08-25T07:20:03.758Z"
   },
   {
    "duration": 17,
    "start_time": "2023-08-25T07:20:03.863Z"
   },
   {
    "duration": 19,
    "start_time": "2023-08-25T07:20:03.883Z"
   },
   {
    "duration": 15,
    "start_time": "2023-08-25T07:20:03.904Z"
   },
   {
    "duration": 164,
    "start_time": "2023-08-25T07:20:03.921Z"
   },
   {
    "duration": 16,
    "start_time": "2023-08-25T07:20:04.088Z"
   },
   {
    "duration": 29,
    "start_time": "2023-08-25T07:20:04.106Z"
   },
   {
    "duration": 15,
    "start_time": "2023-08-25T07:20:04.139Z"
   },
   {
    "duration": 22,
    "start_time": "2023-08-25T07:20:04.156Z"
   },
   {
    "duration": 14,
    "start_time": "2023-08-25T07:20:04.180Z"
   },
   {
    "duration": 62,
    "start_time": "2023-08-25T07:20:04.196Z"
   },
   {
    "duration": 16,
    "start_time": "2023-08-25T07:20:04.260Z"
   },
   {
    "duration": 13,
    "start_time": "2023-08-25T07:20:04.278Z"
   },
   {
    "duration": 7,
    "start_time": "2023-08-25T07:20:04.294Z"
   },
   {
    "duration": 1043,
    "start_time": "2023-08-25T07:20:04.303Z"
   },
   {
    "duration": 7,
    "start_time": "2023-08-25T07:20:05.356Z"
   },
   {
    "duration": 24,
    "start_time": "2023-08-25T07:20:05.365Z"
   },
   {
    "duration": 47,
    "start_time": "2023-08-25T07:20:05.391Z"
   },
   {
    "duration": 16,
    "start_time": "2023-08-25T07:20:05.440Z"
   },
   {
    "duration": 24,
    "start_time": "2023-08-25T07:20:05.458Z"
   },
   {
    "duration": 34,
    "start_time": "2023-08-25T07:20:05.484Z"
   },
   {
    "duration": 8,
    "start_time": "2023-08-25T07:20:05.520Z"
   },
   {
    "duration": 12,
    "start_time": "2023-08-25T07:20:05.529Z"
   },
   {
    "duration": 15,
    "start_time": "2023-08-25T07:20:05.543Z"
   },
   {
    "duration": 34,
    "start_time": "2023-08-25T07:20:05.560Z"
   },
   {
    "duration": 20,
    "start_time": "2023-08-25T07:20:05.598Z"
   },
   {
    "duration": 19,
    "start_time": "2023-08-25T07:20:05.619Z"
   },
   {
    "duration": 161,
    "start_time": "2023-08-25T07:20:05.639Z"
   },
   {
    "duration": 175,
    "start_time": "2023-08-25T07:20:05.803Z"
   },
   {
    "duration": 8,
    "start_time": "2023-08-25T07:20:05.980Z"
   },
   {
    "duration": 132,
    "start_time": "2023-08-25T07:20:05.989Z"
   },
   {
    "duration": 157,
    "start_time": "2023-08-25T07:20:06.122Z"
   },
   {
    "duration": 365,
    "start_time": "2023-08-25T07:20:06.280Z"
   },
   {
    "duration": 18,
    "start_time": "2023-08-25T07:20:06.647Z"
   },
   {
    "duration": 128,
    "start_time": "2023-08-25T07:20:06.667Z"
   },
   {
    "duration": 316,
    "start_time": "2023-08-25T07:20:06.797Z"
   },
   {
    "duration": 10,
    "start_time": "2023-08-25T07:20:07.114Z"
   },
   {
    "duration": 131,
    "start_time": "2023-08-25T07:20:07.125Z"
   },
   {
    "duration": 13,
    "start_time": "2023-08-25T07:22:39.706Z"
   },
   {
    "duration": 16,
    "start_time": "2023-08-25T07:22:49.010Z"
   },
   {
    "duration": 11,
    "start_time": "2023-08-25T07:26:19.338Z"
   },
   {
    "duration": 13,
    "start_time": "2023-08-25T07:26:26.789Z"
   },
   {
    "duration": 114,
    "start_time": "2023-08-25T07:28:53.032Z"
   },
   {
    "duration": 63,
    "start_time": "2023-08-25T07:28:59.876Z"
   },
   {
    "duration": 8,
    "start_time": "2023-08-25T07:29:10.574Z"
   },
   {
    "duration": 1099,
    "start_time": "2023-08-25T07:29:29.131Z"
   },
   {
    "duration": 92,
    "start_time": "2023-08-25T07:32:00.464Z"
   },
   {
    "duration": 24,
    "start_time": "2023-08-25T07:32:21.146Z"
   },
   {
    "duration": 21,
    "start_time": "2023-08-25T07:32:49.628Z"
   },
   {
    "duration": 9,
    "start_time": "2023-08-25T07:34:10.120Z"
   },
   {
    "duration": 19,
    "start_time": "2023-08-25T07:34:19.592Z"
   },
   {
    "duration": 7,
    "start_time": "2023-08-25T07:34:43.348Z"
   },
   {
    "duration": 30,
    "start_time": "2023-08-25T07:34:52.189Z"
   },
   {
    "duration": 348,
    "start_time": "2023-08-25T07:36:28.393Z"
   },
   {
    "duration": 322,
    "start_time": "2023-08-25T07:36:33.777Z"
   },
   {
    "duration": 11,
    "start_time": "2023-08-25T07:37:40.206Z"
   },
   {
    "duration": 10,
    "start_time": "2023-08-25T07:37:58.433Z"
   },
   {
    "duration": 289,
    "start_time": "2023-08-25T07:44:08.980Z"
   },
   {
    "duration": 10,
    "start_time": "2023-08-25T07:44:25.206Z"
   },
   {
    "duration": 373,
    "start_time": "2023-08-25T07:46:46.026Z"
   },
   {
    "duration": 9,
    "start_time": "2023-08-25T07:47:11.434Z"
   },
   {
    "duration": 78,
    "start_time": "2023-08-25T08:23:04.051Z"
   },
   {
    "duration": 0,
    "start_time": "2023-08-25T08:23:04.132Z"
   },
   {
    "duration": 861,
    "start_time": "2023-08-25T08:23:49.109Z"
   },
   {
    "duration": 17,
    "start_time": "2023-08-25T08:23:51.770Z"
   },
   {
    "duration": 3,
    "start_time": "2023-08-25T08:24:55.906Z"
   },
   {
    "duration": 17,
    "start_time": "2023-08-25T08:25:03.519Z"
   },
   {
    "duration": 10,
    "start_time": "2023-08-25T08:26:05.128Z"
   },
   {
    "duration": 4,
    "start_time": "2023-08-25T08:26:27.493Z"
   },
   {
    "duration": 4,
    "start_time": "2023-08-25T08:41:04.577Z"
   },
   {
    "duration": 204,
    "start_time": "2023-08-25T08:42:08.838Z"
   },
   {
    "duration": 13,
    "start_time": "2023-08-25T08:42:23.596Z"
   },
   {
    "duration": 2742,
    "start_time": "2023-08-28T05:40:36.228Z"
   },
   {
    "duration": 1331,
    "start_time": "2023-08-28T05:40:38.972Z"
   },
   {
    "duration": 89,
    "start_time": "2023-08-28T05:40:40.304Z"
   },
   {
    "duration": 11,
    "start_time": "2023-08-28T05:40:40.395Z"
   },
   {
    "duration": 17,
    "start_time": "2023-08-28T05:40:40.408Z"
   },
   {
    "duration": 14,
    "start_time": "2023-08-28T05:40:40.426Z"
   },
   {
    "duration": 75,
    "start_time": "2023-08-28T05:40:40.442Z"
   },
   {
    "duration": 11,
    "start_time": "2023-08-28T05:40:40.518Z"
   },
   {
    "duration": 14,
    "start_time": "2023-08-28T05:40:40.530Z"
   },
   {
    "duration": 23,
    "start_time": "2023-08-28T05:40:40.546Z"
   },
   {
    "duration": 40,
    "start_time": "2023-08-28T05:40:40.570Z"
   },
   {
    "duration": 9,
    "start_time": "2023-08-28T05:40:40.612Z"
   },
   {
    "duration": 77,
    "start_time": "2023-08-28T05:40:40.622Z"
   },
   {
    "duration": 9,
    "start_time": "2023-08-28T05:40:40.700Z"
   },
   {
    "duration": 26,
    "start_time": "2023-08-28T05:40:40.711Z"
   },
   {
    "duration": 34,
    "start_time": "2023-08-28T05:40:40.739Z"
   },
   {
    "duration": 831,
    "start_time": "2023-08-28T05:40:40.774Z"
   },
   {
    "duration": 7,
    "start_time": "2023-08-28T05:40:41.606Z"
   },
   {
    "duration": 6,
    "start_time": "2023-08-28T05:40:41.615Z"
   },
   {
    "duration": 10,
    "start_time": "2023-08-28T05:40:41.622Z"
   },
   {
    "duration": 25,
    "start_time": "2023-08-28T05:40:41.634Z"
   },
   {
    "duration": 8,
    "start_time": "2023-08-28T05:40:41.660Z"
   },
   {
    "duration": 11,
    "start_time": "2023-08-28T05:40:41.669Z"
   },
   {
    "duration": 6,
    "start_time": "2023-08-28T05:40:41.681Z"
   },
   {
    "duration": 4,
    "start_time": "2023-08-28T05:40:41.688Z"
   },
   {
    "duration": 7,
    "start_time": "2023-08-28T05:40:41.694Z"
   },
   {
    "duration": 13,
    "start_time": "2023-08-28T05:40:41.703Z"
   },
   {
    "duration": 3,
    "start_time": "2023-08-28T05:40:41.719Z"
   },
   {
    "duration": 27,
    "start_time": "2023-08-28T05:40:41.723Z"
   },
   {
    "duration": 117,
    "start_time": "2023-08-28T05:40:41.752Z"
   },
   {
    "duration": 150,
    "start_time": "2023-08-28T05:40:41.871Z"
   },
   {
    "duration": 5,
    "start_time": "2023-08-28T05:40:42.022Z"
   },
   {
    "duration": 80,
    "start_time": "2023-08-28T05:40:42.029Z"
   },
   {
    "duration": 118,
    "start_time": "2023-08-28T05:40:42.111Z"
   },
   {
    "duration": 337,
    "start_time": "2023-08-28T05:40:42.231Z"
   },
   {
    "duration": 8,
    "start_time": "2023-08-28T05:40:42.570Z"
   },
   {
    "duration": 107,
    "start_time": "2023-08-28T05:40:42.579Z"
   },
   {
    "duration": 275,
    "start_time": "2023-08-28T05:40:42.688Z"
   },
   {
    "duration": 9,
    "start_time": "2023-08-28T05:40:42.965Z"
   },
   {
    "duration": 109,
    "start_time": "2023-08-28T05:40:42.976Z"
   },
   {
    "duration": 9,
    "start_time": "2023-08-28T05:40:43.087Z"
   },
   {
    "duration": 15,
    "start_time": "2023-08-28T05:40:43.097Z"
   },
   {
    "duration": 10,
    "start_time": "2023-08-28T05:40:43.114Z"
   },
   {
    "duration": 26,
    "start_time": "2023-08-28T05:40:43.125Z"
   },
   {
    "duration": 10,
    "start_time": "2023-08-28T05:40:43.152Z"
   },
   {
    "duration": 19,
    "start_time": "2023-08-28T05:40:43.164Z"
   },
   {
    "duration": 8,
    "start_time": "2023-08-28T05:40:43.184Z"
   },
   {
    "duration": 17,
    "start_time": "2023-08-28T05:40:43.193Z"
   },
   {
    "duration": 277,
    "start_time": "2023-08-28T05:40:43.212Z"
   },
   {
    "duration": 7,
    "start_time": "2023-08-28T05:40:43.491Z"
   },
   {
    "duration": 256,
    "start_time": "2023-08-28T05:40:43.499Z"
   },
   {
    "duration": 7,
    "start_time": "2023-08-28T05:40:43.757Z"
   },
   {
    "duration": 257,
    "start_time": "2023-08-28T05:40:43.766Z"
   },
   {
    "duration": 8,
    "start_time": "2023-08-28T05:40:44.025Z"
   },
   {
    "duration": 337,
    "start_time": "2023-08-28T05:40:44.034Z"
   },
   {
    "duration": 9,
    "start_time": "2023-08-28T05:40:44.372Z"
   },
   {
    "duration": 750,
    "start_time": "2023-08-28T05:40:44.382Z"
   },
   {
    "duration": 3,
    "start_time": "2023-08-28T05:40:45.133Z"
   },
   {
    "duration": 56,
    "start_time": "2023-08-28T05:40:45.138Z"
   },
   {
    "duration": 8,
    "start_time": "2023-08-28T05:40:45.196Z"
   },
   {
    "duration": 7,
    "start_time": "2023-08-28T05:40:45.206Z"
   },
   {
    "duration": 162,
    "start_time": "2023-08-28T05:40:45.214Z"
   },
   {
    "duration": 10,
    "start_time": "2023-08-28T05:40:45.378Z"
   },
   {
    "duration": 3,
    "start_time": "2023-08-28T05:43:59.234Z"
   },
   {
    "duration": 3,
    "start_time": "2023-08-28T05:44:09.446Z"
   },
   {
    "duration": 5,
    "start_time": "2023-08-28T06:16:18.765Z"
   },
   {
    "duration": 96,
    "start_time": "2023-08-28T06:17:22.529Z"
   },
   {
    "duration": 6,
    "start_time": "2023-08-28T06:18:02.402Z"
   },
   {
    "duration": 6,
    "start_time": "2023-08-28T06:22:15.440Z"
   },
   {
    "duration": 9,
    "start_time": "2023-08-28T06:27:41.961Z"
   },
   {
    "duration": 2,
    "start_time": "2023-08-28T06:27:55.500Z"
   },
   {
    "duration": 4,
    "start_time": "2023-08-28T06:27:57.160Z"
   },
   {
    "duration": 4,
    "start_time": "2023-08-28T06:28:54.250Z"
   },
   {
    "duration": 12,
    "start_time": "2023-08-28T06:30:02.143Z"
   },
   {
    "duration": 5,
    "start_time": "2023-08-28T06:30:07.045Z"
   },
   {
    "duration": 1755,
    "start_time": "2023-08-28T06:40:24.609Z"
   },
   {
    "duration": 1594,
    "start_time": "2023-08-28T06:41:33.764Z"
   },
   {
    "duration": 9,
    "start_time": "2023-08-28T06:42:11.791Z"
   },
   {
    "duration": 1763,
    "start_time": "2023-08-28T06:45:08.091Z"
   },
   {
    "duration": 5,
    "start_time": "2023-08-28T06:45:36.403Z"
   },
   {
    "duration": 7,
    "start_time": "2023-08-28T06:45:47.462Z"
   },
   {
    "duration": 5,
    "start_time": "2023-08-28T06:46:01.595Z"
   },
   {
    "duration": 9,
    "start_time": "2023-08-28T06:46:02.081Z"
   },
   {
    "duration": 5,
    "start_time": "2023-08-28T06:46:34.098Z"
   },
   {
    "duration": 5,
    "start_time": "2023-08-28T06:49:08.600Z"
   },
   {
    "duration": 6,
    "start_time": "2023-08-28T06:50:05.978Z"
   },
   {
    "duration": 4,
    "start_time": "2023-08-28T06:50:27.393Z"
   },
   {
    "duration": 9,
    "start_time": "2023-08-28T07:16:44.302Z"
   },
   {
    "duration": 4,
    "start_time": "2023-08-28T07:17:15.070Z"
   },
   {
    "duration": 29,
    "start_time": "2023-08-28T07:17:16.284Z"
   },
   {
    "duration": 11,
    "start_time": "2023-08-28T07:17:16.315Z"
   },
   {
    "duration": 19,
    "start_time": "2023-08-28T07:17:16.328Z"
   },
   {
    "duration": 10,
    "start_time": "2023-08-28T07:17:16.349Z"
   },
   {
    "duration": 29,
    "start_time": "2023-08-28T07:17:16.362Z"
   },
   {
    "duration": 13,
    "start_time": "2023-08-28T07:17:16.407Z"
   },
   {
    "duration": 21,
    "start_time": "2023-08-28T07:17:16.422Z"
   },
   {
    "duration": 4,
    "start_time": "2023-08-28T07:17:16.513Z"
   },
   {
    "duration": 10,
    "start_time": "2023-08-28T07:17:16.519Z"
   },
   {
    "duration": 5,
    "start_time": "2023-08-28T07:17:16.530Z"
   },
   {
    "duration": 15,
    "start_time": "2023-08-28T07:17:16.560Z"
   },
   {
    "duration": 9,
    "start_time": "2023-08-28T07:17:16.577Z"
   },
   {
    "duration": 7,
    "start_time": "2023-08-28T07:17:16.616Z"
   },
   {
    "duration": 5,
    "start_time": "2023-08-28T07:17:16.806Z"
   },
   {
    "duration": 689,
    "start_time": "2023-08-28T07:17:16.813Z"
   },
   {
    "duration": 7,
    "start_time": "2023-08-28T07:17:17.503Z"
   },
   {
    "duration": 5,
    "start_time": "2023-08-28T07:17:17.512Z"
   },
   {
    "duration": 11,
    "start_time": "2023-08-28T07:17:17.518Z"
   },
   {
    "duration": 24,
    "start_time": "2023-08-28T07:17:17.530Z"
   },
   {
    "duration": 6,
    "start_time": "2023-08-28T07:17:17.555Z"
   },
   {
    "duration": 8,
    "start_time": "2023-08-28T07:17:17.562Z"
   },
   {
    "duration": 8,
    "start_time": "2023-08-28T07:17:17.572Z"
   },
   {
    "duration": 25,
    "start_time": "2023-08-28T07:17:17.581Z"
   },
   {
    "duration": 7,
    "start_time": "2023-08-28T07:17:17.607Z"
   },
   {
    "duration": 7,
    "start_time": "2023-08-28T07:17:17.615Z"
   },
   {
    "duration": 3,
    "start_time": "2023-08-28T07:17:17.623Z"
   },
   {
    "duration": 9,
    "start_time": "2023-08-28T07:17:17.627Z"
   },
   {
    "duration": 129,
    "start_time": "2023-08-28T07:17:17.638Z"
   },
   {
    "duration": 153,
    "start_time": "2023-08-28T07:17:17.768Z"
   },
   {
    "duration": 5,
    "start_time": "2023-08-28T07:17:17.922Z"
   },
   {
    "duration": 75,
    "start_time": "2023-08-28T07:17:17.929Z"
   },
   {
    "duration": 122,
    "start_time": "2023-08-28T07:17:18.006Z"
   },
   {
    "duration": 245,
    "start_time": "2023-08-28T07:17:18.130Z"
   },
   {
    "duration": 8,
    "start_time": "2023-08-28T07:17:18.377Z"
   },
   {
    "duration": 187,
    "start_time": "2023-08-28T07:17:18.386Z"
   },
   {
    "duration": 236,
    "start_time": "2023-08-28T07:17:18.575Z"
   },
   {
    "duration": 7,
    "start_time": "2023-08-28T07:17:18.813Z"
   },
   {
    "duration": 101,
    "start_time": "2023-08-28T07:17:18.822Z"
   },
   {
    "duration": 9,
    "start_time": "2023-08-28T07:17:18.924Z"
   },
   {
    "duration": 20,
    "start_time": "2023-08-28T07:17:18.934Z"
   },
   {
    "duration": 19,
    "start_time": "2023-08-28T07:17:18.956Z"
   },
   {
    "duration": 12,
    "start_time": "2023-08-28T07:17:18.976Z"
   },
   {
    "duration": 32,
    "start_time": "2023-08-28T07:17:18.989Z"
   },
   {
    "duration": 37,
    "start_time": "2023-08-28T07:17:19.022Z"
   },
   {
    "duration": 10,
    "start_time": "2023-08-28T07:17:19.060Z"
   },
   {
    "duration": 32,
    "start_time": "2023-08-28T07:17:19.071Z"
   },
   {
    "duration": 228,
    "start_time": "2023-08-28T07:17:19.105Z"
   },
   {
    "duration": 19,
    "start_time": "2023-08-28T07:17:19.335Z"
   },
   {
    "duration": 242,
    "start_time": "2023-08-28T07:17:19.355Z"
   },
   {
    "duration": 8,
    "start_time": "2023-08-28T07:17:19.599Z"
   },
   {
    "duration": 259,
    "start_time": "2023-08-28T07:17:19.610Z"
   },
   {
    "duration": 8,
    "start_time": "2023-08-28T07:17:19.870Z"
   },
   {
    "duration": 347,
    "start_time": "2023-08-28T07:17:19.880Z"
   },
   {
    "duration": 8,
    "start_time": "2023-08-28T07:17:20.228Z"
   },
   {
    "duration": 751,
    "start_time": "2023-08-28T07:17:20.237Z"
   },
   {
    "duration": 3,
    "start_time": "2023-08-28T07:17:20.990Z"
   },
   {
    "duration": 88,
    "start_time": "2023-08-28T07:17:20.994Z"
   },
   {
    "duration": 9,
    "start_time": "2023-08-28T07:17:21.083Z"
   },
   {
    "duration": 5,
    "start_time": "2023-08-28T07:17:21.094Z"
   },
   {
    "duration": 156,
    "start_time": "2023-08-28T07:17:21.100Z"
   },
   {
    "duration": 10,
    "start_time": "2023-08-28T07:17:21.258Z"
   },
   {
    "duration": 10,
    "start_time": "2023-08-28T07:17:21.269Z"
   },
   {
    "duration": 17,
    "start_time": "2023-08-28T07:17:21.280Z"
   },
   {
    "duration": 32,
    "start_time": "2023-08-28T07:17:21.299Z"
   },
   {
    "duration": 20,
    "start_time": "2023-08-28T07:17:21.332Z"
   },
   {
    "duration": 25,
    "start_time": "2023-08-28T07:17:21.354Z"
   },
   {
    "duration": 21,
    "start_time": "2023-08-28T07:17:21.380Z"
   },
   {
    "duration": 27,
    "start_time": "2023-08-28T07:17:21.402Z"
   },
   {
    "duration": 21,
    "start_time": "2023-08-28T07:17:21.431Z"
   },
   {
    "duration": 24,
    "start_time": "2023-08-28T07:17:21.453Z"
   },
   {
    "duration": 22,
    "start_time": "2023-08-28T07:17:21.478Z"
   },
   {
    "duration": 15,
    "start_time": "2023-08-28T07:17:21.504Z"
   },
   {
    "duration": 32,
    "start_time": "2023-08-28T07:17:21.521Z"
   },
   {
    "duration": 33,
    "start_time": "2023-08-28T07:17:21.555Z"
   },
   {
    "duration": 9,
    "start_time": "2023-08-28T07:20:52.041Z"
   },
   {
    "duration": 9,
    "start_time": "2023-08-28T07:21:41.965Z"
   },
   {
    "duration": 11,
    "start_time": "2023-08-28T07:22:08.834Z"
   },
   {
    "duration": 4,
    "start_time": "2023-08-28T07:22:55.684Z"
   },
   {
    "duration": 29,
    "start_time": "2023-08-28T07:22:57.210Z"
   },
   {
    "duration": 10,
    "start_time": "2023-08-28T07:22:57.240Z"
   },
   {
    "duration": 10,
    "start_time": "2023-08-28T07:22:57.251Z"
   },
   {
    "duration": 3,
    "start_time": "2023-08-28T07:22:57.321Z"
   },
   {
    "duration": 24,
    "start_time": "2023-08-28T07:22:57.385Z"
   },
   {
    "duration": 10,
    "start_time": "2023-08-28T07:22:57.411Z"
   },
   {
    "duration": 4,
    "start_time": "2023-08-28T07:22:57.498Z"
   },
   {
    "duration": 23,
    "start_time": "2023-08-28T07:22:57.503Z"
   },
   {
    "duration": 8,
    "start_time": "2023-08-28T07:22:57.804Z"
   },
   {
    "duration": 9,
    "start_time": "2023-08-28T07:22:57.814Z"
   },
   {
    "duration": 18,
    "start_time": "2023-08-28T07:22:57.825Z"
   },
   {
    "duration": 9,
    "start_time": "2023-08-28T07:22:58.145Z"
   },
   {
    "duration": 8,
    "start_time": "2023-08-28T07:22:58.156Z"
   },
   {
    "duration": 5,
    "start_time": "2023-08-28T07:22:58.165Z"
   },
   {
    "duration": 856,
    "start_time": "2023-08-28T07:22:58.570Z"
   },
   {
    "duration": 22,
    "start_time": "2023-08-28T07:22:59.428Z"
   },
   {
    "duration": 20,
    "start_time": "2023-08-28T07:22:59.451Z"
   },
   {
    "duration": 7,
    "start_time": "2023-08-28T07:22:59.472Z"
   },
   {
    "duration": 7,
    "start_time": "2023-08-28T07:22:59.481Z"
   },
   {
    "duration": 9,
    "start_time": "2023-08-28T07:22:59.489Z"
   },
   {
    "duration": 8,
    "start_time": "2023-08-28T07:22:59.500Z"
   },
   {
    "duration": 5,
    "start_time": "2023-08-28T07:22:59.509Z"
   },
   {
    "duration": 4,
    "start_time": "2023-08-28T07:22:59.516Z"
   },
   {
    "duration": 6,
    "start_time": "2023-08-28T07:22:59.521Z"
   },
   {
    "duration": 27,
    "start_time": "2023-08-28T07:22:59.528Z"
   },
   {
    "duration": 4,
    "start_time": "2023-08-28T07:22:59.556Z"
   },
   {
    "duration": 7,
    "start_time": "2023-08-28T07:22:59.561Z"
   },
   {
    "duration": 130,
    "start_time": "2023-08-28T07:22:59.570Z"
   },
   {
    "duration": 142,
    "start_time": "2023-08-28T07:22:59.702Z"
   },
   {
    "duration": 7,
    "start_time": "2023-08-28T07:22:59.845Z"
   },
   {
    "duration": 67,
    "start_time": "2023-08-28T07:22:59.853Z"
   },
   {
    "duration": 136,
    "start_time": "2023-08-28T07:22:59.921Z"
   },
   {
    "duration": 233,
    "start_time": "2023-08-28T07:23:00.059Z"
   },
   {
    "duration": 7,
    "start_time": "2023-08-28T07:23:00.294Z"
   },
   {
    "duration": 101,
    "start_time": "2023-08-28T07:23:00.303Z"
   },
   {
    "duration": 360,
    "start_time": "2023-08-28T07:23:00.405Z"
   },
   {
    "duration": 8,
    "start_time": "2023-08-28T07:23:00.767Z"
   },
   {
    "duration": 116,
    "start_time": "2023-08-28T07:23:00.776Z"
   },
   {
    "duration": 9,
    "start_time": "2023-08-28T07:23:00.894Z"
   },
   {
    "duration": 40,
    "start_time": "2023-08-28T07:23:00.904Z"
   },
   {
    "duration": 42,
    "start_time": "2023-08-28T07:23:00.946Z"
   },
   {
    "duration": 44,
    "start_time": "2023-08-28T07:23:00.989Z"
   },
   {
    "duration": 54,
    "start_time": "2023-08-28T07:23:01.034Z"
   },
   {
    "duration": 52,
    "start_time": "2023-08-28T07:23:01.090Z"
   },
   {
    "duration": 39,
    "start_time": "2023-08-28T07:23:01.144Z"
   },
   {
    "duration": 83,
    "start_time": "2023-08-28T07:23:01.184Z"
   },
   {
    "duration": 282,
    "start_time": "2023-08-28T07:23:01.269Z"
   },
   {
    "duration": 8,
    "start_time": "2023-08-28T07:23:01.556Z"
   },
   {
    "duration": 265,
    "start_time": "2023-08-28T07:23:01.565Z"
   },
   {
    "duration": 7,
    "start_time": "2023-08-28T07:23:01.832Z"
   },
   {
    "duration": 264,
    "start_time": "2023-08-28T07:23:01.849Z"
   },
   {
    "duration": 7,
    "start_time": "2023-08-28T07:23:02.115Z"
   },
   {
    "duration": 279,
    "start_time": "2023-08-28T07:23:02.124Z"
   },
   {
    "duration": 7,
    "start_time": "2023-08-28T07:23:02.405Z"
   },
   {
    "duration": 786,
    "start_time": "2023-08-28T07:23:02.414Z"
   },
   {
    "duration": 3,
    "start_time": "2023-08-28T07:23:03.201Z"
   },
   {
    "duration": 26,
    "start_time": "2023-08-28T07:23:03.205Z"
   },
   {
    "duration": 20,
    "start_time": "2023-08-28T07:23:03.232Z"
   },
   {
    "duration": 14,
    "start_time": "2023-08-28T07:23:03.254Z"
   },
   {
    "duration": 272,
    "start_time": "2023-08-28T07:23:03.269Z"
   },
   {
    "duration": 12,
    "start_time": "2023-08-28T07:23:03.542Z"
   },
   {
    "duration": 10,
    "start_time": "2023-08-28T07:23:03.556Z"
   },
   {
    "duration": 11,
    "start_time": "2023-08-28T07:23:03.567Z"
   },
   {
    "duration": 7,
    "start_time": "2023-08-28T07:23:03.579Z"
   },
   {
    "duration": 7,
    "start_time": "2023-08-28T07:23:03.587Z"
   },
   {
    "duration": 12,
    "start_time": "2023-08-28T07:23:03.596Z"
   },
   {
    "duration": 14,
    "start_time": "2023-08-28T07:23:03.610Z"
   },
   {
    "duration": 9,
    "start_time": "2023-08-28T07:23:03.626Z"
   },
   {
    "duration": 12,
    "start_time": "2023-08-28T07:23:03.636Z"
   },
   {
    "duration": 8,
    "start_time": "2023-08-28T07:23:03.650Z"
   },
   {
    "duration": 13,
    "start_time": "2023-08-28T07:23:03.660Z"
   },
   {
    "duration": 11,
    "start_time": "2023-08-28T07:23:03.674Z"
   },
   {
    "duration": 11,
    "start_time": "2023-08-28T07:23:03.687Z"
   },
   {
    "duration": 6,
    "start_time": "2023-08-28T07:23:03.699Z"
   },
   {
    "duration": 22,
    "start_time": "2023-08-28T07:23:03.706Z"
   },
   {
    "duration": 123,
    "start_time": "2023-08-28T07:23:37.571Z"
   },
   {
    "duration": 2970,
    "start_time": "2023-08-28T10:45:56.910Z"
   },
   {
    "duration": 1490,
    "start_time": "2023-08-28T10:45:59.883Z"
   },
   {
    "duration": 86,
    "start_time": "2023-08-28T10:46:01.375Z"
   },
   {
    "duration": 12,
    "start_time": "2023-08-28T10:46:01.463Z"
   },
   {
    "duration": 58,
    "start_time": "2023-08-28T10:46:01.476Z"
   },
   {
    "duration": 37,
    "start_time": "2023-08-28T10:46:01.536Z"
   },
   {
    "duration": 165,
    "start_time": "2023-08-28T10:46:01.575Z"
   },
   {
    "duration": 12,
    "start_time": "2023-08-28T10:46:01.741Z"
   },
   {
    "duration": 42,
    "start_time": "2023-08-28T10:46:01.755Z"
   },
   {
    "duration": 57,
    "start_time": "2023-08-28T10:46:01.799Z"
   },
   {
    "duration": 134,
    "start_time": "2023-08-28T10:46:01.858Z"
   },
   {
    "duration": 134,
    "start_time": "2023-08-28T10:46:01.994Z"
   },
   {
    "duration": 72,
    "start_time": "2023-08-28T10:46:02.129Z"
   },
   {
    "duration": 10,
    "start_time": "2023-08-28T10:46:02.203Z"
   },
   {
    "duration": 36,
    "start_time": "2023-08-28T10:46:02.215Z"
   },
   {
    "duration": 41,
    "start_time": "2023-08-28T10:46:02.253Z"
   },
   {
    "duration": 1010,
    "start_time": "2023-08-28T10:46:02.297Z"
   },
   {
    "duration": 8,
    "start_time": "2023-08-28T10:46:03.309Z"
   },
   {
    "duration": 20,
    "start_time": "2023-08-28T10:46:03.319Z"
   },
   {
    "duration": 16,
    "start_time": "2023-08-28T10:46:03.341Z"
   },
   {
    "duration": 29,
    "start_time": "2023-08-28T10:46:03.359Z"
   },
   {
    "duration": 18,
    "start_time": "2023-08-28T10:46:03.390Z"
   },
   {
    "duration": 18,
    "start_time": "2023-08-28T10:46:03.410Z"
   },
   {
    "duration": 21,
    "start_time": "2023-08-28T10:46:03.430Z"
   },
   {
    "duration": 20,
    "start_time": "2023-08-28T10:46:03.453Z"
   },
   {
    "duration": 7,
    "start_time": "2023-08-28T10:46:03.474Z"
   },
   {
    "duration": 14,
    "start_time": "2023-08-28T10:46:03.483Z"
   },
   {
    "duration": 15,
    "start_time": "2023-08-28T10:46:03.502Z"
   },
   {
    "duration": 12,
    "start_time": "2023-08-28T10:46:03.519Z"
   },
   {
    "duration": 134,
    "start_time": "2023-08-28T10:46:03.533Z"
   },
   {
    "duration": 169,
    "start_time": "2023-08-28T10:46:03.668Z"
   },
   {
    "duration": 6,
    "start_time": "2023-08-28T10:46:03.838Z"
   },
   {
    "duration": 97,
    "start_time": "2023-08-28T10:46:03.845Z"
   },
   {
    "duration": 147,
    "start_time": "2023-08-28T10:46:03.944Z"
   },
   {
    "duration": 337,
    "start_time": "2023-08-28T10:46:04.093Z"
   },
   {
    "duration": 7,
    "start_time": "2023-08-28T10:46:04.433Z"
   },
   {
    "duration": 127,
    "start_time": "2023-08-28T10:46:04.442Z"
   },
   {
    "duration": 322,
    "start_time": "2023-08-28T10:46:04.572Z"
   },
   {
    "duration": 7,
    "start_time": "2023-08-28T10:46:04.896Z"
   },
   {
    "duration": 118,
    "start_time": "2023-08-28T10:46:04.904Z"
   },
   {
    "duration": 21,
    "start_time": "2023-08-28T10:46:05.024Z"
   },
   {
    "duration": 30,
    "start_time": "2023-08-28T10:46:05.047Z"
   },
   {
    "duration": 27,
    "start_time": "2023-08-28T10:46:05.079Z"
   },
   {
    "duration": 15,
    "start_time": "2023-08-28T10:46:05.108Z"
   },
   {
    "duration": 9,
    "start_time": "2023-08-28T10:46:05.125Z"
   },
   {
    "duration": 23,
    "start_time": "2023-08-28T10:46:05.135Z"
   },
   {
    "duration": 21,
    "start_time": "2023-08-28T10:46:05.160Z"
   },
   {
    "duration": 31,
    "start_time": "2023-08-28T10:46:05.183Z"
   },
   {
    "duration": 258,
    "start_time": "2023-08-28T10:46:05.216Z"
   },
   {
    "duration": 9,
    "start_time": "2023-08-28T10:46:05.476Z"
   },
   {
    "duration": 285,
    "start_time": "2023-08-28T10:46:05.486Z"
   },
   {
    "duration": 10,
    "start_time": "2023-08-28T10:46:05.773Z"
   },
   {
    "duration": 307,
    "start_time": "2023-08-28T10:46:05.785Z"
   },
   {
    "duration": 9,
    "start_time": "2023-08-28T10:46:06.094Z"
   },
   {
    "duration": 376,
    "start_time": "2023-08-28T10:46:06.104Z"
   },
   {
    "duration": 8,
    "start_time": "2023-08-28T10:46:06.481Z"
   },
   {
    "duration": 808,
    "start_time": "2023-08-28T10:46:06.491Z"
   },
   {
    "duration": 4,
    "start_time": "2023-08-28T10:46:07.300Z"
   },
   {
    "duration": 36,
    "start_time": "2023-08-28T10:46:07.306Z"
   },
   {
    "duration": 16,
    "start_time": "2023-08-28T10:46:07.343Z"
   },
   {
    "duration": 26,
    "start_time": "2023-08-28T10:46:07.360Z"
   },
   {
    "duration": 171,
    "start_time": "2023-08-28T10:46:07.388Z"
   },
   {
    "duration": 11,
    "start_time": "2023-08-28T10:46:07.560Z"
   },
   {
    "duration": 28,
    "start_time": "2023-08-28T10:46:07.573Z"
   },
   {
    "duration": 8,
    "start_time": "2023-08-28T10:46:07.602Z"
   },
   {
    "duration": 33,
    "start_time": "2023-08-28T10:46:07.612Z"
   },
   {
    "duration": 36,
    "start_time": "2023-08-28T10:46:07.647Z"
   },
   {
    "duration": 31,
    "start_time": "2023-08-28T10:46:07.685Z"
   },
   {
    "duration": 23,
    "start_time": "2023-08-28T10:46:07.718Z"
   },
   {
    "duration": 43,
    "start_time": "2023-08-28T10:46:07.743Z"
   },
   {
    "duration": 24,
    "start_time": "2023-08-28T10:46:07.788Z"
   },
   {
    "duration": 32,
    "start_time": "2023-08-28T10:46:07.813Z"
   },
   {
    "duration": 31,
    "start_time": "2023-08-28T10:46:07.846Z"
   },
   {
    "duration": 21,
    "start_time": "2023-08-28T10:46:07.878Z"
   },
   {
    "duration": 35,
    "start_time": "2023-08-28T10:46:07.901Z"
   },
   {
    "duration": 25,
    "start_time": "2023-08-28T10:46:07.940Z"
   },
   {
    "duration": 153,
    "start_time": "2023-08-28T10:46:07.966Z"
   },
   {
    "duration": 3377,
    "start_time": "2023-08-28T13:16:24.717Z"
   },
   {
    "duration": 1339,
    "start_time": "2023-08-28T13:16:28.096Z"
   },
   {
    "duration": 31,
    "start_time": "2023-08-28T13:16:29.437Z"
   },
   {
    "duration": 11,
    "start_time": "2023-08-28T13:16:29.470Z"
   },
   {
    "duration": 30,
    "start_time": "2023-08-28T13:16:29.483Z"
   },
   {
    "duration": 16,
    "start_time": "2023-08-28T13:16:29.514Z"
   },
   {
    "duration": 47,
    "start_time": "2023-08-28T13:16:29.532Z"
   },
   {
    "duration": 11,
    "start_time": "2023-08-28T13:16:29.581Z"
   },
   {
    "duration": 7,
    "start_time": "2023-08-28T13:16:29.594Z"
   },
   {
    "duration": 15,
    "start_time": "2023-08-28T13:16:29.603Z"
   },
   {
    "duration": 53,
    "start_time": "2023-08-28T13:16:29.620Z"
   },
   {
    "duration": 19,
    "start_time": "2023-08-28T13:16:29.675Z"
   },
   {
    "duration": 21,
    "start_time": "2023-08-28T13:16:29.696Z"
   },
   {
    "duration": 11,
    "start_time": "2023-08-28T13:16:29.721Z"
   },
   {
    "duration": 31,
    "start_time": "2023-08-28T13:16:29.733Z"
   },
   {
    "duration": 44,
    "start_time": "2023-08-28T13:16:29.766Z"
   },
   {
    "duration": 834,
    "start_time": "2023-08-28T13:16:29.812Z"
   },
   {
    "duration": 8,
    "start_time": "2023-08-28T13:16:30.656Z"
   },
   {
    "duration": 66,
    "start_time": "2023-08-28T13:16:30.665Z"
   },
   {
    "duration": 60,
    "start_time": "2023-08-28T13:16:30.733Z"
   },
   {
    "duration": 56,
    "start_time": "2023-08-28T13:16:30.795Z"
   },
   {
    "duration": 41,
    "start_time": "2023-08-28T13:16:30.853Z"
   },
   {
    "duration": 38,
    "start_time": "2023-08-28T13:16:30.896Z"
   },
   {
    "duration": 45,
    "start_time": "2023-08-28T13:16:30.936Z"
   },
   {
    "duration": 32,
    "start_time": "2023-08-28T13:16:30.983Z"
   },
   {
    "duration": 40,
    "start_time": "2023-08-28T13:16:31.017Z"
   },
   {
    "duration": 38,
    "start_time": "2023-08-28T13:16:31.059Z"
   },
   {
    "duration": 28,
    "start_time": "2023-08-28T13:16:31.099Z"
   },
   {
    "duration": 51,
    "start_time": "2023-08-28T13:16:31.128Z"
   },
   {
    "duration": 156,
    "start_time": "2023-08-28T13:16:31.181Z"
   },
   {
    "duration": 170,
    "start_time": "2023-08-28T13:16:31.338Z"
   },
   {
    "duration": 6,
    "start_time": "2023-08-28T13:16:31.510Z"
   },
   {
    "duration": 120,
    "start_time": "2023-08-28T13:16:31.517Z"
   },
   {
    "duration": 147,
    "start_time": "2023-08-28T13:16:31.639Z"
   },
   {
    "duration": 382,
    "start_time": "2023-08-28T13:16:31.787Z"
   },
   {
    "duration": 9,
    "start_time": "2023-08-28T13:16:32.171Z"
   },
   {
    "duration": 123,
    "start_time": "2023-08-28T13:16:32.182Z"
   },
   {
    "duration": 288,
    "start_time": "2023-08-28T13:16:32.307Z"
   },
   {
    "duration": 9,
    "start_time": "2023-08-28T13:16:32.597Z"
   },
   {
    "duration": 110,
    "start_time": "2023-08-28T13:16:32.608Z"
   },
   {
    "duration": 10,
    "start_time": "2023-08-28T13:16:32.722Z"
   },
   {
    "duration": 23,
    "start_time": "2023-08-28T13:16:32.734Z"
   },
   {
    "duration": 12,
    "start_time": "2023-08-28T13:16:32.759Z"
   },
   {
    "duration": 12,
    "start_time": "2023-08-28T13:16:32.773Z"
   },
   {
    "duration": 11,
    "start_time": "2023-08-28T13:16:32.786Z"
   },
   {
    "duration": 20,
    "start_time": "2023-08-28T13:16:32.799Z"
   },
   {
    "duration": 30,
    "start_time": "2023-08-28T13:16:32.821Z"
   },
   {
    "duration": 26,
    "start_time": "2023-08-28T13:16:32.853Z"
   },
   {
    "duration": 260,
    "start_time": "2023-08-28T13:16:32.881Z"
   },
   {
    "duration": 17,
    "start_time": "2023-08-28T13:16:33.142Z"
   },
   {
    "duration": 268,
    "start_time": "2023-08-28T13:16:33.161Z"
   },
   {
    "duration": 9,
    "start_time": "2023-08-28T13:16:33.431Z"
   },
   {
    "duration": 270,
    "start_time": "2023-08-28T13:16:33.441Z"
   },
   {
    "duration": 9,
    "start_time": "2023-08-28T13:16:33.712Z"
   },
   {
    "duration": 391,
    "start_time": "2023-08-28T13:16:33.722Z"
   },
   {
    "duration": 10,
    "start_time": "2023-08-28T13:16:34.114Z"
   },
   {
    "duration": 894,
    "start_time": "2023-08-28T13:16:34.125Z"
   },
   {
    "duration": 3,
    "start_time": "2023-08-28T13:16:35.021Z"
   },
   {
    "duration": 47,
    "start_time": "2023-08-28T13:16:35.025Z"
   },
   {
    "duration": 38,
    "start_time": "2023-08-28T13:16:35.073Z"
   },
   {
    "duration": 14,
    "start_time": "2023-08-28T13:16:35.112Z"
   },
   {
    "duration": 170,
    "start_time": "2023-08-28T13:16:35.128Z"
   },
   {
    "duration": 12,
    "start_time": "2023-08-28T13:16:35.300Z"
   },
   {
    "duration": 20,
    "start_time": "2023-08-28T13:16:35.313Z"
   },
   {
    "duration": 34,
    "start_time": "2023-08-28T13:16:35.335Z"
   },
   {
    "duration": 51,
    "start_time": "2023-08-28T13:16:35.370Z"
   },
   {
    "duration": 13,
    "start_time": "2023-08-28T13:16:35.423Z"
   },
   {
    "duration": 56,
    "start_time": "2023-08-28T13:16:35.438Z"
   },
   {
    "duration": 11,
    "start_time": "2023-08-28T13:16:35.496Z"
   },
   {
    "duration": 31,
    "start_time": "2023-08-28T13:16:35.509Z"
   },
   {
    "duration": 14,
    "start_time": "2023-08-28T13:16:35.541Z"
   },
   {
    "duration": 6,
    "start_time": "2023-08-28T13:16:35.557Z"
   },
   {
    "duration": 14,
    "start_time": "2023-08-28T13:16:35.564Z"
   },
   {
    "duration": 15,
    "start_time": "2023-08-28T13:16:35.580Z"
   },
   {
    "duration": 112,
    "start_time": "2023-08-28T13:16:35.597Z"
   },
   {
    "duration": 76,
    "start_time": "2023-08-28T13:16:35.711Z"
   },
   {
    "duration": 217,
    "start_time": "2023-08-28T13:16:35.789Z"
   },
   {
    "duration": 52,
    "start_time": "2023-08-28T13:30:31.206Z"
   },
   {
    "duration": 3226,
    "start_time": "2023-08-28T13:31:19.955Z"
   },
   {
    "duration": 1546,
    "start_time": "2023-08-28T13:31:23.182Z"
   },
   {
    "duration": 111,
    "start_time": "2023-08-28T13:31:24.730Z"
   },
   {
    "duration": 16,
    "start_time": "2023-08-28T13:31:24.843Z"
   },
   {
    "duration": 16,
    "start_time": "2023-08-28T13:31:24.862Z"
   },
   {
    "duration": 18,
    "start_time": "2023-08-28T13:31:24.879Z"
   },
   {
    "duration": 105,
    "start_time": "2023-08-28T13:31:24.899Z"
   },
   {
    "duration": 16,
    "start_time": "2023-08-28T13:31:25.006Z"
   },
   {
    "duration": 4,
    "start_time": "2023-08-28T13:31:25.024Z"
   },
   {
    "duration": 22,
    "start_time": "2023-08-28T13:31:25.031Z"
   },
   {
    "duration": 25,
    "start_time": "2023-08-28T13:31:25.055Z"
   },
   {
    "duration": 19,
    "start_time": "2023-08-28T13:31:25.082Z"
   },
   {
    "duration": 75,
    "start_time": "2023-08-28T13:31:25.104Z"
   },
   {
    "duration": 10,
    "start_time": "2023-08-28T13:31:25.181Z"
   },
   {
    "duration": 31,
    "start_time": "2023-08-28T13:31:25.193Z"
   },
   {
    "duration": 26,
    "start_time": "2023-08-28T13:31:25.225Z"
   },
   {
    "duration": 1072,
    "start_time": "2023-08-28T13:31:25.254Z"
   },
   {
    "duration": 14,
    "start_time": "2023-08-28T13:31:26.333Z"
   },
   {
    "duration": 17,
    "start_time": "2023-08-28T13:31:26.349Z"
   },
   {
    "duration": 18,
    "start_time": "2023-08-28T13:31:26.367Z"
   },
   {
    "duration": 18,
    "start_time": "2023-08-28T13:31:26.386Z"
   },
   {
    "duration": 10,
    "start_time": "2023-08-28T13:31:26.406Z"
   },
   {
    "duration": 19,
    "start_time": "2023-08-28T13:31:26.418Z"
   },
   {
    "duration": 12,
    "start_time": "2023-08-28T13:31:26.448Z"
   },
   {
    "duration": 10,
    "start_time": "2023-08-28T13:31:26.461Z"
   },
   {
    "duration": 6,
    "start_time": "2023-08-28T13:31:26.472Z"
   },
   {
    "duration": 12,
    "start_time": "2023-08-28T13:31:26.480Z"
   },
   {
    "duration": 6,
    "start_time": "2023-08-28T13:31:26.499Z"
   },
   {
    "duration": 39,
    "start_time": "2023-08-28T13:31:26.507Z"
   },
   {
    "duration": 173,
    "start_time": "2023-08-28T13:31:26.547Z"
   },
   {
    "duration": 187,
    "start_time": "2023-08-28T13:31:26.723Z"
   },
   {
    "duration": 6,
    "start_time": "2023-08-28T13:31:26.912Z"
   },
   {
    "duration": 122,
    "start_time": "2023-08-28T13:31:26.933Z"
   },
   {
    "duration": 147,
    "start_time": "2023-08-28T13:31:27.057Z"
   },
   {
    "duration": 363,
    "start_time": "2023-08-28T13:31:27.205Z"
   },
   {
    "duration": 9,
    "start_time": "2023-08-28T13:31:27.570Z"
   },
   {
    "duration": 114,
    "start_time": "2023-08-28T13:31:27.581Z"
   },
   {
    "duration": 282,
    "start_time": "2023-08-28T13:31:27.697Z"
   },
   {
    "duration": 8,
    "start_time": "2023-08-28T13:31:27.981Z"
   },
   {
    "duration": 118,
    "start_time": "2023-08-28T13:31:27.990Z"
   },
   {
    "duration": 10,
    "start_time": "2023-08-28T13:31:28.110Z"
   },
   {
    "duration": 32,
    "start_time": "2023-08-28T13:31:28.122Z"
   },
   {
    "duration": 17,
    "start_time": "2023-08-28T13:31:28.156Z"
   },
   {
    "duration": 20,
    "start_time": "2023-08-28T13:31:28.175Z"
   },
   {
    "duration": 10,
    "start_time": "2023-08-28T13:31:28.197Z"
   },
   {
    "duration": 42,
    "start_time": "2023-08-28T13:31:28.209Z"
   },
   {
    "duration": 6,
    "start_time": "2023-08-28T13:31:28.252Z"
   },
   {
    "duration": 25,
    "start_time": "2023-08-28T13:31:28.259Z"
   },
   {
    "duration": 272,
    "start_time": "2023-08-28T13:31:28.286Z"
   },
   {
    "duration": 10,
    "start_time": "2023-08-28T13:31:28.560Z"
   },
   {
    "duration": 324,
    "start_time": "2023-08-28T13:31:28.572Z"
   },
   {
    "duration": 12,
    "start_time": "2023-08-28T13:31:28.899Z"
   },
   {
    "duration": 286,
    "start_time": "2023-08-28T13:31:28.913Z"
   },
   {
    "duration": 11,
    "start_time": "2023-08-28T13:31:29.201Z"
   },
   {
    "duration": 388,
    "start_time": "2023-08-28T13:31:29.214Z"
   },
   {
    "duration": 11,
    "start_time": "2023-08-28T13:31:29.605Z"
   },
   {
    "duration": 861,
    "start_time": "2023-08-28T13:31:29.619Z"
   },
   {
    "duration": 3,
    "start_time": "2023-08-28T13:31:30.482Z"
   },
   {
    "duration": 52,
    "start_time": "2023-08-28T13:31:30.487Z"
   },
   {
    "duration": 37,
    "start_time": "2023-08-28T13:31:30.544Z"
   },
   {
    "duration": 36,
    "start_time": "2023-08-28T13:31:30.583Z"
   },
   {
    "duration": 198,
    "start_time": "2023-08-28T13:31:30.623Z"
   },
   {
    "duration": 19,
    "start_time": "2023-08-28T13:31:30.823Z"
   },
   {
    "duration": 38,
    "start_time": "2023-08-28T13:31:30.848Z"
   },
   {
    "duration": 30,
    "start_time": "2023-08-28T13:31:30.888Z"
   },
   {
    "duration": 61,
    "start_time": "2023-08-28T13:31:30.920Z"
   },
   {
    "duration": 41,
    "start_time": "2023-08-28T13:31:30.982Z"
   },
   {
    "duration": 54,
    "start_time": "2023-08-28T13:31:31.025Z"
   },
   {
    "duration": 35,
    "start_time": "2023-08-28T13:31:31.081Z"
   },
   {
    "duration": 87,
    "start_time": "2023-08-28T13:31:31.118Z"
   },
   {
    "duration": 146,
    "start_time": "2023-08-28T13:31:31.207Z"
   },
   {
    "duration": 41,
    "start_time": "2023-08-28T13:31:31.355Z"
   },
   {
    "duration": 57,
    "start_time": "2023-08-28T13:31:31.398Z"
   },
   {
    "duration": 38,
    "start_time": "2023-08-28T13:31:31.456Z"
   },
   {
    "duration": 71,
    "start_time": "2023-08-28T13:31:31.496Z"
   },
   {
    "duration": 84,
    "start_time": "2023-08-28T13:31:31.569Z"
   },
   {
    "duration": 220,
    "start_time": "2023-08-28T13:31:31.657Z"
   },
   {
    "duration": 8,
    "start_time": "2023-08-28T13:43:05.424Z"
   },
   {
    "duration": 142,
    "start_time": "2023-08-28T13:47:25.719Z"
   },
   {
    "duration": 143,
    "start_time": "2023-08-28T13:49:21.870Z"
   },
   {
    "duration": 149,
    "start_time": "2023-08-28T13:49:45.179Z"
   },
   {
    "duration": 3,
    "start_time": "2023-08-28T13:54:59.670Z"
   },
   {
    "duration": 3,
    "start_time": "2023-08-28T13:55:23.850Z"
   },
   {
    "duration": 4,
    "start_time": "2023-08-28T13:55:33.457Z"
   },
   {
    "duration": 4,
    "start_time": "2023-08-28T13:56:38.261Z"
   },
   {
    "duration": 4,
    "start_time": "2023-08-28T13:57:45.576Z"
   },
   {
    "duration": 14,
    "start_time": "2023-08-28T13:58:39.879Z"
   },
   {
    "duration": 20,
    "start_time": "2023-08-28T13:58:40.571Z"
   },
   {
    "duration": 4,
    "start_time": "2023-08-28T13:59:54.998Z"
   },
   {
    "duration": 6,
    "start_time": "2023-08-28T14:09:05.387Z"
   },
   {
    "duration": 4,
    "start_time": "2023-08-28T14:15:32.606Z"
   },
   {
    "duration": 47,
    "start_time": "2023-08-29T06:42:21.292Z"
   },
   {
    "duration": 2609,
    "start_time": "2023-08-29T06:42:34.422Z"
   },
   {
    "duration": 1418,
    "start_time": "2023-08-29T06:42:37.033Z"
   },
   {
    "duration": 86,
    "start_time": "2023-08-29T06:42:38.455Z"
   },
   {
    "duration": 13,
    "start_time": "2023-08-29T06:42:38.544Z"
   },
   {
    "duration": 36,
    "start_time": "2023-08-29T06:42:38.558Z"
   },
   {
    "duration": 8,
    "start_time": "2023-08-29T06:42:38.595Z"
   },
   {
    "duration": 155,
    "start_time": "2023-08-29T06:42:38.605Z"
   },
   {
    "duration": 16,
    "start_time": "2023-08-29T06:42:38.763Z"
   },
   {
    "duration": 69,
    "start_time": "2023-08-29T06:42:38.781Z"
   },
   {
    "duration": 32,
    "start_time": "2023-08-29T06:42:38.854Z"
   },
   {
    "duration": 47,
    "start_time": "2023-08-29T06:42:38.888Z"
   },
   {
    "duration": 18,
    "start_time": "2023-08-29T06:42:38.937Z"
   },
   {
    "duration": 76,
    "start_time": "2023-08-29T06:42:38.956Z"
   },
   {
    "duration": 10,
    "start_time": "2023-08-29T06:42:39.034Z"
   },
   {
    "duration": 16,
    "start_time": "2023-08-29T06:42:39.046Z"
   },
   {
    "duration": 9,
    "start_time": "2023-08-29T06:42:39.063Z"
   },
   {
    "duration": 849,
    "start_time": "2023-08-29T06:42:39.073Z"
   },
   {
    "duration": 6,
    "start_time": "2023-08-29T06:42:39.924Z"
   },
   {
    "duration": 19,
    "start_time": "2023-08-29T06:42:39.932Z"
   },
   {
    "duration": 28,
    "start_time": "2023-08-29T06:42:39.956Z"
   },
   {
    "duration": 31,
    "start_time": "2023-08-29T06:42:39.986Z"
   },
   {
    "duration": 22,
    "start_time": "2023-08-29T06:42:40.018Z"
   },
   {
    "duration": 16,
    "start_time": "2023-08-29T06:42:40.042Z"
   },
   {
    "duration": 10,
    "start_time": "2023-08-29T06:42:40.060Z"
   },
   {
    "duration": 15,
    "start_time": "2023-08-29T06:42:40.072Z"
   },
   {
    "duration": 13,
    "start_time": "2023-08-29T06:42:40.089Z"
   },
   {
    "duration": 6,
    "start_time": "2023-08-29T06:42:40.104Z"
   },
   {
    "duration": 8,
    "start_time": "2023-08-29T06:42:40.113Z"
   },
   {
    "duration": 12,
    "start_time": "2023-08-29T06:42:40.122Z"
   },
   {
    "duration": 21,
    "start_time": "2023-08-29T06:42:40.136Z"
   },
   {
    "duration": 146,
    "start_time": "2023-08-29T06:42:40.159Z"
   },
   {
    "duration": 170,
    "start_time": "2023-08-29T06:42:40.306Z"
   },
   {
    "duration": 6,
    "start_time": "2023-08-29T06:42:40.478Z"
   },
   {
    "duration": 101,
    "start_time": "2023-08-29T06:42:40.485Z"
   },
   {
    "duration": 137,
    "start_time": "2023-08-29T06:42:40.588Z"
   },
   {
    "duration": 349,
    "start_time": "2023-08-29T06:42:40.727Z"
   },
   {
    "duration": 9,
    "start_time": "2023-08-29T06:42:41.077Z"
   },
   {
    "duration": 113,
    "start_time": "2023-08-29T06:42:41.088Z"
   },
   {
    "duration": 256,
    "start_time": "2023-08-29T06:42:41.203Z"
   },
   {
    "duration": 9,
    "start_time": "2023-08-29T06:42:41.460Z"
   },
   {
    "duration": 115,
    "start_time": "2023-08-29T06:42:41.470Z"
   },
   {
    "duration": 4,
    "start_time": "2023-08-29T06:42:41.587Z"
   },
   {
    "duration": 13,
    "start_time": "2023-08-29T06:42:41.593Z"
   },
   {
    "duration": 23,
    "start_time": "2023-08-29T06:42:41.608Z"
   },
   {
    "duration": 23,
    "start_time": "2023-08-29T06:42:41.633Z"
   },
   {
    "duration": 4,
    "start_time": "2023-08-29T06:42:41.658Z"
   },
   {
    "duration": 12,
    "start_time": "2023-08-29T06:42:41.663Z"
   },
   {
    "duration": 18,
    "start_time": "2023-08-29T06:42:41.676Z"
   },
   {
    "duration": 18,
    "start_time": "2023-08-29T06:42:41.695Z"
   },
   {
    "duration": 10,
    "start_time": "2023-08-29T06:42:41.714Z"
   },
   {
    "duration": 31,
    "start_time": "2023-08-29T06:42:41.728Z"
   },
   {
    "duration": 5,
    "start_time": "2023-08-29T06:42:41.760Z"
   },
   {
    "duration": 23,
    "start_time": "2023-08-29T06:42:41.766Z"
   },
   {
    "duration": 267,
    "start_time": "2023-08-29T06:42:41.791Z"
   },
   {
    "duration": 9,
    "start_time": "2023-08-29T06:42:42.060Z"
   },
   {
    "duration": 263,
    "start_time": "2023-08-29T06:42:42.070Z"
   },
   {
    "duration": 21,
    "start_time": "2023-08-29T06:42:42.335Z"
   },
   {
    "duration": 256,
    "start_time": "2023-08-29T06:42:42.358Z"
   },
   {
    "duration": 8,
    "start_time": "2023-08-29T06:42:42.616Z"
   },
   {
    "duration": 388,
    "start_time": "2023-08-29T06:42:42.625Z"
   },
   {
    "duration": 9,
    "start_time": "2023-08-29T06:42:43.014Z"
   },
   {
    "duration": 84,
    "start_time": "2023-08-29T06:42:43.024Z"
   },
   {
    "duration": 0,
    "start_time": "2023-08-29T06:42:43.110Z"
   },
   {
    "duration": 0,
    "start_time": "2023-08-29T06:42:43.111Z"
   },
   {
    "duration": 0,
    "start_time": "2023-08-29T06:42:43.113Z"
   },
   {
    "duration": 0,
    "start_time": "2023-08-29T06:42:43.114Z"
   },
   {
    "duration": 0,
    "start_time": "2023-08-29T06:42:43.115Z"
   },
   {
    "duration": 0,
    "start_time": "2023-08-29T06:42:43.116Z"
   },
   {
    "duration": 0,
    "start_time": "2023-08-29T06:42:43.117Z"
   },
   {
    "duration": 0,
    "start_time": "2023-08-29T06:42:43.118Z"
   },
   {
    "duration": 0,
    "start_time": "2023-08-29T06:42:43.120Z"
   },
   {
    "duration": 0,
    "start_time": "2023-08-29T06:42:43.120Z"
   },
   {
    "duration": 0,
    "start_time": "2023-08-29T06:42:43.121Z"
   },
   {
    "duration": 0,
    "start_time": "2023-08-29T06:42:43.122Z"
   },
   {
    "duration": 0,
    "start_time": "2023-08-29T06:42:43.123Z"
   },
   {
    "duration": 0,
    "start_time": "2023-08-29T06:42:43.124Z"
   },
   {
    "duration": 0,
    "start_time": "2023-08-29T06:42:43.125Z"
   },
   {
    "duration": 0,
    "start_time": "2023-08-29T06:42:43.125Z"
   },
   {
    "duration": 10,
    "start_time": "2023-08-29T06:42:45.242Z"
   },
   {
    "duration": 9,
    "start_time": "2023-08-29T06:42:45.769Z"
   },
   {
    "duration": 9,
    "start_time": "2023-08-29T06:42:45.801Z"
   },
   {
    "duration": 10,
    "start_time": "2023-08-29T06:42:45.893Z"
   },
   {
    "duration": 5,
    "start_time": "2023-08-29T06:42:46.141Z"
   },
   {
    "duration": 127,
    "start_time": "2023-08-29T06:42:46.201Z"
   },
   {
    "duration": 10,
    "start_time": "2023-08-29T06:42:57.730Z"
   },
   {
    "duration": 11,
    "start_time": "2023-08-29T06:43:15.236Z"
   },
   {
    "duration": 11,
    "start_time": "2023-08-29T06:43:26.992Z"
   },
   {
    "duration": 9,
    "start_time": "2023-08-29T06:43:35.662Z"
   },
   {
    "duration": 774,
    "start_time": "2023-08-29T06:44:56.427Z"
   },
   {
    "duration": 3,
    "start_time": "2023-08-29T06:44:58.095Z"
   },
   {
    "duration": 18,
    "start_time": "2023-08-29T06:44:58.896Z"
   },
   {
    "duration": 7,
    "start_time": "2023-08-29T06:45:35.368Z"
   },
   {
    "duration": 18,
    "start_time": "2023-08-29T06:50:11.087Z"
   },
   {
    "duration": 13,
    "start_time": "2023-08-29T06:50:14.308Z"
   },
   {
    "duration": 14,
    "start_time": "2023-08-29T06:50:15.147Z"
   },
   {
    "duration": 3,
    "start_time": "2023-08-29T06:50:25.009Z"
   },
   {
    "duration": 4,
    "start_time": "2023-08-29T06:50:27.388Z"
   },
   {
    "duration": 149,
    "start_time": "2023-08-29T06:50:28.159Z"
   },
   {
    "duration": 17,
    "start_time": "2023-08-29T06:50:28.839Z"
   },
   {
    "duration": 5,
    "start_time": "2023-08-29T06:50:29.720Z"
   },
   {
    "duration": 6,
    "start_time": "2023-08-29T06:50:56.690Z"
   },
   {
    "duration": 9,
    "start_time": "2023-08-29T06:51:18.108Z"
   },
   {
    "duration": 122,
    "start_time": "2023-08-29T06:51:48.701Z"
   },
   {
    "duration": 152,
    "start_time": "2023-08-29T06:52:25.528Z"
   },
   {
    "duration": 79,
    "start_time": "2023-08-29T07:08:27.362Z"
   },
   {
    "duration": 2,
    "start_time": "2023-08-29T07:08:27.901Z"
   },
   {
    "duration": 10,
    "start_time": "2023-08-29T07:08:28.459Z"
   },
   {
    "duration": 6,
    "start_time": "2023-08-29T07:08:28.733Z"
   },
   {
    "duration": 3,
    "start_time": "2023-08-29T07:08:29.630Z"
   },
   {
    "duration": 6,
    "start_time": "2023-08-29T07:08:30.152Z"
   },
   {
    "duration": 4,
    "start_time": "2023-08-29T07:08:30.436Z"
   },
   {
    "duration": 6,
    "start_time": "2023-08-29T07:08:30.678Z"
   },
   {
    "duration": 5,
    "start_time": "2023-08-29T07:08:31.332Z"
   },
   {
    "duration": 8,
    "start_time": "2023-08-29T07:08:31.385Z"
   },
   {
    "duration": 21,
    "start_time": "2023-08-29T07:08:31.419Z"
   },
   {
    "duration": 22,
    "start_time": "2023-08-29T07:08:31.472Z"
   },
   {
    "duration": 5,
    "start_time": "2023-08-29T07:08:33.989Z"
   },
   {
    "duration": 124,
    "start_time": "2023-08-29T07:08:34.550Z"
   },
   {
    "duration": 2,
    "start_time": "2023-08-29T07:09:05.821Z"
   },
   {
    "duration": 3,
    "start_time": "2023-08-29T07:09:07.382Z"
   },
   {
    "duration": 6,
    "start_time": "2023-08-29T07:09:09.202Z"
   },
   {
    "duration": 7,
    "start_time": "2023-08-29T07:09:12.813Z"
   },
   {
    "duration": 1370,
    "start_time": "2023-08-29T07:24:13.203Z"
   },
   {
    "duration": 16,
    "start_time": "2023-08-29T07:25:21.567Z"
   },
   {
    "duration": 135,
    "start_time": "2023-08-29T07:31:45.902Z"
   },
   {
    "duration": 135,
    "start_time": "2023-08-29T07:32:11.082Z"
   },
   {
    "duration": 146,
    "start_time": "2023-08-29T07:32:48.445Z"
   },
   {
    "duration": 399,
    "start_time": "2023-08-29T07:32:59.476Z"
   },
   {
    "duration": 277,
    "start_time": "2023-08-29T07:34:26.967Z"
   },
   {
    "duration": 283,
    "start_time": "2023-08-29T07:34:37.914Z"
   },
   {
    "duration": 350,
    "start_time": "2023-08-29T07:34:49.046Z"
   },
   {
    "duration": 267,
    "start_time": "2023-08-29T07:34:56.573Z"
   },
   {
    "duration": 291,
    "start_time": "2023-08-29T07:35:04.817Z"
   },
   {
    "duration": 3136,
    "start_time": "2023-08-29T12:23:36.349Z"
   },
   {
    "duration": 1300,
    "start_time": "2023-08-29T12:23:39.488Z"
   },
   {
    "duration": 32,
    "start_time": "2023-08-29T12:23:40.792Z"
   },
   {
    "duration": 13,
    "start_time": "2023-08-29T12:23:40.826Z"
   },
   {
    "duration": 13,
    "start_time": "2023-08-29T12:23:40.842Z"
   },
   {
    "duration": 4,
    "start_time": "2023-08-29T12:23:40.857Z"
   },
   {
    "duration": 31,
    "start_time": "2023-08-29T12:23:40.863Z"
   },
   {
    "duration": 12,
    "start_time": "2023-08-29T12:23:40.895Z"
   },
   {
    "duration": 14,
    "start_time": "2023-08-29T12:23:40.908Z"
   },
   {
    "duration": 6,
    "start_time": "2023-08-29T12:23:40.924Z"
   },
   {
    "duration": 12,
    "start_time": "2023-08-29T12:23:40.932Z"
   },
   {
    "duration": 12,
    "start_time": "2023-08-29T12:23:40.945Z"
   },
   {
    "duration": 25,
    "start_time": "2023-08-29T12:23:40.958Z"
   },
   {
    "duration": 10,
    "start_time": "2023-08-29T12:23:40.986Z"
   },
   {
    "duration": 20,
    "start_time": "2023-08-29T12:23:40.998Z"
   },
   {
    "duration": 7,
    "start_time": "2023-08-29T12:23:41.019Z"
   },
   {
    "duration": 807,
    "start_time": "2023-08-29T12:23:41.028Z"
   },
   {
    "duration": 20,
    "start_time": "2023-08-29T12:23:41.837Z"
   },
   {
    "duration": 7,
    "start_time": "2023-08-29T12:23:41.858Z"
   },
   {
    "duration": 9,
    "start_time": "2023-08-29T12:23:41.867Z"
   },
   {
    "duration": 27,
    "start_time": "2023-08-29T12:23:41.878Z"
   },
   {
    "duration": 10,
    "start_time": "2023-08-29T12:23:41.907Z"
   },
   {
    "duration": 5,
    "start_time": "2023-08-29T12:23:41.918Z"
   },
   {
    "duration": 11,
    "start_time": "2023-08-29T12:23:41.924Z"
   },
   {
    "duration": 7,
    "start_time": "2023-08-29T12:23:41.956Z"
   },
   {
    "duration": 21,
    "start_time": "2023-08-29T12:23:41.965Z"
   },
   {
    "duration": 7,
    "start_time": "2023-08-29T12:23:41.988Z"
   },
   {
    "duration": 11,
    "start_time": "2023-08-29T12:23:41.996Z"
   },
   {
    "duration": 4,
    "start_time": "2023-08-29T12:23:42.009Z"
   },
   {
    "duration": 7,
    "start_time": "2023-08-29T12:23:42.015Z"
   },
   {
    "duration": 199,
    "start_time": "2023-08-29T12:23:42.023Z"
   },
   {
    "duration": 177,
    "start_time": "2023-08-29T12:23:42.225Z"
   },
   {
    "duration": 6,
    "start_time": "2023-08-29T12:23:42.404Z"
   },
   {
    "duration": 98,
    "start_time": "2023-08-29T12:23:42.411Z"
   },
   {
    "duration": 181,
    "start_time": "2023-08-29T12:23:42.510Z"
   },
   {
    "duration": 408,
    "start_time": "2023-08-29T12:23:42.694Z"
   },
   {
    "duration": 9,
    "start_time": "2023-08-29T12:23:43.104Z"
   },
   {
    "duration": 120,
    "start_time": "2023-08-29T12:23:43.115Z"
   },
   {
    "duration": 297,
    "start_time": "2023-08-29T12:23:43.237Z"
   },
   {
    "duration": 10,
    "start_time": "2023-08-29T12:23:43.535Z"
   },
   {
    "duration": 124,
    "start_time": "2023-08-29T12:23:43.559Z"
   },
   {
    "duration": 4,
    "start_time": "2023-08-29T12:23:43.685Z"
   },
   {
    "duration": 11,
    "start_time": "2023-08-29T12:23:43.690Z"
   },
   {
    "duration": 15,
    "start_time": "2023-08-29T12:23:43.703Z"
   },
   {
    "duration": 12,
    "start_time": "2023-08-29T12:23:43.720Z"
   },
   {
    "duration": 23,
    "start_time": "2023-08-29T12:23:43.734Z"
   },
   {
    "duration": 21,
    "start_time": "2023-08-29T12:23:43.758Z"
   },
   {
    "duration": 14,
    "start_time": "2023-08-29T12:23:43.781Z"
   },
   {
    "duration": 13,
    "start_time": "2023-08-29T12:23:43.797Z"
   },
   {
    "duration": 10,
    "start_time": "2023-08-29T12:23:43.811Z"
   },
   {
    "duration": 17,
    "start_time": "2023-08-29T12:23:43.823Z"
   },
   {
    "duration": 8,
    "start_time": "2023-08-29T12:23:43.856Z"
   },
   {
    "duration": 24,
    "start_time": "2023-08-29T12:23:43.867Z"
   },
   {
    "duration": 307,
    "start_time": "2023-08-29T12:23:43.893Z"
   },
   {
    "duration": 10,
    "start_time": "2023-08-29T12:23:44.202Z"
   },
   {
    "duration": 329,
    "start_time": "2023-08-29T12:23:44.214Z"
   },
   {
    "duration": 18,
    "start_time": "2023-08-29T12:23:44.545Z"
   },
   {
    "duration": 285,
    "start_time": "2023-08-29T12:23:44.564Z"
   },
   {
    "duration": 9,
    "start_time": "2023-08-29T12:23:44.855Z"
   },
   {
    "duration": 397,
    "start_time": "2023-08-29T12:23:44.865Z"
   },
   {
    "duration": 9,
    "start_time": "2023-08-29T12:23:45.264Z"
   },
   {
    "duration": 818,
    "start_time": "2023-08-29T12:23:45.274Z"
   },
   {
    "duration": 2,
    "start_time": "2023-08-29T12:23:46.094Z"
   },
   {
    "duration": 23,
    "start_time": "2023-08-29T12:23:46.098Z"
   },
   {
    "duration": 22,
    "start_time": "2023-08-29T12:23:46.123Z"
   },
   {
    "duration": 7,
    "start_time": "2023-08-29T12:23:46.147Z"
   },
   {
    "duration": 8,
    "start_time": "2023-08-29T12:23:46.155Z"
   },
   {
    "duration": 154,
    "start_time": "2023-08-29T12:23:46.165Z"
   },
   {
    "duration": 13,
    "start_time": "2023-08-29T12:23:46.321Z"
   },
   {
    "duration": 15,
    "start_time": "2023-08-29T12:23:46.336Z"
   },
   {
    "duration": 24,
    "start_time": "2023-08-29T12:23:46.355Z"
   },
   {
    "duration": 13,
    "start_time": "2023-08-29T12:23:46.381Z"
   },
   {
    "duration": 29,
    "start_time": "2023-08-29T12:23:46.395Z"
   },
   {
    "duration": 28,
    "start_time": "2023-08-29T12:23:46.426Z"
   },
   {
    "duration": 22,
    "start_time": "2023-08-29T12:23:46.456Z"
   },
   {
    "duration": 22,
    "start_time": "2023-08-29T12:23:46.480Z"
   },
   {
    "duration": 17,
    "start_time": "2023-08-29T12:23:46.504Z"
   },
   {
    "duration": 9,
    "start_time": "2023-08-29T12:23:46.523Z"
   },
   {
    "duration": 12,
    "start_time": "2023-08-29T12:23:46.533Z"
   },
   {
    "duration": 21,
    "start_time": "2023-08-29T12:23:46.546Z"
   },
   {
    "duration": 41,
    "start_time": "2023-08-29T12:23:46.568Z"
   },
   {
    "duration": 33,
    "start_time": "2023-08-29T12:23:46.610Z"
   },
   {
    "duration": 5,
    "start_time": "2023-08-29T12:23:46.645Z"
   },
   {
    "duration": 150,
    "start_time": "2023-08-29T12:23:46.652Z"
   }
  ],
  "kernelspec": {
   "display_name": "Python 3 (ipykernel)",
   "language": "python",
   "name": "python3"
  },
  "language_info": {
   "codemirror_mode": {
    "name": "ipython",
    "version": 3
   },
   "file_extension": ".py",
   "mimetype": "text/x-python",
   "name": "python",
   "nbconvert_exporter": "python",
   "pygments_lexer": "ipython3",
   "version": "3.9.5"
  },
  "toc": {
   "base_numbering": 1,
   "nav_menu": {
    "height": "422px",
    "width": "458px"
   },
   "number_sections": true,
   "sideBar": true,
   "skip_h1_title": true,
   "title_cell": "Table of Contents",
   "title_sidebar": "Contents",
   "toc_cell": false,
   "toc_position": {},
   "toc_section_display": true,
   "toc_window_display": true
  }
 },
 "nbformat": 4,
 "nbformat_minor": 5
}
